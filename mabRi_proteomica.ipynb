{
  "cells": [
    {
      "cell_type": "markdown",
      "metadata": {
        "id": "view-in-github",
        "colab_type": "text"
      },
      "source": [
        "<a href=\"https://colab.research.google.com/github/nicoaira/mabR-proteomics/blob/main/mabRi_proteomica.ipynb\" target=\"_parent\"><img src=\"https://colab.research.google.com/assets/colab-badge.svg\" alt=\"Open In Colab\"/></a>"
      ]
    },
    {
      "cell_type": "markdown",
      "source": [
        "1- Descargas e importaciones"
      ],
      "metadata": {
        "id": "bnroXESnCx-w"
      }
    },
    {
      "cell_type": "code",
      "execution_count": null,
      "metadata": {
        "id": "urA280sXchKd"
      },
      "outputs": [],
      "source": [
        "!pip install padua\n",
        "import pandas as pd\n",
        "import matplotlib.pyplot as plt\n",
        "%load_ext rpy2.ipython\n",
        "import numpy as np\n",
        "import math\n",
        "import padua\n",
        "import scipy"
      ]
    },
    {
      "cell_type": "markdown",
      "source": [
        "2 - Descarga del dataset de datos proteomicos"
      ],
      "metadata": {
        "id": "XmStsfHPCplR"
      }
    },
    {
      "cell_type": "code",
      "source": [
        "!gdown 1uzjgUziJE26X61tQe4vV-NfAyZT8BXrL"
      ],
      "metadata": {
        "colab": {
          "base_uri": "https://localhost:8080/"
        },
        "id": "AzeXHm4nBwIq",
        "outputId": "06c77137-98a2-479e-bc36-cf8400087829"
      },
      "execution_count": 2,
      "outputs": [
        {
          "output_type": "stream",
          "name": "stdout",
          "text": [
            "Downloading...\n",
            "From: https://drive.google.com/uc?id=1uzjgUziJE26X61tQe4vV-NfAyZT8BXrL\n",
            "To: /content/data.txt\n",
            "\r  0% 0.00/5.43M [00:00<?, ?B/s]\r100% 5.43M/5.43M [00:00<00:00, 93.5MB/s]\n"
          ]
        }
      ]
    },
    {
      "cell_type": "markdown",
      "source": [
        "3- Creacion del dataframe"
      ],
      "metadata": {
        "id": "U6DeQtkhDb0s"
      }
    },
    {
      "cell_type": "code",
      "execution_count": 3,
      "metadata": {
        "id": "JzP0zrFH6UxW"
      },
      "outputs": [],
      "source": [
        "df = pd.read_csv(\"data.txt\", sep = '\\t')"
      ]
    },
    {
      "cell_type": "markdown",
      "source": [
        "4- Renombrado de las muestras"
      ],
      "metadata": {
        "id": "YPep7_e6EE6z"
      }
    },
    {
      "cell_type": "code",
      "execution_count": 4,
      "metadata": {
        "id": "6IXz8W5aGb7u"
      },
      "outputs": [],
      "source": [
        "renombrar = {'LFQ intensity Inductor 0 - 1' : 'Sin ATc - 1',\n",
        "             'LFQ intensity Inductor 0 - 2' : 'Sin ATc - 2',\n",
        "             'LFQ intensity Inductor 0 - 3' : 'Sin ATc - 3',\n",
        "             'LFQ intensity Inductor 0 - 5' : 'Sin ATc - 5',\n",
        "             'LFQ intensity Inductor 0.25 - 1' : '0.25 ATc - 1',\n",
        "             'LFQ intensity Inductor 0.25 - 3' : '0.25 ATc - 3',\n",
        "             'LFQ intensity Inductor 0.25 - 4' : '0.25 ATc - 4',\n",
        "             'LFQ intensity Inductor 0.25 - 5' : '0.25 ATc - 5'\n",
        "}\n",
        "\n",
        "df.rename(columns = renombrar, inplace = True)"
      ]
    },
    {
      "cell_type": "code",
      "execution_count": 5,
      "metadata": {
        "id": "jfwD5cz3PM4N"
      },
      "outputs": [],
      "source": [
        "muestras = list(renombrar.values())"
      ]
    },
    {
      "cell_type": "markdown",
      "source": [
        "5- Se filtran las filas categorizadas como:\n",
        "\n",
        "\n",
        "*   Only identified by site\n",
        "*   Reverse\n",
        "*   Potential contaminant"
      ],
      "metadata": {
        "id": "Zzi2ftRzEYAr"
      }
    },
    {
      "cell_type": "code",
      "execution_count": 6,
      "metadata": {
        "id": "E7CpnPf2JJo3"
      },
      "outputs": [],
      "source": [
        "df = df[(df['Only identified by site'] != '+')]\n",
        "df = df[(df['Reverse'] != '+')]\n",
        "df = df[(df['Potential contaminant'] != '+')]"
      ]
    },
    {
      "cell_type": "markdown",
      "source": [
        "Se genera una copia del dataframe (df2) que se utilizará para un procesamiento en paralelo, sin la muestra Sin ATc - 2, la cual tuvo mayor variación"
      ],
      "metadata": {
        "id": "0yYmFBUGFl5l"
      }
    },
    {
      "cell_type": "code",
      "source": [
        "df2 = df.copy()"
      ],
      "metadata": {
        "id": "ZjR3GDoVRzkR"
      },
      "execution_count": 7,
      "outputs": []
    },
    {
      "cell_type": "markdown",
      "metadata": {
        "id": "oPOZmxqjZWSH"
      },
      "source": [
        "6- Se filtran las filas en los que en ninguno de los grupos hay mas de tres mediciones"
      ]
    },
    {
      "cell_type": "code",
      "execution_count": 8,
      "metadata": {
        "id": "0j52suu6X4Oe"
      },
      "outputs": [],
      "source": [
        "df['conteo_0'] = (df[muestras[:4]] != 0 ).sum(axis=1)\n",
        "df['conteo_0.25'] = (df[muestras[4:]] != 0 ).sum(axis=1)\n",
        "\n",
        "df = df[(df['conteo_0'] >= 3) | (df['conteo_0.25'] >= 3)]"
      ]
    },
    {
      "cell_type": "code",
      "execution_count": 9,
      "metadata": {
        "id": "0lk5M3ieZ7FL",
        "colab": {
          "base_uri": "https://localhost:8080/"
        },
        "outputId": "fd7b0501-152d-4675-e88f-9791892d5e5b"
      },
      "outputs": [
        {
          "output_type": "stream",
          "name": "stdout",
          "text": [
            "Cantidad de filas restantes: 2191\n"
          ]
        }
      ],
      "source": [
        "print('Cantidad de filas restantes:', df.shape[0])"
      ]
    },
    {
      "cell_type": "markdown",
      "source": [
        "7- Se cambian los 0 por NaNs"
      ],
      "metadata": {
        "id": "Km-QTRQaE745"
      }
    },
    {
      "cell_type": "code",
      "execution_count": 10,
      "metadata": {
        "id": "f9mqgfTDbQo8"
      },
      "outputs": [],
      "source": [
        "def fill_na(x):\n",
        "  if x == 0:\n",
        "    a = np.nan\n",
        "  else:\n",
        "    a = math.log(x, 2)\n",
        "    return a"
      ]
    },
    {
      "cell_type": "code",
      "execution_count": 11,
      "metadata": {
        "id": "RfL0c4pjaWnO"
      },
      "outputs": [],
      "source": [
        "log_muestras = []\n",
        "for muestra in muestras:\n",
        "  nombre = 'log_' + muestra\n",
        "  log_muestras.append(nombre)\n",
        "  df[nombre] = df[muestra].apply(fill_na)"
      ]
    },
    {
      "cell_type": "markdown",
      "metadata": {
        "id": "8Xr9OwNKoSvy"
      },
      "source": [
        "8- Para imputar los valores no leidos. Se genera una distribucion normal en cada columna y se samplean numeros aleatorios de la parte central de esa campana (el ancho de la campana usado es el argumento width). Despues se hace un dowshift de 1.8 unidades de desvio estandar. Esto se hace porque en general los valores que no fueron leidos es porque tienen baja abundancia, por lo que se asume que estarán en la cola izquierda de la distribución."
      ]
    },
    {
      "cell_type": "code",
      "execution_count": 12,
      "metadata": {
        "id": "U-MX5Rk_mPjj"
      },
      "outputs": [],
      "source": [
        "df[log_muestras] = padua.imputation.gaussian(df[log_muestras], width=0.3, downshift=-1.8, prefix=None)[0]"
      ]
    },
    {
      "cell_type": "markdown",
      "source": [
        "Una muestra de como queda formateado el dataframe"
      ],
      "metadata": {
        "id": "Mx86D9vxFY_6"
      }
    },
    {
      "cell_type": "code",
      "execution_count": 13,
      "metadata": {
        "id": "3ewrP_bgo8ID",
        "colab": {
          "base_uri": "https://localhost:8080/",
          "height": 206
        },
        "outputId": "6d235e6d-e07f-40f9-b52a-9d7b48074f7f"
      },
      "outputs": [
        {
          "output_type": "execute_result",
          "data": {
            "text/plain": [
              "   log_Sin ATc - 1  log_Sin ATc - 2  log_Sin ATc - 3  log_Sin ATc - 5  \\\n",
              "0        27.595838        28.067688        27.777748        27.854955   \n",
              "1        29.931287        30.263605        29.904692        30.127802   \n",
              "2        26.365246        26.567178        26.213693        26.468865   \n",
              "3        29.538455        30.131241        29.503606        29.578145   \n",
              "4        29.565327        30.468593        29.616265        29.670134   \n",
              "\n",
              "   log_0.25 ATc - 1  log_0.25 ATc - 3  log_0.25 ATc - 4  log_0.25 ATc - 5  \n",
              "0         27.409489         27.409003         27.464353         27.300424  \n",
              "1         28.925356         29.666651         29.542354         29.794299  \n",
              "2         25.503822         25.885625         25.904284         25.964970  \n",
              "3         29.558774         29.478887         29.498327         28.890817  \n",
              "4         29.473285         29.586545         29.496614         28.570873  "
            ],
            "text/html": [
              "\n",
              "  <div id=\"df-42447803-c056-4cb7-a5e4-41e533816222\">\n",
              "    <div class=\"colab-df-container\">\n",
              "      <div>\n",
              "<style scoped>\n",
              "    .dataframe tbody tr th:only-of-type {\n",
              "        vertical-align: middle;\n",
              "    }\n",
              "\n",
              "    .dataframe tbody tr th {\n",
              "        vertical-align: top;\n",
              "    }\n",
              "\n",
              "    .dataframe thead th {\n",
              "        text-align: right;\n",
              "    }\n",
              "</style>\n",
              "<table border=\"1\" class=\"dataframe\">\n",
              "  <thead>\n",
              "    <tr style=\"text-align: right;\">\n",
              "      <th></th>\n",
              "      <th>log_Sin ATc - 1</th>\n",
              "      <th>log_Sin ATc - 2</th>\n",
              "      <th>log_Sin ATc - 3</th>\n",
              "      <th>log_Sin ATc - 5</th>\n",
              "      <th>log_0.25 ATc - 1</th>\n",
              "      <th>log_0.25 ATc - 3</th>\n",
              "      <th>log_0.25 ATc - 4</th>\n",
              "      <th>log_0.25 ATc - 5</th>\n",
              "    </tr>\n",
              "  </thead>\n",
              "  <tbody>\n",
              "    <tr>\n",
              "      <th>0</th>\n",
              "      <td>27.595838</td>\n",
              "      <td>28.067688</td>\n",
              "      <td>27.777748</td>\n",
              "      <td>27.854955</td>\n",
              "      <td>27.409489</td>\n",
              "      <td>27.409003</td>\n",
              "      <td>27.464353</td>\n",
              "      <td>27.300424</td>\n",
              "    </tr>\n",
              "    <tr>\n",
              "      <th>1</th>\n",
              "      <td>29.931287</td>\n",
              "      <td>30.263605</td>\n",
              "      <td>29.904692</td>\n",
              "      <td>30.127802</td>\n",
              "      <td>28.925356</td>\n",
              "      <td>29.666651</td>\n",
              "      <td>29.542354</td>\n",
              "      <td>29.794299</td>\n",
              "    </tr>\n",
              "    <tr>\n",
              "      <th>2</th>\n",
              "      <td>26.365246</td>\n",
              "      <td>26.567178</td>\n",
              "      <td>26.213693</td>\n",
              "      <td>26.468865</td>\n",
              "      <td>25.503822</td>\n",
              "      <td>25.885625</td>\n",
              "      <td>25.904284</td>\n",
              "      <td>25.964970</td>\n",
              "    </tr>\n",
              "    <tr>\n",
              "      <th>3</th>\n",
              "      <td>29.538455</td>\n",
              "      <td>30.131241</td>\n",
              "      <td>29.503606</td>\n",
              "      <td>29.578145</td>\n",
              "      <td>29.558774</td>\n",
              "      <td>29.478887</td>\n",
              "      <td>29.498327</td>\n",
              "      <td>28.890817</td>\n",
              "    </tr>\n",
              "    <tr>\n",
              "      <th>4</th>\n",
              "      <td>29.565327</td>\n",
              "      <td>30.468593</td>\n",
              "      <td>29.616265</td>\n",
              "      <td>29.670134</td>\n",
              "      <td>29.473285</td>\n",
              "      <td>29.586545</td>\n",
              "      <td>29.496614</td>\n",
              "      <td>28.570873</td>\n",
              "    </tr>\n",
              "  </tbody>\n",
              "</table>\n",
              "</div>\n",
              "      <button class=\"colab-df-convert\" onclick=\"convertToInteractive('df-42447803-c056-4cb7-a5e4-41e533816222')\"\n",
              "              title=\"Convert this dataframe to an interactive table.\"\n",
              "              style=\"display:none;\">\n",
              "        \n",
              "  <svg xmlns=\"http://www.w3.org/2000/svg\" height=\"24px\"viewBox=\"0 0 24 24\"\n",
              "       width=\"24px\">\n",
              "    <path d=\"M0 0h24v24H0V0z\" fill=\"none\"/>\n",
              "    <path d=\"M18.56 5.44l.94 2.06.94-2.06 2.06-.94-2.06-.94-.94-2.06-.94 2.06-2.06.94zm-11 1L8.5 8.5l.94-2.06 2.06-.94-2.06-.94L8.5 2.5l-.94 2.06-2.06.94zm10 10l.94 2.06.94-2.06 2.06-.94-2.06-.94-.94-2.06-.94 2.06-2.06.94z\"/><path d=\"M17.41 7.96l-1.37-1.37c-.4-.4-.92-.59-1.43-.59-.52 0-1.04.2-1.43.59L10.3 9.45l-7.72 7.72c-.78.78-.78 2.05 0 2.83L4 21.41c.39.39.9.59 1.41.59.51 0 1.02-.2 1.41-.59l7.78-7.78 2.81-2.81c.8-.78.8-2.07 0-2.86zM5.41 20L4 18.59l7.72-7.72 1.47 1.35L5.41 20z\"/>\n",
              "  </svg>\n",
              "      </button>\n",
              "      \n",
              "  <style>\n",
              "    .colab-df-container {\n",
              "      display:flex;\n",
              "      flex-wrap:wrap;\n",
              "      gap: 12px;\n",
              "    }\n",
              "\n",
              "    .colab-df-convert {\n",
              "      background-color: #E8F0FE;\n",
              "      border: none;\n",
              "      border-radius: 50%;\n",
              "      cursor: pointer;\n",
              "      display: none;\n",
              "      fill: #1967D2;\n",
              "      height: 32px;\n",
              "      padding: 0 0 0 0;\n",
              "      width: 32px;\n",
              "    }\n",
              "\n",
              "    .colab-df-convert:hover {\n",
              "      background-color: #E2EBFA;\n",
              "      box-shadow: 0px 1px 2px rgba(60, 64, 67, 0.3), 0px 1px 3px 1px rgba(60, 64, 67, 0.15);\n",
              "      fill: #174EA6;\n",
              "    }\n",
              "\n",
              "    [theme=dark] .colab-df-convert {\n",
              "      background-color: #3B4455;\n",
              "      fill: #D2E3FC;\n",
              "    }\n",
              "\n",
              "    [theme=dark] .colab-df-convert:hover {\n",
              "      background-color: #434B5C;\n",
              "      box-shadow: 0px 1px 3px 1px rgba(0, 0, 0, 0.15);\n",
              "      filter: drop-shadow(0px 1px 2px rgba(0, 0, 0, 0.3));\n",
              "      fill: #FFFFFF;\n",
              "    }\n",
              "  </style>\n",
              "\n",
              "      <script>\n",
              "        const buttonEl =\n",
              "          document.querySelector('#df-42447803-c056-4cb7-a5e4-41e533816222 button.colab-df-convert');\n",
              "        buttonEl.style.display =\n",
              "          google.colab.kernel.accessAllowed ? 'block' : 'none';\n",
              "\n",
              "        async function convertToInteractive(key) {\n",
              "          const element = document.querySelector('#df-42447803-c056-4cb7-a5e4-41e533816222');\n",
              "          const dataTable =\n",
              "            await google.colab.kernel.invokeFunction('convertToInteractive',\n",
              "                                                     [key], {});\n",
              "          if (!dataTable) return;\n",
              "\n",
              "          const docLinkHtml = 'Like what you see? Visit the ' +\n",
              "            '<a target=\"_blank\" href=https://colab.research.google.com/notebooks/data_table.ipynb>data table notebook</a>'\n",
              "            + ' to learn more about interactive tables.';\n",
              "          element.innerHTML = '';\n",
              "          dataTable['output_type'] = 'display_data';\n",
              "          await google.colab.output.renderOutput(dataTable, element);\n",
              "          const docLink = document.createElement('div');\n",
              "          docLink.innerHTML = docLinkHtml;\n",
              "          element.appendChild(docLink);\n",
              "        }\n",
              "      </script>\n",
              "    </div>\n",
              "  </div>\n",
              "  "
            ]
          },
          "metadata": {},
          "execution_count": 13
        }
      ],
      "source": [
        "df[log_muestras].head(5)"
      ]
    },
    {
      "cell_type": "markdown",
      "source": [
        "9- Se realiza un t-test en cada peptido para conocer el p-value entre las muestras con y sin ATc"
      ],
      "metadata": {
        "id": "nk5VEwXOF6Z0"
      }
    },
    {
      "cell_type": "code",
      "execution_count": 14,
      "metadata": {
        "id": "O-EbQfNAgFM7"
      },
      "outputs": [],
      "source": [
        "df['pvalue'] = scipy.stats.ttest_ind(df[log_muestras[:4]], df[log_muestras[4:]], axis=1)[1]"
      ]
    },
    {
      "cell_type": "markdown",
      "source": [
        "10- Se computa el log10 del p-value para luego graficarlo"
      ],
      "metadata": {
        "id": "0r5_KvqZGXgH"
      }
    },
    {
      "cell_type": "code",
      "execution_count": 15,
      "metadata": {
        "id": "FC97L93vh0jh"
      },
      "outputs": [],
      "source": [
        "df['log_pvalue'] = df['pvalue'].apply(lambda x: math.log(x, 10))"
      ]
    },
    {
      "cell_type": "code",
      "execution_count": 16,
      "metadata": {
        "id": "EQW71yuKjAa7",
        "colab": {
          "base_uri": "https://localhost:8080/",
          "height": 206
        },
        "outputId": "8073b48a-9100-4a52-adab-0955e63f027b"
      },
      "outputs": [
        {
          "output_type": "execute_result",
          "data": {
            "text/plain": [
              "     pvalue  log_pvalue\n",
              "0  0.006112   -2.213852\n",
              "1  0.034194   -1.466051\n",
              "2  0.003878   -2.411419\n",
              "3  0.175435   -0.755884\n",
              "4  0.137678   -0.861134"
            ],
            "text/html": [
              "\n",
              "  <div id=\"df-bc5aef94-bfb3-4bf6-981f-236f19542363\">\n",
              "    <div class=\"colab-df-container\">\n",
              "      <div>\n",
              "<style scoped>\n",
              "    .dataframe tbody tr th:only-of-type {\n",
              "        vertical-align: middle;\n",
              "    }\n",
              "\n",
              "    .dataframe tbody tr th {\n",
              "        vertical-align: top;\n",
              "    }\n",
              "\n",
              "    .dataframe thead th {\n",
              "        text-align: right;\n",
              "    }\n",
              "</style>\n",
              "<table border=\"1\" class=\"dataframe\">\n",
              "  <thead>\n",
              "    <tr style=\"text-align: right;\">\n",
              "      <th></th>\n",
              "      <th>pvalue</th>\n",
              "      <th>log_pvalue</th>\n",
              "    </tr>\n",
              "  </thead>\n",
              "  <tbody>\n",
              "    <tr>\n",
              "      <th>0</th>\n",
              "      <td>0.006112</td>\n",
              "      <td>-2.213852</td>\n",
              "    </tr>\n",
              "    <tr>\n",
              "      <th>1</th>\n",
              "      <td>0.034194</td>\n",
              "      <td>-1.466051</td>\n",
              "    </tr>\n",
              "    <tr>\n",
              "      <th>2</th>\n",
              "      <td>0.003878</td>\n",
              "      <td>-2.411419</td>\n",
              "    </tr>\n",
              "    <tr>\n",
              "      <th>3</th>\n",
              "      <td>0.175435</td>\n",
              "      <td>-0.755884</td>\n",
              "    </tr>\n",
              "    <tr>\n",
              "      <th>4</th>\n",
              "      <td>0.137678</td>\n",
              "      <td>-0.861134</td>\n",
              "    </tr>\n",
              "  </tbody>\n",
              "</table>\n",
              "</div>\n",
              "      <button class=\"colab-df-convert\" onclick=\"convertToInteractive('df-bc5aef94-bfb3-4bf6-981f-236f19542363')\"\n",
              "              title=\"Convert this dataframe to an interactive table.\"\n",
              "              style=\"display:none;\">\n",
              "        \n",
              "  <svg xmlns=\"http://www.w3.org/2000/svg\" height=\"24px\"viewBox=\"0 0 24 24\"\n",
              "       width=\"24px\">\n",
              "    <path d=\"M0 0h24v24H0V0z\" fill=\"none\"/>\n",
              "    <path d=\"M18.56 5.44l.94 2.06.94-2.06 2.06-.94-2.06-.94-.94-2.06-.94 2.06-2.06.94zm-11 1L8.5 8.5l.94-2.06 2.06-.94-2.06-.94L8.5 2.5l-.94 2.06-2.06.94zm10 10l.94 2.06.94-2.06 2.06-.94-2.06-.94-.94-2.06-.94 2.06-2.06.94z\"/><path d=\"M17.41 7.96l-1.37-1.37c-.4-.4-.92-.59-1.43-.59-.52 0-1.04.2-1.43.59L10.3 9.45l-7.72 7.72c-.78.78-.78 2.05 0 2.83L4 21.41c.39.39.9.59 1.41.59.51 0 1.02-.2 1.41-.59l7.78-7.78 2.81-2.81c.8-.78.8-2.07 0-2.86zM5.41 20L4 18.59l7.72-7.72 1.47 1.35L5.41 20z\"/>\n",
              "  </svg>\n",
              "      </button>\n",
              "      \n",
              "  <style>\n",
              "    .colab-df-container {\n",
              "      display:flex;\n",
              "      flex-wrap:wrap;\n",
              "      gap: 12px;\n",
              "    }\n",
              "\n",
              "    .colab-df-convert {\n",
              "      background-color: #E8F0FE;\n",
              "      border: none;\n",
              "      border-radius: 50%;\n",
              "      cursor: pointer;\n",
              "      display: none;\n",
              "      fill: #1967D2;\n",
              "      height: 32px;\n",
              "      padding: 0 0 0 0;\n",
              "      width: 32px;\n",
              "    }\n",
              "\n",
              "    .colab-df-convert:hover {\n",
              "      background-color: #E2EBFA;\n",
              "      box-shadow: 0px 1px 2px rgba(60, 64, 67, 0.3), 0px 1px 3px 1px rgba(60, 64, 67, 0.15);\n",
              "      fill: #174EA6;\n",
              "    }\n",
              "\n",
              "    [theme=dark] .colab-df-convert {\n",
              "      background-color: #3B4455;\n",
              "      fill: #D2E3FC;\n",
              "    }\n",
              "\n",
              "    [theme=dark] .colab-df-convert:hover {\n",
              "      background-color: #434B5C;\n",
              "      box-shadow: 0px 1px 3px 1px rgba(0, 0, 0, 0.15);\n",
              "      filter: drop-shadow(0px 1px 2px rgba(0, 0, 0, 0.3));\n",
              "      fill: #FFFFFF;\n",
              "    }\n",
              "  </style>\n",
              "\n",
              "      <script>\n",
              "        const buttonEl =\n",
              "          document.querySelector('#df-bc5aef94-bfb3-4bf6-981f-236f19542363 button.colab-df-convert');\n",
              "        buttonEl.style.display =\n",
              "          google.colab.kernel.accessAllowed ? 'block' : 'none';\n",
              "\n",
              "        async function convertToInteractive(key) {\n",
              "          const element = document.querySelector('#df-bc5aef94-bfb3-4bf6-981f-236f19542363');\n",
              "          const dataTable =\n",
              "            await google.colab.kernel.invokeFunction('convertToInteractive',\n",
              "                                                     [key], {});\n",
              "          if (!dataTable) return;\n",
              "\n",
              "          const docLinkHtml = 'Like what you see? Visit the ' +\n",
              "            '<a target=\"_blank\" href=https://colab.research.google.com/notebooks/data_table.ipynb>data table notebook</a>'\n",
              "            + ' to learn more about interactive tables.';\n",
              "          element.innerHTML = '';\n",
              "          dataTable['output_type'] = 'display_data';\n",
              "          await google.colab.output.renderOutput(dataTable, element);\n",
              "          const docLink = document.createElement('div');\n",
              "          docLink.innerHTML = docLinkHtml;\n",
              "          element.appendChild(docLink);\n",
              "        }\n",
              "      </script>\n",
              "    </div>\n",
              "  </div>\n",
              "  "
            ]
          },
          "metadata": {},
          "execution_count": 16
        }
      ],
      "source": [
        "df[['pvalue','log_pvalue']].head()"
      ]
    },
    {
      "cell_type": "markdown",
      "source": [
        "11- Las columnas de \"muestras\" que contienen los valores de las intensidades continenen ceros que deben rellenarse con los datos de imputación. Para esto, se cambian por los valores del log2 de las intensidades elevandolas al cuadrado. En los casos en que no hubo imputación debería devolver el mismo valor de intensidad original y en los casos en los que hubo imputación devuelve el nuevo valor imputado"
      ],
      "metadata": {
        "id": "ljGEycqHJ6rl"
      }
    },
    {
      "cell_type": "code",
      "source": [
        "df[muestras[:]].iloc[12]"
      ],
      "metadata": {
        "colab": {
          "base_uri": "https://localhost:8080/"
        },
        "id": "KHfw5WqPKkCf",
        "outputId": "5ca11e96-0ecb-419b-8143-312c7dfd54f4"
      },
      "execution_count": 17,
      "outputs": [
        {
          "output_type": "execute_result",
          "data": {
            "text/plain": [
              "Sin ATc - 1     20436000.0\n",
              "Sin ATc - 2     27112000.0\n",
              "Sin ATc - 3            0.0\n",
              "Sin ATc - 5            0.0\n",
              "0.25 ATc - 1           0.0\n",
              "0.25 ATc - 3    20418000.0\n",
              "0.25 ATc - 4    34781000.0\n",
              "0.25 ATc - 5    15807000.0\n",
              "Name: 14, dtype: float64"
            ]
          },
          "metadata": {},
          "execution_count": 17
        }
      ]
    },
    {
      "cell_type": "code",
      "execution_count": 18,
      "metadata": {
        "id": "gsU33PsT5RcM"
      },
      "outputs": [],
      "source": [
        "for muestra in muestras:\n",
        "  nombre = 'log_' + muestra\n",
        "  df[muestra] =  2 ** df[nombre]"
      ]
    },
    {
      "cell_type": "code",
      "execution_count": 19,
      "metadata": {
        "id": "8bZjQud46Ydf",
        "colab": {
          "base_uri": "https://localhost:8080/"
        },
        "outputId": "d0a40510-e17b-4898-82d8-036883278072"
      },
      "outputs": [
        {
          "output_type": "execute_result",
          "data": {
            "text/plain": [
              "Sin ATc - 1     2.043600e+07\n",
              "Sin ATc - 2     2.711200e+07\n",
              "Sin ATc - 3     1.633552e+07\n",
              "Sin ATc - 5     7.871172e+06\n",
              "0.25 ATc - 1    6.402082e+06\n",
              "0.25 ATc - 3    2.041800e+07\n",
              "0.25 ATc - 4    3.478100e+07\n",
              "0.25 ATc - 5    1.580700e+07\n",
              "Name: 14, dtype: float64"
            ]
          },
          "metadata": {},
          "execution_count": 19
        }
      ],
      "source": [
        "df[muestras[:]].iloc[12]"
      ]
    },
    {
      "cell_type": "markdown",
      "source": [
        "12- Calculo del fold change y el log2 del fold change en cada fila"
      ],
      "metadata": {
        "id": "6AG8D8NaKnHA"
      }
    },
    {
      "cell_type": "code",
      "execution_count": 20,
      "metadata": {
        "id": "DmmOenOPjvdL"
      },
      "outputs": [],
      "source": [
        "df['fold_change'] = df[muestras[4:]].mean(axis=1)/df[muestras[:4]].mean(axis=1)"
      ]
    },
    {
      "cell_type": "code",
      "execution_count": 21,
      "metadata": {
        "id": "dduXyYGEkPxO"
      },
      "outputs": [],
      "source": [
        "df['log_fc'] = df['fold_change'].apply(lambda x: math.log(x, 2))"
      ]
    },
    {
      "cell_type": "code",
      "execution_count": 22,
      "metadata": {
        "id": "sDvmHMMymzEh",
        "colab": {
          "base_uri": "https://localhost:8080/",
          "height": 206
        },
        "outputId": "3c616d55-8dfb-4580-bfc7-49cefd762dbb"
      },
      "outputs": [
        {
          "output_type": "execute_result",
          "data": {
            "text/plain": [
              "     log_fc  log_pvalue\n",
              "0 -0.436986   -2.213852\n",
              "1 -0.546506   -1.466051\n",
              "2 -0.584018   -2.411419\n",
              "3 -0.332002   -0.755884\n",
              "4 -0.547500   -0.861134"
            ],
            "text/html": [
              "\n",
              "  <div id=\"df-b69bb0e7-1871-448d-9d00-c17a624e5c48\">\n",
              "    <div class=\"colab-df-container\">\n",
              "      <div>\n",
              "<style scoped>\n",
              "    .dataframe tbody tr th:only-of-type {\n",
              "        vertical-align: middle;\n",
              "    }\n",
              "\n",
              "    .dataframe tbody tr th {\n",
              "        vertical-align: top;\n",
              "    }\n",
              "\n",
              "    .dataframe thead th {\n",
              "        text-align: right;\n",
              "    }\n",
              "</style>\n",
              "<table border=\"1\" class=\"dataframe\">\n",
              "  <thead>\n",
              "    <tr style=\"text-align: right;\">\n",
              "      <th></th>\n",
              "      <th>log_fc</th>\n",
              "      <th>log_pvalue</th>\n",
              "    </tr>\n",
              "  </thead>\n",
              "  <tbody>\n",
              "    <tr>\n",
              "      <th>0</th>\n",
              "      <td>-0.436986</td>\n",
              "      <td>-2.213852</td>\n",
              "    </tr>\n",
              "    <tr>\n",
              "      <th>1</th>\n",
              "      <td>-0.546506</td>\n",
              "      <td>-1.466051</td>\n",
              "    </tr>\n",
              "    <tr>\n",
              "      <th>2</th>\n",
              "      <td>-0.584018</td>\n",
              "      <td>-2.411419</td>\n",
              "    </tr>\n",
              "    <tr>\n",
              "      <th>3</th>\n",
              "      <td>-0.332002</td>\n",
              "      <td>-0.755884</td>\n",
              "    </tr>\n",
              "    <tr>\n",
              "      <th>4</th>\n",
              "      <td>-0.547500</td>\n",
              "      <td>-0.861134</td>\n",
              "    </tr>\n",
              "  </tbody>\n",
              "</table>\n",
              "</div>\n",
              "      <button class=\"colab-df-convert\" onclick=\"convertToInteractive('df-b69bb0e7-1871-448d-9d00-c17a624e5c48')\"\n",
              "              title=\"Convert this dataframe to an interactive table.\"\n",
              "              style=\"display:none;\">\n",
              "        \n",
              "  <svg xmlns=\"http://www.w3.org/2000/svg\" height=\"24px\"viewBox=\"0 0 24 24\"\n",
              "       width=\"24px\">\n",
              "    <path d=\"M0 0h24v24H0V0z\" fill=\"none\"/>\n",
              "    <path d=\"M18.56 5.44l.94 2.06.94-2.06 2.06-.94-2.06-.94-.94-2.06-.94 2.06-2.06.94zm-11 1L8.5 8.5l.94-2.06 2.06-.94-2.06-.94L8.5 2.5l-.94 2.06-2.06.94zm10 10l.94 2.06.94-2.06 2.06-.94-2.06-.94-.94-2.06-.94 2.06-2.06.94z\"/><path d=\"M17.41 7.96l-1.37-1.37c-.4-.4-.92-.59-1.43-.59-.52 0-1.04.2-1.43.59L10.3 9.45l-7.72 7.72c-.78.78-.78 2.05 0 2.83L4 21.41c.39.39.9.59 1.41.59.51 0 1.02-.2 1.41-.59l7.78-7.78 2.81-2.81c.8-.78.8-2.07 0-2.86zM5.41 20L4 18.59l7.72-7.72 1.47 1.35L5.41 20z\"/>\n",
              "  </svg>\n",
              "      </button>\n",
              "      \n",
              "  <style>\n",
              "    .colab-df-container {\n",
              "      display:flex;\n",
              "      flex-wrap:wrap;\n",
              "      gap: 12px;\n",
              "    }\n",
              "\n",
              "    .colab-df-convert {\n",
              "      background-color: #E8F0FE;\n",
              "      border: none;\n",
              "      border-radius: 50%;\n",
              "      cursor: pointer;\n",
              "      display: none;\n",
              "      fill: #1967D2;\n",
              "      height: 32px;\n",
              "      padding: 0 0 0 0;\n",
              "      width: 32px;\n",
              "    }\n",
              "\n",
              "    .colab-df-convert:hover {\n",
              "      background-color: #E2EBFA;\n",
              "      box-shadow: 0px 1px 2px rgba(60, 64, 67, 0.3), 0px 1px 3px 1px rgba(60, 64, 67, 0.15);\n",
              "      fill: #174EA6;\n",
              "    }\n",
              "\n",
              "    [theme=dark] .colab-df-convert {\n",
              "      background-color: #3B4455;\n",
              "      fill: #D2E3FC;\n",
              "    }\n",
              "\n",
              "    [theme=dark] .colab-df-convert:hover {\n",
              "      background-color: #434B5C;\n",
              "      box-shadow: 0px 1px 3px 1px rgba(0, 0, 0, 0.15);\n",
              "      filter: drop-shadow(0px 1px 2px rgba(0, 0, 0, 0.3));\n",
              "      fill: #FFFFFF;\n",
              "    }\n",
              "  </style>\n",
              "\n",
              "      <script>\n",
              "        const buttonEl =\n",
              "          document.querySelector('#df-b69bb0e7-1871-448d-9d00-c17a624e5c48 button.colab-df-convert');\n",
              "        buttonEl.style.display =\n",
              "          google.colab.kernel.accessAllowed ? 'block' : 'none';\n",
              "\n",
              "        async function convertToInteractive(key) {\n",
              "          const element = document.querySelector('#df-b69bb0e7-1871-448d-9d00-c17a624e5c48');\n",
              "          const dataTable =\n",
              "            await google.colab.kernel.invokeFunction('convertToInteractive',\n",
              "                                                     [key], {});\n",
              "          if (!dataTable) return;\n",
              "\n",
              "          const docLinkHtml = 'Like what you see? Visit the ' +\n",
              "            '<a target=\"_blank\" href=https://colab.research.google.com/notebooks/data_table.ipynb>data table notebook</a>'\n",
              "            + ' to learn more about interactive tables.';\n",
              "          element.innerHTML = '';\n",
              "          dataTable['output_type'] = 'display_data';\n",
              "          await google.colab.output.renderOutput(dataTable, element);\n",
              "          const docLink = document.createElement('div');\n",
              "          docLink.innerHTML = docLinkHtml;\n",
              "          element.appendChild(docLink);\n",
              "        }\n",
              "      </script>\n",
              "    </div>\n",
              "  </div>\n",
              "  "
            ]
          },
          "metadata": {},
          "execution_count": 22
        }
      ],
      "source": [
        "df[['log_fc', 'log_pvalue']].head()"
      ]
    },
    {
      "cell_type": "markdown",
      "source": [
        "13- Descarga del dataframe para mapear los codigos de uniprot de Mtb H37Ra con los locus de Mtb H37Rv"
      ],
      "metadata": {
        "id": "iHZu5NfFLWjA"
      }
    },
    {
      "cell_type": "code",
      "execution_count": 23,
      "metadata": {
        "id": "uAX6J_CyBK-j",
        "colab": {
          "base_uri": "https://localhost:8080/"
        },
        "outputId": "ae94cac7-ef78-4acc-8fe5-91853b48f68a"
      },
      "outputs": [
        {
          "output_type": "stream",
          "name": "stdout",
          "text": [
            "Downloading...\n",
            "From: https://drive.google.com/uc?id=18E0ns3U_6a2UIA2QNv6o8ExIWAkIQW3R\n",
            "To: /content/ra_rv_dataset.csv\n",
            "\r  0% 0.00/505k [00:00<?, ?B/s]\r100% 505k/505k [00:00<00:00, 114MB/s]\n"
          ]
        }
      ],
      "source": [
        "!gdown 18E0ns3U_6a2UIA2QNv6o8ExIWAkIQW3R"
      ]
    },
    {
      "cell_type": "code",
      "source": [
        "df_rv_ra = pd.read_csv('ra_rv_dataset.csv')"
      ],
      "metadata": {
        "id": "GOkuJeTqLIc8"
      },
      "execution_count": 24,
      "outputs": []
    },
    {
      "cell_type": "code",
      "execution_count": 25,
      "metadata": {
        "id": "Nn0gS4sEDgm-",
        "colab": {
          "base_uri": "https://localhost:8080/",
          "height": 206
        },
        "outputId": "f73706c9-a2f7-4c3b-9d95-f314e13c70e5"
      },
      "outputs": [
        {
          "output_type": "execute_result",
          "data": {
            "text/plain": [
              "  Index Locus tag            Ra Ra_UNIPROT       #Name    Accession   Start  \\\n",
              "0     0    Rv0001  mra:MRA_0001     A5TY69  chromosome  NC_000962.3     1.0   \n",
              "1     1    Rv0002  mra:MRA_0002     A5TY70  chromosome  NC_000962.3  2052.0   \n",
              "2     2    Rv0003  mra:MRA_0003     A5TY71  chromosome  NC_000962.3  3280.0   \n",
              "3     3    Rv0004  mra:MRA_0004     A5TY72  chromosome  NC_000962.3  4434.0   \n",
              "4     4    Rv0005  mra:MRA_0005     A5TY73  chromosome  NC_000962.3  5240.0   \n",
              "\n",
              "     Stop Strand    GeneID Locus Protein product  Length  \\\n",
              "0  1524.0      +  885041.0  dnaA     NP_214515.1   507.0   \n",
              "1  3260.0      +  887092.0  dnaN     NP_214516.1   402.0   \n",
              "2  4437.0      +  887089.0  recF     NP_214517.1   385.0   \n",
              "3  4997.0      +  887088.0   NaN     NP_214518.1   187.0   \n",
              "4  7267.0      +  887081.0  gyrB     NP_214519.2   675.0   \n",
              "\n",
              "                                     Protein Name  \n",
              "0  chromosomal replication initiator protein DnaA  \n",
              "1                 DNA polymerase III subunit beta  \n",
              "2             DNA replication/repair protein RecF  \n",
              "3                     hypothetical protein Rv0004  \n",
              "4                            DNA gyrase subunit B  "
            ],
            "text/html": [
              "\n",
              "  <div id=\"df-159e1263-8a34-447c-9376-9a9f7cbdc81e\">\n",
              "    <div class=\"colab-df-container\">\n",
              "      <div>\n",
              "<style scoped>\n",
              "    .dataframe tbody tr th:only-of-type {\n",
              "        vertical-align: middle;\n",
              "    }\n",
              "\n",
              "    .dataframe tbody tr th {\n",
              "        vertical-align: top;\n",
              "    }\n",
              "\n",
              "    .dataframe thead th {\n",
              "        text-align: right;\n",
              "    }\n",
              "</style>\n",
              "<table border=\"1\" class=\"dataframe\">\n",
              "  <thead>\n",
              "    <tr style=\"text-align: right;\">\n",
              "      <th></th>\n",
              "      <th>Index</th>\n",
              "      <th>Locus tag</th>\n",
              "      <th>Ra</th>\n",
              "      <th>Ra_UNIPROT</th>\n",
              "      <th>#Name</th>\n",
              "      <th>Accession</th>\n",
              "      <th>Start</th>\n",
              "      <th>Stop</th>\n",
              "      <th>Strand</th>\n",
              "      <th>GeneID</th>\n",
              "      <th>Locus</th>\n",
              "      <th>Protein product</th>\n",
              "      <th>Length</th>\n",
              "      <th>Protein Name</th>\n",
              "    </tr>\n",
              "  </thead>\n",
              "  <tbody>\n",
              "    <tr>\n",
              "      <th>0</th>\n",
              "      <td>0</td>\n",
              "      <td>Rv0001</td>\n",
              "      <td>mra:MRA_0001</td>\n",
              "      <td>A5TY69</td>\n",
              "      <td>chromosome</td>\n",
              "      <td>NC_000962.3</td>\n",
              "      <td>1.0</td>\n",
              "      <td>1524.0</td>\n",
              "      <td>+</td>\n",
              "      <td>885041.0</td>\n",
              "      <td>dnaA</td>\n",
              "      <td>NP_214515.1</td>\n",
              "      <td>507.0</td>\n",
              "      <td>chromosomal replication initiator protein DnaA</td>\n",
              "    </tr>\n",
              "    <tr>\n",
              "      <th>1</th>\n",
              "      <td>1</td>\n",
              "      <td>Rv0002</td>\n",
              "      <td>mra:MRA_0002</td>\n",
              "      <td>A5TY70</td>\n",
              "      <td>chromosome</td>\n",
              "      <td>NC_000962.3</td>\n",
              "      <td>2052.0</td>\n",
              "      <td>3260.0</td>\n",
              "      <td>+</td>\n",
              "      <td>887092.0</td>\n",
              "      <td>dnaN</td>\n",
              "      <td>NP_214516.1</td>\n",
              "      <td>402.0</td>\n",
              "      <td>DNA polymerase III subunit beta</td>\n",
              "    </tr>\n",
              "    <tr>\n",
              "      <th>2</th>\n",
              "      <td>2</td>\n",
              "      <td>Rv0003</td>\n",
              "      <td>mra:MRA_0003</td>\n",
              "      <td>A5TY71</td>\n",
              "      <td>chromosome</td>\n",
              "      <td>NC_000962.3</td>\n",
              "      <td>3280.0</td>\n",
              "      <td>4437.0</td>\n",
              "      <td>+</td>\n",
              "      <td>887089.0</td>\n",
              "      <td>recF</td>\n",
              "      <td>NP_214517.1</td>\n",
              "      <td>385.0</td>\n",
              "      <td>DNA replication/repair protein RecF</td>\n",
              "    </tr>\n",
              "    <tr>\n",
              "      <th>3</th>\n",
              "      <td>3</td>\n",
              "      <td>Rv0004</td>\n",
              "      <td>mra:MRA_0004</td>\n",
              "      <td>A5TY72</td>\n",
              "      <td>chromosome</td>\n",
              "      <td>NC_000962.3</td>\n",
              "      <td>4434.0</td>\n",
              "      <td>4997.0</td>\n",
              "      <td>+</td>\n",
              "      <td>887088.0</td>\n",
              "      <td>NaN</td>\n",
              "      <td>NP_214518.1</td>\n",
              "      <td>187.0</td>\n",
              "      <td>hypothetical protein Rv0004</td>\n",
              "    </tr>\n",
              "    <tr>\n",
              "      <th>4</th>\n",
              "      <td>4</td>\n",
              "      <td>Rv0005</td>\n",
              "      <td>mra:MRA_0005</td>\n",
              "      <td>A5TY73</td>\n",
              "      <td>chromosome</td>\n",
              "      <td>NC_000962.3</td>\n",
              "      <td>5240.0</td>\n",
              "      <td>7267.0</td>\n",
              "      <td>+</td>\n",
              "      <td>887081.0</td>\n",
              "      <td>gyrB</td>\n",
              "      <td>NP_214519.2</td>\n",
              "      <td>675.0</td>\n",
              "      <td>DNA gyrase subunit B</td>\n",
              "    </tr>\n",
              "  </tbody>\n",
              "</table>\n",
              "</div>\n",
              "      <button class=\"colab-df-convert\" onclick=\"convertToInteractive('df-159e1263-8a34-447c-9376-9a9f7cbdc81e')\"\n",
              "              title=\"Convert this dataframe to an interactive table.\"\n",
              "              style=\"display:none;\">\n",
              "        \n",
              "  <svg xmlns=\"http://www.w3.org/2000/svg\" height=\"24px\"viewBox=\"0 0 24 24\"\n",
              "       width=\"24px\">\n",
              "    <path d=\"M0 0h24v24H0V0z\" fill=\"none\"/>\n",
              "    <path d=\"M18.56 5.44l.94 2.06.94-2.06 2.06-.94-2.06-.94-.94-2.06-.94 2.06-2.06.94zm-11 1L8.5 8.5l.94-2.06 2.06-.94-2.06-.94L8.5 2.5l-.94 2.06-2.06.94zm10 10l.94 2.06.94-2.06 2.06-.94-2.06-.94-.94-2.06-.94 2.06-2.06.94z\"/><path d=\"M17.41 7.96l-1.37-1.37c-.4-.4-.92-.59-1.43-.59-.52 0-1.04.2-1.43.59L10.3 9.45l-7.72 7.72c-.78.78-.78 2.05 0 2.83L4 21.41c.39.39.9.59 1.41.59.51 0 1.02-.2 1.41-.59l7.78-7.78 2.81-2.81c.8-.78.8-2.07 0-2.86zM5.41 20L4 18.59l7.72-7.72 1.47 1.35L5.41 20z\"/>\n",
              "  </svg>\n",
              "      </button>\n",
              "      \n",
              "  <style>\n",
              "    .colab-df-container {\n",
              "      display:flex;\n",
              "      flex-wrap:wrap;\n",
              "      gap: 12px;\n",
              "    }\n",
              "\n",
              "    .colab-df-convert {\n",
              "      background-color: #E8F0FE;\n",
              "      border: none;\n",
              "      border-radius: 50%;\n",
              "      cursor: pointer;\n",
              "      display: none;\n",
              "      fill: #1967D2;\n",
              "      height: 32px;\n",
              "      padding: 0 0 0 0;\n",
              "      width: 32px;\n",
              "    }\n",
              "\n",
              "    .colab-df-convert:hover {\n",
              "      background-color: #E2EBFA;\n",
              "      box-shadow: 0px 1px 2px rgba(60, 64, 67, 0.3), 0px 1px 3px 1px rgba(60, 64, 67, 0.15);\n",
              "      fill: #174EA6;\n",
              "    }\n",
              "\n",
              "    [theme=dark] .colab-df-convert {\n",
              "      background-color: #3B4455;\n",
              "      fill: #D2E3FC;\n",
              "    }\n",
              "\n",
              "    [theme=dark] .colab-df-convert:hover {\n",
              "      background-color: #434B5C;\n",
              "      box-shadow: 0px 1px 3px 1px rgba(0, 0, 0, 0.15);\n",
              "      filter: drop-shadow(0px 1px 2px rgba(0, 0, 0, 0.3));\n",
              "      fill: #FFFFFF;\n",
              "    }\n",
              "  </style>\n",
              "\n",
              "      <script>\n",
              "        const buttonEl =\n",
              "          document.querySelector('#df-159e1263-8a34-447c-9376-9a9f7cbdc81e button.colab-df-convert');\n",
              "        buttonEl.style.display =\n",
              "          google.colab.kernel.accessAllowed ? 'block' : 'none';\n",
              "\n",
              "        async function convertToInteractive(key) {\n",
              "          const element = document.querySelector('#df-159e1263-8a34-447c-9376-9a9f7cbdc81e');\n",
              "          const dataTable =\n",
              "            await google.colab.kernel.invokeFunction('convertToInteractive',\n",
              "                                                     [key], {});\n",
              "          if (!dataTable) return;\n",
              "\n",
              "          const docLinkHtml = 'Like what you see? Visit the ' +\n",
              "            '<a target=\"_blank\" href=https://colab.research.google.com/notebooks/data_table.ipynb>data table notebook</a>'\n",
              "            + ' to learn more about interactive tables.';\n",
              "          element.innerHTML = '';\n",
              "          dataTable['output_type'] = 'display_data';\n",
              "          await google.colab.output.renderOutput(dataTable, element);\n",
              "          const docLink = document.createElement('div');\n",
              "          docLink.innerHTML = docLinkHtml;\n",
              "          element.appendChild(docLink);\n",
              "        }\n",
              "      </script>\n",
              "    </div>\n",
              "  </div>\n",
              "  "
            ]
          },
          "metadata": {},
          "execution_count": 25
        }
      ],
      "source": [
        "df_rv_ra.head()"
      ]
    },
    {
      "cell_type": "markdown",
      "source": [
        "14- Fusion del dataframe de datos proteomicos con el del mapeo H37Ra a H37Rv"
      ],
      "metadata": {
        "id": "uajWL-yELp3f"
      }
    },
    {
      "cell_type": "code",
      "execution_count": 26,
      "metadata": {
        "id": "InzE-KccDCDD"
      },
      "outputs": [],
      "source": [
        "df.rename(columns = {'Majority protein IDs': 'Ra_UNIPROT'}, inplace = True)"
      ]
    },
    {
      "cell_type": "code",
      "execution_count": 27,
      "metadata": {
        "id": "5Fra4-75Ce6N"
      },
      "outputs": [],
      "source": [
        "merged_df = df.merge(df_rv_ra, how = 'outer', on = 'Ra_UNIPROT')\n"
      ]
    },
    {
      "cell_type": "markdown",
      "source": [
        "16- Redondeos de fold change y pvalue para mejor presentación"
      ],
      "metadata": {
        "id": "pyLkjUZnMUd2"
      }
    },
    {
      "cell_type": "code",
      "source": [
        "merged_df['fold_change'] = merged_df['fold_change'].round(decimals = 2)\n",
        "merged_df['pvalue'] = merged_df['pvalue'].round(decimals = 4)"
      ],
      "metadata": {
        "id": "Dm9TllQNMXH_"
      },
      "execution_count": 28,
      "outputs": []
    },
    {
      "cell_type": "markdown",
      "source": [
        "17- Eliminacion de locus no vistos o sin ortologos en ra \n"
      ],
      "metadata": {
        "id": "rCvG5sZTMdba"
      }
    },
    {
      "cell_type": "code",
      "execution_count": 29,
      "metadata": {
        "id": "Ax0oEu-jA-JA"
      },
      "outputs": [],
      "source": [
        "merged_df = merged_df[merged_df['fold_change'].notnull()]"
      ]
    },
    {
      "cell_type": "markdown",
      "source": [
        "Muestra de como quedó el dataframe. Se muestran algunos ejemplos de proteínas cuyo p-value fue menor a 0.05"
      ],
      "metadata": {
        "id": "YTJFnWDXMmAY"
      }
    },
    {
      "cell_type": "code",
      "execution_count": 30,
      "metadata": {
        "id": "qC_owc1Cr1ib",
        "colab": {
          "base_uri": "https://localhost:8080/",
          "height": 269
        },
        "outputId": "f44d2527-0c43-4a9e-9433-61d941527fdc"
      },
      "outputs": [
        {
          "output_type": "execute_result",
          "data": {
            "text/plain": [
              "   Locus tag  fold_change  pvalue  \\\n",
              "0     Rv0001         0.74  0.0061   \n",
              "1     Rv0002         0.68  0.0342   \n",
              "2     Rv0003         0.67  0.0039   \n",
              "16   Rv0021c         0.47  0.0309   \n",
              "29   Rv0046c         0.59  0.0106   \n",
              "30   Rv0047c         1.69  0.0118   \n",
              "36    Rv0054         1.21  0.0049   \n",
              "\n",
              "                                      Protein Name Locus  \n",
              "0   chromosomal replication initiator protein DnaA  dnaA  \n",
              "1                  DNA polymerase III subunit beta  dnaN  \n",
              "2              DNA replication/repair protein RecF  recF  \n",
              "16                    hypothetical protein Rv0021c   NaN  \n",
              "29                   inositol-3-phosphate synthase  ino1  \n",
              "30                    hypothetical protein Rv0047c   NaN  \n",
              "36               single-strand DNA-binding protein   ssb  "
            ],
            "text/html": [
              "\n",
              "  <div id=\"df-8fd01ea5-1a6d-43a7-be0d-6bb3dec85b4a\">\n",
              "    <div class=\"colab-df-container\">\n",
              "      <div>\n",
              "<style scoped>\n",
              "    .dataframe tbody tr th:only-of-type {\n",
              "        vertical-align: middle;\n",
              "    }\n",
              "\n",
              "    .dataframe tbody tr th {\n",
              "        vertical-align: top;\n",
              "    }\n",
              "\n",
              "    .dataframe thead th {\n",
              "        text-align: right;\n",
              "    }\n",
              "</style>\n",
              "<table border=\"1\" class=\"dataframe\">\n",
              "  <thead>\n",
              "    <tr style=\"text-align: right;\">\n",
              "      <th></th>\n",
              "      <th>Locus tag</th>\n",
              "      <th>fold_change</th>\n",
              "      <th>pvalue</th>\n",
              "      <th>Protein Name</th>\n",
              "      <th>Locus</th>\n",
              "    </tr>\n",
              "  </thead>\n",
              "  <tbody>\n",
              "    <tr>\n",
              "      <th>0</th>\n",
              "      <td>Rv0001</td>\n",
              "      <td>0.74</td>\n",
              "      <td>0.0061</td>\n",
              "      <td>chromosomal replication initiator protein DnaA</td>\n",
              "      <td>dnaA</td>\n",
              "    </tr>\n",
              "    <tr>\n",
              "      <th>1</th>\n",
              "      <td>Rv0002</td>\n",
              "      <td>0.68</td>\n",
              "      <td>0.0342</td>\n",
              "      <td>DNA polymerase III subunit beta</td>\n",
              "      <td>dnaN</td>\n",
              "    </tr>\n",
              "    <tr>\n",
              "      <th>2</th>\n",
              "      <td>Rv0003</td>\n",
              "      <td>0.67</td>\n",
              "      <td>0.0039</td>\n",
              "      <td>DNA replication/repair protein RecF</td>\n",
              "      <td>recF</td>\n",
              "    </tr>\n",
              "    <tr>\n",
              "      <th>16</th>\n",
              "      <td>Rv0021c</td>\n",
              "      <td>0.47</td>\n",
              "      <td>0.0309</td>\n",
              "      <td>hypothetical protein Rv0021c</td>\n",
              "      <td>NaN</td>\n",
              "    </tr>\n",
              "    <tr>\n",
              "      <th>29</th>\n",
              "      <td>Rv0046c</td>\n",
              "      <td>0.59</td>\n",
              "      <td>0.0106</td>\n",
              "      <td>inositol-3-phosphate synthase</td>\n",
              "      <td>ino1</td>\n",
              "    </tr>\n",
              "    <tr>\n",
              "      <th>30</th>\n",
              "      <td>Rv0047c</td>\n",
              "      <td>1.69</td>\n",
              "      <td>0.0118</td>\n",
              "      <td>hypothetical protein Rv0047c</td>\n",
              "      <td>NaN</td>\n",
              "    </tr>\n",
              "    <tr>\n",
              "      <th>36</th>\n",
              "      <td>Rv0054</td>\n",
              "      <td>1.21</td>\n",
              "      <td>0.0049</td>\n",
              "      <td>single-strand DNA-binding protein</td>\n",
              "      <td>ssb</td>\n",
              "    </tr>\n",
              "  </tbody>\n",
              "</table>\n",
              "</div>\n",
              "      <button class=\"colab-df-convert\" onclick=\"convertToInteractive('df-8fd01ea5-1a6d-43a7-be0d-6bb3dec85b4a')\"\n",
              "              title=\"Convert this dataframe to an interactive table.\"\n",
              "              style=\"display:none;\">\n",
              "        \n",
              "  <svg xmlns=\"http://www.w3.org/2000/svg\" height=\"24px\"viewBox=\"0 0 24 24\"\n",
              "       width=\"24px\">\n",
              "    <path d=\"M0 0h24v24H0V0z\" fill=\"none\"/>\n",
              "    <path d=\"M18.56 5.44l.94 2.06.94-2.06 2.06-.94-2.06-.94-.94-2.06-.94 2.06-2.06.94zm-11 1L8.5 8.5l.94-2.06 2.06-.94-2.06-.94L8.5 2.5l-.94 2.06-2.06.94zm10 10l.94 2.06.94-2.06 2.06-.94-2.06-.94-.94-2.06-.94 2.06-2.06.94z\"/><path d=\"M17.41 7.96l-1.37-1.37c-.4-.4-.92-.59-1.43-.59-.52 0-1.04.2-1.43.59L10.3 9.45l-7.72 7.72c-.78.78-.78 2.05 0 2.83L4 21.41c.39.39.9.59 1.41.59.51 0 1.02-.2 1.41-.59l7.78-7.78 2.81-2.81c.8-.78.8-2.07 0-2.86zM5.41 20L4 18.59l7.72-7.72 1.47 1.35L5.41 20z\"/>\n",
              "  </svg>\n",
              "      </button>\n",
              "      \n",
              "  <style>\n",
              "    .colab-df-container {\n",
              "      display:flex;\n",
              "      flex-wrap:wrap;\n",
              "      gap: 12px;\n",
              "    }\n",
              "\n",
              "    .colab-df-convert {\n",
              "      background-color: #E8F0FE;\n",
              "      border: none;\n",
              "      border-radius: 50%;\n",
              "      cursor: pointer;\n",
              "      display: none;\n",
              "      fill: #1967D2;\n",
              "      height: 32px;\n",
              "      padding: 0 0 0 0;\n",
              "      width: 32px;\n",
              "    }\n",
              "\n",
              "    .colab-df-convert:hover {\n",
              "      background-color: #E2EBFA;\n",
              "      box-shadow: 0px 1px 2px rgba(60, 64, 67, 0.3), 0px 1px 3px 1px rgba(60, 64, 67, 0.15);\n",
              "      fill: #174EA6;\n",
              "    }\n",
              "\n",
              "    [theme=dark] .colab-df-convert {\n",
              "      background-color: #3B4455;\n",
              "      fill: #D2E3FC;\n",
              "    }\n",
              "\n",
              "    [theme=dark] .colab-df-convert:hover {\n",
              "      background-color: #434B5C;\n",
              "      box-shadow: 0px 1px 3px 1px rgba(0, 0, 0, 0.15);\n",
              "      filter: drop-shadow(0px 1px 2px rgba(0, 0, 0, 0.3));\n",
              "      fill: #FFFFFF;\n",
              "    }\n",
              "  </style>\n",
              "\n",
              "      <script>\n",
              "        const buttonEl =\n",
              "          document.querySelector('#df-8fd01ea5-1a6d-43a7-be0d-6bb3dec85b4a button.colab-df-convert');\n",
              "        buttonEl.style.display =\n",
              "          google.colab.kernel.accessAllowed ? 'block' : 'none';\n",
              "\n",
              "        async function convertToInteractive(key) {\n",
              "          const element = document.querySelector('#df-8fd01ea5-1a6d-43a7-be0d-6bb3dec85b4a');\n",
              "          const dataTable =\n",
              "            await google.colab.kernel.invokeFunction('convertToInteractive',\n",
              "                                                     [key], {});\n",
              "          if (!dataTable) return;\n",
              "\n",
              "          const docLinkHtml = 'Like what you see? Visit the ' +\n",
              "            '<a target=\"_blank\" href=https://colab.research.google.com/notebooks/data_table.ipynb>data table notebook</a>'\n",
              "            + ' to learn more about interactive tables.';\n",
              "          element.innerHTML = '';\n",
              "          dataTable['output_type'] = 'display_data';\n",
              "          await google.colab.output.renderOutput(dataTable, element);\n",
              "          const docLink = document.createElement('div');\n",
              "          docLink.innerHTML = docLinkHtml;\n",
              "          element.appendChild(docLink);\n",
              "        }\n",
              "      </script>\n",
              "    </div>\n",
              "  </div>\n",
              "  "
            ]
          },
          "metadata": {},
          "execution_count": 30
        }
      ],
      "source": [
        "merged_df[['Locus tag', 'fold_change', 'pvalue','Protein Name', 'Locus' ]][merged_df['pvalue'] < 0.05].head(7)"
      ]
    },
    {
      "cell_type": "markdown",
      "source": [
        "18- Armado del volcano plot"
      ],
      "metadata": {
        "id": "q0MoUCQNM86T"
      }
    },
    {
      "cell_type": "code",
      "execution_count": 31,
      "metadata": {
        "id": "a_0x-EUcdSU4",
        "colab": {
          "base_uri": "https://localhost:8080/",
          "height": 542
        },
        "outputId": "ebce6950-608a-4908-f5e7-aff6d2400d50"
      },
      "outputs": [
        {
          "output_type": "display_data",
          "data": {
            "text/html": [
              "<html>\n",
              "<head><meta charset=\"utf-8\" /></head>\n",
              "<body>\n",
              "    <div>            <script src=\"https://cdnjs.cloudflare.com/ajax/libs/mathjax/2.7.5/MathJax.js?config=TeX-AMS-MML_SVG\"></script><script type=\"text/javascript\">if (window.MathJax) {MathJax.Hub.Config({SVG: {font: \"STIX-Web\"}});}</script>                <script type=\"text/javascript\">window.PlotlyConfig = {MathJaxConfig: 'local'};</script>\n",
              "        <script src=\"https://cdn.plot.ly/plotly-2.8.3.min.js\"></script>                <div id=\"11ca50df-0d00-48d0-825c-d0b59ccfb6fa\" class=\"plotly-graph-div\" style=\"height:525px; width:100%;\"></div>            <script type=\"text/javascript\">                                    window.PLOTLYENV=window.PLOTLYENV || {};                                    if (document.getElementById(\"11ca50df-0d00-48d0-825c-d0b59ccfb6fa\")) {                    Plotly.newPlot(                        \"11ca50df-0d00-48d0-825c-d0b59ccfb6fa\",                        [{\"customdata\":[[\"dnaA\",\"chromosomal replication initiator protein DnaA\",0.0061,0.74],[\"dnaN\",\"DNA polymerase III subunit beta\",0.0342,0.68],[\"recF\",\"DNA replication/repair protein RecF\",0.0039,0.67],[\"gyrB\",\"DNA gyrase subunit B\",0.1754,0.79],[\"gyrA\",\"DNA gyrase subunit A\",0.1377,0.68],[null,\"membrane protein\",0.7887,1.09],[null,\"cell wall synthesis protein CwsA\",0.1414,1.82],[\"ppiA\",\"iron-regulated peptidyl-prolyl cis-trans isomerase PpiA\",0.0553,1.62],[null,null,0.3323,0.77],[\"trpG\",\"anthranilate synthase component II\",0.4729,1.13],[\"pknB\",\"serine/threonine-protein kinase PknB\",0.7535,0.95],[\"pknA\",\"serine/threonine-protein kinase PknA\",0.8792,1.02],[\"pbpA\",\"penicillin-binding protein PbpA\",0.9962,1.08],[\"pstP\",\"phosphoserine/threonine phosphatase PstP\",0.9944,0.99],[\"fhaB\",\"FHA domain-containing protein FhaB\",0.4526,1.25],[\"fhaA\",\"FHA domain-containing protein FhaA\",0.4569,1.12],[null,\"hypothetical protein Rv0021c\",0.0309,0.47],[null,\"transcriptional regulator\",0.3752,0.85],[null,\"hypothetical protein Rv0029\",0.1505,0.62],[\"bioF2\",\"8-amino-7-oxononanoate synthase\",0.2583,0.76],[null,\"hypothetical protein Rv0034\",0.1392,0.73],[\"fadD34\",\"fatty-acid--CoA ligase FadD34\",0.0602,0.7],[null,\"hypothetical protein Rv0036c\",0.4116,1.18],[null,\"hypothetical protein Rv0038\",0.9374,0.98],[\"leuS\",\"leucine--tRNA ligase\",0.6838,1.04],[null,\"transcriptional regulator\",0.8131,1.04],[null,\"HTH-type transcriptional regulator\",0.8161,1.17],[null,\"oxidoreductase\",0.4333,1.14],[null,\"hydrolase\",0.8881,0.95],[\"ino1\",\"inositol-3-phosphate synthase\",0.0106,0.59],[null,\"hypothetical protein Rv0047c\",0.0118,1.69],[null,\"membrane protein\",0.2341,1.34],[\"ponA1\",\"bifunctional penicillin-insensitive transglycosylase/penicillin-sensitive transpeptidase\",0.6916,0.92],[null,\"transmembrane protein\",0.7661,0.93],[null,\"hypothetical protein Rv0052\",0.3021,1.33],[\"rpsF\",\"30S ribosomal protein S6\",0.6236,0.83],[\"ssb\",\"single-strand DNA-binding protein\",0.0049,1.21],[\"rpsR1\",\"30S ribosomal protein S18\",0.404,0.6],[\"rplI\",\"50S ribosomal protein L9\",0.093,1.67],[null,\"hypothetical protein Rv0059\",0.7308,1.13],[null,\"hypothetical protein Rv0060\",0.244,0.86],[\"celA1\",\"cellulase CelA\",0.4348,0.85],[null,\"oxidoreductase\",0.5454,0.93],[\"icd2\",\"isocitrate dehydrogenase\",0.925,0.99],[null,\"transcriptional regulator\",0.4888,1.35],[null,\"oxidoreductase\",0.0055,0.73],[\"sdaA\",\"L-serine dehydratase\",0.0084,0.57],[\"glyA2\",\"serine hydroxymethyltransferase\",0.0167,0.67],[null,\"glutamine ABC transporter permease\",0.7355,1.11],[null,\"glutamine ABC transporter ATP-binding protein\",0.0612,0.54],[null,\"hypothetical protein Rv0074\",0.5502,0.93],[null,\"aminotransferase\",0.3906,0.91],[null,\"oxidoreductase\",0.9416,0.92],[null,\"transcriptional regulator\",0.7383,1.35],[null,\"hypothetical protein Rv0078A\",0.1635,1.39],[null,\"polyketide cyclase/dehydrase\",0.4761,1.17],[\"mtn\",\"bifunctional 5\\\\\\\\'-methylthioadenosine nucleosidase /S-adenosylhomocysteine nucleosidase\",0.4232,1.17],[null,\"oxidoreductase\",0.0038,0.43],[\"fadD10\",\"fatty-acid--CoA ligase FadD10\",0.0019,0.41],[\"nrp\",\"peptide synthetase Nrp\",0.0161,0.58],[null,\"hypothetical protein Rv0106\",0.0004,3.7],[\"ctpI\",\"cation-transporter ATPase I\",0.5258,0.85],[null,\"hypothetical protein Rv0108c\",0.1529,0.43],[\"oxyS\",\"oxidative stress response regulatory protein OxyS\",0.8218,0.92],[\"oxcA\",\"oxalyl-CoA decarboxylase OxcA\",0.2898,0.9],[\"fadD7\",\"fatty-acid--CoA ligase FadD7\",0.45,0.95],[\"fusA2\",\"elongation factor G\",0.0134,0.66],[null,\"hypothetical protein Rv0123\",0.3598,1.38],[\"pepA\",\"serine protease PepA\",0.0053,0.48],[\"treS\",\"trehalose synthase/amylase TreS\",0.4111,1.1],[\"mak\",\"maltokinase\",0.629,0.95],[\"fbpC\",\"diacylglycerol acyltransferase/mycolyltransferase Ag85C\",0.3947,1.17],[\"htdZ\",\"3-hydroxyl-thioester dehydratase\",0.7377,0.96],[\"fadE1\",\"acyl-CoA dehydrogenase FadE1\",0.0477,0.66],[null,\"GCN5-like N-acetyltransferase\",0.0508,1.79],[\"ephF\",\"epoxide hydrolase EphF\",0.1724,1.32],[null,\"transcriptional regulator\",0.3692,1.22],[\"cyp138\",\"cytochrome P450 Cyp138\",0.8409,0.93],[\"msrA\",\"peptide methionine sulfoxide reductase MsrA\",0.3574,1.17],[null,\"hypothetical protein Rv0138\",0.1286,1.66],[null,\"oxidoreductase\",0.5777,0.93],[null,\"hypothetical protein Rv0140\",0.9567,0.98],[null,\"hypothetical protein Rv0141c\",0.4587,1.17],[null,\"transmembrane protein\",0.4723,0.87],[null,\"transcriptional regulator\",0.759,1.03],[null,\"S-adenosylmethionine-dependent methyltransferase\",0.3543,1.28],[null,\"S-adenosylmethionine-dependent methyltransferase\",0.0252,1.69],[null,\"aldehyde dehydrogenase\",0.0581,0.73],[null,\"short-chain type dehydrogenase/reductase\",0.3312,1.19],[null,\"quinone oxidoreductase\",0.0308,0.8],[\"ptbB\",\"phosphotyrosine protein phosphatase\",0.2244,1.22],[\"fadE2\",\"acyl-CoA dehydrogenase FadE2\",0.4258,1.16],[\"pntAa\",\"NAD(P) transhydrogenase subunit alpha PntAa\",0.9465,1.01],[\"pntB\",\"NAD(P) transhydrogenase subunit beta PntB\",0.1465,1.33],[null,\"transcriptional regulator\",0.4662,1.15],[null,\"oxidoreductase\",0.054,0.82],[\"adhE1\",\"zinc-type alcohol dehydrogenase subunit E\",0.561,0.93],[null,\"hypothetical protein Rv0163\",0.3278,0.94],[\"TB18.5\",\"hypothetical protein Rv0164\",0.2889,1.39],[\"fadD5\",\"fatty-acid--CoA ligase FadD5\",0.0053,0.51],[\"yrbE1A\",\"membrane protein\",0.9519,1.05],[\"mce1A\",\"Mce family protein Mce1A\",0.7061,0.92],[\"mce1B\",\"Mce family protein Mce1B\",0.8287,1.03],[\"mce1C\",\"Mce family protein Mce1C\",0.6726,0.93],[\"mce1D\",\"Mce family protein Mce1D\",0.4444,0.8],[\"lprK\",\"Mce family lipoprotein LprK\",0.5821,0.9],[\"mce1F\",\"Mce family protein Mce1F\",0.5617,0.87],[null,\"Mce associated membrane protein\",0.6933,1.09],[null,\"Mce associated transmembrane protein\",0.7389,1.06],[null,\"Mce associated protein\",0.5633,1.16],[null,\"Mce associated membrane protein\",0.4371,1.22],[\"lprO\",\"lipoprotein LprO\",0.4568,0.9],[null,\"transmembrane protein\",0.8977,1.05],[null,\"hypothetical protein Rv0181c\",0.3561,1.32],[\"sigG\",\"ECF RNA polymerase sigma factor SigG\",0.1539,0.87],[null,\"lysophospholipase\",0.4564,1.13],[null,\"hypothetical protein Rv0184\",0.8842,0.99],[\"bglS\",\"beta-glucosidase BglS\",0.3431,0.91],[null,\"O-methyltransferase\",0.2054,1.37],[\"ilvD\",\"dihydroxy-acid dehydratase\",0.0069,0.69],[null,\"hypothetical protein Rv0190\",0.0779,2.24],[null,\"HTH-type transcriptional regulator\",0.3439,1.18],[\"zmp1\",\"zinc metalloprotease\",0.0522,0.69],[null,\"transmembrane protein\",0.3845,1.5],[\"mmpL11\",\"transmembrane transport protein MmpL11\",0.3537,1.32],[\"mmpL3\",\"transmembrane transport protein MmpL3\",0.5968,1.15],[null,\"hypothetical protein Rv0207c\",0.0693,1.39],[null,\"tRNA (guanine-N(7)-)-methyltransferase\",0.1648,1.28],[\"pckA\",\"phosphoenolpyruvate carboxykinase\",0.233,1.17],[\"nadR\",\"transcriptional regulator NadR\",0.1399,0.8],[\"fadD4\",\"fatty-acid--CoA ligase FadD4\",0.0046,0.72],[null,\"hydratase\",0.0169,0.72],[\"lipW\",\"esterase LipW\",0.4375,0.84],[\"lipC\",\"esterase LipC\",0.008,0.57],[null,\"diacyglycerol O-acyltransferase\",0.007,0.65],[\"echA1\",\"enoyl-CoA hydratase EchA1\",0.464,1.11],[null,\"aldehyde dehydrogenase\",0.7813,1.02],[null,\"membrane protein\",0.7696,0.94],[null,\"hypothetical protein Rv0229c\",0.1746,1.36],[\"php\",\"phosphotriesterase\",0.0742,0.84],[\"fadE4\",\"acyl-CoA dehydrogenase FadE4\",0.0018,0.81],[null,\"transcriptional regulator\",0.9685,0.94],[\"gabD1\",\"succinate-semialdehyde dehydrogenase\",0.175,0.9],[\"lpqI\",\"lipoprotein LpqI\",0.1577,0.77],[null,\"transcriptional regulator\",0.1936,1.33],[\"vapC24\",\"ribonuclease VapC24\",0.1795,1.15],[\"htdX\",\"3-hydroxyacyl-thioester dehydratase HtdX\",0.2812,1.33],[\"fabG4\",\"3-oxoacyl-ACP reductase FabG\",0.5226,0.92],[\"fadA2\",\"acetyl-CoA acetyltransferase FadA\",0.0231,0.78],[\"fadE5\",\"acyl-CoA dehydrogenase FadE5\",0.8048,1.06],[null,\"oxidoreductase\",0.1366,1.8],[null,\"succinate dehydrogenase iron-sulfur subunit\",0.4144,1.2],[null,\"succinate dehydrogenase flavoprotein subunit\",0.866,0.96],[null,\"succinate dehydrogenase membrane anchor subunit\",0.2454,1.48],[null,\"hypothetical protein Rv0250c\",0.9041,1.02],[\"hsp\",\"heat shock protein\",0.0543,3.06],[\"cobU\",\"bifunctional cobinamide kinase/cobinamide phosphate guanylyltransferase\",0.3236,1.34],[\"cobQ1\",\"cobyric acid synthase\",0.1275,0.83],[\"aac\",\"aminoglycoside 2\\\\\\\\'-N-acetyltransferase\",0.6216,1.05],[null,\"hypothetical protein Rv0264c\",0.9379,0.89],[null,\"iron ABC transporter substrate-binding lipoprotein\",0.891,1.0],[\"oplA\",\"5-oxoprolinase OplA\",0.1669,1.22],[null,\"PemK-like protein\",0.1669,1.22],[null,\"hypothetical protein Rv0269c\",0.2078,0.77],[\"fadD2\",\"fatty-acid--CoA ligase FadD2\",0.0989,0.83],[\"fadE6\",\"acyl-CoA dehydrogenase FadE6\",0.012,0.77],[null,\"hypothetical protein Rv0272c\",0.0656,0.72],[null,\"transcriptional regulator\",0.7475,0.81],[\"PPE3\",\"PPE family protein PPE3\",0.0529,3.55],[null,\"S-adenosylmethionine-dependent methyltransferase\",0.2121,0.84],[\"eccA3\",\"ESX-3 secretion system protein EccA\",0.0853,1.23],[\"eccB3\",\"ESX-3 secretion system protein EccB3\",0.3468,1.25],[\"eccC3\",\"ESX-3 secretion system protein EccC3\",0.219,1.38],[\"esxG\",\"ESAT-6 like protein EsxG\",0.4438,0.83],[\"espG3\",\"ESX-3 secretion-associated protein EspG3\",0.4566,0.84],[\"eccD3\",\"ESX-3 secretion system protein EccD\",0.6183,1.12],[\"mycP3\",\"membrane-anchored mycosin MycP\",0.1153,1.38],[\"eccE3\",\"ESX-3 secretion system protein EccE\",0.1147,1.56],[null,\"hypothetical protein Rv0293c\",0.4646,0.95],[\"tam\",\"trans-aconitate methyltransferase\",0.1652,1.25],[null,\"hypothetical protein Rv0295c\",0.6147,1.06],[null,\"sulfatase\",0.4621,0.95],[\"vapB2\",\"antitoxin VapB2\",0.8449,0.89],[\"vapC2\",\"ribonuclease VapC2\",0.0001,6.82],[null,\"dehydrogenase/reductase\",0.3538,1.18],[null,\"hypothetical protein Rv0307c\",0.1902,1.58],[null,\"integral membrane protein\",0.407,1.24],[null,\"hypothetical protein Rv0311\",0.3326,1.3],[null,\"hypothetical protein Rv0312\",0.4343,0.84],[null,\"hypothetical protein Rv0313\",0.2814,1.18],[null,\"membrane protein\",0.2998,1.62],[null,null,0.971,0.96],[null,\"muconolactone isomerase\",0.0026,1.88],[\"glpQ2\",\"glycerophosphoryl diester phosphodiesterase GlpQ\",0.6237,1.1],[\"pcp\",\"pyrrolidone-carboxylate peptidase\",0.3461,1.23],[\"dcd\",\"deoxycytidine triphosphate deaminase\",0.5532,0.95],[null,\"hypothetical protein Rv0323c\",0.4491,0.91],[null,\"transcriptional regulator\",0.8394,1.01],[null,\"transcriptional regulator\",0.2615,1.21],[null,\"hypothetical protein Rv0330c\",0.5933,1.08],[null,\"dehydrogenase/reductase\",0.0464,0.72],[null,\"hypothetical protein Rv0332\",0.2161,1.26],[null,\"hypothetical protein Rv0333\",0.338,1.24],[\"rmlA\",\"glucose-1-phosphate thymidylyltransferase\",0.3138,1.22],[\"aspC\",\"aspartate aminotransferase\",0.2624,0.86],[null,\"iron-sulfur-binding reductase\",0.957,1.0],[null,\"transcriptional regulator\",0.1054,0.79],[\"iniB\",\"isoniazid inducible protein IniB\",0.0144,8.01],[\"iniA\",\"isoniazid inductible protein IniA\",0.0584,1.74],[\"iniC\",\"iIsoniazid inductible protein IniC\",0.0361,1.97],[null,\"membrane protein\",0.8425,0.93],[null,\"transcriptional regulator\",0.7654,0.95],[null,\"hypothetical protein Rv0349\",0.9468,0.98],[\"dnaK\",\"chaperone protein DnaK\",0.3236,1.13],[\"grpE\",\"stress response protein GrpE\",0.0712,1.37],[\"dnaJ1\",\"chaperone protein DnaJ\",0.6221,0.93],[null,\"hypothetical protein Rv0356c\",0.4489,1.13],[\"purA\",\"adenylosuccinate synthetase\",0.2433,0.87],[null,\"hypothetical protein Rv0360c\",0.458,1.16],[null,\"membrane protein\",0.0146,1.68],[\"fba\",\"fructose-bisphosphate aldolase\",0.0131,1.29],[null,\"hypothetical protein Rv0365c\",0.8801,1.04],[null,\"hypothetical protein Rv0376c\",0.1602,0.85],[\"secE2\",\"protein translocase subunit SecE\",0.0147,0.75],[null,\"RNA methyltransferase\",0.2535,1.27],[\"pyrE\",\"orotate phosphoribosyltransferase\",0.1955,1.5],[null,\"hypothetical protein Rv0383c\",0.3741,1.28],[\"clpB\",\"chaperone protein ClpB\",0.0476,1.28],[null,\"monooxygenase\",0.4389,1.2],[null,\"transcriptional regulator\",0.0242,0.69],[\"purT\",\"phosphoribosylglycinamide formyltransferase PurT\",0.5362,1.07],[null,\"hypothetical protein Rv0390\",0.5101,1.04],[\"metZ\",\"O-succinylhomoserine sulfhydrylase\",0.9695,0.99],[\"ndhA\",\"NADH dehydrogenase NdhA\",0.9333,0.97],[null,\"hypothetical protein Rv0394c\",0.8598,1.0],[\"fadE7\",\"acyl-CoA dehydrogenase FadE7\",0.328,0.9],[\"fadD30\",\"long-chain-fatty-acid--AMP ligase FadD30\",0.8932,0.98],[\"pks6\",\"membrane bound polyketide synthase\",0.0236,0.74],[null,\"beta lactamase-like protein\",0.2247,1.35],[\"fgd1\",\"F420-dependent glucose-6-phosphate dehydrogenase\",0.4242,0.89],[\"pta\",\"phosphate acetyltransferase\",0.2175,0.81],[\"ackA\",\"acetate kinase\",0.0393,0.86],[\"pknG\",\"serine/threonine-protein kinase PknG\",0.8005,1.03],[\"glnH\",\"glutamine-binding lipoprotein GlnH\",0.6032,1.1],[null,\"membrane protein\",0.9366,1.04],[\"mutT3\",\"8-oxo-dGTP diphosphatase\",0.918,0.91],[\"thiE\",\"thiamine-phosphate synthase\",0.2179,1.32],[\"thiO\",\"thiamine biosynthesis oxidoreductase ThiO\",0.4067,0.89],[\"thiG\",\"thiazole synthase\",0.0187,1.31],[\"lpqL\",\"lipoprotein aminopeptidase LpqL\",0.7319,0.95],[\"lpqM\",\"lipoprotein peptidase LpqM\",0.1641,0.68],[null,\"hypothetical protein Rv0421c\",0.1022,1.44],[\"thiD\",\"hydroxymethylpyrimidine/phosphomethylpyrimidine kinase\",0.5354,1.19],[\"thiC\",\"phosphomethylpyrimidine synthase\",0.0018,0.68],[\"ctpH\",\"metal cation transporting ATPase H\",0.1838,0.91],[null,\"transmembrane protein\",0.9381,1.06],[\"xthA\",\"exodeoxyribonuclease III protein XthA\",0.2578,0.89],[null,\"GCN5-like N-acetyltransferase\",0.8437,1.0],[\"def\",\"polypeptide deformylase\",0.1215,1.32],[null,\"hypothetical protein Rv0430\",0.8695,0.98],[null,\"tuberculin-like peptide\",0.063,1.6],[\"sodC\",\"superoxide dismutase\",0.0876,1.44],[null,\"carboxylate-amine ligase\",0.6156,0.96],[null,\"ATPase\",0.1152,0.81],[\"psd\",\"phosphatidylserine decarboxylase\",0.7175,1.1],[\"moeA2\",\"molybdopterin molybdenumtransferase\",0.7925,0.98],[null,\"dehydrogenase/reductase\",0.6242,1.06],[\"groEL2\",\"molecular chaperone GroEL\",0.2052,0.82],[null,\"hypothetical protein Rv0443\",0.0795,1.61],[\"rskA\",\"anti-sigma-K factor RskA\",0.7195,1.16],[\"sigK\",\"ECF RNA polymerase sigma factor SigK\",0.2465,1.49],[\"mmpL4\",\"transmembrane transport protein MmpL4\",0.4569,1.23],[\"mmpS4\",\"membrane protein MmpS4\",0.3894,1.86],[null,\"transcriptional regulator\",0.8164,1.09],[\"echA2\",\"enoyl-CoA hydratase EchA2\",0.648,0.94],[null,\"peptidase\",0.2149,1.18],[null,\"aldehyde dehydrogenase\",0.0009,0.53],[null,\"hypothetical protein Rv0459\",0.9671,0.96],[\"lpdC\",\"dihydrolipoamide dehydrogenase\",0.041,0.81],[null,\"hypothetical protein Rv0464c\",0.1847,1.46],[null,\"HTH-type transcriptional regulator\",0.273,0.86],[null,\"hypothetical protein Rv0466\",0.1713,1.37],[\"icl1\",\"isocitrate lyase\",0.0188,3.39],[\"fadB2\",\"3-hydroxybutyryl-CoA dehydrogenase\",0.0333,1.48],[\"umaA\",\"mycolic acid synthase UmaA\",0.3109,1.2],[\"pcaA\",\"cyclopropane mycolic acid synthase\",0.8222,0.88],[null,\"HTH-type transcriptional regulator\",0.6563,1.08],[null,\"transmembrane protein\",0.8,1.06],[null,\"HTH-type transcriptional regulator\",0.7067,1.05],[\"hbhA\",\"heparin binding hemagglutinin HbhA\",0.1033,1.3],[\"deoC\",\"deoxyribose-phosphate aldolase\",0.1664,1.41],[null,\"membrane protein\",0.8283,1.08],[null,\"amidohydrolase\",0.2472,1.21],[null,\"hypothetical protein Rv0481c\",0.2615,1.42],[\"murB\",\"UDP-N-acetylenolpyruvoylglucosamine reductase\",0.8682,1.03],[\"lprQ\",\"lipoprotein LprQ\",0.5835,1.11],[null,\"short-chain type oxidoreductase\",0.2632,1.26],[null,\"transcriptional regulator\",0.0002,0.6],[\"mshA\",\"D-inositol 3-phosphate glycosyltransferase\",0.0075,0.78],[null,\"hypothetical protein Rv0487\",0.4817,1.14],[null,null,0.3113,1.22],[\"regX3\",\"two component sensory transduction protein RegX\",0.7139,1.01],[null,\"GMC-type oxidoreductase\",0.8541,0.99],[null,\"hypothetical protein Rv0493c\",0.0031,0.65],[null,\"HTH-type transcriptional regulator\",0.111,1.69],[null,\"transmembrane protein\",0.9105,1.02],[null,\"hypothetical protein Rv0498\",0.7526,1.04],[null,\"hypothetical protein Rv0499\",0.7472,0.94],[\"proC\",\"pyrroline-5-carboxylate reductase\",0.6537,1.06],[null,\"DNA-binding protein\",0.7458,1.01],[\"galE2\",\"UDP-glucose 4-epimerase GalE\",0.0322,0.7],[null,\"hypothetical protein Rv0502\",0.1553,0.76],[\"cmaA2\",\"cyclopropane mycolic acid synthase\",0.7857,0.95],[null,\"hypothetical protein Rv0504c\",0.7394,0.97],[\"serB1\",\"phosphoserine phosphatase SerB\",0.8604,0.97],[\"hemA\",\"glutamyl-tRNA reductase\",0.024,0.7],[\"hemC\",\"porphobilinogen deaminase\",0.1431,1.17],[\"hemD\",\"uroporphyrin-III C-methyltransferase\",0.1051,0.63],[\"hemB\",\"delta-aminolevulinic acid dehydratase\",0.4551,1.09],[null,\"transmembrane protein\",0.2777,1.47],[null,\"anti-anti-sigma factor\",0.819,0.88],[null,\"hypothetical protein Rv0523c\",0.3725,1.23],[null,null,0.0779,0.77],[null,\"hypothetical protein Rv0525\",0.4354,1.16],[null,\"thioredoxin\",0.2795,1.32],[null,\"hypothetical protein Rv0530\",0.0234,1.5],[\"fabH\",\"3-oxoacyl\",0.5653,0.93],[null,\"S-methyl-5\\\\\\\\'-thioadenosine phosphorylase\",0.4066,1.15],[\"galE3\",\"UDP-glucose 4-epimerase GalE\",0.3491,0.89],[null,\"integral membrane protein\",0.7707,1.05],[null,\"membrane protein\",0.6098,0.97],[null,\"dolichyl-phosphate sugar synthase\",0.2797,1.36],[null,\"hypothetical protein Rv0540\",0.0764,1.45],[\"menE\",\"2-succinylbenzoic acid--CoA ligase\",0.088,0.81],[null,\"hypothetical protein Rv0543c\",0.9229,1.0],[null,\"hypothetical protein Rv0546c\",0.8651,1.02],[null,\"oxidoreductase\",0.2575,0.88],[null,null,0.3136,0.9],[\"vapC3\",\"ribonuclease VapC3\",0.8854,1.04],[\"fadD8\",\"fatty-acid--CoA ligase FadD8\",0.1335,0.85],[null,\"hypothetical protein Rv0552\",0.0239,0.64],[\"menC\",\"muconate cycloisomerase\",0.0837,0.69],[\"bpoC\",\"non-heme bromoperoxidase BpoC\",0.2623,1.25],[null,null,0.9596,1.0],[\"menH\",\"demethylmenaquinone methyltransferase\",0.6921,1.08],[null,\"benzoquinone methyltransferase\",0.7534,1.02],[null,\"oxidoreductase\",0.8386,0.81],[\"grcC1\",\"polyprenyl-diphosphate synthase GrcC\",0.5511,0.93],[\"htpX\",\"protease HtpX\",0.2348,1.39],[\"gpdA1\",\"glycerol-3-phosphate dehydrogenase\",0.0061,0.72],[null,\"monooxygenase\",0.0595,0.85],[null,\"hypothetical protein Rv0566c\",0.0376,1.62],[null,\"methyltransferase/methylase\",0.009,0.62],[\"cyp135B1\",\"cytochrome P450 Cyp135B1\",0.4667,0.93],[null,\"hypothetical protein Rv0571c\",0.0151,0.79],[null,\"transcriptional regulator\",0.7482,0.97],[\"TB27.3\",\"hypothetical protein Rv0577\",0.0506,1.65],[null,\"hypothetical protein Rv0580c\",0.1366,1.55],[\"lpqN\",\"lipoprotein LpqN\",0.6309,1.15],[\"mce2R\",\"HTH-type transcriptional regulator Mce2R\",0.1529,1.27],[\"mce2D\",\"Mce family protein Mce2D\",0.8598,0.93],[null,\"hypothetical protein Rv0597c\",0.2205,0.85],[\"vapC27\",\"ribonuclease VapC27\",0.131,1.87],[\"tcrA\",\"two component DNA binding transcriptional regulator TcrA\",0.6504,1.21],[\"lpqO\",\"lipoprotein LpqO\",0.6971,1.11],[null,\"hypothetical protein Rv0613c\",0.021,0.71],[\"recD\",\"exonuclease V subunit alpha RecD\",0.0904,0.74],[\"recB\",\"exonuclease V subunit beta RecB\",0.3433,0.87],[\"recC\",\"exonuclease V subunit gamma RecC\",0.3791,0.87],[\"echA3\",\"enoyl-CoA hydratase EchA3\",0.2301,1.36],[null,\"hypothetical protein Rv0633c\",0.7471,0.98],[null,\"glyoxalase II\",0.3681,1.16],[null,\"hypothetical protein Rv0634A\",0.9547,1.04],[\"hadA\",\"(3R)-hydroxyacyl-ACP dehydratase subunit HadA\",0.1685,0.86],[\"hadB\",\"(3R)-hydroxyacyl-ACP dehydratase subunit HadB\",0.1529,0.9],[\"secE1\",\"preprotein translocase SecE\",0.2028,1.57],[\"nusG\",\"transcription termination/antitermination protein NusG\",0.1399,0.86],[\"rplK\",\"50S ribosomal protein L11\",0.5863,1.06],[\"rplA\",\"50S ribosomal protein L1\",0.1246,1.24],[\"mmaA4\",\"hydroxymycolate synthase MmaA4\",0.2524,0.86],[\"mmaA3\",\"methoxy mycolic acid synthase MmaA3\",0.727,1.02],[\"mmaA2\",\"cyclopropane mycolic acid synthase CmaA\",0.0098,0.77],[\"mmaA1\",\"mycolic acid methyltransferase MmaA1\",0.7872,1.01],[\"lipG\",\"lipase/esterase LipG\",0.1832,1.21],[null,\"hypothetical protein Rv0647c\",0.7716,0.97],[\"rplJ\",\"50S ribosomal protein L10\",0.3186,1.22],[\"rplL\",\"50S ribosomal protein L7/L12\",0.1674,1.3],[null,\"carotenoid cleavage oxygenase\",0.7725,1.02],[\"mkl\",\"ribonucleotide ABC transporter ATP-binding protein\",0.0203,0.58],[\"rpoB\",\"DNA-directed RNA polymerase subunit beta\",0.6692,0.9],[\"rpoC\",\"DNA-directed RNA polymerase subunit beta\\\\\\\\'\",0.4688,0.88],[null,\"neutral ceramidase\",0.0849,0.71],[\"end\",\"endonuclease IV\",0.7875,0.88],[\"fadE8\",\"acyl-CoA dehydrogenase FadE8\",0.091,0.8],[\"echA4\",\"enoyl-CoA hydratase EchA4\",0.1905,0.83],[null,\"hypothetical protein Rv0674\",0.6893,1.22],[\"echA5\",\"enoyl-CoA hydratase EchA5\",0.738,1.02],[\"mmpL5\",\"transmembrane transport protein MmpL5\",0.201,1.38],[\"mmpS5\",\"membrane protein MmpS5\",0.1411,1.61],[null,\"hypothetical protein Rv0678\",0.2111,1.49],[null,\"transcriptional regulator\",0.229,1.3],[\"rpsG\",\"30S ribosomal protein S7\",0.2332,1.39],[\"fusA1\",\"elongation factor G\",0.3978,1.11],[\"tuf\",\"elongation factor Tu\",0.9977,1.01],[null,\"membrane protein\",0.1777,1.39],[null,\"NAD-dependent oxidoreductase\",0.0712,1.28],[null,\"ferredoxin reductase\",0.029,0.7],[null,\"hypothetical protein Rv0690c\",0.0073,0.57],[null,\"mycofactocin system heme/flavin oxidoreductase MftD\",0.0274,0.69],[null,\"mycofactocin system creatinine amidohydrolase family protein MftE\",0.1961,0.69],[null,\"mycofactocin biosynthesis glycosyltransferase MftF\",0.0145,0.5],[null,\"dehydrogenase\",0.0004,0.49],[\"rpsJ\",\"30S ribosomal protein S10\",0.9102,0.92],[\"rplC\",\"50S ribosomal protein L3\",0.266,1.19],[\"rplD\",\"50S ribosomal protein L4\",0.2862,1.23],[\"rplW\",\"50S ribosomal protein L23\",0.7658,0.91],[\"rplB\",\"50S ribosomal protein L2\",0.6762,0.92],[\"rpsS\",\"30S ribosomal protein S19\",0.4829,1.16],[\"rplV\",\"50S ribosomal protein L22\",0.5683,1.07],[\"rpsC\",\"30S ribosomal protein S3\",0.0523,0.74],[\"rplP\",\"50S ribosomal protein L16\",0.9521,1.05],[\"rpmC\",\"50S ribosomal protein L29\",0.1238,1.19],[\"rpsQ\",\"30S ribosomal protein S17\",0.0732,1.71],[\"atsA\",\"arylsulfatase AtsA\",0.0508,1.3],[null,\"hypothetical protein Rv0712\",0.1386,1.19],[null,\"transmembrane protein\",0.7367,1.12],[\"rplN\",\"50S ribosomal protein L14\",0.8371,0.87],[\"rplX\",\"50S ribosomal protein L24\",0.6147,1.09],[\"rplE\",\"50S ribosomal protein L5\",0.281,1.24],[\"rpsH\",\"30S ribosomal protein S8\",0.5395,1.1],[\"rplF\",\"50S ribosomal protein L6\",0.7382,1.08],[\"rplR\",\"50S ribosomal protein L18\",0.4544,1.15],[\"rpsE\",\"30S ribosomal protein S5\",0.6156,0.9],[\"rpmD\",\"50S ribosomal protein L30\",0.6874,0.89],[\"rplO\",\"50S ribosomal protein L15\",0.2803,1.25],[\"sppA\",\"protease IV SppA\",0.7616,1.02],[null,\"S-adenosylmethionine-dependent methyltransferase\",0.1338,0.9],[\"fucA\",\"L-fuculose phosphate aldolase FucA\",0.9017,1.0],[\"xylB\",\"D-xylulose kinase XylB\",0.5641,0.97],[null,\"GCN5-like N-acetyltransferase\",0.337,1.15],[null,\"S-adenosylmethionine-dependent methyltransferase\",0.9683,1.0],[\"secY\",\"preprotein translocase SecY\",0.9201,1.03],[\"adk\",\"adenylate kinase\",0.095,1.42],[\"mapA\",\"methionine aminopeptidase\",0.9193,0.94],[null,\"hypothetical protein Rv0738\",0.0558,1.6],[null,\"hypothetical protein Rv0740\",0.7068,1.06],[null,\"hypothetical protein Rv0743c\",0.8609,0.92],[null,null,0.2647,0.47],[\"mmsB\",\"3-hydroxyisobutyrate dehydrogenase\",0.407,1.13],[\"fadE9\",\"acyl-CoA dehydrogenase FadE9\",0.0708,0.81],[\"mmsA\",\"methylmalonate-semialdehyde dehydrogenase\",0.3334,0.91],[\"phoP\",\"two component system response transcriptional positive regulator PhoP\",0.8762,1.01],[\"phoR\",\"two component system response sensor kinase PhoR\",0.9057,1.0],[null,\"hypothetical protein Rv0759c\",0.4901,1.13],[null,\"hypothetical protein Rv0760c\",0.3873,0.6],[\"adhB\",\"alcohol dehydrogenase B\",0.0005,0.58],[\"cyp51\",\"lanosterol 14-alpha demethylase\",0.8148,0.95],[null,\"oxidoreductase\",0.5613,0.96],[\"cyp123\",\"cytochrome P450 Cyp123\",0.1117,0.77],[null,\"HTH-type transcriptional regulator\",0.0262,0.73],[\"aldA\",\"aldehyde dehydrogenase AldA\",0.6418,1.04],[null,\"oxidoreductase\",0.0856,1.41],[null,\"oxidoreductase\",0.7693,1.05],[\"purD\",\"phosphoribosylamine--glycine ligase\",0.0578,0.79],[\"ggtA\",\"bifunctional cephalosporin acylase/gamma-glutamyltranspeptidase\",0.7452,1.04],[null,\"hypothetical protein Rv0774c\",0.6808,1.02],[null,\"hypothetical protein Rv0775\",0.7523,0.97],[\"purB\",\"adenylosuccinate lyase PurB\",0.5989,0.95],[\"cyp126\",\"cytochrome P450 Cyp126\",0.0497,0.7],[\"purC\",\"phosphoribosylaminoimidazole-succinocarboxamide synthase\",0.9645,1.0],[null,\"KsdD-like steroid dehydrogenase\",0.0419,0.58],[null,\"hypothetical protein Rv0786c\",0.2548,1.43],[null,\"hypothetical protein Rv0787A\",0.1908,0.76],[\"purQ\",\"phosphoribosylformylglycinamidine synthase\",0.3501,1.2],[null,\"hypothetical protein Rv0791c\",0.8817,0.99],[null,\"transcriptional regulator\",0.7729,0.92],[null,\"oxidoreductase\",0.2673,1.13],[\"cfp29\",\"hypothetical protein Rv0798c\",0.071,1.23],[null,\"hypothetical protein Rv0799c\",0.1264,0.63],[\"pepC\",\"M18 family aminopeptidase\",0.2734,0.85],[null,\"hypothetical protein Rv0801\",0.9828,0.92],[null,\"succinyl-CoA transferase\",0.3293,1.29],[\"purL\",\"phosphoribosylformylglycinamidine synthase 2\",0.1148,0.86],[\"cpsY\",\"exopolysaccharide phosphotransferase CpsY\",0.0849,0.53],[null,\"hypothetical protein Rv0807\",0.2574,1.26],[\"purF\",\"amidophosphoribosyltransferase\",0.0011,0.69],[\"purM\",\"phosphoribosylformylglycinamidine cyclo-ligase PurM\",0.1829,0.89],[null,\"hypothetical protein Rv0811c\",0.8235,1.06],[null,\"amino acid aminotransferase\",0.9194,0.95],[null,\"hypothetical protein Rv0813c\",0.3277,1.18],[null,\"hypothetical protein Rv0814c\",0.0745,0.61],[null,\"hypothetical protein Rv3118\",0.0745,0.61],[\"cysA2\",\"thiosulfate sulfurtransferase CysA\",0.306,0.85],[\"cysA3\",\"thiosulfate sulfurtransferase\",0.306,0.85],[null,\"hypothetical protein Rv0817c\",0.1222,1.42],[null,\"transcriptional regulator\",0.7327,1.02],[\"mshD\",\"mycothiol acetyltransferase\",0.4693,1.11],[\"phoT\",\"phosphate ABC transporter ATP-binding protein PhoT\",0.469,0.86],[\"phoY2\",\"phosphate-transport system transcriptional regulator PhoY2\",0.2937,1.25],[null,\"hypothetical protein Rv0822c\",0.5913,0.92],[null,\"tRNA-dihydrouridine synthase\",0.0073,0.65],[\"desA1\",\"acyl-ACP desaturase DesA\",0.0029,0.6],[null,\"hypothetical protein Rv0825c\",0.9516,0.96],[null,\"S-adenosylmethionine-dependent methyltransferase\",0.1146,1.28],[null,\"hypothetical protein Rv0831c\",0.6188,1.06],[\"lpqQ\",\"lipoprotein LpqQ\",0.0863,1.62],[null,\"hypothetical protein Rv0837c\",0.2245,0.82],[null,\"hypothetical protein Rv0839\",0.1932,0.74],[\"pip\",\"proline iminopeptidase\",0.5653,1.11],[\"narL\",\"nitrate/nitrite response transcriptional regulator NarL\",0.6092,1.06],[null,\"hypothetical protein Rv0852\",0.6741,0.91],[\"pdc\",\"alpha-keto-acid decarboxylase\",0.17,0.86],[null,\"hypothetical protein Rv0854\",0.2055,1.31],[\"far\",\"fatty-acid-CoA racemase\",0.2641,0.85],[\"dapC\",\"N-succinyldiaminopimelate aminotransferase DapC\",0.2443,0.81],[null,\"acyltransferase\",0.8083,1.06],[\"fadB\",\"fatty oxidation protein FadB\",0.291,1.16],[\"ercc3\",\"DNA helicase Ercc3\",0.1021,0.87],[null,\"hypothetical protein Rv0862c\",0.3213,0.82],[\"moaC2\",\"cyclic pyranopterin monophosphate synthase accessory protein\",0.0136,0.6],[\"mog\",\"molybdopterin biosynthesis protein\",0.7629,0.8],[\"moaE2\",\"molybdopterin synthase catalytic subunit 2\",0.1849,1.54],[\"moaD2\",\"cyclic pyranopterin monophosphate synthase\",0.8348,0.96],[\"cspB\",\"cold shock-like protein CspB\",0.3465,1.23],[\"fadE10\",\"acyl-CoA dehydrogenase FadE10\",0.1443,0.88],[null,\"hypothetical protein Rv0877\",0.7366,0.97],[null,\"HTH-type transcriptional regulator\",0.6513,1.1],[\"serC\",\"phosphoserine aminotransferase\",0.6476,0.96],[null,\"hypothetical protein Rv0885\",0.0322,0.67],[\"fprB\",\"ferredoxin/ferredoxin--NADP reductase\",0.0075,0.56],[null,\"hypothetical protein Rv0887c\",0.1807,0.71],[null,\"hypothetical protein Rv0888\",0.506,0.9],[\"citA\",\"citrate synthase 2\",0.1112,0.83],[null,\"HTH-type transcriptional regulator\",0.8333,1.09],[null,\"S-adenosylmethionine-dependent methyltransferase\",0.3278,0.75],[\"gltA2\",\"citrate synthase 1\",0.069,0.78],[null,\"oxidoreductase\",0.0209,0.88],[\"arfA\",\"peptidoglycan-binding protein ArfA\",0.4561,1.16],[\"prrB\",\"two component sensor histidine kinase PrrB\",0.7645,0.93],[\"prrA\",\"two component transcriptional regulator PrrA\",0.5592,1.12],[\"accD3\",\"acetyl-CoAcarboxylase carboxyl transferase subunit beta\",0.1238,0.86],[\"echA6\",\"enoyl-CoA hydratase EchA6\",0.1275,1.53],[null,\"hypothetical protein Rv0906\",0.8324,0.97],[null,\"hypothetical protein Rv0907\",0.3213,1.19],[\"ctpE\",\"metal cation transporter ATPase E\",0.9599,1.2],[null,\"toxin\",0.7932,0.86],[null,\"hypothetical protein Rv0911\",0.5733,1.07],[null,\"dioxygenase\",0.022,0.65],[null,\"lipid carrier protein or keto acyl-CoA thiolase\",0.0103,0.66],[null,\"hypothetical protein Rv0923c\",0.0441,0.76],[null,\"hypothetical protein Rv0925c\",0.0237,0.77],[null,\"hypothetical protein Rv0926c\",0.0393,0.8],[null,\"oxidoreductase\",0.305,1.22],[\"pstS3\",\"phosphate ABC transporter substrate-binding lipoprotein PstS\",0.3797,0.82],[\"pknD\",\"serine/threonine-protein kinase PknD\",0.3873,0.85],[\"pstS2\",\"phosphate ABC transporter substrate-binding lipoprotein PstS\",0.8594,1.07],[\"pstB\",\"phosphate ABC transporter ATP-binding protein PstB\",0.5814,1.1],[\"pstS1\",\"phosphate ABC transporter substrate-binding lipoprotein PstS\",0.5595,1.09],[\"mku\",\"non-homologous end joining protein Ku\",0.0535,0.79],[\"ligD\",\"multifunctional non-homologous end joining DNA repair protein/ATP dependent DNA ligase LigD\",0.3076,0.87],[null,null,0.0362,0.64],[null,\"oxidoreductase\",0.7935,0.92],[null,\"hypothetical protein Rv0941c\",0.2431,0.68],[\"pgi\",\"glucose-6-phosphate isomerase\",0.2878,0.93],[\"uvrD1\",\"ATP-dependent DNA helicase UvrD\",0.1836,0.79],[\"sucC\",\"succinyl-CoA ligase subunit beta\",0.6326,0.95],[\"sucD\",\"succinyl-CoA ligase subunit alpha\",0.3663,1.13],[null,\"oxidoreductase\",0.4881,1.11],[null,\"transmembrane protein\",0.9468,1.01],[\"purN\",\"phosphoribosylglycinamide formyltransferase PurN\",0.5167,1.11],[\"purH\",\"bifunctional phosphoribosylaminoimidazolecarboxamide formyltransferase/inosinemonophosphate cyclohydrolase\",0.1171,0.9],[null,\"magnesium chelatase\",0.3502,1.18],[null,\"hypothetical protein Rv0959\",0.3799,0.88],[\"vapC9\",\"ribonuclease VapC9\",0.7163,1.06],[null,\"hypothetical protein Rv0966c\",0.8827,1.17],[\"csoR\",\"copper-sensing transcriptional repressor CsoR\",0.002,6.73],[null,\"hypothetical protein Rv0968\",0.0014,3.86],[\"ctpV\",\"copper-exporting ATPase\",0.0004,3.27],[\"echA7\",\"enoyl-CoA hydratase EchA7\",0.0206,1.95],[\"fadE12\",\"acyl-CoA dehydrogenase FadE12\",0.8777,1.1],[\"accA2\",\"acetyl-/propionyl-CoA carboxylase subunit alpha\",0.1278,1.3],[\"accD2\",\"acetyl-/propionyl-CoA carboxylase subunit beta\",0.0127,1.51],[\"fadE13\",\"acyl-CoA dehydrogenase FadE13\",0.0961,1.26],[\"rpmF\",\"50S ribosomal protein L32\",0.7175,0.8],[\"mprA\",\"two-component response regulator MrpA\",0.2037,1.47],[\"pepD\",\"serine protease PepD\",0.3616,0.9],[\"moaB2\",\"pterin-4-alpha-carbinolamine dehydratase\",0.0755,1.55],[\"grcC2\",\"polyprenyl-diphosphate synthase GrcC\",0.4887,1.06],[null,\"hypothetical protein Rv0991c\",0.2556,1.25],[null,\"hypothetical protein Rv0992c\",0.331,1.22],[\"galU\",\"UTP--glucose-1-phosphate uridylyltransferase\",0.0996,0.77],[\"moeA1\",\"molybdopterin molybdenumtransferase 1\",0.8615,0.99],[\"rimJ\",\"ribosomal-protein-alanine acetyltransferase RimJ\",0.8279,0.93],[null,\"acetyltransferase\",0.0851,0.79],[null,\"hypothetical protein Rv0999\",0.4656,1.3],[\"arcA\",\"arginine deiminase\",0.0279,0.78],[null,\"hypothetical protein Rv1006\",0.6815,1.1],[\"metS\",\"methionine--tRNA ligase\",0.2019,0.9],[\"tatD\",\"deoxyribonuclease TatD\",0.9801,0.95],[\"ksgA\",\"rRNA small subunit methyltransferase A\",0.0338,0.66],[\"ispE\",\"4-diphosphocytidyl-2-C-methyl-D-erythritol kinase\",0.3452,0.91],[\"pks16\",\"polyketide synthase\",0.2454,1.15],[\"pth\",\"peptidyl-tRNA hydrolase\",0.1679,1.86],[\"rplY\",\"50S ribosomal protein L25\",0.3568,1.2],[\"lpqT\",\"lipoprotein LpqT\",0.6824,1.18],[\"prsA\",\"ribose-phosphate pyrophosphokinase\",0.6616,0.95],[\"glmU\",\"bifunctional UDP-N-acetylglucosamine pyrophosphorylase/glucosamine-1-phosphate N-acetyltransferase\",0.002,0.64],[null,\"transcriptional regulator\",0.3177,1.25],[\"mfd\",\"transcription-repair coupling factor\",0.1898,0.84],[null,\"nucleoside triphosphate pyrophosphohydrolase\",0.9454,1.0],[\"eno\",\"enolase\",0.9739,1.02],[null,\"hypothetical protein Rv1025\",0.0561,1.82],[null,\"hypothetical protein Rv1026\",0.593,1.12],[\"trcS\",\"two component sensor histidine kinase TrcS\",0.2313,1.24],[\"trcR\",\"two component transcriptional regulator TrcR\",0.468,0.82],[null,\"hypothetical protein Rv1043c\",0.2668,0.83],[null,\"hypothetical protein Rv1045\",0.043,1.8],[null,\"hypothetical protein Rv1056\",0.24,1.28],[\"fadD14\",\"fatty-acid--CoA ligase FadD14\",0.0151,0.74],[null,\"hypothetical protein Rv1059\",0.0379,0.81],[null,\"hypothetical protein Rv1060\",0.2653,1.39],[null,\"hypothetical protein Rv1061\",0.492,1.1],[null,\"hypothetical protein Rv1062\",0.5737,0.92],[null,\"NTE family protein\",0.2299,0.86],[\"echA8\",\"enoyl-CoA hydratase EchA8\",0.2059,1.25],[\"echA9\",\"enoyl-CoA hydratase EchA9\",0.2071,0.86],[null,\"transmembrane protein\",0.1127,2.82],[\"fadA3\",\"beta-ketoacyl CoA thiolase FadA\",0.2606,0.86],[\"cbs\",\"cystathionine beta-synthase\",0.1076,0.9],[null,\"hypothetical protein Rv1078\",0.0228,1.84],[\"metB\",\"cystathionine gamma-synthase\",0.3299,0.91],[\"greA\",\"transcription elongation factor GreA\",0.0208,1.61],[\"mca\",\"mycothiol S-conjugate amidase\",0.4456,1.12],[null,\"hypothetical protein Rv1084\",0.2108,0.85],[null,null,0.3119,1.3],[\"coaA\",\"pantothenate kinase\",0.9035,1.0],[\"glyA1\",\"serine hydroxymethyltransferase\",0.4435,0.92],[\"desA2\",\"acyl-ACP desaturase DesA\",0.5022,0.74],[\"phoH2\",\"phosphate starvation-inducible protein PsiH\",0.0918,0.78],[null,\"glycosyl hydrolase\",0.0102,0.54],[null,\"hypothetical protein Rv1097c\",0.8707,0.79],[\"fum\",\"fumarate hydratase\",0.0873,0.8],[null,null,0.1123,0.73],[null,\"hypothetical protein Rv1100\",0.5038,1.09],[null,\"hypothetical protein Rv1101c\",0.3372,1.8],[null,\"3 beta-hydroxysteroid dehydrogenase/delta 5-->4-isomerase\",0.2552,0.85],[\"xseA\",\"exodeoxyribonuclease VII large subunit\",0.0072,0.79],[null,\"hypothetical protein Rv1109c\",0.0791,1.7],[\"lytB2\",\"4-hydroxy-3-methylbut-2-enyl diphosphate reductase\",0.0966,0.78],[null,\"hypothetical protein Rv1111c\",0.6068,1.22],[null,\"GTP-binding protein\",0.2699,0.88],[\"vapC32\",\"ribonuclease VapC32\",0.8662,0.94],[null,\"hypothetical protein Rv1117\",0.616,0.78],[null,\"hypothetical protein Rv1118c\",0.5389,1.15],[\"zwf1\",\"glucose-6-phosphate 1-dehydrogenase\",0.0613,0.8],[\"gnd2\",\"6-phosphogluconate dehydrogenase\",0.4124,1.13],[\"ephC\",\"epoxide hydrolase EphC\",0.1375,0.83],[null,\"hypothetical protein Rv1126c\",0.5075,1.11],[null,null,0.0012,0.7],[null,\"transcriptional regulator\",0.0007,2.61],[\"prpD\",\"methylcitrate dehydratase PrpD\",0.0043,6.52],[\"prpC\",\"methylcitrate synthase PrpC\",0.019,6.52],[\"metE\",\"5-methyltetrahydropteroyltriglutamate--homocysteine methyltransferase\",0.0855,0.81],[\"echA11\",\"enoyl-CoA hydratase EchA11\",0.5767,0.8],[\"echA10\",\"enoyl-CoA hydratase EchA10\",0.9187,0.94],[\"mcr\",\"alpha-methylacyl-CoA racemase\",0.3092,0.87],[null,\"oxidoreductase\",0.2362,1.24],[null,null,0.4443,1.23],[null,\"NAD-dependent protein deacylase\",0.4303,1.25],[\"omt\",\"O-methyltransferase\",0.1513,0.71],[null,\"hypothetical protein Rv1154c\",0.2629,0.89],[null,\"pyridoxine/pyridoxamine 5\\\\\\\\'-phosphate oxidase\",0.2601,1.59],[null,\"hypothetical protein Rv1156\",0.3901,1.17],[null,\"pterin-4-alpha-carbinolamine dehydratase\",0.1166,1.49],[\"mutT2\",\"8-oxo-dGTP diphosphatase\",0.1165,0.77],[\"narG\",\"nitrate reductase subunit alpha\",0.0914,0.69],[\"narH\",\"nitrate reductase subunit beta\",0.7927,0.84],[\"typA\",\"GTP-binding translation elongation factor\",0.9897,0.96],[\"lpqW\",\"monoacyl phosphatidylinositol tetramannoside-binding protein LpqW\",0.8783,0.93],[null,\"transcriptional regulator\",0.6079,0.77],[\"mshB\",\"1D-myo-inositol 2-acetamido-2-deoxy-alpha-D-glucopyranoside deacetylase\",0.2736,1.2],[\"fbiC\",\"FO synthase\",0.4026,0.87],[null,null,0.2968,0.8],[null,\"hypothetical protein Rv1176c\",0.0625,0.48],[\"fdxC\",\"ferredoxin FdxC\",0.5535,1.1],[null,\"aminotransferase\",0.1273,0.78],[\"fadD21\",\"fatty-acid--CoA ligase FadD21\",0.1076,0.78],[\"rocA\",\"pyrroline-5-carboxylate dehydrogenase RocA\",0.0237,0.55],[null,\"proline dehydrogenase\",0.2599,0.71],[null,\"hypothetical protein Rv1190\",0.8908,1.01],[null,\"hypothetical protein Rv1191\",0.8095,0.91],[null,\"hypothetical protein Rv1192\",0.0374,1.49],[\"fadD36\",\"fatty-acid--CoA ligase FadD36\",0.1585,0.85],[null,\"hypothetical protein Rv1194c\",0.0124,0.67],[null,null,0.7595,0.98],[\"esxL\",\"ESAT-6 like protein EsxL\",0.4124,0.75],[null,null,0.3783,1.15],[\"dapE\",\"succinyl-diaminopimelate desuccinylase DapE\",0.0997,0.85],[\"fadD6\",\"fatty-acid--CoA ligase FadD6\",0.2616,0.83],[\"folP2\",\"dihydropteroate synthase\",0.6257,1.05],[\"gpgS\",\"glucosyl-3-phosphoglycerate synthase\",0.1182,0.5],[null,\"hypothetical protein Rv1209\",0.0095,3.45],[\"tagA\",\"DNA-3-methyladenine glycosylase I TagA\",0.7322,1.03],[\"glgC\",\"glucose-1-phosphate adenylyltransferase\",0.043,0.79],[null,\"hypothetical protein Rv1215c\",0.1644,0.81],[null,\"integral membrane protein\",0.0414,2.78],[null,\"tetronasin ABC transporter ATP-binding protein\",0.0105,1.72],[null,\"transcriptional regulator\",0.0591,1.71],[null,\"methyltransferase\",0.1305,1.39],[\"sigE\",\"ECF RNA polymerase sigma factor SigE\",0.1676,1.28],[\"rseA\",\"anti-sigma E factor RseA\",0.9332,0.95],[\"htrA\",\"serine protease HtrA\",0.8796,1.04],[null,\"hypothetical protein Rv1225c\",0.3237,1.4],[\"mrp\",\"multiple resistance/pH adaptation protein\",0.049,0.77],[null,\"membrane protein\",0.3361,0.64],[null,\"hypothetical protein Rv1232c\",0.0094,0.73],[null,\"transmembrane protein\",0.1634,1.73],[\"lpqY\",\"trehalose ABC transporter substrate-binding lipoprotein LpqY\",0.2465,0.85],[\"sugC\",\"sugar ABC transporter ATP-binding protein SugC\",0.9441,0.99],[\"corA\",\"magnesium and cobalt transport transmembrane protein CorA\",0.3285,0.8],[\"mdh\",\"malate dehydrogenase\",0.8341,1.0],[\"vapC33\",\"ribonuclease VapC33\",0.5985,1.04],[\"lpqZ\",\"lipoprotein LpqZ\",0.0905,1.57],[null,\"short-chain type dehydrogenase/reductase\",0.7915,0.95],[null,\"multifunctional 2-oxoglutarate dehydrogenase E1 component /2-oxoglutarate dehydrogenase dihydrolipoyllysine-residue succinyltransferase\",0.6889,0.95],[null,\"membrane protein\",0.3207,1.31],[null,\"hypothetical protein Rv1251c\",0.0672,0.72],[\"deaD\",\"ATP-dependent RNA helicase DeaD\",0.0053,0.61],[null,\"HTH-type transcriptional regulator\",0.8301,0.98],[\"cyp130\",\"cytochrome P450 Cyp130\",0.0278,0.5],[null,\"oxidoreductase\",0.779,1.06],[\"udgB\",\"uracil DNA glycosylase\",0.5533,0.84],[null,\"oxidoreductase\",0.2686,0.87],[null,\"hypothetical protein Rv1261c\",0.1301,1.57],[\"amiB2\",\"amidase AmiB\",0.6363,0.91],[null,\"adenylyl cyclase\",0.3965,0.91],[null,\"hypothetical protein Rv1265\",0.2066,1.39],[\"pknH\",\"serine/threonine-protein kinase PknH\",0.6503,0.94],[\"embR\",\"transcriptional regulator EmbR\",0.0028,0.72],[null,\"hypothetical protein Rv1269c\",0.8101,1.0],[\"lprA\",\"lipoprotein LprA\",0.8591,1.11],[\"lprB\",\"lipoprotein LprB\",0.0247,1.51],[\"lprC\",\"lipoprotein LprC\",0.261,1.39],[null,\"hypothetical protein Rv1276c\",0.3417,1.23],[null,\"hypothetical protein Rv1278\",0.8672,0.98],[null,\"GMC-type oxidoreductase\",0.035,0.72],[\"oppA\",\"oligopeptide ABC transporter substrate-binding lipoprotein OppA\",0.9187,1.03],[\"oppD\",\"oligopeptide ABC transporter ATP-binding protein OppD\",0.9621,0.99],[\"oppB\",\"oligopeptide ABC transporter permease OppB\",0.2604,1.31],[\"canA\",\"beta-carbonic anhydrase\",0.0273,0.74],[\"cysD\",\"sulfate adenylyltransferase subunit 2\",0.0414,0.71],[null,\"bifunctional sulfate adenyltransferase subunit 1 CysN/adenylylsulfate kinase CysC\",0.0352,0.73],[null,\"HTH-type transcriptional regulator\",0.2697,1.3],[null,\"hypothetical protein Rv1288\",0.7555,0.85],[null,\"hypothetical protein Rv1289\",0.5525,1.09],[\"argS\",\"arginine--tRNA ligase\",0.9187,1.02],[\"lysA\",\"diaminopimelate decarboxylase\",0.4606,0.92],[\"thrA\",\"homoserine dehydrogenase\",0.0021,0.76],[\"thrC\",\"threonine synthase\",0.4279,0.92],[\"thrB\",\"homoserine kinase\",0.297,1.18],[\"rho\",\"transcription termination factor Rho\",0.1007,0.82],[\"rpmE\",\"50S ribosomal protein L31\",0.6377,1.11],[\"prfA\",\"peptide chain release factor PrfA\",0.1738,0.88],[null,\"threonylcarbamoyl-AMP synthase\",0.0361,1.64],[\"atpB\",\"ATP synthase subunit A\",0.0323,2.46],[\"atpF\",\"ATP synthase subunit B\",0.1778,1.64],[\"atpH\",\"ATP synthase subunit b/delta\",0.2833,0.81],[\"atpA\",\"ATP synthase subunit alpha\",0.5145,0.91],[\"atpG\",\"ATP synthase subunit gamma\",0.8291,1.02],[\"atpD\",\"ATP synthase subunit beta\",0.0711,0.8],[\"atpC\",\"ATP synthase subunit epsilon\",0.5366,1.1],[null,null,0.2456,1.31],[\"murA\",\"UDP-N-acetylglucosamine 1-carboxyvinyltransferase\",0.0191,0.74],[\"ogt\",\"methylated-DNA--protein-cysteine methyltransferase\",0.5288,1.11],[\"alkA\",\"bifunctional regulatory protein/DNA repair enzyme AlkA\",0.0598,0.79],[null,\"endonuclease NucS\",0.8706,0.97],[null,\"hypothetical protein Rv1322A\",0.893,1.01],[\"fadA4\",\"acetyl-CoA acetyltransferase\",0.4094,0.88],[null,\"thioredoxin\",0.3653,0.91],[null,null,0.639,0.93],[null,null,0.8987,0.97],[\"glgP\",\"glycogen phosphorylase\",0.7659,0.95],[\"dinG\",\"ATP-dependent helicase DinG\",0.1699,0.82],[\"pncB1\",\"nicotinic acid phosphoribosyltransferase PncB1\",0.4894,0.93],[null,\"transcriptional regulator\",0.1668,1.33],[null,\"hydrolase\",0.0459,0.73],[\"mec\",\"CysO-cysteine peptidase\",0.2515,1.27],[\"cysO\",\"sulfur carrier protein CysO\",0.1732,0.75],[\"cysM\",\"O-phosphoserine sulfhydrylase\",0.4527,0.93],[\"murI\",\"glutamate racemase\",0.4235,1.15],[null,\"hypothetical protein Rv1339\",0.1823,1.22],[\"rphA\",\"ribonuclease PH\",0.1939,1.22],[null,\"non-canonical purine NTP pyrophosphatase\",0.0944,1.45],[\"mbtM\",\"long-chain-fatty-acid--ACP ligase MbtM\",0.3792,1.14],[\"mbtN\",\"acyl-ACP dehydrogenase MbtN\",0.1121,1.55],[\"mbtK\",\"lysine N-acetyltransferase MbtK\",0.1167,1.51],[\"fabG2\",\"3-oxoacyl-ACP reductase FabG\",0.6003,1.1],[null,\"oxidoreductase\",0.3186,0.92],[\"PPE18\",\"PPE family protein PPE18\",0.3067,0.76],[\"PPE19\",\"PPE family protein PPE19\",0.3067,0.76],[null,\"membrane protein\",0.6843,1.13],[null,\"membrane protein\",0.5816,0.93],[null,\"sigma factor regulatory protein\",0.8246,1.01],[null,\"hypothetical protein Rv1366\",0.7821,0.93],[null,\"hypothetical protein Rv1367c\",0.2263,1.34],[\"lprF\",\"lipoprotein LprF\",0.7393,0.99],[null,\"transferase\",0.1416,1.55],[\"pyrR\",\"bifunctional pyrimidine operon regulatory protein/uracil phosphoribosyltransferase\",0.9664,1.04],[\"pyrB\",\"aspartate carbamoyltransferase\",0.3447,0.82],[\"pyrC\",\"dihydroorotase\",0.0399,0.73],[\"carA\",\"carbamoyl-phosphate synthase small subunit\",0.1065,0.8],[\"carB\",\"carbamoyl-phosphate synthase large subunit\",0.3305,0.86],[\"pyrF\",\"orotidine 5\\\\\\\\'-phosphate decarboxylase\",0.5228,1.11],[\"PPE20\",\"PPE family protein PPE20\",0.0499,0.87],[\"mihF\",\"integration host factor MihF\",0.7767,1.1],[\"gmk\",\"guanylate kinase\",0.3395,1.18],[\"rpoZ\",\"DNA-directed RNA polymerase subunit omega\",0.2478,1.33],[\"dfp\",\"bifunctional phosphopantothenoylcysteine decarboxylase/phosphopantothenate--cysteine ligase\",0.6165,0.94],[\"metK\",\"S-adenosylmethionine synthetase\",0.4373,1.09],[null,\"monoxygenase\",0.003,0.53],[null,\"HTH-type transcriptional regulator\",0.0029,0.58],[\"vapC10\",\"ribonuclease VapC10\",0.8983,0.86],[\"vapB10\",\"antitoxin VapB10\",0.2215,0.67],[\"nlhH\",\"carboxylesterase NlhH\",0.1983,0.8],[\"lipI\",\"lipase\",0.0568,0.69],[\"priA\",\"primosomal protein N\\\\\\\\'\",0.2088,0.83],[null,\"transcriptional regulator\",0.1687,1.47],[\"fmt\",\"methionyl-tRNA formyltransferase\",0.31,1.15],[\"fmu\",\"methyltransferase\",0.4523,1.03],[\"rpe\",\"ribulose-phosphate 3-epimerase\",0.1877,1.36],[\"ribG\",\"bifunctional riboflavin biosynthesis diaminohydroxyphosphoribosylaminopyrimidine deaminase/5-amino-6-(5-phosphoribosylamino) uracil reductase\",0.1058,0.83],[null,\"aminoglycosides/tetracycline-transport integral membrane protein\",0.7008,1.07],[\"lprG\",\"lipoprotein LprG\",0.0336,2.03],[\"ribC\",\"riboflavin synthase\",0.0269,1.86],[null,null,0.047,0.75],[null,null,0.0996,1.59],[\"uvrC\",\"excinuclease ABC subunit UvrC\",0.0736,0.61],[null,\"hypothetical protein Rv1421\",0.3952,1.16],[null,\"hypothetical protein Rv1422\",0.4271,0.91],[\"whiA\",\"transcriptional regulator WhiA\",0.0127,0.74],[null,\"membrane protein\",0.098,1.64],[null,\"diacyglycerol O-acyltransferase\",0.0189,0.56],[\"lipO\",\"esterase LipO\",0.0326,0.6],[\"fadD12\",\"long-chain-fatty-acid--CoA ligase FadD12\",0.0811,0.7],[null,\"hypothetical protein Rv1428c\",0.7491,1.06],[null,\"hypothetical protein Rv1429\",0.0332,0.8],[\"gap\",\"glyceraldehyde 3-phosphate dehydrogenase\",0.3527,1.16],[\"pgk\",\"phosphoglycerate kinase\",0.1136,1.23],[\"tpi\",\"triosephosphate isomerase\",0.1143,1.4],[null,\"hypothetical protein Rv2614A\",0.1143,1.4],[null,\"hypothetical protein Rv1439c\",0.3522,1.34],[\"bisC\",\"biotin sulfoxide reductase BisC\",0.5341,0.89],[null,\"hypothetical protein Rv1443c\",0.4017,1.18],[\"devB\",\"6-phosphogluconolactonase\",0.07,1.49],[\"opcA\",\"OXPP cycle protein OpcA\",0.028,1.67],[\"zwf2\",\"glucose-6-phosphate 1-dehydrogenase\",0.006,1.49],[\"tal\",\"transaldolase\",0.0629,1.34],[\"tkt\",\"transketolase\",0.5159,0.96],[\"qor\",\"quinone reductase\",0.4229,0.91],[null,\"hypothetical protein Rv1455\",0.2602,1.13],[null,\"antibiotic ABC transporter ATP-binding protein\",0.9575,1.02],[null,\"hypothetical protein Rv1461\",0.0621,0.81],[null,\"hypothetical protein Rv1462\",0.0684,0.8],[null,\"ABC transporter ATP-binding protein\",0.4723,1.13],[\"csd\",\"cysteine desulfurase\",0.436,0.94],[null,\"nitrogen fixation related protein\",0.0949,1.45],[null,\"hypothetical protein Rv1466\",0.0098,3.17],[\"fadE15\",\"acyl-CoA dehydrogenase FadE15\",0.3618,1.09],[\"trxB1\",\"thioredoxin\",0.0962,1.44],[null,\"macrolide ABC transporter ATP-binding protein\",0.0498,0.71],[\"acn\",\"iron-regulated aconitate hydratase\",0.8796,1.01],[\"ripA\",\"peptidoglycan endopeptidase RipA\",0.0248,1.53],[\"moxR1\",\"transcriptional regulator MoxR1\",0.0958,1.29],[null,\"hypothetical protein Rv1480\",0.9065,0.99],[null,\"membrane protein\",0.0289,1.48],[\"fabG1\",\"3-oxoacyl-ACP reductase FabG\",0.1879,1.25],[\"inhA\",\"NADH-dependent enoyl\",0.1935,1.31],[\"hemZ\",\"ferrochelatase\",0.2274,0.85],[null,\"hypothetical protein Rv1486c\",0.5452,0.96],[null,\"hypothetical protein Rv1487\",0.3119,7.58],[null,\"hypothetical protein Rv1488\",0.6067,1.1],[null,\"hypothetical protein Rv1489\",0.5069,1.21],[\"mutA\",\"methylmalonyl-CoA mutase small subunit\",0.1181,0.79],[\"mutB\",\"methylmalonyl-CoA mutase large subunit\",0.0359,0.72],[null,\"transport system kinase\",0.0607,0.73],[\"lipL\",\"esterase LipL\",0.5924,1.08],[null,\"methyltransferase\",0.5337,1.14],[null,\"hypothetical protein Rv1498A\",0.005,2.14],[null,\"hypothetical protein Rv1501\",0.9775,0.96],[null,\"hypothetical protein Rv1505c\",0.5944,1.16],[null,\"hypothetical protein Rv1507c\",0.4039,1.15],[null,\"membrane protein\",0.3678,0.79],[null,\"hypothetical protein Rv1509\",0.6261,0.95],[\"gmdA\",\"GDP-D-mannose dehydratase GmdA\",0.3782,0.89],[\"epiA\",\"nucleotide-sugar epimerase EpiA\",0.8729,1.0],[null,\"hypothetical protein Rv1513\",0.338,1.17],[null,\"glycosyltransferase\",0.7618,1.04],[null,\"sugar transferase\",0.1825,0.85],[\"fadD25\",\"fatty-acid--CoA ligase FadD25\",0.0032,0.74],[null,\"methyltransferase\",0.9746,0.97],[null,\"glycosyltransferase\",0.0543,0.75],[null,\"glycosyltransferase\",0.2838,1.19],[\"pks5\",\"polyketide synthase\",0.2986,1.14],[\"adh\",\"alcohol dehydrogenase\",0.0121,0.77],[null,\"hypothetical protein Rv1531\",0.9507,0.92],[null,\"monooxygenase\",0.7134,0.97],[null,\"transcriptional regulator\",0.7675,0.99],[\"ileS\",\"isoleucine--tRNA ligase\",0.9229,0.98],[\"dinX\",\"DNA polymerase IV\",0.1651,0.81],[\"ansA\",\"L-aparaginase\",0.943,1.01],[null,\"RNA pseudouridine synthase\",0.0073,0.56],[null,\"oxidoreductase\",0.076,0.73],[null,\"ketoacyl reductase\",0.4633,1.13],[null,\"hypothetical protein Rv1546\",0.2689,1.29],[\"dnaE1\",\"DNA polymerase III subunit alpha\",0.1307,0.73],[\"plsB1\",\"acyltransferase PlsB\",0.1881,0.74],[null,\"HTH-type transcriptional regulator\",0.8608,0.98],[null,\"hypothetical protein Rv1558\",0.0277,1.98],[\"ilvA\",\"threonine dehydratase IlvA\",0.3436,0.9],[\"vapC11\",\"ribonuclease VapC11\",0.8675,1.01],[\"treZ\",\"malto-oligosyltrehalose trehalohydrolase\",0.1456,0.82],[\"treY\",\"maltooligosyl trehalose synthase\",0.215,0.86],[\"treX\",\"maltooligosyl trehalose synthase\",0.4606,0.93],[null,\"hypothetical protein Rv1566c\",0.1587,1.37],[\"bioA\",\"adenosylmethionine-8-amino-7-oxononanoate aminotransferase\",0.6329,1.07],[\"bioF1\",\"8-amino-7-oxononanoate synthase\",0.052,0.69],[\"bioD\",\"ATP-dependent dethiobiotin synthetase BioD\",0.4456,1.16],[null,\"hypothetical protein Rv1571\",0.164,1.62],[null,\"phage capsid protein\",0.1799,1.13],[null,\"phage integrase\",0.0782,0.66],[\"bioB\",\"biotin synthetase\",0.0047,0.58],[null,\"hypothetical protein Rv1590\",0.0823,0.68],[null,\"hypothetical protein Rv1592c\",0.0734,1.66],[null,\"hypothetical protein Rv1593c\",0.8948,0.91],[\"nadA\",\"quinolinate synthetase A\",0.7798,0.96],[\"nadB\",\"L-aspartate oxidase\",0.6677,1.04],[\"nadC\",\"nicotinate-nucleotide pyrophosphatase\",0.196,1.21],[null,\"hypothetical protein Rv1597\",0.4951,1.1],[null,\"hypothetical protein Rv1598c\",0.1673,1.5],[\"hisD\",\"histidinol dehydrogenase\",0.0822,0.77],[\"hisC1\",\"histidinol-phosphate aminotransferase\",0.0952,0.84],[\"hisB\",\"imidazole glycerol-phosphate dehydratase\",0.525,0.67],[\"hisH\",\"imidazole glycerol phosphate synthase subunit HisH\",0.432,1.14],[\"hisA\",\"phosphoribosyl isomerase A\",0.1988,1.41],[\"hisF\",\"imidazole glycerol phosphate synthase subunit HisF\",0.4541,1.11],[\"chaA\",\"ionic transporter integral membrane protein ChaA\",0.1559,1.48],[\"bcpB\",\"peroxiredoxin\",0.1212,1.52],[\"trpE\",\"anthranilate synthase component I\",0.7948,0.98],[\"trpC\",\"indole-3-glycerol phosphate synthase\",0.684,1.04],[\"trpB\",\"tryptophan synthase subunit beta\",0.4385,0.91],[\"trpA\",\"tryptophan synthase subunit alpha\",0.5361,1.08],[\"lgt\",\"prolipoprotein diacylglyceryl transferase\",0.6715,1.12],[\"pykA\",\"pyruvate kinase\",0.5131,0.96],[\"tesB1\",\"acyl-CoA thioesterase TesB\",0.7165,0.86],[\"cydA\",\"cytochrome D ubiquinol oxidase subunit I CydA\",0.4568,0.46],[null,\"two-component system transcriptional regulator\",0.3449,1.22],[null,\"nonspecific lipid-transfer protein\",0.0879,0.82],[null,\"hypothetical protein Rv1628c\",0.1067,1.5],[\"polA\",\"DNA polymerase I\",0.5628,0.9],[\"rpsA\",\"30S ribosomal protein S1\",0.1189,0.78],[\"coaE\",\"dephospho-CoA kinase CoaE\",0.1536,0.84],[null,\"hypothetical protein Rv1632c\",0.5114,0.85],[\"uvrB\",\"excinuclease ABC subunit UvrB\",0.0711,0.73],[\"TB15.3\",\"iron-regulated universal stress protein\",0.063,1.69],[null,\"hypothetical protein Rv1637c\",0.3913,1.16],[\"uvrA\",\"excinuclease ABC subunit UvrA\",0.4158,0.8],[\"lysX\",\"bifunctional lysine--tRNA ligase/phosphatidylglycerol lysyltransferase\",0.9385,0.97],[\"infC\",\"initiation factor IF-3\",0.7594,0.95],[\"rplT\",\"50S ribosomal protein L20\",0.209,1.3],[\"tsnR\",\"23S rRNA methyltransferase TsnR\",0.8032,0.96],[null,\"adenylate cyclase\",0.9797,0.71],[\"pheS\",\"phenylalanine--tRNA ligase subunit alpha\",0.3914,0.9],[\"pheT\",\"phenylalanine--tRNA ligase subunit beta\",0.57,0.93],[\"argC\",\"N-acetyl-gamma-glutamyl-phoshate reductase\",0.1575,0.83],[\"argJ\",\"bifunctional glutamate N-acetyltransferase/amino-acid acetyltransferase\",0.9457,0.98],[\"argB\",\"acetylglutamate kinase\",0.2874,1.26],[\"argD\",\"acetylornithine aminotransferase\",0.1161,0.81],[\"argF\",\"ornithine carbamoyltransferase\",0.1778,0.82],[\"argG\",\"argininosuccinate synthase\",0.1766,0.84],[\"argH\",\"argininosuccinate lyase\",0.0198,0.75],[\"pks10\",\"chalcone synthase\",0.1106,0.78],[\"pks7\",\"polyketide synthase\",0.0669,0.69],[\"pks9\",\"polyketide synthase\",0.576,0.76],[\"pks11\",\"chalcone synthase\",0.0236,0.79],[null,\"hypothetical protein Rv1673c\",0.0017,0.68],[null,\"hypothetical protein Rv1676\",0.2803,1.28],[\"dsbF\",\"lipoprotein DsbF\",0.2842,1.42],[\"fadE16\",\"acyl-CoA dehydrogenase FadE16\",0.0004,0.64],[null,\"hypothetical protein Rv1680\",0.8954,0.93],[null,\"bifunctional long-chain acyl-CoA synthase/lipase\",0.1084,0.77],[null,\"hypothetical protein Rv1685c\",0.2997,1.43],[null,\"ABC transporter ATP-binding protein\",0.1896,1.31],[\"mpg\",\"3-methyladenine DNA glycosylase\",0.5662,1.12],[\"tyrS\",\"tyrosine--tRNA ligase\",0.8303,1.0],[null,\"hypothetical protein Rv1691\",0.5121,1.26],[null,\"phosphatase\",0.2573,0.8],[\"tlyA\",\"16S/23S rRNA (cytidine-2\\\\\\\\'-O)-methyltransferase TlyA\",0.2768,0.8],[\"ppnK\",\"inorganic polyphosphate/ATP-NAD kinase\",0.1696,0.81],[\"recN\",\"DNA repair protein RecN\",0.2958,0.82],[null,\"hypothetical protein Rv1697\",0.7345,0.89],[\"mctB\",\"copper transporter MctB\",0.5792,1.2],[\"pyrG\",\"CTP synthase\",0.0032,0.74],[null,\"NUDIX hydrolase\",0.5511,1.14],[null,\"tyrosine recombinase XerD\",0.0476,0.58],[null,\"methyltransferase\",0.5002,1.15],[null,\"transmembrane protein\",0.8839,0.96],[null,\"initiation inhibitor protein\",0.6551,1.04],[\"scpA\",\"segregation and condensation protein ScpA\",0.8321,0.98],[\"scpB\",\"segregation and condensation protein ScpB\",0.6987,0.86],[null,\"RNA pseudouridine synthase\",0.9843,0.99],[\"cmk\",\"cytidylate kinase\",0.7248,1.02],[\"engA\",\"GTPase Der\",0.0123,0.72],[null,\"transcriptional regulator\",0.5585,1.08],[null,\"carboxylase\",0.0804,0.81],[null,\"hydrolase\",0.1606,0.81],[null,\"hypothetical protein Rv1725c\",0.4431,1.16],[null,\"hypothetical protein Rv1728c\",0.7155,0.93],[null,\"S-adenosylmethionine-dependent methyltransferase\",0.5408,0.92],[null,\"penicillin-binding protein\",0.2756,0.85],[\"gabD2\",\"succinate-semialdehyde dehydrogenase\",0.0686,0.72],[null,\"hypothetical protein Rv1732c\",0.3545,1.2],[null,\"hypothetical protein Rv1742\",0.5553,1.09],[\"pknE\",\"serine/threonine-protein kinase PknE\",0.7482,0.96],[\"idi\",\"isopentenyl-diphosphate delta-isomerase\",0.7425,0.87],[\"pknF\",\"serine/threonine-protein kinase PknF\",0.1544,1.67],[null,\"ABC transporter ATP-binding protein/permease\",0.9004,0.96],[null,\"hypothetical protein Rv1748\",0.068,2.03],[\"fadD1\",\"fatty-acid--CoA ligase FadD1\",0.0008,0.81],[null,\"oxidoreductase\",0.0302,0.78],[null,\"hypothetical protein Rv1761c\",0.819,1.01],[null,\"hypothetical protein Rv1762c\",0.1788,1.7],[null,\"hypothetical protein Rv1767\",0.0357,0.45],[null,\"hypothetical protein Rv1769\",0.3063,0.82],[null,\"hypothetical protein Rv1770\",0.0174,0.57],[null,null,0.6228,0.96],[null,\"transcriptional regulator\",0.8039,1.09],[null,\"oxidoreductase\",0.0068,0.73],[null,\"hypothetical protein Rv1778c\",0.0818,1.65],[null,\"hypothetical protein Rv1780\",0.1742,1.29],[\"malQ\",\"4-alpha-glucanotransferase\",0.5728,0.9],[\"eccB5\",\"ESX-5 type VII secretion system protein EccB5\",0.3562,1.21],[\"eccC5\",\"ESX-5 type VII secretion system protein EccC5\",0.5424,1.11],[\"cyp143\",\"cytochrome P450 Cyp143\",0.4862,0.9],[null,null,0.7922,1.06],[null,\"hypothetical protein Rv1794\",0.9128,0.97],[\"eccD5\",\"ESX-5 type VII secretion system protein EccD\",0.2484,1.24],[\"mycP5\",\"membrane-anchored mycosin MycP\",0.9219,1.02],[\"eccE5\",\"ESX-5 type VII secretion system protein EccE\",0.7345,1.08],[\"eccA5\",\"ESX-5 type VII secretion system protein EccA\",0.397,0.88],[null,null,0.4307,1.19],[\"PPE32\",\"PPE family protein PPE32\",0.6683,1.05],[null,\"dehydrogenase\",0.3868,0.91],[null,\"hypothetical protein Rv1815\",0.147,0.62],[null,\"HTH-type transcriptional regulator\",0.2161,0.82],[null,\"flavoprotein\",0.7675,1.03],[\"bacA\",\"vitamin B12 transport ATP-binding protein BacA\",0.5495,1.15],[\"ilvG\",\"acetolactate synthase large subunit IlvG\",0.829,1.02],[\"secA2\",\"protein translocase subunit SecA\",0.6265,1.04],[\"pgsA2\",\"CDP-diacylglycerol--glycerol-3-phosphate 3-phosphatidyltransferase\",0.1329,1.58],[null,\"hypothetical protein Rv1823\",0.9198,1.01],[null,\"hypothetical protein Rv1825\",0.6819,1.12],[\"gcvH\",\"glycine cleavage system protein H\",0.1655,1.67],[\"garA\",\"glycogen accumulation regulator GarA\",0.1108,1.49],[null,\"HTH-type transcriptional regulator\",0.6721,1.06],[null,\"hypothetical protein Rv1829\",0.2492,1.26],[null,\"HTH-type transcriptional regulator\",0.5105,1.12],[\"gcvB\",\"glycine dehydrogenase\",0.3108,0.88],[null,\"haloalkane dehalogenase\",0.3158,1.21],[null,\"serine esterase\",0.7044,1.06],[null,\"hypothetical protein Rv1836c\",0.4804,1.21],[\"glcB\",\"malate synthase\",0.8961,0.99],[\"vapC13\",\"ribonuclease VapC13\",0.493,0.77],[\"guaB1\",\"inosine-5\\\\\\\\'-monophosphate dehydrogenase\",0.0809,1.26],[\"gnd1\",\"6-phosphogluconate dehydrogenase\",0.0019,0.52],[\"blaI\",\"transcriptional repressor BlaI\",0.1438,1.43],[null,\"esterase\",0.7094,0.83],[\"ureC\",\"urease subunit alpha\",0.6076,0.9],[\"ureG\",\"urease accessory protein UreG\",0.2892,1.23],[\"ndh\",\"NADH dehydrogenase\",0.0107,1.68],[null,\"oxidoreductase\",0.2365,1.29],[null,\"oxidoreductase\",0.0966,1.55],[\"modA\",\"molybdate ABC transporter substrate-binding lipoprotein ModA\",0.0173,1.4],[\"apa\",\"hypothetical protein Rv1860\",0.0025,0.42],[\"adhA\",\"alcohol dehydrogenase A\",0.0246,0.71],[null,\"hypothetical protein Rv1864c\",0.9055,1.02],[null,\"short-chain type dehydrogenase\",0.5159,1.11],[null,\"hypothetical protein Rv1866\",0.0192,0.73],[null,\"hypothetical protein Rv1867\",0.0397,0.81],[null,\"hypothetical protein Rv1868\",0.8663,0.95],[null,\"reductase\",0.1344,0.83],[null,\"hypothetical protein Rv1871c\",0.5952,1.07],[\"lldD2\",\"L-lactate dehydrogenase\",0.1015,0.78],[null,\"hypothetical protein Rv1874\",0.2916,1.29],[null,\"hypothetical protein Rv1875\",0.2483,1.39],[\"bfrA\",\"bacterioferritin BfrA\",0.5941,0.95],[\"glnA3\",\"glutamine synthetase GlnA\",0.0639,0.86],[null,\"hypothetical protein Rv1879\",0.1501,0.85],[\"cyp140\",\"cytochrome P450 Cyp140\",0.8481,0.98],[null,\"short-chain type dehydrogenase/reductase\",0.6533,1.19],[\"fbpB\",\"diacylglycerol acyltransferase/mycolyltransferase Ag85B\",0.1492,0.68],[null,\"hypothetical protein Rv1887\",0.0298,0.49],[null,\"hypothetical protein Rv1890c\",0.0088,2.17],[null,\"hypothetical protein Rv1894c\",0.2044,0.9],[null,\"S-adenosyl-L-methionine-dependent methyltransferase\",0.56,1.07],[null,\"D-tyrosyl-tRNA(Tyr) deacylase\",0.1326,1.92],[\"lppD\",\"lipoprotein LppD\",0.0346,2.17],[\"lipJ\",\"lignin peroxidase LipJ\",0.0379,0.79],[\"cinA\",\"competence damage-inducible protein CinA\",0.1901,0.87],[null,\"hypothetical protein Rv1904\",0.9736,0.82],[\"aao\",\"D-amino acid oxidase\",0.4117,0.9],[\"katG\",\"catalase-peroxidase\",0.0646,0.78],[\"fadB5\",\"oxidoreductase FadB\",0.2259,0.79],[null,\"hypothetical protein Rv1914c\",0.8444,1.02],[null,\"hypothetical protein Rv1919c\",0.3837,1.22],[null,\"membrane protein\",0.211,0.71],[\"lipD\",\"lipase LipD\",0.0024,0.57],[\"fadD31\",\"fatty-acid--CoA ligase FadD31\",0.141,0.85],[null,\"hypothetical protein Rv1927\",0.5947,0.8],[null,\"short-chain type dehydrogenase/reductase\",0.6514,0.95],[\"tpx\",\"thiol peroxidase\",0.3254,1.25],[\"mazE5\",\"antitoxin MazE5\",0.7222,0.62],[null,\"hypothetical protein Rv1944c\",0.3038,1.34],[\"higA\",\"antitoxin HigA\",0.3715,1.26],[null,\"SecB-like chaperone\",0.8062,1.01],[\"vapC35\",\"ribonuclease VapC35\",0.4159,1.22],[\"mce3R\",\"transcriptional repressor Mce3R\",0.0394,0.53],[null,\"hypothetical protein Rv1977\",0.4196,0.93],[null,\"hypothetical protein Rv1978\",0.6073,0.91],[\"mpt64\",\"immunogenic protein Mpt64\",0.1816,0.54],[\"nrdF1\",\"ribonucleoside-diphosphate reductase subunit beta NrdF1\",0.115,0.63],[null,\"chitinase\",0.0932,2.3],[null,\"hypothetical protein Rv1989c\",0.1894,1.55],[null,\"transcriptional regulator\",0.354,0.88],[\"mazF6\",\"mRNA interferase MazF6\",0.2835,2.21],[\"ctpG\",\"cation transporter ATPase G\",0.1296,1.32],[null,\"hypothetical protein Rv1993c\",0.6144,1.03],[null,\"universal stress protein\",0.3539,1.15],[null,\"hypothetical protein Rv1998c\",0.2488,0.86],[null,\"hypothetical protein Rv2000\",0.0156,0.72],[null,\"hypothetical protein Rv2001\",0.7284,0.81],[\"fabG3\",\"20-beta-hydroxysteroid dehydrogenase\",0.1813,0.74],[null,\"universal stress protein\",0.2581,1.22],[\"otsB1\",\"trehalose-6-phosphate phosphatase OtsB\",0.2471,0.79],[null,\"hypothetical protein Rv2008c\",0.1395,0.84],[null,\"hypothetical protein Rv2016\",0.7502,1.23],[null,\"transcriptional regulator\",0.1361,0.72],[null,\"hypothetical protein Rv2018\",0.2017,1.37],[null,\"hypothetical protein Rv2019\",0.4711,1.2],[null,\"universal stress protein\",0.8293,0.9],[\"dosT\",\"two component sensor histidine kinase DosT\",0.0095,0.69],[null,\"hypothetical protein Rv2033c\",0.5273,0.77],[null,\"hypothetical protein Rv2035\",0.2551,1.35],[null,\"transmembrane protein\",0.4358,0.93],[null,\"sugar ABC transporter substrate-binding lipoprotein\",0.0039,0.69],[null,\"hypothetical protein Rv2042c\",0.668,1.07],[\"pncA\",\"pyrazinamidase/nicotinamidase PncA\",0.0227,2.96],[\"lipT\",\"carboxylesterase LipT\",0.0125,0.63],[\"lppI\",\"lipoprotein LppI\",0.1965,1.35],[null,\"hypothetical protein Rv2047c\",0.8026,0.97],[\"pks12\",\"polyketide synthase\",0.1298,0.74],[null,\"RNA polymerase-binding protein RbpA\",0.5241,1.17],[\"ppm1\",\"polyprenol-monophosphomannose synthase\",0.3947,0.88],[null,\"hypothetical protein Rv2052c\",0.0587,1.39],[null,\"hypothetical protein Rv2054\",0.135,1.39],[\"rpsR2\",\"30S ribosomal protein S18\",0.6297,2.02],[null,\"hypothetical protein Rv2061c\",0.1439,1.61],[\"cobN\",\"cobalamin biosynthesis protein CobN\",0.068,0.78],[\"mazF7\",\"mRNA interferase MazF7\",0.1479,1.59],[\"cobG\",\"precorrin-3B synthase\",0.0623,0.69],[\"cobH\",\"precorrin-8X methylmutase\",0.8643,0.98],[\"cobIJ\",\"bifunctional S-adenosyl-L-methionine-precorrin-2 methyl transferase/precorrin-3 methylase\",0.1414,0.82],[null,\"hypothetical protein Rv2067c\",0.858,1.0],[\"blaC\",\"beta-lactamase\",0.5813,1.18],[\"cobM\",\"precorrin-4 C(11)-methyltransferase\",0.5314,0.91],[null,\"pyridoxamine 5\\\\\\\\'-phosphate oxidase\",0.6368,1.05],[\"lppJ\",\"lipoprotein LppJ\",0.3771,1.49],[null,\"hypothetical protein Rv2082\",0.1213,0.83],[\"pknJ\",\"transmembrane serine/threonine-protein kinase PknJ\",0.9613,1.0],[\"pepE\",\"dipeptidase PepE\",0.2212,0.9],[null,\"5\\\\\\\\'-3\\\\\\\\' exonuclease\",0.0286,0.68],[null,\"membrane protein\",0.3526,1.25],[\"helY\",\"ATP-dependent DNA helicase HelY\",0.8383,1.01],[\"tatA\",\"Sec-independent protein translocase membrane-bound protein TatA\",0.0404,1.89],[\"pafC\",\"proteasome accessory factor C\",0.1831,0.83],[\"pafB\",\"proteasome accessory factor B\",0.19,0.84],[\"pafA\",\"proteasome accessory factor PafA\",0.0225,0.82],[\"helZ\",\"helicase HelZ\",0.1017,0.71],[null,\"hypothetical protein Rv2102\",0.2061,0.79],[\"vapC37\",\"ribonuclease VapC37\",0.4766,1.21],[\"prcA\",\"proteasome subunit alpha\",0.1004,1.21],[\"prcB\",\"proteasome subunit beta\",0.1295,1.28],[\"pup\",\"ubiquitin-like protein Pup\",0.067,0.77],[\"dop\",\"pup deamidase/depupylase\",0.0094,0.74],[null,\"hypothetical protein Rv2114\",0.0817,1.44],[\"mpa\",\"proteasome-associated ATPase\",0.7234,0.94],[null,\"hypothetical protein Rv2117\",0.6801,1.05],[null,\"tRNA (adenine(58)-N(1))-methyltransferase\",0.5589,1.09],[null,\"hypothetical protein Rv2119\",0.5038,1.23],[null,\"integral membrane protein\",0.1807,1.31],[\"hisG\",\"ATP phosphoribosyltransferase\",0.6998,1.03],[\"metH\",\"methionine synthase\",0.1309,0.83],[null,\"hypothetical protein Rv2125\",0.3674,0.85],[null,\"oxidoreductase\",0.9026,0.96],[\"mshC\",\"cysteine:1D-myo-inosityl 2-amino-2-deoxy--D-glucopyranoside ligase\",0.7374,1.09],[\"cysQ\",\"3\\\\\\\\'-phosphoadenosine 5\\\\\\\\'-phosphate phosphatase\",0.2015,1.24],[null,\"hypothetical protein Rv2133c\",0.6266,0.97],[null,\"hypothetical protein Rv2134c\",0.4308,1.16],[null,\"hypothetical protein Rv2135c\",0.3607,1.19],[\"lppL\",\"lipoprotein LppL\",0.6345,0.91],[\"pyrD\",\"dihydroorotate dehydrogenase\",0.2883,0.86],[\"TB18.6\",\"hypothetical protein Rv2140c\",0.4013,1.19],[null,\"hypothetical protein Rv2141c\",0.0018,0.7],[\"parE2\",\"toxin ParE2\",0.1244,1.17],[\"wag31\",\"cell wall synthesis protein Wag31\",0.0468,1.65],[null,\"cell division protein SepF\",0.915,0.97],[null,\"hypothetical protein Rv2148c\",0.1895,1.49],[\"yfiH\",\"laccase domain-containing protein\",0.1156,1.4],[\"ftsZ\",\"cell division protein FtsZ\",0.0973,0.78],[\"ftsQ\",\"cell division protein FtsQ\",0.6548,0.93],[\"murC\",\"UDP-N-acetylmuramate--alanine ligase\",0.0071,0.8],[\"murG\",\"UDP-N-acetylglucosamine--N-acetylmuramyl-(pentapeptide) pyrophosphoryl-undecaprenol-N-acetylglucosamine transferase\",0.2289,0.89],[\"murD\",\"UDP-N-acetylmuramoylalanine--D-glutamate ligase\",0.0086,0.79],[\"murX\",\"phospho-N-acetylmuramoyl-pentappeptidetransferase\",0.7918,0.92],[\"murF\",\"UDP-N-acetylmuramoyl-tripeptide--D-alanyl-D-alanine ligase\",0.0782,0.86],[null,null,0.2503,0.93],[null,\"hypothetical protein Rv2159c\",0.1774,0.87],[null,\"hypothetical protein Rv2161c\",0.4445,0.78],[null,\"rRNA small subunit methyltransferase H\",0.3041,0.93],[null,\"transcriptional regulator MraZ\",0.4314,1.34],[\"lppM\",\"lipoprotein LppM\",0.3894,1.5],[null,\"hypothetical protein Rv2172c\",0.0148,1.98],[\"idsA2\",\"geranylgeranyl pyrophosphate synthetase IdsA\",0.0905,0.76],[null,\"DNA-binding protein\",0.6964,0.91],[\"pknL\",\"serine/threonine-protein kinase PknL\",0.8625,1.0],[\"aroG\",\"phospho-2-dehydro-3-deoxyheptonate aldolase AroG\",0.7601,1.03],[null,\"3\\\\\\\\'-5\\\\\\\\' exoribonuclease\",0.2846,1.5],[null,\"1-acylglycerol-3-phosphate O-acyltransferase\",0.3967,1.32],[null,\"hypothetical protein Rv2184c\",0.8092,0.73],[\"TB16.3\",\"hypothetical protein Rv2185c\",0.1005,1.52],[\"fadD15\",\"long-chain-fatty-acid--CoA ligase FadD15\",0.01,0.7],[\"pimB\",\"alpha-(1-6)-phosphatidylinositol monomannoside mannosyltransferase\",0.717,1.07],[null,\"endopeptidase\",0.2161,0.74],[\"trpD\",\"anthranilate phosphoribosyltransferase\",0.0215,0.78],[\"qcrC\",\"ubiquinol-cytochrome C reductase cytochrome subunit C\",0.108,2.28],[\"qcrA\",\"ubiquinol-cytochrome C reductase rieske iron-sulfur subunit\",0.9333,1.04],[\"qcrB\",\"ubiquinol-cytochrome C reductase cytochrome subunit B\",0.2634,1.27],[null,\"transmembrane protein\",0.2467,1.7],[\"mmpS3\",\"membrane protein MmpS3\",0.5284,0.84],[\"ctaC\",\"cytochrome C oxidase subunit II\",0.4828,1.19],[\"asnB\",\"asparagine synthetase\",0.6965,0.96],[\"adoK\",\"adenosine kinase\",0.8783,1.0],[null,\"membrane protein\",0.22,1.46],[null,\"hypothetical protein Rv2204c\",0.8577,1.02],[null,\"hypothetical protein Rv2205c\",0.5949,0.91],[\"cobT\",\"nicotinate-nucleotide-dimethylbenzimidazol phosphoribosyltransferase\",0.8245,0.98],[\"ilvE\",\"branched-chain amino acid aminotransferase\",0.0124,0.72],[\"gcvT\",\"aminomethyltransferase\",0.2719,0.85],[null,\"adenylyl cyclase\",0.1632,0.84],[\"pepB\",\"cytosol aminopeptidase\",0.3224,0.86],[\"ephD\",\"oxidoreductase EphD\",0.3061,0.81],[\"dlaT\",\"pyruvate dehydrogenase E2 component dihydrolipoamide acyltransferase\",0.34,1.12],[null,\"epimerase family protein\",0.825,0.97],[\"lipB\",\"octanoyltransferase\",0.4121,0.82],[\"lipA\",\"lipoyl synthase\",0.0564,0.58],[null,\"transmembrane protein\",0.3944,1.24],[\"glnA1\",\"glutamine synthetase\",0.1095,1.28],[\"glnE\",\"glutamate-ammonia-ligase adenylyltransferase\",0.1589,0.83],[\"glnA2\",\"glutamine synthetase\",0.2285,0.85],[\"caeA\",\"carboxylesterase A\",0.5085,1.17],[\"panB\",\"3-methyl-2-oxobutanoate hydroxymethyltransferase\",0.2455,0.88],[null,\"hypothetical protein Rv2226\",0.5459,1.06],[null,\"multifunctional RNASE H/alpha-ribazole phosphatase/acid phosphatase\",0.0235,0.72],[null,\"hypothetical protein Rv2229c\",0.521,1.12],[null,\"GTP cyclohydrolase\",0.0757,0.84],[\"cobC\",\"aminotransferase\",0.0056,0.63],[\"ptkA\",\"protein tyrosine kinase transcriptional regulator PtkA\",0.2203,1.54],[\"ptpA\",\"protein-tyrosine-phosphatase\",0.6997,1.5],[null,\"hypothetical protein Rv2237\",0.6426,0.87],[\"ahpE\",\"peroxiredoxin\",0.5244,1.12],[null,\"hypothetical protein Rv2239c\",0.0728,1.57],[\"aceE\",\"pyruvate dehydrogenase E1 component\",0.3708,0.91],[null,\"hypothetical protein Rv2242\",0.0001,0.49],[\"fabD\",\"malonyl CoA-acyl carrier protein transacylase\",0.8042,0.92],[\"acpM\",\"meromycolate extension acyl carrier protein\",0.0435,0.69],[\"kasA\",\"3-oxoacyl-ACP synthase 1\",0.0273,0.73],[\"kasB\",\"3-oxoacyl-ACP synthase 2\",0.0592,0.75],[\"accD6\",\"acetyl-/propionyl-CoA carboxylase subunit beta\",0.0104,0.58],[\"glpD1\",\"glycerol-3-phosphate dehydrogenase\",0.47,0.93],[null,\"flavoprotein\",0.0684,0.81],[null,\"diacylglycerol kinase\",0.7573,0.97],[null,\"hypothetical protein Rv2256c\",0.0134,3.02],[null,\"hypothetical protein Rv2257c\",0.23,1.26],[null,\"transcriptional regulator\",0.0098,0.65],[\"mscR\",\"S-nitrosomycothiol reductase MscR\",0.0336,0.79],[null,\"hypothetical protein Rv2260\",0.6157,1.06],[null,\"oxidoreductase\",0.0834,0.72],[null,\"hypothetical protein Rv1088a\",0.1655,0.83],[null,\"hypothetical protein Rv2264c\",0.1655,0.83],[\"cyp121\",\"cytochrome P450 Cyp121\",0.2079,0.66],[null,null,0.008,0.58],[null,\"LysR family HTH-type transcriptional regulator\",0.5885,0.87],[\"lipM\",\"esterase LipM\",0.0543,0.67],[null,\"diacylglycerol acyltransferase\",0.0442,0.73],[null,\"hypothetical protein Rv2286c\",0.9982,0.95],[null,\"hypothetical protein Rv2466c\",0.9982,0.95],[\"cdh\",\"CDP-diacylglycerol pyrophosphatase\",0.6423,0.93],[\"sseB\",\"thiosulfate sulfurtransferase SseB\",0.8817,0.95],[null,\"cystathionine beta-lyase\",0.751,0.98],[null,\"hypothetical protein Rv2295\",0.1861,1.41],[null,\"haloalkane dehalogenase\",0.6805,1.04],[null,\"oxidoreductase\",0.1856,0.93],[\"htpG\",\"chaperone protein HtpG\",0.2214,0.9],[null,\"hypothetical protein Rv2302\",0.8532,0.89],[null,\"antibiotic-resistance protein\",0.9512,0.95],[null,\"hypothetical protein Rv2305\",0.0303,0.74],[null,\"hypothetical protein Rv2307c\",0.5464,1.1],[null,\"hypothetical protein Rv2313c\",0.6477,1.05],[null,\"hypothetical protein Rv2314c\",0.3285,0.9],[null,\"hypothetical protein Rv2315c\",0.0799,0.89],[null,\"universal stress protein\",0.3334,1.36],[null,\"ABC transporter ATP-binding protein\",0.7585,0.94],[null,\"hypothetical protein Rv2327\",0.4698,1.15],[\"mez\",\"malate oxidoreductase\",0.7024,1.09],[\"cysK1\",\"O-acetylserine sulfhydrylase\",0.0661,0.75],[\"cysE\",\"serine acetyltransferase\",0.0355,0.59],[null,\"hypothetical protein Rv2336\",0.3072,0.8],[null,\"hypothetical protein Rv2337c\",0.2416,0.81],[\"moeW\",\"molybdopterin biosynthesis protein MoeW\",0.0453,0.86],[null,\"hypothetical protein Rv2342\",0.5577,0.85],[\"dnaG\",\"DNA primase\",0.0311,0.77],[\"dgt\",\"deoxyguanosine triphosphate triphosphohydrolase\",0.1903,0.93],[null,\"transmembrane protein\",0.229,0.79],[\"plcB\",\"membrane-associated phospholipase B\",0.361,0.91],[\"plcA\",\"membrane-associated phospholipase A\",0.5299,0.92],[\"glyS\",\"glycine--tRNA ligase\",0.3874,0.92],[\"smtB\",\"HTH-type transcriptional regulator SmtB\",0.1405,1.52],[\"zur\",\"zinc uptake regulation protein\",0.2484,0.63],[null,\"hypothetical protein Rv2360c\",0.6495,1.09],[null,\"decaprenyl diphosphate synthase\",0.8397,0.91],[\"amiA2\",\"amidase\",0.9563,1.02],[\"era\",\"GTPase Era\",0.0946,0.85],[null,\"transmembrane protein\",0.895,1.04],[\"phoH1\",\"phosphate starvation-inducible protein PhoH\",0.0093,0.63],[null,\"rRNA small subunit methyltransferase E\",0.1797,2.18],[\"dnaJ2\",\"chaperone protein DnaJ\",0.1358,1.49],[\"hrcA\",\"heat-inducible transcription repressor HrcA\",0.5886,0.98],[null,\"hypothetical protein Rv2375\",0.559,1.1],[\"mbtG\",\"L-lysine N6-monooxygenase\",0.0717,2.29],[\"mbtF\",\"peptide synthetase\",0.0037,1.91],[\"mbtE\",\"peptide synthetase\",0.011,2.06],[\"mbtD\",\"polyketide synthetase\",0.4282,0.81],[\"mbtB\",\"phenyloxazoline synthase\",0.1946,1.29],[\"mbtA\",\"bifunctional salicyl-AMP ligase/salicyl-S-ArCP synthetase\",0.1343,1.24],[\"mbtJ\",\"acetyl hydrolase\",0.3533,1.15],[\"mbtI\",\"salicylate synthase\",0.1276,0.88],[\"hemN\",\"oxygen-independent coproporphyrinogen III oxidase\",0.606,0.93],[\"sirA\",\"sulfite reductase\",0.003,0.57],[\"cysH\",\"phosphoadenosine phosphosulfate reductase\",0.0783,0.66],[\"ggtB\",\"gamma-glutamyltranspeptidase precursor GgtB\",0.3715,0.84],[\"cysA1\",\"sulfate ABC transporter ATP-binding protein CysA\",0.0133,0.62],[\"subI\",\"sulfate ABC transporter substrate-binding lipoprotein SubI\",0.0119,0.69],[null,\"trehalase\",0.0022,0.78],[\"lppR\",\"lipoprotein LppR\",0.7179,1.11],[\"lepA\",\"GTP-binding protein LepA\",0.0505,0.67],[null,\"hypothetical protein Rv2405\",0.7736,0.91],[null,\"hypothetical protein Rv2406c\",0.7806,0.97],[null,\"hypothetical protein Rv2409c\",0.2884,1.13],[null,\"hypothetical protein Rv2410c\",0.1771,0.82],[null,\"hypothetical protein Rv2411c\",0.1747,0.84],[null,\"hypothetical protein Rv2413c\",0.4966,1.08],[\"eis\",\"enhanced intracellular survival protein\",0.1696,0.85],[null,\"DegV domain-containing protein\",0.33,1.22],[null,\"hypothetical protein Rv2418c\",0.6121,1.0],[\"gpgP\",\"glucosyl-3-phosphoglycerate phosphatase\",0.308,1.27],[null,\"hypothetical protein Rv2420c\",0.0192,0.81],[\"nadD\",\"nicotinate-nucleotide adenylyltransferase\",0.515,1.16],[null,\"hypothetical protein Rv2423\",0.0367,0.66],[null,\"hypothetical protein Rv2426c\",0.5689,0.85],[\"proA\",\"gamma-glutamyl phosphate reductase\",0.5558,0.94],[\"ahpC\",\"alkyl hydroperoxide reductase subunit AhpC\",0.0027,9.35],[\"ahpD\",\"alkyl hydroperoxide reductase AphD\",0.0049,3.43],[\"nadE\",\"glutamine-dependent NAD(+) synthetase\",0.1225,0.82],[\"proB\",\"glutamate 5-kinase protein\",0.2917,0.84],[\"obg\",\"GTPase Obg\",0.0145,0.75],[\"rpmA\",\"50S ribosomal protein L27\",0.6114,0.86],[\"rplU\",\"50S ribosomal protein L21\",0.6343,0.86],[\"rne\",\"ribonuclease E\",0.2332,0.87],[\"ndkA\",\"nucleoside diphosphate kinase\",0.3454,1.27],[\"folC\",\"folylpolyglutamate synthase FolC\",0.083,0.82],[\"valS\",\"valine--tRNA ligase\",0.4943,0.92],[null,\"trans-acting enoyl reductase\",0.0773,0.84],[\"mobA\",\"molybdenum cofactor guanylyltransferase\",0.254,1.31],[null,\"2-oxoglutarate oxidoreductase subunit KorB\",0.0345,0.75],[null,\"2-oxoglutarate oxidoreductase subunit KorA\",0.022,0.79],[\"clpX\",\"ATP-dependent CLP protease ATP-binding subunit ClpX\",0.1151,0.79],[\"clpP2\",\"ATP-dependent CLP protease proteolytic subunit 2\",0.2083,1.35],[\"clpP1\",\"ATP-dependent CLP protease proteolytic subunit 1\",0.0721,1.58],[\"tig\",\"trigger factor\",0.1607,0.87],[null,\"DNA glycosylase\",0.1716,1.8],[\"rpiB\",\"ribose-5-phosphate isomerase B\",0.0844,1.73],[\"pepN\",\"aminopeptidase PepN\",0.0696,0.84],[null,\"hypothetical protein Rv2468c\",0.1349,2.06],[\"aglA\",\"alpha-glucosidase AglA\",0.4445,0.82],[null,\"hypothetical protein Rv2473\",0.3523,1.4],[null,\"hypothetical protein Rv2474c\",0.7612,1.02],[null,\"hypothetical protein Rv2475c\",0.998,0.97],[\"gdh\",\"NAD-dependent glutamate dehydrogenase\",0.0179,0.78],[null,\"macrolide ABC transporter ATP-binding protein\",0.0485,0.8],[\"plsB2\",\"glycerol-3-phosphate acyltransferase\",0.0294,0.65],[\"plsC\",\"bifunctional L-3-phosphoserine phosphatase/1-acyl-sn-glycerol-3-phosphate acyltransferase\",0.0478,0.56],[null,\"diacyglycerol O-acyltransferase\",0.1448,0.75],[\"echA14\",\"enoyl-CoA hydratase EchA14\",0.2304,1.33],[null,\"LuxR family transcriptional regulator\",0.2457,0.82],[\"vapC38\",\"ribonuclease VapC38\",0.8452,0.91],[\"bkdC\",\"branched-chain keto acid dehydrogenase E2 component\",0.0724,1.34],[\"bkdB\",\"branched-chain keto acid dehydrogenase E1 component subunit beta\",0.2463,1.32],[\"bkdA\",\"branched-chain keto acid dehydrogenase E1 component subunit alpha\",0.1255,1.43],[\"citE\",\"citrate (pro-3S)-lyase subunit beta\",0.3722,1.16],[\"fadE19\",\"acyl-CoA dehydrogenase FadE19\",0.0686,0.76],[\"accA1\",\"acetyl-/propionyl-CoA carboxylase subunit alpha\",0.3393,0.85],[\"accD1\",\"acetyl-/propionyl-CoA carboxylase subunit beta\",0.2516,0.9],[\"scoB\",\"succinyl-CoA:3-ketoacid-CoA transferase subunit B\",0.8777,0.95],[\"scoA\",\"succinyl-CoA:3-ketoacid-CoA transferase subunit A\",0.3651,1.18],[null,\"TetR family transcriptional regulator\",0.5178,0.88],[null,\"short-chain type dehydrogenase/reductase\",0.8036,0.93],[null,\"hypothetical protein Rv2510c\",0.2549,0.9],[\"orn\",\"oligoribonuclease\",0.3808,1.15],[null,null,0.1632,1.36],[null,\"membrane protein\",0.6268,1.28],[\"bcp\",\"peroxiredoxin\",0.4594,1.15],[null,\"hypothetical protein Rv2522c\",0.028,0.69],[\"fas\",\"fatty acid synthase\",0.0254,0.37],[null,\"hypothetical protein Rv2525c\",0.2577,1.23],[\"vapC17\",\"ribonuclease VapC17\",0.0467,2.21],[\"mrr\",\"restriction system protein\",0.7206,1.03],[null,\"hypothetical protein Rv2529\",0.0031,0.58],[\"vapC39\",\"ribonuclease VapC39\",0.6462,0.83],[null,\"amino acid decarboxylase\",0.1713,0.85],[\"nusB\",\"N utilization substance protein B\",0.1867,1.44],[\"efp\",\"elongation factor P\",0.2104,1.35],[\"pepQ\",\"cytoplasmic peptidase PepQ\",0.5525,0.93],[null,\"transmembrane protein\",0.2308,1.25],[\"aroD\",\"3-dehydroquinate dehydratase\",0.9505,0.99],[\"aroB\",\"3-dehydroquinate synthase\",0.6448,0.95],[\"aroK\",\"shikimate kinase\",0.1527,1.46],[\"aroF\",\"chorismate synthase\",0.5621,1.13],[null,\"hypothetical protein Rv2548A\",0.6937,1.0],[\"aroE\",\"shikimate 5-dehydrogenase\",0.2387,1.24],[null,\"Holliday junction resolvase\",0.0882,1.6],[\"alaS\",\"alanine--tRNA ligase\",0.6993,1.05],[null,\"hypothetical protein Rv2556c\",0.0908,2.08],[null,\"hypothetical protein Rv2559c\",0.2183,0.8],[null,\"integral membrane protein\",0.5193,1.18],[null,\"glutamine ABC transporter permease\",0.5193,1.18],[\"glnQ\",\"glutamine ABC transporter ATP-binding protein\",0.793,0.95],[null,\"NTE family protein\",0.0155,0.63],[null,\"hypothetical protein Rv2566\",0.0419,0.82],[null,\"hypothetical protein Rv2567\",0.983,0.98],[null,\"hypothetical protein Rv2568c\",0.2928,0.88],[null,\"hypothetical protein Rv2569c\",0.3666,0.91],[\"aspS\",\"aspartate--tRNA ligase\",0.4529,1.07],[null,\"2-dehydropantoate 2-reductase\",0.4945,1.58],[null,\"hypothetical protein Rv2574\",0.4515,1.14],[null,\"membrane protein\",0.618,1.22],[\"dhaA\",\"haloalkane dehalogenase\",0.7367,1.02],[\"hisS\",\"histidine--tRNA ligase\",0.2636,0.87],[null,\"glyoxalase II\",0.8258,0.91],[\"ppiB\",\"peptidyl-prolyl cis-trans isomerase B\",0.8467,1.08],[\"relA\",\"bifunctional (p)ppGpp synthase/hydrolase RelA\",0.0079,0.71],[\"apt\",\"adenine phosphoribosyltransferase\",0.9734,0.99],[null,\"lipoprotein\",0.6242,0.9],[\"secF\",\"protein translocase subunit SecF\",0.9663,0.96],[\"secD\",\"protein translocase subunit SecD\",0.4875,1.16],[\"yajC\",\"membrane protein secretion factor YajC\",0.3341,1.41],[\"gabT\",\"4-aminobutyrate aminotransferase\",0.4769,0.92],[\"fadD9\",\"fatty-acid--CoA ligase FadD9\",0.8531,1.01],[\"ruvB\",\"Holliday junction ATP-dependent DNA helicase RuvB\",0.0912,0.74],[\"ruvA\",\"Holliday junction ATP-dependent DNA helicase RuvA\",0.7076,1.08],[null,\"transcriptional regulator\",0.1501,1.24],[\"snoP\",\"glutamine amidotransferase SnoP\",0.3087,1.2],[\"tesB2\",\"acyl-CoA thioesterase TesB\",0.4165,1.14],[\"snzP\",\"pyridoxine biosynthesis protein\",0.0714,1.29],[\"pdxH\",\"pyridoxine/pyridoxamine 5\\\\\\\\'-phosphate oxidase\",0.7633,1.0],[null,\"membrane protein\",0.0979,0.77],[\"pimA\",\"alpha-(1-2)-phosphatidylinositol mannosyltransferase\",0.0077,0.6],[null,\"phosphatidylinositol mannoside acyltransferase\",0.0127,0.65],[\"pgsA1\",\"CDP-diacylglycerol--inositol 3-phosphatidyltransferase\",0.1968,1.53],[null,\"AP-4-A phosphorylase\",0.257,1.26],[\"thrS\",\"threonine--tRNA ligase\",0.4353,0.89],[null,\"hypothetical protein Rv2616\",0.0531,1.79],[null,\"methyltransferase\",0.1848,1.18],[\"TB31.7\",\"universal stress protein\",0.7312,0.91],[null,\"hypothetical protein Rv2629\",0.0137,0.73],[null,\"hypothetical protein Rv2632c\",0.3275,0.7],[\"dedA\",\"transmembrane protein DedA\",0.3017,0.58],[null,\"prophage protein\",0.1,1.27],[null,\"prophage protein\",0.2496,1.45],[\"clpC2\",\"ATP-dependent protease ATP-binding subunit ClpC\",0.8452,0.93],[null,\"hypothetical protein Rv2670c\",0.0251,0.76],[\"ribD\",\"bifunctional diaminohydroxyphosphoribosylaminopyrimidine deaminase/5-amino-6-(5-phosphoribosylamino)uracil reductase\",0.8386,1.01],[null,\"protease\",0.4708,1.2],[\"aftC\",\"alpha-(1->3)-arabinofuranosyltransferase\",0.7095,0.95],[\"msrB\",\"peptide methionine sulfoxide reductase MsrB\",0.824,0.89],[null,\"hypothetical protein Rv2675c\",0.1154,1.43],[null,\"hypothetical protein Rv2676c\",0.4011,1.18],[\"hemY\",\"protoporphyrinogen oxidase\",0.3066,0.88],[\"hemE\",\"uroporphyrinogen decarboxylase\",0.6278,0.92],[\"echA15\",\"enoyl-CoA hydratase EchA15\",0.326,1.1],[null,\"hypothetical protein Rv2680\",0.5279,1.08],[null,\"hypothetical protein Rv2681\",0.0148,0.8],[\"dxs1\",\"1-deoxy-D-xylulose 5-phosphate synthase\",0.0509,0.64],[null,\"hypothetical protein Rv2683\",0.2148,1.38],[null,\"hypothetical protein Rv2689c\",0.2401,0.87],[\"ceoB\",\"TRK system potassium uptake protein CeoB\",0.5899,1.08],[\"ceoC\",\"TRK system potassium uptake protein CeoC\",0.5594,1.08],[null,\"hypothetical protein Rv2694c\",0.3738,0.8],[null,\"hypothetical protein Rv2695\",0.0153,1.29],[null,\"hypothetical protein Rv2696c\",0.2386,0.87],[\"dut\",\"deoxyuridine 5\\\\\\\\'-triphosphate nucleotidohydrolase\",0.3596,1.25],[null,\"hypothetical protein Rv2699c\",0.2012,1.26],[null,\"hypothetical protein Rv2700\",0.2002,1.46],[\"suhB\",\"inositol-1-monophosphatase SuhB\",0.5977,1.06],[\"ppgK\",\"polyphosphate glucokinase\",0.3333,1.62],[\"sigA\",\"RNA polymerase sigma factor SigA\",0.3617,0.88],[\"sigB\",\"RNA polymerase sigma factor SigB\",0.0629,1.58],[\"ideR\",\"iron-dependent repressor and activator IdeR\",0.353,1.17],[\"sthA\",\"pyridine nucleotide transhydrogenase\",0.008,0.73],[null,\"hypothetical protein Rv2714\",0.0985,0.73],[null,\"hydrolase\",0.007,0.5],[null,\"hypothetical protein Rv2716\",0.2626,1.28],[null,\"hypothetical protein Rv2717c\",0.7642,0.95],[\"nrdR\",\"transcriptional regulator NrdR\",0.4868,1.13],[\"lexA\",\"repressor LexA\",0.8809,0.98],[null,\"hypothetical protein Rv2721c\",0.8088,1.09],[\"fadE20\",\"acyl-CoA dehydrogenase FadE20\",0.6693,0.95],[\"hflX\",\"GTP-binding protein HflX\",0.3799,0.88],[\"dapF\",\"diaminopimelate epimerase\",0.3447,1.16],[\"miaA\",\"tRNA delta(2)-isopentenylpyrophosphate transferase\",0.9063,1.0],[null,\"hypothetical protein Rv2728c\",0.0849,1.49],[null,\"hypothetical protein Rv2731\",0.3315,0.85],[null,\"transmembrane protein\",0.6264,1.09],[null,\"(dimethylallyl)adenosine tRNA methylthiotransferase\",0.1388,0.69],[\"recA\",\"recombinase A\",0.0201,0.59],[null,\"transferase\",0.2877,0.89],[\"ephG\",\"epoxide hydrolase\",0.2442,1.44],[null,\"hypothetical protein Rv2743c\",0.0506,1.53],[\"35kd_ag\",\"hypothetical protein Rv2744c\",0.1541,1.26],[\"argA\",\"L-glutamate alpha-N-acetyltranferase\",0.3069,1.36],[\"ftsK\",\"DNA translocase FtsK\",0.7911,0.96],[null,\"dehydrogenase\",0.5305,1.08],[null,\"hypothetical protein Rv2751\",0.938,0.97],[null,\"ribonuclease J\",0.0911,0.8],[\"dapA\",\"4-hydroxy-tetrahydrodipicolinate synthase\",0.0427,0.88],[\"thyX\",\"thymidylate synthase ThyX\",0.3969,1.15],[\"hsdM\",\"type I restriction/modification system DNA methylase HsdM\",0.0433,0.8],[\"vapC42\",\"ribonuclease VapC42\",0.6633,1.15],[\"dfrA\",\"dihydrofolate reductase\",0.2969,1.22],[\"thyA\",\"thymidylate synthase ThyA\",0.9128,0.94],[null,\"hydrolase\",0.0666,1.45],[null,\"short-chain type dehydrogenase/reductase\",0.6331,1.05],[null,\"hypothetical protein Rv2771c\",0.3294,1.3],[\"dapB\",\"4-hydroxy-tetrahydrodipicolinate reductase\",0.3204,1.16],[null,\"GCN5-like N-acetyltransferase\",0.0224,3.63],[null,\"oxidoreductase\",0.6905,1.25],[null,\"hypothetical protein Rv2778c\",0.1119,1.61],[\"ald\",\"L-alanine dehydrogenase\",0.0526,0.72],[null,\"oxidoreductase\",0.6175,1.07],[\"pepR\",\"zinc protease\",0.0211,0.54],[\"gpsI\",\"bifunctional guanosine pentaphosphate synthetase/polyribonucleotide nucleotidyltransferase\",0.8144,1.01],[\"rpsO\",\"30S ribosomal protein S15\",0.6232,1.05],[\"ribF\",\"bifunctional riboflavin kinase /FMN adenylyltransferase\",0.4933,0.92],[\"sirR\",\"transcriptional repressor SirR\",0.3657,1.18],[\"fadE21\",\"acyl-CoA dehydrogenase FadE21\",0.1228,1.38],[\"ltp1\",\"lipid-transfer protein\",0.1739,1.29],[\"truB\",\"tRNA pseudouridine synthase B\",0.9452,0.98],[\"pptT\",\"phosphopantetheinyl transferase\",0.7616,0.89],[null,\"hypothetical protein Rv2795c\",0.6589,0.92],[\"mazF9\",\"mRNA interferase MazF9\",0.1439,1.36],[null,\"arginine/hypothetical protein\",0.0732,0.77],[null,\"CRISPR-associated protein Csm6\",0.019,0.68],[null,\"CRISPR type III-associated RAMP protein Csm4\",0.0219,0.57],[null,\"CRISPR type III-associated RAMP protein Csm3\",0.3108,0.71],[null,\"CRISPR-associated endoribonuclease Cas6\",0.4355,0.74],[null,\"hypothetical protein Rv2826c\",0.0066,0.74],[null,\"hypothetical protein Rv2827c\",0.0873,0.74],[null,null,0.1915,1.46],[\"echA16\",\"enoyl-CoA hydratase EchA16\",0.2649,1.16],[null,\"bifunctional oligoribonuclease/PAP phosphatase NrnA\",0.1525,0.83],[\"rbfA\",\"ribosome-binding factor RbfA\",0.2179,1.25],[\"infB\",\"translation initiation factor IF-2\",0.2854,0.87],[null,\"hypothetical protein Rv2840c\",0.2403,1.52],[\"nusA\",\"transcription termination/antitermination protein NusA\",0.7374,0.97],[null,\"ribosome maturation factor RimP\",0.6476,0.86],[\"proS\",\"proline--tRNA ligase\",0.1146,0.86],[\"cysG\",\"multifunctional uroporphyrin-III C-methyltransferase/precorrin-2 oxidase/ferrochelatase\",0.8481,0.96],[null,null,0.111,0.59],[null,\"magnesium chelatase\",0.4067,0.93],[null,\"GCN5-like N-acetyltransferase\",0.702,1.18],[\"mqo\",\"malate:quinone oxidoreductase\",0.1926,0.84],[null,\"hypothetical protein Rv2854\",0.3658,0.85],[\"mtr\",\"mycothione reductase\",0.1797,1.21],[null,\"short-chain type dehydrogenase/reductase\",0.4081,0.89],[\"aldC\",\"aldehyde dehydrogenase AldC\",0.1317,0.87],[null,\"glutamine amidotransferase\",0.2837,0.87],[\"glnA4\",\"glutamine synthetase\",0.0061,0.73],[\"mapB\",\"methionine aminopeptidase\",0.5117,1.08],[null,\"penicillin-binding lipoprotein\",0.0052,0.53],[\"gcpE\",\"4-hydroxy-3-methylbut-2-en-1-yl diphosphate synthase\",0.3361,0.91],[\"rip\",\"zinc metalloprotease\",0.6541,0.95],[\"dxr\",\"1-deoxy-D-xylulose 5-phosphate reductoisomerase\",0.1433,0.8],[\"vapC43\",\"ribonuclease VapC43\",0.358,1.32],[\"mpt83\",\"cell surface lipoprotein\",0.5748,1.16],[\"frr\",\"ribosome recycling factor\",0.0717,1.48],[\"pyrH\",\"uridylate kinase\",0.0177,1.77],[null,\"transcriptional regulator\",0.1835,0.68],[\"amiC\",\"amidase AmiC\",0.0012,0.87],[\"tsf\",\"elongation factor EF-Ts\",0.5751,1.07],[\"rpsB\",\"30S ribosomal protein S2\",0.031,0.65],[null,\"oxidoreductase\",0.273,1.2],[\"xerC\",\"tyrosine recombinase XerC\",0.8989,0.96],[\"viuB\",\"mycobactin utilization protein ViuB\",0.3583,1.13],[null,\"hypothetical protein Rv2901c\",0.5454,1.12],[\"rnhB\",\"ribonuclease HII\",0.6625,0.92],[\"lepB\",\"signal peptidase\",0.9617,1.0],[\"rplS\",\"50S ribosomal protein L19\",0.8126,1.06],[\"trmD\",\"tRNA (guanine-N1)-methyltransferase\",0.3521,1.19],[null,\"hypothetical protein Rv2908c\",0.9354,0.96],[\"rpsP\",\"30S ribosomal protein S16\",0.0583,1.73],[\"dacB2\",\"penicillin-binding protein DacB2\",0.0065,0.47],[null,\"D-amino acid aminohydrolase\",0.2317,1.86],[null,\"hypothetical protein Rv2915c\",0.152,0.76],[\"ffh\",\"signal recognition particle protein\",0.0773,0.64],[\"glnB\",\"nitrogen regulatory protein P-II\",0.3564,1.27],[\"ftsY\",\"signal recognition particle receptor FtsY\",0.8384,0.98],[\"smc\",\"chromosome partition protein Smc\",0.1013,0.84],[\"acyP\",\"acylphosphatase\",0.0847,1.41],[null,\"hypothetical protein Rv2923c\",0.6919,1.06],[\"rnc\",\"ribonuclease III\",0.338,1.24],[null,\"hypothetical protein Rv2926c\",0.7145,0.9],[null,\"hypothetical protein Rv2927c\",0.7135,1.03],[\"tesA\",\"thioesterase TesA\",0.3017,1.22],[\"fadD26\",\"fatty-acid--CoA ligase FadD26\",0.0276,2.07],[\"ppsA\",\"phthiocerol synthesis polyketide synthase type I PpsA\",0.0101,2.0],[\"ppsB\",\"phthiocerol synthesis polyketide synthase type I PpsB\",0.009,1.88],[\"ppsC\",\"phthiocerol synthesis polyketide synthase type I PpsC\",0.0475,1.47],[\"ppsD\",\"phthiocerol synthesis polyketide synthase type I PpsD\",0.5314,1.21],[\"ppsE\",\"phthiocerol synthesis polyketide synthase type I PpsE\",0.8886,1.01],[\"papA5\",\"phthiocerol/phthiodiolone dimycocerosyl transferase\",0.7186,1.05],[\"mas\",\"multifunctional mycocerosic acid synthase\",0.0461,1.56],[\"fadD28\",\"long-chain-fatty-acid--AMP ligase FadD28\",0.0428,1.37],[\"mmpL7\",\"transmembrane transport protein MmpL7\",0.4605,1.23],[\"lppX\",\"lipoprotein LppX\",0.0442,1.83],[\"pks1\",\"polyketide synthase\",0.6829,1.04],[\"pks15\",\"polyketide synthase\",0.79,0.93],[\"fadD22\",\"p-hydroxybenzoyl--AMP ligase\",0.7268,1.05],[null,\"chorismate pyruvate-lyase\",0.0859,1.84],[\"fadD29\",\"long-chain-fatty-acid--AMP ligase FadD29\",0.5452,0.86],[null,\"phthiodiolone/phenolphthiodiolone dimycocerosates ketoreductase\",0.6031,0.95],[null,\"phthiotriol/phenolphthiotriol dimycocerosates methyltransferase\",0.3285,1.14],[null,\"trans-acting enoyl reductase\",0.2959,0.87],[null,\"hypothetical protein Rv2954c\",0.6934,0.9],[null,\"hypothetical protein Rv2955c\",0.3569,1.18],[null,\"hypothetical protein Rv2956\",0.9376,1.0],[null,\"rhamnosyl O-methyltransferase\",0.2764,1.25],[null,\"PGL/p-HBAD biosynthesis rhamnosyltransferase\",0.3934,0.88],[\"purU\",\"formyltetrahydrofolate deformylase\",0.1312,1.16],[\"kdtB\",\"phosphopantetheine adenylyltransferase\",0.4097,1.18],[null,\"methyltransferase\",0.5311,1.09],[\"pca\",\"pyruvate carboxylase\",0.8467,0.98],[null,\"hypothetical protein Rv2969c\",0.1807,1.44],[\"lipN\",\"lipase/esterase LipN\",0.5917,0.93],[null,\"oxidoreductase\",0.7926,1.01],[null,\"50S ribosomal protein L28\",0.2807,0.62],[\"ung\",\"uracil-DNA glycosylase\",0.3299,1.2],[\"thiL\",\"thiamine-monophosphate kinase\",0.6831,0.95],[\"ddlA\",\"D-alanine--D-alanine ligase\",0.2974,0.88],[\"gpdA2\",\"glycerol-3-phosphate dehydrogenase\",0.1163,0.82],[null,\"2-phospho-L-lactate guanylyltransferase\",0.2533,1.3],[\"ppk1\",\"polyphosphate kinase\",0.1659,0.87],[\"mutT1\",\"8-oxo-dGTP diphosphatase\",0.98,1.03],[\"hupB\",\"DNA-binding protein HU\",0.9741,0.91],[\"leuD\",\"3-isopropylmalate dehydratase small subunit\",0.6502,1.04],[\"leuC\",\"3-isopropylmalate dehydratase large subunit\",0.2567,0.8],[null,\"transcriptional regulator\",0.5871,0.91],[null,\"hypothetical protein Rv2990c\",0.0066,1.34],[\"gltS\",\"glutamate--tRNA ligase\",0.0467,0.86],[null,null,0.3468,1.12],[\"leuB\",\"3-isopropylmalate dehydrogenase\",0.5857,0.95],[\"serA1\",\"D-3-phosphoglycerate dehydrogenase\",0.0386,0.83],[\"ilvC\",\"ketol-acid reductoisomerase\",0.3312,0.85],[\"ilvN\",\"acetolactate synthase small subunit\",0.5527,1.12],[\"ilvB1\",\"acetolactate synthase large subunit IlvB\",0.0107,0.71],[null,\"hypothetical protein Rv3005c\",0.943,0.96],[\"lppZ\",\"lipoprotein LppZ\",0.529,1.16],[\"gatB\",\"aspartyl/glutamyl-tRNA(Asn/Gln) amidotransferase subunit B\",0.2395,0.88],[\"pfkA\",\"6-phosphofructokinase\",0.7139,1.07],[\"gatA\",\"glutamyl-tRNA(GLN) amidotransferase subunit A\",0.5209,0.95],[\"gatC\",\"glutamyl-tRNA(GLN) amidotransferase subunit C\",0.6272,0.94],[\"ligA\",\"DNA ligase A\",0.6749,0.94],[null,\"hypothetical protein Rv3015c\",1.0,1.05],[\"trmU\",\"tRNA-specific 2-thiouridylase\",0.0164,0.6],[\"iscS\",\"cysteine desulfurase\",0.7493,0.95],[\"fixB\",\"electron transfer flavoprotein subunit alpha\",0.8604,1.03],[\"fixA\",\"electron transfer flavoprotein subunit beta\",0.5122,1.08],[null,\"S-adenosylmethionine-dependent methyltransferase\",0.2067,1.22],[null,null,0.1617,0.86],[null,\"glycogen synthase\",0.2153,0.79],[null,\"acetyltransferase\",0.4498,1.2],[\"TB22.2\",\"hypothetical protein Rv3036c\",0.0378,0.4],[null,\"hypothetical protein Rv3038c\",0.5704,0.96],[\"echA17\",\"enoyl-CoA hydratase EchA17\",0.2174,1.25],[null,\"hypothetical protein Rv3040c\",0.6908,0.94],[null,\"ABC transporter ATP-binding protein\",0.6731,1.05],[\"serB2\",\"phosphoserine phosphatase SerB\",0.1433,0.81],[\"ctaD\",\"cytochrome C oxidase cytochrome 1\",0.7198,1.14],[\"fecB\",\"FeIII-dicitrate-binding periplasmic lipoprotein\",0.4768,0.89],[\"adhC\",\"NADP-dependent alcohol dehydrogenase\",0.3979,0.89],[null,\"hypothetical protein Rv3046c\",0.8825,0.97],[\"nrdF2\",\"ribonucleoside-diphosphate reductase subunit beta NrdF2\",0.3278,0.83],[null,\"monooxygenase\",0.0239,0.5],[null,\"AsnC family transcriptional regulator\",0.114,1.44],[\"nrdE\",\"ribonucleoside-diphosphate reductase subunit alpha\",0.0477,0.78],[\"nrdI\",\"NrdI protein\",0.6266,1.04],[null,\"hypothetical protein Rv3054c\",0.1614,1.38],[null,\"TetR family transcriptional regulator\",0.3559,1.17],[null,\"short chain alcohol dehydrogenase/reductase\",0.8344,0.94],[null,\"TetR family transcriptional regulator\",0.7824,0.88],[\"cyp136\",\"cytochrome P450 Cyp136\",0.017,0.59],[\"fadE22\",\"acyl-CoA dehydrogenase FadE22\",0.2058,1.14],[null,\"DeoR family transcriptional regulator\",0.1382,1.22],[\"pgmA\",\"phosphoglucomutase PgmA\",0.7843,0.98],[null,\"hypothetical protein Rv3071\",0.3986,1.3],[null,\"hypothetical protein Rv3075c\",0.016,0.7],[null,\"hypothetical protein Rv3076\",0.8466,0.97],[null,\"hypothetical protein Rv3079c\",0.9622,0.96],[\"pknK\",\"serine/threonine-protein kinase PknK\",0.1825,0.75],[null,\"hypothetical protein Rv3081\",0.1475,1.08],[\"lipR\",\"acetyl-hydrolase LipR\",0.3266,0.74],[\"adhD\",\"alcohol dehydrogenase D\",0.0328,0.74],[null,\"diacyglycerol O-acyltransferase\",0.0292,0.6],[\"tgs4\",\"diacyglycerol O-acyltransferase\",0.6821,0.93],[\"fadD13\",\"long chain-fatty-acid--CoA ligase FadD13\",0.0054,0.78],[null,\"hypothetical protein Rv3090\",0.701,1.14],[null,\"hypothetical protein Rv3091\",0.0103,0.79],[null,\"oxidoreductase\",0.207,1.3],[null,\"hypothetical protein Rv3094c\",0.155,1.32],[null,\"HTH-type transcriptional regulator\",0.1276,1.39],[null,\"hypothetical protein Rv3099c\",0.5461,1.09],[\"smpB\",\"SsrA-binding protein\",0.2041,1.2],[\"ftsX\",\"cell division protein FtsX\",0.2919,1.55],[\"ftsE\",\"cell division ATP-binding protein FtsE\",0.5461,1.23],[null,\"transmembrane protein\",0.9309,1.28],[\"prfB\",\"peptide chain release factor PrfB\",0.6479,0.96],[\"fprA\",\"NADPH-ferredoxin reductase FprA\",0.0452,0.83],[\"agpS\",\"alkyldihydroxyacetonephosphate synthase\",0.8689,0.99],[\"moeB2\",\"molybdenum cofactor biosynthesis protein MoeB\",0.3423,0.82],[\"moaE1\",\"molybdopterin synthase catalytic subunit 1\",0.8617,0.97],[null,\"hypothetical protein Rv3120\",0.9582,0.94],[\"cyp141\",\"cytochrome P450 Cyp141\",0.039,0.63],[\"devS\",\"two component sensor histidine kinase DevS\",0.1313,0.79],[\"devR\",\"two component transcriptional regulator DevR\",0.3018,1.74],[null,\"histidinol-phosphatase\",0.9046,0.99],[\"fadE24\",\"acyl-CoA dehydrogenase FadE24\",0.6596,0.94],[\"fadE23\",\"acyl-CoA dehydrogenase FadE23\",0.3712,0.9],[\"fadB4\",\"NADPH quinone oxidoreductase FadB\",0.3027,1.14],[null,\"hypothetical protein Rv3142c\",0.0329,2.24],[null,\"response regulator\",0.8073,0.84],[\"nuoB\",\"NADH-quinone oxidoreductase subunit B\",0.6796,0.88],[\"nuoC\",\"NADH-quinone oxidoreductase subunit C\",0.4496,0.82],[\"nuoD\",\"NADH-quinone oxidoreductase subunit D\",0.0115,0.63],[\"nuoE\",\"NADH-quinone oxidoreductase subunit E\",0.0317,0.71],[\"nuoF\",\"NADH-quinone oxidoreductase subunit F\",0.0255,0.7],[\"nuoG\",\"NADH-quinone oxidoreductase subunit G\",0.0365,0.73],[\"nuoI\",\"NADH-quinone oxidoreductase subunit I\",0.604,0.87],[\"nuoJ\",\"NADH-quinone oxidoreductase subunit J\",0.8828,1.07],[\"nuoM\",\"NADH-quinone oxidoreductase subunit M\",0.9844,0.89],[\"nuoN\",\"NADH-quinone oxidoreductase subunit N\",0.6063,0.92],[null,\"TetR family transcriptional regulator\",0.1473,1.34],[null,\"dioxygenase\",0.6583,1.09],[\"moxR3\",\"methanol dehydrogenase transcriptional regulator MoxR\",0.708,0.96],[null,\"TetR family transcriptional regulator\",0.8608,1.0],[null,\"aminoglycoside phosphotransferase\",0.012,0.71],[null,\"hypothetical protein Rv3169\",0.0032,0.66],[null,\"hypothetical protein Rv3179\",0.0467,0.71],[null,\"hypothetical protein Rv3188\",0.7348,0.83],[null,\"transmembrane protein\",0.7257,1.05],[null,\"hypothetical protein Rv3194c\",0.7032,0.96],[null,\"hypothetical protein Rv3196A\",0.4494,0.86],[null,\"ABC transporter ATP-binding protein\",0.7755,1.07],[\"uvrD2\",\"ATP-dependent DNA helicase UvrD\",0.0106,0.65],[null,\"transmembrane cation transporter\",0.8172,1.03],[\"lipV\",\"lipase LipV\",0.0948,1.37],[null,\"hypothetical protein Rv3205c\",0.6602,1.07],[\"moeB1\",\"adenylyltransferase/sulfurtransferase\",0.0567,0.75],[null,\"hypothetical protein Rv3207c\",0.2956,0.92],[null,\"TetR family transcriptional regulator\",0.2139,0.82],[\"TB9.4\",\"hypothetical protein Rv3208A\",0.9322,0.97],[null,\"hypothetical protein Rv3210c\",0.2327,1.25],[\"rhlE\",\"ATP-dependent RNA helicase RhlE\",0.0062,0.6],[null,\"hypothetical protein Rv3212\",0.6686,0.96],[null,\"SOJ/ParA-like protein\",0.4545,0.84],[\"gpm2\",\"phosphoglycerate mutase\",0.5176,1.12],[\"entC\",\"isochorismate synthase\",0.1225,0.81],[null,\"hypothetical protein Rv3218\",0.4901,1.08],[null,\"two component sensor kinase\",0.0001,0.74],[\"sigH\",\"ECF RNA polymerase sigma factor SigH\",0.6539,0.91],[null,\"iron-regulated short-chain dehydrogenase/reductase\",0.9548,1.0],[null,\"GCN5-like N-acetyltransferase\",0.0102,0.71],[null,\"hypothetical protein Rv3226c\",0.4672,0.92],[\"aroA\",\"3-phosphoshikimate 1-carboxyvinyltransferase\",0.3396,0.9],[null,\"hypothetical protein Rv3228\",0.0491,0.82],[null,\"hypothetical protein Rv3231c\",0.6412,0.93],[\"ppk2\",\"polyphosphate kinase\",0.4601,0.86],[null,\"hypothetical protein Rv3237c\",0.4464,0.82],[\"secA1\",\"protein translocase subunit SecA\",0.1939,0.66],[null,\"hypothetical protein Rv3241c\",0.704,0.88],[null,\"hypothetical protein Rv3243c\",0.1694,1.43],[\"lpqB\",\"lipoprotein LpqB\",0.9451,0.96],[\"mtrA\",\"two component DNA-binding response regulator MtrA\",0.3902,1.14],[\"tmk\",\"thymidylate kinase\",0.1311,1.64],[\"sahH\",\"adenosylhomocysteinase\",0.0617,1.22],[null,\"TetR family transcriptional regulator\",0.3495,0.76],[null,\"hypothetical protein Rv3254\",0.3103,0.83],[\"manA\",\"mannose-6-phosphate isomerase\",0.0284,0.66],[null,\"hypothetical protein Rv3256c\",0.0832,0.8],[\"pmmA\",\"phosphomannomutase PmmA\",0.1308,0.81],[null,\"hypothetical protein Rv3259\",0.4876,0.86],[\"fbiA\",\"2-phospho-L-lactate transferase\",0.7829,1.02],[\"fbiB\",\"coenzyme F420:L-glutamate ligase\",0.8477,0.99],[\"manB\",\"D-alpha-D-mannose-1-phosphate guanylyltransferase ManB\",0.2013,0.86],[\"wbbL1\",\"N-acetylglucosaminyl-diphospho-decaprenol L-rhamnosyltransferase\",0.4678,1.12],[\"rmlD\",\"dTDP-4-dehydrorhamnose reductase\",0.7363,0.97],[null,\"hypothetical protein Rv3267\",0.1901,1.22],[null,\"hypothetical protein Rv3268\",0.1536,1.33],[null,\"hypothetical protein Rv3269\",0.857,0.9],[\"ctpC\",\"manganese/zinc-exporting P-type ATPase\",0.0754,0.75],[null,\"hypothetical protein Rv3272\",0.0146,0.65],[null,\"transmembrane carbonic anhydrase\",0.6907,1.06],[\"fadE25\",\"acyl-CoA dehydrogenase FadE25\",0.4514,0.9],[\"purE\",\"N5-carboxyaminoimidazole ribonucleotide mutase\",0.3201,0.69],[\"purK\",\"N5-carboxyaminoimidazole ribonucleotide synthase\",0.0311,0.8],[null,\"transmembrane protein\",0.2737,1.38],[\"birA\",\"bifunctional biotin operon repressor/biotin-\",0.2071,1.26],[\"accD5\",\"propionyl-CoA carboxylase subunit beta\",0.1622,0.87],[\"accE5\",\"bifunctional protein acetyl-/propionyl-CoAcarboxylase subunit epsilon AccE\",0.0091,1.72],[null,\"hypothetical protein Rv3282\",0.5406,1.1],[\"sseA\",\"thiosulfate sulfurtransferase SseA\",0.8576,1.04],[\"accA3\",\"bifunctional protein acetyl-/propionyl-CoA carboxylase subunit alpha AccA\",0.3623,1.11],[\"sigF\",\"RNA polymerase sigma factor SigF\",0.5541,0.85],[\"rsbW\",\"anti-sigma factor RsbW\",0.9423,0.99],[\"lat\",\"L-lysine-epsilon aminotransferase\",0.0001,0.09],[\"lrpA\",\"transcriptional regulator LrpA\",0.4927,1.23],[null,\"hypothetical protein Rv3292\",0.0239,0.75],[\"pcd\",\"piperideine-6-carboxylic acid dehydrogenase\",0.0144,0.78],[null,\"TetR family transcriptional regulator\",0.5488,1.15],[\"lhr\",\"ATP-dependent helicase\",0.198,0.79],[\"nei\",\"endonuclease VIII\",0.295,0.68],[\"atsB\",\"arylsulfatase AtsB\",0.0053,0.58],[\"phoY1\",\"phosphate transport system transcriptional regulator PhoY\",0.9991,0.93],[\"glpD2\",\"glycerol-3-phosphate dehydrogenase\",0.0501,0.71],[\"lpdA\",\"NAD(P)H quinone reductase LpdA\",0.0209,0.66],[null,\"hypothetical protein Rv3304\",0.2031,1.25],[\"amiA1\",\"N-acyl-L-amino acid amidohydrolase AmiA\",0.0509,0.81],[\"amiB1\",\"amidase AmiB\",0.0249,0.68],[\"deoD\",\"purine nucleoside phosphorylase\",0.6558,1.04],[\"pmmB\",\"phosphomannomutase PmmB\",0.0436,0.67],[\"upp\",\"uracil phosphoribosyltransferase\",0.5166,1.12],[null,\"hypothetical protein Rv3311\",0.4052,1.11],[\"add\",\"adenosine deaminase\",0.5784,0.94],[\"deoA\",\"thymidine phosphorylase\",0.0936,0.77],[\"cdd\",\"cytidine deaminase\",0.022,0.7],[\"sdhA\",\"succinate dehydrogenase flavoprotein subunit\",0.3366,0.83],[\"sdhB\",\"succinate dehydrogenase iron-sulphur protein subunit\",0.5527,1.19],[\"vapC44\",\"ribonuclease VapC44\",0.316,1.22],[null,\"methyltransferase\",0.2737,1.3],[\"sigJ\",\"ECF RNA polymerase sigma factor SigJ\",0.1151,0.8],[null,\"aminotransferase\",0.0004,0.67],[\"dacB1\",\"penicillin-binding protein DacB\",0.3143,0.83],[\"nagA\",\"N-acetylglucosamine-6-phosphate deacetylase NagA\",0.7947,0.95],[\"trpS\",\"tryptophan--tRNA ligase\",0.8136,0.98],[\"icd1\",\"isocitrate dehydrogenase\",0.5421,0.93],[\"metC\",\"O-acetylhomoserine sulfhydrylase\",0.3601,0.82],[\"metA\",\"homoserine O-acetyltransferase\",0.128,0.62],[null,\"methyltransferase\",0.7239,0.89],[\"folD\",\"bifunctional methylenetetrahydrofolate dehydrogenase/methenyltetrahydrofolate cyclohydrolase\",0.4151,1.09],[null,\"hypothetical protein Rv3361c\",0.652,0.8],[null,\"ATP/GTP-binding protein\",0.59,1.07],[null,\"hypothetical protein Rv3365c\",0.3511,1.42],[\"spoU\",\"tRNA/rRNA methylase SpoU\",0.3547,1.13],[null,\"oxidoreductase\",0.1735,1.42],[null,\"hypothetical protein Rv3369\",0.1491,1.64],[\"otsB2\",\"trehalose 6-phosphate phosphatase\",0.021,0.67],[\"amiD\",\"amidase\",0.0334,0.65],[null,\"phosphatase\",0.8886,0.96],[null,\"type B diterpene cyclase\",0.0064,0.74],[\"vapC46\",\"ribonuclease VapC46\",0.8122,0.93],[\"htdY\",\"3-hydroxyacyl-thioester dehydratase HtdY\",0.8765,1.05],[\"lpqD\",\"lipoprotein LpqD\",0.5866,1.23],[\"acrA1\",\"acyl-CoA-reductase AcrA\",0.0593,0.61],[\"cmaA1\",\"cyclopropane mycolic acid synthase CmaA\",0.9575,0.93],[\"iunH\",\"nucleoside hydrolase\",0.7058,1.03],[\"guaA\",\"GMP synthase\",0.0121,0.82],[\"phyA\",\"phytoene synthase\",0.7657,1.03],[\"idsA1\",\"multifunctional dimethylallyltransferase/geranyltranstransferase/farnesyltranstransferase\",0.9807,0.95],[null,\"S-adenosylmethionine-dependent methyltransferase\",0.1581,0.81],[null,\"hydrolase\",0.1523,1.3],[null,\"glycosyl hydrolase\",0.5779,0.94],[null,\"hypothetical protein Rv3403c\",0.0434,0.62],[null,\"hypothetical protein Rv3404c\",0.4702,1.13],[null,\"HTH-type transcriptional regulator\",0.7566,1.15],[null,\"dioxygenase\",0.8683,0.96],[\"vapB47\",\"antitoxin VapB47\",0.0292,0.51],[\"choD\",\"cholesterol oxidase\",0.956,1.0],[\"guaB3\",\"oxidoreductase\",0.7066,0.97],[\"guaB2\",\"inosine-5\\\\\\\\'-monophosphate dehydrogenase\",0.037,0.73],[null,\"hypothetical protein Rv3415c\",0.5722,1.08],[\"groEL1\",\"chaperonin GroEL\",0.192,0.89],[\"groES\",\"chaperonin GroES\",0.5095,1.08],[\"gcp\",\"O-sialoglycoprotein endopeptidase\",0.717,1.04],[\"rimI\",\"ribosomal-protein-alanine acetyltransferase RimI\",0.4642,0.91],[null,\"hypothetical protein Rv3421c\",0.7844,0.86],[null,\"tRNA threonylcarbamoyladenosine biosynthesis protein\",0.8291,1.04],[\"alr\",\"alanine racemase\",0.6311,0.96],[\"gadB\",\"glutamate decarboxylase GadB\",0.1517,0.85],[null,\"bifunctional ADP-dependent (S)-NAD(P)H-hydrate dehydratase/NAD(P)H-hydrate epimerase\",0.8463,0.98],[\"glmS\",\"glucosamine--fructose-6-phosphate aminotransferase\",0.8358,1.01],[null,\"hypothetical protein Rv3438\",0.9587,1.05],[\"mrsA\",\"phosphoglucosamine mutase\",0.0142,0.68],[\"rpsI\",\"30S ribosomal protein S9\",0.4978,1.15],[\"rplM\",\"50S ribosomal protein L13\",0.2375,1.46],[\"truA\",\"tRNA pseudouridine synthase A\",0.953,0.96],[\"rplQ\",\"50S ribosomal protein L17\",0.2344,1.37],[\"rpoA\",\"DNA-directed RNA polymerase subunit alpha\",0.2536,0.86],[\"rpsD\",\"30S ribosomal protein S4\",0.85,0.91],[\"rpsK\",\"30S ribosomal protein S11\",0.4202,1.23],[\"rpsM\",\"30S ribosomal protein S13\",0.4959,1.14],[null,\"hypothetical protein Rv3463\",0.1905,1.3],[null,null,0.081,0.77],[null,null,0.4184,1.2],[null,\"hypothetical protein Rv3472\",0.236,0.37],[null,\"diacyglycerol O-acyltransferase\",0.0775,0.61],[null,\"membrane protein\",0.2026,1.67],[null,\"hypothetical protein Rv3483c\",0.1007,1.6],[null,\"short-chain type dehydrogenase/reductase\",0.4375,1.11],[null,\"hypothetical protein Rv3488\",0.6748,1.05],[null,\"hypothetical protein Rv3489\",0.1134,0.79],[\"otsA\",\"trehalose-phosphate synthase\",0.2554,0.89],[null,\"Mce associated protein\",0.762,1.23],[\"mce4C\",\"Mce family protein Mce4C\",0.7012,0.96],[\"mce4A\",\"Mce family protein Mce4A\",0.6427,1.19],[null,\"short-chain type dehydrogenase/reductase\",0.1326,0.78],[\"fadE26\",\"acyl-CoA dehydrogenase FadE26\",0.1676,0.8],[\"fadE27\",\"acyl-CoA dehydrogenase FadE27\",0.3107,0.92],[\"ilvX\",\"acetohydroxyacid synthase large subunit\",0.1639,0.88],[null,\"hypothetical protein Rv3510c\",0.1434,1.32],[\"fadD19\",\"long-chain-fatty-acid--CoA ligase FadD19\",0.0603,0.84],[\"echA19\",\"enoyl-CoA hydratase EchA19\",0.8121,1.05],[\"cyp142\",\"cytochrome P450 monooxygenase Cyp142\",0.229,1.2],[null,\"hypothetical protein Rv3519\",0.3198,1.19],[null,\"coenzyme F420-dependent oxidoreductase\",0.7029,1.09],[\"ltp3\",\"lipid carrier protein\",0.214,0.82],[null,\"siderophore-binding protein\",0.2926,1.37],[\"kshA\",\"3-ketosteroid-9-alpha-hydroxylase oxygenase subunit\",0.1895,0.79],[null,\"hypothetical protein Rv3528c\",0.947,0.98],[null,\"oxidoreductase\",0.6066,1.22],[\"hsaF\",\"4-hydroxy-2-oxovalerate aldolase\",0.4815,0.91],[\"hsaG\",\"acetaldehyde dehydrogenase\",0.131,0.87],[\"hsaE\",\"hydratase\",0.2402,1.23],[null,\"dehydrogenase\",0.178,1.3],[\"ltp2\",\"lipid transfer protein\",0.4644,0.85],[\"fadE29\",\"acyl-CoA dehydrogenase FadE29\",0.1264,0.79],[\"fadE28\",\"acyl-CoA dehydrogenase FadE28\",0.0753,1.28],[\"cyp125\",\"steroid C26-monooxygenase\",0.0244,0.73],[\"fadA5\",\"acetyl-CoA acetyltransferase FadA\",0.4175,0.91],[\"ddn\",\"deazaflavin-dependent nitroreductase\",0.111,1.5],[null,\"short-chain type dehydrogenase/reductase\",0.9185,0.96],[\"echA20\",\"enoyl-CoA hydratase EchA20\",0.1239,0.83],[null,\"CoA-transferase subunit alpha\",0.6674,1.26],[null,\"CoA-transferase subunit beta\",0.0757,0.7],[\"fdxB\",\"electron transfer protein FdxB\",0.3401,0.8],[\"fadA6\",\"acetyl-CoA acetyltransferase FadA\",0.7254,0.97],[null,\"HTH-type transcriptional regulator KstR2\",0.3133,1.29],[null,\"oxidoreductase\",0.7979,1.18],[\"fadE30\",\"acyl-CoA dehydrogenase FadE30\",0.0799,0.76],[\"fadD3\",\"fatty-acid--CoA ligase FadD3\",0.0093,0.71],[\"fadE31\",\"acyl-CoA dehydrogenase FadE31\",0.2103,0.83],[\"fadE32\",\"acyl-CoA dehydrogenase FadE32\",0.4113,1.09],[\"fadE33\",\"acyl-CoA dehydrogenase FadE33\",0.2067,0.79],[\"aspB\",\"aspartate aminotransferase AspB\",0.0231,0.8],[\"nat\",\"arylamine N-acetyltransferase\",0.6371,1.08],[\"hsaC\",\"extradiol dioxygenase\",0.0645,0.81],[null,null,0.7829,1.01],[\"hsaA\",\"flavin-dependent monooxygenase oxygenase subunit HsaA\",0.2258,0.81],[\"fadE34\",\"acyl-CoA dehydrogenase FadE34\",0.0174,0.75],[\"kstR\",\"HTH-type transcriptional regulator KstR\",0.9615,0.94],[null,\"LacI family transcriptional regulator\",0.0546,0.8],[null,\"tRNA/rRNA methyltransferase\",0.0005,0.22],[\"cysS1\",\"cysteine--tRNA ligase\",0.7241,0.97],[null,null,0.4698,1.19],[\"ispD\",\"2-C-methyl-D-erythritol 4-phosphate cytidylyltransferase\",0.4859,1.11],[null,\"RNA polymerase-binding transcription factor CarD\",0.1428,1.42],[\"lpqE\",\"lipoprotein LpqE\",0.2428,1.5],[null,\"DNA integrity scanning protein DisA\",0.0745,0.75],[null,\"membrane protein\",0.1548,0.78],[\"canB\",\"carbonic anhydrase\",0.1335,1.47],[null,\"hydrolase\",0.324,1.2],[null,\"heme-degrading monooxygenase\",0.3543,1.2],[null,\"hypothetical protein Rv3594\",0.3683,0.78],[\"clpC1\",\"ATP-dependent protease ATP-binding subunit ClpC\",0.6119,1.05],[\"lsr2\",\"iron-regulated H-NS-like protein\",0.0626,0.62],[\"lysS\",\"lysine--tRNA ligase\",0.3532,0.93],[null,\"type III pantothenate kinase\",0.2227,1.28],[\"panC\",\"pantothenate synthetase\",0.8048,0.98],[null,\"hypothetical protein Rv3603c\",0.6966,1.05],[\"folK\",\"2-amino-4-hydroxy-6-hydroxymethyldihydropteridinepyrophosphokinase\",0.1335,1.25],[\"folB\",\"dihydroneopterin aldolase\",0.2053,1.58],[\"folP1\",\"dihydropteroate synthase\",0.0632,1.77],[\"folE\",\"GTP cyclohydrolase I\",0.3556,1.2],[\"ftsH\",\"zinc metalloprotease FtsH\",0.732,1.02],[\"espD\",\"ESX-1 secretion-associated protein EspD\",0.8723,0.94],[\"espA\",\"ESX-1 secretion-associated protein EspA\",0.0148,0.51],[\"ephA\",\"epoxide hydrolase EphA\",0.442,1.15],[null,\"monooxygenase\",0.5557,1.17],[\"lpqG\",\"lipoprotein LpqG\",0.1314,1.67],[\"hpt\",\"hypoxanthine-guanine phosphoribosyltransferase\",0.8265,0.9],[\"mesJ\",\"tRNA(Ile)-lysidine synthase\",0.8028,0.93],[null,\"hypothetical protein Rv3626c\",0.9591,1.02],[null,\"hypothetical protein Rv3627c\",0.6604,1.08],[\"ppa\",\"inorganic pyrophosphatase\",0.0432,1.68],[null,\"hypothetical protein Rv3633\",0.0905,0.6],[\"galE1\",\"UDP-glucose 4-epimerase\",0.436,1.1],[null,\"DNA polymerase\",0.1135,0.88],[null,\"transmembrane protein\",0.5536,1.11],[\"topA\",\"DNA topoisomerase I\",0.9392,0.97],[null,\"hypothetical protein Rv3647c\",0.4035,1.13],[\"cspA\",\"cold shock protein A\",0.0493,0.72],[null,\"hypothetical protein Rv3651\",0.1993,0.8],[null,\"hypothetical protein Rv3661\",0.6154,0.91],[null,\"hypothetical protein Rv3662c\",0.0717,1.47],[\"dppA\",\"dipeptide ABC transporter substrate-binding lipoprotein DppA\",0.949,1.03],[\"acs\",\"acetyl-CoAsynthetase\",0.4578,0.91],[null,\"transmembrane protein\",0.1727,2.09],[\"ephE\",\"epoxide hydrolase EphE\",0.5079,0.96],[\"nth\",\"endonuclease III\",0.2685,0.82],[\"crp\",\"cAMP receptor protein\",0.437,1.15],[null,\"beta lactamase\",0.28,0.84],[null,\"hypothetical protein Rv3678c\",0.0619,1.75],[null,\"anion transporter ATPase\",0.419,0.91],[null,\"anion transporter ATPase\",0.1899,0.86],[\"ponA2\",\"bifunctional penicillin-insensitive transglycosylase/penicillin-sensitive transpeptidase\",0.873,0.97],[null,\"hypothetical protein Rv3683\",0.0356,0.63],[null,\"lyase\",0.7017,0.96],[\"cyp137\",\"cytochrome P450 Cyp137\",0.0974,0.77],[\"rsfB\",\"anti-anti-sigma factor RsfB\",0.0439,4.88],[null,\"hypothetical protein Rv3688c\",0.2366,1.4],[null,\"hypothetical protein Rv3691\",0.7286,0.99],[\"moxR2\",\"methanol dehydrogenase transcriptional regulator MoxR\",0.1781,0.84],[null,\"membrane protein\",0.5151,0.76],[null,\"membrane protein\",0.7763,0.94],[\"glpK\",\"glycerol kinase\",0.0942,0.87],[null,\"hypothetical protein Rv3698\",0.9062,1.0],[null,\"hypothetical protein Rv3699\",0.1729,1.34],[\"egtE\",\"pyridoxal-phosphate-dependent protein EgtE\",0.4536,0.93],[\"egtD\",\"histidine-specific methyltransferase EtgD\",0.0809,0.88],[\"egtC\",\"amidohydrolase EgtC\",0.197,1.32],[\"etgB\",\"iron(II)-dependent oxidoreductase EgtB\",0.5249,1.1],[\"gshA\",\"glutamate--cysteine ligase\",0.8996,0.97],[\"asd\",\"aspartate-semialdehyde dehydrogenase\",0.124,0.83],[\"ask\",\"aspartokinase\",0.599,0.95],[\"leuA\",\"2-isopropylmalate synthase\",0.7632,0.97],[\"dnaQ\",\"DNA polymerase III subunit epsilon\",0.2958,0.8],[null,\"ligase\",0.1738,0.77],[\"cobQ2\",\"cobyric acid synthase CobQ\",0.2869,1.52],[null,\"hypothetical protein Rv3714c\",0.3545,0.88],[\"recR\",\"recombination protein RecR\",0.5884,1.09],[null,\"hypothetical protein Rv3716c\",0.1648,1.39],[null,\"hypothetical protein Rv3717\",0.1862,1.48],[null,\"hypothetical protein Rv3718c\",0.0633,1.77],[null,\"hypothetical protein Rv3719\",0.2537,0.88],[null,\"fatty acid synthase\",0.1126,0.8],[\"dnaZX\",\"DNA polymerase III subunit gamma/tau\",0.1544,0.84],[null,\"hypothetical protein Rv3722c\",0.1109,0.82],[null,\"transmembrane protein\",0.5377,0.85],[null,\"dehydrogenase\",0.0145,0.65],[null,\"transferase\",0.7769,0.98],[null,\"hypothetical protein Rv3730c\",0.1073,0.84],[\"ligC\",\"DNA ligase C\",0.0688,0.74],[\"tgs2\",\"diacyglycerol O-acyltransferase\",0.0739,0.78],[null,\"AraC/XylS family transcriptional regulator\",0.0008,0.53],[null,\"hypothetical protein Rv3747\",0.7142,1.03],[null,\"hypothetical protein Rv3748\",0.3189,1.36],[null,\"hypothetical protein Rv3753c\",0.0275,2.75],[\"tyrA\",\"prephenate dehydrogenase TyrA\",0.3842,1.14],[null,\"hypothetical protein Rv3755c\",0.3253,1.27],[\"proV\",\"glycine betaine/carnitine/choline/L-proline ABC transporter ATP-binding protein ProV\",0.8738,0.99],[\"proX\",\"glycine betaine/carnitine/choline/L-proline ABC transporter substrate-binding lipoprotein ProX\",0.2441,1.14],[\"fadE36\",\"acyl-CoA dehydrogenase FadE36\",0.0788,0.79],[null,\"hydrolase\",0.0068,0.81],[\"lpqH\",\"lipoprotein LpqH\",0.4595,1.39],[\"tcrY\",\"two component sensor kinase TcrY\",0.4649,1.11],[\"tcrX\",\"two component transcriptional regulator TcrX\",0.1047,1.58],[null,\"S-adenosylmethionine-dependent methyltransferase\",0.4057,1.16],[null,\"hypothetical protein Rv3768\",0.4082,1.38],[\"hisC2\",\"histidinol-phosphate aminotransferase\",0.268,0.87],[null,\"hypothetical protein Rv3773c\",0.1368,1.53],[\"echA21\",\"enoyl-CoA hydratase EchA21\",0.5731,1.08],[\"lipE\",\"lipase LipE\",0.0248,0.79],[null,\"oxidoreductase\",0.5429,1.1],[null,\"aminotransferase\",0.1335,0.86],[null,\"transmembrane protein\",0.5983,1.09],[null,\"hypothetical protein Rv3780\",0.0454,1.55],[\"rfbE\",\"O-antigen/lipopolysaccharide ABC transporter ATP-binding protein RfbE\",0.0657,1.37],[\"glfT1\",\"galactofuranosyl transferase GlfT\",0.6373,1.09],[null,null,0.1428,1.17],[null,\"hypothetical protein Rv3785\",0.1398,0.68],[null,\"hypothetical protein Rv3786c\",0.0161,0.77],[null,\"S-adenosyl-L-methionine-dependent methyltransferase\",0.0637,0.81],[null,\"hypothetical protein Rv3788\",0.011,1.83],[\"dprE1\",\"decaprenylphosphoryl-beta-D-ribose oxidase\",0.1564,0.83],[\"dprE2\",\"decaprenylphosphoryl-D-2-keto erythropentose reductase\",0.4252,1.19],[\"embC\",\"arabinosyltransferase C\",0.8828,1.01],[\"embA\",\"arabinosyltransferase A\",0.5069,1.14],[\"embB\",\"arabinosyltransferase B\",0.4074,1.2],[null,\"hypothetical protein Rv3796\",0.7163,0.96],[\"fadE35\",\"acyl-CoA dehydrogenase FadE35\",0.1051,0.86],[\"accD4\",\"propionyl-CoA carboxylase subunit beta AccD\",0.0505,0.8],[\"pks13\",\"polyketide synthase\",0.2391,0.88],[\"fadD32\",\"long-chain-fatty-acid--AMP ligase FadD32\",0.0848,0.81],[null,\"membrane protein\",0.0706,1.82],[\"fbpD\",\"MPT51/MPB51 antigen\",0.9517,0.94],[\"fbpA\",\"diacylglycerol acyltransferase/mycolyltransferase Ag85A\",0.8512,1.0],[\"aftB\",\"terminal beta-(1->2)-arabinofuranosyltransferase\",0.06,0.62],[\"ubiA\",\"decaprenyl-phosphate phosphoribosyltransferase\",0.5061,1.25],[null,\"decaprenylphosphoryl-5-phosphoribose phosphatase\",0.4655,1.16],[\"glfT2\",\"galactofuranosyl transferase GlfT\",0.1335,0.72],[\"glf\",\"UDP-galactopyranose mutase\",0.0458,0.76],[null,\"hypothetical protein Rv3813c\",0.503,1.24],[null,\"acyltransferase\",0.9673,1.02],[null,\"acyltransferase\",0.3207,1.22],[null,\"phosphotransferase\",0.5501,1.07],[null,\"hypothetical protein Rv3818\",0.3184,0.92],[\"papA2\",\"trehalose-2-sulfate acyltransferase\",0.0193,0.74],[\"fadD23\",\"long-chain-fatty-acid--CoA ligase FadD23\",0.0103,0.75],[null,\"TetR family transcriptional regulator\",0.0753,1.61],[\"serS\",\"serine--tRNA ligase\",0.5311,0.94],[null,\"phosphoglycerate mutase\",0.2693,1.19],[\"pheA\",\"prephenate dehydratase\",0.1122,1.3],[\"bfrB\",\"bacterioferritin BfrB\",0.0083,0.71],[\"glpQ1\",\"glycerophosphoryl diester phosphodiesterase\",0.6679,1.07],[null,\"transmembrane protein\",0.907,1.07],[\"sodA\",\"superoxide dismutase\",0.291,0.92],[\"espR\",\"ESX-1 transcriptional regulator EspR\",0.4729,1.14],[null,\"hypothetical protein Rv3850\",0.5471,1.26],[\"hns\",\"histone-like protein Hns\",0.7514,1.18],[\"rraA\",\"RNase E regulator RraA\",0.0187,0.79],[\"ethA\",\"monooxygenase EthA\",0.6443,1.04],[\"ethR\",\"HTH-type transcriptional repressor EthR\",0.403,1.21],[null,\"hypothetical protein Rv3856c\",0.8453,0.97],[\"gltD\",\"glutamate synthase small subunit\",0.091,0.88],[\"gltB\",\"glutamate synthase large subunit\",0.3534,0.86],[null,\"hypothetical protein Rv3860\",0.3599,0.86],[null,\"hypothetical protein Rv3863\",0.0866,0.86],[\"espE\",\"ESX-1 secretion-associated protein EspE\",0.0499,1.62],[\"espF\",\"ESX-1 secretion-associated protein EspF\",0.2888,1.31],[\"espG1\",\"ESX-1 secretion-associated protein EspG\",0.2294,1.38],[\"espH\",\"ESX-1 secretion-associated protein EspH\",0.001,2.56],[\"eccA1\",\"ESX-1 secretion system protein EccA1\",0.9234,0.98],[\"eccB1\",\"ESX-1 secretion system protein EccB\",0.8628,1.05],[\"eccCa1\",\"ESX-1 secretion system protein EccCa\",0.7619,1.1],[\"eccCb1\",\"ESX-1 secretion system protein EccCb\",0.1492,0.81],[\"PPE68\",\"PPE family protein PPE68\",0.4117,1.2],[\"esxB\",\"ESAT-6-like protein EsxB\",0.0783,0.79],[\"esxA\",\"ESAT-6 protein EsxA\",0.2055,0.77],[\"espI\",\"ESX-1 secretion-associated protein EspI\",0.4621,0.86],[\"eccD1\",\"ESX-1 secretion system protein EccD1\",0.7365,1.1],[\"espJ\",\"ESX-1 secretion-associated protein EspJ\",0.5543,0.86],[\"espK\",\"ESX-1 secretion-associated protein EspK\",0.4066,0.9],[\"espL\",\"ESX-1 secretion-associated protein EspL\",0.0306,1.61],[\"espB\",\"ESX-1 secretion-associated protein EspB\",0.049,0.73],[\"eccE1\",\"ESX-1 secretion system protein EccE1\",0.6481,1.16],[\"mycP1\",\"membrane-anchored mycosin\",0.7098,1.07],[\"mycP2\",\"membrane-anchored mycosin\",0.9312,1.04],[null,\"membrane protein\",0.1478,1.41],[\"eccC2\",\"ESX-2 type VII secretion system protein EccC\",0.5187,0.88],[\"eccB2\",\"ESX-2 secretion system protein EccB\",0.6408,0.92],[null,\"hypothetical protein Rv3902c\",0.1843,1.32],[\"pcnA\",\"poly(A) polymerase PcnA\",0.1053,0.84],[\"mutT4\",\"mutator protein MutT\",0.1743,0.79],[null,\"hypothetical protein Rv3909\",0.507,0.81],[null,\"peptidoglycan biosynthesis protein\",0.8759,0.95],[\"trxB2\",\"thioredoxin reductase\",0.5423,0.92],[\"trxC\",\"thioredoxin TrxC\",0.0403,1.67],[null,\"peptidoglycan hydrolase\",0.1218,0.78],[null,\"hypothetical protein Rv3916c\",0.5015,1.06],[\"parB\",\"chromosome partitioning protein ParB\",0.0315,0.74],[\"parA\",\"chromosome partitioning protein ParA\",0.4514,0.88],[null,\"hypothetical protein Rv3920c\",0.0112,1.46],[null,\"membrane protein insertase YidC\",0.6701,1.13],[null,\"membrane protein insertion efficiency factor\",0.4188,1.27]],\"hovertemplate\":\"<b>%{hovertext}</b><br><br>log_fc=%{x}<br>log_pvalue=%{y}<br>Locus=%{customdata[0]}<br>Protein Name=%{customdata[1]}<br>pvalue=%{customdata[2]}<br>fold_change=%{customdata[3]}<extra></extra>\",\"hovertext\":[\"Rv0001\",\"Rv0002\",\"Rv0003\",\"Rv0005\",\"Rv0006\",\"Rv0007\",\"Rv0008c\",\"Rv0009\",null,\"Rv0013\",\"Rv0014c\",\"Rv0015c\",\"Rv0016c\",\"Rv0018c\",\"Rv0019c\",\"Rv0020c\",\"Rv0021c\",\"Rv0023\",\"Rv0029\",\"Rv0032\",\"Rv0034\",\"Rv0035\",\"Rv0036c\",\"Rv0038\",\"Rv0041\",\"Rv0042c\",\"Rv0043c\",\"Rv0044c\",\"Rv0045c\",\"Rv0046c\",\"Rv0047c\",\"Rv0048c\",\"Rv0050\",\"Rv0051\",\"Rv0052\",\"Rv0053\",\"Rv0054\",\"Rv0055\",\"Rv0056\",\"Rv0059\",\"Rv0060\",\"Rv0062\",\"Rv0063\",\"Rv0066c\",\"Rv0067c\",\"Rv0068\",\"Rv0069c\",\"Rv0070c\",\"Rv0072\",\"Rv0073\",\"Rv0074\",\"Rv0075\",\"Rv0077c\",\"Rv0078\",\"Rv0078A\",\"Rv0088\",\"Rv0091\",\"Rv0097\",\"Rv0099\",\"Rv0101\",\"Rv0106\",\"Rv0107c\",\"Rv0108c\",\"Rv0117\",\"Rv0118c\",\"Rv0119\",\"Rv0120c\",\"Rv0123\",\"Rv0125\",\"Rv0126\",\"Rv0127\",\"Rv0129c\",\"Rv0130\",\"Rv0131c\",\"Rv0133\",\"Rv0134\",\"Rv0135c\",\"Rv0136\",\"Rv0137c\",\"Rv0138\",\"Rv0139\",\"Rv0140\",\"Rv0141c\",\"Rv0143c\",\"Rv0144\",\"Rv0145\",\"Rv0146\",\"Rv0147\",\"Rv0148\",\"Rv0149\",\"Rv0153c\",\"Rv0154c\",\"Rv0155\",\"Rv0157\",\"Rv0158\",\"Rv0161\",\"Rv0162c\",\"Rv0163\",\"Rv0164\",\"Rv0166\",\"Rv0167\",\"Rv0169\",\"Rv0170\",\"Rv0171\",\"Rv0172\",\"Rv0173\",\"Rv0174\",\"Rv0175\",\"Rv0176\",\"Rv0177\",\"Rv0178\",\"Rv0179c\",\"Rv0180c\",\"Rv0181c\",\"Rv0182c\",\"Rv0183\",\"Rv0184\",\"Rv0186\",\"Rv0187\",\"Rv0189c\",\"Rv0190\",\"Rv0196\",\"Rv0198c\",\"Rv0200\",\"Rv0202c\",\"Rv0206c\",\"Rv0207c\",\"Rv0208c\",\"Rv0211\",\"Rv0212c\",\"Rv0214\",\"Rv0216\",\"Rv0217c\",\"Rv0220\",\"Rv0221\",\"Rv0222\",\"Rv0223c\",\"Rv0227c\",\"Rv0229c\",\"Rv0230c\",\"Rv0231\",\"Rv0232\",\"Rv0234c\",\"Rv0237\",\"Rv0238\",\"Rv0240\",\"Rv0241c\",\"Rv0242c\",\"Rv0243\",\"Rv0244c\",\"Rv0245\",\"Rv0247c\",\"Rv0248c\",\"Rv0249c\",\"Rv0250c\",\"Rv0251c\",\"Rv0254c\",\"Rv0255c\",\"Rv0262c\",\"Rv0264c\",\"Rv0265c\",\"Rv0266c\",\"Rv3098A\",\"Rv0269c\",\"Rv0270\",\"Rv0271c\",\"Rv0272c\",\"Rv0275c\",\"Rv0280\",\"Rv0281\",\"Rv0282\",\"Rv0283\",\"Rv0284\",\"Rv0287\",\"Rv0289\",\"Rv0290\",\"Rv0291\",\"Rv0292\",\"Rv0293c\",\"Rv0294\",\"Rv0295c\",\"Rv0296c\",\"Rv0300\",\"Rv0301\",\"Rv0303\",\"Rv0307c\",\"Rv0308\",\"Rv0311\",\"Rv0312\",\"Rv0313\",\"Rv0314c\",null,\"Rv0316\",\"Rv0317c\",\"Rv0319\",\"Rv0321\",\"Rv0323c\",\"Rv0324\",\"Rv0328\",\"Rv0330c\",\"Rv0331\",\"Rv0332\",\"Rv0333\",\"Rv0334\",\"Rv0337c\",\"Rv0338c\",\"Rv0339c\",\"Rv0341\",\"Rv0342\",\"Rv0343\",\"Rv0347\",\"Rv0348\",\"Rv0349\",\"Rv0350\",\"Rv0351\",\"Rv0352\",\"Rv0356c\",\"Rv0357c\",\"Rv0360c\",\"Rv0361\",\"Rv0363c\",\"Rv0365c\",\"Rv0376c\",\"Rv0379\",\"Rv0380c\",\"Rv0382c\",\"Rv0383c\",\"Rv0384c\",\"Rv0385\",\"Rv0386\",\"Rv0389\",\"Rv0390\",\"Rv0391\",\"Rv0392c\",\"Rv0394c\",\"Rv0400c\",\"Rv0404\",\"Rv0405\",\"Rv0406c\",\"Rv0407\",\"Rv0408\",\"Rv0409\",\"Rv0410c\",\"Rv0411c\",\"Rv0412c\",\"Rv0413\",\"Rv0414c\",\"Rv0415\",\"Rv0417\",\"Rv0418\",\"Rv0419\",\"Rv0421c\",\"Rv0422c\",\"Rv0423c\",\"Rv0425c\",\"Rv0426c\",\"Rv0427c\",\"Rv0428c\",\"Rv0429c\",\"Rv0430\",\"Rv0431\",\"Rv0432\",\"Rv0433\",\"Rv0435c\",\"Rv0437c\",\"Rv0438c\",\"Rv0439c\",\"Rv0440\",\"Rv0443\",\"Rv0444c\",\"Rv0445c\",\"Rv0450c\",\"Rv0451c\",\"Rv0452\",\"Rv0456c\",\"Rv0457c\",\"Rv0458\",\"Rv0459\",\"Rv0462\",\"Rv0464c\",\"Rv0465c\",\"Rv0466\",\"Rv0467\",\"Rv0468\",\"Rv0469\",\"Rv0470c\",\"Rv0472c\",\"Rv0473\",\"Rv0474\",\"Rv0475\",\"Rv0478\",\"Rv0479c\",\"Rv0480c\",\"Rv0481c\",\"Rv0482\",\"Rv0483\",\"Rv0484c\",\"Rv0485\",\"Rv0486\",\"Rv0487\",null,\"Rv0491\",\"Rv0492c\",\"Rv0493c\",\"Rv0494\",\"Rv0497\",\"Rv0498\",\"Rv0499\",\"Rv0500\",\"Rv0500A\",\"Rv0501\",\"Rv0502\",\"Rv0503c\",\"Rv0504c\",\"Rv0505c\",\"Rv0509\",\"Rv0510\",\"Rv0511\",\"Rv0512\",\"Rv0513\",\"Rv0516c\",\"Rv0523c\",null,\"Rv0525\",\"Rv0526\",\"Rv0530\",\"Rv0533c\",\"Rv0535\",\"Rv0536\",\"Rv0537c\",\"Rv0538\",\"Rv0539\",\"Rv0540\",\"Rv0542c\",\"Rv0543c\",\"Rv0546c\",\"Rv0547c\",null,\"Rv0549c\",\"Rv0551c\",\"Rv0552\",\"Rv0553\",\"Rv0554\",null,\"Rv0558\",\"Rv0560c\",\"Rv0561c\",\"Rv0562\",\"Rv0563\",\"Rv0564c\",\"Rv0565c\",\"Rv0566c\",\"Rv0567\",\"Rv0568\",\"Rv0571c\",\"Rv0576\",\"Rv0577\",\"Rv0580c\",\"Rv0583c\",\"Rv0586\",\"Rv0592\",\"Rv0597c\",\"Rv0598c\",\"Rv0602c\",\"Rv0604\",\"Rv0613c\",\"Rv0629c\",\"Rv0630c\",\"Rv0631c\",\"Rv0632c\",\"Rv0633c\",\"Rv0634c\",\"Rv0634A\",\"Rv0635\",\"Rv0636\",\"Rv0638\",\"Rv0639\",\"Rv0640\",\"Rv0641\",\"Rv0642c\",\"Rv0643c\",\"Rv0644c\",\"Rv0645c\",\"Rv0646c\",\"Rv0647c\",\"Rv0651\",\"Rv0652\",\"Rv0654\",\"Rv0655\",\"Rv0667\",\"Rv0668\",\"Rv0669c\",\"Rv0670\",\"Rv0672\",\"Rv0673\",\"Rv0674\",\"Rv0675\",\"Rv0676c\",\"Rv0677c\",\"Rv0678\",\"Rv0681\",\"Rv0683\",\"Rv0684\",\"Rv0685\",\"Rv0686\",\"Rv0687\",\"Rv0688\",\"Rv0690c\",\"Rv0694\",\"Rv0695\",\"Rv0696\",\"Rv0697\",\"Rv0700\",\"Rv0701\",\"Rv0702\",\"Rv0703\",\"Rv0704\",\"Rv0705\",\"Rv0706\",\"Rv0707\",\"Rv0708\",\"Rv0709\",\"Rv0710\",\"Rv0711\",\"Rv0712\",\"Rv0713\",\"Rv0714\",\"Rv0715\",\"Rv0716\",\"Rv0718\",\"Rv0719\",\"Rv0720\",\"Rv0721\",\"Rv0722\",\"Rv0723\",\"Rv0724\",\"Rv0726c\",\"Rv0727c\",\"Rv0729\",\"Rv0730\",\"Rv0731c\",\"Rv0732\",\"Rv0733\",\"Rv0734\",\"Rv0738\",\"Rv0740\",\"Rv0743c\",null,\"Rv0751c\",\"Rv0752c\",\"Rv0753c\",\"Rv0757\",\"Rv0758\",\"Rv0759c\",\"Rv0760c\",\"Rv0761c\",\"Rv0764c\",\"Rv0765c\",\"Rv0766c\",\"Rv0767c\",\"Rv0768\",\"Rv0769\",\"Rv0770\",\"Rv0772\",\"Rv0773c\",\"Rv0774c\",\"Rv0775\",\"Rv0777\",\"Rv0778\",\"Rv0780\",\"Rv0785\",\"Rv0786c\",\"Rv0787A\",\"Rv0788\",\"Rv0791c\",\"Rv0792c\",\"Rv0794c\",\"Rv0798c\",\"Rv0799c\",\"Rv0800\",\"Rv0801\",\"Rv0802c\",\"Rv0803\",\"Rv0806c\",\"Rv0807\",\"Rv0808\",\"Rv0809\",\"Rv0811c\",\"Rv0812\",\"Rv0813c\",\"Rv0814c\",\"Rv3118\",\"Rv0815c\",\"Rv3117\",\"Rv0817c\",\"Rv0818\",\"Rv0819\",\"Rv0820\",\"Rv0821c\",\"Rv0822c\",\"Rv0823c\",\"Rv0824c\",\"Rv0825c\",\"Rv0830\",\"Rv0831c\",\"Rv0835\",\"Rv0837c\",\"Rv0839\",\"Rv0840c\",\"Rv0844c\",\"Rv0852\",\"Rv0853c\",\"Rv0854\",\"Rv0855\",\"Rv0858c\",\"Rv0859\",\"Rv0860\",\"Rv0861c\",\"Rv0862c\",\"Rv0864\",\"Rv0865\",\"Rv0866\",\"Rv0868c\",\"Rv0871\",\"Rv0873\",\"Rv0877\",\"Rv0880\",\"Rv0884c\",\"Rv0885\",\"Rv0886\",\"Rv0887c\",\"Rv0888\",\"Rv0889c\",\"Rv0890c\",\"Rv0893c\",\"Rv0896\",\"Rv0897c\",\"Rv0899\",\"Rv0902c\",\"Rv0903c\",\"Rv0904c\",\"Rv0905\",\"Rv0906\",\"Rv0907\",\"Rv0908\",\"Rv0910\",\"Rv0911\",\"Rv0913c\",\"Rv0914c\",\"Rv0923c\",\"Rv0925c\",\"Rv0926c\",\"Rv0927c\",\"Rv0928\",\"Rv0931c\",\"Rv0932c\",\"Rv0933\",\"Rv0934\",\"Rv0937c\",\"Rv0938\",null,\"Rv0940c\",\"Rv0941c\",\"Rv0946c\",\"Rv0949\",\"Rv0951\",\"Rv0952\",\"Rv0953c\",\"Rv0954\",\"Rv0956\",\"Rv0957\",\"Rv0958\",\"Rv0959\",\"Rv0960\",\"Rv0966c\",\"Rv0967\",\"Rv0968\",\"Rv0969\",\"Rv0971c\",\"Rv0972c\",\"Rv0973c\",\"Rv0974c\",\"Rv0975c\",\"Rv0979A\",\"Rv0981\",\"Rv0983\",\"Rv0984\",\"Rv0989c\",\"Rv0991c\",\"Rv0992c\",\"Rv0993\",\"Rv0994\",\"Rv0995\",\"Rv0998\",\"Rv0999\",\"Rv1001\",\"Rv1006\",\"Rv1007c\",\"Rv1008\",\"Rv1010\",\"Rv1011\",\"Rv1013\",\"Rv1014c\",\"Rv1015c\",\"Rv1016c\",\"Rv1017c\",\"Rv1018c\",\"Rv1019\",\"Rv1020\",\"Rv1021\",\"Rv1023\",\"Rv1025\",\"Rv1026\",\"Rv1032c\",\"Rv1033c\",\"Rv1043c\",\"Rv1045\",\"Rv1056\",\"Rv1058\",\"Rv1059\",\"Rv1060\",\"Rv1061\",\"Rv1062\",\"Rv1063c\",\"Rv1070c\",\"Rv1071c\",\"Rv1072\",\"Rv1074c\",\"Rv1077\",\"Rv1078\",\"Rv1079\",\"Rv1080c\",\"Rv1082\",\"Rv1084\",null,\"Rv1092c\",\"Rv1093\",\"Rv1094\",\"Rv1095\",\"Rv1096\",\"Rv1097c\",\"Rv1098c\",null,\"Rv1100\",\"Rv1101c\",\"Rv1106c\",\"Rv1108c\",\"Rv1109c\",\"Rv1110\",\"Rv1111c\",\"Rv1112\",\"Rv1114\",\"Rv1117\",\"Rv1118c\",\"Rv1121\",\"Rv1122\",\"Rv1124\",\"Rv1126c\",null,\"Rv1129c\",\"Rv1130\",\"Rv1131\",\"Rv1133c\",\"Rv1141c\",\"Rv1142c\",\"Rv1143\",\"Rv1144\",null,\"Rv1151c\",\"Rv1153c\",\"Rv1154c\",\"Rv1155\",\"Rv1156\",\"Rv1159A\",\"Rv1160\",\"Rv1161\",\"Rv1162\",\"Rv1165\",\"Rv1166\",\"Rv1167c\",\"Rv1170\",\"Rv1173\",null,\"Rv1176c\",\"Rv1177\",\"Rv1178\",\"Rv1185c\",\"Rv1187\",\"Rv1188\",\"Rv1190\",\"Rv1191\",\"Rv1192\",\"Rv1193\",\"Rv1194c\",null,\"Rv1198\",null,\"Rv1202\",\"Rv1206\",\"Rv1207\",\"Rv1208\",\"Rv1209\",\"Rv1210\",\"Rv1213\",\"Rv1215c\",\"Rv1216c\",\"Rv1218c\",\"Rv1219c\",\"Rv1220c\",\"Rv1221\",\"Rv1222\",\"Rv1223\",\"Rv1225c\",\"Rv1229c\",\"Rv1230c\",\"Rv1232c\",\"Rv1234\",\"Rv1235\",\"Rv1238\",\"Rv1239c\",\"Rv1240\",\"Rv1242\",\"Rv1244\",\"Rv1245c\",\"Rv1248c\",\"Rv1249c\",\"Rv1251c\",\"Rv1253\",\"Rv1255c\",\"Rv1256c\",\"Rv1257c\",\"Rv1259\",\"Rv1260\",\"Rv1261c\",\"Rv1263\",\"Rv1264\",\"Rv1265\",\"Rv1266c\",\"Rv1267c\",\"Rv1269c\",\"Rv1270c\",\"Rv1274\",\"Rv1275\",\"Rv1276c\",\"Rv1278\",\"Rv1279\",\"Rv1280c\",\"Rv1281c\",\"Rv1283c\",\"Rv1284\",\"Rv1285\",\"Rv1286\",\"Rv1287\",\"Rv1288\",\"Rv1289\",\"Rv1292\",\"Rv1293\",\"Rv1294\",\"Rv1295\",\"Rv1296\",\"Rv1297\",\"Rv1298\",\"Rv1299\",\"Rv1301\",\"Rv1304\",\"Rv1306\",\"Rv1307\",\"Rv1308\",\"Rv1309\",\"Rv1310\",\"Rv1311\",null,\"Rv1315\",\"Rv1316c\",\"Rv1317c\",\"Rv1321\",\"Rv1322A\",\"Rv1323\",\"Rv1324\",null,null,\"Rv1328\",\"Rv1329c\",\"Rv1330c\",\"Rv1332\",\"Rv1333\",\"Rv1334\",\"Rv1335\",\"Rv1336\",\"Rv1338\",\"Rv1339\",\"Rv1340\",\"Rv1341\",\"Rv1345\",\"Rv1346\",\"Rv1347c\",\"Rv1350\",\"Rv1360\",\"Rv1196\",\"Rv1361c\",\"Rv1362c\",\"Rv1363c\",\"Rv1364c\",\"Rv1366\",\"Rv1367c\",\"Rv1368\",\"Rv1377c\",\"Rv1379\",\"Rv1380\",\"Rv1381\",\"Rv1383\",\"Rv1384\",\"Rv1385\",\"Rv1387\",\"Rv1388\",\"Rv1389\",\"Rv1390\",\"Rv1391\",\"Rv1392\",\"Rv1393c\",\"Rv1395\",\"Rv1397c\",\"Rv1398c\",\"Rv1399c\",\"Rv1400c\",\"Rv1402\",\"Rv1404\",\"Rv1406\",\"Rv1407\",\"Rv1408\",\"Rv1409\",\"Rv1410c\",\"Rv1411c\",\"Rv1412\",null,null,\"Rv1420\",\"Rv1421\",\"Rv1422\",\"Rv1423\",\"Rv1424c\",\"Rv1425\",\"Rv1426c\",\"Rv1427c\",\"Rv1428c\",\"Rv1429\",\"Rv1436\",\"Rv1437\",\"Rv1438\",\"Rv2614A\",\"Rv1439c\",\"Rv1442\",\"Rv1443c\",\"Rv1445c\",\"Rv1446c\",\"Rv1447c\",\"Rv1448c\",\"Rv1449c\",\"Rv1454c\",\"Rv1455\",\"Rv1458c\",\"Rv1461\",\"Rv1462\",\"Rv1463\",\"Rv1464\",\"Rv1465\",\"Rv1466\",\"Rv1467c\",\"Rv1471\",\"Rv1473\",\"Rv1475c\",\"Rv1477\",\"Rv1479\",\"Rv1480\",\"Rv1481\",\"Rv1483\",\"Rv1484\",\"Rv1485\",\"Rv1486c\",\"Rv1487\",\"Rv1488\",\"Rv1489\",\"Rv1492\",\"Rv1493\",\"Rv1496\",\"Rv1497\",\"Rv1498c\",\"Rv1498A\",\"Rv1501\",\"Rv1505c\",\"Rv1507c\",\"Rv1508c\",\"Rv1509\",\"Rv1511\",\"Rv1512\",\"Rv1513\",\"Rv1514c\",\"Rv1516c\",\"Rv1521\",\"Rv1523\",\"Rv1524\",\"Rv1526c\",\"Rv1527c\",\"Rv1530\",\"Rv1531\",\"Rv1533\",\"Rv1534\",\"Rv1536\",\"Rv1537\",\"Rv1538c\",\"Rv1540\",\"Rv1543\",\"Rv1544\",\"Rv1546\",\"Rv1547\",\"Rv1551\",\"Rv1556\",\"Rv1558\",\"Rv1559\",\"Rv1561\",\"Rv1562c\",\"Rv1563c\",\"Rv1564c\",\"Rv1566c\",\"Rv1568\",\"Rv1569\",\"Rv1570\",\"Rv1571\",\"Rv1576c\",\"Rv1586c\",\"Rv1589\",\"Rv1590\",\"Rv1592c\",\"Rv1593c\",\"Rv1594\",\"Rv1595\",\"Rv1596\",\"Rv1597\",\"Rv1598c\",\"Rv1599\",\"Rv1600\",\"Rv1601\",\"Rv1602\",\"Rv1603\",\"Rv1605\",\"Rv1607\",\"Rv1608c\",\"Rv1609\",\"Rv1611\",\"Rv1612\",\"Rv1613\",\"Rv1614\",\"Rv1617\",\"Rv1618\",\"Rv1623c\",\"Rv1626\",\"Rv1627c\",\"Rv1628c\",\"Rv1629\",\"Rv1630\",\"Rv1631\",\"Rv1632c\",\"Rv1633\",\"Rv1636\",\"Rv1637c\",\"Rv1638\",\"Rv1640c\",\"Rv1641\",\"Rv1643\",\"Rv1644\",\"Rv1647\",\"Rv1649\",\"Rv1650\",\"Rv1652\",\"Rv1653\",\"Rv1654\",\"Rv1655\",\"Rv1656\",\"Rv1658\",\"Rv1659\",\"Rv1660\",\"Rv1661\",\"Rv1664\",\"Rv1665\",\"Rv1673c\",\"Rv1676\",\"Rv1677\",\"Rv1679\",\"Rv1680\",\"Rv1683\",\"Rv1685c\",\"Rv1687c\",\"Rv1688\",\"Rv1689\",\"Rv1691\",\"Rv1692\",\"Rv1694\",\"Rv1695\",\"Rv1696\",\"Rv1697\",\"Rv1698\",\"Rv1699\",\"Rv1700\",\"Rv1701\",\"Rv1703c\",\"Rv1707\",\"Rv1708\",\"Rv1709\",\"Rv1710\",\"Rv1711\",\"Rv1712\",\"Rv1713\",\"Rv1719\",\"Rv1722\",\"Rv1723\",\"Rv1725c\",\"Rv1728c\",\"Rv1729c\",\"Rv1730c\",\"Rv1731\",\"Rv1732c\",\"Rv1742\",\"Rv1743\",\"Rv1745c\",\"Rv1746\",\"Rv1747\",\"Rv1748\",\"Rv1750c\",\"Rv1751\",\"Rv1761c\",\"Rv1762c\",\"Rv1767\",\"Rv1769\",\"Rv1770\",null,\"Rv1773c\",\"Rv1774\",\"Rv1778c\",\"Rv1780\",\"Rv1781c\",\"Rv1782\",\"Rv1783\",\"Rv1785c\",null,\"Rv1794\",\"Rv1795\",\"Rv1796\",\"Rv1797\",\"Rv1798\",null,\"Rv1808\",\"Rv1812c\",\"Rv1815\",\"Rv1816\",\"Rv1817\",\"Rv1819c\",\"Rv1820\",\"Rv1821\",\"Rv1822\",\"Rv1823\",\"Rv1825\",\"Rv1826\",\"Rv1827\",\"Rv1828\",\"Rv1829\",\"Rv1830\",\"Rv1832\",\"Rv1833c\",\"Rv1835c\",\"Rv1836c\",\"Rv1837c\",\"Rv1838c\",\"Rv1843c\",\"Rv1844c\",\"Rv1846c\",\"Rv1847\",\"Rv1850\",\"Rv1852\",\"Rv1854c\",\"Rv1855c\",\"Rv1856c\",\"Rv1857\",\"Rv1860\",\"Rv1862\",\"Rv1864c\",\"Rv1865c\",\"Rv1866\",\"Rv1867\",\"Rv1868\",\"Rv1869c\",\"Rv1871c\",\"Rv1872c\",\"Rv1874\",\"Rv1875\",\"Rv1876\",\"Rv1878\",\"Rv1879\",\"Rv1880c\",\"Rv1882c\",\"Rv1886c\",\"Rv1887\",\"Rv1890c\",\"Rv1894c\",\"Rv1896c\",\"Rv1897c\",\"Rv1899c\",\"Rv1900c\",\"Rv1901\",\"Rv1904\",\"Rv1905c\",\"Rv1908c\",\"Rv1912c\",\"Rv1914c\",\"Rv1919c\",\"Rv1920\",\"Rv1923\",\"Rv1925\",\"Rv1927\",\"Rv1928c\",\"Rv1932\",\"Rv1943c\",\"Rv1944c\",\"Rv1956\",\"Rv1957\",\"Rv1962c\",\"Rv1963c\",\"Rv1977\",\"Rv1978\",\"Rv1980c\",\"Rv1981c\",\"Rv1987\",\"Rv1989c\",\"Rv1990c\",\"Rv1991c\",\"Rv1992c\",\"Rv1993c\",\"Rv1996\",\"Rv1998c\",\"Rv2000\",\"Rv2001\",\"Rv2002\",\"Rv2005c\",\"Rv2006\",\"Rv2008c\",\"Rv2016\",\"Rv2017\",\"Rv2018\",\"Rv2019\",\"Rv2026c\",\"Rv2027c\",\"Rv2033c\",\"Rv2035\",\"Rv2037c\",\"Rv2041c\",\"Rv2042c\",\"Rv2043c\",\"Rv2045c\",\"Rv2046\",\"Rv2047c\",\"Rv2048c\",\"Rv2050\",\"Rv2051c\",\"Rv2052c\",\"Rv2054\",\"Rv2055c\",\"Rv2061c\",\"Rv2062c\",\"Rv2063A\",\"Rv2064\",\"Rv2065\",\"Rv2066\",\"Rv2067c\",\"Rv2068c\",\"Rv2071c\",\"Rv2074\",\"Rv2080\",\"Rv2082\",\"Rv2088\",\"Rv2089c\",\"Rv2090\",\"Rv2091c\",\"Rv2092c\",\"Rv2094c\",\"Rv2095c\",\"Rv2096c\",\"Rv2097c\",\"Rv2101\",\"Rv2102\",\"Rv2103c\",\"Rv2109c\",\"Rv2110c\",\"Rv2111c\",\"Rv2112c\",\"Rv2114\",\"Rv2115c\",\"Rv2117\",\"Rv2118c\",\"Rv2119\",\"Rv2120c\",\"Rv2121c\",\"Rv2124c\",\"Rv2125\",\"Rv2129c\",\"Rv2130c\",\"Rv2131c\",\"Rv2133c\",\"Rv2134c\",\"Rv2135c\",\"Rv2138\",\"Rv2139\",\"Rv2140c\",\"Rv2141c\",\"Rv2142c\",\"Rv2145c\",\"Rv2147c\",\"Rv2148c\",\"Rv2149c\",\"Rv2150c\",\"Rv2151c\",\"Rv2152c\",\"Rv2153c\",\"Rv2155c\",\"Rv2156c\",\"Rv2157c\",null,\"Rv2159c\",\"Rv2161c\",\"Rv2165c\",\"Rv2166c\",\"Rv2171\",\"Rv2172c\",\"Rv2173\",\"Rv2175c\",\"Rv2176\",\"Rv2178c\",\"Rv2179c\",\"Rv2182c\",\"Rv2184c\",\"Rv2185c\",\"Rv2187\",\"Rv2188c\",\"Rv2190c\",\"Rv2192c\",\"Rv2194\",\"Rv2195\",\"Rv2196\",\"Rv2197c\",\"Rv2198c\",\"Rv2200c\",\"Rv2201\",\"Rv2202c\",\"Rv2203\",\"Rv2204c\",\"Rv2205c\",\"Rv2207\",\"Rv2210c\",\"Rv2211c\",\"Rv2212\",\"Rv2213\",\"Rv2214c\",\"Rv2215\",\"Rv2216\",\"Rv2217\",\"Rv2218\",\"Rv2219\",\"Rv2220\",\"Rv2221c\",\"Rv2222c\",\"Rv2224c\",\"Rv2225\",\"Rv2226\",\"Rv2228c\",\"Rv2229c\",\"Rv2230c\",\"Rv2231c\",\"Rv2232\",\"Rv2234\",\"Rv2237\",\"Rv2238c\",\"Rv2239c\",\"Rv2241\",\"Rv2242\",\"Rv2243\",\"Rv2244\",\"Rv2245\",\"Rv2246\",\"Rv2247\",\"Rv2249c\",\"Rv2251\",\"Rv2252\",\"Rv2256c\",\"Rv2257c\",\"Rv2258c\",\"Rv2259\",\"Rv2260\",\"Rv2263\",\"Rv1088a\",\"Rv2264c\",\"Rv2276\",null,\"Rv2282c\",\"Rv2284\",\"Rv2285\",\"Rv2286c\",\"Rv2466c\",\"Rv2289\",\"Rv2291\",\"Rv2294\",\"Rv2295\",\"Rv2296\",\"Rv2298\",\"Rv2299c\",\"Rv2302\",\"Rv2303c\",\"Rv2305\",\"Rv2307c\",\"Rv2313c\",\"Rv2314c\",\"Rv2315c\",\"Rv2319c\",\"Rv2326c\",\"Rv2327\",\"Rv2332\",\"Rv2334\",\"Rv2335\",\"Rv2336\",\"Rv2337c\",\"Rv2338c\",\"Rv2342\",\"Rv2343c\",\"Rv2344c\",\"Rv2345\",\"Rv2350c\",\"Rv2351c\",\"Rv2357c\",\"Rv2358\",\"Rv2359\",\"Rv2360c\",\"Rv2361c\",\"Rv2363\",\"Rv2364c\",\"Rv2366c\",\"Rv2368c\",\"Rv2372c\",\"Rv2373c\",\"Rv2374c\",\"Rv2375\",\"Rv2378c\",\"Rv2379c\",\"Rv2380c\",\"Rv2381c\",\"Rv2383c\",\"Rv2384\",\"Rv2385\",\"Rv2386c\",\"Rv2388c\",\"Rv2391\",\"Rv2392\",\"Rv2394\",\"Rv2397c\",\"Rv2400c\",\"Rv2402\",\"Rv2403c\",\"Rv2404c\",\"Rv2405\",\"Rv2406c\",\"Rv2409c\",\"Rv2410c\",\"Rv2411c\",\"Rv2413c\",\"Rv2416c\",\"Rv2417c\",\"Rv2418c\",\"Rv2419c\",\"Rv2420c\",\"Rv2421c\",\"Rv2423\",\"Rv2426c\",\"Rv2427c\",\"Rv2428\",\"Rv2429\",\"Rv2438c\",\"Rv2439c\",\"Rv2440c\",\"Rv2441c\",\"Rv2442c\",\"Rv2444c\",\"Rv2445c\",\"Rv2447c\",\"Rv2448c\",\"Rv2449c\",\"Rv2453c\",\"Rv2454c\",\"Rv2455c\",\"Rv2457c\",\"Rv2460c\",\"Rv2461c\",\"Rv2462c\",\"Rv2464c\",\"Rv2465c\",\"Rv2467\",\"Rv2468c\",\"Rv2471\",\"Rv2473\",\"Rv2474c\",\"Rv2475c\",\"Rv2476c\",\"Rv2477c\",\"Rv2482c\",\"Rv2483c\",\"Rv2484c\",\"Rv2486\",\"Rv2488c\",\"Rv2494\",\"Rv2495c\",\"Rv2496c\",\"Rv2497c\",\"Rv2498c\",\"Rv2500c\",\"Rv2501c\",\"Rv2502c\",\"Rv2503c\",\"Rv2504c\",\"Rv2506\",\"Rv2509\",\"Rv2510c\",\"Rv2511\",null,\"Rv2520c\",\"Rv2521\",\"Rv2522c\",\"Rv2524c\",\"Rv2525c\",\"Rv2527\",\"Rv2528c\",\"Rv2529\",\"Rv2530c\",\"Rv2531c\",\"Rv2533c\",\"Rv2534c\",\"Rv2535c\",\"Rv2536\",\"Rv2537c\",\"Rv2538c\",\"Rv2539c\",\"Rv2540c\",\"Rv2548A\",\"Rv2552c\",\"Rv2554c\",\"Rv2555c\",\"Rv2556c\",\"Rv2559c\",\"Rv2060\",\"Rv2563\",\"Rv2564\",\"Rv2565\",\"Rv2566\",\"Rv2567\",\"Rv2568c\",\"Rv2569c\",\"Rv2572c\",\"Rv2573\",\"Rv2574\",\"Rv2575\",\"Rv2579\",\"Rv2580c\",\"Rv2581c\",\"Rv2582\",\"Rv2583c\",\"Rv2584c\",\"Rv2585c\",\"Rv2586c\",\"Rv2587c\",\"Rv2588c\",\"Rv2589\",\"Rv2590\",\"Rv2592c\",\"Rv2593c\",\"Rv2603c\",\"Rv2604c\",\"Rv2605c\",\"Rv2606c\",\"Rv2607\",\"Rv2609c\",\"Rv2610c\",\"Rv2611c\",\"Rv2612c\",\"Rv2613c\",\"Rv2614c\",\"Rv2616\",\"Rv2622\",\"Rv2623\",\"Rv2629\",\"Rv2632c\",\"Rv2637\",\"Rv2650c\",\"Rv2658c\",\"Rv2667\",\"Rv2670c\",\"Rv2671\",\"Rv2672\",\"Rv2673\",\"Rv2674\",\"Rv2675c\",\"Rv2676c\",\"Rv2677c\",\"Rv2678c\",\"Rv2679\",\"Rv2680\",\"Rv2681\",\"Rv2682c\",\"Rv2683\",\"Rv2689c\",\"Rv2691\",\"Rv2692\",\"Rv2694c\",\"Rv2695\",\"Rv2696c\",\"Rv2697c\",\"Rv2699c\",\"Rv2700\",\"Rv2701c\",\"Rv2702\",\"Rv2703\",\"Rv2710\",\"Rv2711\",\"Rv2713\",\"Rv2714\",\"Rv2715\",\"Rv2716\",\"Rv2717c\",\"Rv2718c\",\"Rv2720\",\"Rv2721c\",\"Rv2724c\",\"Rv2725c\",\"Rv2726c\",\"Rv2727c\",\"Rv2728c\",\"Rv2731\",\"Rv2732c\",\"Rv2733c\",\"Rv2737c\",\"Rv2739c\",\"Rv2740\",\"Rv2743c\",\"Rv2744c\",\"Rv2747\",\"Rv2748c\",\"Rv2750\",\"Rv2751\",\"Rv2752c\",\"Rv2753c\",\"Rv2754c\",\"Rv2756c\",\"Rv2759c\",\"Rv2763c\",\"Rv2764c\",\"Rv2765\",\"Rv2766c\",\"Rv2771c\",\"Rv2773c\",\"Rv2775\",\"Rv2776c\",\"Rv2778c\",\"Rv2780\",\"Rv2781c\",\"Rv2782c\",\"Rv2783c\",\"Rv2785c\",\"Rv2786c\",\"Rv2788\",\"Rv2789c\",\"Rv2790c\",\"Rv2793c\",\"Rv2794c\",\"Rv2795c\",\"Rv2801c\",\"Rv2802c\",\"Rv2818c\",\"Rv2820c\",\"Rv2821c\",\"Rv2824c\",\"Rv2826c\",\"Rv2827c\",null,\"Rv2831\",\"Rv2837c\",\"Rv2838c\",\"Rv2839c\",\"Rv2840c\",\"Rv2841c\",\"Rv2842c\",\"Rv2845c\",\"Rv2847c\",null,\"Rv2850c\",\"Rv2851c\",\"Rv2852c\",\"Rv2854\",\"Rv2855\",\"Rv2857c\",\"Rv2858c\",\"Rv2859c\",\"Rv2860c\",\"Rv2861c\",\"Rv2864c\",\"Rv2868c\",\"Rv2869c\",\"Rv2870c\",\"Rv2872\",\"Rv2873\",\"Rv2882c\",\"Rv2883c\",\"Rv2884\",\"Rv2888c\",\"Rv2889c\",\"Rv2890c\",\"Rv2893\",\"Rv2894c\",\"Rv2895c\",\"Rv2901c\",\"Rv2902c\",\"Rv2903c\",\"Rv2904c\",\"Rv2906c\",\"Rv2908c\",\"Rv2909c\",\"Rv2911\",\"Rv2913c\",\"Rv2915c\",\"Rv2916c\",\"Rv2919c\",\"Rv2921c\",\"Rv2922c\",\"Rv2922A\",\"Rv2923c\",\"Rv2925c\",\"Rv2926c\",\"Rv2927c\",\"Rv2928\",\"Rv2930\",\"Rv2931\",\"Rv2932\",\"Rv2933\",\"Rv2934\",\"Rv2935\",\"Rv2939\",\"Rv2940c\",\"Rv2941\",\"Rv2942\",\"Rv2945c\",\"Rv2946c\",\"Rv2947c\",\"Rv2948c\",\"Rv2949c\",\"Rv2950c\",\"Rv2951c\",\"Rv2952\",\"Rv2953\",\"Rv2954c\",\"Rv2955c\",\"Rv2956\",\"Rv2959c\",\"Rv2962c\",\"Rv2964\",\"Rv2965c\",\"Rv2966c\",\"Rv2967c\",\"Rv2969c\",\"Rv2970c\",\"Rv2971\",\"Rv2975a\",\"Rv2976c\",\"Rv2977c\",\"Rv2981c\",\"Rv2982c\",\"Rv2983\",\"Rv2984\",\"Rv2985\",\"Rv2986c\",\"Rv2987c\",\"Rv2988c\",\"Rv2989\",\"Rv2990c\",\"Rv2992c\",null,\"Rv2995c\",\"Rv2996c\",\"Rv3001c\",\"Rv3002c\",\"Rv3003c\",\"Rv3005c\",\"Rv3006\",\"Rv3009c\",\"Rv3010c\",\"Rv3011c\",\"Rv3012c\",\"Rv3014c\",\"Rv3015c\",\"Rv3024c\",\"Rv3025c\",\"Rv3028c\",\"Rv3029c\",\"Rv3030\",null,\"Rv3032\",\"Rv3034c\",\"Rv3036c\",\"Rv3038c\",\"Rv3039c\",\"Rv3040c\",\"Rv3041c\",\"Rv3042c\",\"Rv3043c\",\"Rv3044\",\"Rv3045\",\"Rv3046c\",\"Rv3048c\",\"Rv3049c\",\"Rv3050c\",\"Rv3051c\",\"Rv3052c\",\"Rv3054c\",\"Rv3055\",\"Rv3057c\",\"Rv3058c\",\"Rv3059\",\"Rv3061c\",\"Rv3066\",\"Rv3068c\",\"Rv3071\",\"Rv3075c\",\"Rv3076\",\"Rv3079c\",\"Rv3080c\",\"Rv3081\",\"Rv3084\",\"Rv3086\",\"Rv3087\",\"Rv3088\",\"Rv3089\",\"Rv3090\",\"Rv3091\",\"Rv3093c\",\"Rv3094c\",\"Rv3095\",\"Rv3099c\",\"Rv3100c\",\"Rv3101c\",\"Rv3102c\",\"Rv3104c\",\"Rv3105c\",\"Rv3106\",\"Rv3107c\",\"Rv3116\",\"Rv3119\",\"Rv3120\",\"Rv3121\",\"Rv3132c\",\"Rv3133c\",\"Rv3137\",\"Rv3139\",\"Rv3140\",\"Rv3141\",\"Rv3142c\",\"Rv3143\",\"Rv3146\",\"Rv3147\",\"Rv3148\",\"Rv3149\",\"Rv3150\",\"Rv3151\",\"Rv3153\",\"Rv3154\",\"Rv3157\",\"Rv3158\",\"Rv3160c\",\"Rv3161c\",\"Rv3164c\",\"Rv3167c\",\"Rv3168\",\"Rv3169\",\"Rv3179\",\"Rv3188\",\"Rv3193c\",\"Rv3194c\",\"Rv3196A\",\"Rv3197\",\"Rv3198c\",\"Rv3200c\",\"Rv3203\",\"Rv3205c\",\"Rv3206c\",\"Rv3207c\",\"Rv3208\",\"Rv3208A\",\"Rv3210c\",\"Rv3211\",\"Rv3212\",\"Rv3213c\",\"Rv3214\",\"Rv3215\",\"Rv3218\",\"Rv3220c\",\"Rv3223c\",\"Rv3224\",\"Rv3225c\",\"Rv3226c\",\"Rv3227\",\"Rv3228\",\"Rv3231c\",\"Rv3232c\",\"Rv3237c\",\"Rv3240c\",\"Rv3241c\",\"Rv3243c\",\"Rv3244c\",\"Rv3246c\",\"Rv3247c\",\"Rv3248c\",\"Rv3249c\",\"Rv3254\",\"Rv3255c\",\"Rv3256c\",\"Rv3257c\",\"Rv3259\",\"Rv3261\",\"Rv3262\",\"Rv3264c\",\"Rv3265c\",\"Rv3266c\",\"Rv3267\",\"Rv3268\",\"Rv3269\",\"Rv3270\",\"Rv3272\",\"Rv3273\",\"Rv3274c\",\"Rv3275c\",\"Rv3276c\",\"Rv3278c\",\"Rv3279c\",\"Rv3280\",\"Rv3281\",\"Rv3282\",\"Rv3283\",\"Rv3285\",\"Rv3286c\",\"Rv3287c\",\"Rv3290c\",\"Rv3291c\",\"Rv3292\",\"Rv3293\",\"Rv3295\",\"Rv3296\",\"Rv3297\",\"Rv3299c\",\"Rv3301c\",\"Rv3302c\",\"Rv3303c\",\"Rv3304\",\"Rv3305c\",\"Rv3306c\",\"Rv3307\",\"Rv3308\",\"Rv3309c\",\"Rv3311\",\"Rv3313c\",\"Rv3314c\",\"Rv3315c\",\"Rv3318\",\"Rv3319\",\"Rv3320c\",\"Rv3322c\",\"Rv3328c\",\"Rv3329\",\"Rv3330\",\"Rv3332\",\"Rv3336c\",\"Rv3339c\",\"Rv3340\",\"Rv3341\",\"Rv3342\",\"Rv3356c\",\"Rv3361c\",\"Rv3362c\",\"Rv3365c\",\"Rv3366\",\"Rv3368c\",\"Rv3369\",\"Rv3372\",\"Rv3375\",\"Rv3376\",\"Rv3377c\",\"Rv3384c\",\"Rv3389c\",\"Rv3390\",\"Rv3391\",\"Rv3392c\",\"Rv3393\",\"Rv3396c\",\"Rv3397c\",\"Rv3398c\",\"Rv3399\",\"Rv3400\",\"Rv3401\",\"Rv3403c\",\"Rv3404c\",\"Rv3405c\",\"Rv3406\",\"Rv3407\",\"Rv3409c\",\"Rv3410c\",\"Rv3411c\",\"Rv3415c\",\"Rv3417c\",\"Rv3418c\",\"Rv3419c\",\"Rv3420c\",\"Rv3421c\",\"Rv3422c\",\"Rv3423c\",\"Rv3432c\",\"Rv3433c\",\"Rv3436c\",\"Rv3438\",\"Rv3441c\",\"Rv3442c\",\"Rv3443c\",\"Rv3455c\",\"Rv3456c\",\"Rv3457c\",\"Rv3458c\",\"Rv3459c\",\"Rv3460c\",\"Rv3463\",null,null,\"Rv3472\",\"Rv3480c\",\"Rv3482c\",\"Rv3483c\",\"Rv3485c\",\"Rv3488\",\"Rv3489\",\"Rv3490\",\"Rv3493c\",\"Rv3497c\",\"Rv3499c\",\"Rv3502c\",\"Rv3504\",\"Rv3505\",\"Rv3509c\",\"Rv3510c\",\"Rv3515c\",\"Rv3516\",\"Rv3518c\",\"Rv3519\",\"Rv3520c\",\"Rv3523\",\"Rv3525c\",\"Rv3526\",\"Rv3528c\",\"Rv3530c\",\"Rv3534c\",\"Rv3535c\",\"Rv3536c\",\"Rv3538\",\"Rv3540c\",\"Rv3543c\",\"Rv3544c\",\"Rv3545c\",\"Rv3546\",\"Rv3547\",\"Rv3548c\",\"Rv3550\",\"Rv3551\",\"Rv3552\",\"Rv3554\",\"Rv3556c\",\"Rv3557c\",\"Rv3559c\",\"Rv3560c\",\"Rv3561\",\"Rv3562\",\"Rv3563\",\"Rv3564\",\"Rv3565\",\"Rv3566c\",\"Rv3568c\",null,\"Rv3570c\",\"Rv3573c\",\"Rv3574\",\"Rv3575c\",\"Rv3579c\",\"Rv3580c\",null,\"Rv3582c\",\"Rv3583c\",\"Rv3584\",\"Rv3586\",\"Rv3587c\",\"Rv3588c\",\"Rv3591c\",\"Rv3592\",\"Rv3594\",\"Rv3596c\",\"Rv3597c\",\"Rv3598c\",\"Rv3600c\",\"Rv3602c\",\"Rv3603c\",\"Rv3606c\",\"Rv3607c\",\"Rv3608c\",\"Rv3609c\",\"Rv3610c\",\"Rv3614c\",\"Rv3616c\",\"Rv3617\",\"Rv3618\",\"Rv3623\",\"Rv3624c\",\"Rv3625c\",\"Rv3626c\",\"Rv3627c\",\"Rv3628\",\"Rv3633\",\"Rv3634c\",\"Rv3644c\",\"Rv3645\",\"Rv3646c\",\"Rv3647c\",\"Rv3648c\",\"Rv3651\",\"Rv3661\",\"Rv3662c\",\"Rv3666c\",\"Rv3667\",\"Rv3669\",\"Rv3670\",\"Rv3674c\",\"Rv3676\",\"Rv3677c\",\"Rv3678c\",\"Rv3679\",\"Rv3680\",\"Rv3682\",\"Rv3683\",\"Rv3684\",\"Rv3685c\",\"Rv3687c\",\"Rv3688c\",\"Rv3691\",\"Rv3692\",\"Rv3693\",\"Rv3695\",\"Rv3696c\",\"Rv3698\",\"Rv3699\",\"Rv3700c\",\"Rv3701c\",\"Rv3702c\",\"Rv3703c\",\"Rv3704c\",\"Rv3708c\",\"Rv3709c\",\"Rv3710\",\"Rv3711c\",\"Rv3712\",\"Rv3713\",\"Rv3714c\",\"Rv3715c\",\"Rv3716c\",\"Rv3717\",\"Rv3718c\",\"Rv3719\",\"Rv3720\",\"Rv3721c\",\"Rv3722c\",\"Rv3723\",\"Rv3726\",\"Rv3729\",\"Rv3730c\",\"Rv3731\",\"Rv3734c\",\"Rv3736\",\"Rv3747\",\"Rv3748\",\"Rv3753c\",\"Rv3754\",\"Rv3755c\",\"Rv3758c\",\"Rv3759c\",\"Rv3761c\",\"Rv3762c\",\"Rv3763\",\"Rv3764c\",\"Rv3765c\",\"Rv3767c\",\"Rv3768\",\"Rv3772\",\"Rv3773c\",\"Rv3774\",\"Rv3775\",\"Rv3777\",\"Rv3778c\",\"Rv3779\",\"Rv3780\",\"Rv3781\",\"Rv3782\",null,\"Rv3785\",\"Rv3786c\",\"Rv3787c\",\"Rv3788\",\"Rv3790\",\"Rv3791\",\"Rv3793\",\"Rv3794\",\"Rv3795\",\"Rv3796\",\"Rv3797\",\"Rv3799c\",\"Rv3800c\",\"Rv3801c\",\"Rv3802c\",\"Rv3803c\",\"Rv3804c\",\"Rv3805c\",\"Rv3806c\",\"Rv3807c\",\"Rv3808c\",\"Rv3809c\",\"Rv3813c\",\"Rv3814c\",\"Rv3816c\",\"Rv3817\",\"Rv3818\",\"Rv3820c\",\"Rv3826\",\"Rv3830c\",\"Rv3834c\",\"Rv3837c\",\"Rv3838c\",\"Rv3841\",\"Rv3842c\",\"Rv3843c\",\"Rv3846\",\"Rv3849\",\"Rv3850\",\"Rv3852\",\"Rv3853\",\"Rv3854c\",\"Rv3855\",\"Rv3856c\",\"Rv3858c\",\"Rv3859c\",\"Rv3860\",\"Rv3863\",\"Rv3864\",\"Rv3865\",\"Rv3866\",\"Rv3867\",\"Rv3868\",\"Rv3869\",\"Rv3870\",\"Rv3871\",\"Rv3873\",\"Rv3874\",\"Rv3875\",\"Rv3876\",\"Rv3877\",\"Rv3878\",\"Rv3879c\",\"Rv3880c\",\"Rv3881c\",\"Rv3882c\",\"Rv3883c\",\"Rv3886c\",\"Rv3888c\",\"Rv3894c\",\"Rv3895c\",\"Rv3902c\",\"Rv3907c\",\"Rv3908\",\"Rv3909\",\"Rv3910\",\"Rv3913\",\"Rv3914\",\"Rv3915\",\"Rv3916c\",\"Rv3917c\",\"Rv3918c\",\"Rv3920c\",\"Rv3921c\",\"Rv3922c\"],\"legendgroup\":\"\",\"marker\":{\"color\":\"#636efa\",\"symbol\":\"circle\"},\"mode\":\"markers\",\"name\":\"\",\"showlegend\":false,\"x\":[-0.43698611658433034,-0.5465058940927082,-0.5840180764117827,-0.33200200365571,-0.5474998535397797,0.12626592973396025,0.8660844576394974,0.6988897069201966,-0.3816680881055274,0.17945319629463197,-0.07871159317180174,0.025324148005505316,0.10941111347127315,-0.021155829667429963,0.31646602374324767,0.16061490660873298,-1.0847201416167025,-0.2395826566131026,-0.6915732287126355,-0.3954111039503115,-0.4555397972823777,-0.5167029479596393,0.2348865324090316,-0.023385566832668386,0.06075264449106879,0.06005363376928666,0.2271695995754736,0.1843060138593486,-0.07731554692595259,-0.7565806615906984,0.7606845926521667,0.42138815238743615,-0.1191678529621956,-0.1037278245459692,0.4160529061955394,-0.2709036732681111,0.2808531014144226,-0.7341212216875983,0.739405575201773,0.17643074338686743,-0.2258473269954077,-0.23472158002019328,-0.10753134047178639,-0.009416498553609357,0.43238119668360736,-0.44532541693320643,-0.8228414389979659,-0.5814475458894431,0.1509822331969332,-0.8968681011038324,-0.10837716560412447,-0.14007174474912656,-0.1275963121962481,0.4381841192911757,0.48009561972605463,0.22425395048129645,0.23022497582655907,-1.2287774383377226,-1.2740712127655034,-0.7884620408313574,1.8889254350252946,-0.22870643487421813,-1.2295954161197797,-0.11986571089214466,-0.14744984123009677,-0.07137583157377321,-0.5958277853875503,0.4609570308632485,-1.0549833047087547,0.1339750214848371,-0.0701916959774548,0.22889190817100857,-0.06116208848782672,-0.5948522057856919,0.8382079911967888,0.4018834647798096,0.2857727093407917,-0.10866724557481224,0.23121543061580813,0.7334681365625704,-0.11223419031803236,-0.03505560892267503,0.2219073725267428,-0.20058827914493757,0.04932618566741587,0.35071056377206394,0.754378512930747,-0.4580873031208131,0.24607014357977366,-0.31516819571949534,0.2909690594770349,0.2172932395878634,0.009284349294151211,0.41488170722090606,0.19725015286584796,-0.2865296654070162,-0.10033972284078146,-0.09285678312786587,0.47221679628346647,-0.9776842888427196,0.06355053367568494,-0.11434624716866781,0.048521196988051796,-0.11169624455947796,-0.32767273528656377,-0.1510779540674497,-0.19477251495919648,0.13040306959757683,0.08404039430713776,0.21988196705379484,0.2862015561802906,-0.1567687915581606,0.06965243790986933,0.40302909664592695,-0.20112076378242724,0.18079561543596911,-0.020087525923296715,-0.1420556340236409,0.45406652279841514,-0.5414154818958447,1.1615702907481937,0.23741683973722738,-0.5300830418468448,0.5837168937682244,0.4048363288994411,0.20532347682682506,0.47887271469349385,0.3528353677461424,0.228598762647142,-0.32278711949780126,-0.47366876805008656,-0.48157058771150574,-0.25980257574553967,-0.8151008046621244,-0.6112960911771714,0.1567047112763286,0.03213733411102727,-0.09076743069969102,0.448825442267948,-0.2584608698050075,-0.29649381540616404,-0.08951263918763705,-0.1594910941368358,-0.3753283469281439,0.41363137196331845,0.20296547733146414,0.4121336302401032,-0.1246329966941355,-0.36217159254149633,0.08671138668875163,0.851407928374492,0.26573933459970167,-0.05560842726117184,0.5612064794429549,0.024478914227429417,1.6135688935368253,0.4196706248369289,-0.2706186324952541,0.06997619006929087,-0.16159775859351583,-0.005736239711362861,0.29238583488996134,0.29238583488996134,-0.37471806661928214,-0.27341604357651783,-0.37434346784489736,-0.4783739136859149,-0.29880268953035705,1.8272621599527403,-0.24744256360627054,0.2940706745470807,0.31637061195970495,0.46242437728620983,-0.27179679278584146,-0.2518931208884929,0.16349284207414905,0.46171974457250237,0.638557853098237,-0.07777857785520774,0.32368626188514443,0.08085643577162818,-0.07772358266566472,-0.16612273760529117,2.7697919693135384,0.23807841183391976,0.6576674108813946,0.3099775670332191,0.37948958548557793,-0.2600680446286871,0.23584052959319568,0.6932063622064618,-0.06333706317337894,0.9103736298902446,0.1373459114362149,0.2965905564670608,-0.0747432858819343,-0.13656795772626018,0.02001113129647919,0.27202393585965334,0.10870509500859318,-0.4816236426198231,0.3366943658127179,0.3093789994378924,0.28260134593505415,-0.21414041315636814,-0.001082610125671455,-0.33502961154376526,3.001427456936385,0.7985805783625238,0.9774464855125112,-0.10837111888289103,-0.07788284732897095,-0.026887234650738782,0.18032390671138018,0.45680898057642205,-0.1118491917544967,0.17685445825726512,-0.19404490534821844,0.21215530099801586,0.7509449092689908,0.36594820557015156,0.05024446095400591,-0.2369956928490475,-0.40985999687708474,0.3483235988984019,0.5839218852468003,0.3573090596281463,0.359410588467455,0.25741166612395694,-0.5452833489883805,0.0908806794454041,0.052245766053226755,-0.021411476325134342,-0.045640546566235105,0.005744215564451945,-0.1547864719532728,-0.03327149283067825,-0.4403849682585064,0.43547514629106554,-0.1680072457583944,-0.30949498913946955,-0.21561209977396467,0.04889179143182955,0.13933539032871625,0.05900050003503854,-0.13306594025311128,0.3967697552141897,-0.16350750067499473,0.39363506595227205,-0.07895938297400446,-0.5603585548390297,0.5256600158808715,0.25064199489495653,-0.5636703294882254,-0.13787578482234036,0.08681391831442384,-0.16255475471299977,0.0027089937590325207,0.40406926619326783,-0.03074765802745666,0.6741492186974231,0.5285592035928364,-0.0660624548674465,-0.30056686644723485,0.1416123015118544,-0.03159734146986416,0.08133937666357191,-0.2818482261379157,0.68537322660687,0.2087954071256192,0.578985007496661,0.29865143784906256,0.8924235181563871,0.1278309198467386,-0.09427389429623298,0.2397451328835861,-0.9087164783284171,-0.06116445221785808,-0.29593759988111473,0.5481431175848624,-0.21586144807575122,0.4490011924521782,1.7609537582273302,0.5662759685698968,0.2608910678664218,-0.18859824940764142,0.10808258744954116,0.08201959187485541,0.06617019158701622,0.37693009673955147,0.49259958891887784,0.10887527518582521,0.28071634000763596,0.5104480244321365,0.037347868609721814,0.14571722469104126,0.33021444059894134,-0.7264233087484017,-0.3511168686325878,0.18829716704917093,0.2897388908212447,0.008847299032359816,-0.017770860528350422,-0.6264531261759426,0.7583939993823332,0.022465188660673905,0.0615062736833408,-0.08255491548085926,0.08933168923070263,0.01790466356883902,-0.509057312870838,-0.3963897617078037,-0.07771276924266471,-0.041496178293589085,-0.04261925989604353,-0.5117053284424105,0.22872988038756945,-0.6659854566229596,0.12581999414087572,0.5539602344364295,-0.1801767255677216,0.2946835164346751,-0.3699082886311435,0.21100049172778215,0.4010503433616687,0.5804008821623752,-0.10591690737470143,0.2039616832974374,-0.16843865633320249,0.0698391277130292,-0.05031589903739247,0.44063853822676685,0.5318120413733893,-0.30503216279151035,-0.0022682305426546343,0.025847871521021623,-0.19202205036314088,-0.1523421018150897,0.06194440725006084,-0.2263935297614004,-0.6375184835340789,-0.5261781805503754,0.3196901285573118,-0.002178752418229416,0.11544734402551612,0.021821634770424606,-0.3126810936978,-0.09845789936121824,0.47314625754339856,-0.4640445846434963,-0.23412384294811475,0.6957214979578278,-0.6932143847526222,-0.1095965051139298,-0.33425675274085265,-0.039717287889234926,0.7235732238957656,0.6323293192601624,0.20189178240839445,0.34695681851737536,-0.1047156242225342,-0.23530390007454524,0.9064371680374036,0.2713168562700343,0.15460259660126624,-0.4884830102100894,-0.4265149186639236,-0.19754615073802,-0.19486883868284438,0.4437209499966643,-0.026985225117888544,0.21755861768703388,0.055513252790964904,-0.20956409308842658,-0.15231592321791193,0.6518420166213253,-0.2118584348041817,0.09021623107819368,0.3064475260599645,-0.21440471718462986,0.03211354824541099,-0.3780404622303112,0.017259730085708427,0.27525892737784013,-0.03662020379862016,0.291023069503873,0.37356590620435126,0.02227258015838138,-0.7922982758876477,-0.15334853453695038,-0.18487052636337295,-0.5006118225189002,-0.17655394339027594,-0.31486781339476566,-0.26239202814987095,0.28786907608442525,0.03333395987169155,0.46969433125018256,0.688183426311589,0.5738066463555533,0.3831937603766896,0.4721271914081733,0.14669013284934224,0.019246339631582347,0.48001548274801203,0.3573422757206169,-0.514771667170869,-0.8054176247542674,-0.5429573938213471,-0.5307880869443269,-1.007290260641472,-1.0309151679074788,-0.11395598752526734,0.25220024337941455,0.30087983050007067,-0.13958752841413644,-0.11786934642179295,0.21111482186987296,0.0996412349602737,-0.44036495796645053,0.06421521491712145,0.2546976358921753,0.7779958375468862,0.3758448772043759,0.2546896815985015,0.16833593398557345,-0.19910813867613097,0.12719980350824933,0.3068473864423284,0.14132395446489016,0.10965949001735882,0.20519423520379915,-0.15322752274194334,-0.17622770271965127,0.31717782988307947,0.028938951569349686,-0.15590613035072837,0.006951329448986136,-0.04406737486150856,0.20205448472479928,0.004802709586075849,0.03662243105125096,0.5092736478504495,-0.08414824080295086,0.6801674734196835,0.08239525651199223,-0.12690297581991664,-1.09606230468223,0.18071581102308837,-0.3098108812486722,-0.1341877713429239,0.011941875723011025,0.0023737710034292523,0.17705718826503009,-0.7483461396620604,-0.7937659544990555,-0.07056398661084694,-0.062351467545712996,-0.36799728180633984,-0.4462708833541264,0.051856636400116736,0.4931822028729496,0.06852850738133758,-0.33610454204811246,0.05534816766888777,0.02420787281810565,-0.03745691496955673,-0.07784280443490892,-0.5097417324998378,0.0036377280698072206,-0.7942293921452601,0.5177704874344007,-0.3929650008971478,0.25854799321174987,-0.012944039120937173,-0.11670713499602924,0.17732302212518183,0.2983859010200208,-0.6619345076001371,-0.23229811219595914,-0.12205718886448276,0.36640594009053196,-0.21836774704957165,-0.9033349844007624,0.33657500087400927,-0.5268438595010868,-0.1685797507756746,0.0896539096675557,-0.0762019029391669,0.2347418337979631,-0.7049950128504596,-0.7049950128504596,-0.2332879753896575,-0.2332879753896575,0.500929031083844,0.03377452142827542,0.14760936757272605,-0.2146249623499342,0.3267640704702686,-0.1263206241268481,-0.6221237016284655,-0.7330896649253253,-0.06054573712979559,0.35601774823165605,0.08588681450463154,0.6917047779560128,-0.28749818477704586,-0.4255795544129655,0.1467614205537281,0.0898911000429166,-0.1426877747563866,-0.21071381372364234,0.39060874685940306,-0.2378247471523868,-0.3038067888768999,0.08393994739862382,0.2116188421753962,-0.20191360631464877,-0.29006011115805197,-0.7323405106851218,-0.32918356548084277,0.6223629302229854,-0.0659171646057628,0.29406696145145883,-0.17984552438588317,-0.050701546613335244,0.1383888584706287,-0.05294961170395744,-0.5877156855207822,-0.8368989310758681,-0.4842953653868023,-0.14733704744456597,-0.2652233714827372,0.12882237073539682,-0.4150899508667569,-0.358267267884147,-0.18976127944532378,0.21794418302900112,-0.10739778212562613,0.15909749578982188,-0.2217295357889291,0.6101152798074242,-0.04400909076582338,0.25222227067439185,0.26590433523102147,-0.21581330772830495,0.09971239514401399,-0.631383290948385,-0.6088512551807981,-0.39188076072789335,-0.3800508302307743,-0.316878700287945,0.28832228143563643,-0.286469146547379,-0.23078756402002007,0.10027107422928076,0.14252640713454248,0.12698517303322593,-0.3416977385045042,-0.19456344747406185,-0.6342049375196339,-0.12305105264752077,-0.5621778755922184,-0.1072436614396207,-0.33105414868072297,-0.0792746334722824,0.17817387193554166,0.15083538913998706,0.02120893976259724,0.1534278853688494,-0.14782890080398806,0.2397195497502681,-0.1922222012625054,0.08013982277406036,0.22660175831169388,2.749928552115013,1.9503046011921132,1.7082127659758695,0.9624398722474586,0.13137351764403649,0.3789346476092645,0.59451670635877,0.3304754441201056,-0.3228833014537035,0.554051207251876,-0.14475527033769423,0.6360045769891447,0.08338341493224476,0.3179292834213013,0.28846240504855014,-0.3863812358399779,-0.017149757765031946,-0.10279736237748077,-0.3428090573039199,0.37461589459783573,-0.3615300575793722,0.1310181173277237,-0.15302961727504064,-0.06771184898819738,-0.5894019399936435,-0.13615866162555473,0.20581500445139037,0.8921146422510127,0.26263589701957457,0.23778563837169542,-0.07406303305737251,-0.6455392294605259,0.32345201602750306,-0.2548604743880922,-0.002536254522025382,0.033195212926650765,0.8617837314908562,0.1605679514371346,0.31542302254519095,-0.27768861480373574,-0.26398615735931535,0.8486135928211361,0.3585853254297139,-0.4404159267543382,-0.29821999297862023,0.47159654280162483,0.13913087573056757,-0.11725082513193365,-0.22583075893003254,0.3192811060401056,-0.2213198518419563,1.496267852805845,-0.2100196891802981,-0.15239740069390117,0.8806122355157014,-0.14059303509964388,0.6905821367952341,0.1612248180027673,-0.229913853170748,0.3756839884983537,0.0009014267081582597,-0.12646926042221013,-0.4282778608340781,-0.3642211048626181,-0.8912539254336359,-0.3326367140357251,-0.31360634874904403,-0.45967560350167547,0.12470376408464386,0.8494356222963382,-0.23201080159525736,-0.3411869827740253,0.765351669986678,-0.3623997184794273,0.284598155846082,-0.18552427900560645,-0.08198070282456055,-0.35136584802409404,0.20687711351971405,-0.32762554793589105,0.18165465971293207,-0.26093868800513376,0.15533052072180756,-0.5118033276068858,1.3841862201029458,2.7056062245183123,2.70510373426087,-0.29800838384719985,-0.3265088622182977,-0.08625913018346987,-0.19850185497322503,0.306202002120131,0.2985780475719572,0.32683936908671096,-0.48940708713084247,-0.16836186576186615,0.6683004643247104,0.22886719160909025,0.5770889723969221,-0.3822399784379822,-0.5293056134910082,-0.2514994039212158,-0.053796741187666676,-0.09986729379081402,-0.3804897828955201,0.2642854685105665,-0.19509547813608955,-0.31686950983212225,-1.047918687227376,0.13159184344838962,-0.3506927991893984,-0.35282841750323796,-0.8748757859187679,-0.48508141533813137,0.00846932495060126,-0.1292593811698369,0.5794439540622112,-0.24278229475544244,-0.5861177398522218,-0.03109261366827424,-0.40695164695246205,0.19585392390063355,-0.23782915595058135,-0.2730341707438803,0.0707705699919696,-1.0138315719903153,1.786430323073405,0.047973193205963334,-0.34755959786750606,-0.29937877468653745,1.4735168425571703,0.7861557114081579,0.7704949416221623,0.4745574403364428,0.36023397960607817,-0.07489210821894977,0.0615187198836635,0.4824922807595196,-0.3738447826951946,-0.646568953858247,-0.4467622205556433,0.7922857048820742,-0.2303205726123666,-0.009541838539044518,-0.3240216911748,-0.0016999759417536406,0.05021460211085335,0.6488515742034431,-0.07562317040726795,-0.07644884467827374,0.38451977886663635,-0.47242147766199066,-0.7015341435132713,-0.032627641727912896,-1.0117743445458527,0.08561815007304023,-0.2587773398667734,-0.1932388958382172,0.6478685982159974,-0.12981226330516119,-0.13211237013711263,0.4741216267557312,-0.09107269917549198,-0.4659976462928085,0.0023712392684758755,0.14801635211274206,0.595079776175228,0.4776355097433671,0.29642216104026226,-0.02700515302219947,-0.46734962814179265,0.03621339524623504,-0.018948258568270947,0.3866651640068266,-0.4406536361464861,-0.4893601047218023,-0.46173121320326493,0.37695032668960593,-0.24182314686046602,0.12465475722087449,0.02238953747336102,-0.1159529695052315,-0.3896499774454368,-0.12118491113601984,0.2407170827584886,-0.2815084887649386,0.14512733710215836,-0.18034161738764917,0.7096568960845486,1.2976272352020295,0.7134231909022831,-0.30048389788862084,-0.13823366396487502,0.033724005710598345,-0.3151968625178716,0.1429458354186626,0.393849655647203,-0.4416670343746605,0.14529668940804089,-0.33444138006629154,-0.04954850793492394,0.009309598698673748,-0.18837647660117296,-0.12994439210190328,-0.09776661629767566,-0.051397758678519916,-0.07908356562822297,-0.2808095333685659,-0.09927155547719503,0.41220013873421024,-0.44973839702220364,0.3401243112218489,-0.41782616103705866,-0.11103498963056423,0.20696889237236823,0.28305154038305713,0.28279778638927505,0.5389455222959774,0.18352730899146302,0.6285447498670246,0.5919148752554437,0.13638775543031953,-0.11850063809745819,-0.39635248667734774,-0.39635248667734774,0.1818508768515632,-0.11093879446653442,0.011945153446734455,-0.1077595372104758,0.4274007497237044,-0.018749780494349944,0.6315579094757183,0.06097387873780459,-0.2847627271172556,-0.4494262922724052,-0.3162834480541561,-0.22119273841661555,0.15548161783250072,-0.1999283935389133,0.1380910626217271,0.24034683992559322,0.40799494381049567,-0.08629157436236932,0.12781443283287902,-0.9165713209984946,-0.7938820536901839,-0.22401066310132325,-0.5836008253629439,-0.3153575930260925,-0.5365860663072264,-0.27695338840761147,0.5580562987742749,0.1989059486167744,0.04886200726229731,0.440262673960442,-0.2761863809606214,0.0976759363910235,1.0212018660101987,0.8937905529142058,-0.4174209779824007,0.6685659136659815,-0.7231688783992687,0.2191940416165,-0.1388967058802865,-0.43510373747162273,0.7128578662762378,-0.8255012421039158,-0.73906293497724,-0.5101272058030983,0.08991850448347871,-0.31936106608201537,0.21318348195988154,0.2999529133785225,0.4822413972536763,0.4822413972536763,0.4182647436070912,-0.16351978733011924,0.2389658488988518,0.5778073955021976,0.7390941994075026,0.575018103628784,0.4180358940875324,-0.0598914152322539,-0.14082637344713828,0.17138218892488138,0.03313861513629998,-0.3090573018816596,-0.31473547489401243,0.17301858427635047,-0.09239365821519094,0.538486358281501,1.6631131183746135,0.12830098807639714,0.5232849066813394,-0.49044003122122615,0.015793839767065634,0.6180182509178723,0.3636197374003629,-0.014541941073340194,0.5618774053227118,0.32459192920567637,0.39190037050117593,-0.22770888410598375,-0.05726741984818409,2.9225884462642693,0.1326799398464373,0.2724511195957293,-0.3316612172182872,-0.48368022749943756,-0.45720170827710926,0.11531936269072526,0.1921745538285603,1.0949401248963395,-0.06062887301357134,0.2083936905427618,0.20029517538086364,-0.3462469579559301,-0.0754712828638139,-0.16389043894882704,-0.005357301750743103,0.22855895719859234,0.053523894052657305,-0.23549355599670724,-0.42894098003264824,-0.038455896323980575,-0.4242145084174917,0.24555113604075898,0.18599455930902575,-0.3688775963873024,-0.122312037547329,-0.04502329575789671,-0.007277420638581199,-0.032356396129115075,-0.305165542071491,0.015503366893592684,-0.8318799177867422,-0.45736244373656115,0.1735370320521811,0.3641618424206789,-0.4619195297046375,-0.43583824511292446,-0.02931229369063821,0.9827151463852585,-0.1578440351380075,0.020369700690793892,-0.27803195981646117,-0.21912193327271895,-0.11034712047874279,0.44907162351534513,0.09125073195665608,-0.5393276995353703,0.2105106216370877,0.6989320817747541,0.17928952698506,-0.6037850387616971,-0.7844889727869857,-0.5486706731826702,0.7268434049841067,-0.12931073736581203,-0.05332574769150752,0.05418851633529525,0.27815504274596886,0.13792461819171004,0.5827372399978452,-0.3758548942716974,-0.2474307797312153,-0.5855768977976733,0.18784459403761572,0.4942767031398804,0.15232438115242342,0.5652467586749099,0.6024565895140173,-0.029914847477938593,0.05770848888533252,-0.143738586616123,0.11631472489485901,0.16155571683055686,-0.06555633216469754,-0.20937519217924794,-1.1121539055625778,0.28357320111557044,-0.29212207427499015,0.5806887297860007,-0.15159841578717925,-0.36040489479259397,-0.25502454732076585,-0.23219373812467173,-0.4471985424403425,0.7601661941271822,0.20901133991980725,-0.33010036609956356,-0.043642685594488584,-0.06845159081731045,0.3826445771595648,-0.06036887463915585,-0.4892502024579921,-0.15035600222969445,-0.10614221604240469,-0.275685752654511,-0.02407957135671339,0.3358731928753447,-0.3126761359614417,-0.2794567034180219,-0.25353174409507545,-0.41682263735737474,-0.36289911541791336,-0.5360311438505437,-0.3924700862147774,-0.3330384082904625,-0.5581927757666209,0.3576852509351311,0.5049918960262166,-0.6381614512867387,-0.10126460811850857,-0.3786424354252121,0.5179180618631493,0.3878705075652496,0.1672699529027388,-0.0018458208089487437,0.3359182391624696,-0.3212309800513634,-0.321299409293228,-0.30404144467199146,-0.2799130394084462,-0.17598462554967814,0.26547164379176813,-0.42731956225219225,0.18608332423829918,-0.7793404895204028,0.19618011873946997,-0.05817289319058399,0.05943351761305015,-0.023396063525412646,-0.22053614137633262,-0.009222175937066443,0.02810329820117106,-0.47263067348153504,0.11528509254831348,-0.30700217858821754,-0.30688797332675305,0.21498886508298998,-0.10566060743584658,-0.12058476462622227,-0.23595284369600963,-0.4653459382509737,0.26646169393604247,0.12780370686476913,-0.06002456929313552,-0.19806353183016315,0.7418073971274193,-0.05882494587597018,1.0199978546679813,-0.3053473794548926,-0.35286515595202694,0.015963991091210813,0.7632338823746295,-1.137793903664996,-0.2912121673503677,-0.7990465008879843,-0.0623229293458091,0.12025306943638368,-0.46123240851347286,0.7249111574484084,0.36911968413735674,-0.14765951345821327,0.27442823948901207,0.1469285912193047,-0.14573805481092103,0.08398518812064751,-0.04066079535742519,0.3108286086026326,0.026242380193849904,0.10440586880010315,-0.18231185906356193,0.24635323633710488,0.06626547755660948,-0.14393145282660633,-0.6787230823950836,-0.2949574737405296,0.036490330472496516,0.20720653847709178,0.03478498383721607,0.06295666912129247,0.6612182773443518,0.019149835280057686,0.16934390653859602,0.7438342085054251,0.5739480456826767,0.08067104317571006,0.32924991934016845,0.16449563371319814,-0.18987463128604187,0.2809429770816312,0.07881674543559553,0.2765704863782186,-0.014601197025186996,-0.3827254985325912,0.3370046956094521,-0.9430066349636127,0.5156027851349925,-0.2640735823989719,-0.15293120036575308,0.2974677084902819,0.7510356271230236,0.3655191818297556,0.6356806369019847,0.48184874168646985,-1.2395633317886487,-0.4862610235915003,0.028293294175422798,0.1515112949584575,-0.4621670783529263,-0.30066746274467654,-0.07758267969695903,-0.27735394366875926,0.09802815508470925,-0.362254390194365,0.3682218168790199,0.48013357401452383,-0.08016026348666348,-0.21700545576495908,-0.2380779290450157,-0.025908969810852313,0.25578134780277895,-0.5474093259321717,-1.0352540578406044,1.1209755951170104,-0.1552792627177868,0.097681297259706,0.9384062977087825,1.1187784666025824,-0.33613357741587335,-0.19912383904017472,-0.290621718073736,-0.1493784669311113,-0.365896453781207,-0.3395973600022156,0.022262518702260318,0.2850667546070264,-0.4998891569690721,-0.8049858696895422,-0.23793119611678787,-0.32048366189251115,-0.06861901328026863,0.3267422500522196,-0.696606367437443,0.4216182985503664,0.3293232338523902,0.007351161925107162,0.2871501732304283,-0.9262471841124339,-0.10062424778933145,-0.14229360342813127,-0.8987571111797805,-0.6644699793865414,1.2019072930345447,0.633618492996214,-0.18956931331723323,1.1456230628649715,0.3980332754817572,0.04571669495500637,0.19698369924493256,-0.2226821519397585,-0.46814658489460775,-0.30283151198966474,-0.4323691571538106,0.29182052679333526,-0.3341981238649931,-0.253376957505989,0.3042909475191996,-0.48357342652463553,0.4507909895099423,0.2603193597977117,-0.15239092647298708,-0.526035230238949,-0.3853773615826302,0.4324592665452395,-0.10339314922042793,-0.5252673184697058,0.1018359079938684,1.564559033384571,-0.6588049070523457,0.43766417829804816,-0.04845684802629316,-0.43801874349919956,0.22778472944066558,-0.17867801207944228,0.4728829834113648,0.47963125783055033,1.0122756084904885,0.6888789819485204,-0.35634461069458906,0.6723833531399386,-0.5351437535441206,-0.03520152640649222,-0.29226275588561684,0.0008809390993359879,0.2361026308945458,-0.1301146664192832,0.06427600490333839,0.5712332307169096,-0.26223577544670096,0.0035922748002523057,-0.15946196053185993,-0.5469982238724922,0.32005135887677955,0.01359220060028443,0.9206213441465994,-0.2618226621880442,-0.25306926456137235,-0.2896692466335276,-0.4871903531461391,-0.3322957986114531,0.2706961320697985,0.28005739575637906,0.35136828653620455,-0.37764638393548167,-0.439263267935738,0.530175715552584,-0.08563860753584004,0.07155886035469243,0.11977670523105508,0.30364310928631666,0.38778139612505813,0.045544585806141104,-0.27454174367681694,-0.23887981359361904,-0.05603814737522918,0.1292809081871809,0.3086525007188464,-0.042986515243339594,0.21230948776845124,0.24820975839036774,-0.1380699129362087,-0.2258181351485262,0.252204267298013,-0.5098723840896018,0.22146139480442673,0.7228605404692875,-0.044616986094880615,0.571616290828611,0.481596704030248,-0.3550359060959106,-0.09729137225555277,-0.32097424689169785,-0.176217445325797,-0.339137718722272,-0.11672908420791588,-0.2205182449381732,-0.11224772087261013,-0.20761973545330117,-0.35345855997924924,-0.11069135795497557,0.4215131289720744,0.5806543429294464,0.9843355196294377,-0.39553223006713445,-0.1286389525526037,-0.005178604851513622,0.03647771765820014,0.5892450138919384,0.40528024865780116,-0.45606520658576366,0.608780161302157,-0.5204078754773643,0.09742871335198267,-0.432722161995062,-0.35415248823375245,1.18711434088402,0.05355986433054295,0.34127152509043973,0.7642330134137781,-0.24412396507933806,0.2550176443067982,-0.06084483841927188,0.002375031300419212,0.5471958328033117,0.0309844817286278,-0.1360521255554329,-0.025295942810928167,-0.468058373996329,-0.22686341678408792,-0.2501519397250641,-0.21674266277690962,-0.29825472212797305,0.16415419374199225,-0.050567729502964585,-0.2898395732245041,-0.7747238785182964,0.313735328480886,0.3558618794316723,-0.26642613584933494,-0.241786941416985,0.2310245799430436,-0.18593627003724134,0.08232446237446403,-0.4682405585627721,0.1620384044867778,-0.25906088443238695,-0.6681629588132727,0.6200531564758153,0.5821657078310529,-0.1969978129469159,0.1636240764928049,0.6465057622917895,-0.13896559418098087,-1.0283747439122,-0.12230665371022756,-0.5277071842958758,-0.4504862894255264,-0.42095854799272026,-0.7892435053625922,-0.10206391944734114,-0.3003662313174501,-0.03757261103189284,1.5951128624080717,0.3337448329190918,-0.6221819010184061,-0.33957910538171415,0.07918749037611156,-0.47776513513850033,-0.26775176064213624,-0.26775176064213624,-0.5891451354046175,-0.7781066876633794,-0.20429498163136062,-0.5740450329157913,-0.4580703858371611,-0.07052335447103311,-0.07052335447103311,-0.10982993416098284,-0.07427755808813231,-0.02758228384385868,0.49730066116934574,0.056304101083977424,-0.11115394558945339,-0.1544155416458772,-0.17441894120628235,-0.07251058121482026,-0.4344252883091334,0.13735303526252488,0.07228407730091174,-0.1551818939814204,-0.17176360610638067,0.4424015087393991,-0.0859796105375466,0.2037806221606503,0.12100259179275444,-0.42257314950468877,-0.767067168801741,-0.31435858853039833,-0.3016605614445111,-0.21198817784849117,-0.2283456183735635,-0.3706009833946607,-0.10904696999519194,-0.3415141444877253,-0.14362383079497726,-0.1178216220033753,-0.12458593542982525,0.6072248187485251,-0.6725763218175144,0.12025638960957992,-0.13128372124923424,0.028100675313938974,-0.23648277116440755,0.053220624729996335,-0.6659712091987261,1.1251269930904693,0.5794622279225412,-0.034339223878823176,0.14175297648442947,1.1973706894587777,0.9341841945678303,1.0401382116779954,-0.2979923703671176,0.37115970259215053,0.30930739479527586,0.20618911245115354,-0.18569692615188776,-0.10204129873260914,-0.8127932169900465,-0.5930669077430374,-0.25211901477401183,-0.6894420530788784,-0.5447649143523671,-0.36451567692444137,0.14865398514066808,-0.5721580725872079,-0.13793149678732378,-0.045854420233896416,0.17065921205342457,-0.279279817879034,-0.24496719023773939,0.1087045316960796,-0.23364081892668553,0.28746106071528393,-0.0032072211383689193,0.34747638230005073,-0.30260756360400354,0.21953678460854548,-0.6021543888243035,-0.23339195109569996,-0.0841662756864918,3.2250982472796483,1.778534695903264,-0.28546158047852005,-0.2468876859042791,-0.40968367343003564,-0.21644303514634894,-0.21675143488649237,-0.20640354108909198,0.3394615556238276,-0.292151434143242,-0.11588743296150521,-0.2568193736521733,0.3875717564622417,-0.41081460886729165,-0.33222618801422144,-0.33479011896260996,0.4353565201073466,0.661268839709626,-0.2040180742409892,0.8479159765330521,0.7916124479780298,-0.252092529386202,1.0457311578190258,-0.28906769931468074,0.4888896673117597,0.02918688341117757,-0.04427336381800526,-0.3631897600572363,-0.32265959569678004,-0.6232941006546746,-0.8287201506732661,-0.40776600737996743,0.40813116937727056,-0.2818701075331464,-0.1399034085256266,0.4185089783058234,0.40552207464644274,0.5123836919371187,0.20848008411072275,-0.3923044427042738,-0.22963223614593165,-0.1506363241929829,-0.07801502134634569,0.24432270715950627,-0.18698455515906265,-0.11087348118129368,-0.15096169317234176,0.20527510427290468,0.4405251186962472,0.35088847787236077,0.19578575769270606,-0.5426524456770571,-1.425961923331748,0.29441958332078977,1.1448759975742384,0.04405508047752478,-0.7849741498139304,-0.27572739350605796,-0.2349753610819987,0.5218146215951507,0.4350400183757103,-0.10637214540649188,0.318821356594236,-0.020323758593207876,-0.06884215680106422,0.5413288380051822,0.1734317852358806,0.005413732441545099,0.30535567884636317,0.674406380697233,0.06438394813050989,1.0551505683641929,-0.319019122425361,0.24085337694338452,0.24085337694338452,-0.08117899806908697,-0.673250643259099,-0.29387160243621674,-0.024826107491411217,-0.1897268784486662,-0.13123343414895144,0.10430283335007474,0.6560131984830889,0.19477238826826765,0.28801297928924774,0.03293542307700852,-0.1955624937447073,-0.12825139958740586,0.11540846021395341,-0.49408798451793196,-0.02012414502513631,-0.14578269930510798,-0.06554199001204403,0.2156575488372408,0.49639224840969887,-0.1243827966883573,0.007479020481026067,-0.42832824165001326,0.11045022927785388,0.3095372438393549,0.257780570045341,0.18499906687671402,0.3623133351544808,0.0063295574245184755,-0.37113160295135045,-0.7299567383328874,-0.6266402341541769,0.6169076469221393,0.3372551173918779,-0.16358425365119975,0.8378472309164698,0.23840616189544112,-0.1354111063749073,-0.45299149485440565,-0.522738148218231,-0.7740644967962192,0.33939593365241305,0.5380180533039159,-0.11100093450804462,-0.40106441026011735,0.012786848329433107,0.26833127891655556,-0.07089157546268283,-0.17504160094873356,0.515176115826206,0.23837729200481508,-0.18156959227270048,-0.12297763093366461,0.13530147946468143,0.11520363277897441,-0.3201575211975706,-0.6459636458749123,0.46473295571613654,-0.19665080025835288,0.11432076401799258,0.11605821196906443,-0.3213343619170132,0.36208292705905587,-0.20581434521650321,0.3194221373723505,0.33564442048809645,0.544750277348453,0.08244430200528959,0.6966553303861109,-0.19127585695797514,0.6557620829789469,0.22690818050198108,-0.46317083915361856,-0.44955628781091783,-1.0137479088033632,0.35197678185488246,-0.08125997467707557,0.17541747528319207,-0.03104429225078901,0.11890936184311444,-0.07569244275325462,-0.179488941119439,0.216282722496681,0.00039141080100942873,0.5739349841538354,-0.2304767215680464,0.12713500337447328,-0.5334766111111946,-0.7714848891335743,-0.16727986713207327,0.5296508848462409,0.6101051781877179,0.336624883730056,0.4478114672426143,-0.05237407875759087,0.11568071386201978,-0.04463591747717384,-0.32857525807501065,-0.18223324914543562,0.19709862520980645,-0.3278812416711584,0.19608129093090917,0.29118687621100425,-0.09026770349279183,0.5317627421613487,0.0695467450304106,0.3813478035628505,0.2184312055746467,1.859968598820972,0.3273715191671412,0.6892735538520183,-0.4813891814132072,0.09207127761279293,-0.8871588468520424,0.014397153973084064,0.07650815753875716,-0.12272785124449276,0.2351630910297711,0.46679096439053364,0.36791940171033205,-0.026600256991526017,-0.16641241425748612,-0.12731179341209561,0.4393946863219255,-0.3763013175653268,-0.5656205283766315,-0.8060137970709959,-0.5014930932292108,-0.4375912851418594,-0.42895276603547505,-0.43322846718342134,0.5502299755906432,0.21678071177936492,-0.26370656424286243,0.3272103365340291,-0.20745300406751827,0.6034469155046494,-0.03980941573800835,-0.21905173597923272,-0.2188640383147226,-0.053755767232748344,-0.7639475260902665,-0.11015329977478719,0.24034409915585525,-0.2510426389686165,-0.22962179945464728,0.2793865924148683,-0.16996518731509863,-0.19875108558194063,-0.19999083714604687,-0.45315394128927017,0.1111805191785869,-0.9024644405825879,-0.13517818076871108,-0.07396484375879459,-0.31382753370326794,0.4039858026575346,0.2177088290214815,0.5695901860083901,0.8239358416632583,-0.5488416885351488,-0.20108156078649952,0.09462919239238503,-0.6242386111721788,0.26268077642285326,-0.05496156338073494,0.18248908440960887,0.16787078282127674,-0.1221852054931564,-0.0023302363047410543,0.08288636395347214,0.24631806237025644,-0.06116840840554206,0.7923805797263748,-1.0771399083689503,0.8926618563850668,-0.3986817548075619,-0.6384477748747059,0.34290962577139117,-0.033715506826533466,-0.24743041953061617,0.49943822443612773,0.0856221769075031,0.3149512058321229,-0.15631647282759162,0.04810553393625191,0.2911555922013092,1.0479666864455068,0.9982481519231139,0.9073353290085165,0.5581775148220663,0.2709519396964097,0.015209430519099827,0.06569420467907762,0.6454036210976553,0.45611427202317245,0.30302617299741963,0.8757191901360638,0.05512278255759039,-0.10426635628883775,0.07469985260600387,0.8757893383377527,-0.21762945136440953,-0.07059754805440188,0.19453081242182524,-0.20315843132276326,-0.14960113011370943,0.23550076543744672,0.002675204613815081,0.327533834719366,-0.18927488739713455,0.21768454108220195,0.24031753322738458,0.12452267296551424,-0.03500992231602437,0.5234622906962831,-0.10756046137517902,0.018920263484727758,-0.6956055581473359,0.25955675158307356,-0.06891506323919289,-0.17660422832984085,-0.28697779088424535,0.37496510736899746,-0.2003283018757066,0.04639006763284343,-0.13061502910877842,0.062118444430338,-0.3293000472919746,-0.14150356402828543,0.41916980784774177,-0.2109877480107828,0.16784419725803038,-0.07672491496014794,-0.26584005087134294,-0.23180981115047247,0.16382940132128526,-0.4911042098968523,-0.062480409827605395,0.2174732077727509,-0.18566232270272848,0.10041053836362383,-0.0794092521015651,-0.09285199814160738,-0.08947549273908703,0.07149393148804904,-0.7340445653272547,-0.06999112653588625,0.04841109006604708,0.11109558714192219,0.28548534232285516,-0.20927377244031026,-0.33935082003485983,0.26742756972551895,-1.3077109945599494,-0.06326691985882128,0.32704322954342663,-0.08708662472058303,0.06610609961069833,-0.298083094589141,0.18333577738741913,-0.16353907121892014,-0.16030015136972975,-0.04483572977652196,-0.2748077468730605,-0.9863006153812597,0.521856622808994,-0.35155734488684837,0.06157761817955512,0.4648308133998604,0.2274437606374598,-0.0927951435080372,-0.1783561107983452,-0.764821586922068,0.18992112295720526,0.2888946481593771,-0.023318591416828297,0.38286714503112185,-0.5139515360847513,-0.04213138961082989,-0.05830838156362656,-0.4180653635878282,0.10679830578509626,-0.4413490208202364,-0.43342664632249067,-0.7445838935772784,-0.10488990452521849,-0.3540399468832409,0.19082545058849373,-0.3337274909725267,0.37504973996685387,0.39685103393567384,0.4735246518822081,0.12472046830879917,0.26888964760603923,0.6333363302120738,0.29615398779928237,0.35779368634713665,-0.06488007433665381,-0.27481553600505165,-0.015011913196510384,-0.2918789977331345,-0.04510532319225149,-0.09533114524683188,-0.6708511993539703,-0.34034201104885375,0.7963519736438127,-0.015348182042252502,-0.0897020482415165,-0.14899916810881206,0.18469866593585268,1.1665459193332441,-0.25070940447836965,-0.1874748628466588,-0.2789286471463654,-0.6623000282156877,-0.5010029289371881,-0.5235694708177646,-0.44752073587169733,-0.20913531580203598,0.10039343092195835,-0.1709285504484893,-0.12608464147785137,0.4207913007049686,0.12571688329539957,-0.056918150602684535,0.006906495935732449,-0.4897011146658872,-0.597186026893953,-0.4875861364152024,-0.2681829810932886,0.07661807172205198,-0.0658197642272421,-0.21795406714349963,0.10059997617481768,-0.628162038583253,0.04915093837925426,0.4574503781350383,0.09157774279579166,-0.41531530666371913,-0.11548578792345249,-0.2822249479908097,-0.03677319311176264,0.3242004468903289,-0.7440148039904088,-0.06008941965376112,-0.2531968518874349,0.16237001648428848,-0.31098755638014924,0.10876235022583508,-0.42493088573841736,-0.13812081453699215,0.00465285445118853,-0.4946842022746771,-0.1140966489443087,-0.14675690427486174,-0.28641373862115654,-0.11183467541228717,-0.22203674662169098,-0.2778007144317599,-0.6020853440229299,-0.18385517868281465,0.5172763908041792,-0.0635623710061124,0.1892660076494335,0.7169638534508983,0.2926492025093579,-0.3951488953145516,-0.27630800579758485,-0.5926885894359495,-0.3296242240833742,-0.3017168515051778,-0.21842747626627426,0.03344185973418981,-0.018884714615799693,-0.217533347500969,0.1672079286076376,-0.03754070196844746,0.2854162368525459,0.41408000518211974,-0.15840671033625903,-0.4063400196652418,-0.6161850260591722,0.08726140660921178,-0.15450183188848632,-0.5363095605077141,-0.31472598844470906,0.46410914779435064,0.332385045674431,-0.1969714959826729,0.7828248723989206,0.1349232669420547,0.0534184680773599,0.1459209205378127,-0.24105508680784404,-0.015570376967242644,-3.44309378440982,0.2951342713421937,-0.42017274110268255,-0.35846357556096964,0.20553982456453682,-0.3402243413012741,-0.5511315412431363,-0.7772394225678817,-0.09810708599538942,-0.4994499992083879,-0.5995146725182873,0.32026554673964075,-0.3093143076437503,-0.5611809143630435,0.06016233696799849,-0.5852242562416621,0.15962364670663345,0.15101140457010964,-0.08323678846067714,-0.3777028907053711,-0.5123512766694335,-0.2683801221355517,0.2534748691884572,0.28714656855352794,0.38016672019773634,-0.32182995036458806,-0.5837721669549568,-0.261005204283196,-0.06673579046330663,-0.03541468704296462,-0.11207184004355888,-0.2924851172714783,-0.6846265430309135,-0.16601522936163596,0.1295707771146906,-0.3156891249233999,0.09725769486403518,0.5092539148122193,0.17266959316646402,0.5063297802947752,0.7102160276239553,-0.5747002849436645,-0.6301039853223258,-0.0644196311823892,-0.43852342934781013,-0.1001089924315192,0.07035361039798506,0.2973114180411066,-0.7111460673881975,-0.10529447519742578,0.04552509092450784,-0.2826046226470705,0.04583966658979491,-0.08114146946115551,-0.2952022565596097,0.38235828958782525,-0.09183632336483011,-0.6811658399424355,0.18232078497805548,0.20037153438337213,-0.06157519435697204,-0.9587042318768357,-0.005681756283141679,-0.04319131977268533,-0.45504482857699424,0.10931241671021197,-0.16665215633087202,0.11223975089389517,0.050569579440543355,-0.1356716240068083,-0.2145112077875117,0.06057676973636585,-0.06349880537055043,-0.241630787494247,-0.024583529223676463,0.015914830706259542,0.07474502373650957,-0.5582543220521853,0.1970920987493684,0.5438602981063458,-0.06272008799027286,0.45200790226427495,-0.2174173167823885,-0.13019808620491616,0.30013048393870434,0.18797330893350875,0.3754941970767582,-0.3727014521252376,0.2661053393303745,-1.4318068528742718,-0.7170625721324471,0.7429590121298749,0.6778047982782726,0.1537511579416765,0.07093061375928703,-0.3429897104151909,-0.16076927272365577,0.3008385370150747,-0.0649704793264468,0.2553388111071655,-0.36495186735809787,-0.3203420861933542,-0.11524792028470872,-0.18223243714654697,0.3964137709043345,-0.24764618881211564,0.06457849729297577,0.2598067740995237,0.2462383589240211,0.13071300368983993,-0.2805036779736173,0.44893370422203105,-0.33315632574577253,-0.02277404062867625,0.2818515595809807,-0.13048597769753667,-0.20042001373430982,0.29418245567345286,0.37579740515487814,-0.23167748112773037,-0.33759517950683743,0.35499820229220697,-0.4592217872537833,-0.13989998640989765,0.5838695986762301,-0.05638558656082184,-0.2727726359095007,0.3337392577633799,-0.5227077932852444,-0.3187586868090837,-0.04422664444157634,0.37023338142022133,0.2367736974998021,-0.39542405706896966,-0.4958006128583936,-0.27424446141874786,0.11943563947294251,-0.33940786852735055,-0.32739036761306245,0.10949693142743643,-0.3058951989863868,0.0175220190579307,-0.2989238856892766,-0.41318969414777607,-0.09600158464129571,-0.33091742721916256,-2.1848901190142533,-0.04532993422609745,0.24664332442910114,0.15059893612549993,0.5022452179949808,0.5814431060028941,-0.4146444518467417,-0.3541757747082999,0.5523285020459489,0.2603079682067585,0.26707289892037256,-0.35608417660154984,0.06416033145535721,-0.6900694271411426,-0.1069170935556036,0.35059371748888024,-0.021951523146767928,0.06994616344158713,0.32644895603994917,0.6586751212667432,0.8259882664108303,0.2658405604443211,0.025649385252718395,-0.09245380108345473,-0.9681693768617187,0.20563613103898187,0.22779311718343376,0.7425264709783967,-0.1466777680457114,-0.10362368651836126,0.022030111539199138,0.11239080114511724,0.750136909968311,-0.7353318461196207,0.13766079766205175,-0.1804655739132895,0.14467038750663105,-0.03824746935696438,0.17836677532897385,-0.46474583661827445,-0.3196325594740802,-0.1439055260207559,0.5564332348269087,0.037477328570546024,-0.13515184646774875,1.0628470589659595,-0.06485298297343448,-0.2931038590964466,0.19666584608626364,-0.2581743982563433,0.8041850462930484,-0.131402771586805,-0.21105641084073676,-0.050932223399992115,-0.6712770576155942,-0.057833933366965795,-0.36828956337497504,2.28724168551661,0.48930950141777046,-0.01437984795355747,-0.2582029325980409,-0.3954844933871006,-0.08739966960757088,-0.19858812969297748,0.005389115376744271,0.42603581760673376,-0.10348707470480568,-0.17903530391714367,0.4018608628636671,0.13287102695868966,-0.03889341086502246,-0.2630734080010211,-0.07972803494379749,-0.041325727574729104,-0.3192821484189021,-0.37028464813900874,0.6048206915498736,-0.19178681274247766,0.12103868511708181,0.47117004865535833,0.5630548698209392,0.8241021031398552,-0.18923049529163793,-0.3140407076201176,-0.25742768969244906,-0.27917334868587224,-0.2272033649821731,-0.6169141192853803,-0.031116190265542343,-0.246084638889276,-0.4298972584569003,-0.3617474842145092,-0.9290684242596375,0.042377099910952336,0.44130806814229606,1.4585783403224695,0.18947449081784085,0.3484813224922104,-0.011256897673970576,0.18508110296471247,-0.34550619060157994,-0.3090208800308843,0.471194559231545,0.15584659373658036,0.6604949356951572,0.21608569710824962,0.4631488014550984,-0.206666874915632,0.6161480516321428,0.10449312910292666,-0.3390445016080759,0.13723300321219492,-0.22558691163136743,0.12927332748555606,0.629627097528123,0.45897117452337727,0.11896225142154604,0.22872357338410682,-0.5583406340902847,-0.37041050493572836,-0.29770136441325235,0.8718185574248095,-0.26419127806315246,0.2514922592354819,0.01250641303834461,0.1883935377322068,0.2644443170086347,-0.06110696820086883,-0.22002296024840357,-0.3285336792055045,-0.19188558405050743,-0.31096376938353737,0.8675305140258823,-0.08492380099008642,0.005805466818783957,-0.6888286035418713,0.3181557701899087,0.21532774241521346,-0.4711749962769066,-0.39161127010528135,0.30857801677533175,0.025529142141784502,0.2815102344266253,0.09885045545855672,-0.12752652384283772,-0.4423643768002808,-0.4180180423458205,0.6883120486324805,-0.08785287149362983,0.25419641622838446,0.37633781785196474,-0.4970937526888086,0.10293662910168698,0.10022091513803799,-0.11422882795223609,0.18826950061086548,0.33540884242533897,0.2422199496129507,-0.3318952616565334,0.062285765564984365,0.2759140425923107,-0.046103301105585866,-0.18899399699793,-0.22277750234067864,-0.21995357432580706,-0.2205367938670825,0.6996446925457297,0.38901426250111615,0.46481931459852954,1.3562854893625884,-0.02311689443678289,0.07554384415309215,0.13686760467959694,-0.2983009388323798,0.26867001641412236,-0.3379704504122469,-0.38489155380281176,-0.21292768705531856,0.13357393380633473,-0.21083758350441395,-0.15504633274080803,0.6914004810726166,-0.4448768159370208,0.2085561032448678,0.0925057301375693,0.05419637138957038,0.4946113156152905,-0.17878022797299653,-0.12161600120412516,0.40476116791307304,-0.24503865012756737,-0.33748557545183766,-0.2987525454150937,-0.06679011922025994,-0.11785575345300174,0.7365721378413478,-0.3642041957853131,0.09018432155463504,-0.4346943117365519,-0.18204222038004358,0.5439948202653889,0.1726344860331571,0.34805089665410865],\"xaxis\":\"x\",\"y\":[-2.213851983242563,-1.466051456455173,-2.411418773742478,-0.7558841080719513,-0.8611339844364334,-0.10309105017449821,-0.849674639784071,-1.2571063084784897,-0.478527745954429,-0.32525581655564423,-0.1229115346653232,-0.05590242398573924,-0.0016484877709151654,-0.0024214666412149958,-0.34431000513495774,-0.34020566787380147,-1.5096777944188096,-0.4257266027279355,-0.8225050061654704,-0.5878733906539175,-0.8564758655408745,-1.2204084998069433,-0.3854937080671254,-0.02807813032490316,-0.16510059821540884,-0.08987397385022901,-0.08823037113455848,-0.36316949978375307,-0.05156109412032123,-1.9755628925972961,-1.927474242084108,-0.6306913277478875,-0.1601717296043576,-0.11573876489442673,-0.5198112710400737,-0.20509923998965235,-2.3091754820028707,-0.39357488217270287,-1.0313886576557099,-0.13622465526665015,-0.6126053546111363,-0.3617201002295477,-0.26328035917126613,-0.033862124588873915,-0.3108869553577767,-2.262539542092129,-2.076125508472987,-1.7781468111645535,-0.1334398911224074,-1.21338656995559,-0.2594888034541963,-0.40825614314486747,-0.026151375926361162,-0.13173823175486793,-0.7865265314976769,-0.3223306849113877,-0.3734768378906497,-2.420867120638072,-2.732499047579228,-1.792082902576914,-3.3887077899608364,-0.27919607477706093,-0.8154609586026366,-0.08524798391339326,-0.5379160054322552,-0.346776961702233,-1.872050754953691,-0.44394485839824305,-2.2762611960949592,-0.3860632758205914,-0.20134493186353233,-0.40374268465212654,-0.13212911604080668,-1.3210847947513251,-1.294104335410334,-0.7633717345346942,-0.4327276775800126,-0.07525571400146391,-0.44684501188378156,-0.8906131071127733,-0.23831100279396794,-0.019226152846787446,-0.3385096079033319,-0.32576389422754426,-0.1197614383283564,-0.45061333905293643,-1.598944675347338,-1.2360368559542316,-0.479949539032068,-1.5113720879719665,-0.6488991750809223,-0.37082479143122243,-0.023886187772058205,-0.8341156670379516,-0.3314685016256569,-1.267553515080516,-0.2510301791334736,-0.48434171713914165,-0.5392743866761781,-2.272929279288685,-0.021407766418786313,-0.151104148695465,-0.0816288623561358,-0.17226138178071262,-0.35219911306417007,-0.2350055849678525,-0.25053147256944813,-0.15908584275670384,-0.1314029335550181,-0.24925523516155923,-0.3593769139147468,-0.3402349150330064,-0.04689282096682574,-0.44841747812381333,-0.812767299785059,-0.3406490352922825,-0.05342772012976847,-0.4645756500231305,-0.6873441842791094,-2.1591219068984318,-1.1082984466626553,-0.46361969279298715,-1.2826511608622417,-0.4150892321207881,-0.4514043791589074,-0.22418591128654855,-1.1591638398536905,-0.7830073054595086,-0.6325866323637263,-0.854292910652127,-2.341973231614168,-1.7708382561601375,-0.35903001374326976,-2.099260040850372,-2.153234931507218,-0.3334725841115299,-0.10716289321361955,-0.11375840945297862,-0.7578494694691492,-1.1294012480338103,-2.7517283653937525,-0.013908129564964138,-0.7569264323161041,-0.8022267222804098,-0.71312773236821,-0.7459902584560123,-0.5510549182201656,-0.2818139243212426,-1.6364816195120493,-0.09429561845053534,-0.864656107251339,-0.38257495916521517,-0.06247147973314694,-0.6100691217541463,-0.04377826721869455,-1.2649143390325497,-0.4899654029476393,-0.8944069824300964,-0.20652272884657283,-0.027846947849279623,-0.05012531844012935,-0.7775460931310352,-0.7775460931310352,-0.6822935089131291,-1.0048607270495886,-1.921073332911442,-1.1831712615861512,-0.1263634717458386,-1.2763156337164305,-0.6734164390402566,-1.0691685416265029,-0.4599666236685114,-0.65952581742993,-0.352822736528921,-0.3404763726722856,-0.20879195988950525,-0.9380764210746368,-0.9404469719892139,-0.3329634484317187,-0.7820816462441075,-0.21135795474651062,-0.3352411092371247,-0.07320588954048075,-4.246448556420129,-0.45129716435222444,-0.7207883469166225,-0.3904304790250699,-0.47806136510577335,-0.3622009835801064,-0.5507525705411827,-0.5231472758178879,-0.012767913386236023,-2.589733756677055,-0.20500134395196865,-0.4608320508573989,-0.2571107013127745,-0.3476808049720876,-0.07603718606575656,-0.5825794651936892,-0.22675793152318055,-1.3334685018533199,-0.6653755357193035,-0.47108096980264064,-0.5033068509736496,-0.5809843813375835,-0.019073800690653068,-0.9772168963257916,-1.842808401351624,-1.2336791477237066,-1.4422460390299667,-0.07443378761648602,-0.11613900129178943,-0.023756855617428352,-0.4900198852305533,-1.147809152911177,-0.20612224429610243,-0.3478843977929366,-0.6138049337258858,-0.3390916701547791,-1.8369936172639478,-1.8842560266712307,-0.05544401422120702,-0.795419569184945,-1.8340253557916941,-0.5959555091450675,-0.7088792058778165,-0.4269698840878211,-1.3227856939938514,-0.35762514398599166,-1.616461322650663,-0.27069565630368986,-0.29230524773330885,-0.013468826607821234,-0.02997839124607378,-0.06560704753487694,-0.4840635994344596,-0.049039111376892375,-1.626790006988641,-0.6484533554766716,-0.3724064641938515,-0.6625613072500159,-1.4054586025237152,-0.09663682337968203,-0.21956095300690578,-0.02846016736451401,-0.03714409278030064,-0.6618091271879964,-0.39072328562962744,-1.7279273555076344,-0.13555473398072346,-0.7849139186272582,-0.9904222088389477,-0.2713571285169204,-2.753644486886356,-0.7355598301253247,-0.027740653339741184,-0.5887651971786324,-0.0738260029423505,-0.9152802206175779,-0.060715848878570386,-1.2008215229171222,-1.0575356906668594,-0.2107117596448627,-0.9386696701288387,-0.14419847323112808,-0.10101277905562044,-0.2046567354851237,-0.6877380507904348,-1.0996643674671536,-0.14297928462687787,-0.6081256769149156,-0.3401691437723201,-0.40964434499973273,-0.08811189753148647,-0.18844279112245266,-0.6677167963934828,-3.0540421322993505,-0.014540853946956242,-1.3867957057859561,-0.7335316965012015,-0.5638833701667487,-0.7662578573495232,-1.7266749654787736,-1.4770061534283945,-0.5073860050060512,-0.08504616176731944,-0.18287058572449294,-0.09691774101330775,-0.15077758932339236,-0.9860206356210142,-0.7788577388503053,-0.08181473263664571,-0.6070351021903501,-0.5826069032563749,-0.0613762253616602,-0.23398974155449764,-0.579674155911252,-3.6140214965328736,-2.1274241532992266,-0.3172264743401094,-0.5068502106831069,-0.14637999935704896,-0.06851096807712831,-2.5114626808901495,-0.9545943085057078,-0.04073177464515927,-0.1234071423736254,-0.12656256000348942,-0.1846311201070326,-0.1273812146541529,-1.4924193243256594,-0.8088712340844032,-0.10474683366794434,-0.13110159902992724,-0.06528413767082511,-1.6191796965201848,-0.8443347862831755,-0.9782207116888162,-0.34186021520523274,-0.5563829377781251,-0.08669680947313432,-0.428912654268828,-1.108354881298462,-0.3611100686953816,-0.5536639728323826,-1.6303683685155212,-0.24774233332485637,-0.39085722571187725,-0.45699065815050083,-0.11311575433525148,-0.21482211046838723,-0.5533564540253354,-1.1171788525903332,-1.055670017165164,-0.03484382528451283,-0.06294921645513649,-0.5892153861718361,-0.503654173429769,-0.052866430369129455,-0.8743890189235348,-1.621220747650039,-1.0774267431074256,-0.5812220139455667,-0.017924775829008047,-0.15982939765804183,-0.12299998623749202,-0.07642824261002612,-0.2587622667391759,-0.6293409233199156,-2.2148157760947464,-1.2256786709923198,-1.4242817957358753,-2.0433950108622803,-0.33091751387516727,-1.8197503904491747,-0.1259688971004277,-1.2961878042784647,-0.8645905957288008,-0.20002378892012512,-0.8156605357457845,-0.0655846744350862,-0.6566273350588688,-0.8828263324241773,-0.18682318048526983,-0.15670367869826551,-1.6779452491713354,-1.0437810077038963,-0.4643211821837256,-0.4212172556418967,-0.638150124094191,-0.126608121121321,-0.43400895132176054,-0.02014897178101537,-0.7733622481146902,-0.8155130653346084,-0.692863162460927,-0.8541877677713686,-0.23187947628381025,-0.9043680101865966,-0.5978919967200348,-0.13845241579795897,-2.0066339919762584,-0.10391169690720675,-0.7369605033780605,-0.11259633455520728,-0.4967553771917577,-0.7763248824818626,-0.11212409963440745,-1.691590857264531,-0.1744420345191227,-0.32903237786355544,-1.0709292317186827,-0.10377122604897916,-1.0408135495734716,-0.7201472776175338,-0.16162085614343127,-0.13193358694060855,-0.6968739728785107,-0.8503273955001279,-0.6755222632868267,-0.640187689507369,-0.6323428426068446,-0.40029518228797034,-0.000995555309060437,-0.7503458190766321,-1.1476054156471673,-1.538292040826299,-2.1364880306711203,-1.5623839282145666,-0.7074962057924531,-1.8395507444788268,-3.447576918582376,-0.04086465249076812,-0.5750526782405843,-0.5433213847621584,-0.11586662580871236,-0.16995126683198272,-0.3161548287570826,-0.24543609441274905,-1.281255365320555,-0.021339684662472297,-0.9071854172465917,-1.1356442974265784,-1.2945599516343687,-0.8581914621943616,-0.1327033437570124,-0.07724713215289411,-0.2113471548862613,-0.5513530858152611,-0.2680106359655232,-0.13184434655240887,-0.34256169863814856,-0.21071784107971483,-0.16280238571890984,-0.5523369480438435,-0.11826427412467498,-0.8734164628793355,-0.044931985333413166,-0.2486475727607219,-0.4724239237736242,-0.014006499880603361,-0.03617957034298747,-1.022142634222331,-0.03656144889106101,-1.2534939005688692,-0.15070071705845578,-0.06505326962326674,-0.5772805236952262,-0.39042914635594406,-1.1501773273037719,-0.47709794414025275,-0.05739941034586607,-0.04303400480000218,-0.30969233924746364,-0.41194235921186795,-3.322177309119943,-0.08895453168820669,-0.25080728618450365,-0.9519690969801087,-1.581599757668309,-0.19257241946728132,-1.0677390081528635,-0.11391592535111018,-1.2378399357393288,-0.1277096939726045,-0.1669678356767107,-0.12363261963410654,-0.22266109753897972,-1.3039741965769183,-0.01568862209827004,-1.3775704160919833,-0.5937660771420159,-0.719343946510527,-0.4558151996724634,-0.054660717548267734,-0.11187462872426295,-0.5729699033873286,-1.1485323837405952,-0.8981138282941057,-0.5631257603522682,-0.007538311401135517,-0.4824499798687392,-0.9400571347411142,-1.0711876567626013,-0.5893620493664633,-2.942433391533369,-0.737878824850868,-0.08435304533457608,-0.03648414798645623,-0.48454896825597377,-1.1278551092246891,-1.1278551092246891,-0.5143203170599632,-0.5143203170599632,-0.9130007086088272,-0.1350716311009219,-0.3285096246426273,-0.32879859328721867,-0.5320599043295936,-0.2281670578690968,-2.138138836536885,-2.5439839078437783,-0.0215659554702857,-0.9406753495945842,-0.2084236635523153,-1.064224780237494,-0.648750445727359,-0.7140745279129448,-0.24774641262037742,-0.2152422800946769,-0.1712725921971945,-0.769467310528481,-0.6872726640110811,-0.5782075216840389,-0.6121043855935084,-0.0924204105264561,-0.5360744585415633,-0.9909294509815725,-0.49307262404877766,-1.8659169922948953,-0.11754186156119226,-0.7330101931481982,-0.07840522658432086,-0.4602519025984604,-0.8407740231440219,-0.13274910904151446,-0.18618635661643826,-0.1886728598762496,-1.4914774019061965,-2.127584570677336,-0.742925954287799,-0.29582681804987165,-0.9537086935584741,-0.07917785514398624,-0.4843974145298431,-1.16093343228402,-1.6801190523111378,-0.34090788416866546,-0.11664570722139958,-0.2524360080448063,-0.9071950046710892,-0.8945604186448084,-0.0796629537865892,-0.4930572473902943,-0.01778458503815364,-0.10064304041473718,-0.24162419323260326,-1.6567767324629512,-1.9873689383023752,-1.3550935510361009,-1.6246321059927138,-1.4056605783649894,-0.5157415635564815,-0.42061179130904514,-0.4119809686705131,-0.065781926754108,-0.23551635056803716,-0.2522299687606304,-1.2719012706894457,-0.5119590718140753,-1.4416950991298307,-0.10046201148180903,-0.6142446827200514,-0.5409025936626091,-0.7360565305077811,-0.19888749401814074,-0.4361599554650063,-0.3114909526649328,-0.023722852899988014,-0.2867735605743295,-0.9315971699674505,-0.45567188846213097,-0.4202877211284459,-0.1449025506858687,-0.054182054080312535,-2.691372257696123,-2.8403126429027736,-3.378809615884782,-1.6854682391298397,-0.05663394082936669,-0.8933634707499784,-1.8969689540431025,-1.0174275394850794,-0.1441762040083546,-0.6909664084862576,-0.4417972212382615,-1.1221800858114725,-0.3109641125158958,-0.592488939855583,-0.4802331417190538,-1.0017069931609046,-0.06475328548872625,-0.08204591761405966,-1.0703161841452118,-0.3319890563899027,-1.5541717038967442,-0.16652552246843075,-0.694789466176368,-0.008729388441844062,-1.4711051183227823,-0.4618948440407521,-0.6100799608417393,-0.7749852662036288,-0.44757888113813576,-0.1659299178132048,-0.17941453393299087,-2.689527684134866,-0.4980027619179787,-0.7216596285380144,-0.024372282962969553,-0.011463392174560947,-1.2510440205506217,-0.22695185093244938,-0.6357712313356316,-0.32978622928312246,-0.5738196669698404,-1.3662590762413644,-0.6198783254188875,-1.8207609627755024,-1.421330234823569,-0.5762306552471622,-0.3080412388957437,-0.2413281072166836,-0.6384463120855848,-0.6863793759299462,-0.6838490775078655,-0.9478949659139843,-0.5840643429084157,-0.9680946400490698,-1.6424519667244248,-0.4816448126595174,-1.6826949348603406,-0.3510317097875264,-0.6760933754990643,-0.505949738810996,-0.044076811967400924,-0.35315221450452805,-0.2991337835400386,-1.0369882340941983,-1.992950767852679,-0.06013289478214628,-1.0591116644569243,-0.949800129315546,-0.2977721690646594,-0.4720700200001253,-0.5931069748332837,-2.139934018615085,-1.1016751383472283,-1.0152137477334873,-0.2169411944771586,-0.5687538050473421,-0.062378938733766744,-0.21044581767302706,-0.26850545273144494,-1.2126258999523247,-0.38468183875655065,-0.8618010867660187,-0.29457106872487654,-2.9238459985166783,-3.1467176402182986,-2.368610592130819,-1.7205542096538542,-1.0680375735865248,-0.23908445279457932,-0.03683415242177926,-0.5098103353918001,-0.6267232377461831,-0.3523653887865822,-0.36624975110483243,-0.8202780297438632,-0.5801559333755056,-0.5848380408308904,-0.40882635993368904,-0.9333566064930281,-0.9337132954827693,-1.0391801147056288,-0.10088292792011705,-0.004510182732127715,-0.056335684078355104,-0.21618958208310413,-0.562897223038176,-0.3951036514388389,-0.5275694516453944,-1.2038584458625055,-0.2568783390954161,-0.895186439167662,-0.9682604105296286,-1.6246227275388465,-0.5851927003663724,-0.05020418576130125,-0.09177024726350545,-1.427498651715047,-0.7998479159044396,-1.9082059480345372,-0.11948025044546458,-0.3847106311089879,-0.4221612780266126,-1.001197978671549,-0.5824226110492441,-0.20361429574926576,-0.9275302525989603,-2.0231831538012317,-0.13537657651558316,-1.3664361121807653,-0.7842085102710434,-1.3827175981668676,-1.9780082739914169,-1.2283954120249574,-0.8845354693715864,-0.7757216763551876,-0.030035701595372256,-0.05573847153674043,-0.48980430225599053,-1.3094405271838792,-0.4735386828980496,-2.029139538838908,-0.7866890356857584,-0.6081716964502905,-0.024989687811599853,-0.4834278902976131,-0.07879280623631721,-0.2229143770123673,-1.043569596944013,-0.1015422718162695,-0.16186588079487316,-0.4938906399046712,-1.1726239385187889,-2.2795287409386584,-0.08087049436153837,-1.555508346714894,-0.1084770181471465,-0.2570142069978755,-0.5708702223638689,-0.8856737686934707,-0.1963113248605908,-0.40176892119839075,-0.6849318345934983,-0.1868975615879734,-2.549614020107125,-0.09145194571550347,-0.06596777227189606,-1.6073784812814984,-0.5834416606480506,-0.46639483912343394,-0.061862329107602955,-1.456380761827686,-0.03682705723109825,-0.016775932961033465,-0.5843967974249044,-1.5630923557914984,-1.38263897760732,-1.4536823707471207,-0.5691970668568164,-0.12177213548569266,-0.2576618075738357,-0.036806461325973525,-0.3366762288686287,-2.674557759317394,-0.3686769666814649,-0.5272509473981409,-0.9968723290748855,-0.19538127752769177,-0.759936731695711,-1.4418993654951697,-1.490386197324995,-0.7501462469154824,-0.5477556924881037,-0.28860561650430716,-0.08138883533770118,-1.148000044143255,-0.2703316359194098,-0.6097472597456026,-1.7188204386886206,-0.27674193508246414,-1.223185421022859,-0.06020110643540583,-0.04915928654137752,-0.38786811108944164,-0.4373191703895479,-0.19451735861320046,-0.04639814017588447,-0.11585173529684391,-0.7699307392565089,-0.31035883599719344,-0.7778401518966352,-1.3381769105908634,-0.599518609352046,-0.7614446660002546,-0.3442141822296216,-0.3731012671660355,-0.7391819007754726,-0.7124433060361526,-1.0249519102408455,-0.4210936818481197,-0.9505159582536286,-0.9327772799414182,-0.2215954869382885,-0.4967387067226208,-0.5132569609816547,-0.5132569609816547,-0.16472824595095126,-0.23539998893487304,-0.08375230786379913,-0.10672077526811168,-0.6452311400391552,-0.1311844282544599,-0.8489601379222321,-0.014836285037643218,-0.46260689251949294,-1.3994171912446431,-0.9728493085123547,-0.48086491901256223,-0.28165843422555326,-1.3022606543230257,-0.10972340088992268,-0.4691280829550218,-0.6058862349544529,-0.2100719937955072,-0.3592417693002676,-2.519931391786766,-2.5309353154269547,-0.04658514199232135,-0.6546855344719735,-0.7027388968029313,-1.245390473122716,-0.6802628223909929,-0.7727571035946573,-0.5086493048798407,-0.3446109825330629,-0.7265710029858486,-0.9757155288003908,-0.1543826390823226,-1.4740689004566427,-1.5705973111989013,-1.3278273003391288,-1.0015943535650167,-1.1331681061106944,-0.4031529363530736,-0.3694265261055712,-1.8966275203414764,-1.008837714384005,-1.7237798318129582,-1.4863283106308636,-1.0912420789625998,-0.12543314415421264,-1.4793803720096943,-0.45259827459707574,-0.9444546954684303,-0.9419918556805333,-0.9419918556805333,-0.4532463035403597,-0.272384328912489,-0.39613002384078355,-1.1547708209834098,-1.5535633787189478,-2.220925103725792,-1.201187273996624,-0.2874386380711023,-0.3737231460061958,-0.584739447685518,-0.01885660252479511,-1.2071517532462335,-1.16469948391851,-0.3257744319427893,-0.36051775560619864,-1.0226003668633643,-2.010047438450853,-0.44151070919367835,-1.0168515670374882,-1.3030696893839497,-0.055705654697315095,-1.604716513316518,-1.018477290812166,-0.04261122411118524,-1.5390571504966348,-0.7261803307142483,-0.7133765535895186,-0.643252407904155,-0.2634275801033624,-0.5060211313918479,-0.21699689910197303,-0.2950650734618155,-0.9278753834518868,-1.4444097190374567,-1.216819220776128,-0.2274092334323413,-0.27267964848396575,-2.298935453402988,-0.00990268800620003,-0.2259527473355114,-0.3937570039067871,-0.434431474455025,-0.2033315613203487,-0.4223101395820855,-0.059013541169070066,-0.4710424375864409,-0.11818371534014863,-0.738734290538512,-2.495584643115015,-0.011169596582311432,-1.265330188745341,-0.5469541980474999,-0.5249577878498553,-1.916377353606556,-0.021946171940311027,-0.14665669150958371,-0.11493533712235154,-0.03484852199299743,-0.7823329441617275,-0.02546643929376447,-2.135553541679391,-1.1191466978568643,-0.3340936616776855,-0.5704454418091816,-0.8837365851466943,-0.7256542962969533,-0.06511504791519382,-1.5578539720710745,-0.463911205032191,-0.06174353814032117,-0.8369114234760294,-0.6674786262031972,-0.3367220262837902,-0.7993875840395483,-0.1986962274414236,-1.2842968981374767,-0.3510409091532353,-0.7852403833688876,-0.7448740419751627,-1.1069145045852435,-2.3277196645283396,-1.0846890533474776,-1.134178397480383,-0.04828548725869369,-0.10803913167143735,-0.17542094287304522,-0.7078482654843461,-0.3053401365517162,-0.7763826153497171,-1.0849962970982172,-1.0211908955197027,-0.27987239206530135,-0.3644872684655957,-0.7016568940073605,-0.3428253631643352,-0.807267852939283,-0.9164147945708172,-0.09975617188251612,-0.1649318236318169,-0.3580198102612656,-0.2707672794595123,-0.1729721169134064,-0.2898167289292873,-0.14477864095034898,-0.3402713369546,-0.46231129381707553,-1.0557828607566484,-0.971750665929316,-0.24965922481405897,-0.9247730244307957,-0.8135723940072312,-0.29124271811625096,-1.148022299195812,-1.200703128708165,-0.40751820873499073,-0.3810788220565989,-0.027549457195063232,-0.1195448966690486,-0.6798818252299723,-0.09516023055405896,-0.008928097381610342,-0.4073809338087155,-0.24412190274172899,-0.8027845394998958,-0.0242340587527818,-0.5415724729039937,-0.9351315874855991,-0.7501779265624037,-0.7530648035779924,-1.7036992207140846,-0.9563807950314372,-1.1744796583969734,-0.23954759137017206,-1.6271982057243497,-2.774161322640648,-0.5523142206411131,-0.5463902099884996,-3.3632170417096274,-0.047963137759125266,-0.9650235769612254,-0.5233832655098967,-0.722237128902732,-0.24705793001268048,-0.0807537023745815,-0.2906304721306034,-0.5896306496545854,-0.5578165887409267,-0.7705933408477476,-0.5290279737533689,-0.13399664191838168,-0.23717618330980225,-2.5014835761616623,-0.2587975081460775,-1.3227643914609841,-0.30089569200243704,-0.05357550646364715,-0.18370839398691652,-0.07982422151488038,-0.15569821266572156,-0.0068920774720311485,-0.13978215329631102,-1.9090345993017086,-0.25298762771728805,-1.0948974036915193,-0.7943436764025619,-0.35347375964140515,-0.14538942106742989,-0.2669754427115413,-0.5596716301039394,-1.1637094588089423,-0.4503648561829995,-0.25548055951467874,-0.12595649547969603,-0.12931842473469496,-0.8114672974544541,-0.04555500142685529,-1.1676612974015927,-3.1040971648109554,-1.5195695666179303,-0.0867146322836578,-0.7476069565449565,-1.447905856220489,-0.5139011130565864,-1.758306432583748,-0.20566530876431674,-0.09481600396896227,-2.1660879766191377,-1.0874172308765242,-0.7590213069700972,-0.2420047440581967,-0.44826262083984597,-0.2657162517426346,-0.3131775046361712,-0.10114174100524137,-0.03963780396456785,-0.6048711184744082,-0.03531641725641986,-0.1340306110399176,-0.4011945035084099,-0.36585953898910933,-0.17500338687940167,-0.41249270047003084,-0.8325389575628575,-0.665419875036535,-0.11493199427082619,-0.26005367944939534,-0.08146777083605637,-0.203051978065468,-0.876527354069982,-0.03631896417648178,-0.16628450382929183,-0.7813270235968658,-0.9554801189070177,-0.1725973601226959,-0.6035151351838628,-0.29203877576061077,-0.5074830234074968,-0.5005741167828666,-0.15216794150174398,-0.31837013205246334,-0.04766211260271264,-0.30711755641782423,-1.091949858367995,-2.7321423843106176,-0.8422803093961576,-0.14909316879892512,-0.21635904537640596,-0.5388737610773102,-1.9686462742292405,-0.6262187951985775,-1.0151936756456472,-1.7624865880898282,-2.6032173542093218,-1.6086177441262766,-0.04308955025202603,-0.28743879321133864,-1.7165174016512366,-1.401537755731395,-0.062331184011851275,-0.8716204479894675,-0.22531191102427783,-0.9934983378641333,-0.5352006959929241,-0.6050555354639842,-0.22615093598021097,-1.1947866927824609,-0.8236630944123685,-0.07153007881663007,-0.18486542583345802,-0.8262001465293721,-1.5256208068222086,-2.054553337911558,-0.6894826748202776,-0.25181459984994276,-0.8773778346433453,-1.4607965608737208,-1.4210874780134743,-0.7209409010686654,-0.01162731055241651,-0.38540441326958497,-1.1899710259368195,-0.6461653656750366,-0.0734437219024651,-0.4159965104109597,-0.6756677000695458,-2.6283147115974623,-0.8507233113671399,-0.22567038793179556,-0.1861510450458356,-0.487630755707848,-0.14134422417294712,-0.5174374124892057,-0.4300680219022856,-0.09354101715573851,-0.3810068451642942,-1.4047739735922937,-0.3771485319940618,-0.21657667252354834,-0.7407879918916588,-0.9394673773509955,-1.0307891859892868,-0.722724009934298,-0.45099712200179076,-0.5474336313445156,-0.8873240166356299,-0.21158351318787613,-0.4510846831129613,-0.6041356124445423,-1.8075735574075409,-0.13764927653850595,-0.7416919841911452,-0.588138147687974,-0.607096872264853,-0.8555743477859978,-0.12480167658882622,-0.8660693214655156,-0.6953217980743263,-0.3269058229347965,-0.08127011823641418,-2.0206600897159976,-0.27792489426717254,-0.5932810825669933,-0.3607257731881614,-2.4127378839220572,-0.1751964949125331,-1.6445176881536823,-1.9036668095975187,-0.7065912420704202,-0.09550531523336231,-0.8867728326760659,-0.28054769743600566,-0.40368589137535027,-1.2311739052521937,-0.8695660266982842,-0.20088484170406917,-0.8419269730398483,-1.1676305628946728,-0.8299571116779108,-1.2053538712118075,-0.06334999253618509,-0.849446597955005,-0.06648983221187686,-0.23557805312442334,-0.27455480995343606,-0.19599345632459325,-0.42358275947306323,-0.9161216034206155,-0.017160234274874876,-0.6553068903200524,-1.5430797837132408,-0.45277115741849994,-0.07658964080750072,-1.3933250720944306,-0.7373633341972259,-0.7212054143370065,-1.6486568592811557,-0.9926608497667986,-0.685943457949105,-0.32186932349938285,-0.9983415977717303,-0.8875711542737968,-1.1739377781486668,-2.0247679313580993,-1.0878414647472154,-0.1406349009311002,-0.16743745242501862,-0.25264015546291735,-0.29775955996640696,-0.7431612198086549,-0.15505490827483648,-0.8831685304690661,-0.434816075058093,-0.04450353563416381,-0.13227368718282034,-0.6958077643852622,-0.2030190335073121,-0.365749948717507,-0.4428417884012028,-0.19759531434265193,-0.5400804477725244,-0.3964997260063445,-2.737024700354353,-0.9053484835252692,-1.3294956753038152,-0.038588199442523466,-0.7223885777417908,-0.9369713932367033,-1.0117515571086149,-0.18389436513954258,-2.1461416530541393,-0.6402971358132957,-2.0679030993015233,-0.10136261699790047,-1.106846149016198,-0.6015575872386268,-0.7511006991751984,-0.3521499481105726,-0.51705149675271,-0.36507286045147397,-0.40964204839412055,-1.8298051473591854,-1.0435610892860652,-0.15716483807931697,-0.06422063887513867,-0.1191243081026314,-0.5456908215375589,-0.40150559434736866,-0.09196871737858588,-0.99781197238147,-2.000128599774523,-0.14449777576322043,-0.665321673844681,-1.668353295227174,-0.966539972368648,-0.029961074175055565,-0.5794394876594544,-0.6078134674336594,-0.27701319979643274,-0.31621710041358253,-0.1570801201240879,-0.0563699297897887,-0.6575902886116604,-0.06664146223285804,-0.22552313032416424,-0.08382194901499164,-1.9067895802574097,-0.5655215114584965,-0.7874033660879207,-0.49165223614466586,-0.5141171526179844,-0.4685212574604991,-0.08353597792702755,-0.3850435775767422,-1.2490409643331006,-0.40404541494649965,-0.9605911607153939,-0.7989638450850501,-0.6411413473349699,-0.2936686558133401,-0.6099895363870603,-0.2628696266365373,-1.6291228325850262,-0.2831963874902914,-1.1207819419497709,-2.251733591850213,-0.6570274373995989,-0.1550803302922733,-0.19202781515375092,-0.2803208972222113,-1.1378217775601496,-0.4308200983325486,-4.064943939312031,-0.09462628267748804,-1.361497231263402,-1.5640737230428388,-1.2277982648023147,-1.9837417630707106,-0.3278625044401484,-1.1652072003218041,-0.12071598579342425,-1.8714382800559743,-0.638339754736681,-2.0073067391806974,-1.4731093254038095,-0.2106364885226077,-1.0787934352341237,-0.7811619712147148,-0.7811619712147148,-0.6821957778545642,-2.097465213545763,-0.23027907324776956,-1.2653756959360742,-1.3541747898706509,-0.0007619310123798391,-0.0007619310123798391,-0.19224622592539425,-0.05468621969166412,-0.12438699432075961,-0.7303011424065781,-0.1671514631360669,-0.7313163603018221,-0.654751651002506,-0.06894065304404008,-0.021717354748971993,-1.5178629921536013,-0.2624801019439095,-0.18859343740621115,-0.483422593923283,-1.0975083374057841,-0.47709214255886123,-0.12001945998202408,-0.3281320782540001,-0.15343368394385207,-1.1797369111513853,-1.449285097375647,-0.512560231711085,-0.616911820970957,-1.34411720271691,-0.25361444854516607,-1.506999383261699,-0.7205982513754384,-0.6400811364134789,-0.44245387747060216,-0.27580856979494145,-0.41188001080541736,-0.8523976045145624,-0.6048044333238445,-0.1874155562348153,-0.07587067879343852,-0.019387978554140123,-1.0239432023239785,-0.048186430307166045,-2.0336942966781906,-0.7455308431185675,-0.8671209382973989,-0.23016464877161452,-0.2525825065806065,-1.1443483283359739,-2.433585481159617,-1.9580397733191524,-0.3683209908824824,-0.7108830854835544,-0.8717863648279539,-0.4518337068745624,-0.8941018268896403,-0.2174953693625185,-2.5202101898282674,-1.1060737120638549,-0.4299884553993826,-1.8761491719360313,-1.9260856007268974,-2.6568776112869394,-0.14393788705496727,-1.2965724227626996,-0.11146754435351562,-0.10756981122224844,-0.5400623275962447,-0.7517715411024563,-0.7577599867802352,-0.3040138487387241,-0.7706423891954683,-0.4814808298867283,-0.21317406996696334,-0.5114798455213383,-1.717645044568763,-0.28818166868536704,-1.43526382619254,-0.24497579751643606,-0.2551055103026628,-2.5674467200080606,-2.311854415540087,-0.911844038396286,-0.5351093077974894,-1.8399229296802608,-0.21366463236011357,-0.19767786524200293,-0.6322065762842298,-0.4616747579420741,-1.080788490686212,-0.3060253018762775,-1.1117692056732715,-0.59512350116137,-1.4619788869491495,-1.6581342967983381,-0.9389466950803059,-0.6812559895152149,-1.1420660046276006,-0.7938719335811302,-0.7655354658645839,-1.073619837015337,-1.1576581993413901,-0.8699379337287763,-0.3521030663952909,-0.4531254471274891,-0.11851469658405228,-0.000861431369433476,-1.746906761111879,-1.3144288985943933,-1.531704521069364,-1.3206450747914174,-0.8392566644327752,-0.6374394004248833,-0.609678917507589,-0.07303470660131384,-1.1405277005062777,-0.6085086742774306,-0.9015179615344984,-0.4291817222035799,-1.163689124788434,-0.4693646470722906,-0.5992946129134836,-0.05667294416673489,-0.43763706518986506,-0.28587241472362723,-0.09497400503383745,-0.5936146793509571,-0.41933466256771385,-0.7871760435363094,-0.20288309291959833,-0.33779763087530584,-1.5524826380862442,-1.594603334778893,-0.5889572852751755,-1.3307036308446374,-0.14231484776857176,-2.51242032633954,-0.1896505657261394,-0.7663000726908061,-0.7288747097137479,-0.6769094284266877,-0.25766912668348274,-0.6367276119941783,-0.022060513256060704,-0.19056163510668936,-0.8161191513496634,-0.2502128216155378,-0.15884537314896427,-0.622191921524273,-1.054764920169594,-0.15535665258062284,-1.0417892592083737,-0.6609795116536499,-0.2845729602618466,-0.2845729602618466,-0.10070424914592115,-1.8092462005574692,-1.37816855273626,-0.007431897864414963,-0.53342861043417,-0.43584200156885095,-0.3439905546091842,-0.3058586910840303,-0.34536601404314915,-0.2089905497414078,-0.13269076632587645,-0.5790801123858269,-0.08310622296367157,-0.07229412704850754,-2.1017751645586444,-0.011693009190702352,-0.20471064351118798,-0.014887729110575183,-0.3120232942349922,-0.47611412603356595,-0.3215450962162772,-0.06902254906114562,-1.0398808215644757,-0.15019827754204051,-0.8235861122648577,-0.5104646044022555,-0.380352200942868,-1.1460303816011852,-0.11733155933905351,-1.0092671745641444,-2.115828939328664,-1.895513404822361,-0.7058761381319107,-0.5900822556423948,-0.36121432312639334,-1.274899924509922,-0.7332259272583334,-0.13597045410328157,-1.8633100504703877,-0.48474938000257495,-0.5203703727506961,-0.9998017704435901,-0.6027596481420979,-0.0730338118965855,-1.60079174070088,-0.07645337567013112,-0.32717872968525186,-0.14906078624060892,-0.08409501851463086,-0.9377867043945498,-0.39678794850694016,-0.5134897899019375,-0.20216613048379284,-0.4868136414368777,-0.27744111009731787,-1.8309024489974923,-1.293664391128878,-0.6679988173020043,-0.6195672246865622,-0.22919465934615604,-0.25226291414031254,-0.42737280988206616,-1.814494459043536,-0.6222452531862803,-0.44421673065188066,-0.6963045963284894,-0.6986259174782327,-0.22354620872889824,-0.4771563223868019,-0.44161499165547846,-1.2012615444532204,-0.45226089306567,-2.0971598874157293,-1.0064001445944069,-2.1567101384409106,-0.5807725072306155,-0.11681995834668164,-0.31268938139635816,-0.055069793229756345,-0.0921740833219169,-0.17439121307549368,-0.4203218676899728,-0.46261231212870674,-0.04273182141926204,-1.0708751384686614,-0.4795248292441789,-0.2031284144910684,-0.8575469162482685,-1.6972660920443634,-0.5410028222050636,-0.6121932734728348,-1.2955523501914583,-0.8121340178608286,-0.5129782207759945,-0.10174758818202069,-0.2753474416521084,-0.027781709582057945,-1.0405544786246903,-1.369773793326813,-0.4013661327807629,-1.3636989790424927,-0.178311560803227,-0.5273532505843131,-0.03963638918396766,-1.1765417111085443,-0.19855455005507552,-0.48230898297068514,-0.4943697953346044,-1.650125703551776,-0.16082712269341407,-0.9511920121498214,-1.279289890809944,-0.20936451476539375,-1.6747546330275753,-0.0891613120267142,-0.2053550300421457,-0.30687353144788926,-0.43685444781865407,-0.9108791661962699,-0.7596499155691236,-0.024455184369540722,-0.1182792441216196,-0.18119796989140186,-0.8418783293037988,-1.1354139404408128,-1.7220255974898886,-1.6587197089903738,-0.5074519339847988,-0.36104722258261046,-2.179065125719707,-1.058883280232665,-0.7179056735095487,-0.5769764274429255,-0.8167914363339678,-0.6616871073313978,-0.5445679073493355,-0.6192260528179051,-0.13231810230036506,-0.1886610243579376,-0.9406782468604639,-0.07155228331175464,-0.9546366200191511,-0.3907261458351261,-0.15369327743577635,-0.7152350211876766,-0.4367463738987521,-0.7453958057191499,-0.3892744153424956,-0.8804667798067985,-0.547158153214363,-2.212714777095825,-0.29097063604056583,-2.2829667358920593,-0.47349613955550574,-0.18435987459014264,-0.8437456560358789,-0.4461122363097864,-0.24047180623978642,-1.1441964988304687,-1.7519144587304596,-0.7362563600360315,-2.937706327712715,-0.24023385245671,-1.5081879557516351,-0.5638505211532507,-0.04626932141573138,-0.4456931316264251,-0.2632553436499881,-0.17879459299497788,-0.016957742378050967,-0.0901025203568512,-0.45336743758315773,-0.028980932429824052,-1.2340508672164416,-2.185057290763582,-0.6351441379559927,-0.8182006852529397,-1.1118747773002393,-0.4480898590092011,-0.0765531147359136,-0.9943608124184716,-1.072264077834836,-0.15997271553814713,-0.4711138106494413,-0.14596884586570233,-0.14659676875862224,-0.5204067534356248,-1.5588671407289556,-1.996807183285403,-2.0460971949509887,-1.323248728739148,-0.2745759786178078,-0.05130763375214555,-0.14352274757470992,-1.3362485900618224,-1.3687555122958506,-0.33672658197966215,-1.3547441902582027,-0.1656531568044961,-0.10237359205740615,-0.1386082268512958,-1.066064699494203,-0.2634322237712067,-0.21962246660518994,-0.4834675041362247,-0.5288466618760785,-0.15899940092883305,-0.44741347777239987,-0.027994328164089848,-0.558471172779372,-0.4051679643319143,-0.8819255287622714,-0.38755873155977383,-0.27486302410510777,-0.07228375997526751,-0.743016606389005,-0.22792976418881378,-0.10092257783073583,-0.551750320333774,-0.48162430126686223,-0.16551513778209165,-0.5266070480099392,-0.9343606934134091,-0.5962842947035677,-0.7801719944730571,-0.00878133751371162,-0.01137842230399587,-0.18693386521278654,-0.5906026271466447,-0.23127176800247518,-2.17774398321488,-1.3305640270992751,-0.45993326234405796,-0.23233330785322867,-1.4136552376252152,-0.4799239751250957,-0.2574744973765866,-1.9710432472358272,-0.025501423244689448,-0.27655656706668225,-0.620716410157416,-0.14634572234974635,-0.2832425976053875,-0.20260381752406836,-0.17076615388113286,-1.5737506734347217e-05,-1.786358388319352,-0.12534921688936296,-0.06531092924901348,-0.2905486805158751,-0.6845599132855469,-0.7913070655625867,-0.6668921108069555,-0.3469579803801955,-1.4227440384140184,-0.24382607593037203,-0.6626785608890036,-0.16066037372943162,-0.17193936247339858,-0.8437891208496422,-0.14277405562399584,-0.3216763884908855,-0.4001942558071951,-0.054307392812394134,-0.484331577383323,-1.621569096097638,-0.9430081604591961,-1.3214650881354144,-0.2029847865485478,-0.7922138615367751,-0.44866971637125874,-0.07862924816679683,-0.10657349978733194,-1.768500509674698,-0.6866322252066815,-0.8594095617901663,-0.10551976554134734,-0.3994172488009514,-1.7961908883661362,-0.07231374442356943,-0.016719799718028668,-0.7388422010385721,-0.8310977312199255,-0.48601935035267146,-1.4835219887084174,-1.5343260881568024,-0.16615615133551984,-2.266436241746869,-0.15425775877730896,-1.985234848216459,-0.6839805917305887,-0.8097858791090566,-0.8940148855411548,-0.262718683563842,-0.6902228603850415,-0.5348073298485511,-0.26273326381513257,-0.031095789289818668,-0.18849820744159612,-1.3452663671340146,-0.06104736977918785,-0.465650590774054,-0.0646230504043578,-0.018535850183038594,-1.4085359235394188,-0.8818371699839778,-0.5203294284996364,-0.04356016822714244,-0.18073162358409894,-0.43038501176202837,-0.519017021766667,-1.4834374582826282,-0.09296450420237527,-0.16774289785498642,-0.34714528634026914,-1.9383181672647931,-1.4985727611399535,-1.5939530375329476,-1.4375059071482803,-0.218984102662747,-0.054151994905195414,-0.0068210480716991255,-0.2173294928196191,-0.8319430390285525,-0.18157231575594346,-0.14999371435856027,-0.06508942511940893,-1.9196748120748575,-2.495335684867862,-1.331120296472283,-0.13384652787152926,-0.13922377619034604,-0.15289949236423991,-0.34737280833640033,-0.11043639489362182,-1.9761703788220737,-0.08765295767851082,-1.023294890285674,-0.18030290487017842,-1.246169894948228,-0.529303767424262,-0.6698249012454187,-0.03049157112716676,-0.6332103472310237,-2.2042956143463144,-0.17482912101329445,-0.34248136924328326,-0.2860414861605752,-0.9117481679397175,-0.30972658046121576,-4.106154415167013,-0.18449181706552553,-0.02006486258183275,-1.9907961440362218,-0.33051162713537424,-0.46904094422135434,-1.3088670404000755,-0.19303152547562202,-0.3371912869297207,-0.3502926669312311,-0.7124017458644176,-0.15239965142041595,-0.7709725022037476,-0.024506668402124208,-0.40868633186725617,-0.8824555119279409,-1.209871705348435,-0.4565500077542494,-0.5081672995421904,-1.5472424479154792,-1.0799895873404877,-0.8832664428320482,-0.31194685267754274,-0.10626804816452377,-0.07176118528275359,-0.6961323671886579,-0.3299509969163151,-0.1329732010573771,-0.7209544884949532,-0.813674570909053,-0.06703793702805329,-1.1226981851798292,-1.8363582363140438,-0.16069786957302865,-0.34544656248038513,-0.49470847708178556,-1.5076528508470004,-0.5626470011942608,-0.6837378793659501,-0.7898956126516207,-2.0406786677164286,-0.26715244269975513,-0.06670649702344233,-0.44098012874146386,-0.25643088677555437,-0.025811775925035838,-4.284717396730282,-0.3074328360729712,-1.6218686828946938,-1.8424429919265723,-0.26056047414334227,-0.7033439328019204,-0.5302389682503621,-2.272807162240158,-0.0003778179040004062,-1.3005830288359113,-1.6806315552805122,-0.6922160184044924,-1.293064103140038,-1.6035425193455455,-0.1832338176753479,-1.3603884759914835,-0.28683309613912955,-0.392279414300275,-0.23773885481427431,-1.0289167788745612,-1.6565986080838007,-0.47290390264902493,-0.2575497216421867,-0.5003145931081846,-0.5626796774983139,-0.9388803751889527,-3.379772124459877,-0.5026418303855575,-0.09978492183345261,-0.08961475146554505,-0.2659474462764684,-0.44359000501001805,-0.8927997454678333,-0.14034006433460633,-0.38181850343635204,-0.18572837084136812,-0.22913357615283722,-0.4545310849310138,-0.45011753491417117,-0.7607931213485031,-0.8263963618386254,-1.677501448944703,-1.4756761803217542,-0.05130212814918071,-2.1934072054478997,-0.09033952714052997,-0.0572586548835953,-0.23162146224381833,-1.2266924063266165,-0.018851210864762602,-0.15128939161996866,-1.9169634089254763,-0.11596110283325328,-0.008451804012489784,-0.8010685480399133,-0.8173638544935642,-0.23813915048675627,-1.3621313116256053,-0.3277341699506727,-0.12115881472706459,-0.061314657984699865,-1.5344843856368737,-0.019540850143335634,-0.15082892421404734,-1.431775582808787,-0.24243590031058523,-0.7166004905042107,-0.292814811442501,-0.14449100496294923,-0.3332710376315568,-0.10548218078991482,-0.08138681556714963,-0.19988590502871992,-0.8189540653724714,-0.07249706516901804,-0.0778981006812673,-0.018326786477745022,-1.847080066589091,-0.3029859588001168,-0.6243236588108944,-0.020891139809251783,-0.6300998770353816,-0.5957839357761158,-0.07060579594915525,-0.37652880900349134,-0.30461703454995187,-0.720198739886341,-1.091506103780224,-0.3784349702011102,-0.6270971768012161,-1.1107298696261902,-0.6934202622337235,-0.9971405468752441,-0.35904393660584727,-0.17084627642712738,-0.9455600399092363,-0.5927185641108605,-0.11803154871802442,-0.15414704968894302,-0.19200641148504755,-0.8775530777043172,-0.775656868687489,-0.5076552183619659,-0.7854647900155719,-0.8434672260390119,-1.2197908345210553,-0.09039751645380704,-0.6400986588802919,-0.4951229722389188,-0.15312867581393447,-0.669512052386475,-0.5337433497946432,-0.7223612251989431,-0.023644438471883262,-0.2170710364123635,-0.3173654025430214,-0.8826800590356549,-0.6193894511269472,-0.7495332530014432,-0.33307530806105934,-0.8981051853079074,-1.123489465653932,-1.613189768217875,-0.37936761789053813,-0.9546120566381266,-0.03693865564946173,-0.9068870289485135,-0.1756335219715528,-1.1211572233947438,-0.4683761596454538,-0.13944355143870718,-0.5039750931041659,-0.0980702240716766,-1.0973313333190224,-2.030270041712459,-0.6771387386150876,-0.38580805700829174,-0.6845621784747576,-1.6370792685470117,-0.1958130171396807,-1.1902922454238245,-0.10631753946192728,-0.6462286020022847,-1.76034698908027,-0.01706809914061684,-1.2631435534354076,-3.335265012438203,-0.140191067659844,-0.32804561251505016,-0.31342078152678815,-0.8453344677766981,-0.6147410371496169,-1.1276745261523098,-0.8101527678584078,-0.8745014920581834,-0.489462343600388,-0.45061334453944996,-0.43382860837343284,-0.21335480567877765,-1.2034449213051193,-0.4520190400181573,-0.6521852949682445,-0.09432771181790174,-0.15702816064335098,-0.8744515990998473,-0.687591354187705,-1.1991729168112255,-0.44904364751151754,-0.1354674168758443,-0.05931901323054771,-1.8306546709971372,-0.3545675914156156,-0.25517394709785796,-0.881347937957234,-0.08276501446561273,-0.09538430897210019,-0.018156314472982618,-0.1802000822224437,-1.364542389496264,-1.0431447361727268,-0.36056237368109134,-0.9451210208018777,-0.25679303363183414,-0.02726438097584674,-0.3941054188411517,-1.3068585180023318,-0.7004108273914914,-0.21084415266477047,-1.1447070949845661,-0.022721761295224317,-0.33935102828632335,-0.7626079407687274,-0.2942432162835429,-0.5711163838731257,-0.3594792476464636,-0.5527668934790931,-1.2080298170557673,-0.3778261495167391,-0.7214045008937862,-0.05898249790928626,-1.448749608428978,-0.1538755915377487,-1.0114562861481828,-1.3575789433850218,-0.6260597187417113,-0.13753637472186878,-0.7492316140746219,-0.288085688963486,-0.10998729970058249,-1.0260187436050126,-0.042782155832801705,-0.762139756014798,-0.34331770226271696,-1.0921683526906145,-0.7054973503850036,-0.27989254344141007,-0.04592859948591771,-0.9064701513097895,-0.22258757034054577,-0.11736233998834512,-0.5289402856177108,-0.7600280170065269,-0.5422550616626409,-0.4503539761581334,-0.2303310098889941,-0.783003954079574,-0.7300562919267598,-1.1986424996750404,-0.5956279159955089,-0.9485709796979026,-0.8114427969011201,-0.9550699157180675,-0.26943634613291406,-1.8372343968801395,-0.1096153253279341,-0.9694349621308307,-1.1623415644314519,-1.1316405668881224,-3.0805911088162374,-0.14620235260242703,-0.4963170086650752,-1.5601842862976305,-0.4154844814004437,-0.48772530489272525,-0.05859693811294413,-0.612488924882784,-1.103288754789588,-2.1679982831458924,-0.33768873771308006,-0.33263520532202717,-0.9799683636436676,-0.3918426653535789,-0.3890851943895506,-0.5718564097219814,-0.864008113458317,-0.24179785780353807,-1.6055258636871426,-0.26530524772702735,-0.8743676083998653,-0.22309426290954892,-1.34248415605418,-1.1824074901893649,-0.1956826775742214,-0.8452864193242563,-0.8543644359811969,-1.7935133436924229,-1.1961583850675286,-1.9567936777212322,-0.8058619009198681,-0.3714497807622665,-0.054144855941814445,-0.2950504636175728,-0.38998676256228765,-0.14488185922265417,-0.9785038170892483,-1.2971017664181619,-0.621485776989241,-1.0716080562385006,-1.1514462596279453,-0.02150487752539614,-0.06998563477348714,-1.2215038210071256,-0.29578381535736553,-0.33207410056593745,-0.8743803796740525,-1.3388028465517088,-0.29839502928186,-0.01443537985959558,-0.4939287635576048,-0.25955028557104265,-0.4970022412308127,-1.7145750429581281,-1.9880950412680276,-1.1234207120362196,-0.27481921437076584,-0.5697787312076721,-0.9499512308391723,-2.0817052021250224,-0.175287051335389,-0.04240477054451045,-0.5360587457693579,-0.32521571003355143,-0.26192438673937574,-0.12412462986236995,-1.7285917129100041,-0.19090647388833049,-0.39466731043132103,-0.07297860045411907,-1.0410428005724952,-0.4517238285268244,-0.443825496749727,-1.0623295363836422,-1.3021325208197079,-0.5393760086217738,-0.6393333789373916,-3.007215437011071,-0.03461402018011194,-0.06408974460186244,-0.11809227757409992,-0.8263017779648982,-0.3853831049367001,-1.1061673338112517,-0.6872536643520661,-0.33526389590214717,-0.13281532098517257,-0.2562835985122824,-0.3908370848363309,-1.5136699616891456,-1.3101905150745439,-0.18834867491172716,-0.14889372307796597,-0.03095151325854106,-0.8301879483355852,-0.28504428458945874,-0.19328378992659268,-0.7343659616795642,-0.9775619089276077,-0.7586567135605352,-0.295002454863804,-0.05753799764298027,-0.2657637232970628,-1.394160442474633,-0.9144802072570947,-0.2997040165337642,-1.501042983185232,-0.3454146284264293,-1.9497511474726474,-0.1738828719471066,-0.3779647197626319],\"yaxis\":\"y\",\"type\":\"scattergl\"}],                        {\"template\":{\"data\":{\"bar\":[{\"error_x\":{\"color\":\"#2a3f5f\"},\"error_y\":{\"color\":\"#2a3f5f\"},\"marker\":{\"line\":{\"color\":\"#E5ECF6\",\"width\":0.5},\"pattern\":{\"fillmode\":\"overlay\",\"size\":10,\"solidity\":0.2}},\"type\":\"bar\"}],\"barpolar\":[{\"marker\":{\"line\":{\"color\":\"#E5ECF6\",\"width\":0.5},\"pattern\":{\"fillmode\":\"overlay\",\"size\":10,\"solidity\":0.2}},\"type\":\"barpolar\"}],\"carpet\":[{\"aaxis\":{\"endlinecolor\":\"#2a3f5f\",\"gridcolor\":\"white\",\"linecolor\":\"white\",\"minorgridcolor\":\"white\",\"startlinecolor\":\"#2a3f5f\"},\"baxis\":{\"endlinecolor\":\"#2a3f5f\",\"gridcolor\":\"white\",\"linecolor\":\"white\",\"minorgridcolor\":\"white\",\"startlinecolor\":\"#2a3f5f\"},\"type\":\"carpet\"}],\"choropleth\":[{\"colorbar\":{\"outlinewidth\":0,\"ticks\":\"\"},\"type\":\"choropleth\"}],\"contour\":[{\"colorbar\":{\"outlinewidth\":0,\"ticks\":\"\"},\"colorscale\":[[0.0,\"#0d0887\"],[0.1111111111111111,\"#46039f\"],[0.2222222222222222,\"#7201a8\"],[0.3333333333333333,\"#9c179e\"],[0.4444444444444444,\"#bd3786\"],[0.5555555555555556,\"#d8576b\"],[0.6666666666666666,\"#ed7953\"],[0.7777777777777778,\"#fb9f3a\"],[0.8888888888888888,\"#fdca26\"],[1.0,\"#f0f921\"]],\"type\":\"contour\"}],\"contourcarpet\":[{\"colorbar\":{\"outlinewidth\":0,\"ticks\":\"\"},\"type\":\"contourcarpet\"}],\"heatmap\":[{\"colorbar\":{\"outlinewidth\":0,\"ticks\":\"\"},\"colorscale\":[[0.0,\"#0d0887\"],[0.1111111111111111,\"#46039f\"],[0.2222222222222222,\"#7201a8\"],[0.3333333333333333,\"#9c179e\"],[0.4444444444444444,\"#bd3786\"],[0.5555555555555556,\"#d8576b\"],[0.6666666666666666,\"#ed7953\"],[0.7777777777777778,\"#fb9f3a\"],[0.8888888888888888,\"#fdca26\"],[1.0,\"#f0f921\"]],\"type\":\"heatmap\"}],\"heatmapgl\":[{\"colorbar\":{\"outlinewidth\":0,\"ticks\":\"\"},\"colorscale\":[[0.0,\"#0d0887\"],[0.1111111111111111,\"#46039f\"],[0.2222222222222222,\"#7201a8\"],[0.3333333333333333,\"#9c179e\"],[0.4444444444444444,\"#bd3786\"],[0.5555555555555556,\"#d8576b\"],[0.6666666666666666,\"#ed7953\"],[0.7777777777777778,\"#fb9f3a\"],[0.8888888888888888,\"#fdca26\"],[1.0,\"#f0f921\"]],\"type\":\"heatmapgl\"}],\"histogram\":[{\"marker\":{\"pattern\":{\"fillmode\":\"overlay\",\"size\":10,\"solidity\":0.2}},\"type\":\"histogram\"}],\"histogram2d\":[{\"colorbar\":{\"outlinewidth\":0,\"ticks\":\"\"},\"colorscale\":[[0.0,\"#0d0887\"],[0.1111111111111111,\"#46039f\"],[0.2222222222222222,\"#7201a8\"],[0.3333333333333333,\"#9c179e\"],[0.4444444444444444,\"#bd3786\"],[0.5555555555555556,\"#d8576b\"],[0.6666666666666666,\"#ed7953\"],[0.7777777777777778,\"#fb9f3a\"],[0.8888888888888888,\"#fdca26\"],[1.0,\"#f0f921\"]],\"type\":\"histogram2d\"}],\"histogram2dcontour\":[{\"colorbar\":{\"outlinewidth\":0,\"ticks\":\"\"},\"colorscale\":[[0.0,\"#0d0887\"],[0.1111111111111111,\"#46039f\"],[0.2222222222222222,\"#7201a8\"],[0.3333333333333333,\"#9c179e\"],[0.4444444444444444,\"#bd3786\"],[0.5555555555555556,\"#d8576b\"],[0.6666666666666666,\"#ed7953\"],[0.7777777777777778,\"#fb9f3a\"],[0.8888888888888888,\"#fdca26\"],[1.0,\"#f0f921\"]],\"type\":\"histogram2dcontour\"}],\"mesh3d\":[{\"colorbar\":{\"outlinewidth\":0,\"ticks\":\"\"},\"type\":\"mesh3d\"}],\"parcoords\":[{\"line\":{\"colorbar\":{\"outlinewidth\":0,\"ticks\":\"\"}},\"type\":\"parcoords\"}],\"pie\":[{\"automargin\":true,\"type\":\"pie\"}],\"scatter\":[{\"marker\":{\"colorbar\":{\"outlinewidth\":0,\"ticks\":\"\"}},\"type\":\"scatter\"}],\"scatter3d\":[{\"line\":{\"colorbar\":{\"outlinewidth\":0,\"ticks\":\"\"}},\"marker\":{\"colorbar\":{\"outlinewidth\":0,\"ticks\":\"\"}},\"type\":\"scatter3d\"}],\"scattercarpet\":[{\"marker\":{\"colorbar\":{\"outlinewidth\":0,\"ticks\":\"\"}},\"type\":\"scattercarpet\"}],\"scattergeo\":[{\"marker\":{\"colorbar\":{\"outlinewidth\":0,\"ticks\":\"\"}},\"type\":\"scattergeo\"}],\"scattergl\":[{\"marker\":{\"colorbar\":{\"outlinewidth\":0,\"ticks\":\"\"}},\"type\":\"scattergl\"}],\"scattermapbox\":[{\"marker\":{\"colorbar\":{\"outlinewidth\":0,\"ticks\":\"\"}},\"type\":\"scattermapbox\"}],\"scatterpolar\":[{\"marker\":{\"colorbar\":{\"outlinewidth\":0,\"ticks\":\"\"}},\"type\":\"scatterpolar\"}],\"scatterpolargl\":[{\"marker\":{\"colorbar\":{\"outlinewidth\":0,\"ticks\":\"\"}},\"type\":\"scatterpolargl\"}],\"scatterternary\":[{\"marker\":{\"colorbar\":{\"outlinewidth\":0,\"ticks\":\"\"}},\"type\":\"scatterternary\"}],\"surface\":[{\"colorbar\":{\"outlinewidth\":0,\"ticks\":\"\"},\"colorscale\":[[0.0,\"#0d0887\"],[0.1111111111111111,\"#46039f\"],[0.2222222222222222,\"#7201a8\"],[0.3333333333333333,\"#9c179e\"],[0.4444444444444444,\"#bd3786\"],[0.5555555555555556,\"#d8576b\"],[0.6666666666666666,\"#ed7953\"],[0.7777777777777778,\"#fb9f3a\"],[0.8888888888888888,\"#fdca26\"],[1.0,\"#f0f921\"]],\"type\":\"surface\"}],\"table\":[{\"cells\":{\"fill\":{\"color\":\"#EBF0F8\"},\"line\":{\"color\":\"white\"}},\"header\":{\"fill\":{\"color\":\"#C8D4E3\"},\"line\":{\"color\":\"white\"}},\"type\":\"table\"}]},\"layout\":{\"annotationdefaults\":{\"arrowcolor\":\"#2a3f5f\",\"arrowhead\":0,\"arrowwidth\":1},\"autotypenumbers\":\"strict\",\"coloraxis\":{\"colorbar\":{\"outlinewidth\":0,\"ticks\":\"\"}},\"colorscale\":{\"diverging\":[[0,\"#8e0152\"],[0.1,\"#c51b7d\"],[0.2,\"#de77ae\"],[0.3,\"#f1b6da\"],[0.4,\"#fde0ef\"],[0.5,\"#f7f7f7\"],[0.6,\"#e6f5d0\"],[0.7,\"#b8e186\"],[0.8,\"#7fbc41\"],[0.9,\"#4d9221\"],[1,\"#276419\"]],\"sequential\":[[0.0,\"#0d0887\"],[0.1111111111111111,\"#46039f\"],[0.2222222222222222,\"#7201a8\"],[0.3333333333333333,\"#9c179e\"],[0.4444444444444444,\"#bd3786\"],[0.5555555555555556,\"#d8576b\"],[0.6666666666666666,\"#ed7953\"],[0.7777777777777778,\"#fb9f3a\"],[0.8888888888888888,\"#fdca26\"],[1.0,\"#f0f921\"]],\"sequentialminus\":[[0.0,\"#0d0887\"],[0.1111111111111111,\"#46039f\"],[0.2222222222222222,\"#7201a8\"],[0.3333333333333333,\"#9c179e\"],[0.4444444444444444,\"#bd3786\"],[0.5555555555555556,\"#d8576b\"],[0.6666666666666666,\"#ed7953\"],[0.7777777777777778,\"#fb9f3a\"],[0.8888888888888888,\"#fdca26\"],[1.0,\"#f0f921\"]]},\"colorway\":[\"#636efa\",\"#EF553B\",\"#00cc96\",\"#ab63fa\",\"#FFA15A\",\"#19d3f3\",\"#FF6692\",\"#B6E880\",\"#FF97FF\",\"#FECB52\"],\"font\":{\"color\":\"#2a3f5f\"},\"geo\":{\"bgcolor\":\"white\",\"lakecolor\":\"white\",\"landcolor\":\"#E5ECF6\",\"showlakes\":true,\"showland\":true,\"subunitcolor\":\"white\"},\"hoverlabel\":{\"align\":\"left\"},\"hovermode\":\"closest\",\"mapbox\":{\"style\":\"light\"},\"paper_bgcolor\":\"white\",\"plot_bgcolor\":\"#E5ECF6\",\"polar\":{\"angularaxis\":{\"gridcolor\":\"white\",\"linecolor\":\"white\",\"ticks\":\"\"},\"bgcolor\":\"#E5ECF6\",\"radialaxis\":{\"gridcolor\":\"white\",\"linecolor\":\"white\",\"ticks\":\"\"}},\"scene\":{\"xaxis\":{\"backgroundcolor\":\"#E5ECF6\",\"gridcolor\":\"white\",\"gridwidth\":2,\"linecolor\":\"white\",\"showbackground\":true,\"ticks\":\"\",\"zerolinecolor\":\"white\"},\"yaxis\":{\"backgroundcolor\":\"#E5ECF6\",\"gridcolor\":\"white\",\"gridwidth\":2,\"linecolor\":\"white\",\"showbackground\":true,\"ticks\":\"\",\"zerolinecolor\":\"white\"},\"zaxis\":{\"backgroundcolor\":\"#E5ECF6\",\"gridcolor\":\"white\",\"gridwidth\":2,\"linecolor\":\"white\",\"showbackground\":true,\"ticks\":\"\",\"zerolinecolor\":\"white\"}},\"shapedefaults\":{\"line\":{\"color\":\"#2a3f5f\"}},\"ternary\":{\"aaxis\":{\"gridcolor\":\"white\",\"linecolor\":\"white\",\"ticks\":\"\"},\"baxis\":{\"gridcolor\":\"white\",\"linecolor\":\"white\",\"ticks\":\"\"},\"bgcolor\":\"#E5ECF6\",\"caxis\":{\"gridcolor\":\"white\",\"linecolor\":\"white\",\"ticks\":\"\"}},\"title\":{\"x\":0.05},\"xaxis\":{\"automargin\":true,\"gridcolor\":\"white\",\"linecolor\":\"white\",\"ticks\":\"\",\"title\":{\"standoff\":15},\"zerolinecolor\":\"white\",\"zerolinewidth\":2},\"yaxis\":{\"automargin\":true,\"gridcolor\":\"white\",\"linecolor\":\"white\",\"ticks\":\"\",\"title\":{\"standoff\":15},\"zerolinecolor\":\"white\",\"zerolinewidth\":2}}},\"xaxis\":{\"anchor\":\"y\",\"domain\":[0.0,1.0],\"title\":{\"text\":\"log_fc\"}},\"yaxis\":{\"anchor\":\"x\",\"domain\":[0.0,1.0],\"title\":{\"text\":\"log_pvalue\"},\"autorange\":\"reversed\"},\"legend\":{\"tracegroupgap\":0},\"margin\":{\"t\":60},\"shapes\":[{\"type\":\"line\",\"x0\":0,\"x1\":1,\"xref\":\"x domain\",\"y0\":-1.3,\"y1\":-1.3,\"yref\":\"y\"}]},                        {\"responsive\": true}                    ).then(function(){\n",
              "                            \n",
              "var gd = document.getElementById('11ca50df-0d00-48d0-825c-d0b59ccfb6fa');\n",
              "var x = new MutationObserver(function (mutations, observer) {{\n",
              "        var display = window.getComputedStyle(gd).display;\n",
              "        if (!display || display === 'none') {{\n",
              "            console.log([gd, 'removed!']);\n",
              "            Plotly.purge(gd);\n",
              "            observer.disconnect();\n",
              "        }}\n",
              "}});\n",
              "\n",
              "// Listen for the removal of the full notebook cells\n",
              "var notebookContainer = gd.closest('#notebook-container');\n",
              "if (notebookContainer) {{\n",
              "    x.observe(notebookContainer, {childList: true});\n",
              "}}\n",
              "\n",
              "// Listen for the clearing of the current output cell\n",
              "var outputEl = gd.closest('.output');\n",
              "if (outputEl) {{\n",
              "    x.observe(outputEl, {childList: true});\n",
              "}}\n",
              "\n",
              "                        })                };                            </script>        </div>\n",
              "</body>\n",
              "</html>"
            ]
          },
          "metadata": {}
        }
      ],
      "source": [
        "import plotly.express as px\n",
        "import math\n",
        "\n",
        "fig = px.scatter(merged_df, x=\"log_fc\", y=\"log_pvalue\", hover_name=\"Locus tag\", hover_data=[\"Locus\", \"Protein Name\", \"log_fc\", 'pvalue', 'fold_change'])\n",
        "fig.add_hline(y=-1.3)\n",
        "fig.update_yaxes(autorange=\"reversed\")\n",
        "\n",
        "\n",
        "\n",
        "fig.show()"
      ]
    },
    {
      "cell_type": "markdown",
      "source": [
        "Herramientas para analizar alguna proteina particular por el Locus o Locus tag"
      ],
      "metadata": {
        "id": "xNDfv_-JOqL6"
      }
    },
    {
      "cell_type": "code",
      "execution_count": 32,
      "metadata": {
        "id": "8hbgJNatHzPB",
        "colab": {
          "base_uri": "https://localhost:8080/",
          "height": 81
        },
        "outputId": "6075b9e0-32eb-4579-ae4a-00d218b5e169"
      },
      "outputs": [
        {
          "output_type": "execute_result",
          "data": {
            "text/plain": [
              "     Locus tag  fold_change  pvalue                     Protein Name Locus\n",
              "2087   Rv3734c         0.78  0.0739  diacyglycerol O-acyltransferase  tgs2"
            ],
            "text/html": [
              "\n",
              "  <div id=\"df-e85728a5-c3fd-4d48-a4b2-e1ad51a42d64\">\n",
              "    <div class=\"colab-df-container\">\n",
              "      <div>\n",
              "<style scoped>\n",
              "    .dataframe tbody tr th:only-of-type {\n",
              "        vertical-align: middle;\n",
              "    }\n",
              "\n",
              "    .dataframe tbody tr th {\n",
              "        vertical-align: top;\n",
              "    }\n",
              "\n",
              "    .dataframe thead th {\n",
              "        text-align: right;\n",
              "    }\n",
              "</style>\n",
              "<table border=\"1\" class=\"dataframe\">\n",
              "  <thead>\n",
              "    <tr style=\"text-align: right;\">\n",
              "      <th></th>\n",
              "      <th>Locus tag</th>\n",
              "      <th>fold_change</th>\n",
              "      <th>pvalue</th>\n",
              "      <th>Protein Name</th>\n",
              "      <th>Locus</th>\n",
              "    </tr>\n",
              "  </thead>\n",
              "  <tbody>\n",
              "    <tr>\n",
              "      <th>2087</th>\n",
              "      <td>Rv3734c</td>\n",
              "      <td>0.78</td>\n",
              "      <td>0.0739</td>\n",
              "      <td>diacyglycerol O-acyltransferase</td>\n",
              "      <td>tgs2</td>\n",
              "    </tr>\n",
              "  </tbody>\n",
              "</table>\n",
              "</div>\n",
              "      <button class=\"colab-df-convert\" onclick=\"convertToInteractive('df-e85728a5-c3fd-4d48-a4b2-e1ad51a42d64')\"\n",
              "              title=\"Convert this dataframe to an interactive table.\"\n",
              "              style=\"display:none;\">\n",
              "        \n",
              "  <svg xmlns=\"http://www.w3.org/2000/svg\" height=\"24px\"viewBox=\"0 0 24 24\"\n",
              "       width=\"24px\">\n",
              "    <path d=\"M0 0h24v24H0V0z\" fill=\"none\"/>\n",
              "    <path d=\"M18.56 5.44l.94 2.06.94-2.06 2.06-.94-2.06-.94-.94-2.06-.94 2.06-2.06.94zm-11 1L8.5 8.5l.94-2.06 2.06-.94-2.06-.94L8.5 2.5l-.94 2.06-2.06.94zm10 10l.94 2.06.94-2.06 2.06-.94-2.06-.94-.94-2.06-.94 2.06-2.06.94z\"/><path d=\"M17.41 7.96l-1.37-1.37c-.4-.4-.92-.59-1.43-.59-.52 0-1.04.2-1.43.59L10.3 9.45l-7.72 7.72c-.78.78-.78 2.05 0 2.83L4 21.41c.39.39.9.59 1.41.59.51 0 1.02-.2 1.41-.59l7.78-7.78 2.81-2.81c.8-.78.8-2.07 0-2.86zM5.41 20L4 18.59l7.72-7.72 1.47 1.35L5.41 20z\"/>\n",
              "  </svg>\n",
              "      </button>\n",
              "      \n",
              "  <style>\n",
              "    .colab-df-container {\n",
              "      display:flex;\n",
              "      flex-wrap:wrap;\n",
              "      gap: 12px;\n",
              "    }\n",
              "\n",
              "    .colab-df-convert {\n",
              "      background-color: #E8F0FE;\n",
              "      border: none;\n",
              "      border-radius: 50%;\n",
              "      cursor: pointer;\n",
              "      display: none;\n",
              "      fill: #1967D2;\n",
              "      height: 32px;\n",
              "      padding: 0 0 0 0;\n",
              "      width: 32px;\n",
              "    }\n",
              "\n",
              "    .colab-df-convert:hover {\n",
              "      background-color: #E2EBFA;\n",
              "      box-shadow: 0px 1px 2px rgba(60, 64, 67, 0.3), 0px 1px 3px 1px rgba(60, 64, 67, 0.15);\n",
              "      fill: #174EA6;\n",
              "    }\n",
              "\n",
              "    [theme=dark] .colab-df-convert {\n",
              "      background-color: #3B4455;\n",
              "      fill: #D2E3FC;\n",
              "    }\n",
              "\n",
              "    [theme=dark] .colab-df-convert:hover {\n",
              "      background-color: #434B5C;\n",
              "      box-shadow: 0px 1px 3px 1px rgba(0, 0, 0, 0.15);\n",
              "      filter: drop-shadow(0px 1px 2px rgba(0, 0, 0, 0.3));\n",
              "      fill: #FFFFFF;\n",
              "    }\n",
              "  </style>\n",
              "\n",
              "      <script>\n",
              "        const buttonEl =\n",
              "          document.querySelector('#df-e85728a5-c3fd-4d48-a4b2-e1ad51a42d64 button.colab-df-convert');\n",
              "        buttonEl.style.display =\n",
              "          google.colab.kernel.accessAllowed ? 'block' : 'none';\n",
              "\n",
              "        async function convertToInteractive(key) {\n",
              "          const element = document.querySelector('#df-e85728a5-c3fd-4d48-a4b2-e1ad51a42d64');\n",
              "          const dataTable =\n",
              "            await google.colab.kernel.invokeFunction('convertToInteractive',\n",
              "                                                     [key], {});\n",
              "          if (!dataTable) return;\n",
              "\n",
              "          const docLinkHtml = 'Like what you see? Visit the ' +\n",
              "            '<a target=\"_blank\" href=https://colab.research.google.com/notebooks/data_table.ipynb>data table notebook</a>'\n",
              "            + ' to learn more about interactive tables.';\n",
              "          element.innerHTML = '';\n",
              "          dataTable['output_type'] = 'display_data';\n",
              "          await google.colab.output.renderOutput(dataTable, element);\n",
              "          const docLink = document.createElement('div');\n",
              "          docLink.innerHTML = docLinkHtml;\n",
              "          element.appendChild(docLink);\n",
              "        }\n",
              "      </script>\n",
              "    </div>\n",
              "  </div>\n",
              "  "
            ]
          },
          "metadata": {},
          "execution_count": 32
        }
      ],
      "source": [
        "merged_df.loc[merged_df['Locus'] == 'tgs2'][['Locus tag', 'fold_change', 'pvalue','Protein Name', 'Locus' ]]"
      ]
    },
    {
      "cell_type": "code",
      "execution_count": 33,
      "metadata": {
        "id": "MyryhzWqlh2d",
        "colab": {
          "base_uri": "https://localhost:8080/",
          "height": 49
        },
        "outputId": "dc32d63e-be28-41a2-f633-f0ef2b7cf62f"
      },
      "outputs": [
        {
          "output_type": "execute_result",
          "data": {
            "text/plain": [
              "Empty DataFrame\n",
              "Columns: [Locus tag, fold_change, pvalue, Protein Name, Locus]\n",
              "Index: []"
            ],
            "text/html": [
              "\n",
              "  <div id=\"df-173a48af-e803-442d-9d66-c8f20bb877c4\">\n",
              "    <div class=\"colab-df-container\">\n",
              "      <div>\n",
              "<style scoped>\n",
              "    .dataframe tbody tr th:only-of-type {\n",
              "        vertical-align: middle;\n",
              "    }\n",
              "\n",
              "    .dataframe tbody tr th {\n",
              "        vertical-align: top;\n",
              "    }\n",
              "\n",
              "    .dataframe thead th {\n",
              "        text-align: right;\n",
              "    }\n",
              "</style>\n",
              "<table border=\"1\" class=\"dataframe\">\n",
              "  <thead>\n",
              "    <tr style=\"text-align: right;\">\n",
              "      <th></th>\n",
              "      <th>Locus tag</th>\n",
              "      <th>fold_change</th>\n",
              "      <th>pvalue</th>\n",
              "      <th>Protein Name</th>\n",
              "      <th>Locus</th>\n",
              "    </tr>\n",
              "  </thead>\n",
              "  <tbody>\n",
              "  </tbody>\n",
              "</table>\n",
              "</div>\n",
              "      <button class=\"colab-df-convert\" onclick=\"convertToInteractive('df-173a48af-e803-442d-9d66-c8f20bb877c4')\"\n",
              "              title=\"Convert this dataframe to an interactive table.\"\n",
              "              style=\"display:none;\">\n",
              "        \n",
              "  <svg xmlns=\"http://www.w3.org/2000/svg\" height=\"24px\"viewBox=\"0 0 24 24\"\n",
              "       width=\"24px\">\n",
              "    <path d=\"M0 0h24v24H0V0z\" fill=\"none\"/>\n",
              "    <path d=\"M18.56 5.44l.94 2.06.94-2.06 2.06-.94-2.06-.94-.94-2.06-.94 2.06-2.06.94zm-11 1L8.5 8.5l.94-2.06 2.06-.94-2.06-.94L8.5 2.5l-.94 2.06-2.06.94zm10 10l.94 2.06.94-2.06 2.06-.94-2.06-.94-.94-2.06-.94 2.06-2.06.94z\"/><path d=\"M17.41 7.96l-1.37-1.37c-.4-.4-.92-.59-1.43-.59-.52 0-1.04.2-1.43.59L10.3 9.45l-7.72 7.72c-.78.78-.78 2.05 0 2.83L4 21.41c.39.39.9.59 1.41.59.51 0 1.02-.2 1.41-.59l7.78-7.78 2.81-2.81c.8-.78.8-2.07 0-2.86zM5.41 20L4 18.59l7.72-7.72 1.47 1.35L5.41 20z\"/>\n",
              "  </svg>\n",
              "      </button>\n",
              "      \n",
              "  <style>\n",
              "    .colab-df-container {\n",
              "      display:flex;\n",
              "      flex-wrap:wrap;\n",
              "      gap: 12px;\n",
              "    }\n",
              "\n",
              "    .colab-df-convert {\n",
              "      background-color: #E8F0FE;\n",
              "      border: none;\n",
              "      border-radius: 50%;\n",
              "      cursor: pointer;\n",
              "      display: none;\n",
              "      fill: #1967D2;\n",
              "      height: 32px;\n",
              "      padding: 0 0 0 0;\n",
              "      width: 32px;\n",
              "    }\n",
              "\n",
              "    .colab-df-convert:hover {\n",
              "      background-color: #E2EBFA;\n",
              "      box-shadow: 0px 1px 2px rgba(60, 64, 67, 0.3), 0px 1px 3px 1px rgba(60, 64, 67, 0.15);\n",
              "      fill: #174EA6;\n",
              "    }\n",
              "\n",
              "    [theme=dark] .colab-df-convert {\n",
              "      background-color: #3B4455;\n",
              "      fill: #D2E3FC;\n",
              "    }\n",
              "\n",
              "    [theme=dark] .colab-df-convert:hover {\n",
              "      background-color: #434B5C;\n",
              "      box-shadow: 0px 1px 3px 1px rgba(0, 0, 0, 0.15);\n",
              "      filter: drop-shadow(0px 1px 2px rgba(0, 0, 0, 0.3));\n",
              "      fill: #FFFFFF;\n",
              "    }\n",
              "  </style>\n",
              "\n",
              "      <script>\n",
              "        const buttonEl =\n",
              "          document.querySelector('#df-173a48af-e803-442d-9d66-c8f20bb877c4 button.colab-df-convert');\n",
              "        buttonEl.style.display =\n",
              "          google.colab.kernel.accessAllowed ? 'block' : 'none';\n",
              "\n",
              "        async function convertToInteractive(key) {\n",
              "          const element = document.querySelector('#df-173a48af-e803-442d-9d66-c8f20bb877c4');\n",
              "          const dataTable =\n",
              "            await google.colab.kernel.invokeFunction('convertToInteractive',\n",
              "                                                     [key], {});\n",
              "          if (!dataTable) return;\n",
              "\n",
              "          const docLinkHtml = 'Like what you see? Visit the ' +\n",
              "            '<a target=\"_blank\" href=https://colab.research.google.com/notebooks/data_table.ipynb>data table notebook</a>'\n",
              "            + ' to learn more about interactive tables.';\n",
              "          element.innerHTML = '';\n",
              "          dataTable['output_type'] = 'display_data';\n",
              "          await google.colab.output.renderOutput(dataTable, element);\n",
              "          const docLink = document.createElement('div');\n",
              "          docLink.innerHTML = docLinkHtml;\n",
              "          element.appendChild(docLink);\n",
              "        }\n",
              "      </script>\n",
              "    </div>\n",
              "  </div>\n",
              "  "
            ]
          },
          "metadata": {},
          "execution_count": 33
        }
      ],
      "source": [
        "merged_df.loc[merged_df['Locus tag'] == 'Rv3130c'][['Locus tag', 'fold_change', 'pvalue','Protein Name', 'Locus' ]]"
      ]
    },
    {
      "cell_type": "code",
      "execution_count": 34,
      "metadata": {
        "id": "16WfjPfEJ7Ol",
        "colab": {
          "base_uri": "https://localhost:8080/"
        },
        "outputId": "171a547b-4c59-44b5-fc31-aa4b838c5b88"
      },
      "outputs": [
        {
          "output_type": "stream",
          "name": "stdout",
          "text": [
            "Cantidad de proteínas sobreeexpresadas (fc > 1.3) =  76\n",
            "Cantidad de proteínas reprimidas (fc < 1.3) =  201\n",
            "Total de proteínas expresadas diferencialmente =  277\n"
          ]
        }
      ],
      "source": [
        "sobreexp = merged_df[(merged_df[\"pvalue\"] < 0.05)& (merged_df[\"fold_change\"] > 1.3)].shape[0]\n",
        "repr = merged_df[(merged_df[\"pvalue\"] < 0.05)& (merged_df[\"fold_change\"] < (1/1.3))].shape[0]\n",
        "cambiadas = sobreexp + repr\n",
        "\n",
        "print('Cantidad de proteínas sobreeexpresadas (fc > 1.3) = ', sobreexp)\n",
        "print('Cantidad de proteínas reprimidas (fc < 1.3) = ', repr)\n",
        "print('Total de proteínas expresadas diferencialmente = ', cambiadas)"
      ]
    },
    {
      "cell_type": "markdown",
      "source": [
        "19 - Exportar el dataframe procesado. (Para descargar remover el # de la ultima fila)"
      ],
      "metadata": {
        "id": "IeDTOzhqPXTk"
      }
    },
    {
      "cell_type": "code",
      "execution_count": 35,
      "metadata": {
        "id": "fKbCEadr5x8X"
      },
      "outputs": [],
      "source": [
        "simple_df_locus = merged_df[merged_df['Locus tag'].notna()][['Locus tag','Locus','log_fc','fold_change','pvalue','Ra_UNIPROT','Fasta headers']].sort_values(by=['log_fc'])\n",
        "\n",
        "simple_df_locus[['Locus tag','Locus','log_fc','pvalue']].to_csv('simple_df_locus.csv', index=False)\n",
        "\n",
        "from google.colab import files\n",
        "# files.download(\"simple_df_locus.csv\")"
      ]
    },
    {
      "cell_type": "markdown",
      "metadata": {
        "id": "toTTBmG0EqQe"
      },
      "source": [
        "#Analisis sin la muestra Sin ATc - 2"
      ]
    },
    {
      "cell_type": "markdown",
      "source": [
        "20- Se crea una copia de log_muestras para no generar conflictos con el dataframe 1"
      ],
      "metadata": {
        "id": "eiyzaQP8QENk"
      }
    },
    {
      "cell_type": "code",
      "execution_count": 36,
      "metadata": {
        "id": "Tu6t6uREFR52"
      },
      "outputs": [],
      "source": [
        "log_muestras2 = log_muestras[:]\n",
        "muestras2 = muestras[:]"
      ]
    },
    {
      "cell_type": "markdown",
      "source": [
        "21- Se elimina la muestra Sin ATc - 2 de la lista de muestra a procesar\n",
        "\n"
      ],
      "metadata": {
        "id": "jwHsOkJjQNG8"
      }
    },
    {
      "cell_type": "code",
      "execution_count": 37,
      "metadata": {
        "id": "J9ttwd8GFcCP",
        "colab": {
          "base_uri": "https://localhost:8080/",
          "height": 36
        },
        "outputId": "c92fa627-37e1-4ee5-8c98-35118b8762d6"
      },
      "outputs": [
        {
          "output_type": "execute_result",
          "data": {
            "text/plain": [
              "'Sin ATc - 2'"
            ],
            "application/vnd.google.colaboratory.intrinsic+json": {
              "type": "string"
            }
          },
          "metadata": {},
          "execution_count": 37
        }
      ],
      "source": [
        "log_muestras2.pop(1)\n",
        "muestras2.pop(1)"
      ]
    },
    {
      "cell_type": "code",
      "execution_count": 38,
      "metadata": {
        "id": "bpCqeWC7Fwx0",
        "colab": {
          "base_uri": "https://localhost:8080/"
        },
        "outputId": "e9af888a-f0b2-4acc-9552-c9991ad082ef"
      },
      "outputs": [
        {
          "output_type": "execute_result",
          "data": {
            "text/plain": [
              "['Sin ATc - 1',\n",
              " 'Sin ATc - 3',\n",
              " 'Sin ATc - 5',\n",
              " '0.25 ATc - 1',\n",
              " '0.25 ATc - 3',\n",
              " '0.25 ATc - 4',\n",
              " '0.25 ATc - 5']"
            ]
          },
          "metadata": {},
          "execution_count": 38
        }
      ],
      "source": [
        "muestras2"
      ]
    },
    {
      "cell_type": "markdown",
      "source": [
        "El resto del procesamiento es igual al del caso anterior con todas las muestras"
      ],
      "metadata": {
        "id": "4tXArO1IXpJQ"
      }
    },
    {
      "cell_type": "code",
      "source": [
        "df2['conteo_0'] = (df2[muestras2[:3]] != 0 ).sum(axis=1)\n",
        "df2['conteo_0.25'] = (df2[muestras2[3:]] != 0 ).sum(axis=1)\n",
        "\n",
        "\n",
        "df2 = df2[(df2['conteo_0'] >= 3) | (df2['conteo_0.25'] >= 3)]"
      ],
      "metadata": {
        "id": "SfetUEkwQxWG"
      },
      "execution_count": 39,
      "outputs": []
    },
    {
      "cell_type": "code",
      "execution_count": 40,
      "metadata": {
        "colab": {
          "base_uri": "https://localhost:8080/"
        },
        "outputId": "f779c4a8-63ea-4691-eb42-000e5e4ba4c0",
        "id": "AGAFp4iLRVvM"
      },
      "outputs": [
        {
          "output_type": "stream",
          "name": "stdout",
          "text": [
            "Cantidad de filas restantes: 2171\n"
          ]
        }
      ],
      "source": [
        "print('Cantidad de filas restantes:', df2.shape[0])"
      ]
    },
    {
      "cell_type": "code",
      "execution_count": 41,
      "metadata": {
        "id": "beFJ1_GqRVvN"
      },
      "outputs": [],
      "source": [
        "def fill_na(x):\n",
        "  if x == 0:\n",
        "    a = np.nan\n",
        "  else:\n",
        "    a = math.log(x, 2)\n",
        "    return a"
      ]
    },
    {
      "cell_type": "code",
      "execution_count": 42,
      "metadata": {
        "colab": {
          "base_uri": "https://localhost:8080/"
        },
        "id": "9IBN7xVvRVvO",
        "outputId": "f630781f-33fb-4a11-a7d9-59778f7c24fd"
      },
      "outputs": [
        {
          "output_type": "stream",
          "name": "stderr",
          "text": [
            "/usr/local/lib/python3.7/dist-packages/ipykernel_launcher.py:5: SettingWithCopyWarning:\n",
            "\n",
            "\n",
            "A value is trying to be set on a copy of a slice from a DataFrame.\n",
            "Try using .loc[row_indexer,col_indexer] = value instead\n",
            "\n",
            "See the caveats in the documentation: https://pandas.pydata.org/pandas-docs/stable/user_guide/indexing.html#returning-a-view-versus-a-copy\n",
            "\n"
          ]
        }
      ],
      "source": [
        "log_muestras2 = []\n",
        "for muestra in muestras2:\n",
        "  nombre = 'log_' + muestra\n",
        "  log_muestras2.append(nombre)\n",
        "  df2[nombre] = df2[muestra].apply(fill_na)"
      ]
    },
    {
      "cell_type": "code",
      "execution_count": 43,
      "metadata": {
        "id": "EhCt2kDGRVvQ"
      },
      "outputs": [],
      "source": [
        "df2[log_muestras2] = padua.imputation.gaussian(df2[log_muestras2], width=0.3, downshift=-1.8, prefix=None)[0]"
      ]
    },
    {
      "cell_type": "markdown",
      "source": [
        "Una muestra de como queda formateado el dataframe"
      ],
      "metadata": {
        "id": "EgVqh92cRVvR"
      }
    },
    {
      "cell_type": "code",
      "execution_count": 44,
      "metadata": {
        "colab": {
          "base_uri": "https://localhost:8080/",
          "height": 206
        },
        "outputId": "cbfd545a-0aef-4549-9161-502c36339dc0",
        "id": "dhi6BboRRVvR"
      },
      "outputs": [
        {
          "output_type": "execute_result",
          "data": {
            "text/plain": [
              "   log_Sin ATc - 1  log_Sin ATc - 3  log_Sin ATc - 5  log_0.25 ATc - 1  \\\n",
              "0        27.595838        27.777748        27.854955         27.409489   \n",
              "1        29.931287        29.904692        30.127802         28.925356   \n",
              "2        26.365246        26.213693        26.468865         25.503822   \n",
              "3        29.538455        29.503606        29.578145         29.558774   \n",
              "4        29.565327        29.616265        29.670134         29.473285   \n",
              "\n",
              "   log_0.25 ATc - 3  log_0.25 ATc - 4  log_0.25 ATc - 5  \n",
              "0         27.409003         27.464353         27.300424  \n",
              "1         29.666651         29.542354         29.794299  \n",
              "2         25.885625         25.904284         25.964970  \n",
              "3         29.478887         29.498327         28.890817  \n",
              "4         29.586545         29.496614         28.570873  "
            ],
            "text/html": [
              "\n",
              "  <div id=\"df-0373ec9b-1d25-489d-b2f1-3eae02abb5f9\">\n",
              "    <div class=\"colab-df-container\">\n",
              "      <div>\n",
              "<style scoped>\n",
              "    .dataframe tbody tr th:only-of-type {\n",
              "        vertical-align: middle;\n",
              "    }\n",
              "\n",
              "    .dataframe tbody tr th {\n",
              "        vertical-align: top;\n",
              "    }\n",
              "\n",
              "    .dataframe thead th {\n",
              "        text-align: right;\n",
              "    }\n",
              "</style>\n",
              "<table border=\"1\" class=\"dataframe\">\n",
              "  <thead>\n",
              "    <tr style=\"text-align: right;\">\n",
              "      <th></th>\n",
              "      <th>log_Sin ATc - 1</th>\n",
              "      <th>log_Sin ATc - 3</th>\n",
              "      <th>log_Sin ATc - 5</th>\n",
              "      <th>log_0.25 ATc - 1</th>\n",
              "      <th>log_0.25 ATc - 3</th>\n",
              "      <th>log_0.25 ATc - 4</th>\n",
              "      <th>log_0.25 ATc - 5</th>\n",
              "    </tr>\n",
              "  </thead>\n",
              "  <tbody>\n",
              "    <tr>\n",
              "      <th>0</th>\n",
              "      <td>27.595838</td>\n",
              "      <td>27.777748</td>\n",
              "      <td>27.854955</td>\n",
              "      <td>27.409489</td>\n",
              "      <td>27.409003</td>\n",
              "      <td>27.464353</td>\n",
              "      <td>27.300424</td>\n",
              "    </tr>\n",
              "    <tr>\n",
              "      <th>1</th>\n",
              "      <td>29.931287</td>\n",
              "      <td>29.904692</td>\n",
              "      <td>30.127802</td>\n",
              "      <td>28.925356</td>\n",
              "      <td>29.666651</td>\n",
              "      <td>29.542354</td>\n",
              "      <td>29.794299</td>\n",
              "    </tr>\n",
              "    <tr>\n",
              "      <th>2</th>\n",
              "      <td>26.365246</td>\n",
              "      <td>26.213693</td>\n",
              "      <td>26.468865</td>\n",
              "      <td>25.503822</td>\n",
              "      <td>25.885625</td>\n",
              "      <td>25.904284</td>\n",
              "      <td>25.964970</td>\n",
              "    </tr>\n",
              "    <tr>\n",
              "      <th>3</th>\n",
              "      <td>29.538455</td>\n",
              "      <td>29.503606</td>\n",
              "      <td>29.578145</td>\n",
              "      <td>29.558774</td>\n",
              "      <td>29.478887</td>\n",
              "      <td>29.498327</td>\n",
              "      <td>28.890817</td>\n",
              "    </tr>\n",
              "    <tr>\n",
              "      <th>4</th>\n",
              "      <td>29.565327</td>\n",
              "      <td>29.616265</td>\n",
              "      <td>29.670134</td>\n",
              "      <td>29.473285</td>\n",
              "      <td>29.586545</td>\n",
              "      <td>29.496614</td>\n",
              "      <td>28.570873</td>\n",
              "    </tr>\n",
              "  </tbody>\n",
              "</table>\n",
              "</div>\n",
              "      <button class=\"colab-df-convert\" onclick=\"convertToInteractive('df-0373ec9b-1d25-489d-b2f1-3eae02abb5f9')\"\n",
              "              title=\"Convert this dataframe to an interactive table.\"\n",
              "              style=\"display:none;\">\n",
              "        \n",
              "  <svg xmlns=\"http://www.w3.org/2000/svg\" height=\"24px\"viewBox=\"0 0 24 24\"\n",
              "       width=\"24px\">\n",
              "    <path d=\"M0 0h24v24H0V0z\" fill=\"none\"/>\n",
              "    <path d=\"M18.56 5.44l.94 2.06.94-2.06 2.06-.94-2.06-.94-.94-2.06-.94 2.06-2.06.94zm-11 1L8.5 8.5l.94-2.06 2.06-.94-2.06-.94L8.5 2.5l-.94 2.06-2.06.94zm10 10l.94 2.06.94-2.06 2.06-.94-2.06-.94-.94-2.06-.94 2.06-2.06.94z\"/><path d=\"M17.41 7.96l-1.37-1.37c-.4-.4-.92-.59-1.43-.59-.52 0-1.04.2-1.43.59L10.3 9.45l-7.72 7.72c-.78.78-.78 2.05 0 2.83L4 21.41c.39.39.9.59 1.41.59.51 0 1.02-.2 1.41-.59l7.78-7.78 2.81-2.81c.8-.78.8-2.07 0-2.86zM5.41 20L4 18.59l7.72-7.72 1.47 1.35L5.41 20z\"/>\n",
              "  </svg>\n",
              "      </button>\n",
              "      \n",
              "  <style>\n",
              "    .colab-df-container {\n",
              "      display:flex;\n",
              "      flex-wrap:wrap;\n",
              "      gap: 12px;\n",
              "    }\n",
              "\n",
              "    .colab-df-convert {\n",
              "      background-color: #E8F0FE;\n",
              "      border: none;\n",
              "      border-radius: 50%;\n",
              "      cursor: pointer;\n",
              "      display: none;\n",
              "      fill: #1967D2;\n",
              "      height: 32px;\n",
              "      padding: 0 0 0 0;\n",
              "      width: 32px;\n",
              "    }\n",
              "\n",
              "    .colab-df-convert:hover {\n",
              "      background-color: #E2EBFA;\n",
              "      box-shadow: 0px 1px 2px rgba(60, 64, 67, 0.3), 0px 1px 3px 1px rgba(60, 64, 67, 0.15);\n",
              "      fill: #174EA6;\n",
              "    }\n",
              "\n",
              "    [theme=dark] .colab-df-convert {\n",
              "      background-color: #3B4455;\n",
              "      fill: #D2E3FC;\n",
              "    }\n",
              "\n",
              "    [theme=dark] .colab-df-convert:hover {\n",
              "      background-color: #434B5C;\n",
              "      box-shadow: 0px 1px 3px 1px rgba(0, 0, 0, 0.15);\n",
              "      filter: drop-shadow(0px 1px 2px rgba(0, 0, 0, 0.3));\n",
              "      fill: #FFFFFF;\n",
              "    }\n",
              "  </style>\n",
              "\n",
              "      <script>\n",
              "        const buttonEl =\n",
              "          document.querySelector('#df-0373ec9b-1d25-489d-b2f1-3eae02abb5f9 button.colab-df-convert');\n",
              "        buttonEl.style.display =\n",
              "          google.colab.kernel.accessAllowed ? 'block' : 'none';\n",
              "\n",
              "        async function convertToInteractive(key) {\n",
              "          const element = document.querySelector('#df-0373ec9b-1d25-489d-b2f1-3eae02abb5f9');\n",
              "          const dataTable =\n",
              "            await google.colab.kernel.invokeFunction('convertToInteractive',\n",
              "                                                     [key], {});\n",
              "          if (!dataTable) return;\n",
              "\n",
              "          const docLinkHtml = 'Like what you see? Visit the ' +\n",
              "            '<a target=\"_blank\" href=https://colab.research.google.com/notebooks/data_table.ipynb>data table notebook</a>'\n",
              "            + ' to learn more about interactive tables.';\n",
              "          element.innerHTML = '';\n",
              "          dataTable['output_type'] = 'display_data';\n",
              "          await google.colab.output.renderOutput(dataTable, element);\n",
              "          const docLink = document.createElement('div');\n",
              "          docLink.innerHTML = docLinkHtml;\n",
              "          element.appendChild(docLink);\n",
              "        }\n",
              "      </script>\n",
              "    </div>\n",
              "  </div>\n",
              "  "
            ]
          },
          "metadata": {},
          "execution_count": 44
        }
      ],
      "source": [
        "df2[log_muestras2].head(5)"
      ]
    },
    {
      "cell_type": "markdown",
      "source": [
        "22- Mismo t-test que en el caso anterior pero sin la muestra eliminada\n"
      ],
      "metadata": {
        "id": "KgrnLzjdQZ-r"
      }
    },
    {
      "cell_type": "code",
      "execution_count": 45,
      "metadata": {
        "id": "Y7MU3h6ME30n"
      },
      "outputs": [],
      "source": [
        "df2['pvalue'] = scipy.stats.ttest_ind(df2[log_muestras2[:3]], df2[log_muestras2[3:]], axis=1)[1]"
      ]
    },
    {
      "cell_type": "code",
      "execution_count": 46,
      "metadata": {
        "id": "TteouUd2E30n"
      },
      "outputs": [],
      "source": [
        "df2['log_pvalue'] = df2['pvalue'].apply(lambda x: math.log(x, 10))"
      ]
    },
    {
      "cell_type": "code",
      "execution_count": 47,
      "metadata": {
        "id": "OYmeSVgRE30o",
        "colab": {
          "base_uri": "https://localhost:8080/",
          "height": 206
        },
        "outputId": "151f3e49-222d-4311-97fa-f398947ddfe6"
      },
      "outputs": [
        {
          "output_type": "execute_result",
          "data": {
            "text/plain": [
              "     pvalue  log_pvalue\n",
              "0  0.006035   -2.219338\n",
              "1  0.084367   -1.073827\n",
              "2  0.011995   -1.920997\n",
              "3  0.368823   -0.433182\n",
              "4  0.289228   -0.538760"
            ],
            "text/html": [
              "\n",
              "  <div id=\"df-fd92e168-d54d-4363-9199-dcec6bedc976\">\n",
              "    <div class=\"colab-df-container\">\n",
              "      <div>\n",
              "<style scoped>\n",
              "    .dataframe tbody tr th:only-of-type {\n",
              "        vertical-align: middle;\n",
              "    }\n",
              "\n",
              "    .dataframe tbody tr th {\n",
              "        vertical-align: top;\n",
              "    }\n",
              "\n",
              "    .dataframe thead th {\n",
              "        text-align: right;\n",
              "    }\n",
              "</style>\n",
              "<table border=\"1\" class=\"dataframe\">\n",
              "  <thead>\n",
              "    <tr style=\"text-align: right;\">\n",
              "      <th></th>\n",
              "      <th>pvalue</th>\n",
              "      <th>log_pvalue</th>\n",
              "    </tr>\n",
              "  </thead>\n",
              "  <tbody>\n",
              "    <tr>\n",
              "      <th>0</th>\n",
              "      <td>0.006035</td>\n",
              "      <td>-2.219338</td>\n",
              "    </tr>\n",
              "    <tr>\n",
              "      <th>1</th>\n",
              "      <td>0.084367</td>\n",
              "      <td>-1.073827</td>\n",
              "    </tr>\n",
              "    <tr>\n",
              "      <th>2</th>\n",
              "      <td>0.011995</td>\n",
              "      <td>-1.920997</td>\n",
              "    </tr>\n",
              "    <tr>\n",
              "      <th>3</th>\n",
              "      <td>0.368823</td>\n",
              "      <td>-0.433182</td>\n",
              "    </tr>\n",
              "    <tr>\n",
              "      <th>4</th>\n",
              "      <td>0.289228</td>\n",
              "      <td>-0.538760</td>\n",
              "    </tr>\n",
              "  </tbody>\n",
              "</table>\n",
              "</div>\n",
              "      <button class=\"colab-df-convert\" onclick=\"convertToInteractive('df-fd92e168-d54d-4363-9199-dcec6bedc976')\"\n",
              "              title=\"Convert this dataframe to an interactive table.\"\n",
              "              style=\"display:none;\">\n",
              "        \n",
              "  <svg xmlns=\"http://www.w3.org/2000/svg\" height=\"24px\"viewBox=\"0 0 24 24\"\n",
              "       width=\"24px\">\n",
              "    <path d=\"M0 0h24v24H0V0z\" fill=\"none\"/>\n",
              "    <path d=\"M18.56 5.44l.94 2.06.94-2.06 2.06-.94-2.06-.94-.94-2.06-.94 2.06-2.06.94zm-11 1L8.5 8.5l.94-2.06 2.06-.94-2.06-.94L8.5 2.5l-.94 2.06-2.06.94zm10 10l.94 2.06.94-2.06 2.06-.94-2.06-.94-.94-2.06-.94 2.06-2.06.94z\"/><path d=\"M17.41 7.96l-1.37-1.37c-.4-.4-.92-.59-1.43-.59-.52 0-1.04.2-1.43.59L10.3 9.45l-7.72 7.72c-.78.78-.78 2.05 0 2.83L4 21.41c.39.39.9.59 1.41.59.51 0 1.02-.2 1.41-.59l7.78-7.78 2.81-2.81c.8-.78.8-2.07 0-2.86zM5.41 20L4 18.59l7.72-7.72 1.47 1.35L5.41 20z\"/>\n",
              "  </svg>\n",
              "      </button>\n",
              "      \n",
              "  <style>\n",
              "    .colab-df-container {\n",
              "      display:flex;\n",
              "      flex-wrap:wrap;\n",
              "      gap: 12px;\n",
              "    }\n",
              "\n",
              "    .colab-df-convert {\n",
              "      background-color: #E8F0FE;\n",
              "      border: none;\n",
              "      border-radius: 50%;\n",
              "      cursor: pointer;\n",
              "      display: none;\n",
              "      fill: #1967D2;\n",
              "      height: 32px;\n",
              "      padding: 0 0 0 0;\n",
              "      width: 32px;\n",
              "    }\n",
              "\n",
              "    .colab-df-convert:hover {\n",
              "      background-color: #E2EBFA;\n",
              "      box-shadow: 0px 1px 2px rgba(60, 64, 67, 0.3), 0px 1px 3px 1px rgba(60, 64, 67, 0.15);\n",
              "      fill: #174EA6;\n",
              "    }\n",
              "\n",
              "    [theme=dark] .colab-df-convert {\n",
              "      background-color: #3B4455;\n",
              "      fill: #D2E3FC;\n",
              "    }\n",
              "\n",
              "    [theme=dark] .colab-df-convert:hover {\n",
              "      background-color: #434B5C;\n",
              "      box-shadow: 0px 1px 3px 1px rgba(0, 0, 0, 0.15);\n",
              "      filter: drop-shadow(0px 1px 2px rgba(0, 0, 0, 0.3));\n",
              "      fill: #FFFFFF;\n",
              "    }\n",
              "  </style>\n",
              "\n",
              "      <script>\n",
              "        const buttonEl =\n",
              "          document.querySelector('#df-fd92e168-d54d-4363-9199-dcec6bedc976 button.colab-df-convert');\n",
              "        buttonEl.style.display =\n",
              "          google.colab.kernel.accessAllowed ? 'block' : 'none';\n",
              "\n",
              "        async function convertToInteractive(key) {\n",
              "          const element = document.querySelector('#df-fd92e168-d54d-4363-9199-dcec6bedc976');\n",
              "          const dataTable =\n",
              "            await google.colab.kernel.invokeFunction('convertToInteractive',\n",
              "                                                     [key], {});\n",
              "          if (!dataTable) return;\n",
              "\n",
              "          const docLinkHtml = 'Like what you see? Visit the ' +\n",
              "            '<a target=\"_blank\" href=https://colab.research.google.com/notebooks/data_table.ipynb>data table notebook</a>'\n",
              "            + ' to learn more about interactive tables.';\n",
              "          element.innerHTML = '';\n",
              "          dataTable['output_type'] = 'display_data';\n",
              "          await google.colab.output.renderOutput(dataTable, element);\n",
              "          const docLink = document.createElement('div');\n",
              "          docLink.innerHTML = docLinkHtml;\n",
              "          element.appendChild(docLink);\n",
              "        }\n",
              "      </script>\n",
              "    </div>\n",
              "  </div>\n",
              "  "
            ]
          },
          "metadata": {},
          "execution_count": 47
        }
      ],
      "source": [
        "df2[['pvalue','log_pvalue']].head(5)"
      ]
    },
    {
      "cell_type": "code",
      "execution_count": 48,
      "metadata": {
        "id": "2iMGNvQuE30o"
      },
      "outputs": [],
      "source": [
        "for muestra in muestras2:\n",
        "  nombre = 'log_' + muestra\n",
        "  df2[muestra] =  2 ** df2[nombre]"
      ]
    },
    {
      "cell_type": "code",
      "execution_count": 49,
      "metadata": {
        "id": "chueZwsxE30p"
      },
      "outputs": [],
      "source": [
        "df2['fold_change'] = df2[muestras2[3:]].mean(axis=1)/df2[muestras2[:3]].mean(axis=1)"
      ]
    },
    {
      "cell_type": "code",
      "execution_count": 50,
      "metadata": {
        "id": "v1QM6RqTE30p"
      },
      "outputs": [],
      "source": [
        "df2['log_fc'] = df2['fold_change'].apply(lambda x: math.log(x, 2))"
      ]
    },
    {
      "cell_type": "code",
      "execution_count": 51,
      "metadata": {
        "id": "OegKT05BE30p",
        "colab": {
          "base_uri": "https://localhost:8080/",
          "height": 206
        },
        "outputId": "01d514e7-6045-42eb-a65c-11b47c7d58fe"
      },
      "outputs": [
        {
          "output_type": "execute_result",
          "data": {
            "text/plain": [
              "     log_fc  log_pvalue\n",
              "0 -0.349855   -2.219338\n",
              "1 -0.473493   -1.073827\n",
              "2 -0.527434   -1.920997\n",
              "3 -0.160112   -0.433182\n",
              "4 -0.283445   -0.538760"
            ],
            "text/html": [
              "\n",
              "  <div id=\"df-2484c29d-6010-441f-9c09-1ec123b0c145\">\n",
              "    <div class=\"colab-df-container\">\n",
              "      <div>\n",
              "<style scoped>\n",
              "    .dataframe tbody tr th:only-of-type {\n",
              "        vertical-align: middle;\n",
              "    }\n",
              "\n",
              "    .dataframe tbody tr th {\n",
              "        vertical-align: top;\n",
              "    }\n",
              "\n",
              "    .dataframe thead th {\n",
              "        text-align: right;\n",
              "    }\n",
              "</style>\n",
              "<table border=\"1\" class=\"dataframe\">\n",
              "  <thead>\n",
              "    <tr style=\"text-align: right;\">\n",
              "      <th></th>\n",
              "      <th>log_fc</th>\n",
              "      <th>log_pvalue</th>\n",
              "    </tr>\n",
              "  </thead>\n",
              "  <tbody>\n",
              "    <tr>\n",
              "      <th>0</th>\n",
              "      <td>-0.349855</td>\n",
              "      <td>-2.219338</td>\n",
              "    </tr>\n",
              "    <tr>\n",
              "      <th>1</th>\n",
              "      <td>-0.473493</td>\n",
              "      <td>-1.073827</td>\n",
              "    </tr>\n",
              "    <tr>\n",
              "      <th>2</th>\n",
              "      <td>-0.527434</td>\n",
              "      <td>-1.920997</td>\n",
              "    </tr>\n",
              "    <tr>\n",
              "      <th>3</th>\n",
              "      <td>-0.160112</td>\n",
              "      <td>-0.433182</td>\n",
              "    </tr>\n",
              "    <tr>\n",
              "      <th>4</th>\n",
              "      <td>-0.283445</td>\n",
              "      <td>-0.538760</td>\n",
              "    </tr>\n",
              "  </tbody>\n",
              "</table>\n",
              "</div>\n",
              "      <button class=\"colab-df-convert\" onclick=\"convertToInteractive('df-2484c29d-6010-441f-9c09-1ec123b0c145')\"\n",
              "              title=\"Convert this dataframe to an interactive table.\"\n",
              "              style=\"display:none;\">\n",
              "        \n",
              "  <svg xmlns=\"http://www.w3.org/2000/svg\" height=\"24px\"viewBox=\"0 0 24 24\"\n",
              "       width=\"24px\">\n",
              "    <path d=\"M0 0h24v24H0V0z\" fill=\"none\"/>\n",
              "    <path d=\"M18.56 5.44l.94 2.06.94-2.06 2.06-.94-2.06-.94-.94-2.06-.94 2.06-2.06.94zm-11 1L8.5 8.5l.94-2.06 2.06-.94-2.06-.94L8.5 2.5l-.94 2.06-2.06.94zm10 10l.94 2.06.94-2.06 2.06-.94-2.06-.94-.94-2.06-.94 2.06-2.06.94z\"/><path d=\"M17.41 7.96l-1.37-1.37c-.4-.4-.92-.59-1.43-.59-.52 0-1.04.2-1.43.59L10.3 9.45l-7.72 7.72c-.78.78-.78 2.05 0 2.83L4 21.41c.39.39.9.59 1.41.59.51 0 1.02-.2 1.41-.59l7.78-7.78 2.81-2.81c.8-.78.8-2.07 0-2.86zM5.41 20L4 18.59l7.72-7.72 1.47 1.35L5.41 20z\"/>\n",
              "  </svg>\n",
              "      </button>\n",
              "      \n",
              "  <style>\n",
              "    .colab-df-container {\n",
              "      display:flex;\n",
              "      flex-wrap:wrap;\n",
              "      gap: 12px;\n",
              "    }\n",
              "\n",
              "    .colab-df-convert {\n",
              "      background-color: #E8F0FE;\n",
              "      border: none;\n",
              "      border-radius: 50%;\n",
              "      cursor: pointer;\n",
              "      display: none;\n",
              "      fill: #1967D2;\n",
              "      height: 32px;\n",
              "      padding: 0 0 0 0;\n",
              "      width: 32px;\n",
              "    }\n",
              "\n",
              "    .colab-df-convert:hover {\n",
              "      background-color: #E2EBFA;\n",
              "      box-shadow: 0px 1px 2px rgba(60, 64, 67, 0.3), 0px 1px 3px 1px rgba(60, 64, 67, 0.15);\n",
              "      fill: #174EA6;\n",
              "    }\n",
              "\n",
              "    [theme=dark] .colab-df-convert {\n",
              "      background-color: #3B4455;\n",
              "      fill: #D2E3FC;\n",
              "    }\n",
              "\n",
              "    [theme=dark] .colab-df-convert:hover {\n",
              "      background-color: #434B5C;\n",
              "      box-shadow: 0px 1px 3px 1px rgba(0, 0, 0, 0.15);\n",
              "      filter: drop-shadow(0px 1px 2px rgba(0, 0, 0, 0.3));\n",
              "      fill: #FFFFFF;\n",
              "    }\n",
              "  </style>\n",
              "\n",
              "      <script>\n",
              "        const buttonEl =\n",
              "          document.querySelector('#df-2484c29d-6010-441f-9c09-1ec123b0c145 button.colab-df-convert');\n",
              "        buttonEl.style.display =\n",
              "          google.colab.kernel.accessAllowed ? 'block' : 'none';\n",
              "\n",
              "        async function convertToInteractive(key) {\n",
              "          const element = document.querySelector('#df-2484c29d-6010-441f-9c09-1ec123b0c145');\n",
              "          const dataTable =\n",
              "            await google.colab.kernel.invokeFunction('convertToInteractive',\n",
              "                                                     [key], {});\n",
              "          if (!dataTable) return;\n",
              "\n",
              "          const docLinkHtml = 'Like what you see? Visit the ' +\n",
              "            '<a target=\"_blank\" href=https://colab.research.google.com/notebooks/data_table.ipynb>data table notebook</a>'\n",
              "            + ' to learn more about interactive tables.';\n",
              "          element.innerHTML = '';\n",
              "          dataTable['output_type'] = 'display_data';\n",
              "          await google.colab.output.renderOutput(dataTable, element);\n",
              "          const docLink = document.createElement('div');\n",
              "          docLink.innerHTML = docLinkHtml;\n",
              "          element.appendChild(docLink);\n",
              "        }\n",
              "      </script>\n",
              "    </div>\n",
              "  </div>\n",
              "  "
            ]
          },
          "metadata": {},
          "execution_count": 51
        }
      ],
      "source": [
        "df2[['log_fc', 'log_pvalue']].head(5)"
      ]
    },
    {
      "cell_type": "code",
      "execution_count": 52,
      "metadata": {
        "id": "7eRXgqgcE30q"
      },
      "outputs": [],
      "source": [
        "df2.rename(columns = {'Majority protein IDs': 'Ra_UNIPROT'}, inplace = True)"
      ]
    },
    {
      "cell_type": "code",
      "execution_count": 53,
      "metadata": {
        "id": "87ca_3p9E30q"
      },
      "outputs": [],
      "source": [
        "merged_df2 = df2.merge(df_rv_ra, how = 'outer', on = 'Ra_UNIPROT')"
      ]
    },
    {
      "cell_type": "code",
      "execution_count": 54,
      "metadata": {
        "id": "Qfxh8aTF7Q--"
      },
      "outputs": [],
      "source": [
        "## Redondeos \n",
        "\n",
        "merged_df2['fold_change'] = merged_df2['fold_change'].round(decimals = 2)\n",
        "merged_df2['pvalue'] = merged_df2['pvalue'].round(decimals = 4)\n",
        "\n",
        "## Eliminacion de locus no vistos o sin ortologos en ra \n",
        "\n",
        "merged_df2 = merged_df2[merged_df2['fold_change'].notnull()]"
      ]
    },
    {
      "cell_type": "code",
      "execution_count": 55,
      "metadata": {
        "id": "8-T8SsS2E30r",
        "colab": {
          "base_uri": "https://localhost:8080/",
          "height": 542
        },
        "outputId": "2e9cff46-f827-406b-d025-c2b9d3a414fb"
      },
      "outputs": [
        {
          "output_type": "display_data",
          "data": {
            "text/html": [
              "<html>\n",
              "<head><meta charset=\"utf-8\" /></head>\n",
              "<body>\n",
              "    <div>            <script src=\"https://cdnjs.cloudflare.com/ajax/libs/mathjax/2.7.5/MathJax.js?config=TeX-AMS-MML_SVG\"></script><script type=\"text/javascript\">if (window.MathJax) {MathJax.Hub.Config({SVG: {font: \"STIX-Web\"}});}</script>                <script type=\"text/javascript\">window.PlotlyConfig = {MathJaxConfig: 'local'};</script>\n",
              "        <script src=\"https://cdn.plot.ly/plotly-2.8.3.min.js\"></script>                <div id=\"ef1020e1-25af-4f6e-b717-e5dee8df192b\" class=\"plotly-graph-div\" style=\"height:525px; width:100%;\"></div>            <script type=\"text/javascript\">                                    window.PLOTLYENV=window.PLOTLYENV || {};                                    if (document.getElementById(\"ef1020e1-25af-4f6e-b717-e5dee8df192b\")) {                    Plotly.newPlot(                        \"ef1020e1-25af-4f6e-b717-e5dee8df192b\",                        [{\"customdata\":[[\"dnaA\",\"chromosomal replication initiator protein DnaA\",0.006,0.78],[\"dnaN\",\"DNA polymerase III subunit beta\",0.0844,0.72],[\"recF\",\"DNA replication/repair protein RecF\",0.012,0.69],[\"gyrB\",\"DNA gyrase subunit B\",0.3688,0.89],[\"gyrA\",\"DNA gyrase subunit A\",0.2892,0.82],[null,\"membrane protein\",0.659,1.16],[null,\"cell wall synthesis protein CwsA\",0.188,1.87],[\"ppiA\",\"iron-regulated peptidyl-prolyl cis-trans isomerase PpiA\",0.0281,1.4],[null,null,0.0672,0.67],[\"trpG\",\"anthranilate synthase component II\",0.4988,0.95],[\"pknB\",\"serine/threonine-protein kinase PknB\",0.8451,1.04],[\"pknA\",\"serine/threonine-protein kinase PknA\",0.7652,0.98],[\"pbpA\",\"penicillin-binding protein PbpA\",0.3599,1.4],[\"pstP\",\"phosphoserine/threonine phosphatase PstP\",0.2852,1.13],[\"fhaB\",\"FHA domain-containing protein FhaB\",0.9207,1.05],[\"fhaA\",\"FHA domain-containing protein FhaA\",0.3115,1.19],[null,\"transcriptional regulator\",0.0266,0.76],[null,\"hypothetical protein Rv0029\",0.0665,0.74],[null,\"hypothetical protein Rv0034\",0.0314,0.65],[\"fadD34\",\"fatty-acid--CoA ligase FadD34\",0.1369,0.76],[null,\"hypothetical protein Rv0036c\",0.7677,0.98],[null,\"hypothetical protein Rv0038\",0.2799,0.84],[\"leuS\",\"leucine--tRNA ligase\",0.1178,1.17],[null,\"transcriptional regulator\",0.4996,0.89],[null,\"HTH-type transcriptional regulator\",0.9127,1.17],[null,\"oxidoreductase\",0.7605,0.98],[null,\"hydrolase\",0.0981,0.84],[\"ino1\",\"inositol-3-phosphate synthase\",0.0279,0.64],[null,\"hypothetical protein Rv0047c\",0.0066,1.52],[null,\"membrane protein\",0.4017,1.27],[\"ponA1\",\"bifunctional penicillin-insensitive transglycosylase/penicillin-sensitive transpeptidase\",0.9377,1.05],[null,\"transmembrane protein\",0.3084,0.77],[null,\"hypothetical protein Rv0052\",0.6726,1.09],[\"rpsF\",\"30S ribosomal protein S6\",0.0628,0.7],[\"ssb\",\"single-strand DNA-binding protein\",0.0122,1.19],[\"rpsR1\",\"30S ribosomal protein S18\",0.0096,0.48],[\"rplI\",\"50S ribosomal protein L9\",0.0533,1.39],[null,\"hypothetical protein Rv0059\",0.8332,1.01],[null,\"hypothetical protein Rv0060\",0.3555,0.87],[\"celA1\",\"cellulase CelA\",0.082,0.76],[null,\"oxidoreductase\",0.7466,0.98],[\"icd2\",\"isocitrate dehydrogenase\",0.0851,1.11],[null,\"transcriptional regulator\",0.8448,1.07],[null,\"oxidoreductase\",0.0176,0.75],[\"sdaA\",\"L-serine dehydratase\",0.0254,0.59],[\"glyA2\",\"serine hydroxymethyltransferase\",0.0315,0.73],[null,\"glutamine ABC transporter permease\",0.807,1.09],[null,\"glutamine ABC transporter ATP-binding protein\",0.1281,0.56],[null,\"hypothetical protein Rv0074\",0.4555,0.89],[null,\"aminotransferase\",0.6163,0.95],[null,\"oxidoreductase\",0.0314,0.77],[null,\"transcriptional regulator\",0.9351,1.07],[null,\"hypothetical protein Rv0078A\",0.1078,1.18],[null,\"polyketide cyclase/dehydrase\",0.9139,0.98],[\"mtn\",\"bifunctional 5\\\\\\\\'-methylthioadenosine nucleosidase /S-adenosylhomocysteine nucleosidase\",0.7898,0.98],[null,\"oxidoreductase\",0.042,0.39],[\"fadD10\",\"fatty-acid--CoA ligase FadD10\",0.0026,0.47],[\"nrp\",\"peptide synthetase Nrp\",0.0416,0.62],[null,\"hypothetical protein Rv0106\",0.0011,3.98],[\"ctpI\",\"cation-transporter ATPase I\",0.6813,0.9],[null,\"hypothetical protein Rv0108c\",0.0203,0.37],[\"oxyS\",\"oxidative stress response regulatory protein OxyS\",0.0143,0.8],[\"oxcA\",\"oxalyl-CoA decarboxylase OxcA\",0.8054,1.03],[\"fadD7\",\"fatty-acid--CoA ligase FadD7\",0.8367,0.99],[\"fusA2\",\"elongation factor G\",0.0126,0.74],[null,\"hypothetical protein Rv0123\",0.121,1.23],[\"pepA\",\"serine protease PepA\",0.0013,0.43],[\"treS\",\"trehalose synthase/amylase TreS\",0.1345,1.19],[\"mak\",\"maltokinase\",0.7405,0.96],[\"fbpC\",\"diacylglycerol acyltransferase/mycolyltransferase Ag85C\",0.7667,1.04],[\"htdZ\",\"3-hydroxyl-thioester dehydratase\",0.393,0.76],[\"fadE1\",\"acyl-CoA dehydrogenase FadE1\",0.0883,0.66],[null,\"GCN5-like N-acetyltransferase\",0.0382,1.52],[\"ephF\",\"epoxide hydrolase EphF\",0.3517,1.18],[null,\"transcriptional regulator\",0.9436,1.02],[\"cyp138\",\"cytochrome P450 Cyp138\",0.2292,1.14],[\"msrA\",\"peptide methionine sulfoxide reductase MsrA\",0.8185,1.04],[null,\"hypothetical protein Rv0138\",0.0516,1.35],[null,\"oxidoreductase\",0.8625,0.98],[null,\"hypothetical protein Rv0140\",0.2756,0.83],[null,\"hypothetical protein Rv0141c\",0.5973,0.94],[null,\"transcriptional regulator\",0.3117,0.88],[null,\"S-adenosylmethionine-dependent methyltransferase\",0.6864,1.13],[null,\"S-adenosylmethionine-dependent methyltransferase\",0.0139,1.49],[null,\"aldehyde dehydrogenase\",0.1319,0.76],[null,\"short-chain type dehydrogenase/reductase\",0.7673,1.02],[null,\"quinone oxidoreductase\",0.0772,0.83],[\"ptbB\",\"phosphotyrosine protein phosphatase\",0.2496,1.07],[\"fadE2\",\"acyl-CoA dehydrogenase FadE2\",0.4251,1.19],[\"pntAa\",\"NAD(P) transhydrogenase subunit alpha PntAa\",0.8444,1.05],[\"pntB\",\"NAD(P) transhydrogenase subunit beta PntB\",0.1198,1.42],[null,\"transcriptional regulator\",0.7047,0.96],[null,\"oxidoreductase\",0.1209,0.84],[\"adhE1\",\"zinc-type alcohol dehydrogenase subunit E\",0.6647,0.94],[null,\"hypothetical protein Rv0163\",0.229,0.91],[\"TB18.5\",\"hypothetical protein Rv0164\",0.6366,1.14],[\"fadD5\",\"fatty-acid--CoA ligase FadD5\",0.0165,0.51],[\"yrbE1A\",\"membrane protein\",0.6066,0.9],[\"mce1A\",\"Mce family protein Mce1A\",0.9493,1.06],[\"mce1B\",\"Mce family protein Mce1B\",0.9638,1.1],[\"mce1C\",\"Mce family protein Mce1C\",0.9247,1.02],[\"mce1D\",\"Mce family protein Mce1D\",0.7439,0.95],[\"lprK\",\"Mce family lipoprotein LprK\",0.8729,1.01],[\"mce1F\",\"Mce family protein Mce1F\",0.838,0.99],[null,\"Mce associated membrane protein\",0.6905,0.94],[null,\"Mce associated transmembrane protein\",0.9596,0.97],[null,\"Mce associated protein\",0.9044,1.02],[null,\"Mce associated membrane protein\",0.7566,1.11],[\"lprO\",\"lipoprotein LprO\",0.4645,0.88],[null,\"transmembrane protein\",0.7917,1.08],[null,\"hypothetical protein Rv0181c\",0.9765,1.0],[\"sigG\",\"ECF RNA polymerase sigma factor SigG\",0.1854,0.86],[null,\"lysophospholipase\",0.6315,0.97],[null,\"hypothetical protein Rv0184\",0.0972,0.86],[\"bglS\",\"beta-glucosidase BglS\",0.8421,0.99],[null,\"O-methyltransferase\",0.3577,1.16],[\"ilvD\",\"dihydroxy-acid dehydratase\",0.0197,0.72],[null,\"hypothetical protein Rv0190\",0.1044,1.79],[null,\"HTH-type transcriptional regulator\",0.8399,1.01],[\"zmp1\",\"zinc metalloprotease\",0.0564,0.79],[null,\"transmembrane protein\",0.6554,1.3],[\"mmpL11\",\"transmembrane transport protein MmpL11\",0.2422,1.49],[\"mmpL3\",\"transmembrane transport protein MmpL3\",0.355,1.32],[null,\"hypothetical protein Rv0207c\",0.1356,1.27],[null,\"tRNA (guanine-N(7)-)-methyltransferase\",0.2707,1.13],[\"pckA\",\"phosphoenolpyruvate carboxykinase\",0.0781,1.28],[\"nadR\",\"transcriptional regulator NadR\",0.2863,0.85],[\"fadD4\",\"fatty-acid--CoA ligase FadD4\",0.0035,0.77],[null,\"hydratase\",0.0272,0.7],[\"lipW\",\"esterase LipW\",0.1438,0.74],[\"lipC\",\"esterase LipC\",0.0233,0.58],[null,\"diacyglycerol O-acyltransferase\",0.0197,0.66],[\"echA1\",\"enoyl-CoA hydratase EchA1\",0.9163,1.0],[null,\"aldehyde dehydrogenase\",0.693,1.04],[null,\"membrane protein\",0.8201,1.09],[null,\"hypothetical protein Rv0229c\",0.3628,1.25],[\"php\",\"phosphotriesterase\",0.0369,0.8],[\"fadE4\",\"acyl-CoA dehydrogenase FadE4\",0.0064,0.83],[null,\"transcriptional regulator\",0.1606,0.78],[\"gabD1\",\"succinate-semialdehyde dehydrogenase\",0.3476,0.95],[\"lpqI\",\"lipoprotein LpqI\",0.3261,0.84],[null,\"transcriptional regulator\",0.1839,1.13],[\"vapC24\",\"ribonuclease VapC24\",0.3755,1.09],[\"htdX\",\"3-hydroxyacyl-thioester dehydratase HtdX\",0.6026,1.16],[\"fabG4\",\"3-oxoacyl-ACP reductase FabG\",0.8924,1.0],[\"fadA2\",\"acetyl-CoA acetyltransferase FadA\",0.0602,0.8],[\"fadE5\",\"acyl-CoA dehydrogenase FadE5\",0.5595,1.14],[null,\"oxidoreductase\",0.0152,1.42],[null,\"succinate dehydrogenase iron-sulfur subunit\",0.8077,1.08],[null,\"succinate dehydrogenase flavoprotein subunit\",0.3264,1.09],[null,\"succinate dehydrogenase membrane anchor subunit\",0.5126,1.26],[null,\"hypothetical protein Rv0250c\",0.6133,1.13],[\"hsp\",\"heat shock protein\",0.0663,2.42],[\"cobU\",\"bifunctional cobinamide kinase/cobinamide phosphate guanylyltransferase\",0.7494,1.06],[\"cobQ1\",\"cobyric acid synthase\",0.2727,0.88],[\"aac\",\"aminoglycoside 2\\\\\\\\'-N-acetyltransferase\",0.3039,0.87],[null,\"hypothetical protein Rv0264c\",0.1235,0.75],[null,\"iron ABC transporter substrate-binding lipoprotein\",0.9833,1.01],[\"oplA\",\"5-oxoprolinase OplA\",0.0437,1.37],[null,\"PemK-like protein\",0.0437,1.37],[null,\"hypothetical protein Rv0269c\",0.3378,0.78],[\"fadD2\",\"fatty-acid--CoA ligase FadD2\",0.061,0.91],[\"fadE6\",\"acyl-CoA dehydrogenase FadE6\",0.0074,0.82],[null,\"hypothetical protein Rv0272c\",0.1175,0.72],[null,\"transcriptional regulator\",0.0953,0.5],[\"PPE3\",\"PPE family protein PPE3\",0.0774,3.45],[null,\"S-adenosylmethionine-dependent methyltransferase\",0.3634,0.87],[\"eccA3\",\"ESX-3 secretion system protein EccA\",0.034,1.31],[\"eccB3\",\"ESX-3 secretion system protein EccB3\",0.2726,1.34],[\"eccC3\",\"ESX-3 secretion system protein EccC3\",0.0751,1.68],[\"esxG\",\"ESAT-6 like protein EsxG\",0.4877,0.81],[\"espG3\",\"ESX-3 secretion-associated protein EspG3\",0.0509,0.74],[\"eccD3\",\"ESX-3 secretion system protein EccD\",0.3518,1.29],[\"mycP3\",\"membrane-anchored mycosin MycP\",0.0819,1.5],[\"eccE3\",\"ESX-3 secretion system protein EccE\",0.2314,1.45],[null,\"hypothetical protein Rv0293c\",0.7239,0.97],[\"tam\",\"trans-aconitate methyltransferase\",0.3016,1.13],[null,\"hypothetical protein Rv0295c\",0.3453,0.91],[null,\"sulfatase\",0.6438,0.96],[\"vapB2\",\"antitoxin VapB2\",0.744,1.13],[\"vapC2\",\"ribonuclease VapC2\",0.0,7.25],[null,\"dehydrogenase/reductase\",0.7695,1.05],[null,\"hypothetical protein Rv0307c\",0.3362,1.28],[null,\"integral membrane protein\",0.9715,0.96],[null,\"hypothetical protein Rv0311\",0.2997,1.38],[null,\"hypothetical protein Rv0312\",0.5857,0.92],[null,\"hypothetical protein Rv0313\",0.6117,1.07],[null,\"membrane protein\",0.7582,1.33],[null,null,0.2309,0.84],[null,\"muconolactone isomerase\",0.0035,1.73],[\"glpQ2\",\"glycerophosphoryl diester phosphodiesterase GlpQ\",0.6394,0.93],[\"pcp\",\"pyrrolidone-carboxylate peptidase\",0.844,1.03],[\"dcd\",\"deoxycytidine triphosphate deaminase\",0.6562,0.96],[null,\"hypothetical protein Rv0323c\",0.4978,0.85],[null,\"transcriptional regulator\",0.4473,0.9],[null,\"transcriptional regulator\",0.5068,1.06],[null,\"hypothetical protein Rv0330c\",0.7537,0.97],[null,\"dehydrogenase/reductase\",0.0852,0.71],[null,\"hypothetical protein Rv0332\",0.2964,1.09],[null,\"hypothetical protein Rv0333\",0.7599,1.03],[\"rmlA\",\"glucose-1-phosphate thymidylyltransferase\",0.7056,1.07],[\"aspC\",\"aspartate aminotransferase\",0.3827,0.87],[null,\"iron-sulfur-binding reductase\",0.6184,1.19],[null,\"transcriptional regulator\",0.1502,0.89],[\"iniB\",\"isoniazid inducible protein IniB\",0.0467,7.36],[\"iniA\",\"isoniazid inductible protein IniA\",0.0372,2.01],[\"iniC\",\"iIsoniazid inductible protein IniC\",0.0466,2.09],[null,\"membrane protein\",0.0033,0.81],[null,\"transcriptional regulator\",0.8067,0.94],[null,\"hypothetical protein Rv0349\",0.041,0.9],[\"dnaK\",\"chaperone protein DnaK\",0.1432,1.22],[\"grpE\",\"stress response protein GrpE\",0.1303,1.25],[\"dnaJ1\",\"chaperone protein DnaJ\",0.9754,1.04],[null,\"hypothetical protein Rv0356c\",0.6696,0.97],[\"purA\",\"adenylosuccinate synthetase\",0.4305,0.91],[null,\"hypothetical protein Rv0360c\",0.5123,0.88],[null,\"membrane protein\",0.0385,1.65],[\"fba\",\"fructose-bisphosphate aldolase\",0.0361,1.25],[null,\"hypothetical protein Rv0365c\",0.8682,1.04],[null,\"hypothetical protein Rv0376c\",0.2924,0.87],[\"secE2\",\"protein translocase subunit SecE\",0.0322,0.79],[null,\"RNA methyltransferase\",0.4393,1.08],[\"pyrE\",\"orotate phosphoribosyltransferase\",0.3986,1.27],[null,\"hypothetical protein Rv0383c\",0.6528,1.16],[\"clpB\",\"chaperone protein ClpB\",0.0081,1.4],[null,\"monooxygenase\",0.4401,1.13],[null,\"transcriptional regulator\",0.0166,0.77],[\"purT\",\"phosphoribosylglycinamide formyltransferase PurT\",0.3596,1.11],[null,\"hypothetical protein Rv0390\",0.1357,0.79],[\"metZ\",\"O-succinylhomoserine sulfhydrylase\",0.135,1.09],[\"ndhA\",\"NADH dehydrogenase NdhA\",0.7345,1.08],[null,\"hypothetical protein Rv0394c\",0.2496,0.87],[\"fadE7\",\"acyl-CoA dehydrogenase FadE7\",0.4386,0.91],[\"fadD30\",\"long-chain-fatty-acid--AMP ligase FadD30\",0.5686,1.05],[\"pks6\",\"membrane bound polyketide synthase\",0.037,0.8],[null,\"beta lactamase-like protein\",0.3851,1.14],[\"fgd1\",\"F420-dependent glucose-6-phosphate dehydrogenase\",0.658,0.95],[\"pta\",\"phosphate acetyltransferase\",0.4569,0.93],[\"ackA\",\"acetate kinase\",0.0931,0.89],[\"pknG\",\"serine/threonine-protein kinase PknG\",0.4004,1.17],[\"glnH\",\"glutamine-binding lipoprotein GlnH\",0.2463,1.34],[null,\"membrane protein\",0.8234,1.08],[\"mutT3\",\"8-oxo-dGTP diphosphatase\",0.042,0.78],[\"thiE\",\"thiamine-phosphate synthase\",0.348,1.12],[\"thiO\",\"thiamine biosynthesis oxidoreductase ThiO\",0.6039,0.93],[\"thiG\",\"thiazole synthase\",0.0475,1.3],[\"lpqL\",\"lipoprotein aminopeptidase LpqL\",0.9885,1.03],[\"lpqM\",\"lipoprotein peptidase LpqM\",0.3361,0.82],[null,\"hypothetical protein Rv0421c\",0.08,1.24],[\"thiD\",\"hydroxymethylpyrimidine/phosphomethylpyrimidine kinase\",0.8905,1.01],[\"thiC\",\"phosphomethylpyrimidine synthase\",0.0017,0.72],[\"ctpH\",\"metal cation transporting ATPase H\",0.387,0.95],[null,\"transmembrane protein\",0.7748,0.95],[\"xthA\",\"exodeoxyribonuclease III protein XthA\",0.3363,0.89],[null,\"GCN5-like N-acetyltransferase\",0.1498,0.88],[\"def\",\"polypeptide deformylase\",0.0601,1.16],[null,\"hypothetical protein Rv0430\",0.3355,0.82],[null,\"tuberculin-like peptide\",0.1343,1.42],[\"sodC\",\"superoxide dismutase\",0.16,1.42],[null,\"carboxylate-amine ligase\",0.8114,0.98],[null,\"ATPase\",0.1618,0.9],[\"psd\",\"phosphatidylserine decarboxylase\",0.6886,0.95],[\"moeA2\",\"molybdopterin molybdenumtransferase\",0.6288,0.94],[null,\"dehydrogenase/reductase\",0.3773,0.94],[\"groEL2\",\"molecular chaperone GroEL\",0.3812,0.93],[null,\"hypothetical protein Rv0443\",0.0316,1.36],[\"rskA\",\"anti-sigma-K factor RskA\",0.7896,0.99],[\"sigK\",\"ECF RNA polymerase sigma factor SigK\",0.4934,1.32],[\"mmpL4\",\"transmembrane transport protein MmpL4\",0.22,1.49],[\"mmpS4\",\"membrane protein MmpS4\",0.8719,1.42],[null,\"transcriptional regulator\",0.9667,1.02],[\"echA2\",\"enoyl-CoA hydratase EchA2\",0.0563,0.86],[null,\"peptidase\",0.0229,1.33],[null,\"aldehyde dehydrogenase\",0.0036,0.55],[null,\"hypothetical protein Rv0459\",0.3982,0.76],[\"lpdC\",\"dihydrolipoamide dehydrogenase\",0.0976,0.83],[null,\"hypothetical protein Rv0464c\",0.3261,1.23],[null,\"HTH-type transcriptional regulator\",0.2031,0.82],[null,\"hypothetical protein Rv0466\",0.1514,1.16],[\"icl1\",\"isocitrate lyase\",0.0371,3.53],[\"fadB2\",\"3-hydroxybutyryl-CoA dehydrogenase\",0.0752,1.46],[\"umaA\",\"mycolic acid synthase UmaA\",0.7029,1.04],[\"pcaA\",\"cyclopropane mycolic acid synthase\",0.0001,0.74],[null,\"HTH-type transcriptional regulator\",0.5367,0.92],[null,\"transmembrane protein\",0.6629,1.35],[null,\"HTH-type transcriptional regulator\",0.3893,0.88],[\"hbhA\",\"heparin binding hemagglutinin HbhA\",0.1648,1.17],[\"deoC\",\"deoxyribose-phosphate aldolase\",0.2324,1.2],[null,\"membrane protein\",0.8687,1.07],[null,\"amidohydrolase\",0.486,1.07],[null,\"hypothetical protein Rv0481c\",0.5106,1.15],[\"murB\",\"UDP-N-acetylenolpyruvoylglucosamine reductase\",0.5114,1.1],[\"lprQ\",\"lipoprotein LprQ\",0.6603,1.1],[null,\"short-chain type oxidoreductase\",0.4657,1.07],[null,\"transcriptional regulator\",0.0012,0.6],[\"mshA\",\"D-inositol 3-phosphate glycosyltransferase\",0.0207,0.78],[null,\"hypothetical protein Rv0487\",0.6333,0.96],[null,null,0.6855,1.04],[\"regX3\",\"two component sensory transduction protein RegX\",0.5235,0.84],[null,\"GMC-type oxidoreductase\",0.7794,1.1],[null,\"hypothetical protein Rv0493c\",0.0092,0.64],[null,\"HTH-type transcriptional regulator\",0.9812,1.04],[null,\"transmembrane protein\",0.9225,1.06],[null,\"hypothetical protein Rv0498\",0.4772,0.91],[null,\"hypothetical protein Rv0499\",0.2875,0.87],[\"proC\",\"pyrroline-5-carboxylate reductase\",0.8415,0.98],[null,\"DNA-binding protein\",0.5634,0.84],[\"galE2\",\"UDP-glucose 4-epimerase GalE\",0.0632,0.7],[null,\"hypothetical protein Rv0502\",0.3123,0.83],[\"cmaA2\",\"cyclopropane mycolic acid synthase\",0.0897,0.86],[null,\"hypothetical protein Rv0504c\",0.3667,0.93],[\"serB1\",\"phosphoserine phosphatase SerB\",0.6005,0.88],[\"hemA\",\"glutamyl-tRNA reductase\",0.0524,0.76],[\"hemC\",\"porphobilinogen deaminase\",0.1051,1.22],[\"hemD\",\"uroporphyrin-III C-methyltransferase\",0.2234,0.71],[\"hemB\",\"delta-aminolevulinic acid dehydratase\",0.4475,1.11],[null,\"transmembrane protein\",0.9488,1.09],[null,\"anti-anti-sigma factor\",0.3245,0.66],[null,\"hypothetical protein Rv0523c\",0.8055,1.04],[null,null,0.1496,0.79],[null,\"hypothetical protein Rv0525\",0.9131,0.98],[null,\"thioredoxin\",0.1264,0.48],[null,\"hypothetical protein Rv0530\",0.0428,1.52],[\"fabH\",\"3-oxoacyl\",0.8864,1.0],[null,\"S-methyl-5\\\\\\\\'-thioadenosine phosphorylase\",0.8986,0.99],[\"galE3\",\"UDP-glucose 4-epimerase GalE\",0.5162,0.92],[null,\"integral membrane protein\",0.5128,1.12],[null,\"membrane protein\",0.7006,0.97],[null,\"dolichyl-phosphate sugar synthase\",0.5442,1.2],[null,\"hypothetical protein Rv0540\",0.0965,1.28],[\"menE\",\"2-succinylbenzoic acid--CoA ligase\",0.1922,0.85],[null,\"hypothetical protein Rv0543c\",0.5147,0.88],[null,\"hypothetical protein Rv0546c\",0.5203,0.94],[null,\"oxidoreductase\",0.3981,0.89],[null,null,0.3036,0.88],[\"vapC3\",\"ribonuclease VapC3\",0.7995,0.91],[\"fadD8\",\"fatty-acid--CoA ligase FadD8\",0.2159,0.93],[null,\"hypothetical protein Rv0552\",0.0487,0.71],[\"menC\",\"muconate cycloisomerase\",0.1314,0.68],[\"bpoC\",\"non-heme bromoperoxidase BpoC\",0.5096,1.07],[null,null,0.5537,1.12],[\"menH\",\"demethylmenaquinone methyltransferase\",0.5243,0.91],[null,\"benzoquinone methyltransferase\",0.1985,0.88],[null,\"oxidoreductase\",0.2306,0.57],[\"grcC1\",\"polyprenyl-diphosphate synthase GrcC\",0.7272,0.96],[\"htpX\",\"protease HtpX\",0.4978,1.18],[\"gpdA1\",\"glycerol-3-phosphate dehydrogenase\",0.012,0.71],[null,\"monooxygenase\",0.0691,0.83],[null,\"hypothetical protein Rv0566c\",0.0167,1.42],[null,\"methyltransferase/methylase\",0.0271,0.64],[\"cyp135B1\",\"cytochrome P450 Cyp135B1\",0.5833,0.94],[null,\"hypothetical protein Rv0571c\",0.0381,0.8],[null,\"transcriptional regulator\",0.8772,0.99],[\"TB27.3\",\"hypothetical protein Rv0577\",0.0225,1.42],[null,\"hypothetical protein Rv0580c\",0.1226,1.29],[\"lpqN\",\"lipoprotein LpqN\",0.6351,1.17],[\"mce2R\",\"HTH-type transcriptional regulator Mce2R\",0.2802,1.13],[\"mce2D\",\"Mce family protein Mce2D\",0.7423,1.33],[null,\"hypothetical protein Rv0597c\",0.4214,0.9],[\"vapC27\",\"ribonuclease VapC27\",0.2734,1.49],[\"tcrA\",\"two component DNA binding transcriptional regulator TcrA\",0.6706,0.98],[\"lpqO\",\"lipoprotein LpqO\",0.9011,1.1],[null,\"hypothetical protein Rv0613c\",0.0033,0.8],[\"recD\",\"exonuclease V subunit alpha RecD\",0.1322,0.85],[\"recB\",\"exonuclease V subunit beta RecB\",0.8308,0.99],[\"recC\",\"exonuclease V subunit gamma RecC\",0.917,0.99],[\"echA3\",\"enoyl-CoA hydratase EchA3\",0.3603,1.13],[null,\"hypothetical protein Rv0633c\",0.5559,0.89],[null,\"glyoxalase II\",0.9654,1.01],[null,\"hypothetical protein Rv0634A\",0.8409,0.99],[\"hadA\",\"(3R)-hydroxyacyl-ACP dehydratase subunit HadA\",0.016,0.81],[\"hadB\",\"(3R)-hydroxyacyl-ACP dehydratase subunit HadB\",0.13,0.88],[\"secE1\",\"preprotein translocase SecE\",0.2427,1.62],[\"nusG\",\"transcription termination/antitermination protein NusG\",0.1839,0.85],[\"rplK\",\"50S ribosomal protein L11\",0.1495,0.88],[\"rplA\",\"50S ribosomal protein L1\",0.2101,1.13],[\"mmaA4\",\"hydroxymycolate synthase MmaA4\",0.0616,0.8],[\"mmaA3\",\"methoxy mycolic acid synthase MmaA3\",0.3153,0.91],[\"mmaA2\",\"cyclopropane mycolic acid synthase CmaA\",0.0176,0.76],[\"mmaA1\",\"mycolic acid methyltransferase MmaA1\",0.1572,0.88],[\"lipG\",\"lipase/esterase LipG\",0.3423,1.16],[null,\"hypothetical protein Rv0647c\",0.9618,1.0],[\"rplJ\",\"50S ribosomal protein L10\",0.7295,1.04],[\"rplL\",\"50S ribosomal protein L7/L12\",0.3517,1.17],[null,\"carotenoid cleavage oxygenase\",0.4844,0.96],[\"mkl\",\"ribonucleotide ABC transporter ATP-binding protein\",0.0526,0.63],[\"rpoB\",\"DNA-directed RNA polymerase subunit beta\",0.2444,1.08],[\"rpoC\",\"DNA-directed RNA polymerase subunit beta\\\\\\\\'\",0.7962,1.02],[null,\"neutral ceramidase\",0.1698,0.81],[\"end\",\"endonuclease IV\",0.0942,0.75],[\"fadE8\",\"acyl-CoA dehydrogenase FadE8\",0.1374,0.88],[\"echA4\",\"enoyl-CoA hydratase EchA4\",0.3981,0.92],[null,\"hypothetical protein Rv0674\",0.5159,0.87],[\"echA5\",\"enoyl-CoA hydratase EchA5\",0.223,0.86],[\"mmpL5\",\"transmembrane transport protein MmpL5\",0.1016,1.6],[\"mmpS5\",\"membrane protein MmpS5\",0.2997,1.41],[null,\"hypothetical protein Rv0678\",0.2017,1.2],[null,\"transcriptional regulator\",0.3461,1.1],[\"rpsG\",\"30S ribosomal protein S7\",0.3096,1.14],[\"fusA1\",\"elongation factor G\",0.0441,1.26],[\"tuf\",\"elongation factor Tu\",0.7782,1.06],[null,\"membrane protein\",0.3703,1.26],[null,\"NAD-dependent oxidoreductase\",0.1604,1.21],[null,\"ferredoxin reductase\",0.0659,0.71],[null,\"hypothetical protein Rv0690c\",0.019,0.57],[null,\"mycofactocin system heme/flavin oxidoreductase MftD\",0.0687,0.73],[null,\"mycofactocin system creatinine amidohydrolase family protein MftE\",0.0142,0.6],[null,\"mycofactocin biosynthesis glycosyltransferase MftF\",0.04,0.52],[null,\"dehydrogenase\",0.0017,0.5],[\"rpsJ\",\"30S ribosomal protein S10\",0.061,0.79],[\"rplC\",\"50S ribosomal protein L3\",0.5288,1.05],[\"rplD\",\"50S ribosomal protein L4\",0.6167,1.09],[\"rplW\",\"50S ribosomal protein L23\",0.2938,0.78],[\"rplB\",\"50S ribosomal protein L2\",0.4134,0.84],[\"rpsS\",\"30S ribosomal protein S19\",0.8039,0.95],[\"rplV\",\"50S ribosomal protein L22\",0.3353,0.94],[\"rpsC\",\"30S ribosomal protein S3\",0.0263,0.69],[\"rplP\",\"50S ribosomal protein L16\",0.5486,0.88],[\"rpmC\",\"50S ribosomal protein L29\",0.2639,1.14],[\"rpsQ\",\"30S ribosomal protein S17\",0.0054,1.42],[\"atsA\",\"arylsulfatase AtsA\",0.0062,1.43],[null,\"hypothetical protein Rv0712\",0.2341,1.1],[null,\"transmembrane protein\",0.7179,1.14],[\"rplN\",\"50S ribosomal protein L14\",0.113,0.72],[\"rplX\",\"50S ribosomal protein L24\",0.5416,0.92],[\"rplE\",\"50S ribosomal protein L5\",0.5132,1.05],[\"rpsH\",\"30S ribosomal protein S8\",0.369,0.92],[\"rplF\",\"50S ribosomal protein L6\",0.5368,0.9],[\"rplR\",\"50S ribosomal protein L18\",0.7478,0.96],[\"rpsE\",\"30S ribosomal protein S5\",0.3848,0.78],[\"rpmD\",\"50S ribosomal protein L30\",0.167,0.77],[\"rplO\",\"50S ribosomal protein L15\",0.6011,1.11],[\"sppA\",\"protease IV SppA\",0.3394,1.07],[null,\"S-adenosylmethionine-dependent methyltransferase\",0.2098,0.9],[\"fucA\",\"L-fuculose phosphate aldolase FucA\",0.3633,0.87],[\"xylB\",\"D-xylulose kinase XylB\",0.7133,0.98],[null,\"GCN5-like N-acetyltransferase\",0.8046,1.02],[null,\"S-adenosylmethionine-dependent methyltransferase\",0.5357,0.95],[\"secY\",\"preprotein translocase SecY\",0.9795,1.0],[\"adk\",\"adenylate kinase\",0.1588,1.26],[\"mapA\",\"methionine aminopeptidase\",0.1102,0.82],[null,\"hypothetical protein Rv0738\",0.0561,1.4],[null,\"hypothetical protein Rv0740\",0.3962,0.89],[null,\"hypothetical protein Rv0743c\",0.0755,0.79],[null,null,0.0167,0.3],[\"mmsB\",\"3-hydroxyisobutyrate dehydrogenase\",0.5919,1.08],[\"fadE9\",\"acyl-CoA dehydrogenase FadE9\",0.1262,0.81],[\"mmsA\",\"methylmalonate-semialdehyde dehydrogenase\",0.6811,0.97],[\"phoP\",\"two component system response transcriptional positive regulator PhoP\",0.3365,0.9],[\"phoR\",\"two component system response sensor kinase PhoR\",0.8272,1.09],[null,\"hypothetical protein Rv0759c\",0.3997,0.93],[null,\"hypothetical protein Rv0760c\",0.0072,0.48],[\"adhB\",\"alcohol dehydrogenase B\",0.001,0.61],[\"cyp51\",\"lanosterol 14-alpha demethylase\",0.4546,1.06],[null,\"oxidoreductase\",0.735,1.0],[\"cyp123\",\"cytochrome P450 Cyp123\",0.2253,0.86],[null,\"HTH-type transcriptional regulator\",0.0255,0.7],[\"aldA\",\"aldehyde dehydrogenase AldA\",0.482,1.06],[null,\"oxidoreductase\",0.1257,1.25],[null,\"oxidoreductase\",0.9299,1.02],[\"purD\",\"phosphoribosylamine--glycine ligase\",0.1266,0.81],[\"ggtA\",\"bifunctional cephalosporin acylase/gamma-glutamyltranspeptidase\",0.9594,1.01],[null,\"hypothetical protein Rv0774c\",0.7755,0.97],[null,\"hypothetical protein Rv0775\",0.6816,0.95],[\"purB\",\"adenylosuccinate lyase PurB\",0.7803,0.98],[\"cyp126\",\"cytochrome P450 Cyp126\",0.1078,0.72],[\"purC\",\"phosphoribosylaminoimidazole-succinocarboxamide synthase\",0.7089,0.97],[null,\"KsdD-like steroid dehydrogenase\",0.0816,0.58],[null,\"hypothetical protein Rv0786c\",0.5465,1.18],[null,\"hypothetical protein Rv0787A\",0.3226,0.78],[\"purQ\",\"phosphoribosylformylglycinamidine synthase\",0.8624,1.02],[null,\"hypothetical protein Rv0791c\",0.8573,1.03],[null,\"transcriptional regulator\",0.3302,0.75],[null,\"oxidoreductase\",0.044,1.24],[\"cfp29\",\"hypothetical protein Rv0798c\",0.1445,1.2],[null,\"hypothetical protein Rv0799c\",0.1332,0.83],[\"pepC\",\"M18 family aminopeptidase\",0.4099,0.87],[null,\"hypothetical protein Rv0801\",0.0875,0.77],[null,\"succinyl-CoA transferase\",0.7462,1.09],[\"purL\",\"phosphoribosylformylglycinamidine synthase 2\",0.1977,0.92],[\"cpsY\",\"exopolysaccharide phosphotransferase CpsY\",0.044,0.43],[null,\"hypothetical protein Rv0807\",0.3811,1.07],[\"purF\",\"amidophosphoribosyltransferase\",0.004,0.71],[\"purM\",\"phosphoribosylformylglycinamidine cyclo-ligase PurM\",0.281,0.9],[null,\"hypothetical protein Rv0811c\",0.9184,1.05],[null,\"amino acid aminotransferase\",0.2805,0.84],[null,\"hypothetical protein Rv0813c\",0.7176,1.06],[null,\"hypothetical protein Rv0814c\",0.0071,0.54],[null,\"hypothetical protein Rv3118\",0.0071,0.54],[\"cysA2\",\"thiosulfate sulfurtransferase CysA\",0.2199,0.8],[\"cysA3\",\"thiosulfate sulfurtransferase\",0.2199,0.8],[null,\"hypothetical protein Rv0817c\",0.2217,1.3],[null,\"transcriptional regulator\",0.1739,0.91],[\"mshD\",\"mycothiol acetyltransferase\",0.7361,0.97],[\"phoT\",\"phosphate ABC transporter ATP-binding protein PhoT\",0.2013,0.78],[\"phoY2\",\"phosphate-transport system transcriptional regulator PhoY2\",0.6505,1.07],[null,\"hypothetical protein Rv0822c\",0.8471,1.02],[null,\"tRNA-dihydrouridine synthase\",0.019,0.69],[\"desA1\",\"acyl-ACP desaturase DesA\",0.0102,0.62],[null,\"hypothetical protein Rv0825c\",0.2977,0.83],[null,\"S-adenosylmethionine-dependent methyltransferase\",0.2434,1.19],[null,\"hypothetical protein Rv0831c\",0.2666,0.92],[\"lpqQ\",\"lipoprotein LpqQ\",0.1732,1.41],[null,\"hypothetical protein Rv0837c\",0.388,0.86],[null,\"hypothetical protein Rv0839\",0.7765,0.78],[\"pip\",\"proline iminopeptidase\",0.4651,0.92],[\"narL\",\"nitrate/nitrite response transcriptional regulator NarL\",0.506,0.95],[null,\"hypothetical protein Rv0852\",0.0444,0.7],[\"pdc\",\"alpha-keto-acid decarboxylase\",0.2498,0.94],[null,\"hypothetical protein Rv0854\",0.4072,1.14],[\"far\",\"fatty-acid-CoA racemase\",0.4708,0.9],[\"dapC\",\"N-succinyldiaminopimelate aminotransferase DapC\",0.452,0.88],[null,\"acyltransferase\",0.6295,1.11],[\"fadB\",\"fatty oxidation protein FadB\",0.1056,1.27],[\"ercc3\",\"DNA helicase Ercc3\",0.1602,0.92],[null,\"hypothetical protein Rv0862c\",0.7252,0.96],[\"moaC2\",\"cyclic pyranopterin monophosphate synthase accessory protein\",0.0343,0.6],[\"mog\",\"molybdopterin biosynthesis protein\",0.2598,0.61],[\"moaE2\",\"molybdopterin synthase catalytic subunit 2\",0.3451,1.27],[\"moaD2\",\"cyclic pyranopterin monophosphate synthase\",0.9924,0.92],[\"cspB\",\"cold shock-like protein CspB\",0.8518,1.02],[\"fadE10\",\"acyl-CoA dehydrogenase FadE10\",0.1421,0.95],[null,\"hypothetical protein Rv0877\",0.8717,1.02],[null,\"HTH-type transcriptional regulator\",0.5413,0.92],[\"serC\",\"phosphoserine aminotransferase\",0.8285,0.99],[null,\"hypothetical protein Rv0885\",0.0784,0.72],[\"fprB\",\"ferredoxin/ferredoxin--NADP reductase\",0.0133,0.63],[null,\"hypothetical protein Rv0887c\",0.1425,0.66],[null,\"hypothetical protein Rv0888\",0.6934,0.99],[\"citA\",\"citrate synthase 2\",0.2177,0.85],[null,\"HTH-type transcriptional regulator\",0.7467,1.08],[null,\"S-adenosylmethionine-dependent methyltransferase\",0.7739,0.75],[\"gltA2\",\"citrate synthase 1\",0.1442,0.8],[null,\"oxidoreductase\",0.0077,0.85],[\"arfA\",\"peptidoglycan-binding protein ArfA\",0.8035,1.08],[\"prrB\",\"two component sensor histidine kinase PrrB\",0.9764,0.99],[\"prrA\",\"two component transcriptional regulator PrrA\",0.5966,0.95],[\"accD3\",\"acetyl-CoAcarboxylase carboxyl transferase subunit beta\",0.2652,0.9],[\"echA6\",\"enoyl-CoA hydratase EchA6\",0.1184,1.28],[null,\"hypothetical protein Rv0906\",0.989,1.0],[null,\"hypothetical protein Rv0907\",0.4095,1.19],[null,\"toxin\",0.0916,0.72],[null,\"hypothetical protein Rv0911\",0.2312,0.88],[null,\"dioxygenase\",0.0571,0.69],[null,\"lipid carrier protein or keto acyl-CoA thiolase\",0.0283,0.66],[null,\"hypothetical protein Rv0923c\",0.1053,0.79],[null,\"hypothetical protein Rv0925c\",0.0287,0.75],[null,\"hypothetical protein Rv0926c\",0.0338,0.77],[null,\"oxidoreductase\",0.6331,1.04],[\"pstS3\",\"phosphate ABC transporter substrate-binding lipoprotein PstS\",0.6873,0.93],[\"pknD\",\"serine/threonine-protein kinase PknD\",0.68,0.94],[\"pstS2\",\"phosphate ABC transporter substrate-binding lipoprotein PstS\",0.6121,1.18],[\"pstB\",\"phosphate ABC transporter ATP-binding protein PstB\",0.7922,0.97],[\"pstS1\",\"phosphate ABC transporter substrate-binding lipoprotein PstS\",0.2894,1.19],[\"mku\",\"non-homologous end joining protein Ku\",0.111,0.84],[\"ligD\",\"multifunctional non-homologous end joining DNA repair protein/ATP dependent DNA ligase LigD\",0.3077,0.85],[null,null,0.0781,0.72],[null,\"oxidoreductase\",0.0241,0.81],[null,\"hypothetical protein Rv0941c\",0.1374,0.59],[\"pgi\",\"glucose-6-phosphate isomerase\",0.459,0.94],[\"uvrD1\",\"ATP-dependent DNA helicase UvrD\",0.3197,0.92],[\"sucC\",\"succinyl-CoA ligase subunit beta\",0.7862,0.98],[\"sucD\",\"succinyl-CoA ligase subunit alpha\",0.948,1.0],[null,\"oxidoreductase\",0.3809,0.94],[null,\"transmembrane protein\",0.5966,1.12],[\"purN\",\"phosphoribosylglycinamide formyltransferase PurN\",0.4017,0.94],[\"purH\",\"bifunctional phosphoribosylaminoimidazolecarboxamide formyltransferase/inosinemonophosphate cyclohydrolase\",0.2516,0.93],[null,\"magnesium chelatase\",0.2569,1.26],[null,\"hypothetical protein Rv0959\",0.625,0.92],[\"vapC9\",\"ribonuclease VapC9\",0.3467,0.83],[null,\"hypothetical protein Rv0966c\",0.7285,1.01],[\"csoR\",\"copper-sensing transcriptional repressor CsoR\",0.0007,5.44],[null,\"hypothetical protein Rv0968\",0.0009,3.3],[\"ctpV\",\"copper-exporting ATPase\",0.0007,3.57],[\"echA7\",\"enoyl-CoA hydratase EchA7\",0.0173,1.69],[\"fadE12\",\"acyl-CoA dehydrogenase FadE12\",0.9326,1.08],[\"accA2\",\"acetyl-/propionyl-CoA carboxylase subunit alpha\",0.0299,1.48],[\"accD2\",\"acetyl-/propionyl-CoA carboxylase subunit beta\",0.025,1.54],[\"fadE13\",\"acyl-CoA dehydrogenase FadE13\",0.0487,1.35],[\"rpmF\",\"50S ribosomal protein L32\",0.696,0.71],[\"mprA\",\"two-component response regulator MrpA\",0.3683,1.21],[\"pepD\",\"serine protease PepD\",0.5489,0.93],[\"moaB2\",\"pterin-4-alpha-carbinolamine dehydratase\",0.0157,1.32],[\"grcC2\",\"polyprenyl-diphosphate synthase GrcC\",0.8567,1.01],[null,\"hypothetical protein Rv0991c\",0.523,1.08],[null,\"hypothetical protein Rv0992c\",0.7823,1.03],[\"galU\",\"UTP--glucose-1-phosphate uridylyltransferase\",0.0785,0.72],[\"moeA1\",\"molybdopterin molybdenumtransferase 1\",0.9251,0.99],[\"rimJ\",\"ribosomal-protein-alanine acetyltransferase RimJ\",0.2465,0.81],[null,\"acetyltransferase\",0.1885,0.84],[null,\"hypothetical protein Rv0999\",0.5012,1.32],[\"arcA\",\"arginine deiminase\",0.0705,0.81],[null,\"hypothetical protein Rv1006\",0.4572,1.18],[\"metS\",\"methionine--tRNA ligase\",0.4181,0.94],[\"tatD\",\"deoxyribonuclease TatD\",0.0683,0.82],[\"ksgA\",\"rRNA small subunit methyltransferase A\",0.0632,0.66],[\"ispE\",\"4-diphosphocytidyl-2-C-methyl-D-erythritol kinase\",0.4177,0.91],[\"pks16\",\"polyketide synthase\",0.1442,1.23],[\"pth\",\"peptidyl-tRNA hydrolase\",0.5621,1.3],[\"rplY\",\"50S ribosomal protein L25\",0.9206,1.01],[\"lpqT\",\"lipoprotein LpqT\",0.4229,1.25],[\"prsA\",\"ribose-phosphate pyrophosphokinase\",0.1432,0.89],[\"glmU\",\"bifunctional UDP-N-acetylglucosamine pyrophosphorylase/glucosamine-1-phosphate N-acetyltransferase\",0.0037,0.68],[null,\"transcriptional regulator\",0.7295,1.04],[\"mfd\",\"transcription-repair coupling factor\",0.0623,0.95],[null,\"nucleoside triphosphate pyrophosphohydrolase\",0.6328,1.1],[\"eno\",\"enolase\",0.7813,1.07],[null,\"hypothetical protein Rv1025\",0.048,1.53],[null,\"hypothetical protein Rv1026\",0.841,1.06],[\"trcR\",\"two component transcriptional regulator TrcR\",0.053,0.72],[null,\"hypothetical protein Rv1043c\",0.4058,0.86],[null,\"hypothetical protein Rv1045\",0.0044,1.51],[null,\"hypothetical protein Rv1056\",0.4095,1.09],[\"fadD14\",\"fatty-acid--CoA ligase FadD14\",0.0329,0.78],[null,\"hypothetical protein Rv1059\",0.0921,0.84],[null,\"hypothetical protein Rv1060\",0.5657,1.14],[null,\"hypothetical protein Rv1061\",0.5812,0.96],[null,\"hypothetical protein Rv1062\",0.5567,0.9],[null,\"NTE family protein\",0.3571,0.87],[\"echA8\",\"enoyl-CoA hydratase EchA8\",0.2045,1.09],[\"echA9\",\"enoyl-CoA hydratase EchA9\",0.3676,0.89],[null,\"transmembrane protein\",0.3546,2.7],[\"fadA3\",\"beta-ketoacyl CoA thiolase FadA\",0.3608,0.87],[\"cbs\",\"cystathionine beta-synthase\",0.2075,0.91],[null,\"hypothetical protein Rv1078\",0.0596,1.73],[\"metB\",\"cystathionine gamma-synthase\",0.6394,0.96],[\"greA\",\"transcription elongation factor GreA\",0.0498,1.5],[\"mca\",\"mycothiol S-conjugate amidase\",0.7171,0.97],[null,\"hypothetical protein Rv1084\",0.437,0.94],[null,null,0.6183,1.04],[\"coaA\",\"pantothenate kinase\",0.0531,0.92],[\"glyA1\",\"serine hydroxymethyltransferase\",0.6669,0.95],[\"desA2\",\"acyl-ACP desaturase DesA\",0.0237,0.62],[\"phoH2\",\"phosphate starvation-inducible protein PsiH\",0.1882,0.81],[null,\"glycosyl hydrolase\",0.0032,0.49],[\"fum\",\"fumarate hydratase\",0.1862,0.84],[null,null,0.2326,0.78],[null,\"hypothetical protein Rv1100\",0.798,1.04],[null,\"hypothetical protein Rv1101c\",0.4961,1.62],[null,\"3 beta-hydroxysteroid dehydrogenase/delta 5-->4-isomerase\",0.4914,0.91],[\"xseA\",\"exodeoxyribonuclease VII large subunit\",0.0151,0.82],[null,\"hypothetical protein Rv1109c\",0.1765,1.54],[\"lytB2\",\"4-hydroxy-3-methylbut-2-enyl diphosphate reductase\",0.2023,0.81],[null,\"hypothetical protein Rv1111c\",0.4711,1.39],[null,\"GTP-binding protein\",0.4414,0.91],[\"vapC32\",\"ribonuclease VapC32\",0.3911,0.71],[null,\"hypothetical protein Rv1117\",0.0202,0.65],[null,\"hypothetical protein Rv1118c\",0.8611,1.0],[\"zwf1\",\"glucose-6-phosphate 1-dehydrogenase\",0.1267,0.81],[\"gnd2\",\"6-phosphogluconate dehydrogenase\",0.3234,1.19],[\"ephC\",\"epoxide hydrolase EphC\",0.1101,0.8],[null,\"hypothetical protein Rv1126c\",0.6403,0.92],[null,null,0.0022,0.73],[null,\"transcriptional regulator\",0.0027,2.65],[\"prpD\",\"methylcitrate dehydratase PrpD\",0.0136,5.94],[\"prpC\",\"methylcitrate synthase PrpC\",0.0406,5.25],[\"metE\",\"5-methyltetrahydropteroyltriglutamate--homocysteine methyltransferase\",0.0753,0.89],[\"echA11\",\"enoyl-CoA hydratase EchA11\",0.0048,0.67],[\"echA10\",\"enoyl-CoA hydratase EchA10\",0.1254,0.81],[\"mcr\",\"alpha-methylacyl-CoA racemase\",0.5043,0.91],[null,\"oxidoreductase\",0.4605,1.08],[null,null,0.5835,0.9],[null,\"NAD-dependent protein deacylase\",0.8209,0.99],[\"omt\",\"O-methyltransferase\",0.1236,0.5],[null,\"hypothetical protein Rv1154c\",0.3621,0.89],[null,\"pyridoxine/pyridoxamine 5\\\\\\\\'-phosphate oxidase\",0.0854,1.21],[null,\"hypothetical protein Rv1156\",0.9544,1.0],[null,\"pterin-4-alpha-carbinolamine dehydratase\",0.0854,1.26],[\"mutT2\",\"8-oxo-dGTP diphosphatase\",0.0247,0.7],[\"narG\",\"nitrate reductase subunit alpha\",0.1713,0.81],[\"narH\",\"nitrate reductase subunit beta\",0.597,1.12],[\"typA\",\"GTP-binding translation elongation factor\",0.2295,1.19],[\"lpqW\",\"monoacyl phosphatidylinositol tetramannoside-binding protein LpqW\",0.578,1.23],[null,\"transcriptional regulator\",0.0327,0.63],[\"mshB\",\"1D-myo-inositol 2-acetamido-2-deoxy-alpha-D-glucopyranoside deacetylase\",0.3389,1.21],[\"fbiC\",\"FO synthase\",0.8903,0.98],[null,null,0.6086,0.93],[null,\"hypothetical protein Rv1176c\",0.12,0.48],[\"fdxC\",\"ferredoxin FdxC\",0.881,1.03],[null,\"aminotransferase\",0.2575,0.83],[\"fadD21\",\"fatty-acid--CoA ligase FadD21\",0.1921,0.87],[\"rocA\",\"pyrroline-5-carboxylate dehydrogenase RocA\",0.0579,0.6],[null,\"proline dehydrogenase\",0.413,0.77],[null,\"hypothetical protein Rv1190\",0.7327,0.96],[null,\"hypothetical protein Rv1191\",0.1895,0.79],[null,\"hypothetical protein Rv1192\",0.0226,1.33],[\"fadD36\",\"fatty-acid--CoA ligase FadD36\",0.301,0.88],[null,\"hypothetical protein Rv1194c\",0.03,0.66],[null,null,0.4776,0.83],[\"esxL\",\"ESAT-6 like protein EsxL\",0.16,0.65],[null,null,0.9975,1.0],[\"dapE\",\"succinyl-diaminopimelate desuccinylase DapE\",0.2169,0.89],[\"fadD6\",\"fatty-acid--CoA ligase FadD6\",0.5237,0.92],[\"folP2\",\"dihydropteroate synthase\",0.4037,0.93],[\"gpgS\",\"glucosyl-3-phosphoglycerate synthase\",0.1547,0.49],[null,\"hypothetical protein Rv1209\",0.0269,3.05],[\"tagA\",\"DNA-3-methyladenine glycosylase I TagA\",0.3883,0.87],[\"glgC\",\"glucose-1-phosphate adenylyltransferase\",0.0999,0.83],[null,\"hypothetical protein Rv1215c\",0.3109,0.85],[null,\"integral membrane protein\",0.0623,2.28],[null,\"tetronasin ABC transporter ATP-binding protein\",0.0189,1.57],[null,\"transcriptional regulator\",0.0833,1.45],[null,\"methyltransferase\",0.1708,1.21],[\"sigE\",\"ECF RNA polymerase sigma factor SigE\",0.1129,1.51],[\"rseA\",\"anti-sigma E factor RseA\",0.2725,1.86],[\"htrA\",\"serine protease HtrA\",0.5871,1.14],[null,\"hypothetical protein Rv1225c\",0.7259,1.08],[\"mrp\",\"multiple resistance/pH adaptation protein\",0.0924,0.77],[null,\"membrane protein\",0.8271,1.05],[null,\"hypothetical protein Rv1232c\",0.0247,0.76],[null,\"transmembrane protein\",0.3447,1.45],[\"lpqY\",\"trehalose ABC transporter substrate-binding lipoprotein LpqY\",0.1668,0.81],[\"sugC\",\"sugar ABC transporter ATP-binding protein SugC\",0.5296,1.07],[\"corA\",\"magnesium and cobalt transport transmembrane protein CorA\",0.5866,0.88],[\"mdh\",\"malate dehydrogenase\",0.9311,1.02],[\"vapC33\",\"ribonuclease VapC33\",0.0043,0.82],[\"lpqZ\",\"lipoprotein LpqZ\",0.0275,2.01],[null,\"short-chain type dehydrogenase/reductase\",0.2608,0.85],[null,\"multifunctional 2-oxoglutarate dehydrogenase E1 component /2-oxoglutarate dehydrogenase dihydrolipoyllysine-residue succinyltransferase\",0.6005,1.05],[null,\"membrane protein\",0.7234,1.1],[null,\"hypothetical protein Rv1251c\",0.1246,0.81],[\"deaD\",\"ATP-dependent RNA helicase DeaD\",0.0159,0.65],[null,\"HTH-type transcriptional regulator\",0.1915,0.81],[\"cyp130\",\"cytochrome P450 Cyp130\",0.0132,0.64],[null,\"oxidoreductase\",0.7352,1.08],[\"udgB\",\"uracil DNA glycosylase\",0.0554,0.72],[null,\"oxidoreductase\",0.3982,0.89],[null,\"hypothetical protein Rv1261c\",0.2373,1.32],[\"amiB2\",\"amidase AmiB\",0.8661,1.03],[null,\"adenylyl cyclase\",0.6276,0.95],[null,\"hypothetical protein Rv1265\",0.2945,1.15],[\"pknH\",\"serine/threonine-protein kinase PknH\",0.9202,1.02],[\"embR\",\"transcriptional regulator EmbR\",0.0074,0.71],[null,\"hypothetical protein Rv1269c\",0.3352,0.75],[\"lprA\",\"lipoprotein LprA\",0.7132,0.96],[\"lprB\",\"lipoprotein LprB\",0.05,1.4],[\"lprC\",\"lipoprotein LprC\",0.5332,1.22],[null,\"hypothetical protein Rv1276c\",0.8366,1.02],[null,\"hypothetical protein Rv1278\",0.0826,1.21],[null,\"GMC-type oxidoreductase\",0.0385,0.81],[\"oppA\",\"oligopeptide ABC transporter substrate-binding lipoprotein OppA\",0.5662,1.18],[\"oppD\",\"oligopeptide ABC transporter ATP-binding protein OppD\",0.4874,1.22],[\"oppB\",\"oligopeptide ABC transporter permease OppB\",0.2272,0.74],[\"canA\",\"beta-carbonic anhydrase\",0.0025,0.68],[\"cysD\",\"sulfate adenylyltransferase subunit 2\",0.0712,0.7],[null,\"bifunctional sulfate adenyltransferase subunit 1 CysN/adenylylsulfate kinase CysC\",0.0151,0.82],[null,\"HTH-type transcriptional regulator\",0.5343,1.09],[null,\"hypothetical protein Rv1288\",0.8589,0.9],[null,\"hypothetical protein Rv1289\",0.5283,0.87],[\"argS\",\"arginine--tRNA ligase\",0.9084,1.02],[\"lysA\",\"diaminopimelate decarboxylase\",0.629,0.95],[\"thrA\",\"homoserine dehydrogenase\",0.006,0.78],[\"thrC\",\"threonine synthase\",0.584,0.94],[\"thrB\",\"homoserine kinase\",0.6596,1.06],[\"rho\",\"transcription termination factor Rho\",0.0434,0.91],[\"rpmE\",\"50S ribosomal protein L31\",0.7836,0.96],[\"prfA\",\"peptide chain release factor PrfA\",0.3436,0.91],[null,\"threonylcarbamoyl-AMP synthase\",0.0312,1.44],[\"atpB\",\"ATP synthase subunit A\",0.0771,2.15],[\"atpF\",\"ATP synthase subunit B\",0.3692,1.35],[\"atpH\",\"ATP synthase subunit b/delta\",0.4753,0.86],[\"atpA\",\"ATP synthase subunit alpha\",0.7393,1.02],[\"atpG\",\"ATP synthase subunit gamma\",0.553,0.9],[\"atpD\",\"ATP synthase subunit beta\",0.1444,0.82],[\"atpC\",\"ATP synthase subunit epsilon\",0.6202,1.09],[null,null,0.4255,1.1],[\"murA\",\"UDP-N-acetylglucosamine 1-carboxyvinyltransferase\",0.048,0.77],[\"ogt\",\"methylated-DNA--protein-cysteine methyltransferase\",0.417,0.92],[\"alkA\",\"bifunctional regulatory protein/DNA repair enzyme AlkA\",0.1222,0.8],[null,\"endonuclease NucS\",0.1371,0.81],[null,\"hypothetical protein Rv1322A\",0.3941,0.86],[\"fadA4\",\"acetyl-CoA acetyltransferase\",0.886,0.99],[null,\"thioredoxin\",0.5072,0.93],[null,null,0.7345,1.02],[null,null,0.5563,1.06],[\"glgP\",\"glycogen phosphorylase\",0.6121,1.04],[\"dinG\",\"ATP-dependent helicase DinG\",0.3578,0.91],[\"pncB1\",\"nicotinic acid phosphoribosyltransferase PncB1\",0.6505,0.95],[null,\"transcriptional regulator\",0.197,1.15],[null,\"hydrolase\",0.1052,0.75],[\"mec\",\"CysO-cysteine peptidase\",0.4641,1.09],[\"cysO\",\"sulfur carrier protein CysO\",0.1495,0.7],[\"cysM\",\"O-phosphoserine sulfhydrylase\",0.7819,0.97],[\"murI\",\"glutamate racemase\",0.9104,0.99],[null,\"hypothetical protein Rv1339\",0.2835,1.09],[\"rphA\",\"ribonuclease PH\",0.3035,1.08],[null,\"non-canonical purine NTP pyrophosphatase\",0.0435,1.25],[\"mbtM\",\"long-chain-fatty-acid--ACP ligase MbtM\",0.2053,1.22],[\"mbtN\",\"acyl-ACP dehydrogenase MbtN\",0.1213,1.63],[\"mbtK\",\"lysine N-acetyltransferase MbtK\",0.1588,1.29],[\"fabG2\",\"3-oxoacyl-ACP reductase FabG\",0.4731,0.92],[null,\"oxidoreductase\",0.4976,0.94],[\"PPE18\",\"PPE family protein PPE18\",0.384,0.75],[\"PPE19\",\"PPE family protein PPE19\",0.384,0.75],[null,\"membrane protein\",0.9215,0.99],[null,\"membrane protein\",0.7869,0.97],[null,\"sigma factor regulatory protein\",0.0705,1.12],[null,\"hypothetical protein Rv1366\",0.3974,0.83],[null,\"hypothetical protein Rv1367c\",0.2604,1.38],[\"lprF\",\"lipoprotein LprF\",0.64,0.94],[null,\"transferase\",0.1264,1.28],[\"pyrR\",\"bifunctional pyrimidine operon regulatory protein/uracil phosphoribosyltransferase\",0.9785,1.06],[\"pyrB\",\"aspartate carbamoyltransferase\",0.524,0.85],[\"pyrC\",\"dihydroorotase\",0.0901,0.79],[\"carA\",\"carbamoyl-phosphate synthase small subunit\",0.226,0.85],[\"carB\",\"carbamoyl-phosphate synthase large subunit\",0.7795,0.99],[\"pyrF\",\"orotidine 5\\\\\\\\'-phosphate decarboxylase\",0.4829,0.87],[\"PPE20\",\"PPE family protein PPE20\",0.0895,0.87],[\"mihF\",\"integration host factor MihF\",0.8087,0.98],[\"gmk\",\"guanylate kinase\",0.8179,1.03],[\"rpoZ\",\"DNA-directed RNA polymerase subunit omega\",0.5001,1.2],[\"dfp\",\"bifunctional phosphopantothenoylcysteine decarboxylase/phosphopantothenate--cysteine ligase\",0.8309,0.98],[\"metK\",\"S-adenosylmethionine synthetase\",0.3574,1.13],[null,\"monoxygenase\",0.0107,0.55],[null,\"HTH-type transcriptional regulator\",0.0176,0.6],[\"vapC10\",\"ribonuclease VapC10\",0.2135,0.69],[\"vapB10\",\"antitoxin VapB10\",0.273,0.58],[\"nlhH\",\"carboxylesterase NlhH\",0.2684,0.8],[\"lipI\",\"lipase\",0.117,0.71],[\"priA\",\"primosomal protein N\\\\\\\\'\",0.4392,0.91],[null,\"transcriptional regulator\",0.1519,1.22],[\"fmt\",\"methionyl-tRNA formyltransferase\",0.3875,1.15],[\"fmu\",\"methyltransferase\",0.2006,1.06],[\"rpe\",\"ribulose-phosphate 3-epimerase\",0.0905,1.14],[\"ribG\",\"bifunctional riboflavin biosynthesis diaminohydroxyphosphoribosylaminopyrimidine deaminase/5-amino-6-(5-phosphoribosylamino) uracil reductase\",0.1888,0.83],[null,\"aminoglycosides/tetracycline-transport integral membrane protein\",0.5218,1.15],[\"lprG\",\"lipoprotein LprG\",0.0633,1.77],[\"ribC\",\"riboflavin synthase\",0.0276,1.61],[null,null,0.1115,0.78],[null,null,0.1372,1.35],[\"uvrC\",\"excinuclease ABC subunit UvrC\",0.1533,0.64],[null,\"hypothetical protein Rv1421\",0.9615,1.0],[null,\"hypothetical protein Rv1422\",0.566,0.92],[\"whiA\",\"transcriptional regulator WhiA\",0.0293,0.74],[null,\"membrane protein\",0.8121,1.0],[null,\"diacyglycerol O-acyltransferase\",0.0504,0.59],[\"lipO\",\"esterase LipO\",0.0684,0.6],[\"fadD12\",\"long-chain-fatty-acid--CoA ligase FadD12\",0.1609,0.81],[null,\"hypothetical protein Rv1428c\",0.7246,0.96],[null,\"hypothetical protein Rv1429\",0.0809,0.82],[\"gap\",\"glyceraldehyde 3-phosphate dehydrogenase\",0.1918,1.26],[\"pgk\",\"phosphoglycerate kinase\",0.1017,1.28],[\"tpi\",\"triosephosphate isomerase\",0.0113,1.2],[null,\"hypothetical protein Rv2614A\",0.0113,1.2],[null,\"hypothetical protein Rv1439c\",0.7343,1.11],[\"bisC\",\"biotin sulfoxide reductase BisC\",0.8658,1.01],[null,\"hypothetical protein Rv1443c\",0.9799,1.0],[\"devB\",\"6-phosphogluconolactonase\",0.0348,1.29],[\"opcA\",\"OXPP cycle protein OpcA\",0.0301,1.79],[\"zwf2\",\"glucose-6-phosphate 1-dehydrogenase\",0.0064,1.56],[\"tal\",\"transaldolase\",0.1328,1.3],[\"tkt\",\"transketolase\",0.9584,1.0],[\"qor\",\"quinone reductase\",0.6143,0.94],[null,\"hypothetical protein Rv1455\",0.3894,1.11],[null,\"antibiotic ABC transporter ATP-binding protein\",0.8603,1.05],[null,\"hypothetical protein Rv1461\",0.1119,0.87],[null,\"hypothetical protein Rv1462\",0.1548,0.84],[null,\"ABC transporter ATP-binding protein\",0.0803,0.94],[\"csd\",\"cysteine desulfurase\",0.4458,0.93],[null,\"nitrogen fixation related protein\",0.1673,1.28],[null,\"hypothetical protein Rv1466\",0.0284,3.02],[\"fadE15\",\"acyl-CoA dehydrogenase FadE15\",0.1613,1.15],[\"trxB1\",\"thioredoxin\",0.1531,1.27],[null,\"macrolide ABC transporter ATP-binding protein\",0.0921,0.79],[\"acn\",\"iron-regulated aconitate hydratase\",0.2593,1.1],[\"ripA\",\"peptidoglycan endopeptidase RipA\",0.0458,1.55],[\"moxR1\",\"transcriptional regulator MoxR1\",0.142,1.3],[null,\"hypothetical protein Rv1480\",0.7931,1.05],[null,\"membrane protein\",0.0625,1.37],[\"fabG1\",\"3-oxoacyl-ACP reductase FabG\",0.2082,1.1],[\"inhA\",\"NADH-dependent enoyl\",0.3469,1.14],[\"hemZ\",\"ferrochelatase\",0.3922,0.89],[null,\"hypothetical protein Rv1486c\",0.7861,0.98],[null,\"hypothetical protein Rv1487\",0.1686,9.54],[null,\"hypothetical protein Rv1488\",0.3657,1.19],[null,\"hypothetical protein Rv1489\",0.794,0.98],[\"mutA\",\"methylmalonyl-CoA mutase small subunit\",0.2513,0.87],[\"mutB\",\"methylmalonyl-CoA mutase large subunit\",0.0166,0.81],[null,\"transport system kinase\",0.1337,0.8],[\"lipL\",\"esterase LipL\",0.4497,1.13],[null,\"methyltransferase\",0.9863,1.02],[null,\"hypothetical protein Rv1498A\",0.0051,2.36],[null,\"hypothetical protein Rv1501\",0.0319,0.83],[null,\"hypothetical protein Rv1505c\",0.8015,0.98],[null,\"hypothetical protein Rv1507c\",0.9341,0.99],[null,\"membrane protein\",0.6407,0.9],[null,\"hypothetical protein Rv1509\",0.8862,1.14],[\"gmdA\",\"GDP-D-mannose dehydratase GmdA\",0.4513,0.89],[\"epiA\",\"nucleotide-sugar epimerase EpiA\",0.2911,0.89],[null,\"hypothetical protein Rv1513\",0.7884,1.04],[null,\"glycosyltransferase\",0.4054,0.9],[null,\"sugar transferase\",0.2687,0.85],[\"fadD25\",\"fatty-acid--CoA ligase FadD25\",0.0029,0.78],[null,\"methyltransferase\",0.1057,0.87],[null,\"glycosyltransferase\",0.0733,0.83],[null,\"glycosyltransferase\",0.2162,1.45],[\"pks5\",\"polyketide synthase\",0.0797,1.26],[\"adh\",\"alcohol dehydrogenase\",0.0243,0.76],[null,\"hypothetical protein Rv1531\",0.0718,0.76],[null,\"monooxygenase\",0.5691,0.94],[null,\"transcriptional regulator\",0.649,0.93],[\"ileS\",\"isoleucine--tRNA ligase\",0.298,1.08],[\"dinX\",\"DNA polymerase IV\",0.3445,0.88],[\"ansA\",\"L-aparaginase\",0.8301,0.98],[null,\"RNA pseudouridine synthase\",0.0161,0.55],[null,\"oxidoreductase\",0.1703,0.78],[null,\"ketoacyl reductase\",0.7373,0.97],[null,\"hypothetical protein Rv1546\",0.3658,1.07],[\"dnaE1\",\"DNA polymerase III subunit alpha\",0.2206,0.85],[null,\"HTH-type transcriptional regulator\",0.1592,0.81],[null,\"hypothetical protein Rv1558\",0.0172,1.68],[\"ilvA\",\"threonine dehydratase IlvA\",0.5366,0.93],[\"vapC11\",\"ribonuclease VapC11\",0.3405,1.09],[\"treZ\",\"malto-oligosyltrehalose trehalohydrolase\",0.2094,0.82],[\"treY\",\"maltooligosyl trehalose synthase\",0.4535,0.93],[\"treX\",\"maltooligosyl trehalose synthase\",0.977,1.0],[null,\"hypothetical protein Rv1566c\",0.3251,1.22],[\"bioA\",\"adenosylmethionine-8-amino-7-oxononanoate aminotransferase\",0.5572,1.09],[\"bioF1\",\"8-amino-7-oxononanoate synthase\",0.1215,0.73],[\"bioD\",\"ATP-dependent dethiobiotin synthetase BioD\",0.8289,0.99],[null,\"hypothetical protein Rv1571\",0.3194,1.35],[null,\"phage capsid protein\",0.2658,1.13],[null,\"phage integrase\",0.1342,0.66],[\"bioB\",\"biotin synthetase\",0.0084,0.64],[null,\"hypothetical protein Rv1590\",0.0508,0.63],[null,\"hypothetical protein Rv1592c\",0.1285,1.65],[null,\"hypothetical protein Rv1593c\",0.2126,0.76],[\"nadA\",\"quinolinate synthetase A\",0.8542,0.97],[\"nadB\",\"L-aspartate oxidase\",0.6634,1.04],[\"nadC\",\"nicotinate-nucleotide pyrophosphatase\",0.1868,1.26],[null,\"hypothetical protein Rv1597\",0.136,0.85],[null,\"hypothetical protein Rv1598c\",0.2094,1.23],[\"hisD\",\"histidinol dehydrogenase\",0.0696,0.73],[\"hisC1\",\"histidinol-phosphate aminotransferase\",0.1601,0.84],[\"hisB\",\"imidazole glycerol-phosphate dehydratase\",0.3919,0.57],[\"hisH\",\"imidazole glycerol phosphate synthase subunit HisH\",0.7524,0.97],[\"hisA\",\"phosphoribosyl isomerase A\",0.3269,1.18],[\"hisF\",\"imidazole glycerol phosphate synthase subunit HisF\",0.6524,0.97],[\"chaA\",\"ionic transporter integral membrane protein ChaA\",0.3228,1.35],[\"bcpB\",\"peroxiredoxin\",0.1177,1.27],[\"trpE\",\"anthranilate synthase component I\",0.9185,1.03],[\"trpC\",\"indole-3-glycerol phosphate synthase\",0.2768,0.9],[\"trpB\",\"tryptophan synthase subunit beta\",0.5814,0.93],[\"trpA\",\"tryptophan synthase subunit alpha\",0.6006,0.96],[\"lgt\",\"prolipoprotein diacylglyceryl transferase\",0.3753,1.31],[\"pykA\",\"pyruvate kinase\",0.8803,0.99],[\"tesB1\",\"acyl-CoA thioesterase TesB\",0.5291,0.9],[\"cydA\",\"cytochrome D ubiquinol oxidase subunit I CydA\",0.3234,0.38],[null,\"two-component system transcriptional regulator\",0.8424,1.03],[null,\"nonspecific lipid-transfer protein\",0.1895,0.85],[null,\"hypothetical protein Rv1628c\",0.1196,1.28],[\"polA\",\"DNA polymerase I\",0.5711,1.05],[\"rpsA\",\"30S ribosomal protein S1\",0.1931,0.88],[\"coaE\",\"dephospho-CoA kinase CoaE\",0.2532,0.85],[null,\"hypothetical protein Rv1632c\",0.3824,0.78],[\"uvrB\",\"excinuclease ABC subunit UvrB\",0.0419,0.85],[\"TB15.3\",\"iron-regulated universal stress protein\",0.0857,1.46],[null,\"hypothetical protein Rv1637c\",0.9691,1.0],[\"uvrA\",\"excinuclease ABC subunit UvrA\",0.8694,0.99],[\"lysX\",\"bifunctional lysine--tRNA ligase/phosphatidylglycerol lysyltransferase\",0.5445,1.14],[\"infC\",\"initiation factor IF-3\",0.4416,0.85],[\"rplT\",\"50S ribosomal protein L20\",0.4224,1.14],[\"tsnR\",\"23S rRNA methyltransferase TsnR\",0.9471,1.0],[null,\"adenylate cyclase\",0.7329,0.6],[\"pheS\",\"phenylalanine--tRNA ligase subunit alpha\",0.5301,0.92],[\"pheT\",\"phenylalanine--tRNA ligase subunit beta\",0.639,1.03],[\"argC\",\"N-acetyl-gamma-glutamyl-phoshate reductase\",0.226,0.82],[\"argJ\",\"bifunctional glutamate N-acetyltransferase/amino-acid acetyltransferase\",0.1951,0.91],[\"argB\",\"acetylglutamate kinase\",0.6285,1.1],[\"argD\",\"acetylornithine aminotransferase\",0.1515,0.79],[\"argF\",\"ornithine carbamoyltransferase\",0.3406,0.87],[\"argG\",\"argininosuccinate synthase\",0.2511,0.84],[\"argH\",\"argininosuccinate lyase\",0.0281,0.81],[\"pks10\",\"chalcone synthase\",0.1686,0.77],[\"pks7\",\"polyketide synthase\",0.1149,0.8],[\"pks11\",\"chalcone synthase\",0.0119,0.76],[null,\"hypothetical protein Rv1673c\",0.0011,0.65],[null,\"hypothetical protein Rv1676\",0.6048,1.12],[\"dsbF\",\"lipoprotein DsbF\",0.5014,1.32],[\"fadE16\",\"acyl-CoA dehydrogenase FadE16\",0.0013,0.63],[null,\"hypothetical protein Rv1680\",0.0365,0.81],[null,\"bifunctional long-chain acyl-CoA synthase/lipase\",0.2079,0.86],[null,\"hypothetical protein Rv1685c\",0.6538,1.14],[null,\"ABC transporter ATP-binding protein\",0.3441,1.25],[\"mpg\",\"3-methyladenine DNA glycosylase\",0.652,0.95],[\"tyrS\",\"tyrosine--tRNA ligase\",0.848,1.0],[null,\"hypothetical protein Rv1691\",0.9919,1.08],[null,\"phosphatase\",0.2578,0.77],[\"tlyA\",\"16S/23S rRNA (cytidine-2\\\\\\\\'-O)-methyltransferase TlyA\",0.1236,0.73],[\"ppnK\",\"inorganic polyphosphate/ATP-NAD kinase\",0.3073,0.84],[\"recN\",\"DNA repair protein RecN\",0.6558,0.96],[null,\"hypothetical protein Rv1697\",0.9808,0.96],[\"mctB\",\"copper transporter MctB\",0.8936,1.08],[\"pyrG\",\"CTP synthase\",0.0015,0.79],[null,\"NUDIX hydrolase\",0.8619,0.98],[null,\"tyrosine recombinase XerD\",0.0018,0.51],[null,\"methyltransferase\",0.7685,0.97],[null,\"transmembrane protein\",0.775,0.89],[null,\"initiation inhibitor protein\",0.1335,0.92],[\"scpA\",\"segregation and condensation protein ScpA\",0.0208,0.83],[\"scpB\",\"segregation and condensation protein ScpB\",0.0266,0.73],[null,\"RNA pseudouridine synthase\",0.3927,0.89],[\"cmk\",\"cytidylate kinase\",0.0996,0.87],[\"engA\",\"GTPase Der\",0.035,0.75],[null,\"transcriptional regulator\",0.2177,0.93],[null,\"carboxylase\",0.1457,0.87],[null,\"hydrolase\",0.772,1.04],[null,\"hypothetical protein Rv1725c\",0.9732,0.92],[null,\"hypothetical protein Rv1728c\",0.3924,0.82],[null,\"S-adenosylmethionine-dependent methyltransferase\",0.2415,0.85],[null,\"penicillin-binding protein\",0.255,0.81],[\"gabD2\",\"succinate-semialdehyde dehydrogenase\",0.142,0.81],[null,\"hypothetical protein Rv1732c\",0.8936,1.02],[null,\"hypothetical protein Rv1742\",0.2811,0.86],[\"pknE\",\"serine/threonine-protein kinase PknE\",0.913,1.0],[\"idi\",\"isopentenyl-diphosphate delta-isomerase\",0.1338,0.76],[\"pknF\",\"serine/threonine-protein kinase PknF\",0.1194,1.65],[null,\"ABC transporter ATP-binding protein/permease\",0.7409,1.06],[null,\"hypothetical protein Rv1748\",0.0793,1.66],[\"fadD1\",\"fatty-acid--CoA ligase FadD1\",0.0025,0.82],[null,\"oxidoreductase\",0.0716,0.79],[null,\"hypothetical protein Rv1761c\",0.3928,0.86],[null,\"hypothetical protein Rv1762c\",0.1902,1.63],[null,\"hypothetical protein Rv1767\",0.0005,0.61],[null,\"hypothetical protein Rv1769\",0.5536,0.9],[null,\"hypothetical protein Rv1770\",0.03,0.66],[null,null,0.7748,0.98],[null,\"transcriptional regulator\",0.5,0.89],[null,\"oxidoreductase\",0.0088,0.7],[null,\"hypothetical protein Rv1778c\",0.0526,1.38],[null,\"hypothetical protein Rv1780\",0.2935,1.13],[\"malQ\",\"4-alpha-glucanotransferase\",0.9043,0.99],[\"eccB5\",\"ESX-5 type VII secretion system protein EccB5\",0.2171,1.33],[\"eccC5\",\"ESX-5 type VII secretion system protein EccC5\",0.1548,1.32],[\"cyp143\",\"cytochrome P450 Cyp143\",0.5516,0.9],[null,null,0.8881,0.91],[null,\"hypothetical protein Rv1794\",0.2324,0.9],[\"eccD5\",\"ESX-5 type VII secretion system protein EccD\",0.078,1.43],[\"mycP5\",\"membrane-anchored mycosin MycP\",0.9462,1.02],[\"eccE5\",\"ESX-5 type VII secretion system protein EccE\",0.3883,1.22],[\"eccA5\",\"ESX-5 type VII secretion system protein EccA\",0.8963,0.99],[null,null,0.6329,0.85],[\"PPE32\",\"PPE family protein PPE32\",0.4347,1.1],[null,\"dehydrogenase\",0.691,0.96],[null,\"hypothetical protein Rv1815\",0.109,0.49],[null,\"HTH-type transcriptional regulator\",0.1612,0.77],[null,\"flavoprotein\",0.4883,1.08],[\"bacA\",\"vitamin B12 transport ATP-binding protein BacA\",0.3193,1.31],[\"ilvG\",\"acetolactate synthase large subunit IlvG\",0.9383,1.01],[\"secA2\",\"protein translocase subunit SecA\",0.2109,1.12],[\"pgsA2\",\"CDP-diacylglycerol--glycerol-3-phosphate 3-phosphatidyltransferase\",0.6478,1.19],[null,\"hypothetical protein Rv1823\",0.6821,0.91],[null,\"hypothetical protein Rv1825\",0.8637,1.08],[\"gcvH\",\"glycine cleavage system protein H\",0.3333,1.32],[\"garA\",\"glycogen accumulation regulator GarA\",0.2338,1.39],[null,\"HTH-type transcriptional regulator\",0.3138,0.89],[null,\"hypothetical protein Rv1829\",0.5323,1.11],[null,\"HTH-type transcriptional regulator\",0.5471,0.95],[\"gcvB\",\"glycine dehydrogenase\",0.6685,0.97],[null,\"haloalkane dehalogenase\",0.7017,1.03],[null,\"serine esterase\",0.4593,1.13],[null,\"hypothetical protein Rv1836c\",0.2513,1.41],[\"glcB\",\"malate synthase\",0.7249,1.05],[\"vapC13\",\"ribonuclease VapC13\",0.0856,0.68],[\"guaB1\",\"inosine-5\\\\\\\\'-monophosphate dehydrogenase\",0.0607,1.33],[\"gnd1\",\"6-phosphogluconate dehydrogenase\",0.0057,0.51],[\"blaI\",\"transcriptional repressor BlaI\",0.2618,1.33],[null,\"esterase\",0.2683,0.68],[\"ureC\",\"urease subunit alpha\",0.427,1.06],[\"ureG\",\"urease accessory protein UreG\",0.4986,1.04],[\"ndh\",\"NADH dehydrogenase\",0.0294,1.65],[null,\"oxidoreductase\",0.4429,1.1],[null,\"oxidoreductase\",0.115,1.33],[\"modA\",\"molybdate ABC transporter substrate-binding lipoprotein ModA\",0.351,1.15],[\"apa\",\"hypothetical protein Rv1860\",0.0091,0.44],[\"adhA\",\"alcohol dehydrogenase A\",0.0557,0.72],[null,\"hypothetical protein Rv1864c\",0.8615,0.93],[null,\"short-chain type dehydrogenase\",0.7213,0.97],[null,\"hypothetical protein Rv1866\",0.0023,0.81],[null,\"hypothetical protein Rv1867\",0.0635,0.86],[null,\"hypothetical protein Rv1868\",0.4194,1.14],[null,\"reductase\",0.1971,0.82],[null,\"hypothetical protein Rv1871c\",0.2246,0.9],[\"lldD2\",\"L-lactate dehydrogenase\",0.2162,0.83],[null,\"hypothetical protein Rv1874\",0.6032,1.07],[null,\"hypothetical protein Rv1875\",0.3294,1.13],[\"bfrA\",\"bacterioferritin BfrA\",0.973,1.01],[\"glnA3\",\"glutamine synthetase GlnA\",0.133,0.87],[null,\"hypothetical protein Rv1879\",0.3158,0.91],[\"cyp140\",\"cytochrome P450 Cyp140\",0.5775,1.05],[null,\"short-chain type dehydrogenase/reductase\",0.99,1.08],[\"fbpB\",\"diacylglycerol acyltransferase/mycolyltransferase Ag85B\",0.0502,0.61],[null,\"hypothetical protein Rv1887\",0.1102,0.54],[null,\"hypothetical protein Rv1890c\",0.0039,2.64],[null,\"hypothetical protein Rv1894c\",0.3876,0.93],[null,\"S-adenosyl-L-methionine-dependent methyltransferase\",0.5057,0.95],[null,\"D-tyrosyl-tRNA(Tyr) deacylase\",0.2334,1.6],[\"lppD\",\"lipoprotein LppD\",0.0181,1.8],[\"lipJ\",\"lignin peroxidase LipJ\",0.029,0.76],[\"cinA\",\"competence damage-inducible protein CinA\",0.3671,0.91],[null,\"hypothetical protein Rv1904\",0.1948,0.64],[\"aao\",\"D-amino acid oxidase\",0.3691,0.87],[\"katG\",\"catalase-peroxidase\",0.1257,0.84],[\"fadB5\",\"oxidoreductase FadB\",0.2687,0.77],[null,\"hypothetical protein Rv1914c\",0.2376,1.53],[null,\"hypothetical protein Rv1919c\",0.9433,1.01],[null,\"membrane protein\",0.1572,0.64],[\"lipD\",\"lipase LipD\",0.0087,0.59],[\"fadD31\",\"fatty-acid--CoA ligase FadD31\",0.115,0.93],[null,\"hypothetical protein Rv1927\",0.0521,0.67],[null,\"short-chain type dehydrogenase/reductase\",0.5372,0.91],[\"tpx\",\"thiol peroxidase\",0.735,1.07],[\"mazE5\",\"antitoxin MazE5\",0.4558,0.48],[null,\"hypothetical protein Rv1944c\",0.5524,1.06],[\"higA\",\"antitoxin HigA\",0.9222,1.04],[null,\"SecB-like chaperone\",0.2768,0.87],[\"vapC35\",\"ribonuclease VapC35\",0.8281,0.98],[\"mce3R\",\"transcriptional repressor Mce3R\",0.0892,0.55],[null,\"hypothetical protein Rv1977\",0.4564,0.92],[null,\"hypothetical protein Rv1978\",0.1016,0.82],[\"mpt64\",\"immunogenic protein Mpt64\",0.0283,0.44],[\"nrdF1\",\"ribonucleoside-diphosphate reductase subunit beta NrdF1\",0.2405,0.7],[null,\"chitinase\",0.277,1.75],[null,\"hypothetical protein Rv1989c\",0.3696,1.29],[null,\"transcriptional regulator\",0.1876,0.82],[\"mazF6\",\"mRNA interferase MazF6\",0.3034,1.8],[\"ctpG\",\"cation transporter ATPase G\",0.103,1.4],[null,\"hypothetical protein Rv1993c\",0.2551,0.81],[null,\"universal stress protein\",0.8423,1.01],[null,\"hypothetical protein Rv1998c\",0.0586,0.79],[null,\"hypothetical protein Rv2000\",0.0371,0.72],[null,\"hypothetical protein Rv2001\",0.051,0.67],[\"fabG3\",\"20-beta-hydroxysteroid dehydrogenase\",0.0003,0.65],[null,\"universal stress protein\",0.5529,1.08],[\"otsB1\",\"trehalose-6-phosphate phosphatase OtsB\",0.5184,0.92],[null,\"hypothetical protein Rv2008c\",0.272,0.87],[null,\"hypothetical protein Rv2016\",0.9743,1.09],[null,\"transcriptional regulator\",0.1778,0.87],[null,\"hypothetical protein Rv2018\",0.2618,1.15],[null,\"hypothetical protein Rv2019\",0.8537,0.98],[null,\"universal stress protein\",0.0656,0.77],[\"dosT\",\"two component sensor histidine kinase DosT\",0.0121,0.75],[null,\"hypothetical protein Rv2033c\",0.6971,1.09],[null,\"hypothetical protein Rv2035\",0.4141,1.11],[null,\"transmembrane protein\",0.1619,0.89],[null,\"sugar ABC transporter substrate-binding lipoprotein\",0.5585,0.92],[null,\"hypothetical protein Rv2042c\",0.6172,0.95],[\"pncA\",\"pyrazinamidase/nicotinamidase PncA\",0.0408,2.55],[\"lipT\",\"carboxylesterase LipT\",0.0181,0.7],[\"lppI\",\"lipoprotein LppI\",0.4536,1.19],[null,\"hypothetical protein Rv2047c\",0.8225,1.06],[\"pks12\",\"polyketide synthase\",0.2437,0.86],[null,\"RNA polymerase-binding protein RbpA\",0.7472,1.1],[\"ppm1\",\"polyprenol-monophosphomannose synthase\",0.7654,0.96],[null,\"hypothetical protein Rv2052c\",0.1264,1.34],[null,\"hypothetical protein Rv2054\",0.2738,1.24],[\"rpsR2\",\"30S ribosomal protein S18\",0.2051,3.14],[null,\"hypothetical protein Rv2061c\",0.19,1.32],[\"cobN\",\"cobalamin biosynthesis protein CobN\",0.1423,0.85],[\"mazF7\",\"mRNA interferase MazF7\",0.2712,1.34],[\"cobG\",\"precorrin-3B synthase\",0.1047,0.68],[\"cobH\",\"precorrin-8X methylmutase\",0.1787,0.82],[\"cobIJ\",\"bifunctional S-adenosyl-L-methionine-precorrin-2 methyl transferase/precorrin-3 methylase\",0.2912,0.89],[null,\"hypothetical protein Rv2067c\",0.8772,1.0],[\"blaC\",\"beta-lactamase\",0.9835,1.04],[\"cobM\",\"precorrin-4 C(11)-methyltransferase\",0.0522,0.84],[null,\"pyridoxamine 5\\\\\\\\'-phosphate oxidase\",0.0636,0.86],[\"lppJ\",\"lipoprotein LppJ\",0.5829,1.32],[null,\"hypothetical protein Rv2082\",0.1553,0.82],[\"pepE\",\"dipeptidase PepE\",0.3565,0.91],[null,\"5\\\\\\\\'-3\\\\\\\\' exonuclease\",0.0697,0.7],[null,\"membrane protein\",0.5597,1.17],[\"helY\",\"ATP-dependent DNA helicase HelY\",0.0936,1.13],[\"tatA\",\"Sec-independent protein translocase membrane-bound protein TatA\",0.074,1.64],[\"pafC\",\"proteasome accessory factor C\",0.3499,0.88],[\"pafB\",\"proteasome accessory factor B\",0.2623,0.84],[\"pafA\",\"proteasome accessory factor PafA\",0.0536,0.82],[\"helZ\",\"helicase HelZ\",0.2163,0.81],[null,\"hypothetical protein Rv2102\",0.1347,0.74],[\"vapC37\",\"ribonuclease VapC37\",0.7624,0.98],[\"prcA\",\"proteasome subunit alpha\",0.1841,1.13],[\"prcB\",\"proteasome subunit beta\",0.1563,1.14],[\"pup\",\"ubiquitin-like protein Pup\",0.1522,0.81],[\"dop\",\"pup deamidase/depupylase\",0.0215,0.73],[null,\"hypothetical protein Rv2114\",0.0181,1.25],[\"mpa\",\"proteasome-associated ATPase\",0.6822,1.07],[null,\"hypothetical protein Rv2117\",0.3621,0.87],[null,\"tRNA (adenine(58)-N(1))-methyltransferase\",0.5718,0.95],[null,\"hypothetical protein Rv2119\",0.8193,1.01],[null,\"integral membrane protein\",0.2446,1.35],[\"hisG\",\"ATP phosphoribosyltransferase\",0.1897,0.92],[\"metH\",\"methionine synthase\",0.2782,0.89],[null,\"hypothetical protein Rv2125\",0.8213,0.98],[null,\"oxidoreductase\",0.2561,0.85],[\"mshC\",\"cysteine:1D-myo-inosityl 2-amino-2-deoxy--D-glucopyranoside ligase\",0.7482,1.1],[\"cysQ\",\"3\\\\\\\\'-phosphoadenosine 5\\\\\\\\'-phosphate phosphatase\",0.2075,1.08],[null,\"hypothetical protein Rv2133c\",0.6404,0.97],[null,\"hypothetical protein Rv2134c\",0.7697,0.98],[null,\"hypothetical protein Rv2135c\",0.9169,1.01],[\"lppL\",\"lipoprotein LppL\",0.8605,0.97],[\"pyrD\",\"dihydroorotate dehydrogenase\",0.5159,0.92],[\"TB18.6\",\"hypothetical protein Rv2140c\",0.8729,0.99],[null,\"hypothetical protein Rv2141c\",0.0039,0.73],[\"parE2\",\"toxin ParE2\",0.2329,1.09],[\"wag31\",\"cell wall synthesis protein Wag31\",0.1046,1.58],[null,\"cell division protein SepF\",0.5636,0.87],[null,\"hypothetical protein Rv2148c\",0.2562,1.22],[\"yfiH\",\"laccase domain-containing protein\",0.1574,1.22],[\"ftsZ\",\"cell division protein FtsZ\",0.1899,0.8],[\"ftsQ\",\"cell division protein FtsQ\",0.891,1.02],[\"murC\",\"UDP-N-acetylmuramate--alanine ligase\",0.0107,0.83],[\"murG\",\"UDP-N-acetylglucosamine--N-acetylmuramyl-(pentapeptide) pyrophosphoryl-undecaprenol-N-acetylglucosamine transferase\",0.4468,0.93],[\"murD\",\"UDP-N-acetylmuramoylalanine--D-glutamate ligase\",0.0224,0.82],[\"murX\",\"phospho-N-acetylmuramoyl-pentappeptidetransferase\",0.1395,0.74],[\"murF\",\"UDP-N-acetylmuramoyl-tripeptide--D-alanyl-D-alanine ligase\",0.1739,0.89],[null,null,0.4653,0.95],[null,\"hypothetical protein Rv2159c\",0.2081,0.85],[null,\"hypothetical protein Rv2161c\",0.0567,0.67],[null,\"rRNA small subunit methyltransferase H\",0.4512,0.94],[null,\"transcriptional regulator MraZ\",0.828,1.15],[\"lppM\",\"lipoprotein LppM\",0.418,1.38],[null,\"hypothetical protein Rv2172c\",0.0307,1.77],[\"idsA2\",\"geranylgeranyl pyrophosphate synthetase IdsA\",0.1312,0.75],[null,\"DNA-binding protein\",0.2312,0.82],[\"pknL\",\"serine/threonine-protein kinase PknL\",0.2165,1.39],[\"aroG\",\"phospho-2-dehydro-3-deoxyheptonate aldolase AroG\",0.6298,1.04],[null,\"3\\\\\\\\'-5\\\\\\\\' exoribonuclease\",0.5803,1.18],[null,\"1-acylglycerol-3-phosphate O-acyltransferase\",0.8488,1.11],[null,\"hypothetical protein Rv2184c\",0.5396,1.16],[\"TB16.3\",\"hypothetical protein Rv2185c\",0.1038,1.3],[\"fadD15\",\"long-chain-fatty-acid--CoA ligase FadD15\",0.0226,0.74],[\"pimB\",\"alpha-(1-6)-phosphatidylinositol monomannoside mannosyltransferase\",0.6738,1.09],[null,\"endopeptidase\",0.3401,0.75],[\"trpD\",\"anthranilate phosphoribosyltransferase\",0.0559,0.8],[\"qcrC\",\"ubiquinol-cytochrome C reductase cytochrome subunit C\",0.2342,1.75],[\"qcrA\",\"ubiquinol-cytochrome C reductase rieske iron-sulfur subunit\",0.691,1.13],[\"qcrB\",\"ubiquinol-cytochrome C reductase cytochrome subunit B\",0.326,1.27],[null,\"transmembrane protein\",0.8376,1.46],[\"mmpS3\",\"membrane protein MmpS3\",0.9023,1.03],[\"ctaC\",\"cytochrome C oxidase subunit II\",0.3832,1.28],[\"asnB\",\"asparagine synthetase\",0.5127,1.03],[\"adoK\",\"adenosine kinase\",0.9406,1.04],[null,\"membrane protein\",0.4372,1.3],[null,\"hypothetical protein Rv2204c\",0.6737,0.96],[null,\"hypothetical protein Rv2205c\",0.952,1.03],[\"cobT\",\"nicotinate-nucleotide-dimethylbenzimidazol phosphoribosyltransferase\",0.5869,0.94],[\"ilvE\",\"branched-chain amino acid aminotransferase\",0.0344,0.75],[\"gcvT\",\"aminomethyltransferase\",0.4112,0.88],[null,\"adenylyl cyclase\",0.3029,0.87],[\"pepB\",\"cytosol aminopeptidase\",0.4449,0.87],[\"ephD\",\"oxidoreductase EphD\",0.5872,0.92],[\"dlaT\",\"pyruvate dehydrogenase E2 component dihydrolipoamide acyltransferase\",0.0637,1.24],[null,\"epimerase family protein\",0.2819,0.89],[\"lipB\",\"octanoyltransferase\",0.0427,0.72],[\"lipA\",\"lipoyl synthase\",0.0377,0.69],[null,\"transmembrane protein\",0.7306,1.12],[\"glnA1\",\"glutamine synthetase\",0.0026,1.5],[\"glnE\",\"glutamate-ammonia-ligase adenylyltransferase\",0.3281,0.91],[\"glnA2\",\"glutamine synthetase\",0.3426,0.86],[\"caeA\",\"carboxylesterase A\",0.3058,1.32],[\"panB\",\"3-methyl-2-oxobutanoate hydroxymethyltransferase\",0.0845,0.83],[null,\"hypothetical protein Rv2226\",0.088,1.17],[null,\"multifunctional RNASE H/alpha-ribazole phosphatase/acid phosphatase\",0.0493,0.72],[null,\"hypothetical protein Rv2229c\",0.585,0.95],[null,\"GTP cyclohydrolase\",0.0898,0.9],[\"cobC\",\"aminotransferase\",0.0029,0.59],[\"ptkA\",\"protein tyrosine kinase transcriptional regulator PtkA\",0.1697,1.21],[\"ptpA\",\"protein-tyrosine-phosphatase\",0.7219,1.4],[null,\"hypothetical protein Rv2237\",0.2651,0.75],[\"ahpE\",\"peroxiredoxin\",0.7478,0.94],[null,\"hypothetical protein Rv2239c\",0.094,1.36],[\"aceE\",\"pyruvate dehydrogenase E1 component\",0.84,0.99],[null,\"hypothetical protein Rv2242\",0.0004,0.51],[\"fabD\",\"malonyl CoA-acyl carrier protein transacylase\",0.105,0.81],[\"acpM\",\"meromycolate extension acyl carrier protein\",0.0162,0.64],[\"kasA\",\"3-oxoacyl-ACP synthase 1\",0.0691,0.77],[\"kasB\",\"3-oxoacyl-ACP synthase 2\",0.1005,0.74],[\"accD6\",\"acetyl-/propionyl-CoA carboxylase subunit beta\",0.0304,0.6],[\"glpD1\",\"glycerol-3-phosphate dehydrogenase\",0.9862,1.0],[null,\"flavoprotein\",0.0558,0.89],[null,\"diacylglycerol kinase\",0.5035,0.93],[null,\"hypothetical protein Rv2256c\",0.0165,2.51],[null,\"hypothetical protein Rv2257c\",0.3705,1.09],[null,\"transcriptional regulator\",0.0286,0.68],[\"mscR\",\"S-nitrosomycothiol reductase MscR\",0.0236,0.86],[null,\"hypothetical protein Rv2260\",0.4561,0.95],[null,\"oxidoreductase\",0.1821,0.77],[null,\"hypothetical protein Rv1088a\",0.9371,0.99],[null,\"hypothetical protein Rv2264c\",0.9371,0.99],[\"cyp121\",\"cytochrome P450 Cyp121\",0.3305,0.81],[null,null,0.0217,0.63],[null,\"LysR family HTH-type transcriptional regulator\",0.2111,0.77],[\"lipM\",\"esterase LipM\",0.1175,0.69],[null,\"diacylglycerol acyltransferase\",0.1044,0.78],[null,\"hypothetical protein Rv2286c\",0.3159,0.8],[null,\"hypothetical protein Rv2466c\",0.3159,0.8],[\"cdh\",\"CDP-diacylglycerol pyrophosphatase\",0.4305,0.82],[\"sseB\",\"thiosulfate sulfurtransferase SseB\",0.133,0.8],[null,\"cystathionine beta-lyase\",0.7714,0.98],[null,\"hypothetical protein Rv2295\",0.3914,1.24],[null,\"haloalkane dehalogenase\",0.1276,0.9],[null,\"oxidoreductase\",0.1719,0.91],[\"htpG\",\"chaperone protein HtpG\",0.4668,0.96],[null,\"hypothetical protein Rv2302\",0.0396,0.7],[null,\"antibiotic-resistance protein\",0.0989,0.84],[null,\"hypothetical protein Rv2305\",0.076,0.77],[null,\"hypothetical protein Rv2307c\",0.3817,0.92],[null,\"hypothetical protein Rv2313c\",0.5033,1.1],[null,\"hypothetical protein Rv2314c\",0.5971,0.95],[null,\"hypothetical protein Rv2315c\",0.1549,0.89],[null,\"universal stress protein\",0.7373,0.96],[null,\"ABC transporter ATP-binding protein\",0.7372,1.07],[null,\"hypothetical protein Rv2327\",0.9621,1.0],[\"cysK1\",\"O-acetylserine sulfhydrylase\",0.0994,0.73],[\"cysE\",\"serine acetyltransferase\",0.0215,0.53],[null,\"hypothetical protein Rv2336\",0.8205,1.11],[null,\"hypothetical protein Rv2337c\",0.4531,0.87],[\"moeW\",\"molybdopterin biosynthesis protein MoeW\",0.0885,0.86],[null,\"hypothetical protein Rv2342\",0.3477,0.75],[\"dnaG\",\"DNA primase\",0.0119,0.85],[\"dgt\",\"deoxyguanosine triphosphate triphosphohydrolase\",0.2845,0.93],[null,\"transmembrane protein\",0.4491,0.88],[\"plcB\",\"membrane-associated phospholipase B\",0.4382,0.9],[\"plcA\",\"membrane-associated phospholipase A\",0.8452,0.99],[\"glyS\",\"glycine--tRNA ligase\",0.6286,0.95],[\"smtB\",\"HTH-type transcriptional regulator SmtB\",0.2682,1.3],[\"zur\",\"zinc uptake regulation protein\",0.0535,0.53],[null,\"hypothetical protein Rv2360c\",0.5094,0.9],[null,\"decaprenyl diphosphate synthase\",0.2959,0.78],[\"amiA2\",\"amidase\",0.9403,1.05],[\"era\",\"GTPase Era\",0.1485,0.85],[\"phoH1\",\"phosphate starvation-inducible protein PhoH\",0.0276,0.65],[null,\"rRNA small subunit methyltransferase E\",0.8106,1.59],[\"dnaJ2\",\"chaperone protein DnaJ\",0.1555,1.56],[\"hrcA\",\"heat-inducible transcription repressor HrcA\",0.3073,0.96],[null,\"hypothetical protein Rv2375\",0.5388,0.93],[\"mbtG\",\"L-lysine N6-monooxygenase\",0.1399,1.92],[\"mbtF\",\"peptide synthetase\",0.0015,2.14],[\"mbtE\",\"peptide synthetase\",0.0064,2.37],[\"mbtD\",\"polyketide synthetase\",0.8659,0.9],[\"mbtB\",\"phenyloxazoline synthase\",0.0678,1.48],[\"mbtA\",\"bifunctional salicyl-AMP ligase/salicyl-S-ArCP synthetase\",0.1533,1.27],[\"mbtI\",\"salicylate synthase\",0.2708,0.92],[\"hemN\",\"oxygen-independent coproporphyrinogen III oxidase\",0.6728,0.93],[\"sirA\",\"sulfite reductase\",0.0105,0.59],[\"cysH\",\"phosphoadenosine phosphosulfate reductase\",0.0192,0.59],[\"ggtB\",\"gamma-glutamyltranspeptidase precursor GgtB\",0.7225,0.96],[\"cysA1\",\"sulfate ABC transporter ATP-binding protein CysA\",0.0373,0.64],[\"subI\",\"sulfate ABC transporter substrate-binding lipoprotein SubI\",0.034,0.71],[null,\"trehalase\",0.006,0.8],[\"lppR\",\"lipoprotein LppR\",0.9299,0.99],[\"lepA\",\"GTP-binding protein LepA\",0.11,0.75],[null,\"hypothetical protein Rv2405\",0.077,0.79],[null,\"hypothetical protein Rv2406c\",0.3204,0.78],[null,\"hypothetical protein Rv2409c\",0.6349,1.04],[null,\"hypothetical protein Rv2410c\",0.365,0.89],[null,\"hypothetical protein Rv2411c\",0.3204,0.93],[null,\"hypothetical protein Rv2413c\",0.3615,1.12],[\"eis\",\"enhanced intracellular survival protein\",0.3377,0.89],[null,\"DegV domain-containing protein\",0.7763,1.03],[null,\"hypothetical protein Rv2418c\",0.6266,0.96],[\"gpgP\",\"glucosyl-3-phosphoglycerate phosphatase\",0.6832,1.06],[null,\"hypothetical protein Rv2420c\",0.0513,0.82],[\"nadD\",\"nicotinate-nucleotide adenylyltransferase\",0.9333,1.01],[null,\"hypothetical protein Rv2423\",0.0894,0.71],[null,\"hypothetical protein Rv2426c\",0.0006,0.74],[\"proA\",\"gamma-glutamyl phosphate reductase\",0.5842,0.94],[\"ahpC\",\"alkyl hydroperoxide reductase subunit AhpC\",0.0098,8.12],[\"ahpD\",\"alkyl hydroperoxide reductase AphD\",0.0038,2.9],[\"nadE\",\"glutamine-dependent NAD(+) synthetase\",0.1438,0.91],[\"proB\",\"glutamate 5-kinase protein\",0.4111,0.86],[\"obg\",\"GTPase Obg\",0.0329,0.75],[\"rpmA\",\"50S ribosomal protein L27\",0.2127,0.75],[\"rplU\",\"50S ribosomal protein L21\",0.2885,0.75],[\"rne\",\"ribonuclease E\",0.4883,0.95],[\"ndkA\",\"nucleoside diphosphate kinase\",0.857,1.03],[\"folC\",\"folylpolyglutamate synthase FolC\",0.1485,0.82],[\"valS\",\"valine--tRNA ligase\",0.9441,1.01],[null,\"trans-acting enoyl reductase\",0.1615,0.85],[\"mobA\",\"molybdenum cofactor guanylyltransferase\",0.5297,1.12],[null,\"2-oxoglutarate oxidoreductase subunit KorB\",0.0698,0.75],[null,\"2-oxoglutarate oxidoreductase subunit KorA\",0.0333,0.84],[\"clpX\",\"ATP-dependent CLP protease ATP-binding subunit ClpX\",0.2439,0.84],[\"clpP2\",\"ATP-dependent CLP protease proteolytic subunit 2\",0.4394,1.2],[\"clpP1\",\"ATP-dependent CLP protease proteolytic subunit 1\",0.0524,1.35],[\"tig\",\"trigger factor\",0.3356,0.91],[null,\"DNA glycosylase\",0.6914,1.47],[\"rpiB\",\"ribose-5-phosphate isomerase B\",0.0249,1.43],[\"pepN\",\"aminopeptidase PepN\",0.0851,0.9],[null,\"hypothetical protein Rv2468c\",0.2821,1.77],[\"aglA\",\"alpha-glucosidase AglA\",0.0963,0.84],[null,\"hypothetical protein Rv2473\",0.8255,1.11],[null,\"hypothetical protein Rv2474c\",0.2724,0.85],[null,\"hypothetical protein Rv2475c\",0.2248,0.84],[\"gdh\",\"NAD-dependent glutamate dehydrogenase\",0.0082,0.84],[null,\"macrolide ABC transporter ATP-binding protein\",0.0469,0.87],[\"plsB2\",\"glycerol-3-phosphate acyltransferase\",0.0606,0.73],[\"plsC\",\"bifunctional L-3-phosphoserine phosphatase/1-acyl-sn-glycerol-3-phosphate acyltransferase\",0.113,0.62],[null,\"diacyglycerol O-acyltransferase\",0.2518,0.77],[\"echA14\",\"enoyl-CoA hydratase EchA14\",0.2227,1.11],[null,\"LuxR family transcriptional regulator\",0.5092,0.92],[\"vapC38\",\"ribonuclease VapC38\",0.2448,0.73],[\"bkdC\",\"branched-chain keto acid dehydrogenase E2 component\",0.1202,1.34],[\"bkdB\",\"branched-chain keto acid dehydrogenase E1 component subunit beta\",0.2613,1.37],[\"bkdA\",\"branched-chain keto acid dehydrogenase E1 component subunit alpha\",0.1578,1.46],[\"citE\",\"citrate (pro-3S)-lyase subunit beta\",0.9996,1.0],[\"fadE19\",\"acyl-CoA dehydrogenase FadE19\",0.153,0.8],[\"accA1\",\"acetyl-/propionyl-CoA carboxylase subunit alpha\",0.7973,0.98],[\"accD1\",\"acetyl-/propionyl-CoA carboxylase subunit beta\",0.5363,0.96],[\"scoB\",\"succinyl-CoA:3-ketoacid-CoA transferase subunit B\",0.1068,0.78],[\"scoA\",\"succinyl-CoA:3-ketoacid-CoA transferase subunit A\",0.9298,1.01],[null,\"TetR family transcriptional regulator\",0.3291,0.79],[null,\"short-chain type dehydrogenase/reductase\",0.193,0.81],[null,\"hypothetical protein Rv2510c\",0.5301,0.95],[\"orn\",\"oligoribonuclease\",0.9926,1.0],[null,null,0.1843,1.4],[null,\"membrane protein\",0.8117,1.04],[\"bcp\",\"peroxiredoxin\",0.772,0.94],[null,\"hypothetical protein Rv2522c\",0.0648,0.69],[\"fas\",\"fatty acid synthase\",0.0515,0.49],[null,\"hypothetical protein Rv2525c\",0.5534,1.09],[\"vapC17\",\"ribonuclease VapC17\",0.0886,2.13],[\"mrr\",\"restriction system protein\",0.5636,0.95],[null,\"hypothetical protein Rv2529\",0.0069,0.63],[\"vapC39\",\"ribonuclease VapC39\",0.2574,0.69],[null,\"amino acid decarboxylase\",0.3315,0.93],[\"nusB\",\"N utilization substance protein B\",0.2581,1.18],[\"efp\",\"elongation factor P\",0.4158,1.16],[\"pepQ\",\"cytoplasmic peptidase PepQ\",0.9354,1.01],[null,\"transmembrane protein\",0.4056,1.19],[\"aroD\",\"3-dehydroquinate dehydratase\",0.9729,0.97],[\"aroB\",\"3-dehydroquinate synthase\",0.8652,1.0],[\"aroF\",\"chorismate synthase\",0.5972,1.14],[null,\"hypothetical protein Rv2548A\",0.7531,0.86],[\"aroE\",\"shikimate 5-dehydrogenase\",0.4232,1.07],[null,\"Holliday junction resolvase\",0.054,1.35],[\"alaS\",\"alanine--tRNA ligase\",0.2204,1.18],[null,\"hypothetical protein Rv2556c\",0.0755,1.9],[null,\"hypothetical protein Rv2559c\",0.1113,0.74],[null,\"integral membrane protein\",0.7906,1.09],[null,\"glutamine ABC transporter permease\",0.7906,1.09],[\"glnQ\",\"glutamine ABC transporter ATP-binding protein\",0.3721,1.08],[null,\"NTE family protein\",0.0241,0.7],[null,\"hypothetical protein Rv2566\",0.0738,0.87],[null,\"hypothetical protein Rv2567\",0.1566,1.12],[null,\"hypothetical protein Rv2568c\",0.4011,0.88],[null,\"hypothetical protein Rv2569c\",0.5652,0.94],[\"aspS\",\"aspartate--tRNA ligase\",0.118,1.16],[null,\"2-dehydropantoate 2-reductase\",0.2406,2.23],[null,\"hypothetical protein Rv2574\",0.6964,0.95],[null,\"membrane protein\",0.9802,1.07],[\"dhaA\",\"haloalkane dehalogenase\",0.1728,0.89],[\"hisS\",\"histidine--tRNA ligase\",0.3245,0.87],[null,\"glyoxalase II\",0.138,0.79],[\"ppiB\",\"peptidyl-prolyl cis-trans isomerase B\",0.5994,1.21],[\"relA\",\"bifunctional (p)ppGpp synthase/hydrolase RelA\",0.0225,0.71],[\"apt\",\"adenine phosphoribosyltransferase\",0.3917,0.85],[null,\"lipoprotein\",0.9665,1.05],[\"secF\",\"protein translocase subunit SecF\",0.5305,1.14],[\"secD\",\"protein translocase subunit SecD\",0.5671,1.15],[\"yajC\",\"membrane protein secretion factor YajC\",0.7963,1.07],[\"gabT\",\"4-aminobutyrate aminotransferase\",0.8619,1.01],[\"fadD9\",\"fatty-acid--CoA ligase FadD9\",0.2957,1.13],[\"ruvB\",\"Holliday junction ATP-dependent DNA helicase RuvB\",0.1468,0.74],[\"ruvA\",\"Holliday junction ATP-dependent DNA helicase RuvA\",0.6081,0.94],[null,\"transcriptional regulator\",0.1954,1.25],[\"snoP\",\"glutamine amidotransferase SnoP\",0.6975,1.05],[\"tesB2\",\"acyl-CoA thioesterase TesB\",0.7077,0.98],[\"snzP\",\"pyridoxine biosynthesis protein\",0.1368,1.2],[\"pdxH\",\"pyridoxine/pyridoxamine 5\\\\\\\\'-phosphate oxidase\",0.1092,0.84],[null,\"membrane protein\",0.1989,0.8],[\"pimA\",\"alpha-(1-2)-phosphatidylinositol mannosyltransferase\",0.0232,0.62],[null,\"phosphatidylinositol mannoside acyltransferase\",0.0343,0.69],[\"pgsA1\",\"CDP-diacylglycerol--inositol 3-phosphatidyltransferase\",0.2297,1.58],[null,\"AP-4-A phosphorylase\",0.4363,1.08],[\"thrS\",\"threonine--tRNA ligase\",0.9531,1.01],[null,\"hypothetical protein Rv2616\",0.0567,1.53],[null,\"methyltransferase\",0.3718,1.09],[\"TB31.7\",\"universal stress protein\",0.4444,0.84],[null,\"hypothetical protein Rv2629\",0.0372,0.74],[null,\"hypothetical protein Rv2632c\",0.1528,0.59],[\"dedA\",\"transmembrane protein DedA\",0.5288,0.86],[null,\"prophage protein\",0.0026,1.46],[null,\"prophage protein\",0.4222,1.25],[\"clpC2\",\"ATP-dependent protease ATP-binding subunit ClpC\",0.2137,0.82],[null,\"hypothetical protein Rv2670c\",0.0636,0.77],[\"ribD\",\"bifunctional diaminohydroxyphosphoribosylaminopyrimidine deaminase/5-amino-6-(5-phosphoribosylamino)uracil reductase\",0.2952,0.88],[null,\"protease\",0.3727,1.29],[\"aftC\",\"alpha-(1->3)-arabinofuranosyltransferase\",0.9774,1.02],[\"msrB\",\"peptide methionine sulfoxide reductase MsrB\",0.0521,0.7],[null,\"hypothetical protein Rv2675c\",0.0259,1.22],[null,\"hypothetical protein Rv2676c\",0.7284,0.98],[\"hemY\",\"protoporphyrinogen oxidase\",0.6303,0.96],[\"hemE\",\"uroporphyrinogen decarboxylase\",0.9609,1.02],[\"echA15\",\"enoyl-CoA hydratase EchA15\",0.7232,1.02],[null,\"hypothetical protein Rv2680\",0.5698,0.95],[null,\"hypothetical protein Rv2681\",0.0335,0.83],[\"dxs1\",\"1-deoxy-D-xylulose 5-phosphate synthase\",0.1182,0.68],[null,\"hypothetical protein Rv2683\",0.3454,1.16],[null,\"hypothetical protein Rv2689c\",0.3797,0.89],[\"ceoB\",\"TRK system potassium uptake protein CeoB\",0.3108,0.91],[\"ceoC\",\"TRK system potassium uptake protein CeoC\",0.3345,0.92],[null,\"hypothetical protein Rv2694c\",0.0056,0.7],[null,\"hypothetical protein Rv2695\",0.0265,1.22],[null,\"hypothetical protein Rv2696c\",0.4522,0.92],[\"dut\",\"deoxyuridine 5\\\\\\\\'-triphosphate nucleotidohydrolase\",0.9075,1.03],[null,\"hypothetical protein Rv2699c\",0.4101,1.17],[null,\"hypothetical protein Rv2700\",0.39,1.33],[\"suhB\",\"inositol-1-monophosphatase SuhB\",0.4496,0.94],[\"ppgK\",\"polyphosphate glucokinase\",0.1168,1.61],[\"sigA\",\"RNA polymerase sigma factor SigA\",0.7443,0.97],[\"sigB\",\"RNA polymerase sigma factor SigB\",0.0725,1.67],[\"ideR\",\"iron-dependent repressor and activator IdeR\",0.9043,1.01],[\"sthA\",\"pyridine nucleotide transhydrogenase\",0.0084,0.78],[null,\"hypothetical protein Rv2714\",0.1974,0.82],[null,\"hydrolase\",0.0215,0.51],[null,\"hypothetical protein Rv2716\",0.4253,1.08],[null,\"hypothetical protein Rv2717c\",0.4214,0.8],[\"nrdR\",\"transcriptional regulator NrdR\",0.6416,0.94],[\"lexA\",\"repressor LexA\",0.0154,0.84],[null,\"hypothetical protein Rv2721c\",0.4637,1.27],[\"fadE20\",\"acyl-CoA dehydrogenase FadE20\",0.9527,1.05],[\"hflX\",\"GTP-binding protein HflX\",0.4767,0.89],[\"dapF\",\"diaminopimelate epimerase\",0.8278,1.02],[\"miaA\",\"tRNA delta(2)-isopentenylpyrophosphate transferase\",0.8276,0.98],[null,\"hypothetical protein Rv2728c\",0.0109,1.27],[null,\"hypothetical protein Rv2731\",0.5682,0.91],[null,\"transmembrane protein\",0.5685,0.88],[null,\"(dimethylallyl)adenosine tRNA methylthiotransferase\",0.4085,0.82],[\"recA\",\"recombinase A\",0.0395,0.66],[null,\"transferase\",0.5595,0.94],[\"ephG\",\"epoxide hydrolase\",0.5171,1.2],[null,\"hypothetical protein Rv2743c\",0.1108,1.47],[\"35kd_ag\",\"hypothetical protein Rv2744c\",0.3224,1.15],[\"argA\",\"L-glutamate alpha-N-acetyltranferase\",0.538,1.07],[\"ftsK\",\"DNA translocase FtsK\",0.752,1.11],[null,\"dehydrogenase\",0.3137,0.95],[null,\"hypothetical protein Rv2751\",0.3117,0.86],[null,\"ribonuclease J\",0.1512,0.88],[\"dapA\",\"4-hydroxy-tetrahydrodipicolinate synthase\",0.046,0.92],[\"thyX\",\"thymidylate synthase ThyX\",0.6489,0.98],[\"hsdM\",\"type I restriction/modification system DNA methylase HsdM\",0.0043,0.75],[\"vapC42\",\"ribonuclease VapC42\",0.89,1.14],[\"dfrA\",\"dihydrofolate reductase\",0.543,1.04],[\"thyA\",\"thymidylate synthase ThyA\",0.2877,0.8],[null,\"hydrolase\",0.0434,1.27],[null,\"short-chain type dehydrogenase/reductase\",0.1115,0.88],[null,\"hypothetical protein Rv2771c\",0.2262,1.31],[\"dapB\",\"4-hydroxy-tetrahydrodipicolinate reductase\",0.7096,1.02],[null,\"GCN5-like N-acetyltransferase\",0.0671,2.6],[null,\"oxidoreductase\",0.4816,1.2],[null,\"hypothetical protein Rv2778c\",0.1099,1.34],[\"ald\",\"L-alanine dehydrogenase\",0.0054,0.83],[null,\"oxidoreductase\",0.6024,0.94],[\"pepR\",\"zinc protease\",0.0386,0.63],[\"gpsI\",\"bifunctional guanosine pentaphosphate synthetase/polyribonucleotide nucleotidyltransferase\",0.0789,1.14],[\"rpsO\",\"30S ribosomal protein S15\",0.138,0.88],[\"ribF\",\"bifunctional riboflavin kinase /FMN adenylyltransferase\",0.1359,0.86],[\"sirR\",\"transcriptional repressor SirR\",0.9626,1.01],[\"fadE21\",\"acyl-CoA dehydrogenase FadE21\",0.1361,1.44],[\"ltp1\",\"lipid-transfer protein\",0.2123,1.32],[\"truB\",\"tRNA pseudouridine synthase B\",0.0455,0.87],[\"pptT\",\"phosphopantetheinyl transferase\",0.1016,0.76],[null,\"hypothetical protein Rv2795c\",0.0745,0.82],[\"mazF9\",\"mRNA interferase MazF9\",0.1774,1.17],[null,\"arginine/hypothetical protein\",0.1593,0.83],[null,\"CRISPR-associated protein Csm6\",0.044,0.68],[null,\"CRISPR type III-associated RAMP protein Csm4\",0.0561,0.59],[null,\"CRISPR type III-associated RAMP protein Csm3\",0.0508,0.6],[null,\"CRISPR-associated endoribonuclease Cas6\",0.0089,0.62],[null,\"hypothetical protein Rv2826c\",0.0208,0.75],[null,\"hypothetical protein Rv2827c\",0.0079,0.67],[null,null,0.354,1.23],[\"echA16\",\"enoyl-CoA hydratase EchA16\",0.0711,1.29],[null,\"bifunctional oligoribonuclease/PAP phosphatase NrnA\",0.2277,0.83],[\"rbfA\",\"ribosome-binding factor RbfA\",0.4475,1.12],[\"infB\",\"translation initiation factor IF-2\",0.5968,0.95],[null,\"hypothetical protein Rv2840c\",0.5029,1.31],[\"nusA\",\"transcription termination/antitermination protein NusA\",0.9979,1.02],[null,\"ribosome maturation factor RimP\",0.3592,0.73],[\"proS\",\"proline--tRNA ligase\",0.0524,0.93],[\"cysG\",\"multifunctional uroporphyrin-III C-methyltransferase/precorrin-2 oxidase/ferrochelatase\",0.3985,1.07],[null,null,0.2329,0.75],[null,\"magnesium chelatase\",0.4567,0.92],[null,\"GCN5-like N-acetyltransferase\",0.5955,0.91],[\"mqo\",\"malate:quinone oxidoreductase\",0.3499,0.87],[null,\"hypothetical protein Rv2854\",0.8141,0.98],[\"mtr\",\"mycothione reductase\",0.1024,1.3],[null,\"short-chain type dehydrogenase/reductase\",0.9498,1.0],[\"aldC\",\"aldehyde dehydrogenase AldC\",0.2455,0.93],[null,\"glutamine amidotransferase\",0.2486,0.84],[\"glnA4\",\"glutamine synthetase\",0.0192,0.74],[\"mapB\",\"methionine aminopeptidase\",0.7525,1.03],[null,\"penicillin-binding lipoprotein\",0.0113,0.59],[\"gcpE\",\"4-hydroxy-3-methylbut-2-en-1-yl diphosphate synthase\",0.4228,0.91],[\"rip\",\"zinc metalloprotease\",0.7921,0.97],[\"dxr\",\"1-deoxy-D-xylulose 5-phosphate reductoisomerase\",0.2398,0.82],[\"vapC43\",\"ribonuclease VapC43\",0.8587,1.06],[\"mpt83\",\"cell surface lipoprotein\",0.9925,1.03],[\"frr\",\"ribosome recycling factor\",0.103,1.31],[\"pyrH\",\"uridylate kinase\",0.0137,1.57],[null,\"transcriptional regulator\",0.0462,0.6],[\"amiC\",\"amidase AmiC\",0.0048,0.87],[\"tsf\",\"elongation factor EF-Ts\",0.7725,0.96],[\"rpsB\",\"30S ribosomal protein S2\",0.0693,0.72],[null,\"oxidoreductase\",0.5378,1.05],[\"xerC\",\"tyrosine recombinase XerC\",0.2917,0.81],[\"viuB\",\"mycobactin utilization protein ViuB\",0.9191,1.01],[null,\"hypothetical protein Rv2901c\",0.6032,0.93],[\"rnhB\",\"ribonuclease HII\",0.1262,0.81],[\"lepB\",\"signal peptidase\",0.5596,1.15],[\"rplS\",\"50S ribosomal protein L19\",0.5232,0.87],[\"trmD\",\"tRNA (guanine-N1)-methyltransferase\",0.8124,1.03],[null,\"hypothetical protein Rv2908c\",0.203,0.81],[\"rpsP\",\"30S ribosomal protein S16\",0.1128,1.53],[\"dacB2\",\"penicillin-binding protein DacB2\",0.0025,0.43],[null,\"D-amino acid aminohydrolase\",0.1752,1.9],[null,\"hypothetical protein Rv2915c\",0.3217,0.84],[\"ffh\",\"signal recognition particle protein\",0.143,0.65],[\"glnB\",\"nitrogen regulatory protein P-II\",0.9307,1.01],[\"ftsY\",\"signal recognition particle receptor FtsY\",0.8479,1.07],[\"smc\",\"chromosome partition protein Smc\",0.0788,0.92],[\"acyP\",\"acylphosphatase\",0.0472,1.23],[null,\"hypothetical protein Rv2923c\",0.4293,0.88],[\"rnc\",\"ribonuclease III\",0.7741,1.06],[null,\"hypothetical protein Rv2926c\",0.1762,0.69],[null,\"hypothetical protein Rv2927c\",0.9282,0.96],[\"tesA\",\"thioesterase TesA\",0.656,1.05],[\"fadD26\",\"fatty-acid--CoA ligase FadD26\",0.029,2.28],[\"ppsA\",\"phthiocerol synthesis polyketide synthase type I PpsA\",0.0066,2.26],[\"ppsB\",\"phthiocerol synthesis polyketide synthase type I PpsB\",0.0041,2.13],[\"ppsC\",\"phthiocerol synthesis polyketide synthase type I PpsC\",0.0283,1.62],[\"ppsD\",\"phthiocerol synthesis polyketide synthase type I PpsD\",0.9056,1.08],[\"ppsE\",\"phthiocerol synthesis polyketide synthase type I PpsE\",0.3811,1.11],[\"papA5\",\"phthiocerol/phthiodiolone dimycocerosyl transferase\",0.189,1.32],[\"mas\",\"multifunctional mycocerosic acid synthase\",0.0234,1.76],[\"fadD28\",\"long-chain-fatty-acid--AMP ligase FadD28\",0.0116,1.52],[\"mmpL7\",\"transmembrane transport protein MmpL7\",0.2694,1.43],[\"lppX\",\"lipoprotein LppX\",0.0972,1.63],[\"pks1\",\"polyketide synthase\",0.3052,1.21],[\"pks15\",\"polyketide synthase\",0.8552,1.0],[\"fadD22\",\"p-hydroxybenzoyl--AMP ligase\",0.3278,1.26],[null,\"chorismate pyruvate-lyase\",0.1787,1.52],[\"fadD29\",\"long-chain-fatty-acid--AMP ligase FadD29\",0.9703,0.96],[null,\"phthiodiolone/phenolphthiodiolone dimycocerosates ketoreductase\",0.8106,0.98],[null,\"phthiotriol/phenolphthiotriol dimycocerosates methyltransferase\",0.7683,1.02],[null,\"trans-acting enoyl reductase\",0.5578,0.93],[null,\"hypothetical protein Rv2954c\",0.06,0.79],[null,\"hypothetical protein Rv2955c\",0.6137,1.11],[null,\"hypothetical protein Rv2956\",0.5015,0.86],[null,\"rhamnosyl O-methyltransferase\",0.3511,1.25],[null,\"PGL/p-HBAD biosynthesis rhamnosyltransferase\",0.8199,0.97],[\"purU\",\"formyltetrahydrofolate deformylase\",0.2618,1.13],[\"kdtB\",\"phosphopantetheine adenylyltransferase\",0.8686,1.05],[null,\"methyltransferase\",0.2841,0.94],[\"pca\",\"pyruvate carboxylase\",0.3688,1.06],[null,\"hypothetical protein Rv2969c\",0.3801,1.27],[\"lipN\",\"lipase/esterase LipN\",0.9507,1.0],[null,\"oxidoreductase\",0.2053,0.9],[null,\"50S ribosomal protein L28\",0.206,0.53],[\"ung\",\"uracil-DNA glycosylase\",0.7565,1.02],[\"thiL\",\"thiamine-monophosphate kinase\",0.9417,1.02],[\"ddlA\",\"D-alanine--D-alanine ligase\",0.4361,0.9],[\"gpdA2\",\"glycerol-3-phosphate dehydrogenase\",0.0444,0.77],[null,\"2-phospho-L-lactate guanylyltransferase\",0.5112,1.17],[\"ppk1\",\"polyphosphate kinase\",0.0838,0.95],[\"mutT1\",\"8-oxo-dGTP diphosphatase\",0.9447,1.05],[\"hupB\",\"DNA-binding protein HU\",0.9445,0.87],[\"leuD\",\"3-isopropylmalate dehydratase small subunit\",0.5696,0.89],[\"leuC\",\"3-isopropylmalate dehydratase large subunit\",0.3741,0.81],[null,\"transcriptional regulator\",0.3917,0.82],[null,\"hypothetical protein Rv2990c\",0.0048,1.27],[\"gltS\",\"glutamate--tRNA ligase\",0.1099,0.89],[null,null,0.7852,1.03],[\"leuB\",\"3-isopropylmalate dehydrogenase\",0.7279,0.97],[\"serA1\",\"D-3-phosphoglycerate dehydrogenase\",0.0743,0.87],[\"ilvC\",\"ketol-acid reductoisomerase\",0.57,0.92],[\"ilvN\",\"acetolactate synthase small subunit\",0.5902,0.94],[\"ilvB1\",\"acetolactate synthase large subunit IlvB\",0.0257,0.75],[null,\"hypothetical protein Rv3005c\",0.5976,0.84],[\"lppZ\",\"lipoprotein LppZ\",0.4107,1.24],[\"gatB\",\"aspartyl/glutamyl-tRNA(Asn/Gln) amidotransferase subunit B\",0.5077,0.94],[\"pfkA\",\"6-phosphofructokinase\",0.6418,1.1],[\"gatA\",\"glutamyl-tRNA(GLN) amidotransferase subunit A\",0.7057,0.96],[\"gatC\",\"glutamyl-tRNA(GLN) amidotransferase subunit C\",0.6907,0.94],[\"ligA\",\"DNA ligase A\",0.3153,1.06],[null,\"hypothetical protein Rv3015c\",0.9855,1.05],[\"trmU\",\"tRNA-specific 2-thiouridylase\",0.0386,0.66],[\"iscS\",\"cysteine desulfurase\",0.9436,1.08],[\"fixB\",\"electron transfer flavoprotein subunit alpha\",0.9579,1.01],[\"fixA\",\"electron transfer flavoprotein subunit beta\",0.5959,1.08],[null,\"S-adenosylmethionine-dependent methyltransferase\",0.424,1.13],[null,null,0.3406,0.91],[null,\"glycogen synthase\",0.4509,0.92],[null,\"acetyltransferase\",0.8305,0.99],[\"TB22.2\",\"hypothetical protein Rv3036c\",0.0103,0.34],[null,\"hypothetical protein Rv3038c\",0.6562,0.96],[\"echA17\",\"enoyl-CoA hydratase EchA17\",0.0839,1.08],[null,\"hypothetical protein Rv3040c\",0.1296,0.87],[null,\"ABC transporter ATP-binding protein\",0.2103,0.91],[\"serB2\",\"phosphoserine phosphatase SerB\",0.2396,0.82],[\"ctaD\",\"cytochrome C oxidase cytochrome 1\",0.5006,1.28],[\"fecB\",\"FeIII-dicitrate-binding periplasmic lipoprotein\",0.3564,0.84],[\"adhC\",\"NADP-dependent alcohol dehydrogenase\",0.5029,0.9],[null,\"hypothetical protein Rv3046c\",0.5443,0.89],[\"nrdF2\",\"ribonucleoside-diphosphate reductase subunit beta NrdF2\",0.5031,0.86],[null,\"monooxygenase\",0.0621,0.55],[null,\"AsnC family transcriptional regulator\",0.1373,1.24],[\"nrdE\",\"ribonucleoside-diphosphate reductase subunit alpha\",0.0605,0.85],[\"nrdI\",\"NrdI protein\",0.7583,1.03],[null,\"hypothetical protein Rv3054c\",0.0983,1.17],[null,\"TetR family transcriptional regulator\",0.5949,1.14],[null,\"short chain alcohol dehydrogenase/reductase\",0.2399,0.82],[null,\"TetR family transcriptional regulator\",0.139,0.75],[\"cyp136\",\"cytochrome P450 Cyp136\",0.0342,0.57],[\"fadE22\",\"acyl-CoA dehydrogenase FadE22\",0.0324,1.24],[null,\"DeoR family transcriptional regulator\",0.0761,1.3],[\"pgmA\",\"phosphoglucomutase PgmA\",0.7375,1.02],[null,\"hypothetical protein Rv3071\",0.042,1.51],[null,\"hypothetical protein Rv3075c\",0.039,0.74],[null,\"hypothetical protein Rv3076\",0.2813,0.8],[null,\"hypothetical protein Rv3079c\",0.0331,0.83],[\"pknK\",\"serine/threonine-protein kinase PknK\",0.3839,0.87],[null,\"hypothetical protein Rv3081\",0.3127,1.05],[\"lipR\",\"acetyl-hydrolase LipR\",0.5592,0.89],[\"adhD\",\"alcohol dehydrogenase D\",0.0767,0.78],[null,\"diacyglycerol O-acyltransferase\",0.0531,0.58],[\"tgs4\",\"diacyglycerol O-acyltransferase\",0.6724,0.9],[\"fadD13\",\"long chain-fatty-acid--CoA ligase FadD13\",0.0037,0.82],[null,\"hypothetical protein Rv3090\",0.9892,1.05],[null,\"hypothetical protein Rv3091\",0.0112,0.84],[null,\"oxidoreductase\",0.3119,1.28],[null,\"hypothetical protein Rv3094c\",0.1453,1.39],[null,\"HTH-type transcriptional regulator\",0.1025,1.19],[null,\"hypothetical protein Rv3099c\",0.2107,0.92],[\"smpB\",\"SsrA-binding protein\",0.2526,1.21],[\"ftsX\",\"cell division protein FtsX\",0.5554,1.33],[\"ftsE\",\"cell division ATP-binding protein FtsE\",0.9932,1.06],[null,\"transmembrane protein\",0.6024,1.55],[\"prfB\",\"peptide chain release factor PrfB\",0.7193,0.96],[\"fprA\",\"NADPH-ferredoxin reductase FprA\",0.1018,0.86],[\"agpS\",\"alkyldihydroxyacetonephosphate synthase\",0.6057,1.03],[\"moeB2\",\"molybdenum cofactor biosynthesis protein MoeB\",0.506,0.84],[\"moaE1\",\"molybdopterin synthase catalytic subunit 1\",0.0729,0.82],[null,\"hypothetical protein Rv3120\",0.1027,0.8],[\"cyp141\",\"cytochrome P450 Cyp141\",0.0942,0.68],[\"devS\",\"two component sensor histidine kinase DevS\",0.2654,0.84],[\"devR\",\"two component transcriptional regulator DevR\",0.539,1.54],[null,\"histidinol-phosphatase\",0.0992,0.87],[\"fadE24\",\"acyl-CoA dehydrogenase FadE24\",0.9595,1.0],[\"fadE23\",\"acyl-CoA dehydrogenase FadE23\",0.6526,0.95],[\"fadB4\",\"NADPH quinone oxidoreductase FadB\",0.6347,1.06],[null,\"hypothetical protein Rv3142c\",0.0961,1.89],[null,\"response regulator\",0.0783,0.7],[\"nuoB\",\"NADH-quinone oxidoreductase subunit B\",0.0463,0.76],[\"nuoC\",\"NADH-quinone oxidoreductase subunit C\",0.0529,0.72],[\"nuoD\",\"NADH-quinone oxidoreductase subunit D\",0.0127,0.71],[\"nuoE\",\"NADH-quinone oxidoreductase subunit E\",0.0778,0.75],[\"nuoF\",\"NADH-quinone oxidoreductase subunit F\",0.0656,0.73],[\"nuoG\",\"NADH-quinone oxidoreductase subunit G\",0.0737,0.8],[\"nuoI\",\"NADH-quinone oxidoreductase subunit I\",0.1381,0.75],[\"nuoJ\",\"NADH-quinone oxidoreductase subunit J\",0.661,0.95],[\"nuoM\",\"NADH-quinone oxidoreductase subunit M\",0.7569,0.94],[\"nuoN\",\"NADH-quinone oxidoreductase subunit N\",0.8026,0.97],[null,\"TetR family transcriptional regulator\",0.1786,1.17],[null,\"dioxygenase\",0.7271,1.09],[\"moxR3\",\"methanol dehydrogenase transcriptional regulator MoxR\",0.0135,0.62],[null,\"TetR family transcriptional regulator\",0.3221,0.85],[null,\"aminoglycoside phosphotransferase\",0.0315,0.75],[null,\"hypothetical protein Rv3169\",0.0111,0.67],[null,\"hypothetical protein Rv3179\",0.1021,0.73],[null,\"hypothetical protein Rv3188\",0.0152,0.69],[null,\"transmembrane protein\",0.3288,1.21],[null,\"hypothetical protein Rv3194c\",0.8964,1.0],[null,\"hypothetical protein Rv3196A\",0.3834,0.81],[null,\"ABC transporter ATP-binding protein\",0.5769,1.14],[\"uvrD2\",\"ATP-dependent DNA helicase UvrD\",0.0305,0.68],[null,\"transmembrane cation transporter\",0.8319,0.98],[\"lipV\",\"lipase LipV\",0.1524,1.23],[null,\"hypothetical protein Rv3205c\",0.6095,0.95],[\"moeB1\",\"adenylyltransferase/sulfurtransferase\",0.1305,0.79],[null,\"hypothetical protein Rv3207c\",0.5676,1.12],[null,\"TetR family transcriptional regulator\",0.0229,0.75],[\"TB9.4\",\"hypothetical protein Rv3208A\",0.3152,0.87],[null,\"hypothetical protein Rv3210c\",0.3597,1.08],[\"rhlE\",\"ATP-dependent RNA helicase RhlE\",0.017,0.64],[null,\"hypothetical protein Rv3212\",0.8163,0.98],[null,\"SOJ/ParA-like protein\",0.1209,0.74],[\"gpm2\",\"phosphoglycerate mutase\",0.3792,0.92],[\"entC\",\"isochorismate synthase\",0.2475,0.84],[null,\"hypothetical protein Rv3218\",0.9462,1.0],[null,\"two component sensor kinase\",0.0005,0.75],[\"sigH\",\"ECF RNA polymerase sigma factor SigH\",0.1562,0.82],[null,\"iron-regulated short-chain dehydrogenase/reductase\",0.7628,0.98],[null,\"GCN5-like N-acetyltransferase\",0.03,0.73],[null,\"hypothetical protein Rv3226c\",0.4602,0.91],[\"aroA\",\"3-phosphoshikimate 1-carboxyvinyltransferase\",0.4449,0.91],[null,\"hypothetical protein Rv3228\",0.088,0.87],[null,\"hypothetical protein Rv3231c\",0.3283,0.74],[\"ppk2\",\"polyphosphate kinase\",0.4443,0.78],[null,\"hypothetical protein Rv3237c\",0.2444,0.74],[\"secA1\",\"protein translocase subunit SecA\",0.3618,0.75],[null,\"hypothetical protein Rv3241c\",0.3141,0.75],[null,\"hypothetical protein Rv3243c\",0.3503,1.3],[\"lpqB\",\"lipoprotein LpqB\",0.402,1.18],[\"mtrA\",\"two component DNA-binding response regulator MtrA\",0.951,0.99],[\"tmk\",\"thymidylate kinase\",0.0559,1.33],[\"sahH\",\"adenosylhomocysteinase\",0.05,1.27],[null,\"TetR family transcriptional regulator\",0.0622,0.66],[null,\"hypothetical protein Rv3254\",0.3701,0.81],[\"manA\",\"mannose-6-phosphate isomerase\",0.0683,0.67],[null,\"hypothetical protein Rv3256c\",0.1642,0.81],[\"pmmA\",\"phosphomannomutase PmmA\",0.2301,0.83],[null,\"hypothetical protein Rv3259\",0.3036,0.77],[\"fbiA\",\"2-phospho-L-lactate transferase\",0.3564,0.92],[\"fbiB\",\"coenzyme F420:L-glutamate ligase\",0.8684,1.03],[\"manB\",\"D-alpha-D-mannose-1-phosphate guanylyltransferase ManB\",0.4117,0.92],[\"wbbL1\",\"N-acetylglucosaminyl-diphospho-decaprenol L-rhamnosyltransferase\",0.8564,1.04],[\"rmlD\",\"dTDP-4-dehydrorhamnose reductase\",0.9959,1.0],[null,\"hypothetical protein Rv3267\",0.1533,1.28],[null,\"hypothetical protein Rv3268\",0.1748,1.15],[null,\"hypothetical protein Rv3269\",0.1925,0.77],[\"ctpC\",\"manganese/zinc-exporting P-type ATPase\",0.1676,0.79],[null,\"hypothetical protein Rv3272\",0.0345,0.7],[null,\"transmembrane carbonic anhydrase\",0.2231,1.28],[\"fadE25\",\"acyl-CoA dehydrogenase FadE25\",0.6513,0.94],[\"purE\",\"N5-carboxyaminoimidazole ribonucleotide mutase\",0.3805,0.64],[\"purK\",\"N5-carboxyaminoimidazole ribonucleotide synthase\",0.0677,0.81],[null,\"transmembrane protein\",0.5279,1.23],[\"birA\",\"bifunctional biotin operon repressor/biotin-\",0.3811,1.11],[\"accD5\",\"propionyl-CoA carboxylase subunit beta\",0.206,0.95],[\"accE5\",\"bifunctional protein acetyl-/propionyl-CoAcarboxylase subunit epsilon AccE\",0.0002,1.53],[null,\"hypothetical protein Rv3282\",0.4192,0.92],[\"sseA\",\"thiosulfate sulfurtransferase SseA\",0.9785,1.02],[\"accA3\",\"bifunctional protein acetyl-/propionyl-CoA carboxylase subunit alpha AccA\",0.0762,1.22],[\"sigF\",\"RNA polymerase sigma factor SigF\",0.394,0.77],[\"rsbW\",\"anti-sigma factor RsbW\",0.3441,0.85],[\"lat\",\"L-lysine-epsilon aminotransferase\",0.0003,0.09],[\"lrpA\",\"transcriptional regulator LrpA\",0.8533,0.97],[null,\"hypothetical protein Rv3292\",0.0614,0.77],[\"pcd\",\"piperideine-6-carboxylic acid dehydrogenase\",0.0304,0.82],[null,\"TetR family transcriptional regulator\",0.7456,0.97],[\"lhr\",\"ATP-dependent helicase\",0.3739,0.92],[\"nei\",\"endonuclease VIII\",0.0097,0.52],[\"atsB\",\"arylsulfatase AtsB\",0.0074,0.65],[\"phoY1\",\"phosphate transport system transcriptional regulator PhoY\",0.0431,0.79],[\"glpD2\",\"glycerol-3-phosphate dehydrogenase\",0.1054,0.78],[\"lpdA\",\"NAD(P)H quinone reductase LpdA\",0.0309,0.74],[null,\"hypothetical protein Rv3304\",0.4276,1.13],[\"amiA1\",\"N-acyl-L-amino acid amidohydrolase AmiA\",0.1197,0.84],[\"amiB1\",\"amidase AmiB\",0.0336,0.65],[\"deoD\",\"purine nucleoside phosphorylase\",0.403,0.94],[\"pmmB\",\"phosphomannomutase PmmB\",0.0972,0.74],[\"upp\",\"uracil phosphoribosyltransferase\",0.7166,0.97],[null,\"hypothetical protein Rv3311\",0.0099,1.31],[\"add\",\"adenosine deaminase\",0.7825,0.97],[\"deoA\",\"thymidine phosphorylase\",0.1618,0.77],[\"cdd\",\"cytidine deaminase\",0.0564,0.72],[\"sdhA\",\"succinate dehydrogenase flavoprotein subunit\",0.7802,0.98],[\"sdhB\",\"succinate dehydrogenase iron-sulphur protein subunit\",0.9786,1.04],[\"vapC44\",\"ribonuclease VapC44\",0.6731,1.09],[null,\"methyltransferase\",0.5818,1.09],[\"sigJ\",\"ECF RNA polymerase sigma factor SigJ\",0.1882,0.8],[null,\"aminotransferase\",0.0016,0.66],[\"dacB1\",\"penicillin-binding protein DacB\",0.5476,0.9],[\"nagA\",\"N-acetylglucosamine-6-phosphate deacetylase NagA\",0.0167,0.87],[\"trpS\",\"tryptophan--tRNA ligase\",0.7884,1.05],[\"icd1\",\"isocitrate dehydrogenase\",0.7973,0.97],[\"metC\",\"O-acetylhomoserine sulfhydrylase\",0.5734,0.85],[\"metA\",\"homoserine O-acetyltransferase\",0.2675,0.69],[null,\"methyltransferase\",0.1036,0.78],[\"folD\",\"bifunctional methylenetetrahydrofolate dehydrogenase/methenyltetrahydrofolate cyclohydrolase\",0.9842,1.0],[null,\"hypothetical protein Rv3361c\",0.1128,0.67],[null,\"ATP/GTP-binding protein\",0.8329,0.99],[null,\"hypothetical protein Rv3365c\",0.8857,1.09],[\"spoU\",\"tRNA/rRNA methylase SpoU\",0.5599,1.09],[null,\"oxidoreductase\",0.3184,1.22],[null,\"hypothetical protein Rv3369\",0.1993,1.34],[\"otsB2\",\"trehalose 6-phosphate phosphatase\",0.0473,0.73],[\"amiD\",\"amidase\",0.0364,0.75],[null,\"phosphatase\",0.0165,0.8],[null,\"type B diterpene cyclase\",0.0202,0.75],[\"vapC46\",\"ribonuclease VapC46\",0.3723,0.79],[\"htdY\",\"3-hydroxyacyl-thioester dehydratase HtdY\",0.8317,1.07],[\"lpqD\",\"lipoprotein LpqD\",0.9818,1.06],[\"acrA1\",\"acyl-CoA-reductase AcrA\",0.1997,0.63],[\"cmaA1\",\"cyclopropane mycolic acid synthase CmaA\",0.0072,0.79],[\"iunH\",\"nucleoside hydrolase\",0.7206,0.97],[\"guaA\",\"GMP synthase\",0.0337,0.84],[\"phyA\",\"phytoene synthase\",0.8641,1.0],[\"idsA1\",\"multifunctional dimethylallyltransferase/geranyltranstransferase/farnesyltranstransferase\",0.942,0.95],[null,\"S-adenosylmethionine-dependent methyltransferase\",0.0042,0.74],[null,\"hydrolase\",0.0684,1.13],[null,\"glycosyl hydrolase\",0.6871,1.02],[null,\"hypothetical protein Rv3403c\",0.0468,0.58],[null,\"hypothetical protein Rv3404c\",0.7682,0.98],[null,\"HTH-type transcriptional regulator\",0.7683,1.0],[null,\"dioxygenase\",0.6167,0.78],[\"vapB47\",\"antitoxin VapB47\",0.013,0.46],[\"choD\",\"cholesterol oxidase\",0.5592,1.14],[\"guaB3\",\"oxidoreductase\",0.867,1.0],[\"guaB2\",\"inosine-5\\\\\\\\'-monophosphate dehydrogenase\",0.0509,0.8],[null,\"hypothetical protein Rv3415c\",0.5028,0.91],[\"groEL1\",\"chaperonin GroEL\",0.3979,0.95],[\"groES\",\"chaperonin GroES\",0.5493,0.96],[\"gcp\",\"O-sialoglycoprotein endopeptidase\",0.4911,1.08],[\"rimI\",\"ribosomal-protein-alanine acetyltransferase RimI\",0.4306,0.88],[null,\"hypothetical protein Rv3421c\",0.1088,0.72],[null,\"tRNA threonylcarbamoyladenosine biosynthesis protein\",0.4521,0.81],[\"alr\",\"alanine racemase\",0.7105,0.96],[\"gadB\",\"glutamate decarboxylase GadB\",0.2994,0.88],[null,\"bifunctional ADP-dependent (S)-NAD(P)H-hydrate dehydratase/NAD(P)H-hydrate epimerase\",0.835,1.02],[\"glmS\",\"glucosamine--fructose-6-phosphate aminotransferase\",0.1044,1.11],[null,\"hypothetical protein Rv3438\",0.7037,0.96],[\"mrsA\",\"phosphoglucosamine mutase\",0.0388,0.71],[\"rpsI\",\"30S ribosomal protein S9\",0.6826,0.95],[\"rplM\",\"50S ribosomal protein L13\",0.4893,1.2],[\"truA\",\"tRNA pseudouridine synthase A\",0.1744,0.81],[\"rplQ\",\"50S ribosomal protein L17\",0.4629,1.24],[\"rpoA\",\"DNA-directed RNA polymerase subunit alpha\",0.4139,0.89],[\"rpsD\",\"30S ribosomal protein S4\",0.1456,0.78],[\"rpsK\",\"30S ribosomal protein S11\",0.9936,1.02],[\"rpsM\",\"30S ribosomal protein S13\",0.5328,0.94],[null,\"hypothetical protein Rv3463\",0.2594,1.12],[null,null,0.1532,0.78],[null,null,0.9408,1.0],[null,\"hypothetical protein Rv3472\",0.0536,0.29],[null,\"diacyglycerol O-acyltransferase\",0.1525,0.74],[null,\"membrane protein\",0.3803,1.35],[null,\"hypothetical protein Rv3483c\",0.2188,1.43],[null,\"short-chain type dehydrogenase/reductase\",0.7998,0.98],[null,\"hypothetical protein Rv3488\",0.343,0.88],[null,\"hypothetical protein Rv3489\",0.2229,0.82],[\"otsA\",\"trehalose-phosphate synthase\",0.5392,0.95],[null,\"Mce associated protein\",0.7838,1.24],[\"mce4C\",\"Mce family protein Mce4C\",0.8398,0.98],[null,\"short-chain type dehydrogenase/reductase\",0.2661,0.82],[\"fadE26\",\"acyl-CoA dehydrogenase FadE26\",0.2959,0.83],[\"fadE27\",\"acyl-CoA dehydrogenase FadE27\",0.3779,0.92],[\"ilvX\",\"acetohydroxyacid synthase large subunit\",0.2911,0.95],[null,\"hypothetical protein Rv3510c\",0.2735,1.17],[\"fadD19\",\"long-chain-fatty-acid--CoA ligase FadD19\",0.1049,0.89],[\"echA19\",\"enoyl-CoA hydratase EchA19\",0.6435,0.95],[\"cyp142\",\"cytochrome P450 monooxygenase Cyp142\",0.21,1.24],[null,\"hypothetical protein Rv3519\",0.7356,1.03],[null,\"coenzyme F420-dependent oxidoreductase\",0.7674,1.09],[\"ltp3\",\"lipid carrier protein\",0.4044,0.87],[null,\"siderophore-binding protein\",0.3891,1.08],[\"kshA\",\"3-ketosteroid-9-alpha-hydroxylase oxygenase subunit\",0.3472,0.83],[null,\"hypothetical protein Rv3528c\",0.2322,0.85],[null,\"oxidoreductase\",0.4523,1.34],[\"hsaF\",\"4-hydroxy-2-oxovalerate aldolase\",0.5166,0.9],[\"hsaG\",\"acetaldehyde dehydrogenase\",0.2219,0.88],[\"hsaE\",\"hydratase\",0.318,1.07],[null,\"dehydrogenase\",0.2212,1.13],[\"fadE29\",\"acyl-CoA dehydrogenase FadE29\",0.251,0.83],[\"fadE28\",\"acyl-CoA dehydrogenase FadE28\",0.1672,1.23],[\"cyp125\",\"steroid C26-monooxygenase\",0.0629,0.76],[\"fadA5\",\"acetyl-CoA acetyltransferase FadA\",0.3906,0.88],[\"ddn\",\"deazaflavin-dependent nitroreductase\",0.1664,1.28],[null,\"short-chain type dehydrogenase/reductase\",0.0522,0.86],[\"echA20\",\"enoyl-CoA hydratase EchA20\",0.0026,0.76],[null,\"CoA-transferase subunit beta\",0.1636,0.77],[\"fdxB\",\"electron transfer protein FdxB\",0.6492,0.92],[\"fadA6\",\"acetyl-CoA acetyltransferase FadA\",0.9419,1.01],[null,\"HTH-type transcriptional regulator KstR2\",0.6991,1.1],[null,\"oxidoreductase\",0.7721,1.07],[\"fadE30\",\"acyl-CoA dehydrogenase FadE30\",0.1537,0.77],[\"fadD3\",\"fatty-acid--CoA ligase FadD3\",0.0203,0.7],[\"fadE31\",\"acyl-CoA dehydrogenase FadE31\",0.2372,0.81],[\"fadE32\",\"acyl-CoA dehydrogenase FadE32\",0.718,1.03],[\"fadE33\",\"acyl-CoA dehydrogenase FadE33\",0.0234,0.71],[\"aspB\",\"aspartate aminotransferase AspB\",0.0592,0.82],[\"nat\",\"arylamine N-acetyltransferase\",0.5698,0.94],[\"hsaC\",\"extradiol dioxygenase\",0.0964,0.88],[null,null,0.083,0.88],[\"hsaA\",\"flavin-dependent monooxygenase oxygenase subunit HsaA\",0.3851,0.85],[\"fadE34\",\"acyl-CoA dehydrogenase FadE34\",0.0106,0.81],[\"kstR\",\"HTH-type transcriptional regulator KstR\",0.1578,0.81],[null,\"LacI family transcriptional regulator\",0.1212,0.81],[null,\"tRNA/rRNA methyltransferase\",0.0026,0.25],[\"cysS1\",\"cysteine--tRNA ligase\",0.7911,0.97],[null,null,0.8108,0.96],[\"ispD\",\"2-C-methyl-D-erythritol 4-phosphate cytidylyltransferase\",0.6884,0.97],[null,\"RNA polymerase-binding transcription factor CarD\",0.1807,1.21],[\"lpqE\",\"lipoprotein LpqE\",0.516,1.21],[null,\"DNA integrity scanning protein DisA\",0.1008,0.73],[null,\"membrane protein\",0.3041,0.83],[\"canB\",\"carbonic anhydrase\",0.1342,1.24],[null,\"hydrolase\",0.7535,1.03],[null,\"heme-degrading monooxygenase\",0.8751,1.03],[null,\"hypothetical protein Rv3594\",0.4825,0.83],[\"clpC1\",\"ATP-dependent protease ATP-binding subunit ClpC\",0.077,1.15],[\"lsr2\",\"iron-regulated H-NS-like protein\",0.0765,0.59],[\"lysS\",\"lysine--tRNA ligase\",0.832,0.99],[null,\"type III pantothenate kinase\",0.3522,1.1],[\"panC\",\"pantothenate synthetase\",0.8772,0.99],[null,\"hypothetical protein Rv3603c\",0.688,0.95],[\"folK\",\"2-amino-4-hydroxy-6-hydroxymethyldihydropteridinepyrophosphokinase\",0.2366,1.14],[\"folB\",\"dihydroneopterin aldolase\",0.0321,1.24],[\"folP1\",\"dihydropteroate synthase\",0.1221,1.55],[\"folE\",\"GTP cyclohydrolase I\",0.8833,1.02],[\"ftsH\",\"zinc metalloprotease FtsH\",0.0875,1.37],[\"espD\",\"ESX-1 secretion-associated protein EspD\",0.1339,0.82],[\"espA\",\"ESX-1 secretion-associated protein EspA\",0.0339,0.5],[\"ephA\",\"epoxide hydrolase EphA\",0.7654,0.97],[null,\"monooxygenase\",0.5668,1.19],[\"lpqG\",\"lipoprotein LpqG\",0.2804,1.47],[\"hpt\",\"hypoxanthine-guanine phosphoribosyltransferase\",0.0496,0.78],[\"mesJ\",\"tRNA(Ile)-lysidine synthase\",0.3402,1.12],[null,\"hypothetical protein Rv3626c\",0.5395,1.12],[null,\"hypothetical protein Rv3627c\",0.4346,1.16],[\"ppa\",\"inorganic pyrophosphatase\",0.0236,1.45],[null,\"hypothetical protein Rv3633\",0.0158,0.52],[\"galE1\",\"UDP-glucose 4-epimerase\",0.8646,0.99],[null,\"DNA polymerase\",0.2283,0.9],[null,\"transmembrane protein\",0.3092,1.22],[\"topA\",\"DNA topoisomerase I\",0.0235,1.1],[null,\"hypothetical protein Rv3647c\",0.8424,1.03],[\"cspA\",\"cold shock protein A\",0.0293,0.68],[null,\"hypothetical protein Rv3651\",0.2605,0.79],[null,\"hypothetical protein Rv3661\",0.1274,0.81],[null,\"hypothetical protein Rv3662c\",0.0594,1.29],[\"acs\",\"acetyl-CoAsynthetase\",0.9126,1.01],[null,\"transmembrane protein\",0.359,1.66],[\"ephE\",\"epoxide hydrolase EphE\",0.3269,0.93],[\"nth\",\"endonuclease III\",0.0346,0.74],[\"crp\",\"cAMP receptor protein\",0.7127,0.97],[null,\"beta lactamase\",0.3154,0.82],[null,\"hypothetical protein Rv3678c\",0.0253,1.46],[null,\"anion transporter ATPase\",0.67,0.95],[null,\"anion transporter ATPase\",0.3311,0.89],[\"ponA2\",\"bifunctional penicillin-insensitive transglycosylase/penicillin-sensitive transpeptidase\",0.6764,1.17],[null,\"hypothetical protein Rv3683\",0.0859,0.66],[null,\"lyase\",0.9816,1.02],[\"cyp137\",\"cytochrome P450 Cyp137\",0.2117,0.84],[\"rsfB\",\"anti-anti-sigma factor RsfB\",0.0521,4.88],[null,\"hypothetical protein Rv3688c\",0.5016,1.17],[null,\"hypothetical protein Rv3691\",0.8132,0.97],[\"moxR2\",\"methanol dehydrogenase transcriptional regulator MoxR\",0.3284,0.87],[null,\"membrane protein\",0.9923,1.0],[null,\"membrane protein\",0.8338,1.0],[\"glpK\",\"glycerol kinase\",0.1882,0.92],[null,\"hypothetical protein Rv3699\",0.0956,1.15],[\"egtE\",\"pyridoxal-phosphate-dependent protein EgtE\",0.6559,0.96],[\"egtD\",\"histidine-specific methyltransferase EtgD\",0.1606,0.89],[\"egtC\",\"amidohydrolase EgtC\",0.386,1.13],[\"etgB\",\"iron(II)-dependent oxidoreductase EgtB\",0.4309,1.14],[\"gshA\",\"glutamate--cysteine ligase\",0.5169,0.95],[\"asd\",\"aspartate-semialdehyde dehydrogenase\",0.2446,0.86],[\"ask\",\"aspartokinase\",0.3876,0.9],[\"leuA\",\"2-isopropylmalate synthase\",0.6136,1.04],[\"dnaQ\",\"DNA polymerase III subunit epsilon\",0.2723,0.75],[null,\"ligase\",0.3502,0.85],[\"cobQ2\",\"cobyric acid synthase CobQ\",0.6079,1.28],[null,\"hypothetical protein Rv3714c\",0.3072,0.71],[\"recR\",\"recombination protein RecR\",0.6965,0.93],[null,\"hypothetical protein Rv3716c\",0.3133,1.3],[null,\"hypothetical protein Rv3717\",0.6979,1.18],[null,\"hypothetical protein Rv3718c\",0.0477,1.48],[null,\"hypothetical protein Rv3719\",0.5402,0.95],[null,\"fatty acid synthase\",0.1896,0.81],[\"dnaZX\",\"DNA polymerase III subunit gamma/tau\",0.2972,0.92],[null,\"hypothetical protein Rv3722c\",0.2395,0.88],[null,\"transmembrane protein\",0.9975,1.1],[null,\"dehydrogenase\",0.0405,0.68],[null,\"transferase\",0.9614,1.06],[null,\"hypothetical protein Rv3730c\",0.1956,0.91],[\"ligC\",\"DNA ligase C\",0.1404,0.76],[\"tgs2\",\"diacyglycerol O-acyltransferase\",0.1448,0.79],[null,\"AraC/XylS family transcriptional regulator\",0.0036,0.53],[null,\"hypothetical protein Rv3747\",0.1348,0.88],[null,\"hypothetical protein Rv3748\",0.6274,1.05],[null,\"hypothetical protein Rv3753c\",0.0627,2.27],[\"tyrA\",\"prephenate dehydrogenase TyrA\",0.9301,1.01],[null,\"hypothetical protein Rv3755c\",0.7587,1.06],[\"proX\",\"glycine betaine/carnitine/choline/L-proline ABC transporter substrate-binding lipoprotein ProX\",0.8509,1.04],[\"fadE36\",\"acyl-CoA dehydrogenase FadE36\",0.1329,0.79],[null,\"hydrolase\",0.0188,0.83],[\"lpqH\",\"lipoprotein LpqH\",0.6847,1.27],[\"tcrY\",\"two component sensor kinase TcrY\",0.0974,1.36],[\"tcrX\",\"two component transcriptional regulator TcrX\",0.221,1.36],[null,\"S-adenosylmethionine-dependent methyltransferase\",0.5517,1.08],[null,\"hypothetical protein Rv3768\",0.9393,1.11],[\"hisC2\",\"histidinol-phosphate aminotransferase\",0.2224,0.83],[null,\"hypothetical protein Rv3773c\",0.2428,1.31],[\"echA21\",\"enoyl-CoA hydratase EchA21\",0.2118,0.93],[\"lipE\",\"lipase LipE\",0.0641,0.81],[null,\"oxidoreductase\",0.5219,1.12],[null,\"aminotransferase\",0.2551,0.88],[null,\"transmembrane protein\",0.6193,1.1],[null,\"hypothetical protein Rv3780\",0.1081,1.44],[\"rfbE\",\"O-antigen/lipopolysaccharide ABC transporter ATP-binding protein RfbE\",0.1485,1.3],[\"glfT1\",\"galactofuranosyl transferase GlfT\",0.9381,1.02],[null,null,0.2642,1.15],[null,\"hypothetical protein Rv3785\",0.3037,0.83],[null,\"hypothetical protein Rv3786c\",0.0442,0.79],[null,\"S-adenosyl-L-methionine-dependent methyltransferase\",0.9931,1.03],[null,\"hypothetical protein Rv3788\",0.0262,1.68],[\"dprE1\",\"decaprenylphosphoryl-beta-D-ribose oxidase\",0.2727,0.85],[\"dprE2\",\"decaprenylphosphoryl-D-2-keto erythropentose reductase\",0.973,1.01],[\"embC\",\"arabinosyltransferase C\",0.4463,1.22],[\"embA\",\"arabinosyltransferase A\",0.2358,1.33],[\"embB\",\"arabinosyltransferase B\",0.18,1.41],[null,\"hypothetical protein Rv3796\",0.9402,1.02],[\"fadE35\",\"acyl-CoA dehydrogenase FadE35\",0.1009,0.93],[\"accD4\",\"propionyl-CoA carboxylase subunit beta AccD\",0.0685,0.86],[\"pks13\",\"polyketide synthase\",0.2921,0.97],[\"fadD32\",\"long-chain-fatty-acid--AMP ligase FadD32\",0.0727,0.89],[null,\"membrane protein\",0.0859,1.77],[\"fbpD\",\"MPT51/MPB51 antigen\",0.1139,0.8],[\"fbpA\",\"diacylglycerol acyltransferase/mycolyltransferase Ag85A\",0.3118,0.9],[\"ubiA\",\"decaprenyl-phosphate phosphoribosyltransferase\",0.7745,1.14],[null,\"decaprenylphosphoryl-5-phosphoribose phosphatase\",0.7961,1.03],[\"glfT2\",\"galactofuranosyl transferase GlfT\",0.283,0.83],[\"glf\",\"UDP-galactopyranose mutase\",0.1023,0.78],[null,\"hypothetical protein Rv3813c\",0.913,1.02],[null,\"acyltransferase\",0.9032,0.99],[null,\"acyltransferase\",0.7239,1.07],[null,\"phosphotransferase\",0.6014,0.95],[null,\"hypothetical protein Rv3818\",0.4808,0.93],[\"papA2\",\"trehalose-2-sulfate acyltransferase\",0.0325,0.79],[\"fadD23\",\"long-chain-fatty-acid--CoA ligase FadD23\",0.018,0.79],[null,\"TetR family transcriptional regulator\",0.1658,1.44],[\"serS\",\"serine--tRNA ligase\",0.9472,1.0],[null,\"phosphoglycerate mutase\",0.5771,1.07],[\"pheA\",\"prephenate dehydratase\",0.2023,1.18],[\"bfrB\",\"bacterioferritin BfrB\",0.0042,0.67],[\"glpQ1\",\"glycerophosphoryl diester phosphodiesterase\",0.578,0.94],[null,\"transmembrane protein\",0.9622,1.05],[\"sodA\",\"superoxide dismutase\",0.2117,0.9],[\"espR\",\"ESX-1 transcriptional regulator EspR\",0.3712,0.93],[null,\"hypothetical protein Rv3850\",0.9527,1.1],[\"hns\",\"histone-like protein Hns\",0.9929,1.08],[\"rraA\",\"RNase E regulator RraA\",0.0453,0.83],[\"ethA\",\"monooxygenase EthA\",0.1901,1.13],[\"ethR\",\"HTH-type transcriptional repressor EthR\",0.8923,0.99],[null,\"hypothetical protein Rv3856c\",0.6037,0.93],[\"gltD\",\"glutamate synthase small subunit\",0.2002,0.91],[\"gltB\",\"glutamate synthase large subunit\",0.8421,0.98],[null,\"hypothetical protein Rv3860\",0.5496,0.89],[null,\"hypothetical protein Rv3863\",0.1469,0.86],[\"espE\",\"ESX-1 secretion-associated protein EspE\",0.0617,1.71],[\"espF\",\"ESX-1 secretion-associated protein EspF\",0.5979,1.11],[\"espG1\",\"ESX-1 secretion-associated protein EspG\",0.4677,1.24],[\"espH\",\"ESX-1 secretion-associated protein EspH\",0.0023,2.34],[\"eccA1\",\"ESX-1 secretion system protein EccA1\",0.0686,1.07],[\"eccB1\",\"ESX-1 secretion system protein EccB\",0.9555,1.15],[\"eccCa1\",\"ESX-1 secretion system protein EccCa\",0.5596,1.2],[\"eccCb1\",\"ESX-1 secretion system protein EccCb\",0.3161,0.89],[\"PPE68\",\"PPE family protein PPE68\",0.2912,1.3],[\"esxB\",\"ESAT-6-like protein EsxB\",0.1207,0.78],[\"esxA\",\"ESAT-6 protein EsxA\",0.2593,0.75],[\"espI\",\"ESX-1 secretion-associated protein EspI\",0.7526,0.94],[\"eccD1\",\"ESX-1 secretion system protein EccD1\",0.5823,1.17],[\"espJ\",\"ESX-1 secretion-associated protein EspJ\",0.9356,0.99],[\"espK\",\"ESX-1 secretion-associated protein EspK\",0.8255,0.97],[\"espL\",\"ESX-1 secretion-associated protein EspL\",0.0442,1.44],[\"espB\",\"ESX-1 secretion-associated protein EspB\",0.0986,0.8],[\"eccE1\",\"ESX-1 secretion system protein EccE1\",0.5162,1.24],[\"mycP1\",\"membrane-anchored mycosin\",0.9978,1.11],[\"mycP2\",\"membrane-anchored mycosin\",0.6475,1.14],[null,\"membrane protein\",0.1387,1.5],[\"eccC2\",\"ESX-2 type VII secretion system protein EccC\",0.6776,1.18],[\"eccB2\",\"ESX-2 secretion system protein EccB\",0.4996,0.78],[null,\"hypothetical protein Rv3902c\",0.3672,1.17],[\"pcnA\",\"poly(A) polymerase PcnA\",0.2075,0.86],[\"mutT4\",\"mutator protein MutT\",0.0628,0.73],[null,\"hypothetical protein Rv3909\",0.9538,1.04],[null,\"peptidoglycan biosynthesis protein\",0.7023,1.11],[\"trxB2\",\"thioredoxin reductase\",0.4411,0.89],[\"trxC\",\"thioredoxin TrxC\",0.0882,1.5],[null,\"peptidoglycan hydrolase\",0.2517,0.82],[null,\"hypothetical protein Rv3916c\",0.8944,0.99],[\"parB\",\"chromosome partitioning protein ParB\",0.0788,0.77],[\"parA\",\"chromosome partitioning protein ParA\",0.6292,0.9],[null,\"hypothetical protein Rv3920c\",0.0163,1.36],[null,\"membrane protein insertase YidC\",0.2723,1.46],[null,\"membrane protein insertion efficiency factor\",0.9276,1.06]],\"hovertemplate\":\"<b>%{hovertext}</b><br><br>log_fc=%{x}<br>log_pvalue=%{y}<br>Locus=%{customdata[0]}<br>Protein Name=%{customdata[1]}<br>pvalue=%{customdata[2]}<br>fold_change=%{customdata[3]}<extra></extra>\",\"hovertext\":[\"Rv0001\",\"Rv0002\",\"Rv0003\",\"Rv0005\",\"Rv0006\",\"Rv0007\",\"Rv0008c\",\"Rv0009\",null,\"Rv0013\",\"Rv0014c\",\"Rv0015c\",\"Rv0016c\",\"Rv0018c\",\"Rv0019c\",\"Rv0020c\",\"Rv0023\",\"Rv0029\",\"Rv0034\",\"Rv0035\",\"Rv0036c\",\"Rv0038\",\"Rv0041\",\"Rv0042c\",\"Rv0043c\",\"Rv0044c\",\"Rv0045c\",\"Rv0046c\",\"Rv0047c\",\"Rv0048c\",\"Rv0050\",\"Rv0051\",\"Rv0052\",\"Rv0053\",\"Rv0054\",\"Rv0055\",\"Rv0056\",\"Rv0059\",\"Rv0060\",\"Rv0062\",\"Rv0063\",\"Rv0066c\",\"Rv0067c\",\"Rv0068\",\"Rv0069c\",\"Rv0070c\",\"Rv0072\",\"Rv0073\",\"Rv0074\",\"Rv0075\",\"Rv0077c\",\"Rv0078\",\"Rv0078A\",\"Rv0088\",\"Rv0091\",\"Rv0097\",\"Rv0099\",\"Rv0101\",\"Rv0106\",\"Rv0107c\",\"Rv0108c\",\"Rv0117\",\"Rv0118c\",\"Rv0119\",\"Rv0120c\",\"Rv0123\",\"Rv0125\",\"Rv0126\",\"Rv0127\",\"Rv0129c\",\"Rv0130\",\"Rv0131c\",\"Rv0133\",\"Rv0134\",\"Rv0135c\",\"Rv0136\",\"Rv0137c\",\"Rv0138\",\"Rv0139\",\"Rv0140\",\"Rv0141c\",\"Rv0144\",\"Rv0145\",\"Rv0146\",\"Rv0147\",\"Rv0148\",\"Rv0149\",\"Rv0153c\",\"Rv0154c\",\"Rv0155\",\"Rv0157\",\"Rv0158\",\"Rv0161\",\"Rv0162c\",\"Rv0163\",\"Rv0164\",\"Rv0166\",\"Rv0167\",\"Rv0169\",\"Rv0170\",\"Rv0171\",\"Rv0172\",\"Rv0173\",\"Rv0174\",\"Rv0175\",\"Rv0176\",\"Rv0177\",\"Rv0178\",\"Rv0179c\",\"Rv0180c\",\"Rv0181c\",\"Rv0182c\",\"Rv0183\",\"Rv0184\",\"Rv0186\",\"Rv0187\",\"Rv0189c\",\"Rv0190\",\"Rv0196\",\"Rv0198c\",\"Rv0200\",\"Rv0202c\",\"Rv0206c\",\"Rv0207c\",\"Rv0208c\",\"Rv0211\",\"Rv0212c\",\"Rv0214\",\"Rv0216\",\"Rv0217c\",\"Rv0220\",\"Rv0221\",\"Rv0222\",\"Rv0223c\",\"Rv0227c\",\"Rv0229c\",\"Rv0230c\",\"Rv0231\",\"Rv0232\",\"Rv0234c\",\"Rv0237\",\"Rv0238\",\"Rv0240\",\"Rv0241c\",\"Rv0242c\",\"Rv0243\",\"Rv0244c\",\"Rv0245\",\"Rv0247c\",\"Rv0248c\",\"Rv0249c\",\"Rv0250c\",\"Rv0251c\",\"Rv0254c\",\"Rv0255c\",\"Rv0262c\",\"Rv0264c\",\"Rv0265c\",\"Rv0266c\",\"Rv3098A\",\"Rv0269c\",\"Rv0270\",\"Rv0271c\",\"Rv0272c\",\"Rv0275c\",\"Rv0280\",\"Rv0281\",\"Rv0282\",\"Rv0283\",\"Rv0284\",\"Rv0287\",\"Rv0289\",\"Rv0290\",\"Rv0291\",\"Rv0292\",\"Rv0293c\",\"Rv0294\",\"Rv0295c\",\"Rv0296c\",\"Rv0300\",\"Rv0301\",\"Rv0303\",\"Rv0307c\",\"Rv0308\",\"Rv0311\",\"Rv0312\",\"Rv0313\",\"Rv0314c\",null,\"Rv0316\",\"Rv0317c\",\"Rv0319\",\"Rv0321\",\"Rv0323c\",\"Rv0324\",\"Rv0328\",\"Rv0330c\",\"Rv0331\",\"Rv0332\",\"Rv0333\",\"Rv0334\",\"Rv0337c\",\"Rv0338c\",\"Rv0339c\",\"Rv0341\",\"Rv0342\",\"Rv0343\",\"Rv0347\",\"Rv0348\",\"Rv0349\",\"Rv0350\",\"Rv0351\",\"Rv0352\",\"Rv0356c\",\"Rv0357c\",\"Rv0360c\",\"Rv0361\",\"Rv0363c\",\"Rv0365c\",\"Rv0376c\",\"Rv0379\",\"Rv0380c\",\"Rv0382c\",\"Rv0383c\",\"Rv0384c\",\"Rv0385\",\"Rv0386\",\"Rv0389\",\"Rv0390\",\"Rv0391\",\"Rv0392c\",\"Rv0394c\",\"Rv0400c\",\"Rv0404\",\"Rv0405\",\"Rv0406c\",\"Rv0407\",\"Rv0408\",\"Rv0409\",\"Rv0410c\",\"Rv0411c\",\"Rv0412c\",\"Rv0413\",\"Rv0414c\",\"Rv0415\",\"Rv0417\",\"Rv0418\",\"Rv0419\",\"Rv0421c\",\"Rv0422c\",\"Rv0423c\",\"Rv0425c\",\"Rv0426c\",\"Rv0427c\",\"Rv0428c\",\"Rv0429c\",\"Rv0430\",\"Rv0431\",\"Rv0432\",\"Rv0433\",\"Rv0435c\",\"Rv0437c\",\"Rv0438c\",\"Rv0439c\",\"Rv0440\",\"Rv0443\",\"Rv0444c\",\"Rv0445c\",\"Rv0450c\",\"Rv0451c\",\"Rv0452\",\"Rv0456c\",\"Rv0457c\",\"Rv0458\",\"Rv0459\",\"Rv0462\",\"Rv0464c\",\"Rv0465c\",\"Rv0466\",\"Rv0467\",\"Rv0468\",\"Rv0469\",\"Rv0470c\",\"Rv0472c\",\"Rv0473\",\"Rv0474\",\"Rv0475\",\"Rv0478\",\"Rv0479c\",\"Rv0480c\",\"Rv0481c\",\"Rv0482\",\"Rv0483\",\"Rv0484c\",\"Rv0485\",\"Rv0486\",\"Rv0487\",null,\"Rv0491\",\"Rv0492c\",\"Rv0493c\",\"Rv0494\",\"Rv0497\",\"Rv0498\",\"Rv0499\",\"Rv0500\",\"Rv0500A\",\"Rv0501\",\"Rv0502\",\"Rv0503c\",\"Rv0504c\",\"Rv0505c\",\"Rv0509\",\"Rv0510\",\"Rv0511\",\"Rv0512\",\"Rv0513\",\"Rv0516c\",\"Rv0523c\",null,\"Rv0525\",\"Rv0526\",\"Rv0530\",\"Rv0533c\",\"Rv0535\",\"Rv0536\",\"Rv0537c\",\"Rv0538\",\"Rv0539\",\"Rv0540\",\"Rv0542c\",\"Rv0543c\",\"Rv0546c\",\"Rv0547c\",null,\"Rv0549c\",\"Rv0551c\",\"Rv0552\",\"Rv0553\",\"Rv0554\",null,\"Rv0558\",\"Rv0560c\",\"Rv0561c\",\"Rv0562\",\"Rv0563\",\"Rv0564c\",\"Rv0565c\",\"Rv0566c\",\"Rv0567\",\"Rv0568\",\"Rv0571c\",\"Rv0576\",\"Rv0577\",\"Rv0580c\",\"Rv0583c\",\"Rv0586\",\"Rv0592\",\"Rv0597c\",\"Rv0598c\",\"Rv0602c\",\"Rv0604\",\"Rv0613c\",\"Rv0629c\",\"Rv0630c\",\"Rv0631c\",\"Rv0632c\",\"Rv0633c\",\"Rv0634c\",\"Rv0634A\",\"Rv0635\",\"Rv0636\",\"Rv0638\",\"Rv0639\",\"Rv0640\",\"Rv0641\",\"Rv0642c\",\"Rv0643c\",\"Rv0644c\",\"Rv0645c\",\"Rv0646c\",\"Rv0647c\",\"Rv0651\",\"Rv0652\",\"Rv0654\",\"Rv0655\",\"Rv0667\",\"Rv0668\",\"Rv0669c\",\"Rv0670\",\"Rv0672\",\"Rv0673\",\"Rv0674\",\"Rv0675\",\"Rv0676c\",\"Rv0677c\",\"Rv0678\",\"Rv0681\",\"Rv0683\",\"Rv0684\",\"Rv0685\",\"Rv0686\",\"Rv0687\",\"Rv0688\",\"Rv0690c\",\"Rv0694\",\"Rv0695\",\"Rv0696\",\"Rv0697\",\"Rv0700\",\"Rv0701\",\"Rv0702\",\"Rv0703\",\"Rv0704\",\"Rv0705\",\"Rv0706\",\"Rv0707\",\"Rv0708\",\"Rv0709\",\"Rv0710\",\"Rv0711\",\"Rv0712\",\"Rv0713\",\"Rv0714\",\"Rv0715\",\"Rv0716\",\"Rv0718\",\"Rv0719\",\"Rv0720\",\"Rv0721\",\"Rv0722\",\"Rv0723\",\"Rv0724\",\"Rv0726c\",\"Rv0727c\",\"Rv0729\",\"Rv0730\",\"Rv0731c\",\"Rv0732\",\"Rv0733\",\"Rv0734\",\"Rv0738\",\"Rv0740\",\"Rv0743c\",null,\"Rv0751c\",\"Rv0752c\",\"Rv0753c\",\"Rv0757\",\"Rv0758\",\"Rv0759c\",\"Rv0760c\",\"Rv0761c\",\"Rv0764c\",\"Rv0765c\",\"Rv0766c\",\"Rv0767c\",\"Rv0768\",\"Rv0769\",\"Rv0770\",\"Rv0772\",\"Rv0773c\",\"Rv0774c\",\"Rv0775\",\"Rv0777\",\"Rv0778\",\"Rv0780\",\"Rv0785\",\"Rv0786c\",\"Rv0787A\",\"Rv0788\",\"Rv0791c\",\"Rv0792c\",\"Rv0794c\",\"Rv0798c\",\"Rv0799c\",\"Rv0800\",\"Rv0801\",\"Rv0802c\",\"Rv0803\",\"Rv0806c\",\"Rv0807\",\"Rv0808\",\"Rv0809\",\"Rv0811c\",\"Rv0812\",\"Rv0813c\",\"Rv0814c\",\"Rv3118\",\"Rv0815c\",\"Rv3117\",\"Rv0817c\",\"Rv0818\",\"Rv0819\",\"Rv0820\",\"Rv0821c\",\"Rv0822c\",\"Rv0823c\",\"Rv0824c\",\"Rv0825c\",\"Rv0830\",\"Rv0831c\",\"Rv0835\",\"Rv0837c\",\"Rv0839\",\"Rv0840c\",\"Rv0844c\",\"Rv0852\",\"Rv0853c\",\"Rv0854\",\"Rv0855\",\"Rv0858c\",\"Rv0859\",\"Rv0860\",\"Rv0861c\",\"Rv0862c\",\"Rv0864\",\"Rv0865\",\"Rv0866\",\"Rv0868c\",\"Rv0871\",\"Rv0873\",\"Rv0877\",\"Rv0880\",\"Rv0884c\",\"Rv0885\",\"Rv0886\",\"Rv0887c\",\"Rv0888\",\"Rv0889c\",\"Rv0890c\",\"Rv0893c\",\"Rv0896\",\"Rv0897c\",\"Rv0899\",\"Rv0902c\",\"Rv0903c\",\"Rv0904c\",\"Rv0905\",\"Rv0906\",\"Rv0907\",\"Rv0910\",\"Rv0911\",\"Rv0913c\",\"Rv0914c\",\"Rv0923c\",\"Rv0925c\",\"Rv0926c\",\"Rv0927c\",\"Rv0928\",\"Rv0931c\",\"Rv0932c\",\"Rv0933\",\"Rv0934\",\"Rv0937c\",\"Rv0938\",null,\"Rv0940c\",\"Rv0941c\",\"Rv0946c\",\"Rv0949\",\"Rv0951\",\"Rv0952\",\"Rv0953c\",\"Rv0954\",\"Rv0956\",\"Rv0957\",\"Rv0958\",\"Rv0959\",\"Rv0960\",\"Rv0966c\",\"Rv0967\",\"Rv0968\",\"Rv0969\",\"Rv0971c\",\"Rv0972c\",\"Rv0973c\",\"Rv0974c\",\"Rv0975c\",\"Rv0979A\",\"Rv0981\",\"Rv0983\",\"Rv0984\",\"Rv0989c\",\"Rv0991c\",\"Rv0992c\",\"Rv0993\",\"Rv0994\",\"Rv0995\",\"Rv0998\",\"Rv0999\",\"Rv1001\",\"Rv1006\",\"Rv1007c\",\"Rv1008\",\"Rv1010\",\"Rv1011\",\"Rv1013\",\"Rv1014c\",\"Rv1015c\",\"Rv1016c\",\"Rv1017c\",\"Rv1018c\",\"Rv1019\",\"Rv1020\",\"Rv1021\",\"Rv1023\",\"Rv1025\",\"Rv1026\",\"Rv1033c\",\"Rv1043c\",\"Rv1045\",\"Rv1056\",\"Rv1058\",\"Rv1059\",\"Rv1060\",\"Rv1061\",\"Rv1062\",\"Rv1063c\",\"Rv1070c\",\"Rv1071c\",\"Rv1072\",\"Rv1074c\",\"Rv1077\",\"Rv1078\",\"Rv1079\",\"Rv1080c\",\"Rv1082\",\"Rv1084\",null,\"Rv1092c\",\"Rv1093\",\"Rv1094\",\"Rv1095\",\"Rv1096\",\"Rv1098c\",null,\"Rv1100\",\"Rv1101c\",\"Rv1106c\",\"Rv1108c\",\"Rv1109c\",\"Rv1110\",\"Rv1111c\",\"Rv1112\",\"Rv1114\",\"Rv1117\",\"Rv1118c\",\"Rv1121\",\"Rv1122\",\"Rv1124\",\"Rv1126c\",null,\"Rv1129c\",\"Rv1130\",\"Rv1131\",\"Rv1133c\",\"Rv1141c\",\"Rv1142c\",\"Rv1143\",\"Rv1144\",null,\"Rv1151c\",\"Rv1153c\",\"Rv1154c\",\"Rv1155\",\"Rv1156\",\"Rv1159A\",\"Rv1160\",\"Rv1161\",\"Rv1162\",\"Rv1165\",\"Rv1166\",\"Rv1167c\",\"Rv1170\",\"Rv1173\",null,\"Rv1176c\",\"Rv1177\",\"Rv1178\",\"Rv1185c\",\"Rv1187\",\"Rv1188\",\"Rv1190\",\"Rv1191\",\"Rv1192\",\"Rv1193\",\"Rv1194c\",null,\"Rv1198\",null,\"Rv1202\",\"Rv1206\",\"Rv1207\",\"Rv1208\",\"Rv1209\",\"Rv1210\",\"Rv1213\",\"Rv1215c\",\"Rv1216c\",\"Rv1218c\",\"Rv1219c\",\"Rv1220c\",\"Rv1221\",\"Rv1222\",\"Rv1223\",\"Rv1225c\",\"Rv1229c\",\"Rv1230c\",\"Rv1232c\",\"Rv1234\",\"Rv1235\",\"Rv1238\",\"Rv1239c\",\"Rv1240\",\"Rv1242\",\"Rv1244\",\"Rv1245c\",\"Rv1248c\",\"Rv1249c\",\"Rv1251c\",\"Rv1253\",\"Rv1255c\",\"Rv1256c\",\"Rv1257c\",\"Rv1259\",\"Rv1260\",\"Rv1261c\",\"Rv1263\",\"Rv1264\",\"Rv1265\",\"Rv1266c\",\"Rv1267c\",\"Rv1269c\",\"Rv1270c\",\"Rv1274\",\"Rv1275\",\"Rv1276c\",\"Rv1278\",\"Rv1279\",\"Rv1280c\",\"Rv1281c\",\"Rv1283c\",\"Rv1284\",\"Rv1285\",\"Rv1286\",\"Rv1287\",\"Rv1288\",\"Rv1289\",\"Rv1292\",\"Rv1293\",\"Rv1294\",\"Rv1295\",\"Rv1296\",\"Rv1297\",\"Rv1298\",\"Rv1299\",\"Rv1301\",\"Rv1304\",\"Rv1306\",\"Rv1307\",\"Rv1308\",\"Rv1309\",\"Rv1310\",\"Rv1311\",null,\"Rv1315\",\"Rv1316c\",\"Rv1317c\",\"Rv1321\",\"Rv1322A\",\"Rv1323\",\"Rv1324\",null,null,\"Rv1328\",\"Rv1329c\",\"Rv1330c\",\"Rv1332\",\"Rv1333\",\"Rv1334\",\"Rv1335\",\"Rv1336\",\"Rv1338\",\"Rv1339\",\"Rv1340\",\"Rv1341\",\"Rv1345\",\"Rv1346\",\"Rv1347c\",\"Rv1350\",\"Rv1360\",\"Rv1196\",\"Rv1361c\",\"Rv1362c\",\"Rv1363c\",\"Rv1364c\",\"Rv1366\",\"Rv1367c\",\"Rv1368\",\"Rv1377c\",\"Rv1379\",\"Rv1380\",\"Rv1381\",\"Rv1383\",\"Rv1384\",\"Rv1385\",\"Rv1387\",\"Rv1388\",\"Rv1389\",\"Rv1390\",\"Rv1391\",\"Rv1392\",\"Rv1393c\",\"Rv1395\",\"Rv1397c\",\"Rv1398c\",\"Rv1399c\",\"Rv1400c\",\"Rv1402\",\"Rv1404\",\"Rv1406\",\"Rv1407\",\"Rv1408\",\"Rv1409\",\"Rv1410c\",\"Rv1411c\",\"Rv1412\",null,null,\"Rv1420\",\"Rv1421\",\"Rv1422\",\"Rv1423\",\"Rv1424c\",\"Rv1425\",\"Rv1426c\",\"Rv1427c\",\"Rv1428c\",\"Rv1429\",\"Rv1436\",\"Rv1437\",\"Rv1438\",\"Rv2614A\",\"Rv1439c\",\"Rv1442\",\"Rv1443c\",\"Rv1445c\",\"Rv1446c\",\"Rv1447c\",\"Rv1448c\",\"Rv1449c\",\"Rv1454c\",\"Rv1455\",\"Rv1458c\",\"Rv1461\",\"Rv1462\",\"Rv1463\",\"Rv1464\",\"Rv1465\",\"Rv1466\",\"Rv1467c\",\"Rv1471\",\"Rv1473\",\"Rv1475c\",\"Rv1477\",\"Rv1479\",\"Rv1480\",\"Rv1481\",\"Rv1483\",\"Rv1484\",\"Rv1485\",\"Rv1486c\",\"Rv1487\",\"Rv1488\",\"Rv1489\",\"Rv1492\",\"Rv1493\",\"Rv1496\",\"Rv1497\",\"Rv1498c\",\"Rv1498A\",\"Rv1501\",\"Rv1505c\",\"Rv1507c\",\"Rv1508c\",\"Rv1509\",\"Rv1511\",\"Rv1512\",\"Rv1513\",\"Rv1514c\",\"Rv1516c\",\"Rv1521\",\"Rv1523\",\"Rv1524\",\"Rv1526c\",\"Rv1527c\",\"Rv1530\",\"Rv1531\",\"Rv1533\",\"Rv1534\",\"Rv1536\",\"Rv1537\",\"Rv1538c\",\"Rv1540\",\"Rv1543\",\"Rv1544\",\"Rv1546\",\"Rv1547\",\"Rv1556\",\"Rv1558\",\"Rv1559\",\"Rv1561\",\"Rv1562c\",\"Rv1563c\",\"Rv1564c\",\"Rv1566c\",\"Rv1568\",\"Rv1569\",\"Rv1570\",\"Rv1571\",\"Rv1576c\",\"Rv1586c\",\"Rv1589\",\"Rv1590\",\"Rv1592c\",\"Rv1593c\",\"Rv1594\",\"Rv1595\",\"Rv1596\",\"Rv1597\",\"Rv1598c\",\"Rv1599\",\"Rv1600\",\"Rv1601\",\"Rv1602\",\"Rv1603\",\"Rv1605\",\"Rv1607\",\"Rv1608c\",\"Rv1609\",\"Rv1611\",\"Rv1612\",\"Rv1613\",\"Rv1614\",\"Rv1617\",\"Rv1618\",\"Rv1623c\",\"Rv1626\",\"Rv1627c\",\"Rv1628c\",\"Rv1629\",\"Rv1630\",\"Rv1631\",\"Rv1632c\",\"Rv1633\",\"Rv1636\",\"Rv1637c\",\"Rv1638\",\"Rv1640c\",\"Rv1641\",\"Rv1643\",\"Rv1644\",\"Rv1647\",\"Rv1649\",\"Rv1650\",\"Rv1652\",\"Rv1653\",\"Rv1654\",\"Rv1655\",\"Rv1656\",\"Rv1658\",\"Rv1659\",\"Rv1660\",\"Rv1661\",\"Rv1665\",\"Rv1673c\",\"Rv1676\",\"Rv1677\",\"Rv1679\",\"Rv1680\",\"Rv1683\",\"Rv1685c\",\"Rv1687c\",\"Rv1688\",\"Rv1689\",\"Rv1691\",\"Rv1692\",\"Rv1694\",\"Rv1695\",\"Rv1696\",\"Rv1697\",\"Rv1698\",\"Rv1699\",\"Rv1700\",\"Rv1701\",\"Rv1703c\",\"Rv1707\",\"Rv1708\",\"Rv1709\",\"Rv1710\",\"Rv1711\",\"Rv1712\",\"Rv1713\",\"Rv1719\",\"Rv1722\",\"Rv1723\",\"Rv1725c\",\"Rv1728c\",\"Rv1729c\",\"Rv1730c\",\"Rv1731\",\"Rv1732c\",\"Rv1742\",\"Rv1743\",\"Rv1745c\",\"Rv1746\",\"Rv1747\",\"Rv1748\",\"Rv1750c\",\"Rv1751\",\"Rv1761c\",\"Rv1762c\",\"Rv1767\",\"Rv1769\",\"Rv1770\",null,\"Rv1773c\",\"Rv1774\",\"Rv1778c\",\"Rv1780\",\"Rv1781c\",\"Rv1782\",\"Rv1783\",\"Rv1785c\",null,\"Rv1794\",\"Rv1795\",\"Rv1796\",\"Rv1797\",\"Rv1798\",null,\"Rv1808\",\"Rv1812c\",\"Rv1815\",\"Rv1816\",\"Rv1817\",\"Rv1819c\",\"Rv1820\",\"Rv1821\",\"Rv1822\",\"Rv1823\",\"Rv1825\",\"Rv1826\",\"Rv1827\",\"Rv1828\",\"Rv1829\",\"Rv1830\",\"Rv1832\",\"Rv1833c\",\"Rv1835c\",\"Rv1836c\",\"Rv1837c\",\"Rv1838c\",\"Rv1843c\",\"Rv1844c\",\"Rv1846c\",\"Rv1847\",\"Rv1850\",\"Rv1852\",\"Rv1854c\",\"Rv1855c\",\"Rv1856c\",\"Rv1857\",\"Rv1860\",\"Rv1862\",\"Rv1864c\",\"Rv1865c\",\"Rv1866\",\"Rv1867\",\"Rv1868\",\"Rv1869c\",\"Rv1871c\",\"Rv1872c\",\"Rv1874\",\"Rv1875\",\"Rv1876\",\"Rv1878\",\"Rv1879\",\"Rv1880c\",\"Rv1882c\",\"Rv1886c\",\"Rv1887\",\"Rv1890c\",\"Rv1894c\",\"Rv1896c\",\"Rv1897c\",\"Rv1899c\",\"Rv1900c\",\"Rv1901\",\"Rv1904\",\"Rv1905c\",\"Rv1908c\",\"Rv1912c\",\"Rv1914c\",\"Rv1919c\",\"Rv1920\",\"Rv1923\",\"Rv1925\",\"Rv1927\",\"Rv1928c\",\"Rv1932\",\"Rv1943c\",\"Rv1944c\",\"Rv1956\",\"Rv1957\",\"Rv1962c\",\"Rv1963c\",\"Rv1977\",\"Rv1978\",\"Rv1980c\",\"Rv1981c\",\"Rv1987\",\"Rv1989c\",\"Rv1990c\",\"Rv1991c\",\"Rv1992c\",\"Rv1993c\",\"Rv1996\",\"Rv1998c\",\"Rv2000\",\"Rv2001\",\"Rv2002\",\"Rv2005c\",\"Rv2006\",\"Rv2008c\",\"Rv2016\",\"Rv2017\",\"Rv2018\",\"Rv2019\",\"Rv2026c\",\"Rv2027c\",\"Rv2033c\",\"Rv2035\",\"Rv2037c\",\"Rv2041c\",\"Rv2042c\",\"Rv2043c\",\"Rv2045c\",\"Rv2046\",\"Rv2047c\",\"Rv2048c\",\"Rv2050\",\"Rv2051c\",\"Rv2052c\",\"Rv2054\",\"Rv2055c\",\"Rv2061c\",\"Rv2062c\",\"Rv2063A\",\"Rv2064\",\"Rv2065\",\"Rv2066\",\"Rv2067c\",\"Rv2068c\",\"Rv2071c\",\"Rv2074\",\"Rv2080\",\"Rv2082\",\"Rv2089c\",\"Rv2090\",\"Rv2091c\",\"Rv2092c\",\"Rv2094c\",\"Rv2095c\",\"Rv2096c\",\"Rv2097c\",\"Rv2101\",\"Rv2102\",\"Rv2103c\",\"Rv2109c\",\"Rv2110c\",\"Rv2111c\",\"Rv2112c\",\"Rv2114\",\"Rv2115c\",\"Rv2117\",\"Rv2118c\",\"Rv2119\",\"Rv2120c\",\"Rv2121c\",\"Rv2124c\",\"Rv2125\",\"Rv2129c\",\"Rv2130c\",\"Rv2131c\",\"Rv2133c\",\"Rv2134c\",\"Rv2135c\",\"Rv2138\",\"Rv2139\",\"Rv2140c\",\"Rv2141c\",\"Rv2142c\",\"Rv2145c\",\"Rv2147c\",\"Rv2148c\",\"Rv2149c\",\"Rv2150c\",\"Rv2151c\",\"Rv2152c\",\"Rv2153c\",\"Rv2155c\",\"Rv2156c\",\"Rv2157c\",null,\"Rv2159c\",\"Rv2161c\",\"Rv2165c\",\"Rv2166c\",\"Rv2171\",\"Rv2172c\",\"Rv2173\",\"Rv2175c\",\"Rv2176\",\"Rv2178c\",\"Rv2179c\",\"Rv2182c\",\"Rv2184c\",\"Rv2185c\",\"Rv2187\",\"Rv2188c\",\"Rv2190c\",\"Rv2192c\",\"Rv2194\",\"Rv2195\",\"Rv2196\",\"Rv2197c\",\"Rv2198c\",\"Rv2200c\",\"Rv2201\",\"Rv2202c\",\"Rv2203\",\"Rv2204c\",\"Rv2205c\",\"Rv2207\",\"Rv2210c\",\"Rv2211c\",\"Rv2212\",\"Rv2213\",\"Rv2214c\",\"Rv2215\",\"Rv2216\",\"Rv2217\",\"Rv2218\",\"Rv2219\",\"Rv2220\",\"Rv2221c\",\"Rv2222c\",\"Rv2224c\",\"Rv2225\",\"Rv2226\",\"Rv2228c\",\"Rv2229c\",\"Rv2230c\",\"Rv2231c\",\"Rv2232\",\"Rv2234\",\"Rv2237\",\"Rv2238c\",\"Rv2239c\",\"Rv2241\",\"Rv2242\",\"Rv2243\",\"Rv2244\",\"Rv2245\",\"Rv2246\",\"Rv2247\",\"Rv2249c\",\"Rv2251\",\"Rv2252\",\"Rv2256c\",\"Rv2257c\",\"Rv2258c\",\"Rv2259\",\"Rv2260\",\"Rv2263\",\"Rv1088a\",\"Rv2264c\",\"Rv2276\",null,\"Rv2282c\",\"Rv2284\",\"Rv2285\",\"Rv2286c\",\"Rv2466c\",\"Rv2289\",\"Rv2291\",\"Rv2294\",\"Rv2295\",\"Rv2296\",\"Rv2298\",\"Rv2299c\",\"Rv2302\",\"Rv2303c\",\"Rv2305\",\"Rv2307c\",\"Rv2313c\",\"Rv2314c\",\"Rv2315c\",\"Rv2319c\",\"Rv2326c\",\"Rv2327\",\"Rv2334\",\"Rv2335\",\"Rv2336\",\"Rv2337c\",\"Rv2338c\",\"Rv2342\",\"Rv2343c\",\"Rv2344c\",\"Rv2345\",\"Rv2350c\",\"Rv2351c\",\"Rv2357c\",\"Rv2358\",\"Rv2359\",\"Rv2360c\",\"Rv2361c\",\"Rv2363\",\"Rv2364c\",\"Rv2368c\",\"Rv2372c\",\"Rv2373c\",\"Rv2374c\",\"Rv2375\",\"Rv2378c\",\"Rv2379c\",\"Rv2380c\",\"Rv2381c\",\"Rv2383c\",\"Rv2384\",\"Rv2386c\",\"Rv2388c\",\"Rv2391\",\"Rv2392\",\"Rv2394\",\"Rv2397c\",\"Rv2400c\",\"Rv2402\",\"Rv2403c\",\"Rv2404c\",\"Rv2405\",\"Rv2406c\",\"Rv2409c\",\"Rv2410c\",\"Rv2411c\",\"Rv2413c\",\"Rv2416c\",\"Rv2417c\",\"Rv2418c\",\"Rv2419c\",\"Rv2420c\",\"Rv2421c\",\"Rv2423\",\"Rv2426c\",\"Rv2427c\",\"Rv2428\",\"Rv2429\",\"Rv2438c\",\"Rv2439c\",\"Rv2440c\",\"Rv2441c\",\"Rv2442c\",\"Rv2444c\",\"Rv2445c\",\"Rv2447c\",\"Rv2448c\",\"Rv2449c\",\"Rv2453c\",\"Rv2454c\",\"Rv2455c\",\"Rv2457c\",\"Rv2460c\",\"Rv2461c\",\"Rv2462c\",\"Rv2464c\",\"Rv2465c\",\"Rv2467\",\"Rv2468c\",\"Rv2471\",\"Rv2473\",\"Rv2474c\",\"Rv2475c\",\"Rv2476c\",\"Rv2477c\",\"Rv2482c\",\"Rv2483c\",\"Rv2484c\",\"Rv2486\",\"Rv2488c\",\"Rv2494\",\"Rv2495c\",\"Rv2496c\",\"Rv2497c\",\"Rv2498c\",\"Rv2500c\",\"Rv2501c\",\"Rv2502c\",\"Rv2503c\",\"Rv2504c\",\"Rv2506\",\"Rv2509\",\"Rv2510c\",\"Rv2511\",null,\"Rv2520c\",\"Rv2521\",\"Rv2522c\",\"Rv2524c\",\"Rv2525c\",\"Rv2527\",\"Rv2528c\",\"Rv2529\",\"Rv2530c\",\"Rv2531c\",\"Rv2533c\",\"Rv2534c\",\"Rv2535c\",\"Rv2536\",\"Rv2537c\",\"Rv2538c\",\"Rv2540c\",\"Rv2548A\",\"Rv2552c\",\"Rv2554c\",\"Rv2555c\",\"Rv2556c\",\"Rv2559c\",\"Rv2060\",\"Rv2563\",\"Rv2564\",\"Rv2565\",\"Rv2566\",\"Rv2567\",\"Rv2568c\",\"Rv2569c\",\"Rv2572c\",\"Rv2573\",\"Rv2574\",\"Rv2575\",\"Rv2579\",\"Rv2580c\",\"Rv2581c\",\"Rv2582\",\"Rv2583c\",\"Rv2584c\",\"Rv2585c\",\"Rv2586c\",\"Rv2587c\",\"Rv2588c\",\"Rv2589\",\"Rv2590\",\"Rv2592c\",\"Rv2593c\",\"Rv2603c\",\"Rv2604c\",\"Rv2605c\",\"Rv2606c\",\"Rv2607\",\"Rv2609c\",\"Rv2610c\",\"Rv2611c\",\"Rv2612c\",\"Rv2613c\",\"Rv2614c\",\"Rv2616\",\"Rv2622\",\"Rv2623\",\"Rv2629\",\"Rv2632c\",\"Rv2637\",\"Rv2650c\",\"Rv2658c\",\"Rv2667\",\"Rv2670c\",\"Rv2671\",\"Rv2672\",\"Rv2673\",\"Rv2674\",\"Rv2675c\",\"Rv2676c\",\"Rv2677c\",\"Rv2678c\",\"Rv2679\",\"Rv2680\",\"Rv2681\",\"Rv2682c\",\"Rv2683\",\"Rv2689c\",\"Rv2691\",\"Rv2692\",\"Rv2694c\",\"Rv2695\",\"Rv2696c\",\"Rv2697c\",\"Rv2699c\",\"Rv2700\",\"Rv2701c\",\"Rv2702\",\"Rv2703\",\"Rv2710\",\"Rv2711\",\"Rv2713\",\"Rv2714\",\"Rv2715\",\"Rv2716\",\"Rv2717c\",\"Rv2718c\",\"Rv2720\",\"Rv2721c\",\"Rv2724c\",\"Rv2725c\",\"Rv2726c\",\"Rv2727c\",\"Rv2728c\",\"Rv2731\",\"Rv2732c\",\"Rv2733c\",\"Rv2737c\",\"Rv2739c\",\"Rv2740\",\"Rv2743c\",\"Rv2744c\",\"Rv2747\",\"Rv2748c\",\"Rv2750\",\"Rv2751\",\"Rv2752c\",\"Rv2753c\",\"Rv2754c\",\"Rv2756c\",\"Rv2759c\",\"Rv2763c\",\"Rv2764c\",\"Rv2765\",\"Rv2766c\",\"Rv2771c\",\"Rv2773c\",\"Rv2775\",\"Rv2776c\",\"Rv2778c\",\"Rv2780\",\"Rv2781c\",\"Rv2782c\",\"Rv2783c\",\"Rv2785c\",\"Rv2786c\",\"Rv2788\",\"Rv2789c\",\"Rv2790c\",\"Rv2793c\",\"Rv2794c\",\"Rv2795c\",\"Rv2801c\",\"Rv2802c\",\"Rv2818c\",\"Rv2820c\",\"Rv2821c\",\"Rv2824c\",\"Rv2826c\",\"Rv2827c\",null,\"Rv2831\",\"Rv2837c\",\"Rv2838c\",\"Rv2839c\",\"Rv2840c\",\"Rv2841c\",\"Rv2842c\",\"Rv2845c\",\"Rv2847c\",null,\"Rv2850c\",\"Rv2851c\",\"Rv2852c\",\"Rv2854\",\"Rv2855\",\"Rv2857c\",\"Rv2858c\",\"Rv2859c\",\"Rv2860c\",\"Rv2861c\",\"Rv2864c\",\"Rv2868c\",\"Rv2869c\",\"Rv2870c\",\"Rv2872\",\"Rv2873\",\"Rv2882c\",\"Rv2883c\",\"Rv2884\",\"Rv2888c\",\"Rv2889c\",\"Rv2890c\",\"Rv2893\",\"Rv2894c\",\"Rv2895c\",\"Rv2901c\",\"Rv2902c\",\"Rv2903c\",\"Rv2904c\",\"Rv2906c\",\"Rv2908c\",\"Rv2909c\",\"Rv2911\",\"Rv2913c\",\"Rv2915c\",\"Rv2916c\",\"Rv2919c\",\"Rv2921c\",\"Rv2922c\",\"Rv2922A\",\"Rv2923c\",\"Rv2925c\",\"Rv2926c\",\"Rv2927c\",\"Rv2928\",\"Rv2930\",\"Rv2931\",\"Rv2932\",\"Rv2933\",\"Rv2934\",\"Rv2935\",\"Rv2939\",\"Rv2940c\",\"Rv2941\",\"Rv2942\",\"Rv2945c\",\"Rv2946c\",\"Rv2947c\",\"Rv2948c\",\"Rv2949c\",\"Rv2950c\",\"Rv2951c\",\"Rv2952\",\"Rv2953\",\"Rv2954c\",\"Rv2955c\",\"Rv2956\",\"Rv2959c\",\"Rv2962c\",\"Rv2964\",\"Rv2965c\",\"Rv2966c\",\"Rv2967c\",\"Rv2969c\",\"Rv2970c\",\"Rv2971\",\"Rv2975a\",\"Rv2976c\",\"Rv2977c\",\"Rv2981c\",\"Rv2982c\",\"Rv2983\",\"Rv2984\",\"Rv2985\",\"Rv2986c\",\"Rv2987c\",\"Rv2988c\",\"Rv2989\",\"Rv2990c\",\"Rv2992c\",null,\"Rv2995c\",\"Rv2996c\",\"Rv3001c\",\"Rv3002c\",\"Rv3003c\",\"Rv3005c\",\"Rv3006\",\"Rv3009c\",\"Rv3010c\",\"Rv3011c\",\"Rv3012c\",\"Rv3014c\",\"Rv3015c\",\"Rv3024c\",\"Rv3025c\",\"Rv3028c\",\"Rv3029c\",\"Rv3030\",null,\"Rv3032\",\"Rv3034c\",\"Rv3036c\",\"Rv3038c\",\"Rv3039c\",\"Rv3040c\",\"Rv3041c\",\"Rv3042c\",\"Rv3043c\",\"Rv3044\",\"Rv3045\",\"Rv3046c\",\"Rv3048c\",\"Rv3049c\",\"Rv3050c\",\"Rv3051c\",\"Rv3052c\",\"Rv3054c\",\"Rv3055\",\"Rv3057c\",\"Rv3058c\",\"Rv3059\",\"Rv3061c\",\"Rv3066\",\"Rv3068c\",\"Rv3071\",\"Rv3075c\",\"Rv3076\",\"Rv3079c\",\"Rv3080c\",\"Rv3081\",\"Rv3084\",\"Rv3086\",\"Rv3087\",\"Rv3088\",\"Rv3089\",\"Rv3090\",\"Rv3091\",\"Rv3093c\",\"Rv3094c\",\"Rv3095\",\"Rv3099c\",\"Rv3100c\",\"Rv3101c\",\"Rv3102c\",\"Rv3104c\",\"Rv3105c\",\"Rv3106\",\"Rv3107c\",\"Rv3116\",\"Rv3119\",\"Rv3120\",\"Rv3121\",\"Rv3132c\",\"Rv3133c\",\"Rv3137\",\"Rv3139\",\"Rv3140\",\"Rv3141\",\"Rv3142c\",\"Rv3143\",\"Rv3146\",\"Rv3147\",\"Rv3148\",\"Rv3149\",\"Rv3150\",\"Rv3151\",\"Rv3153\",\"Rv3154\",\"Rv3157\",\"Rv3158\",\"Rv3160c\",\"Rv3161c\",\"Rv3164c\",\"Rv3167c\",\"Rv3168\",\"Rv3169\",\"Rv3179\",\"Rv3188\",\"Rv3193c\",\"Rv3194c\",\"Rv3196A\",\"Rv3197\",\"Rv3198c\",\"Rv3200c\",\"Rv3203\",\"Rv3205c\",\"Rv3206c\",\"Rv3207c\",\"Rv3208\",\"Rv3208A\",\"Rv3210c\",\"Rv3211\",\"Rv3212\",\"Rv3213c\",\"Rv3214\",\"Rv3215\",\"Rv3218\",\"Rv3220c\",\"Rv3223c\",\"Rv3224\",\"Rv3225c\",\"Rv3226c\",\"Rv3227\",\"Rv3228\",\"Rv3231c\",\"Rv3232c\",\"Rv3237c\",\"Rv3240c\",\"Rv3241c\",\"Rv3243c\",\"Rv3244c\",\"Rv3246c\",\"Rv3247c\",\"Rv3248c\",\"Rv3249c\",\"Rv3254\",\"Rv3255c\",\"Rv3256c\",\"Rv3257c\",\"Rv3259\",\"Rv3261\",\"Rv3262\",\"Rv3264c\",\"Rv3265c\",\"Rv3266c\",\"Rv3267\",\"Rv3268\",\"Rv3269\",\"Rv3270\",\"Rv3272\",\"Rv3273\",\"Rv3274c\",\"Rv3275c\",\"Rv3276c\",\"Rv3278c\",\"Rv3279c\",\"Rv3280\",\"Rv3281\",\"Rv3282\",\"Rv3283\",\"Rv3285\",\"Rv3286c\",\"Rv3287c\",\"Rv3290c\",\"Rv3291c\",\"Rv3292\",\"Rv3293\",\"Rv3295\",\"Rv3296\",\"Rv3297\",\"Rv3299c\",\"Rv3301c\",\"Rv3302c\",\"Rv3303c\",\"Rv3304\",\"Rv3305c\",\"Rv3306c\",\"Rv3307\",\"Rv3308\",\"Rv3309c\",\"Rv3311\",\"Rv3313c\",\"Rv3314c\",\"Rv3315c\",\"Rv3318\",\"Rv3319\",\"Rv3320c\",\"Rv3322c\",\"Rv3328c\",\"Rv3329\",\"Rv3330\",\"Rv3332\",\"Rv3336c\",\"Rv3339c\",\"Rv3340\",\"Rv3341\",\"Rv3342\",\"Rv3356c\",\"Rv3361c\",\"Rv3362c\",\"Rv3365c\",\"Rv3366\",\"Rv3368c\",\"Rv3369\",\"Rv3372\",\"Rv3375\",\"Rv3376\",\"Rv3377c\",\"Rv3384c\",\"Rv3389c\",\"Rv3390\",\"Rv3391\",\"Rv3392c\",\"Rv3393\",\"Rv3396c\",\"Rv3397c\",\"Rv3398c\",\"Rv3399\",\"Rv3400\",\"Rv3401\",\"Rv3403c\",\"Rv3404c\",\"Rv3405c\",\"Rv3406\",\"Rv3407\",\"Rv3409c\",\"Rv3410c\",\"Rv3411c\",\"Rv3415c\",\"Rv3417c\",\"Rv3418c\",\"Rv3419c\",\"Rv3420c\",\"Rv3421c\",\"Rv3422c\",\"Rv3423c\",\"Rv3432c\",\"Rv3433c\",\"Rv3436c\",\"Rv3438\",\"Rv3441c\",\"Rv3442c\",\"Rv3443c\",\"Rv3455c\",\"Rv3456c\",\"Rv3457c\",\"Rv3458c\",\"Rv3459c\",\"Rv3460c\",\"Rv3463\",null,null,\"Rv3472\",\"Rv3480c\",\"Rv3482c\",\"Rv3483c\",\"Rv3485c\",\"Rv3488\",\"Rv3489\",\"Rv3490\",\"Rv3493c\",\"Rv3497c\",\"Rv3502c\",\"Rv3504\",\"Rv3505\",\"Rv3509c\",\"Rv3510c\",\"Rv3515c\",\"Rv3516\",\"Rv3518c\",\"Rv3519\",\"Rv3520c\",\"Rv3523\",\"Rv3525c\",\"Rv3526\",\"Rv3528c\",\"Rv3530c\",\"Rv3534c\",\"Rv3535c\",\"Rv3536c\",\"Rv3538\",\"Rv3543c\",\"Rv3544c\",\"Rv3545c\",\"Rv3546\",\"Rv3547\",\"Rv3548c\",\"Rv3550\",\"Rv3552\",\"Rv3554\",\"Rv3556c\",\"Rv3557c\",\"Rv3559c\",\"Rv3560c\",\"Rv3561\",\"Rv3562\",\"Rv3563\",\"Rv3564\",\"Rv3565\",\"Rv3566c\",\"Rv3568c\",null,\"Rv3570c\",\"Rv3573c\",\"Rv3574\",\"Rv3575c\",\"Rv3579c\",\"Rv3580c\",null,\"Rv3582c\",\"Rv3583c\",\"Rv3584\",\"Rv3586\",\"Rv3587c\",\"Rv3588c\",\"Rv3591c\",\"Rv3592\",\"Rv3594\",\"Rv3596c\",\"Rv3597c\",\"Rv3598c\",\"Rv3600c\",\"Rv3602c\",\"Rv3603c\",\"Rv3606c\",\"Rv3607c\",\"Rv3608c\",\"Rv3609c\",\"Rv3610c\",\"Rv3614c\",\"Rv3616c\",\"Rv3617\",\"Rv3618\",\"Rv3623\",\"Rv3624c\",\"Rv3625c\",\"Rv3626c\",\"Rv3627c\",\"Rv3628\",\"Rv3633\",\"Rv3634c\",\"Rv3644c\",\"Rv3645\",\"Rv3646c\",\"Rv3647c\",\"Rv3648c\",\"Rv3651\",\"Rv3661\",\"Rv3662c\",\"Rv3667\",\"Rv3669\",\"Rv3670\",\"Rv3674c\",\"Rv3676\",\"Rv3677c\",\"Rv3678c\",\"Rv3679\",\"Rv3680\",\"Rv3682\",\"Rv3683\",\"Rv3684\",\"Rv3685c\",\"Rv3687c\",\"Rv3688c\",\"Rv3691\",\"Rv3692\",\"Rv3693\",\"Rv3695\",\"Rv3696c\",\"Rv3699\",\"Rv3700c\",\"Rv3701c\",\"Rv3702c\",\"Rv3703c\",\"Rv3704c\",\"Rv3708c\",\"Rv3709c\",\"Rv3710\",\"Rv3711c\",\"Rv3712\",\"Rv3713\",\"Rv3714c\",\"Rv3715c\",\"Rv3716c\",\"Rv3717\",\"Rv3718c\",\"Rv3719\",\"Rv3720\",\"Rv3721c\",\"Rv3722c\",\"Rv3723\",\"Rv3726\",\"Rv3729\",\"Rv3730c\",\"Rv3731\",\"Rv3734c\",\"Rv3736\",\"Rv3747\",\"Rv3748\",\"Rv3753c\",\"Rv3754\",\"Rv3755c\",\"Rv3759c\",\"Rv3761c\",\"Rv3762c\",\"Rv3763\",\"Rv3764c\",\"Rv3765c\",\"Rv3767c\",\"Rv3768\",\"Rv3772\",\"Rv3773c\",\"Rv3774\",\"Rv3775\",\"Rv3777\",\"Rv3778c\",\"Rv3779\",\"Rv3780\",\"Rv3781\",\"Rv3782\",null,\"Rv3785\",\"Rv3786c\",\"Rv3787c\",\"Rv3788\",\"Rv3790\",\"Rv3791\",\"Rv3793\",\"Rv3794\",\"Rv3795\",\"Rv3796\",\"Rv3797\",\"Rv3799c\",\"Rv3800c\",\"Rv3801c\",\"Rv3802c\",\"Rv3803c\",\"Rv3804c\",\"Rv3806c\",\"Rv3807c\",\"Rv3808c\",\"Rv3809c\",\"Rv3813c\",\"Rv3814c\",\"Rv3816c\",\"Rv3817\",\"Rv3818\",\"Rv3820c\",\"Rv3826\",\"Rv3830c\",\"Rv3834c\",\"Rv3837c\",\"Rv3838c\",\"Rv3841\",\"Rv3842c\",\"Rv3843c\",\"Rv3846\",\"Rv3849\",\"Rv3850\",\"Rv3852\",\"Rv3853\",\"Rv3854c\",\"Rv3855\",\"Rv3856c\",\"Rv3858c\",\"Rv3859c\",\"Rv3860\",\"Rv3863\",\"Rv3864\",\"Rv3865\",\"Rv3866\",\"Rv3867\",\"Rv3868\",\"Rv3869\",\"Rv3870\",\"Rv3871\",\"Rv3873\",\"Rv3874\",\"Rv3875\",\"Rv3876\",\"Rv3877\",\"Rv3878\",\"Rv3879c\",\"Rv3880c\",\"Rv3881c\",\"Rv3882c\",\"Rv3883c\",\"Rv3886c\",\"Rv3888c\",\"Rv3894c\",\"Rv3895c\",\"Rv3902c\",\"Rv3907c\",\"Rv3908\",\"Rv3909\",\"Rv3910\",\"Rv3913\",\"Rv3914\",\"Rv3915\",\"Rv3916c\",\"Rv3917c\",\"Rv3918c\",\"Rv3920c\",\"Rv3921c\",\"Rv3922c\"],\"legendgroup\":\"\",\"marker\":{\"color\":\"#636efa\",\"symbol\":\"circle\"},\"mode\":\"markers\",\"name\":\"\",\"showlegend\":false,\"x\":[-0.34985487392815867,-0.47349291068425226,-0.5274336849053443,-0.1601115695686756,-0.2834450765112625,0.20930965692034073,0.9015238138352085,0.48034031645883923,-0.5789577827916004,-0.07626257807272245,0.05618759881472509,-0.028217951131961738,0.48955156557517593,0.1743619258954108,0.06657920252952654,0.24588537786161316,-0.3965819499038996,-0.42992559837786515,-0.6120809505659083,-0.3932164045901431,-0.026678421168572365,-0.25907711541593037,0.23173762470873707,-0.17196970311929133,0.22111002848836053,-0.03166740209211044,-0.24778212476886963,-0.6467569559753921,0.6015527356129304,0.34806667783750667,0.06973552033716546,-0.38390700271231937,0.12402484858683832,-0.5074462265746644,0.24655068237011896,-1.048966435091195,0.4708756247854088,0.009022019629748553,-0.20893987202030342,-0.38751283409164633,-0.02856810341841309,0.15593538134583065,0.10121865254789557,-0.4142204358405859,-0.7701913202396767,-0.4506638861411184,0.12690699753088328,-0.8287620936249958,-0.16738353498694722,-0.08121737290344914,-0.3693291439453098,0.10336720544515737,0.234652633091516,-0.030072018773138996,-0.02842131647911021,-1.3601665756948362,-1.0890135858159355,-0.6832868278770956,1.991971236805209,-0.15354304332762855,-1.439488184693256,-0.31383797796502566,0.037853262805333056,-0.015594894623816916,-0.4405626043307698,0.30237688291991166,-1.2077488228333977,0.253666908622681,-0.05417659816264147,0.05958853419339944,-0.3932483396103151,-0.6095981219687122,0.6030517511593644,0.23464550038085275,0.027533968483145307,0.18978808664233174,0.05294989151291475,0.43347219099508505,-0.027520339754467688,-0.2627703193421949,-0.08469063062808757,-0.18065073369169815,0.17730462947316866,0.5705246169398459,-0.3955949099429838,0.024271590963653247,-0.2766727234302309,0.09933851721463195,0.25076632204410293,0.06374478315445471,0.5098648087817197,-0.05151417846116164,-0.2570137560083933,-0.08399825419468337,-0.12947182465009563,0.19319712580769832,-0.9621416565345516,-0.1592894203930586,0.09050215480864662,0.13172073689590397,0.03469538239865881,-0.07645805645783721,0.016721221754519962,-0.008381107529126325,-0.08634410373490736,-0.04552851169023114,0.023712404293020788,0.14641326027237597,-0.19107219913718493,0.11425930842094528,0.0014014940883382997,-0.22228956800987168,-0.047028207258319965,-0.21170793205097518,-0.008354449050279532,0.21198668503813953,-0.47622956691735857,0.8375685785682874,0.017232193829444558,-0.3317864605337036,0.38111779486976627,0.5776706170964158,0.3972657312625571,0.3452760215638418,0.17325305162167112,0.3541885489784792,-0.23304314080416427,-0.3819329103075527,-0.5197222692482959,-0.4332444176950978,-0.7910162527107798,-0.6098964236223515,-0.00437511606651368,0.05617726383324485,0.12671413262297374,0.32132719048197617,-0.3228278669207435,-0.27683100541587596,-0.36500932437634676,-0.07658239175620278,-0.24402368067052166,0.1788579444868345,0.12721174649257286,0.20943646102943528,-0.004776056835794046,-0.31551415808854977,0.18280608975965457,0.5093958353868234,0.11034753508228841,0.12228037284073538,0.33164723994890727,0.1700406807945675,1.2720547444330172,0.08194923263947895,-0.1823314520765994,-0.20913354905587017,-0.4228479908005981,0.015732479804946194,0.4500075756331166,0.4500075756331166,-0.36045789571163583,-0.13274773004504753,-0.27798330272336974,-0.47651662577866005,-0.9992305897724845,1.7880740525245378,-0.19616261294882345,0.39179139977861577,0.41963018052810475,0.7473608471064853,-0.3075032141406141,-0.431940852736882,0.36390066723953973,0.5806580630789234,0.5340847916018455,-0.04341641363134424,0.16995776123346984,-0.13439142837049245,-0.053901858470033426,0.18265829616523743,2.8581767641003806,0.0661839601222136,0.3591120223584309,-0.05235940163257136,0.4614469539042387,-0.11701848758880301,0.09183882150003647,0.4116855731663549,-0.24566138545046595,0.7895045681895054,-0.0982865279632099,0.049499789996474496,-0.06492119530502087,-0.2321091505169808,-0.15138912538525434,0.0863613193294897,-0.05017990295365833,-0.4888589799035455,0.1254734516608402,0.04655977796769237,0.09447309798619896,-0.19322059927248364,0.2559883158027332,-0.17481930617363242,2.8792510707204544,1.0038044318358414,1.060558154010129,-0.29789599635033304,-0.0863322445012727,-0.14447280138470728,0.2918856886658275,0.3177324714381866,0.05073804195122066,-0.05057086852307826,-0.13886047569203747,-0.18599803374383284,0.7209714086279058,0.3267953065978931,0.05381471717955728,-0.19347325916832406,-0.3377358647458949,0.11624401747653086,0.34724309167394335,0.21058851703371834,0.48536141469697336,0.18012406780739273,-0.372467171156011,0.15179459643754833,-0.34813486348035094,0.12740808628702202,0.10877794538007528,-0.2028146942294934,-0.14230171025766508,0.06868715080562847,-0.3248055902094977,0.18846244510348875,-0.08091621699206608,-0.11182075135332976,-0.17306148274469532,0.231286923977658,0.4174822668913552,0.11091631943831932,-0.36748267807184687,0.16375361355247214,-0.11218504121951932,0.37804832890887324,0.03848529083613347,-0.2864487036086962,0.31476287239944656,0.012955762104958522,-0.4762214439729011,-0.07472913777348394,-0.07273705154441903,-0.16589119810722172,-0.17728954309407766,0.21307648147263306,-0.2907629530191248,0.5093920839177826,0.5045411735552261,-0.02376827255984497,-0.14715969883029617,-0.07245360989427611,-0.09381982914590252,-0.08693972423057307,-0.098321299367023,0.44237347803469806,-0.01623700800121067,0.3973709325446374,0.575693645847572,0.5070974592912381,0.03548009099452552,-0.2189963887134767,0.41560350565991816,-0.8588189614969182,-0.3917618557981637,-0.26066119176318336,0.2969485841672404,-0.2866343266074364,0.21020072634648596,1.8207035714248845,0.5431594623266353,0.057646733113834545,-0.4322149322445894,-0.1223705826449935,0.4327884307706468,-0.1844047383143404,0.23120446893455918,0.2597309245288092,0.09351815617304808,0.0940408548505899,0.19555728564485775,0.1359555643384686,0.140064215320977,0.10058004459696462,-0.7298303534410864,-0.35037086569911974,-0.06541931724922265,0.058913923526424744,-0.24717973852100475,0.13472314433072952,-0.638395175857605,0.05540780592756559,0.08592679083044714,-0.132665122479783,-0.19424476429872414,-0.028988687920088376,-0.2509899552710795,-0.5165734403359947,-0.2710365902102668,-0.21133841410664914,-0.1095572700623202,-0.18563863960161936,-0.40090190109741547,0.2877665125799672,-0.49505417302811044,0.14824588906891312,0.11988954804141443,-0.5926269238729247,0.055999239033356255,-0.34885470185367234,-0.029684239115004292,-1.0449618633195772,0.6046141615492525,-0.006485130412335735,-0.013649072404488762,-0.12460062810716775,0.16944827205870594,-0.044620098662186844,0.2584411562061501,0.35182814639937715,-0.2369804292328471,-0.18930924026810136,-0.08706038661457476,-0.1645822175958938,-0.1854964910599586,-0.1292239383486015,-0.1093839829459024,-0.48619993646469795,-0.5539466196754665,0.10117734703602352,0.1697872986404759,-0.13401366273164436,-0.18473536913818275,-0.8006194022090745,-0.053130542815652534,0.23904871660101668,-0.4931326764918237,-0.2638690212273318,0.5011570489601748,-0.6447001836552317,-0.09484004514863605,-0.3308343485061743,-0.009966711784255207,0.5036297329630635,0.36309659670168704,0.22471861753680789,0.18007397055521226,0.4167682591462351,-0.15994163518082608,0.5761100479149527,-0.03426078202164395,0.14273156080576166,-0.3252042393446001,-0.2273929911430011,-0.01921608158956785,-0.007396927371327075,0.18228708179255781,-0.1612355121770973,0.0073366246693211444,-0.01215570021624154,-0.3053737508632245,-0.18568097407301482,0.6966007444752681,-0.22757052239826708,-0.18861592701115754,0.17144809415390408,-0.3164056875783371,-0.1426709309499176,-0.4046125198597528,-0.1873743641696302,0.21283068616111492,-0.006445155402274609,0.057631975946629985,0.2306706616146843,-0.05847764268472393,-0.6617628549264983,0.10879039655823601,0.024596539747909117,-0.30743815503949545,-0.40832781808638297,-0.17778548604710034,-0.12355418354255214,-0.20276495346768605,-0.21802009829155172,0.6804907185027,0.4938154314955766,0.2585897035318634,0.14155130437335048,0.18421822971017227,0.32911909058002925,0.07798389497026063,0.3299291674689614,0.27694207222270745,-0.49755762716567337,-0.8179117196753382,-0.4559029904119966,-0.740162310222657,-0.9320866783655261,-0.9982712791873094,-0.3383733240210874,0.06843469154130796,0.12075575419006462,-0.35748993698288156,-0.2485599712014967,-0.06941658775510763,-0.09441675480603463,-0.5371731216165124,-0.17871789359988244,0.18873173932442586,0.5053027180053914,0.5188527117159193,0.13948312757760484,0.1933314430927594,-0.467250244083966,-0.12687812912284033,0.07663713393942712,-0.1234725527103216,-0.1480019355466914,-0.059284016933832034,-0.3520428602784084,-0.38617300050009723,0.14956755100230884,0.09978039031340183,-0.1536827498382507,-0.19310950498025742,-0.033355289662874425,0.027456884099440332,-0.06926926385412249,-0.006624366897042871,0.33894307115115285,-0.28989916874712424,0.4821587623983649,-0.17335966056769767,-0.3359773646007685,-1.7326849159456201,0.11675627427654875,-0.3084340377682645,-0.045739825182072646,-0.15485050235975992,0.11877303863874565,-0.10169738647410755,-1.0519814991280754,-0.7148673350777012,0.08741495157673776,-0.005652863796831255,-0.21759682246012882,-0.5095183667386051,0.08958912169189989,0.3247608943581943,0.03049498386671957,-0.2999912819404474,0.013740610310690132,-0.044906747041106844,-0.07264699133541264,-0.034339836673661105,-0.4722159819090751,-0.03834780508760298,-0.7929226010633487,0.23831858069790363,-0.36191869818183287,0.0332281327761397,0.04912810512091246,-0.4133275556209374,0.3106683529337775,0.2685432499526886,-0.26696967795914206,-0.19633765261983444,-0.3826015712482732,0.1189594708593204,-0.11566941038348293,-1.2116495329582424,0.09669999004738716,-0.48643338482067716,-0.159322998977364,0.06700712645317343,-0.24508872351230176,0.07819384872794438,-0.9002214974567905,-0.9002214974567905,-0.32067600653380607,-0.32067600653380607,0.38355201521940446,-0.13944740873442718,-0.037315263172895366,-0.3536672614032833,0.10255636333315289,0.023212566754453923,-0.5377259676132757,-0.6922679458544754,-0.2672189783143414,0.245653088439189,-0.12125680912388444,0.4977131298560758,-0.22131719005091624,-0.36612602267598815,-0.1169584239575318,-0.07891881762014943,-0.5211392762391905,-0.08278933690547798,0.19532099052684695,-0.15773701677702956,-0.18879459131743673,0.15588474879440387,0.33916537188511847,-0.11397094759205761,-0.05615636998355884,-0.7269040179659618,-0.7127134416208737,0.34884242198823634,-0.11935676527371156,0.029555742010405475,-0.07679498483440979,0.025867267341468048,-0.1254571249380066,-0.02005115060242028,-0.4795527489166035,-0.6757799838299327,-0.5986243256030487,-0.01774896611289468,-0.22603324298887634,0.11567430608471464,-0.4244084398547358,-0.3227931513659882,-0.2288086437620074,0.10544792947511177,-0.010077288665617096,-0.08114463855575088,-0.15303899530710863,0.3518315948962269,-0.0036321460241478315,0.24651451363016655,-0.47606130303731986,-0.1885171502503789,-0.5383242137528423,-0.5972575896717984,-0.33633704368647477,-0.4244443435339381,-0.36911530744006465,0.054184622551261614,-0.1045378269693745,-0.08569649773821422,0.2350129252685757,-0.040559002646002186,0.25437096563347805,-0.2477010409018184,-0.23342270398381765,-0.4687813283122613,-0.3067155337907512,-0.7611676739881563,-0.08306657708855361,-0.11871515099587863,-0.0346901723969634,0.006409320121296853,-0.08590930927482844,0.15912854843586505,-0.09647673478367298,-0.10114517831973094,0.32984216127950267,-0.11959501064686569,-0.26539577778817075,0.0074805049139171536,2.444493904177135,1.7209855452450715,1.834357285223355,0.757843714601951,0.11302739577507041,0.5626423265992231,0.6227630975042396,0.43308510713947196,-0.49853437335160616,0.28055565002689337,-0.09850593461982644,0.4054998742758672,0.010895028584507806,0.11131876951378668,0.04288605541447281,-0.4675920158902104,-0.012692902211440368,-0.2991514922860818,-0.2512318215795694,0.3951203237134087,-0.30611452809429723,0.24480974402028183,-0.08647738951945087,-0.2876846236089436,-0.6055392080683654,-0.142170413283219,0.2952212405438711,0.37849075726041953,0.0140334905194551,0.3162844521729629,-0.17078899078724152,-0.5564575261341436,0.06180224847849385,-0.07672558977651857,0.14060659530657887,0.09572021568181786,0.6162196997266319,0.07853882709671782,-0.4739523444238087,-0.22136891256104924,0.5988244222442451,0.13082800002209977,-0.35599156276865973,-0.2468869030614064,0.1943600839323337,-0.05759688443511669,-0.1594388943183108,-0.1968436456595597,0.12185961283752093,-0.16770887978603333,1.4303346398709105,-0.2001850300990164,-0.13623356399970446,0.7873900854745369,-0.05753047629455224,0.586076308351968,-0.04548609458645663,-0.09221989938018889,0.06209266449082339,-0.11687913676974984,-0.06647150068864824,-0.6929880149557514,-0.31181767362327223,-1.0345115700172332,-0.25873604781909987,-0.35434678539069375,0.05254398368764038,0.6924007031094535,-0.13312608729813363,-0.2865073376250872,0.6224659637028016,-0.3032230586409109,0.47045665026476796,-0.1404671091170815,-0.4891210802961575,-0.6188652301741973,-0.0007431363222759062,-0.3032837368844151,0.24693574367523466,-0.32143203933242986,-0.11913453770947728,-0.4494192975373599,1.406046141160212,2.5710041281730156,2.3918557281614956,-0.16042677971550448,-0.574455509385234,-0.29935960141849727,-0.13196335126310885,0.11622051981671207,-0.15986924513826256,-0.016037869177344153,-1.0005788018269959,-0.16040720710651715,0.2778988678132423,0.0008987148034429354,0.3289956412424839,-0.5112831882033835,-0.30238645591060875,0.16042160327777058,0.24647212452076636,0.3020238997195271,-0.6586970441561892,0.27275240504318965,-0.030872628501332124,-0.09728584941072883,-1.0559843819071386,0.03718344484616994,-0.2689533535821825,-0.20110416875817466,-0.732238659260278,-0.3838627087682469,-0.06174189274335653,-0.33934301612643236,0.4079930565512202,-0.19018969745716816,-0.5919579744684269,-0.27381393083299216,-0.6264683004714703,0.0011295666801185939,-0.16317232869522744,-0.12354193821575732,-0.10615416606536299,-1.043603506732882,1.6099620788359483,-0.20124386097784042,-0.2743364493471857,-0.23738193235322871,1.1875886724702283,0.6526629648544814,0.5381224577446797,0.27393927799277457,0.5912988384684323,0.892504679513559,0.19327048093184696,0.11578821756597976,-0.3739739521191646,0.0686677590916568,-0.38662117251598627,0.5394403130549972,-0.3050327721661702,0.1033877973591248,-0.18756938313120064,0.025539431343009653,-0.28698290282318173,1.0054894038896296,-0.2336918304778132,0.06865579101884578,0.14365566551072234,-0.31007838219664385,-0.6324834961374797,-0.3027794693167177,-0.6435143641992727,0.10925617358041101,-0.47423227179159555,-0.16765583666491737,0.3999606929058796,0.045554918442246455,-0.07620683330070242,0.2058729447825887,0.03413736712175628,-0.48501067163953476,-0.41451339498510187,-0.051818865538464494,0.4836431863738366,0.2860779165160807,0.03068497352163755,0.2807586165523112,-0.31188806978470746,0.23761520617156173,0.2863714104649474,-0.43599517304269014,-0.5483052882248496,-0.5099778031306353,-0.2945105356042799,0.1254199596669901,-0.1581198830478845,-0.19751881886986158,0.02612859739787841,-0.08084886456399179,-0.3502209412170048,-0.0922285200502337,0.07777263389641992,-0.13529899372572873,-0.054816303120149755,-0.13157071790816585,0.5247808237008802,1.1012639352994902,0.4368217695446271,-0.21712682731437355,0.027783922053580015,-0.1504667269428101,-0.29412079915673495,0.125480036234645,0.14292276186641376,-0.36882601617028377,-0.11386303568994563,-0.3172588131957626,-0.310658796157605,-0.22547109477793909,-0.015261321998134706,-0.10866905563095709,0.034931954952340596,0.08125741255936285,0.06299884462683578,-0.14400654707013008,-0.07144892229023887,0.19967409083281445,-0.40576781963064223,0.11981214052122716,-0.5128154640057465,-0.04142226902090395,-0.007847288392861099,0.12759906474925645,0.11766388382308446,0.32498729564293216,0.28795304206457567,0.7085670718017364,0.36539810851179705,-0.1270683619635521,-0.09017050428411753,-0.4195947663356349,-0.4195947663356349,-0.016718629541770468,-0.050022714607041746,0.1697191353252938,-0.2665527772627793,0.4649342917666739,-0.09257351128117394,0.3557599240454131,0.0809627491872797,-0.23024106519374157,-0.3408910225936539,-0.239727916631804,-0.018927305765952484,-0.19305414248409383,-0.20343603242956476,-0.032833190124032685,0.037022648127882654,0.26185653527641806,-0.03505963285079708,0.1719633614317085,-0.872627935041757,-0.7465762735058403,-0.5338372895764414,-0.7735563661583964,-0.3223047565568489,-0.5018710742170456,-0.1287794085893936,0.28449473142225773,0.19709222234854637,0.08881214061926115,0.18780315514751955,-0.2606460068098978,0.19620610061208507,0.8246494806663069,0.6912402402428837,-0.35207708121468434,0.43332105651980485,-0.6356887337462795,0.0030914439818724633,-0.11673511768544251,-0.44344579441054527,-0.005755758391720381,-0.7564576539446625,-0.7348353850402186,-0.3125777087794854,-0.06059428163815276,-0.2886308601612508,0.3277464519280692,0.3581460974874123,0.2631104425925581,0.2631104425925581,0.15510782126224373,0.01497846619925781,0.001071050696539001,0.37207865631802034,0.8370429420511996,0.6444351765208339,0.3807831338609228,0.005829379992921913,-0.09483664704945198,0.15200105947344783,0.0758258684506621,-0.20552952004880026,-0.2512978606954961,-0.09380112004770895,-0.10973071036872947,0.36132667408316405,1.596866088034745,0.2075305437914503,0.344737977795446,-0.33970737132118484,0.13327971137688047,0.6305036826384547,0.3758076408454023,0.06746347539815507,0.45299385906088163,0.13483672932982932,0.19300878563284404,-0.17166665863882918,-0.02771672366459055,3.253606434333985,0.25311418995256074,-0.024340063435143448,-0.2075188378427403,-0.3061644154336256,-0.3289594665003125,0.179341555782083,0.03446157255114464,1.2372489907178168,-0.2651289139404307,-0.021864601632093125,-0.013039966865878855,-0.152052277837418,0.19047366063909021,-0.16798575437972252,-0.17403064768452384,0.051192576408415125,-0.15298540768000582,-0.2327087452478092,-0.35457823291201457,-0.20336522828094533,-0.26284632226128457,0.5406145748766114,0.33133911786995135,-0.38735592523046136,-0.40319107827366935,-0.08837668078531337,-0.11222134584035184,0.11355811914120525,-0.18350014186426378,-0.03584855160782189,-0.8730155435545602,-0.36241413679345585,-0.037489280150227025,0.10108376687861714,-0.22990308715646002,-0.2966779642278941,0.7458611265084935,-0.1088239355009127,0.12843424404752,-0.2850765232718223,-0.10227778764982688,-0.0024102816962078663,0.289865475573334,0.12743136752180184,-0.4494268701612281,-0.02029977410912065,0.4342524933547371,0.17041145072059505,-0.6086851056880171,-0.6502133251759488,-0.6659311822041214,0.7219210873836662,-0.3907758917455169,-0.04681614817193984,0.06140279073139802,0.3294377393764523,-0.23218494982133595,0.30100437285683207,-0.44710197733046014,-0.24555079311699463,-0.8064995149287981,-0.04061712409505772,0.2432187878221256,-0.03924394919490462,0.4327824817412379,0.34426312528268527,0.03605148228270009,-0.14926933600396047,-0.11116118511832447,-0.06341077320729269,0.38525271681793766,-0.008512186855283337,-0.15456041220843197,-1.3897413942277221,0.041662347356534526,-0.23525888741005643,0.3529062478049097,0.06452000509793947,-0.18825629906858604,-0.23741153452667227,-0.36592572127903394,-0.237285709560953,0.5445259633602533,0.0012688499210465262,-0.010594425050220617,0.18351659998335024,-0.23648805633532413,0.18851569143018534,-0.007185782228249086,-0.7382283816336462,-0.12220809751440662,0.04591574062460592,-0.27947381724487175,-0.13707633939713346,0.14164951636596293,-0.3403008296144311,-0.20273757199622683,-0.25548127123832576,-0.31053970030087064,-0.37334314034051597,-0.3238443103507787,-0.39632803236048897,-0.6216185881534437,0.16045290349708344,0.4007744363488676,-0.6677161040593829,-0.30573923292096145,-0.21213634675277918,0.18644485149473292,0.32052338448349754,-0.07635850741175901,-0.005592285251985186,0.10521813092476949,-0.3855231818450164,-0.4475355665300958,-0.2434437435322171,-0.05408009085623813,-0.05631191812908604,0.11503783132097051,-0.34584508159949384,-0.024365523120989153,-0.9784964934383126,-0.03872235693036953,-0.16759255319407512,-0.12613978747889273,-0.26216583135821925,-0.44751192820084645,-0.16993141082255675,-0.20813275333515138,-0.42429343187115426,-0.10955408378746985,-0.1935803906961918,0.05689173513239572,-0.12513982210179672,-0.2940324431465935,-0.22776419724640934,-0.2953588328747188,-0.3109534770568046,0.02864154643999067,-0.21040318957163914,-0.007186940391495146,-0.4027576957956683,0.7256696478067428,0.08286587174483753,0.7270170103897308,-0.28000651986776814,-0.332341386114933,-0.21032139653330625,0.7039678377901466,-0.722221103257589,-0.1459796427868061,-0.6022618242007151,-0.032222653267892545,-0.17566405432776877,-0.5080225542718008,0.46983203648778765,0.17657645414978043,-0.02061315268628194,0.4091211354246722,0.405402193606729,-0.15183985703605654,-0.12900755814277945,-0.1538781040269335,0.5160173291698339,0.02971571307907601,0.28835410185318405,-0.012977221065030117,-0.23027028237894792,0.1375652076102822,-0.06344481711727205,-1.0232938655342105,-0.3839608685705107,0.11433031228860732,0.38666140764270424,0.01983678309489156,0.16047639753543105,0.2455950069386832,-0.1359208058467235,0.10855620399855126,0.39509441337927326,0.4703237687669291,-0.1721035427157317,0.15048918139416018,-0.0795253484478445,-0.049885846500137755,0.04661863533168053,0.17384288872435613,0.49622630939073403,0.06969649236591069,-0.5616349650226399,0.4118698242265399,-0.9765987816809799,0.40694691805720307,-0.5468834477211411,0.08459115165195003,0.06013129882409008,0.724919872843399,0.14371619481320017,0.41262884977588016,0.20020821358840965,-1.1780412021105011,-0.47862004238364175,-0.0991001712928549,-0.045402734078296286,-0.3109093966604372,-0.21032021831684003,0.18536818772114594,-0.2827539486930374,-0.1520716511964278,-0.27602532899891236,0.10083372406070945,0.1741525934549601,0.01653165772836336,-0.19901608324707867,-0.13613156342760077,0.07152678336524727,0.10625345212682379,-0.724491065536748,-0.8949903802706551,1.4024434969486077,-0.1084528419964853,-0.07600948719978479,0.6809925546590213,0.8484485939514123,-0.3952265139977219,-0.13987122683492645,-0.6402357692079415,-0.1961351574196059,-0.2507158768170646,-0.37637593872995123,0.6088332633132533,0.011722334114696293,-0.6416233575712273,-0.7729899612751722,-0.09917685422947391,-0.5737907579868391,-0.13924301665358943,0.10421784809726854,-1.0664831377932906,0.08090263025395505,0.05112604172517507,-0.19288128971893398,-0.026172238970811224,-0.8572089640611096,-0.11248812834084396,-0.2926666466348477,-1.1790906646605988,-0.5184711022955871,0.8079820433613654,0.37207284626179293,-0.28450130839003057,0.8514430804723704,0.48941061177153633,-0.3084610375075575,0.020871273405921393,-0.3322084689967877,-0.4685274469422359,-0.5830962832749117,-0.6215397741973068,0.10854006108132389,-0.12364451659044005,-0.19987546177502427,0.12709928170774384,-0.19848993039641083,0.20203736189993798,-0.026704909357581495,-0.3839619203580616,-0.40920122515536517,0.12160158516150138,0.14684857437573576,-0.17398062827738228,-0.1146662278331249,-0.07949070357440298,1.3506871298675587,-0.5048426580841124,0.255553917032365,0.08675710776705911,-0.21529717590989836,0.1329017562293813,-0.055393412888374106,0.4226271239912855,0.3144940636981915,1.6523305662627383,0.4011987810206439,-0.24159326758124752,0.42243767946292604,-0.5541337580023917,-0.2911198985292856,-0.16443495967168908,-0.0004717104793549813,0.057135513423294426,-0.2575717405476487,-0.2181043816995857,0.3963860614440699,-0.28606600748556504,-0.13640357954999313,-0.5092594603276168,0.23063864690989896,0.17110330845588956,0.7151098436109737,-0.18886167790019553,-0.2569414349840585,-0.28152691491745296,-0.30501732852950114,-0.4298130703217893,-0.02878632326495495,0.1790515542295062,0.19160815037314605,-0.2986105236595391,-0.4544245975737896,0.32122697516122095,0.09422900779851008,-0.20051208587932473,-0.07479973559807802,0.014026895236864049,0.43099178205395694,-0.12195480945251466,-0.17092118979982127,-0.02346169463931798,-0.2388672105729359,0.13987402865833806,0.11712962126911498,-0.0502610868242767,-0.029958110349880662,0.018219818417098736,-0.05108197616698128,-0.1276325982876584,-0.015313055494505621,-0.4484249311764162,0.1277096545338236,0.6588328073406884,-0.20084671221212927,0.2850744760259077,0.2828678356373803,-0.3129947057434204,0.03526528365435035,-0.2623669644200672,-0.10444725540403982,-0.2928424538742618,-0.4437059599401757,-0.162351231692746,-0.07178572452856101,-0.23117747046706436,-0.5733480798598621,-0.09493305483935391,0.20674642233157492,0.46958636495021816,0.8215479778787981,-0.41914629557984145,-0.28385489519393825,0.4741683435781645,0.0614173244608707,0.23596507064224906,0.1559115183103347,0.2134381848939851,0.3791461830065982,-0.43008732287239015,0.12387642414099434,-0.4122592209642873,-0.3274737673116598,0.8105722462361941,0.17915188662761564,0.3449912331666658,0.547010256533246,0.04448598996747054,0.3540198021820494,0.04716464925027264,0.06206379184302413,0.3764116002060612,-0.06568190758510177,0.03956561761880856,-0.08278585354185772,-0.41128571754886734,-0.1902287604871789,-0.1977792294138331,-0.19570735943261738,-0.1150628293096297,0.3104072793440112,-0.1673272708222197,-0.47980472896422766,-0.5361305943513242,0.1582729480274079,0.5878717971829305,-0.13494947933719936,-0.21900087735588458,0.3972612651905176,-0.2683963787204243,0.22928187608043663,-0.4750554930720342,-0.07129612766695552,-0.14949894020066795,-0.7611603244495085,0.2751627921167524,0.4839344381809627,-0.417350707110315,-0.08351475760308955,0.4459065266258615,-0.01628966571411328,-0.9712002059875915,-0.3031866902505383,-0.6458929357963976,-0.38298096030150863,-0.43189751649251706,-0.7423457476953573,-0.0005912298582485196,-0.17010759192926417,-0.10742829651264607,1.3291985481658597,0.12286598478423373,-0.5569332910867989,-0.22312104363083202,-0.07241388050679627,-0.37438642868439703,-0.01782890028523008,-0.01782890028523008,-0.3041774847575902,-0.6765769606069114,-0.3793243554269655,-0.5313927422334748,-0.36285419595636376,-0.3278820075320734,-0.3278820075320734,-0.2826814776439143,-0.3252006848967486,-0.03263839851833934,0.3160329732191016,-0.1507913601533712,-0.13402021659399646,-0.0619258295928995,-0.5099223102139604,-0.2593085142609514,-0.3688486959245353,-0.11265060725983891,0.13236317576630408,-0.07951071118577606,-0.160679713845423,-0.053391862194953454,0.09787612613378192,0.002071879048280311,-0.45020225577550627,-0.9044631061805555,0.15448077714206304,-0.19476251803141287,-0.21126920263422622,-0.40555885956042464,-0.23981460415553071,-0.10517895945866898,-0.18997701886574486,-0.1479546236587324,-0.02110516031515929,-0.0674693503660694,0.3730167611525621,-0.9250488418910656,-0.14875373541477463,-0.3505093646328935,0.06494666136024418,-0.2419879136628602,-0.6124815342682304,0.6727732721341272,0.6433126248141632,-0.06487791007791004,-0.10521064865657469,0.940841058750805,1.0974986688757558,1.2421786170878995,-0.1475707696319901,0.5609923985009527,0.3457731866357671,-0.11885610634209717,-0.10156431456788642,-0.7579824504912732,-0.7492485485613282,-0.06424258190400997,-0.6460475446503955,-0.5017482810769591,-0.32588820311364247,-0.01091111678570961,-0.4059643772258795,-0.3406949463111143,-0.3615144164309032,0.051943546457648454,-0.16846034946360258,-0.10340174419772606,0.16155912709506595,-0.1645411950352586,0.04459576381892251,-0.05763359486262985,0.0841349626504015,-0.2776089367281244,0.015721705472350283,-0.4994783793059262,-0.4384617640049395,-0.0969337297116197,3.0214122286550698,1.5354002158580116,-0.1305862299099261,-0.22315740134578385,-0.4195937426290807,-0.4246498524331539,-0.42312634338593974,-0.06859649531623173,0.042461037665695374,-0.2844073736430395,0.01440948551057339,-0.22613733109124728,0.15824189584188453,-0.41085872672889406,-0.24815448876804688,-0.24561356247707164,0.2648519828700448,0.4352342132656699,-0.13541695253263064,0.5542459516592526,0.5138261182776204,-0.14878107207264357,0.825728254099501,-0.24608854768631822,0.15267552560903835,-0.2271664000172568,-0.2574221109996897,-0.2570713550491999,-0.20235335406977353,-0.46368920024482135,-0.6796698251116652,-0.37750850503042643,0.14879060575135658,-0.12417632521574203,-0.4475126460178665,0.42400774299260935,0.4546095375047353,0.550515117993202,-0.0009121721029856336,-0.32310395116328744,-0.023329648048392975,-0.05954846037392855,-0.36127408874654743,0.008297741335716965,-0.33364510894976385,-0.2991161552244437,-0.0729866865518317,0.0043983667259572656,0.48078979930217475,0.05223176308639346,-0.08673694105803684,-0.5285133327777842,-1.019037638597212,0.1235062488007152,1.087923359579006,-0.07028602670478104,-0.6752175451647541,-0.5435398067930044,-0.10142461820329356,0.2413333790845894,0.21900729073719785,0.016937900883876686,0.24624947090473634,-0.04873798913784163,-0.0035224712770512245,0.18442212920062534,-0.21232704529070814,0.10251642798673902,0.4311895454266556,0.23747453615949338,0.9250565105211402,-0.4254920240786081,0.1256391977500022,0.1256391977500022,0.11229371560772324,-0.507234219912344,-0.2066163255892865,0.16812130381789048,-0.1838570127441579,-0.09053225285315947,0.21739015249789503,1.1599363666969846,-0.07584361826096304,0.10097760084541195,-0.16637413507851928,-0.206326579008534,-0.3488842444394558,0.27300096774860655,-0.48737176598054494,-0.22916927471929063,0.07218243826435297,0.18482896129456497,0.20137726830298874,0.09159141240702076,0.020684362270853036,0.17908796085633533,-0.4358495720256669,-0.09586592005465983,0.3257302506682206,0.0646421571518947,-0.03233737264434894,0.2573518535872851,-0.25511282631381166,-0.3197184221611844,-0.6947847450626191,-0.5391684196920741,0.6570710996298635,0.1063955439620741,0.009653923287898153,0.6096884761164452,0.11770041430280084,-0.2525339394582386,-0.4359882820461426,-0.7542056396148226,-0.21337460091990046,0.5422186595748317,0.31850777197561103,-0.2819390941507168,-0.36795550146780304,-0.1891921163205008,0.37028689142967725,0.022197261628831896,-0.5207437761625724,0.2860903318308985,-0.029016510007316875,-0.06371775254266869,0.03140253017907353,0.031443047650880226,-0.07649614380437497,-0.2631422850928988,-0.557544376352962,0.20932691595478198,-0.16551796732948934,-0.13189744700559666,-0.12123173772586499,-0.5203350481583178,0.2909699998657105,-0.1241681136354322,0.044611638104624415,0.22306438480472643,0.41636282752687925,-0.08333106841523188,0.6898324834717706,-0.04579964275639839,0.7383726665327075,0.012052282297771628,-0.36282564811720436,-0.2828648705238049,-0.96890597386691,0.10522331842598477,-0.32657974743822377,-0.09020039215271707,-0.24850596607157263,0.3415560996665548,0.06905903199255828,-0.17159543284933285,0.033355244786601214,-0.027883145722619743,0.347350666672154,-0.13883943815942165,-0.1900305819372672,-0.28784245761024063,-0.5904141168462554,-0.08634164715790862,0.2590761739458766,0.5592498839601331,0.20599415317852277,0.10222239051118426,0.15354227462948636,-0.07607460724092285,-0.21603542981718618,-0.18417987215626486,-0.12101749430833895,-0.02612003303074782,-0.4200507007507531,0.1846036713044193,0.05702311948502362,-0.31484685857003997,0.3490292505937065,-0.18082038143442522,0.39110546371449384,0.02541743810174578,1.3760132066305983,0.2652128734037108,0.4214315963167595,-0.2683284355451882,-0.08943253513890405,-0.6564529559959426,0.18875664222265376,-0.1826328819119322,-0.22253595165949067,0.010183056287881265,0.5266834277874768,0.39579944311199994,-0.2005640363996908,-0.39144202003964484,-0.28268223753527516,0.22493977036517895,-0.26438310274091437,-0.5655195517032336,-0.762569770011068,-0.7323137076128111,-0.687575672693811,-0.4057550398490236,-0.5717740632316572,0.30019033252585353,0.362538180760178,-0.2638376224809323,0.15705849006113,-0.07062898668628101,0.38899309733910575,0.02866923606139109,-0.4587489627383626,-0.0989896028970607,0.09650636961771572,-0.40718610340164224,-0.11935709860131767,-0.1290585868575689,-0.19951993644769672,-0.0353088279136133,0.38059269045342087,0.0015935315163800136,-0.10736065754472784,-0.2548597074929459,-0.4347460099833741,0.049333459196222014,-0.7653843209391142,-0.13372493504185595,-0.04183918562396923,-0.290698972478695,0.08427222648763946,0.039292085903431424,0.39345423117506195,0.6464936739471793,-0.7411293191697663,-0.19410951037440424,-0.05517245551168452,-0.474530895067874,0.07502764174516859,-0.3056658396996831,0.00869962548945128,-0.10419383545893199,-0.29809309978044396,0.2058644360893528,-0.2054995771209431,0.03937088075224924,-0.30298994769365495,0.6096688850153782,-1.2287091322902726,0.9239042286510327,-0.24717485914586945,-0.6145576764237392,0.009227506807534102,0.09694629588325124,-0.12209226015873663,0.3001995160048999,-0.19242726586587355,0.08487687307365341,-0.532880891154887,-0.06374639077593923,0.07069820685525104,1.189059319088163,1.1772574782761025,1.0906763013650413,0.6940344107482771,0.1161030026468183,0.14819758413583733,0.3974944319947877,0.8189158213310564,0.6009091521171092,0.5147701751261606,0.709013207530702,0.27871924597659015,-0.0017486883923333884,0.3374319129745169,0.6051382099007481,-0.05625206184231914,-0.026173684798222466,0.02610756709724088,-0.09816580140249435,-0.33395081805976334,0.1558593160856352,-0.2233946061518732,0.32165515495622093,-0.040793099238810665,0.17793752588100958,0.06695113340672415,-0.09288912702111164,0.08297818311512811,0.34444206831257995,-0.0003985244925529537,-0.1478082685953211,-0.919703616237231,0.03004071117001449,0.0275462718980239,-0.14888375160087275,-0.3739932634439926,0.22903480839620016,-0.07115790656664468,0.07546277451177943,-0.195390630721138,-0.166423424546026,-0.3013712865814202,-0.2784722608592424,0.3398295979113856,-0.17005427887740165,0.039926722337293157,-0.0491365992689143,-0.19467936784208414,-0.11790019624122874,-0.09283195718054635,-0.4103314467371719,-0.25043590053575926,0.3127691987870912,-0.08413598540323645,0.1369483425680839,-0.052210364914073874,-0.09485033168452676,0.07813150708062229,0.06535896029582668,-0.6015336940083579,0.10540399460482251,0.007660038310548917,0.10717044285157831,0.1738685036751019,-0.13307680235712058,-0.11628246572310785,-0.015354411235320786,-1.541880600366856,-0.058394216037251395,0.112802026327438,-0.20882581912999829,-0.13498785011024114,-0.27817188389357284,0.36047979130722324,-0.24856388871691135,-0.14762043892552631,-0.1612526632241871,-0.21667076522125248,-0.859489672885022,0.314934891466396,-0.2277462034832582,0.044264808733182975,0.22701309045859966,0.19109287197861896,-0.2904225923919724,-0.4236833305452421,-0.8018541248509335,0.30946510784268083,0.38317669147099404,0.023086631924315315,0.59112243059344,-0.4253421480357624,-0.32680276237462746,-0.27428186217877304,-0.20551961167382948,0.06839394250886545,-0.16066793325799322,-0.3504302215395371,-0.7880931527644787,-0.14933535467898085,-0.2810424181669226,0.07707230897718245,-0.2587925859975015,0.3531339398267502,0.47010565132148063,0.2560397667659649,-0.11752270407284535,0.27957217796607137,0.40634496777217766,0.08890489190299447,0.6314125865296825,-0.060072959250011014,-0.2136440895096347,0.0363805833133213,-0.25115657209654346,-0.29501865936485405,-0.3249265170794759,-0.5532387906769598,-0.25805367586101785,0.6227793935502564,-0.2060887386893448,-0.005936796094211765,-0.07568486176770009,0.07933467406817796,0.918928651522613,-0.5233032499838451,-0.3962679602452982,-0.4734030227291269,-0.5012017903325181,-0.4099944425047253,-0.45418977077906825,-0.3257170929115464,-0.4100412303577013,-0.07912990083453683,-0.09460325823985405,-0.04222348760436077,0.22378787000789857,0.12000046262724845,-0.6982364554794578,-0.2415955815438836,-0.4203584164403047,-0.5825521847161438,-0.4567367516644747,-0.5318865656490165,0.27415230642231525,-0.0028405009541614358,-0.2960189200058674,0.18745819062924188,-0.5639808571201709,-0.028188128558358387,0.2975887323047252,-0.06771645808034293,-0.34576958461400853,0.16445547546492215,-0.4162976212369308,-0.1990384037253575,0.11565519283948984,-0.6496254204174546,-0.023243598247963928,-0.43174044854590227,-0.11830657984199834,-0.24351490935504738,-0.00046880720793541597,-0.4124495901726006,-0.2801640929021587,-0.03030709653548428,-0.4563641067161923,-0.13995008975635756,-0.13808575285318403,-0.20035063582423224,-0.43823999170434513,-0.36114427577959474,-0.43376610069141003,-0.41504286359743375,-0.4231341455768586,0.3790856251115005,0.23357691282722506,-0.014431190104438945,0.41514196934671593,0.3499206535097139,-0.5945605227241266,-0.300192955224006,-0.5700982862210385,-0.2984091854534787,-0.2770748918306213,-0.37726092266380723,-0.11488858777487258,0.040465144747251526,-0.12256358998072595,0.06008710956219809,-0.004526903302382874,0.3600040264951738,0.20251224462114098,-0.38273115673645425,-0.3355564043417652,-0.504873460804416,0.35695805072049647,-0.09459761805613527,-0.6379733632616025,-0.30866524833126957,0.29615521522470845,0.14885839182508948,-0.07983461415851413,0.613766312929699,-0.12413340759787386,0.029355740195411054,0.2924326493462234,-0.3849263265844429,-0.23682279961852123,-3.4784561564159486,-0.040401114193516705,-0.3828551432944475,-0.2911275874856062,-0.0401611026336727,-0.11420281996378889,-0.9560882585642193,-0.6276943705438689,-0.34435693744842244,-0.3587945980803738,-0.43809974335306695,0.18088016918555896,-0.25348489845038347,-0.6182446448816581,-0.08491494198000446,-0.4294954049114254,-0.05018768033052977,0.3936597952548307,-0.03977591150591097,-0.368776782240071,-0.48020384614425626,-0.03114694404443341,0.056038455645346465,0.1177301760671397,0.12815519094655203,-0.31912988586026797,-0.5996219710801556,-0.15798623261567477,-0.20070091710969773,0.06582797711546079,-0.044931601563533964,-0.2267784415533795,-0.5305319122992451,-0.3606575210402031,0.005385661649596861,-0.580537789147123,-0.019199133909778617,0.1217938230559709,0.1275433311403419,0.28259063425281084,0.42449060717713516,-0.46088393971717256,-0.41507998334147805,-0.3223227538068311,-0.4166600370039569,-0.3392452043123044,0.09108680650495517,0.08338349056429109,-0.6669022331782932,-0.334461132695384,-0.04570980184835442,-0.25030386394444976,0.00011625343840829658,-0.07419083833639697,-0.4252461496954952,0.17988767763066127,0.034970764680582134,-0.7742864806783555,-0.02930550533870229,-0.0054328861786858505,-0.3614075627887384,-1.1310036123638914,0.19396922523546561,-0.004744014444024718,-0.3153990433829475,-0.14304151485817596,-0.07731772694054717,-0.05700475858510608,0.11151809839053695,-0.18233058437108404,-0.4775784718801627,-0.2962420712560522,-0.055687865982179445,-0.1813397315303667,0.028125687243970753,0.14709572142368568,-0.0657410140925771,-0.4873816273582997,-0.07661333959389924,0.2688372504642953,-0.30236778793618124,0.3127316981780738,-0.16865887147550215,-0.35763565123592944,0.03134817900179624,-0.09165919772174835,0.1624212619053576,-0.3493625775846973,0.006423581852212076,-1.7917143489307663,-0.4303517109432539,0.42903656524524025,0.5206655107823269,-0.03235582895487137,-0.1912981627690627,-0.28599555427710427,-0.06912796150952547,0.30949572354047133,-0.03417544625232664,-0.2831034370295829,-0.2667044688989321,-0.11977717875607367,-0.08110231097102981,0.22681090870174445,-0.16692784092445545,-0.0789288130685241,0.31310797922328504,0.044703574373839775,0.12409331803093585,-0.1997294775601735,0.11415704430243319,-0.2604726634902322,-0.2285435022720033,0.427408238800198,-0.1483897484395034,-0.18936000242609383,0.09170472341553071,0.17019604495863414,-0.27133736504702505,0.29401447425406807,-0.39782410926890566,-0.18011872024826026,0.35309694121486185,-0.21585852274690306,-0.3874141846185089,-0.37727757284566,-0.11999321294521344,0.00782151634235308,0.14290162470424914,0.1014287848503666,-0.37044505401564204,-0.5172589493734587,-0.3106095013915429,0.04892125045593887,-0.49021273106609,-0.2796897725692363,-0.09248077843609656,-0.1894297522399366,-0.18885315069117728,-0.22944824806406763,-0.2962017114917598,-0.308926302589414,-0.2953096244620939,-1.9795750968914558,-0.04228848394202672,-0.05159263197823593,-0.044861263875977095,0.2740584166703847,0.2783060397669843,-0.451471625649793,-0.2666718904753574,0.30546640466747815,0.036876419710555296,0.03627095294644822,-0.27530430888088975,0.19657252865317923,-0.7731427817909089,-0.012974958427035473,0.13353014648039555,-0.012189893266290504,-0.06902168440501577,0.18738090025232468,0.30790158403952855,0.6298135423945901,0.034890693111437006,0.4535675786268609,-0.285723496053891,-0.9953808659686655,-0.041359060196402245,0.2540738208562782,0.5518218893228913,-0.36227606999652046,0.15825197417234324,0.16778783660424731,0.21282282290100124,0.5391880382243244,-0.9328457204528012,-0.02048039465169995,-0.14820854774947334,0.2891947633054755,0.14016352215286385,0.04888114530542859,-0.559494992775564,-0.3372367909779013,-0.3020411534489272,0.364956151008872,0.014128455557451729,0.7338027074079644,-0.10480810642190347,-0.443961346124522,-0.037971972870301164,-0.2932240428852717,0.5498180826404173,-0.06691935794503279,-0.17144425216004477,0.2308690880087194,-0.6003796957304681,0.026959101442181395,-0.2523088050470304,2.286626032841964,0.23243652607225862,-0.0436873902626567,-0.19927887958518867,-0.00626374639316783,0.0022691116826507583,-0.12366229528937099,0.19605955458580188,-0.06534627355747473,-0.1640823817162273,0.17239539726746386,0.19233950358790866,-0.08097447380883041,-0.21550386634133517,-0.15135083279383435,0.06044319859919386,-0.41139539579103546,-0.24157396434975878,0.3540386668169219,-0.48448964913545045,-0.10245384789657114,0.3775193298838834,0.2412347905128578,0.5647878927101208,-0.06783979470872659,-0.30182251970391116,-0.12714363629182177,-0.1879447063180919,0.13104309654493598,-0.5540095116188183,0.08525794795197392,-0.13729231979681072,-0.39160968496234394,-0.3376606425295,-0.9144429775233096,-0.18315265317426233,0.06688381057259835,1.1827402882959803,0.016276099990392857,0.08452871275541936,0.053730554839037166,-0.34745918517828805,-0.2726871664894669,0.3497752349692987,0.4385370387691908,0.4394849490057292,0.11251930441551743,0.15653039522940276,-0.26618182566747506,0.3891119193271185,-0.11236409616563765,-0.2975542456814256,0.16507621567555125,-0.18838177969941017,0.1364761791177756,0.5283931788363869,0.37677037128114005,0.02915409872897382,0.19693774311737786,-0.27428469320146825,-0.336887102392462,0.03806694261737108,0.7504785790015003,-0.2300021095982181,0.02063992953538148,0.28733205347875534,0.4137293459703969,0.4967001152110222,0.02799746618432289,-0.10920375494826802,-0.21623119967061377,-0.04433290810730724,-0.16445538185565156,0.8219079669516661,-0.31937747225048735,-0.15749126648906017,0.1943673010811482,0.03945009997643218,-0.2613198371881962,-0.36039589468150507,0.030733323460501925,-0.008766058660940934,0.09157847688229195,-0.07530397348441323,-0.10143568936197088,-0.3355011453167343,-0.33969161459116076,0.5251315085431516,-0.0010250054007634416,0.10299770347718419,0.23558667757246132,-0.5732146010440127,-0.08359020162517451,0.07468807616990138,-0.1522070312206315,-0.1052987532492454,0.13932175839635008,0.10468326770121304,-0.2760655561298567,0.17111385173307544,-0.011764549965104319,-0.10958896552203781,-0.14350515603251215,-0.026100903458961162,-0.1696918734759195,-0.219528978468382,0.7764266286240427,0.1531807717022417,0.30610088851007594,1.228389863843395,0.0969937593523131,0.20102228007621314,0.2598095426475684,-0.17502724829933228,0.38365923966661053,-0.352771929037442,-0.41341381494514934,-0.09304732428815814,0.22089702808976133,-0.014894167590415047,-0.03752009590844343,0.5270614278718906,-0.31993648504276095,0.3158280756313144,0.15100952700511058,0.18745733317265165,0.5821078810906573,0.24070944632486832,-0.3643804140169791,0.22408048967366392,-0.21075699259833902,-0.45600688435543657,0.052299083308189484,0.14840791530101483,-0.17489962772445095,0.5844244677507728,-0.2850423538218971,-0.0072480402110992785,-0.37763392408392815,-0.14859379554286717,0.44463101733279126,0.5480281393634941,0.08004950282886249],\"xaxis\":\"x\",\"y\":[-2.219337734155443,-1.0738272142477552,-1.9209969724258245,-0.4331822486886232,-0.538760269810368,-0.18108868026903396,-0.7257787196855073,-1.5511025323960117,-1.1723286996890654,-0.3021113756138783,-0.07310542208201755,-0.11623794086548235,-0.44380963166832915,-0.5448447040984192,-0.035888539546833687,-0.5065899449498318,-1.5758888857721407,-1.1773297041943653,-1.502536058817805,-0.8636793289452519,-0.11478784529772726,-0.5529831890530664,-0.928871133853156,-0.30135193645304215,-0.03969513466045227,-0.1188869363370279,-1.0083552146685275,-1.5551273057424546,-2.182081624310864,-0.39608278439338035,-0.027935186057497056,-0.510940783439572,-0.17223042371105593,-1.2020016063855983,-1.9136875394881343,-2.018907140530698,-1.2728943974257085,-0.0792766554259368,-0.44910858653423696,-1.086175626313954,-0.12689774528601966,-1.0702966184412985,-0.0732326953189248,-1.7548347592252886,-1.594706141925756,-1.5011829026326313,-0.093132788601492,-0.8925692370379389,-0.34155014359880387,-0.21018787148447768,-1.5024798461012618,-0.0291420492853175,-0.9673785519262992,-0.039091086437890055,-0.1025061786528023,-1.3768597191533267,-2.5850464756636358,-1.380786333606584,-2.9603673381445135,-0.16667825204585449,-1.692313710507632,-1.8456462659055897,-0.09398728008033617,-0.07743854397473217,-1.8980372387746576,-0.9171942562942874,-2.880771600452226,-0.8714263161489718,-0.1304713807715593,-0.11535079739213808,-0.4056053412195047,-1.0541286457502437,-1.4179167137262763,-0.4538825736751241,-0.02521155097710065,-0.6396939729568927,-0.08698437765160447,-1.2873162352184506,-0.06424556371444423,-0.5597865484102966,-0.22377251637387674,-0.506215691006895,-0.16342855089852018,-1.8572127575227901,-0.8798267092180112,-0.11502851261392599,-1.1121777711772463,-0.6028184418689011,-0.37154329626587196,-0.0734716979666282,-0.9216403989608289,-0.1520195530689297,-0.9175625734581413,-0.1773969505070301,-0.6402103871498251,-0.19615727833944438,-1.7833594084809998,-0.21711632578273485,-0.022605371948149405,-0.016004646888202516,-0.03401030529208409,-0.12848733517836672,-0.05904862391848356,-0.07677754188768014,-0.16084077189951582,-0.017894942289392157,-0.04361801463073819,-0.12111441241508171,-0.33303802290263634,-0.10144414519218571,-0.010323162174851701,-0.7319649972996068,-0.1996058846859974,-1.0124503707594485,-0.07463615713083457,-0.4464345627310801,-1.705699702524517,-0.9811722481026124,-0.0757491793194355,-1.2485837769930703,-0.1834684298942017,-0.6159102038859078,-0.44974910607918694,-0.8676322825687217,-0.5675425224797687,-1.1072075622589321,-0.5432051142840143,-2.452604837677969,-1.5656480305232499,-0.8423369191868001,-1.632138411427024,-1.7051485651861664,-0.037953430051117364,-0.15926770428364048,-0.08614924601399837,-0.4403274347044527,-1.432741105104442,-2.19312258746656,-0.7942504495164205,-0.4589087328707784,-0.4865913847729624,-0.7354740562881753,-0.4253684064898703,-0.21993968558621127,-0.04946297773523646,-1.220760150062432,-0.25219044973250604,-1.8185139807506228,-0.0927532689988322,-0.4862640531425113,-0.2902607991287491,-0.21229832719571506,-1.178618313837277,-0.12527957352643207,-0.5643905767419407,-0.5172452821182115,-0.9082017422497101,-0.0073135614838159444,-1.359573559884185,-1.359573559884185,-0.47136208512288963,-1.2147841223827098,-2.1320143463838814,-0.9301274511435337,-1.020929811205093,-1.1114601006253708,-0.43964436496689335,-1.468473939150471,-0.5644745663102997,-1.1241281999208486,-0.31189162604220294,-1.2934952749740694,-0.4537575848597333,-1.0864745759829082,-0.6356603785847202,-0.14034530333646092,-0.520582543869213,-0.4617501246095748,-0.1912441615203717,-0.12844186904815616,-5.109168060250487,-0.1138192445643798,-0.47345199590471454,-0.012578255066046845,-0.5233320217727596,-0.23232147689629767,-0.21345855673401465,-0.12019319913537448,-0.6365000998599221,-2.4610820708729935,-0.19425689965439147,-0.07363506662621494,-0.1829745694476504,-0.3029787563968378,-0.3494258671645086,-0.29515029181450597,-0.12281385964576318,-1.0695829724435062,-0.5281416554987345,-0.11924114194986746,-0.1514305187143421,-0.4170860897051448,-0.20873784488506525,-0.8233511783411441,-1.3302436101916248,-1.4300005276719576,-1.3313600704829367,-2.487991312316945,-0.09330469379682675,-1.3873931569346563,-0.8441995895435087,-0.8849619903749723,-0.010815309108408411,-0.17421025199610168,-0.3660134487235192,-0.2905020229725854,-1.4144302720643012,-1.442403309216573,-0.06136798369730994,-0.5339545989512605,-1.4926835984606779,-0.3572679007752417,-0.3994755377611776,-0.18521274992324405,-2.092356929315339,-0.35645888455270935,-1.779739367757105,-0.44414886351758376,-0.8675772192928375,-0.8697113095786709,-0.13398839127748507,-0.6027431328091855,-0.35794854059743697,-0.24519332307611047,-1.4313396715937712,-0.41443304313899887,-0.18175855534431865,-0.34020126345979657,-1.0310629767329145,-0.397517248634025,-0.6084542186678636,-0.0843917109755508,-1.3769593034717547,-0.4584766056025207,-0.2190131822069904,-1.3234330729599453,-0.005024807172360926,-0.47358945811641817,-1.0970087796343664,-0.050367883350284026,-2.7697486777979585,-0.41226965160524975,-0.11082755664049664,-0.4732163451059523,-0.8245860921183039,-1.2209777712685632,-0.4743087897072926,-0.8718667134259102,-0.795806700542023,-0.0907889775723756,-0.7911176764663752,-0.16200767401634353,-0.20145687119966946,-0.423290515797204,-0.41879614885531713,-1.499981995374471,-0.10261665925076482,-0.3068096521944732,-0.6575326981579958,-0.05954287959153712,-0.01472437767472065,-1.2496805555618429,-1.639395720979339,-2.4486138603661742,-0.3998573072264572,-1.0104966576416283,-0.4866503306877155,-0.69234846729852,-0.8197563051433971,-1.4307148998836439,-1.1239267729474733,-0.15307562698995034,-3.9418302563693772,-0.27022974650461934,-0.17856632532710334,-0.40973082225611623,-0.7830703601896876,-0.6337520278288812,-0.061117800367877693,-0.31333100982429335,-0.2919101238019282,-0.2912377832677444,-0.18023510261365955,-0.33186349284344036,-2.906238316116286,-1.6848588678276897,-0.19837764095362231,-0.16402268611010298,-0.28106010707151585,-0.10823447211987967,-2.0360186143701196,-0.008233413879738832,-0.035011413912447456,-0.3213311186467028,-0.5413353692888994,-0.07495559693746044,-0.24919372617511162,-1.1993971125812886,-0.5053737669236931,-1.0474434716720433,-0.4356533497183523,-0.22149101630965845,-1.2804146758816073,-0.9785448656292579,-0.6508722491840694,-0.3491967114454696,-0.022832229068473778,-0.4887374198090192,-0.09396087623736409,-0.8252001248918551,-0.03948349609338922,-0.8983543738366931,-1.3688718199756456,-0.05239045622011722,-0.04643907989516716,-0.2872216395202832,-0.29001027027297055,-0.15454986830409928,-0.2642712251207825,-1.0156454390500746,-0.7162205569017248,-0.28848021770598997,-0.28372922748138935,-0.4000479913697566,-0.5176899025297516,-0.09720644380832841,-0.6657663949006953,-1.3124875506007145,-0.8812865334388498,-0.29272914296819685,-0.25672742815761745,-0.28044441945337867,-0.7023306657061281,-0.6371932147681542,-0.13835422352540253,-0.3029464882619386,-1.9208963126039855,-1.1604720916506306,-1.7771021784080412,-1.5670895163889589,-0.23411263428793488,-1.4195036517807498,-0.05691897918058611,-1.6476635474745793,-0.9116169831007703,-0.1971249335815917,-0.552513151229567,-0.12942505062005066,-0.37533267307866847,-0.5632712630734971,-0.1735541671553927,-0.0452360076888009,-2.482946066700155,-0.87869194717487,-0.08049583257142737,-0.03761795918267228,-0.4433101614495467,-0.2549762234355734,-0.015313478240601183,-0.07525516204502827,-1.797047721810342,-0.8860399428297592,-0.6149458533740976,-0.7355245496867026,-0.8253301989398318,-0.6776287546419,-1.2102320021962172,-0.5013443725649026,-1.753562608133593,-0.803586550232833,-0.4655615890727248,-0.016905478685598253,-0.1369703886911323,-0.4538195455713221,-0.3148183986160298,-1.2789698033388,-0.6119859519609413,-0.0989594884774287,-0.7700018348573295,-1.0259033823320673,-0.8619698801648474,-0.4000061995215422,-0.28747117373305425,-0.6517498511209762,-0.993015430945547,-0.5232758209624888,-0.6953064392773686,-0.4607448233780522,-0.5091638078505009,-1.3552098975193205,-0.10890419858976468,-0.43148766813989425,-0.7948141724103311,-1.18111712941568,-1.7216249652524818,-1.1632374649023822,-1.8463809696265359,-1.3976961853536318,-2.760225237939672,-1.2145503820275425,-0.2766748658175511,-0.20990819266528088,-0.5318984295138467,-0.383662824450542,-0.0947980227418057,-0.4745293850221165,-1.579403828232428,-0.2607178150420217,-0.5785944002860594,-2.26514558672432,-2.2061562709457543,-0.630562112721398,-0.14396518269672984,-0.946944705298554,-0.2663161262072883,-0.2897004381543138,-0.43297957642614054,-0.27022474850716877,-0.12622481954003956,-0.4147315822921594,-0.7771969227317603,-0.22105540924480457,-0.46935071426187336,-0.6781647996918448,-0.4397349149637536,-0.146715255011188,-0.09443167154619167,-0.2710418984917902,-0.009010464167546476,-0.79902680264383,-0.9578975354563228,-1.251189035886349,-0.4021240328900108,-1.121866434554646,-1.7783501837807687,-0.2277221693248916,-0.898880853749857,-0.16680743626740666,-0.4729669638585759,-0.08237004293669438,-0.3982395821400955,-2.142553123436681,-3.006149549547943,-0.34240119757634413,-0.13372588478417383,-0.6472576783652499,-1.5940602515416065,-0.31695760494563263,-0.9007642806685653,-0.03156311376635752,-0.8976161035844034,-0.0180008586875221,-0.1104229882714272,-0.16647392749293363,-0.10772464745357897,-0.9673193077107043,-0.1494364437920029,-1.0882039779503245,-0.26239173096726004,-0.49127898631065303,-0.06431071616200076,-0.06687188146173143,-0.4812534366949162,-1.3567150996635295,-0.840095479546777,-0.8756353127681982,-0.38735857434593907,-1.0580563268946892,-0.1271463580417368,-0.7040851024078195,-1.356948329883139,-0.4189852910632975,-2.398750444972157,-0.551312665374164,-0.03698097520421433,-0.5521103200071109,-0.14409765718063994,-2.1486267981424056,-2.1486267981424056,-0.6578381511682834,-0.6578381511682834,-0.6542234675597863,-0.759789731987627,-0.13308412474126285,-0.6961864976811747,-0.18676151128203478,-0.07205350067840821,-1.720133120218722,-1.9934106598991592,-0.5261617472809521,-0.6136166177946455,-0.5740901942468292,-0.7615558080945967,-0.4112178707430374,-0.10983731393494511,-0.33247813000131693,-0.29583672567583996,-1.3527182127857076,-0.6024051691402629,-0.3901702028351223,-0.3271978030932229,-0.34484113939341937,-0.201011739446064,-0.9764989852204674,-0.7953005099908229,-0.13953785345885575,-1.4648891717301074,-0.5854368251987601,-0.4620613333497783,-0.003327760369202213,-0.06966168032504863,-0.8472790389348855,-0.05962207882710764,-0.2665656195322548,-0.08169286241178199,-1.1054679999191181,-1.8762008909039194,-0.8461837049949918,-0.15904358591734322,-0.6621070418348171,-0.12685761660253544,-0.11133086979421744,-0.8409965563413315,-2.1113139065266897,-0.09501374687265335,-0.010382618854490773,-0.22435151443158483,-0.5763806849488343,-0.9267052214647363,-0.004797989831938685,-0.3877093465941658,-1.0383305730794095,-0.6360054577555698,-1.2431209570768955,-1.5482405394988565,-0.9776490717240305,-1.5420137862636838,-1.4706315810492794,-0.19853560240206247,-0.16283385858547658,-0.16748481820261882,-0.2132019116472815,-0.10116738411192122,-0.5385684546105545,-0.9545634770290176,-0.5118902081334645,-1.1072518209747728,-1.617877150360231,-0.8618933670711834,-0.3381602775285626,-0.49522831490710567,-0.10447644567682662,-0.02317497380695477,-0.4192414679705223,-0.2243530611930403,-0.3961060453620376,-0.5993355348873395,-0.5902084939672156,-0.2041436770018953,-0.46002215884926334,-0.13759478039310136,-3.159796557705584,-3.0600313243388078,-3.1376159623513655,-1.7623980294269024,-0.030292711846560603,-1.5247792760184142,-1.6015958706740172,-1.3127186418401044,-0.15737416260185305,-0.4337945307669488,-0.26049865964447105,-1.8042399516163519,-0.06716103114297423,-0.28150174681257195,-0.10661482009262041,-1.1053013994997951,-0.03381038568015156,-0.6081957254112398,-0.7247878944574254,-0.30003074591044054,-1.1519059604740896,-0.3399337265480987,-0.3787168784490283,-1.165276749673111,-1.1992182890535865,-0.3791748304187903,-0.8408859341209017,-0.25018193801515015,-0.035925737465928816,-0.37376443710962237,-0.8441833774184067,-2.437433067911089,-0.13698659133843347,-1.2052739082878317,-0.19874659078001936,-0.10719928432558394,-1.318511208443002,-0.07521645812316682,-1.2757208360408852,-0.3917121220505262,-2.3611097546029707,-0.3877904460183032,-1.4828725073943385,-1.0356972274295255,-0.2473906712306492,-0.23567220683826667,-0.25434794441870434,-0.44718985240350545,-0.6893083710370045,-0.4346663226142468,-0.4502754673136147,-0.44273179875119767,-0.6829666580621311,-1.2247454553202353,-0.1941989313487992,-1.3031938743574067,-0.1444392127816195,-0.3595178584157815,-0.20880028101731699,-1.275294281693552,-0.17592109870845352,-1.6252179341176172,-0.7253307817740486,-2.4893140845120225,-0.730135274322686,-0.6334647793037648,-0.09801756558995073,-0.30443832318072583,-0.30855718803701043,-1.8214807323171842,-0.7533309732082799,-0.6940951960858568,-0.3268454307936368,-0.35519001377451903,-0.40773521234704985,-1.6951827739832783,-0.0649636152551507,-0.897330851279918,-0.4902200915448285,-0.9583736355462941,-0.19359628193699305,-2.658078061080042,-2.5709762136959413,-1.866211321702941,-1.3916088801165662,-1.1233860629975247,-2.320958958173753,-0.901677474972698,-0.2973289568754572,-0.33675559342559397,-0.23396078410412474,-0.08571534153748724,-0.9080733701777621,-0.4412098466725804,-1.0686175823913484,-0.020256527487609192,-1.0683178993928544,-1.6076528448432739,-0.7661632895023214,-0.22404467511434936,-0.6392806100678716,-0.23806671604387164,-1.4861135016126674,-0.4699353630122569,-0.05045485080056946,-0.2156977825911887,-0.9207279037334798,-0.05504076114039421,-0.5892479505295949,-0.7164954009273257,-1.2374531013331065,-0.38405559185321014,-0.13506917133252563,-0.7224932400270554,-1.6451662735113697,-0.5214474007625014,-1.5224270374947928,-0.32091758782861074,-0.7958198160562737,-0.0010836209742184804,-0.6637902803757396,-0.28093014910186553,-0.3939679045178503,-0.8104881701861832,-1.5704648308262918,-0.4108480227071633,-1.0003552953578814,-0.5073519991155133,-1.2052574201616069,-1.7228659750745159,-1.0794882441052527,-0.7675327946477413,-0.94747758022688,-0.5645991091659852,-0.2312626312428622,-0.139118102896522,-1.0343956671030456,-0.08242489696745123,-1.6064567702005879,-0.462503011119896,-0.7778196517507641,-0.2760113339780241,-0.23164196042877336,-0.03099624259151485,-2.36587427539212,-1.5611293548515537,-0.5837542676040004,-0.22149242087217497,-0.14064607725202596,-0.9046127120186341,-1.7978768281670414,-0.7177597488791857,-1.8809352205864838,-0.13360527542385042,-1.2563861808093202,-0.39994502526250264,-0.6247047546528156,-0.06244446093501931,-0.20234363010723708,-0.5309389479308224,-0.0361228735434992,-2.1331372203338503,-0.47468227043241507,-0.14681303955759015,-1.300861115041675,-0.2730931029921313,-0.0774746956569168,-1.0830919978947349,-1.4146377538415211,-0.2470442837415785,-0.31209076748031445,-0.6436489423296168,-2.5992105030644357,-1.147218856417597,-1.822215689755454,-0.27223159349685744,-0.06604514422728586,-0.27715057623023087,-0.04170527101110419,-0.2013542021271163,-2.2208346672665726,-0.23362224049363206,-0.1806923973168958,-1.3628145953489672,-0.10589305615215819,-0.4640015460071375,-1.505335540233718,-1.1127156864455183,-0.43269739156998077,-0.32304898110649083,-0.13117667945185577,-0.2572492880667509,-0.840416059631939,-0.20746419073897288,-0.37113369886515807,-1.3187693225179187,-0.3798436592868615,-0.9130539712458681,-0.8630598793815241,-0.40434597776293163,-0.05254226771193268,-0.29482962096649756,-0.1340023795361767,-0.254703552696665,-0.21317468422353955,-0.44632379902306285,-0.18675180183092965,-0.7055373680754465,-0.9778756676551612,-0.33337471461707013,-0.8253093998655238,-0.10685405742188579,-0.040758993368574616,-0.5473990706242868,-0.5178622931933178,-1.3616180658917025,-0.6875571402426832,-0.91626064218897,-0.7990190991042312,-0.3250796907582669,-0.30311036963985544,-0.4156166564913722,-0.4156166564913722,-0.035495169276548034,-0.10409201222323036,-1.1516575146272319,-0.40082559806658347,-0.5842785202633997,-0.1937943645142194,-0.8984077763242724,-0.009421035933969006,-0.280627378106004,-1.0454100049215918,-0.6458411316718503,-0.10820497532300112,-0.3161755036663472,-1.0481525877675157,-0.09221153261115479,-0.08730269472363136,-0.3009686012231057,-0.08043835684782372,-0.4468732052824977,-1.9698479842181624,-1.755575010113311,-0.6706708722079171,-0.5639032178103858,-0.571204186633674,-0.9319897738889465,-0.3573570973405342,-0.8184757980499583,-0.411712325640705,-0.6976525289260045,-1.0435862896451222,-0.724004055176863,-0.2825208566821449,-1.1987160677192403,-1.5588950527422745,-0.9525901581556219,-0.8627375106262161,-0.814369061153167,-0.01704286926626464,-0.2471825055371741,-1.5327604580561527,-0.09038168253061304,-1.297572982510052,-1.1649850262129824,-0.7934989371098989,-0.13988966115408785,-1.0921286084927457,-0.7171147716327679,-0.9927780507390995,-1.9471282433299317,-1.9471282433299317,-0.13410701035979125,-0.06256896262399643,-0.00882482756518802,-1.4583100011185357,-1.5213894081588315,-2.190467244365885,-0.8768643222705305,-0.018469972657933292,-0.21162453607461745,-0.4096169493489067,-0.06534601418773382,-0.951061091919326,-0.8101032939247057,-1.0953380474290493,-0.3508586873211129,-0.776619020312768,-1.547100492007594,-0.7924039428228505,-0.8150453579667905,-1.0359619863756482,-0.5861336206116701,-1.3390455382637216,-0.8476489813734097,-0.10064631054091096,-1.204188554710473,-0.6815418619850038,-0.45980276455370556,-0.40645042857890745,-0.10453341596445648,-0.7730167059553182,-0.43684984965628193,-0.1002010711399553,-0.5998247610803638,-1.7811954330841016,-0.873876843299464,-0.3470560778108495,-0.0060020673715603726,-2.2952822149046797,-1.495556423984722,-0.09610652630239087,-0.029595852621373573,-0.19332952488445648,-0.05245030805253805,-0.3455585771025031,-0.53588803501894,-0.10325893499223439,-0.39212510472365397,-0.5707093594000794,-2.5422218721247383,-0.9758165337965935,-1.1350836744210464,-0.6651529426681426,-1.0982873008482863,-1.613831104037038,-1.1441031790871352,-0.24481887603982744,-0.18774365987788394,-0.5257722965137128,-0.4627687717940649,-0.08087567700373244,-1.7940105400026045,-0.7687833528710457,-0.1323572488568757,-0.43672495680491213,-0.6563266678639673,-0.7980555960727659,-1.7642536930969592,-0.27031227405366043,-0.4678415166902957,-0.6789313437233422,-0.3434627370068327,-0.010124714956992097,-0.48796022159390423,-0.2539546499353125,-0.9152998559643019,-0.08148371417590979,-0.4956984657317148,-0.5754203831876865,-0.8721583623679127,-2.0778047956200547,-1.294434998353917,-0.8910531658030875,-0.6724142607091266,-0.06845669101475046,-0.17824974026581566,-0.7287009368416381,-0.8665443288885566,-0.6791230808339072,-1.1576767963964594,-0.7956921678286781,-0.4068445166739074,-0.12355639679009395,-0.4855265702317565,-0.1855045463081231,-0.4910614209061226,-0.9292358801967429,-0.0369276140808135,-0.5578469725845728,-0.2355068519911078,-0.221439003349665,-0.4256258935269894,-0.055374361472620114,-0.276468900734138,-0.4902219741373881,-0.07445638922048833,-0.722494349524416,-0.9222486325276721,-0.2432584558524943,-0.7141863544639434,-0.5964851709401847,-0.41751380593981596,-1.3782875710792986,-1.067235007042585,-0.013617788186392445,-0.060784168639071566,-0.2640207274120378,-0.35496093274881757,-0.37427385136834196,-0.023584172724445965,-0.13495592884765256,-0.2756043470186765,-0.19452568342442345,-0.645957435225578,-0.7097120830606011,-0.20170135475086443,-0.8194576357392843,-0.4677427071409281,-0.6001107096217576,-1.5511128944519132,-0.7730907050986362,-0.9395392491665692,-1.925438137531467,-2.9609891975120783,-0.21835832953970213,-0.29977550228109906,-2.8983240040872715,-1.4371716847285076,-0.682142836879621,-0.18457031643749325,-0.4633658828730401,-0.18572782351801567,-0.07161697168976573,-0.0035283634162105717,-0.5887044901056527,-0.9080269861256327,-0.5123775324352801,-0.18322476575514748,-0.008438422810237083,-0.04887358382845231,-2.822169025905149,-0.06452113185317439,-2.741630183393982,-0.11433380639725131,-0.110706211166892,-0.874565879778543,-1.6811513590197358,-1.575895614980538,-0.40589618148688833,-1.0019284847588144,-1.4562814045918366,-0.6621211087934917,-0.8364164707746601,-0.1123545893162849,-0.01181581740336027,-0.40632392177948123,-0.6170823144120041,-0.593449068931054,-0.847654611470178,-0.04887104339234068,-0.5510731607778824,-0.039511464689252845,-0.8734190471801784,-0.9231550791331838,-0.1302175425786529,-1.1005706390025158,-2.6054699551596836,-1.145018588057618,-0.4057906720019766,-0.7208867156028387,-3.2834214262002503,-0.25677431718659743,-1.5232422781765043,-0.11082611522428276,-0.30103647557852814,-2.0532004782303086,-1.2786681403599587,-0.5323531906013439,-0.04367514797603412,-0.6632542116508647,-0.8102999048451333,-0.2583783826346793,-0.051522030137545236,-0.6336985514361435,-1.10814981647589,-0.02402063699212262,-0.4108301045021874,-0.047522526761189135,-0.1986943149697746,-0.3618273898582285,-0.1605330748686436,-0.9623836156151924,-0.792662895788937,-0.3113357326775695,-0.49573611037730736,-0.02767417706526058,-0.6759031289436814,-0.1885774110554301,-0.16615567955371852,-0.0636563558947741,-0.4772171071607595,-0.631104472727734,-0.50339789383125,-0.273842091952368,-0.2619499491163418,-0.17488575315299676,-0.1538714698851436,-0.33792568988066574,-0.5997668010865889,-0.13971981168715314,-1.0677272987722828,-1.2168205498464761,-2.247325255847424,-0.5820990322911725,-0.571425840262974,-0.369578274245281,-0.3022686928836484,-1.5322452210248603,-0.35364822834369203,-0.9391716913030099,-0.454660676898564,-2.0407548525291284,-1.2538774740793939,-0.06472288982486335,-0.14186739318444555,-2.629522690134292,-1.1971569487130453,-0.37732860419554,-0.7052345533191366,-0.6486721387897653,-0.6652098631279353,-0.21953809703073968,-0.4822362904689801,-0.0118816716188231,-0.8760536012791669,-0.5006129114627412,-0.23847076446032112,-0.004362529446183311,-1.2995158721583624,-0.957647161973418,-2.4108089215965283,-0.41161817059388395,-0.2960839203436092,-0.6319387155856362,-1.7415741572206773,-1.5369953043171045,-0.43520511812929125,-0.7104970391303066,-0.4328772089507808,-0.9007422789399306,-0.5707140079481333,-0.6242351863885001,-0.02534212858233653,-0.8035400645578935,-2.0611541208045003,-0.9394346690606391,-1.2831799348878041,-0.26987744403265296,-0.1336999609947005,-0.34122450059917614,-0.2577088661176449,-0.03519618342042297,-0.5578098960692801,-0.08192528110550108,-1.049656993853726,-0.3406788049100576,-0.992893688221889,-1.5480391748971043,-0.6189555015967206,-0.5575470082879234,-0.4322804482839243,-0.7268643353595368,-0.5179768175324952,-0.9870246584967635,-0.5933338866722275,-0.07451282751343538,-1.2318664902205552,-1.430396461346687,-1.2926011933322625,-3.5264408456368064,-0.2573840437505526,-0.28533980461949987,-0.5654159443988694,-0.011293837622370283,-0.750109316414613,-0.5820589050242934,-0.06867463352072793,-1.1829195179943552,-1.9183899640785984,-0.15672786718086493,-0.3828632146078639,-0.7906431396282205,-0.2529480865303369,-0.20955857115140436,-1.3893221499608253,-1.742165392718017,-0.3433208313257354,-0.0848719546126225,-0.6130606229120255,-0.12654545721808894,-0.11609559893732199,-0.8980988653038888,-0.5625801562075939,-0.6881201297790783,-0.7212640893492003,-0.8466606847840085,-0.5666555397158421,-0.9801318454121419,-0.7478776498618825,-0.5358704989451827,-0.05692377543192868,-0.007221371873148115,-1.281992190753675,-1.196754789813888,-0.23444220580834504,-0.8088822935064297,-0.44795768863494057,-1.1564810984171783,-0.25205094523361443,-1.0285858642795975,-1.1307441243165803,-0.45605505562352566,-0.5812806020810805,-1.2709670708494991,-0.6649349169230611,-0.8706869030460513,-0.11779904611677294,-0.7348537899534336,-0.8059682310390589,-0.8176827439978261,-1.66842177843342,-1.7423790847627028,-0.1661054080774299,-0.4411895423789787,-0.24279166384342885,-0.08656757721877624,-0.6115797884190263,-0.7218762111437728,-0.5557162971249291,-0.08547809511513264,-0.5915060443920089,-0.1259916496299487,-0.6828949996783648,-0.19354924956679878,-0.11368880441737973,-0.037693298389948705,-0.0652548102957309,-0.28739467096398863,-0.05902003937917951,-2.4090365210693108,-0.6328143962567893,-0.9806458565458237,-0.24901700816611397,-0.5914428124608478,-0.8030312782504447,-0.721484489511164,-0.05011665764543023,-1.969126529095406,-0.34990868841890166,-1.6493415292490312,-0.8555049853279468,-0.7597454903494277,-0.3323068943038987,-0.681749003284188,-1.2461863716293702,-0.34563315075782775,-0.08197199511595125,-0.37877431212158946,-1.5122571584200295,-0.8821474795409315,-0.6360714086502341,-0.6646340618415106,-0.20079316657867588,-0.23632912635456926,-0.07121814183229133,-0.2679496232319132,-0.9837076680548542,-1.6450829221342271,-0.17144319041556852,-0.4684378455228696,-1.2525261748497092,-0.6303696029670052,-0.1604930175149801,-0.4868448056272602,-0.07698424175161125,-0.04463309630362715,-0.4165789139083074,-0.2901374311316748,-0.026605329778503477,-0.3593253964729372,-0.17153466426167857,-0.021382406498798877,-0.23144862594607682,-1.4630644367925203,-0.385941419117191,-0.5187226636403585,-0.35174735053844536,-0.23119161957962506,-1.1961558526333587,-0.5499717750779958,-1.3693978960835533,-1.4236473339084619,-0.13633052312234795,-2.5858861831588866,-0.4839668775405149,-0.46516762794149435,-0.5146134773648123,-1.0733995899173085,-1.0553848226453462,-1.3071229572389584,-0.23286655635673156,-1.0465975730505557,-2.5305131324050314,-0.7703786016843441,-0.1415125612020617,-0.5765110634112993,-0.12618823593345202,-1.0270680523306541,-0.07572704768850816,-3.4450043854146046,-0.9789359295468396,-1.791635582765026,-1.1602805580013364,-0.9978378051362897,-1.5175014418200496,-0.006043807603361589,-1.253561434958027,-0.2980031319672016,-1.782222633102597,-0.4312083587927253,-1.5433954164057249,-1.6268911515076456,-0.3409302446187354,-0.7396615708050976,-0.028197496992786893,-0.028197496992786893,-0.48077297171911243,-1.6628672789674404,-0.6755676748968965,-0.9300470229227606,-0.981160836361326,-0.5004149277144347,-0.5004149277144347,-0.3660689005958168,-0.8762321739166665,-0.11273959786219806,-0.4074240057187999,-0.894121558057024,-0.7648237652224217,-0.33082644025670294,-1.4027363682710108,-1.0049798546965012,-1.1193475355117197,-0.4182835987827891,-0.2981772434160765,-0.22393235776568987,-0.8098852395015935,-0.1323742156238223,-0.13244064034181938,-0.016794801771729345,-1.0025644958310267,-1.668189490731628,-0.08594022308973816,-0.3437861723458099,-1.0530653207065392,-0.45879028089618823,-1.9234311995096602,-0.5458575001395274,-0.3476516511058824,-0.35832675340667325,-0.07306549569541537,-0.20165529556532238,-0.5714891166043163,-1.2718212251583016,-0.2929005835959688,-0.5288115379671656,-0.026744293738573895,-0.8283090757731751,-1.55880321153193,-0.0912109159565254,-0.8082425039017568,-0.5123679072191123,-0.2685712670068687,-0.8542515207226107,-2.812672231054635,-2.191700546286922,-0.06251160740998211,-1.1684522944758817,-0.8144044527225001,-0.5672839573272541,-0.17211345380165827,-1.9795942312701915,-1.7171424390281662,-0.14113595543099694,-1.4283904965095944,-1.4678932598084427,-2.2196104554188203,-0.03156184359245229,-0.9584833835771308,-1.1135121301616293,-0.4942964980679947,-0.19729463606919365,-0.43768634704280557,-0.4943345302704918,-0.4419492352708479,-0.4714517614492219,-0.10996120217998112,-0.20300604814479148,-0.16547753538540333,-1.2899959792970108,-0.02999601238512137,-1.048747199345351,-3.2383479170430016,-0.23345887865033685,-2.0103634578772787,-2.415364220814534,-0.8422726110345542,-0.38600449935353254,-1.4830887781969315,-0.6723243682329595,-0.5399242892875227,-0.3113372540623818,-0.06700139041352757,-0.8283370731047981,-0.024995431680205075,-0.7919394701262228,-0.2759451601899408,-1.155849404511775,-1.477090539474805,-0.6128405909392427,-0.3571846823639873,-1.2808712315148596,-0.47412924015738434,-0.16028804322052995,-1.6041135060334004,-1.0701113335551096,-0.5496111107626781,-1.0162150203891585,-0.08329496871149894,-0.5647148976248446,-0.6481566926591453,-2.084792853095512,-1.328464518917536,-1.2172500087961484,-0.9470812642784042,-0.5989871080439247,-0.6522064117956772,-0.29314553582544733,-0.6111198606424354,-0.9200899596731438,-0.5827919473639269,-0.801840069413604,-0.00016158849386644305,-0.8152464874306775,-0.09838858251383892,-0.27061420807684894,-0.9716305673057642,-0.031600401779919816,-0.48261286741630155,-0.714397022991209,-0.2756070687321397,-0.0032407681612512413,-0.7345120710659434,-0.09060519328035373,-0.11237361649028998,-1.1886241356203795,-1.28852213385117,-0.25699742817718574,-1.052750388329493,-0.24900454215148615,-2.163906829829868,-0.5894717183384899,-0.47951475046898484,-0.5881917479280926,-0.3810963849206283,-0.028989643200033617,-0.3919486922109864,-0.011945678347261363,-0.06289495761239394,-0.223855330490804,-0.12316513844336133,-0.3734570707976351,-1.2679759536920339,-0.6567518005704238,-1.1221641102854885,-0.953527100253378,-0.10203274198455027,-0.10203274198455027,-0.4293110860615733,-1.6184790480433515,-1.1319676891863915,-0.8051107545079479,-0.39670238486295867,-0.24778109105937715,-0.927955548197043,-0.6186199547819206,-0.15711956721864753,-0.008696066324809395,-0.7623773687949922,-0.48876723485958934,-0.8602772928206471,-0.22225871781379383,-1.646863599845729,-0.4070782461106855,-0.014784366990393236,-0.27528378938361825,-0.24632962676052197,-0.09893206369926642,-0.06455009990293424,-0.5290823293284638,-0.8332518841445166,-0.2160291073077047,-0.7089952057899652,-0.15647028614170674,-0.15013283049185686,-0.8638373609132677,-0.9619163835725641,-0.7013357448941847,-1.6338088814852,-1.4643317541912906,-0.6388178324067718,-0.36019855657973865,-0.020839678997260795,-1.2463258233329513,-0.42971161996937884,-0.35222095721900515,-1.4293692453760132,-0.8158084231455397,-0.27672829289164047,-2.58328275569448,-0.3744482076658932,-0.670123611965264,-1.196753761461735,-0.5298426499951769,-0.42866660592485756,-0.009939430852568614,-1.283259005593449,-1.5875161447332993,-0.13760410706229897,-0.2004317325388511,-0.01732683047541919,-0.14076261506694054,-0.2442538898117866,-1.4746225190889026,-0.9274356964165046,-0.4617242252546869,-0.4205067508135584,-0.5074602991139165,-0.47560085017150433,-2.255286806882162,-1.5768534641926346,-0.3446779270885308,-0.0421404803917558,-0.38708647396868845,-0.4089675504788167,-0.3471702670015108,-0.9326770766940149,-0.12826524127601568,-1.1399115104515234,-0.043706260719648136,-2.0741291160089954,-0.7047452557292947,-1.6679541314160369,-0.37126758474571087,-0.37535166461990926,-0.19270696918032681,-1.812238716033887,-0.3337514834947784,-0.02102217374387052,-0.32171021232457503,-0.08208400121421018,-0.08219156297242583,-1.9622855458830677,-0.2454667928678736,-0.24523805372094035,-0.38884363439069985,-1.4029871420535496,-0.25218720090663727,-0.2863965353787407,-0.9553184741799727,-0.49166740477055954,-0.2692270324743906,-0.12377247104785888,-0.5034978314661596,-0.506271982155634,-0.8203750893090246,-1.3368878801617543,-0.1878239199863422,-2.3642142008677256,-0.05062987367748566,-0.26522250583894036,-0.5411067035901347,-1.3621481260606036,-0.9526285689118716,-0.6454186582984733,-0.14896493555179377,-1.1732671263670371,-0.31734132599533316,-0.9591303773407054,-2.2681827324501107,-0.2201132485707427,-1.4136298892375136,-1.1026499175052775,-0.8601175659244812,-0.8667646180623897,-0.01656876409689202,-0.8662274690752074,-0.6731331153331241,-1.3421065346037293,-0.9931506134482125,-1.1278068125096359,-0.75093409756764,-0.7979110912614206,-1.3562866693936098,-1.2510984601620025,-1.2945040640766958,-2.049861701519041,-1.6822609879875163,-2.1032406634540273,-0.45101703440063035,-1.147983707411933,-0.6425558788853055,-0.3491893496178057,-0.22415224472750675,-0.29852163260866127,-0.0009156462427818667,-0.4446181062160213,-1.2809957692917306,-0.39955033476732327,-0.6327703848363532,-0.34041633736413995,-0.22508499812890426,-0.45606690117619364,-0.08932434566679313,-0.9898853391112912,-0.022365861532862893,-0.6099229677688154,-0.6045758011063808,-1.7158665957318087,-0.12349046711795436,-1.9487726694439564,-0.3738592229471026,-0.10123154833027867,-0.6201639853960882,-0.06616223929648789,-0.003255108685798042,-0.987001196057126,-1.8641192994881002,-1.3356091155157295,-2.3219294540031328,-0.11212259922193336,-1.1594395552431456,-0.2693538129253949,-0.5350904433541822,-0.036632250503430684,-0.21956273342647217,-0.8990529796533324,-0.2521333279321147,-0.2813574672118799,-0.09023134448186694,-0.6925105522504389,-0.9478349060462101,-2.5986889813900533,-0.7563607680455112,-0.492518272295403,-0.8447276918277375,-0.031189696131091828,-0.07163050233818141,-1.10335952135207,-1.326508514594715,-0.36719434181416494,-0.11121703129262435,-0.7540311532242608,-0.03234013856680936,-0.1830782124175983,-1.5380089718859211,-2.181445154853705,-2.3878459630397066,-1.5484882693095616,-0.04307266562409789,-0.4189732624498719,-0.7235144283626161,-1.6309214642061811,-1.9339091999541536,-0.5696720457805723,-1.012175748375753,-0.5153910356937923,-0.06791045895100671,-0.48442128571528215,-0.7477827658484028,-0.01309930446981375,-0.09119752546025119,-0.11445860207411315,-0.253493346981208,-1.222042551572352,-0.2120267225845004,-0.2997639308748537,-0.4545459546994469,-0.08625116743473404,-0.5820807415299305,-0.06116000141123522,-0.5465202898599909,-0.4331612821533708,-0.42010329531096535,-0.021943340514105878,-0.6877083683384709,-0.6862018500438147,-0.1212137957022461,-0.026064814242280163,-0.360438360612449,-1.35305173682915,-0.2914048487192664,-1.0768020618345395,-0.02472795947898943,-0.02478435573424734,-0.24441637409134562,-0.42706310228256594,-0.4070834697384113,-2.320160548996896,-0.9591554594570199,-0.10501971902363705,-0.1379059439365724,-1.1288613326272146,-0.24409150035285915,-0.22900259910760964,-1.5898752437440482,-0.2235841056800201,-0.3865278275560387,-0.2943898289083428,-0.19261763318587177,-0.15136979145105983,-0.16073032963027467,-0.5012148912476857,-0.006321343705234192,-1.4134114040679038,-0.025233810642629095,-0.018682012533898375,-0.2248227110289347,-0.3726461963445807,-0.46779622700663337,-0.34588286343198954,-0.08064301317078361,-1.9873867684466922,-0.18293319771524166,-1.075979351883884,-0.8872666517098396,-0.6772017053696472,-0.6205004179404097,-0.30051134483569447,-0.4481161760846313,-0.2985309351477369,-0.26419167753742573,-0.29837315811771103,-1.206804407470112,-0.8622644385551049,-1.2181421536595485,-0.12016066766586936,-1.0073872919294542,-0.22558590756975305,-0.6200247482504928,-0.8568798640111456,-1.4660733024010049,-1.4897511566680381,-1.1185659231801028,-0.13223610141639208,-1.376285846527552,-1.40942026652208,-0.5507891039207932,-1.4800104620725811,-0.4157562291422808,-0.5049413385148223,-0.25240271146521936,-1.1153237213347693,-1.2748217696770914,-0.17235212992386154,-2.428228061966528,-0.00470231330582843,-1.9503570562963188,-0.5059408154673303,-0.8378381230186195,-0.9890982387646149,-0.676349006159928,-0.5975650200500865,-0.2554182417524664,-0.0029593886435199854,-0.22008433245828815,-0.14309917634498365,-0.9924485599083022,-0.21776078764190512,-0.2958422632887602,-1.1370660929508567,-0.9882307660818587,-1.0260516807808893,-0.5760301968511553,-0.2683788681798067,-1.0033855619558039,-0.017960026607226447,-0.1853362702424911,-0.1974003708177729,-1.0175006041191665,-1.1061422663805043,-1.3345068475831008,-1.2769032200477144,-1.8953110310633745,-1.1088367743356227,-1.183144948069822,-1.1323397668275106,-0.859902772818211,-0.17980798832359574,-0.12094734934832758,-0.09551402066349611,-0.7480723277463328,-0.13838297615348588,-1.8696870328390938,-0.49194944749845637,-1.501956602815537,-1.9559919343238206,-0.9908854914393177,-1.8171968591279168,-0.483037654809399,-0.04749822901819988,-0.4163699516900936,-0.23891410752732675,-1.5162234477401064,-0.07991177519587372,-0.817006113524068,-0.21501794191148796,-0.8842592225342214,-0.2459895864829499,-1.6410979777133488,-0.5013504262047,-0.44409063352809236,-1.7691748680168844,-0.08817493506209066,-0.9174182271008641,-0.42108915254103924,-0.6063782412982068,-0.024004613943286318,-3.3321226155714485,-0.8063023114806388,-0.1175886060142953,-1.5231555763907711,-0.33701495580982493,-0.35175893102959926,-1.055669613251175,-0.4836817378727516,-0.3523319641965792,-0.6119469370377693,-0.44153106924519436,-0.5028869574121592,-0.45561918445522304,-0.39572876562880877,-0.02181996536963613,-1.2528622383540189,-1.3006515879181322,-1.205955763124842,-0.43169755999041937,-1.1657901482915298,-0.7845558302782567,-0.6380822945320966,-0.5176408045920118,-0.4481179706379081,-0.06128055085338345,-0.3854557092089619,-0.06729879744719719,-0.0018017313522068672,-0.8144718694892276,-0.7574566167024309,-0.7155476299239933,-0.7756038700098575,-1.4621440848839615,-0.6515701507107643,-0.18622204332288025,-0.4196714314543084,-1.1696369257933439,-0.2774494860167824,-0.418991653905374,-0.6861064648948036,-3.6701079455263064,-0.37760212060656295,-0.009453829529240856,-1.1179568317779052,-0.4045294583464939,-0.463267934349277,-3.471189896103612,-0.06887444502916526,-1.2120176396734117,-1.5173221302735636,-0.127476316581856,-0.42728980357340873,-2.0126096341282467,-2.132963701857933,-1.3652377714379553,-0.9770055944247663,-1.5097276168407736,-0.36897611407032815,-0.9220837849684558,-1.4736047566526462,-0.39467632001142666,-1.0122436904071372,-0.14472405551208117,-2.0026498711589955,-0.10652912564028737,-0.7910776249253548,-1.2484013911200431,-0.10780758739670297,-0.009374282021582343,-0.1718941070813442,-0.23522550457029776,-0.7254484423459555,-2.7925506962579156,-0.26155782857761806,-1.778091360360931,-0.10325706484038588,-0.09836981977476493,-0.24157769096750456,-0.5727111170786265,-0.9848358134052799,-0.006927033686202357,-0.9477703308449893,-0.0794101943291744,-0.05273430629742881,-0.25189972094886454,-0.4969728097868804,-0.7004958617085535,-1.3254944947872656,-1.4390360749179272,-1.7835564553877883,-1.6955420613031669,-0.429086346520851,-0.08000991453159095,-0.007991784713664305,-0.6995828548885639,-2.140031431775321,-0.14228039260533173,-1.4727123515200502,-0.06341086825009276,-0.025927975834356232,-2.380371542469213,-1.1647864281471714,-0.16297855089262483,-1.329687444278003,-0.1144991820300616,-0.11445506164559685,-0.20992699550681818,-1.8876687448215008,-0.2524479608522441,-0.06199185301194547,-1.2931657073714193,-0.2986278250740814,-0.40027948045211253,-0.2602102115222406,-0.30879834557453295,-0.36593137268196535,-0.963424298238863,-0.3447700546721169,-0.14845072876756316,-0.5237716766964092,-0.078297882572005,-0.9815031327598589,-0.1526203384235006,-1.4112241013017157,-0.16585539219395526,-0.31038974882982184,-0.758509992682189,-0.33449457346666794,-0.3830902166776148,-0.8368854828827722,-0.0027916613820477016,-0.2734715555309954,-0.5860864596111123,-0.814695671916203,-0.026507405451737055,-1.2709525369648633,-0.8167138052043219,-0.41988461551953304,-0.6598698697872212,-0.09702344353703309,-0.46472430514674146,-0.6519737336887255,-0.26822541204585504,-0.10581274787026651,-0.07581049602520216,-0.5749402904938602,-0.5288310976294993,-0.42257120300458373,-0.5360091174479829,-0.5629811401742156,-0.9791559183933819,-0.19148045168535965,-0.6776990020782019,-0.13337376819479316,-0.11497322884752095,-0.3932324479551707,-0.40991535870270907,-0.4593786082908839,-0.6341678940910777,-0.3445868952482965,-0.28681883625271215,-0.6539400424596744,-0.49751597213784393,-0.6553003413755478,-0.6002803945046162,-0.7767834470728011,-1.2010765955838798,-0.4082252577037489,-0.7787815493690358,-1.282031896854485,-2.5849712541860446,-0.786223307096074,-0.18760601398212645,-0.025974052684628775,-0.15545137501907735,-0.11232503858941827,-0.8132191601494195,-1.6931110126585727,-0.6247951358281586,-0.14390472404733307,-1.6300813565695904,-1.227581340618019,-0.24427414933310249,-1.0161240115023686,-1.0807122168965198,-0.4144422685091738,-1.9762918710471136,-0.8019453562881975,-0.9164861256055769,-2.589322263269903,-0.10177613673545226,-0.09108934881684021,-0.1621893567191339,-0.7430958075388274,-0.2873189294831473,-0.9967005841477421,-0.5169157949754929,-0.872140226457469,-0.12289773956887627,-0.05795221309641008,-0.31653576047595666,-1.1134323428609447,-1.1163884083719813,-0.07988685368333448,-0.4532535351468909,-0.05689438607684732,-0.16239302669159977,-0.6260287736148369,-1.493001501980529,-0.9134270864463897,-0.053871266376321524,-1.0578375576586885,-0.8732416828693733,-1.4693845740356366,-0.11611763322015786,-0.24660149089348843,-0.5521453517060673,-1.304571145986713,-0.46827957092286926,-0.26801027914778014,-0.36194052343307626,-1.62660345743949,-1.8021082494827594,-0.06316929644967999,-0.6414993880028389,-0.5097155726272048,-1.6287571892910284,-0.07447466637861537,-1.533631721599299,-0.5841693905940166,-0.8947133783992404,-1.226391534751805,-0.03973084469559002,-0.4449191041596557,-0.48553982723332073,-1.4611305963032248,-0.14710200008607094,-0.501099929365381,-1.5975637733954622,-0.17395522325412827,-0.4800507018153838,-0.1698108248053498,-1.0661984550416133,-0.008074341842595596,-0.6743457390289389,-1.2832356506559204,-0.2996131876221035,-0.08981611869847188,-0.48355280337902584,-0.003357847078427114,-0.07895120094853318,-0.7252919430361687,-1.0193570315416083,-0.18316015299439178,-0.7942386317133726,-0.4134610553380748,-0.365632356459394,-0.2865824000486761,-0.6115792768809792,-0.41165196566141316,-0.21210346768233035,-0.564986895378559,-0.4557270777434165,-0.21615198613143038,-0.5126376738069613,-0.15710445854865496,-0.503971734858321,-0.15620286899452718,-1.3217678248689773,-0.26743370785121057,-0.7221720416309342,-0.5269461195826164,-0.6206288148914852,-0.0010814018844497416,-1.3928295836659623,-0.01710029299229309,-0.7087118396510091,-0.8527731544597742,-0.8392157568985726,-2.4446528987791276,-0.8702482737581736,-0.20246936358571177,-1.2030780762845013,-0.031479372816476295,-0.11993710196437661,-0.07012438805637074,-0.8766115578552995,-1.7254279015121166,-0.1645038731066073,-1.01148703065691,-0.6556236925580767,-0.2583246852142992,-0.02718953196359715,-0.6529496435104564,-0.6147530056232627,-0.674013922680401,-1.193037531508137,-0.2823737912795168,-0.5933010117879578,-0.20807175736450548,-0.9661266010303994,-0.8282252718360903,-0.02773777627574555,-0.5780407521189465,-0.5174923199828904,-1.3541332310980392,-0.0029937754051480555,-1.5823034426331808,-0.5643819133414784,-0.011898564991305037,-0.35032738785959827,-0.6273840339277388,-0.7447984385671309,-0.02675727785602744,-0.9959940009130804,-1.164133069275345,-0.5344392540829054,-1.1384054464237872,-1.0658595612890818,-0.943453406151346,-0.5060989019950988,-0.11099072369155372,-0.09902442312623813,-0.5482179791393978,-0.990090651203733,-0.039542718925662,-0.04422569210554157,-0.1403422191934541,-0.22084106173633627,-0.3179991283959894,-1.4886422017518268,-1.7439673378327982,-0.7803863715962592,-0.02354865102341076,-0.23874270230967765,-0.6940751255285833,-2.3764028693235235,-0.23808175896853537,-0.016717990126883315,-0.6743517038317665,-0.4304302440887807,-0.02104346238757928,-0.0031113794388696932,-1.3440584034299687,-0.7211009581982739,-0.04946834042019311,-0.21917263195053288,-0.6984388288675386,-0.07464935680887669,-0.25996525714808694,-0.8328744347965469,-1.2095378513343817,-0.22336845280055692,-0.33007053800123604,-2.6367100139987976,-1.1633856360683097,-0.01977590260013401,-0.25212340658319643,-0.5002226792818716,-0.5358563521446703,-0.9184466993850214,-0.5862187094234136,-0.12342204840942893,-0.2348320079410956,-0.02890388194331992,-0.08326256918788999,-1.3546494630651646,-1.0062955996221603,-0.2871933857054593,-0.0009687982931247607,-0.1887792795350663,-0.8579508271723127,-0.16900261027936,-0.3013626153929283,-0.4350436619051288,-0.6828777447549874,-1.2023028047560536,-0.02053300576515678,-0.15348959167935655,-0.3554363374003305,-1.0543758996172663,-0.5991257951887683,-0.048472715409406286,-1.1034777775053686,-0.2011793387973948,-1.7888119918134728,-0.5649834616431898,-0.032658455457056035],\"yaxis\":\"y\",\"type\":\"scattergl\"}],                        {\"template\":{\"data\":{\"bar\":[{\"error_x\":{\"color\":\"#2a3f5f\"},\"error_y\":{\"color\":\"#2a3f5f\"},\"marker\":{\"line\":{\"color\":\"#E5ECF6\",\"width\":0.5},\"pattern\":{\"fillmode\":\"overlay\",\"size\":10,\"solidity\":0.2}},\"type\":\"bar\"}],\"barpolar\":[{\"marker\":{\"line\":{\"color\":\"#E5ECF6\",\"width\":0.5},\"pattern\":{\"fillmode\":\"overlay\",\"size\":10,\"solidity\":0.2}},\"type\":\"barpolar\"}],\"carpet\":[{\"aaxis\":{\"endlinecolor\":\"#2a3f5f\",\"gridcolor\":\"white\",\"linecolor\":\"white\",\"minorgridcolor\":\"white\",\"startlinecolor\":\"#2a3f5f\"},\"baxis\":{\"endlinecolor\":\"#2a3f5f\",\"gridcolor\":\"white\",\"linecolor\":\"white\",\"minorgridcolor\":\"white\",\"startlinecolor\":\"#2a3f5f\"},\"type\":\"carpet\"}],\"choropleth\":[{\"colorbar\":{\"outlinewidth\":0,\"ticks\":\"\"},\"type\":\"choropleth\"}],\"contour\":[{\"colorbar\":{\"outlinewidth\":0,\"ticks\":\"\"},\"colorscale\":[[0.0,\"#0d0887\"],[0.1111111111111111,\"#46039f\"],[0.2222222222222222,\"#7201a8\"],[0.3333333333333333,\"#9c179e\"],[0.4444444444444444,\"#bd3786\"],[0.5555555555555556,\"#d8576b\"],[0.6666666666666666,\"#ed7953\"],[0.7777777777777778,\"#fb9f3a\"],[0.8888888888888888,\"#fdca26\"],[1.0,\"#f0f921\"]],\"type\":\"contour\"}],\"contourcarpet\":[{\"colorbar\":{\"outlinewidth\":0,\"ticks\":\"\"},\"type\":\"contourcarpet\"}],\"heatmap\":[{\"colorbar\":{\"outlinewidth\":0,\"ticks\":\"\"},\"colorscale\":[[0.0,\"#0d0887\"],[0.1111111111111111,\"#46039f\"],[0.2222222222222222,\"#7201a8\"],[0.3333333333333333,\"#9c179e\"],[0.4444444444444444,\"#bd3786\"],[0.5555555555555556,\"#d8576b\"],[0.6666666666666666,\"#ed7953\"],[0.7777777777777778,\"#fb9f3a\"],[0.8888888888888888,\"#fdca26\"],[1.0,\"#f0f921\"]],\"type\":\"heatmap\"}],\"heatmapgl\":[{\"colorbar\":{\"outlinewidth\":0,\"ticks\":\"\"},\"colorscale\":[[0.0,\"#0d0887\"],[0.1111111111111111,\"#46039f\"],[0.2222222222222222,\"#7201a8\"],[0.3333333333333333,\"#9c179e\"],[0.4444444444444444,\"#bd3786\"],[0.5555555555555556,\"#d8576b\"],[0.6666666666666666,\"#ed7953\"],[0.7777777777777778,\"#fb9f3a\"],[0.8888888888888888,\"#fdca26\"],[1.0,\"#f0f921\"]],\"type\":\"heatmapgl\"}],\"histogram\":[{\"marker\":{\"pattern\":{\"fillmode\":\"overlay\",\"size\":10,\"solidity\":0.2}},\"type\":\"histogram\"}],\"histogram2d\":[{\"colorbar\":{\"outlinewidth\":0,\"ticks\":\"\"},\"colorscale\":[[0.0,\"#0d0887\"],[0.1111111111111111,\"#46039f\"],[0.2222222222222222,\"#7201a8\"],[0.3333333333333333,\"#9c179e\"],[0.4444444444444444,\"#bd3786\"],[0.5555555555555556,\"#d8576b\"],[0.6666666666666666,\"#ed7953\"],[0.7777777777777778,\"#fb9f3a\"],[0.8888888888888888,\"#fdca26\"],[1.0,\"#f0f921\"]],\"type\":\"histogram2d\"}],\"histogram2dcontour\":[{\"colorbar\":{\"outlinewidth\":0,\"ticks\":\"\"},\"colorscale\":[[0.0,\"#0d0887\"],[0.1111111111111111,\"#46039f\"],[0.2222222222222222,\"#7201a8\"],[0.3333333333333333,\"#9c179e\"],[0.4444444444444444,\"#bd3786\"],[0.5555555555555556,\"#d8576b\"],[0.6666666666666666,\"#ed7953\"],[0.7777777777777778,\"#fb9f3a\"],[0.8888888888888888,\"#fdca26\"],[1.0,\"#f0f921\"]],\"type\":\"histogram2dcontour\"}],\"mesh3d\":[{\"colorbar\":{\"outlinewidth\":0,\"ticks\":\"\"},\"type\":\"mesh3d\"}],\"parcoords\":[{\"line\":{\"colorbar\":{\"outlinewidth\":0,\"ticks\":\"\"}},\"type\":\"parcoords\"}],\"pie\":[{\"automargin\":true,\"type\":\"pie\"}],\"scatter\":[{\"marker\":{\"colorbar\":{\"outlinewidth\":0,\"ticks\":\"\"}},\"type\":\"scatter\"}],\"scatter3d\":[{\"line\":{\"colorbar\":{\"outlinewidth\":0,\"ticks\":\"\"}},\"marker\":{\"colorbar\":{\"outlinewidth\":0,\"ticks\":\"\"}},\"type\":\"scatter3d\"}],\"scattercarpet\":[{\"marker\":{\"colorbar\":{\"outlinewidth\":0,\"ticks\":\"\"}},\"type\":\"scattercarpet\"}],\"scattergeo\":[{\"marker\":{\"colorbar\":{\"outlinewidth\":0,\"ticks\":\"\"}},\"type\":\"scattergeo\"}],\"scattergl\":[{\"marker\":{\"colorbar\":{\"outlinewidth\":0,\"ticks\":\"\"}},\"type\":\"scattergl\"}],\"scattermapbox\":[{\"marker\":{\"colorbar\":{\"outlinewidth\":0,\"ticks\":\"\"}},\"type\":\"scattermapbox\"}],\"scatterpolar\":[{\"marker\":{\"colorbar\":{\"outlinewidth\":0,\"ticks\":\"\"}},\"type\":\"scatterpolar\"}],\"scatterpolargl\":[{\"marker\":{\"colorbar\":{\"outlinewidth\":0,\"ticks\":\"\"}},\"type\":\"scatterpolargl\"}],\"scatterternary\":[{\"marker\":{\"colorbar\":{\"outlinewidth\":0,\"ticks\":\"\"}},\"type\":\"scatterternary\"}],\"surface\":[{\"colorbar\":{\"outlinewidth\":0,\"ticks\":\"\"},\"colorscale\":[[0.0,\"#0d0887\"],[0.1111111111111111,\"#46039f\"],[0.2222222222222222,\"#7201a8\"],[0.3333333333333333,\"#9c179e\"],[0.4444444444444444,\"#bd3786\"],[0.5555555555555556,\"#d8576b\"],[0.6666666666666666,\"#ed7953\"],[0.7777777777777778,\"#fb9f3a\"],[0.8888888888888888,\"#fdca26\"],[1.0,\"#f0f921\"]],\"type\":\"surface\"}],\"table\":[{\"cells\":{\"fill\":{\"color\":\"#EBF0F8\"},\"line\":{\"color\":\"white\"}},\"header\":{\"fill\":{\"color\":\"#C8D4E3\"},\"line\":{\"color\":\"white\"}},\"type\":\"table\"}]},\"layout\":{\"annotationdefaults\":{\"arrowcolor\":\"#2a3f5f\",\"arrowhead\":0,\"arrowwidth\":1},\"autotypenumbers\":\"strict\",\"coloraxis\":{\"colorbar\":{\"outlinewidth\":0,\"ticks\":\"\"}},\"colorscale\":{\"diverging\":[[0,\"#8e0152\"],[0.1,\"#c51b7d\"],[0.2,\"#de77ae\"],[0.3,\"#f1b6da\"],[0.4,\"#fde0ef\"],[0.5,\"#f7f7f7\"],[0.6,\"#e6f5d0\"],[0.7,\"#b8e186\"],[0.8,\"#7fbc41\"],[0.9,\"#4d9221\"],[1,\"#276419\"]],\"sequential\":[[0.0,\"#0d0887\"],[0.1111111111111111,\"#46039f\"],[0.2222222222222222,\"#7201a8\"],[0.3333333333333333,\"#9c179e\"],[0.4444444444444444,\"#bd3786\"],[0.5555555555555556,\"#d8576b\"],[0.6666666666666666,\"#ed7953\"],[0.7777777777777778,\"#fb9f3a\"],[0.8888888888888888,\"#fdca26\"],[1.0,\"#f0f921\"]],\"sequentialminus\":[[0.0,\"#0d0887\"],[0.1111111111111111,\"#46039f\"],[0.2222222222222222,\"#7201a8\"],[0.3333333333333333,\"#9c179e\"],[0.4444444444444444,\"#bd3786\"],[0.5555555555555556,\"#d8576b\"],[0.6666666666666666,\"#ed7953\"],[0.7777777777777778,\"#fb9f3a\"],[0.8888888888888888,\"#fdca26\"],[1.0,\"#f0f921\"]]},\"colorway\":[\"#636efa\",\"#EF553B\",\"#00cc96\",\"#ab63fa\",\"#FFA15A\",\"#19d3f3\",\"#FF6692\",\"#B6E880\",\"#FF97FF\",\"#FECB52\"],\"font\":{\"color\":\"#2a3f5f\"},\"geo\":{\"bgcolor\":\"white\",\"lakecolor\":\"white\",\"landcolor\":\"#E5ECF6\",\"showlakes\":true,\"showland\":true,\"subunitcolor\":\"white\"},\"hoverlabel\":{\"align\":\"left\"},\"hovermode\":\"closest\",\"mapbox\":{\"style\":\"light\"},\"paper_bgcolor\":\"white\",\"plot_bgcolor\":\"#E5ECF6\",\"polar\":{\"angularaxis\":{\"gridcolor\":\"white\",\"linecolor\":\"white\",\"ticks\":\"\"},\"bgcolor\":\"#E5ECF6\",\"radialaxis\":{\"gridcolor\":\"white\",\"linecolor\":\"white\",\"ticks\":\"\"}},\"scene\":{\"xaxis\":{\"backgroundcolor\":\"#E5ECF6\",\"gridcolor\":\"white\",\"gridwidth\":2,\"linecolor\":\"white\",\"showbackground\":true,\"ticks\":\"\",\"zerolinecolor\":\"white\"},\"yaxis\":{\"backgroundcolor\":\"#E5ECF6\",\"gridcolor\":\"white\",\"gridwidth\":2,\"linecolor\":\"white\",\"showbackground\":true,\"ticks\":\"\",\"zerolinecolor\":\"white\"},\"zaxis\":{\"backgroundcolor\":\"#E5ECF6\",\"gridcolor\":\"white\",\"gridwidth\":2,\"linecolor\":\"white\",\"showbackground\":true,\"ticks\":\"\",\"zerolinecolor\":\"white\"}},\"shapedefaults\":{\"line\":{\"color\":\"#2a3f5f\"}},\"ternary\":{\"aaxis\":{\"gridcolor\":\"white\",\"linecolor\":\"white\",\"ticks\":\"\"},\"baxis\":{\"gridcolor\":\"white\",\"linecolor\":\"white\",\"ticks\":\"\"},\"bgcolor\":\"#E5ECF6\",\"caxis\":{\"gridcolor\":\"white\",\"linecolor\":\"white\",\"ticks\":\"\"}},\"title\":{\"x\":0.05},\"xaxis\":{\"automargin\":true,\"gridcolor\":\"white\",\"linecolor\":\"white\",\"ticks\":\"\",\"title\":{\"standoff\":15},\"zerolinecolor\":\"white\",\"zerolinewidth\":2},\"yaxis\":{\"automargin\":true,\"gridcolor\":\"white\",\"linecolor\":\"white\",\"ticks\":\"\",\"title\":{\"standoff\":15},\"zerolinecolor\":\"white\",\"zerolinewidth\":2}}},\"xaxis\":{\"anchor\":\"y\",\"domain\":[0.0,1.0],\"title\":{\"text\":\"log_fc\"}},\"yaxis\":{\"anchor\":\"x\",\"domain\":[0.0,1.0],\"title\":{\"text\":\"log_pvalue\"},\"autorange\":\"reversed\"},\"legend\":{\"tracegroupgap\":0},\"margin\":{\"t\":60},\"shapes\":[{\"type\":\"line\",\"x0\":0,\"x1\":1,\"xref\":\"x domain\",\"y0\":-1.3,\"y1\":-1.3,\"yref\":\"y\"}]},                        {\"responsive\": true}                    ).then(function(){\n",
              "                            \n",
              "var gd = document.getElementById('ef1020e1-25af-4f6e-b717-e5dee8df192b');\n",
              "var x = new MutationObserver(function (mutations, observer) {{\n",
              "        var display = window.getComputedStyle(gd).display;\n",
              "        if (!display || display === 'none') {{\n",
              "            console.log([gd, 'removed!']);\n",
              "            Plotly.purge(gd);\n",
              "            observer.disconnect();\n",
              "        }}\n",
              "}});\n",
              "\n",
              "// Listen for the removal of the full notebook cells\n",
              "var notebookContainer = gd.closest('#notebook-container');\n",
              "if (notebookContainer) {{\n",
              "    x.observe(notebookContainer, {childList: true});\n",
              "}}\n",
              "\n",
              "// Listen for the clearing of the current output cell\n",
              "var outputEl = gd.closest('.output');\n",
              "if (outputEl) {{\n",
              "    x.observe(outputEl, {childList: true});\n",
              "}}\n",
              "\n",
              "                        })                };                            </script>        </div>\n",
              "</body>\n",
              "</html>"
            ]
          },
          "metadata": {}
        }
      ],
      "source": [
        "import plotly.express as px\n",
        "import math\n",
        "\n",
        "fig = px.scatter(merged_df2, x=\"log_fc\", y=\"log_pvalue\", hover_name=\"Locus tag\", hover_data=[\"Locus\", \"Protein Name\", \"log_fc\", 'pvalue', 'fold_change'])\n",
        "fig.add_hline(y=-1.3)\n",
        "fig.update_yaxes(autorange=\"reversed\")\n",
        "\n",
        "\n",
        "\n",
        "fig.show()"
      ]
    },
    {
      "cell_type": "code",
      "execution_count": 56,
      "metadata": {
        "colab": {
          "base_uri": "https://localhost:8080/",
          "height": 81
        },
        "outputId": "4ff7f6ff-872d-492d-aec4-552a1e0a3a78",
        "id": "90HRbGKrVmvx"
      },
      "outputs": [
        {
          "output_type": "execute_result",
          "data": {
            "text/plain": [
              "     Locus tag  fold_change  pvalue         Protein Name Locus\n",
              "1419   Rv2524c         0.49  0.0515  fatty acid synthase   fas"
            ],
            "text/html": [
              "\n",
              "  <div id=\"df-446cfa0f-eeab-4629-8a13-90be5fde4571\">\n",
              "    <div class=\"colab-df-container\">\n",
              "      <div>\n",
              "<style scoped>\n",
              "    .dataframe tbody tr th:only-of-type {\n",
              "        vertical-align: middle;\n",
              "    }\n",
              "\n",
              "    .dataframe tbody tr th {\n",
              "        vertical-align: top;\n",
              "    }\n",
              "\n",
              "    .dataframe thead th {\n",
              "        text-align: right;\n",
              "    }\n",
              "</style>\n",
              "<table border=\"1\" class=\"dataframe\">\n",
              "  <thead>\n",
              "    <tr style=\"text-align: right;\">\n",
              "      <th></th>\n",
              "      <th>Locus tag</th>\n",
              "      <th>fold_change</th>\n",
              "      <th>pvalue</th>\n",
              "      <th>Protein Name</th>\n",
              "      <th>Locus</th>\n",
              "    </tr>\n",
              "  </thead>\n",
              "  <tbody>\n",
              "    <tr>\n",
              "      <th>1419</th>\n",
              "      <td>Rv2524c</td>\n",
              "      <td>0.49</td>\n",
              "      <td>0.0515</td>\n",
              "      <td>fatty acid synthase</td>\n",
              "      <td>fas</td>\n",
              "    </tr>\n",
              "  </tbody>\n",
              "</table>\n",
              "</div>\n",
              "      <button class=\"colab-df-convert\" onclick=\"convertToInteractive('df-446cfa0f-eeab-4629-8a13-90be5fde4571')\"\n",
              "              title=\"Convert this dataframe to an interactive table.\"\n",
              "              style=\"display:none;\">\n",
              "        \n",
              "  <svg xmlns=\"http://www.w3.org/2000/svg\" height=\"24px\"viewBox=\"0 0 24 24\"\n",
              "       width=\"24px\">\n",
              "    <path d=\"M0 0h24v24H0V0z\" fill=\"none\"/>\n",
              "    <path d=\"M18.56 5.44l.94 2.06.94-2.06 2.06-.94-2.06-.94-.94-2.06-.94 2.06-2.06.94zm-11 1L8.5 8.5l.94-2.06 2.06-.94-2.06-.94L8.5 2.5l-.94 2.06-2.06.94zm10 10l.94 2.06.94-2.06 2.06-.94-2.06-.94-.94-2.06-.94 2.06-2.06.94z\"/><path d=\"M17.41 7.96l-1.37-1.37c-.4-.4-.92-.59-1.43-.59-.52 0-1.04.2-1.43.59L10.3 9.45l-7.72 7.72c-.78.78-.78 2.05 0 2.83L4 21.41c.39.39.9.59 1.41.59.51 0 1.02-.2 1.41-.59l7.78-7.78 2.81-2.81c.8-.78.8-2.07 0-2.86zM5.41 20L4 18.59l7.72-7.72 1.47 1.35L5.41 20z\"/>\n",
              "  </svg>\n",
              "      </button>\n",
              "      \n",
              "  <style>\n",
              "    .colab-df-container {\n",
              "      display:flex;\n",
              "      flex-wrap:wrap;\n",
              "      gap: 12px;\n",
              "    }\n",
              "\n",
              "    .colab-df-convert {\n",
              "      background-color: #E8F0FE;\n",
              "      border: none;\n",
              "      border-radius: 50%;\n",
              "      cursor: pointer;\n",
              "      display: none;\n",
              "      fill: #1967D2;\n",
              "      height: 32px;\n",
              "      padding: 0 0 0 0;\n",
              "      width: 32px;\n",
              "    }\n",
              "\n",
              "    .colab-df-convert:hover {\n",
              "      background-color: #E2EBFA;\n",
              "      box-shadow: 0px 1px 2px rgba(60, 64, 67, 0.3), 0px 1px 3px 1px rgba(60, 64, 67, 0.15);\n",
              "      fill: #174EA6;\n",
              "    }\n",
              "\n",
              "    [theme=dark] .colab-df-convert {\n",
              "      background-color: #3B4455;\n",
              "      fill: #D2E3FC;\n",
              "    }\n",
              "\n",
              "    [theme=dark] .colab-df-convert:hover {\n",
              "      background-color: #434B5C;\n",
              "      box-shadow: 0px 1px 3px 1px rgba(0, 0, 0, 0.15);\n",
              "      filter: drop-shadow(0px 1px 2px rgba(0, 0, 0, 0.3));\n",
              "      fill: #FFFFFF;\n",
              "    }\n",
              "  </style>\n",
              "\n",
              "      <script>\n",
              "        const buttonEl =\n",
              "          document.querySelector('#df-446cfa0f-eeab-4629-8a13-90be5fde4571 button.colab-df-convert');\n",
              "        buttonEl.style.display =\n",
              "          google.colab.kernel.accessAllowed ? 'block' : 'none';\n",
              "\n",
              "        async function convertToInteractive(key) {\n",
              "          const element = document.querySelector('#df-446cfa0f-eeab-4629-8a13-90be5fde4571');\n",
              "          const dataTable =\n",
              "            await google.colab.kernel.invokeFunction('convertToInteractive',\n",
              "                                                     [key], {});\n",
              "          if (!dataTable) return;\n",
              "\n",
              "          const docLinkHtml = 'Like what you see? Visit the ' +\n",
              "            '<a target=\"_blank\" href=https://colab.research.google.com/notebooks/data_table.ipynb>data table notebook</a>'\n",
              "            + ' to learn more about interactive tables.';\n",
              "          element.innerHTML = '';\n",
              "          dataTable['output_type'] = 'display_data';\n",
              "          await google.colab.output.renderOutput(dataTable, element);\n",
              "          const docLink = document.createElement('div');\n",
              "          docLink.innerHTML = docLinkHtml;\n",
              "          element.appendChild(docLink);\n",
              "        }\n",
              "      </script>\n",
              "    </div>\n",
              "  </div>\n",
              "  "
            ]
          },
          "metadata": {},
          "execution_count": 56
        }
      ],
      "source": [
        "merged_df2.loc[merged_df2['Locus'] == 'fas'][['Locus tag', 'fold_change', 'pvalue','Protein Name', 'Locus' ]]"
      ]
    },
    {
      "cell_type": "code",
      "execution_count": 57,
      "metadata": {
        "colab": {
          "base_uri": "https://localhost:8080/",
          "height": 81
        },
        "outputId": "1c93a4a9-77ed-44ec-bc68-4db762481e11",
        "id": "-_cTOFd1Vmvz"
      },
      "outputs": [
        {
          "output_type": "execute_result",
          "data": {
            "text/plain": [
              "     Locus tag  fold_change  pvalue                             Protein Name  \\\n",
              "1886   Rv3392c         0.79  0.0072  cyclopropane mycolic acid synthase CmaA   \n",
              "\n",
              "      Locus  \n",
              "1886  cmaA1  "
            ],
            "text/html": [
              "\n",
              "  <div id=\"df-2a390918-a1d8-4630-87ce-f241415ff2fd\">\n",
              "    <div class=\"colab-df-container\">\n",
              "      <div>\n",
              "<style scoped>\n",
              "    .dataframe tbody tr th:only-of-type {\n",
              "        vertical-align: middle;\n",
              "    }\n",
              "\n",
              "    .dataframe tbody tr th {\n",
              "        vertical-align: top;\n",
              "    }\n",
              "\n",
              "    .dataframe thead th {\n",
              "        text-align: right;\n",
              "    }\n",
              "</style>\n",
              "<table border=\"1\" class=\"dataframe\">\n",
              "  <thead>\n",
              "    <tr style=\"text-align: right;\">\n",
              "      <th></th>\n",
              "      <th>Locus tag</th>\n",
              "      <th>fold_change</th>\n",
              "      <th>pvalue</th>\n",
              "      <th>Protein Name</th>\n",
              "      <th>Locus</th>\n",
              "    </tr>\n",
              "  </thead>\n",
              "  <tbody>\n",
              "    <tr>\n",
              "      <th>1886</th>\n",
              "      <td>Rv3392c</td>\n",
              "      <td>0.79</td>\n",
              "      <td>0.0072</td>\n",
              "      <td>cyclopropane mycolic acid synthase CmaA</td>\n",
              "      <td>cmaA1</td>\n",
              "    </tr>\n",
              "  </tbody>\n",
              "</table>\n",
              "</div>\n",
              "      <button class=\"colab-df-convert\" onclick=\"convertToInteractive('df-2a390918-a1d8-4630-87ce-f241415ff2fd')\"\n",
              "              title=\"Convert this dataframe to an interactive table.\"\n",
              "              style=\"display:none;\">\n",
              "        \n",
              "  <svg xmlns=\"http://www.w3.org/2000/svg\" height=\"24px\"viewBox=\"0 0 24 24\"\n",
              "       width=\"24px\">\n",
              "    <path d=\"M0 0h24v24H0V0z\" fill=\"none\"/>\n",
              "    <path d=\"M18.56 5.44l.94 2.06.94-2.06 2.06-.94-2.06-.94-.94-2.06-.94 2.06-2.06.94zm-11 1L8.5 8.5l.94-2.06 2.06-.94-2.06-.94L8.5 2.5l-.94 2.06-2.06.94zm10 10l.94 2.06.94-2.06 2.06-.94-2.06-.94-.94-2.06-.94 2.06-2.06.94z\"/><path d=\"M17.41 7.96l-1.37-1.37c-.4-.4-.92-.59-1.43-.59-.52 0-1.04.2-1.43.59L10.3 9.45l-7.72 7.72c-.78.78-.78 2.05 0 2.83L4 21.41c.39.39.9.59 1.41.59.51 0 1.02-.2 1.41-.59l7.78-7.78 2.81-2.81c.8-.78.8-2.07 0-2.86zM5.41 20L4 18.59l7.72-7.72 1.47 1.35L5.41 20z\"/>\n",
              "  </svg>\n",
              "      </button>\n",
              "      \n",
              "  <style>\n",
              "    .colab-df-container {\n",
              "      display:flex;\n",
              "      flex-wrap:wrap;\n",
              "      gap: 12px;\n",
              "    }\n",
              "\n",
              "    .colab-df-convert {\n",
              "      background-color: #E8F0FE;\n",
              "      border: none;\n",
              "      border-radius: 50%;\n",
              "      cursor: pointer;\n",
              "      display: none;\n",
              "      fill: #1967D2;\n",
              "      height: 32px;\n",
              "      padding: 0 0 0 0;\n",
              "      width: 32px;\n",
              "    }\n",
              "\n",
              "    .colab-df-convert:hover {\n",
              "      background-color: #E2EBFA;\n",
              "      box-shadow: 0px 1px 2px rgba(60, 64, 67, 0.3), 0px 1px 3px 1px rgba(60, 64, 67, 0.15);\n",
              "      fill: #174EA6;\n",
              "    }\n",
              "\n",
              "    [theme=dark] .colab-df-convert {\n",
              "      background-color: #3B4455;\n",
              "      fill: #D2E3FC;\n",
              "    }\n",
              "\n",
              "    [theme=dark] .colab-df-convert:hover {\n",
              "      background-color: #434B5C;\n",
              "      box-shadow: 0px 1px 3px 1px rgba(0, 0, 0, 0.15);\n",
              "      filter: drop-shadow(0px 1px 2px rgba(0, 0, 0, 0.3));\n",
              "      fill: #FFFFFF;\n",
              "    }\n",
              "  </style>\n",
              "\n",
              "      <script>\n",
              "        const buttonEl =\n",
              "          document.querySelector('#df-2a390918-a1d8-4630-87ce-f241415ff2fd button.colab-df-convert');\n",
              "        buttonEl.style.display =\n",
              "          google.colab.kernel.accessAllowed ? 'block' : 'none';\n",
              "\n",
              "        async function convertToInteractive(key) {\n",
              "          const element = document.querySelector('#df-2a390918-a1d8-4630-87ce-f241415ff2fd');\n",
              "          const dataTable =\n",
              "            await google.colab.kernel.invokeFunction('convertToInteractive',\n",
              "                                                     [key], {});\n",
              "          if (!dataTable) return;\n",
              "\n",
              "          const docLinkHtml = 'Like what you see? Visit the ' +\n",
              "            '<a target=\"_blank\" href=https://colab.research.google.com/notebooks/data_table.ipynb>data table notebook</a>'\n",
              "            + ' to learn more about interactive tables.';\n",
              "          element.innerHTML = '';\n",
              "          dataTable['output_type'] = 'display_data';\n",
              "          await google.colab.output.renderOutput(dataTable, element);\n",
              "          const docLink = document.createElement('div');\n",
              "          docLink.innerHTML = docLinkHtml;\n",
              "          element.appendChild(docLink);\n",
              "        }\n",
              "      </script>\n",
              "    </div>\n",
              "  </div>\n",
              "  "
            ]
          },
          "metadata": {},
          "execution_count": 57
        }
      ],
      "source": [
        "merged_df2.loc[merged_df2['Locus tag'] == 'Rv3392c'][['Locus tag', 'fold_change', 'pvalue','Protein Name', 'Locus' ]]"
      ]
    },
    {
      "cell_type": "code",
      "execution_count": 58,
      "metadata": {
        "colab": {
          "base_uri": "https://localhost:8080/"
        },
        "outputId": "5fe263f7-b161-4b5b-be9c-c2f579a1fdde",
        "id": "3TYxEchkVmvz"
      },
      "outputs": [
        {
          "output_type": "stream",
          "name": "stdout",
          "text": [
            "Cantidad de proteínas sobreeexpresadas (fc > 1.3) =  80\n",
            "Cantidad de proteínas reprimidas (fc < 1.3) =  168\n",
            "Total de proteínas expresadas diferencialmente =  248\n"
          ]
        }
      ],
      "source": [
        "sobreexp = merged_df2[(merged_df2[\"pvalue\"] < 0.05)& (merged_df2[\"fold_change\"] > 1.3)].shape[0]\n",
        "repr = merged_df2[(merged_df2[\"pvalue\"] < 0.05)& (merged_df2[\"fold_change\"] < (1/1.3))].shape[0]\n",
        "cambiadas = sobreexp + repr\n",
        "\n",
        "print('Cantidad de proteínas sobreeexpresadas (fc > 1.3) = ', sobreexp)\n",
        "print('Cantidad de proteínas reprimidas (fc < 1.3) = ', repr)\n",
        "print('Total de proteínas expresadas diferencialmente = ', cambiadas)"
      ]
    },
    {
      "cell_type": "markdown",
      "source": [
        "Exportación. Remover # de la ultima fila para desacargar"
      ],
      "metadata": {
        "id": "E-yeE5EKYZGR"
      }
    },
    {
      "cell_type": "code",
      "source": [
        "simple_df2_locus = merged_df2[merged_df2['Locus tag'].notna()][['Locus tag','Locus','log_fc','fold_change','pvalue','Ra_UNIPROT','Fasta headers']].sort_values(by=['log_fc'])\n",
        "\n",
        "simple_df2_locus[['Locus tag','Locus','log_fc','pvalue']].to_csv('simple_df2_locus.csv', index=False)\n",
        "\n",
        "from google.colab import files\n",
        "# files.download(\"simple_df2_locus.csv\")"
      ],
      "metadata": {
        "id": "485qUKHzYH92"
      },
      "execution_count": 59,
      "outputs": []
    },
    {
      "cell_type": "markdown",
      "source": [
        "Comaparativa de los resultados en ambos procesamientos de algunas proteínas relevantes"
      ],
      "metadata": {
        "id": "8irm4YFXX9Qj"
      }
    },
    {
      "cell_type": "code",
      "source": [
        "prot_list = ['Rv1209','Rv1129c','Rv1131','Rv1130','Rv0467','Rv2930','Rv2941','Rv2940c','Rv0341',\n",
        "             'Rv0343','Rv0342','Rv0971c','Rv1219c','Rv1218c','Rv3087','Rv1425','Rv1426c',\n",
        "             'Rv1923','Rv0824c','Rv2247','Rv2482c' ,'Rv2187','Rv2244','Rv2245' ,'Rv2242','Rv2243',\n",
        "             'Rv2246','Rv3281','Rv0824c','Rv1679','Rv0458' ,'Rv0761c','Rv1862','Rv2335','Rv3089',\n",
        "             'Rv0166','Rv2524c','Rv0823c','Rv2187','Rv0971c','Rv0001','Rv2931','Rv2932','Rv2933',\n",
        "             'Rv2231c','Rv3208','Rv1493','Rv0914c','Rv0974c','RV3736','Rv1267c']"
      ],
      "metadata": {
        "id": "73fYSnGvTVjb"
      },
      "execution_count": 60,
      "outputs": []
    },
    {
      "cell_type": "code",
      "source": [
        "for prot in prot_list:\n",
        "  print('Locus tag:', prot)\n",
        "  print('Todas las muestras')\n",
        "  print(merged_df.loc[merged_df['Locus tag'] == prot][['fold_change', 'pvalue']])\n",
        "  print('Sin muestra 2')\n",
        "  print(merged_df2.loc[merged_df2['Locus tag'] == prot][['fold_change', 'pvalue']])\n",
        "\n",
        "  print('\\n')"
      ],
      "metadata": {
        "colab": {
          "base_uri": "https://localhost:8080/"
        },
        "id": "_93n0mOUTY1p",
        "outputId": "9c23e4d3-4ec9-4433-d974-2f1f5fe1280c"
      },
      "execution_count": 61,
      "outputs": [
        {
          "output_type": "stream",
          "name": "stdout",
          "text": [
            "Locus tag: Rv1209\n",
            "Todas las muestras\n",
            "     fold_change  pvalue\n",
            "701         3.45  0.0095\n",
            "Sin muestra 2\n",
            "     fold_change  pvalue\n",
            "695         3.05  0.0269\n",
            "\n",
            "\n",
            "Locus tag: Rv1129c\n",
            "Todas las muestras\n",
            "     fold_change  pvalue\n",
            "659         2.61  0.0007\n",
            "Sin muestra 2\n",
            "     fold_change  pvalue\n",
            "653         2.65  0.0027\n",
            "\n",
            "\n",
            "Locus tag: Rv1131\n",
            "Todas las muestras\n",
            "     fold_change  pvalue\n",
            "661         6.52   0.019\n",
            "Sin muestra 2\n",
            "     fold_change  pvalue\n",
            "655         5.25  0.0406\n",
            "\n",
            "\n",
            "Locus tag: Rv1130\n",
            "Todas las muestras\n",
            "     fold_change  pvalue\n",
            "660         6.52  0.0043\n",
            "Sin muestra 2\n",
            "     fold_change  pvalue\n",
            "654         5.94  0.0136\n",
            "\n",
            "\n",
            "Locus tag: Rv0467\n",
            "Todas las muestras\n",
            "     fold_change  pvalue\n",
            "282         3.39  0.0188\n",
            "Sin muestra 2\n",
            "     fold_change  pvalue\n",
            "279         3.53  0.0371\n",
            "\n",
            "\n",
            "Locus tag: Rv2930\n",
            "Todas las muestras\n",
            "      fold_change  pvalue\n",
            "1641         2.07  0.0276\n",
            "Sin muestra 2\n",
            "      fold_change  pvalue\n",
            "1628         2.28   0.029\n",
            "\n",
            "\n",
            "Locus tag: Rv2941\n",
            "Todas las muestras\n",
            "      fold_change  pvalue\n",
            "1649         1.37  0.0428\n",
            "Sin muestra 2\n",
            "      fold_change  pvalue\n",
            "1636         1.52  0.0116\n",
            "\n",
            "\n",
            "Locus tag: Rv2940c\n",
            "Todas las muestras\n",
            "      fold_change  pvalue\n",
            "1648         1.56  0.0461\n",
            "Sin muestra 2\n",
            "      fold_change  pvalue\n",
            "1635         1.76  0.0234\n",
            "\n",
            "\n",
            "Locus tag: Rv0341\n",
            "Todas las muestras\n",
            "     fold_change  pvalue\n",
            "207         8.01  0.0144\n",
            "Sin muestra 2\n",
            "     fold_change  pvalue\n",
            "204         7.36  0.0467\n",
            "\n",
            "\n",
            "Locus tag: Rv0343\n",
            "Todas las muestras\n",
            "     fold_change  pvalue\n",
            "209         1.97  0.0361\n",
            "Sin muestra 2\n",
            "     fold_change  pvalue\n",
            "206         2.09  0.0466\n",
            "\n",
            "\n",
            "Locus tag: Rv0342\n",
            "Todas las muestras\n",
            "     fold_change  pvalue\n",
            "208         1.74  0.0584\n",
            "Sin muestra 2\n",
            "     fold_change  pvalue\n",
            "205         2.01  0.0372\n",
            "\n",
            "\n",
            "Locus tag: Rv0971c\n",
            "Todas las muestras\n",
            "     fold_change  pvalue\n",
            "578         1.95  0.0206\n",
            "Sin muestra 2\n",
            "     fold_change  pvalue\n",
            "574         1.69  0.0173\n",
            "\n",
            "\n",
            "Locus tag: Rv1219c\n",
            "Todas las muestras\n",
            "     fold_change  pvalue\n",
            "707         1.71  0.0591\n",
            "Sin muestra 2\n",
            "     fold_change  pvalue\n",
            "701         1.45  0.0833\n",
            "\n",
            "\n",
            "Locus tag: Rv1218c\n",
            "Todas las muestras\n",
            "     fold_change  pvalue\n",
            "706         1.72  0.0105\n",
            "Sin muestra 2\n",
            "     fold_change  pvalue\n",
            "700         1.57  0.0189\n",
            "\n",
            "\n",
            "Locus tag: Rv3087\n",
            "Todas las muestras\n",
            "      fold_change  pvalue\n",
            "1739          0.6  0.0292\n",
            "Sin muestra 2\n",
            "      fold_change  pvalue\n",
            "1726         0.58  0.0531\n",
            "\n",
            "\n",
            "Locus tag: Rv1425\n",
            "Todas las muestras\n",
            "     fold_change  pvalue\n",
            "841         0.56  0.0189\n",
            "Sin muestra 2\n",
            "     fold_change  pvalue\n",
            "835         0.59  0.0504\n",
            "\n",
            "\n",
            "Locus tag: Rv1426c\n",
            "Todas las muestras\n",
            "     fold_change  pvalue\n",
            "842          0.6  0.0326\n",
            "Sin muestra 2\n",
            "     fold_change  pvalue\n",
            "836          0.6  0.0684\n",
            "\n",
            "\n",
            "Locus tag: Rv1923\n",
            "Todas las muestras\n",
            "      fold_change  pvalue\n",
            "1115         0.57  0.0024\n",
            "Sin muestra 2\n",
            "      fold_change  pvalue\n",
            "1107         0.59  0.0087\n",
            "\n",
            "\n",
            "Locus tag: Rv0824c\n",
            "Todas las muestras\n",
            "     fold_change  pvalue\n",
            "501          0.6  0.0029\n",
            "Sin muestra 2\n",
            "     fold_change  pvalue\n",
            "498         0.62  0.0102\n",
            "\n",
            "\n",
            "Locus tag: Rv2247\n",
            "Todas las muestras\n",
            "      fold_change  pvalue\n",
            "1286         0.58  0.0104\n",
            "Sin muestra 2\n",
            "      fold_change  pvalue\n",
            "1277          0.6  0.0304\n",
            "\n",
            "\n",
            "Locus tag: Rv2482c\n",
            "Todas las muestras\n",
            "      fold_change  pvalue\n",
            "1408         0.65  0.0294\n",
            "Sin muestra 2\n",
            "      fold_change  pvalue\n",
            "1396         0.73  0.0606\n",
            "\n",
            "\n",
            "Locus tag: Rv2187\n",
            "Todas las muestras\n",
            "      fold_change  pvalue\n",
            "1239          0.7    0.01\n",
            "Sin muestra 2\n",
            "      fold_change  pvalue\n",
            "1230         0.74  0.0226\n",
            "\n",
            "\n",
            "Locus tag: Rv2244\n",
            "Todas las muestras\n",
            "      fold_change  pvalue\n",
            "1283         0.69  0.0435\n",
            "Sin muestra 2\n",
            "      fold_change  pvalue\n",
            "1274         0.64  0.0162\n",
            "\n",
            "\n",
            "Locus tag: Rv2245\n",
            "Todas las muestras\n",
            "      fold_change  pvalue\n",
            "1284         0.73  0.0273\n",
            "Sin muestra 2\n",
            "      fold_change  pvalue\n",
            "1275         0.77  0.0691\n",
            "\n",
            "\n",
            "Locus tag: Rv2242\n",
            "Todas las muestras\n",
            "      fold_change  pvalue\n",
            "1281         0.49  0.0001\n",
            "Sin muestra 2\n",
            "      fold_change  pvalue\n",
            "1272         0.51  0.0004\n",
            "\n",
            "\n",
            "Locus tag: Rv2243\n",
            "Todas las muestras\n",
            "      fold_change  pvalue\n",
            "1282         0.92  0.8042\n",
            "Sin muestra 2\n",
            "      fold_change  pvalue\n",
            "1273         0.81   0.105\n",
            "\n",
            "\n",
            "Locus tag: Rv2246\n",
            "Todas las muestras\n",
            "      fold_change  pvalue\n",
            "1285         0.75  0.0592\n",
            "Sin muestra 2\n",
            "      fold_change  pvalue\n",
            "1276         0.74  0.1005\n",
            "\n",
            "\n",
            "Locus tag: Rv3281\n",
            "Todas las muestras\n",
            "      fold_change  pvalue\n",
            "1844         1.72  0.0091\n",
            "Sin muestra 2\n",
            "      fold_change  pvalue\n",
            "1831         1.53  0.0002\n",
            "\n",
            "\n",
            "Locus tag: Rv0824c\n",
            "Todas las muestras\n",
            "     fold_change  pvalue\n",
            "501          0.6  0.0029\n",
            "Sin muestra 2\n",
            "     fold_change  pvalue\n",
            "498         0.62  0.0102\n",
            "\n",
            "\n",
            "Locus tag: Rv1679\n",
            "Todas las muestras\n",
            "     fold_change  pvalue\n",
            "987         0.64  0.0004\n",
            "Sin muestra 2\n",
            "     fold_change  pvalue\n",
            "979         0.63  0.0013\n",
            "\n",
            "\n",
            "Locus tag: Rv0458\n",
            "Todas las muestras\n",
            "     fold_change  pvalue\n",
            "276         0.53  0.0009\n",
            "Sin muestra 2\n",
            "     fold_change  pvalue\n",
            "273         0.55  0.0036\n",
            "\n",
            "\n",
            "Locus tag: Rv0761c\n",
            "Todas las muestras\n",
            "     fold_change  pvalue\n",
            "455         0.58  0.0005\n",
            "Sin muestra 2\n",
            "     fold_change  pvalue\n",
            "452         0.61   0.001\n",
            "\n",
            "\n",
            "Locus tag: Rv1862\n",
            "Todas las muestras\n",
            "      fold_change  pvalue\n",
            "1083         0.71  0.0246\n",
            "Sin muestra 2\n",
            "      fold_change  pvalue\n",
            "1075         0.72  0.0557\n",
            "\n",
            "\n",
            "Locus tag: Rv2335\n",
            "Todas las muestras\n",
            "      fold_change  pvalue\n",
            "1324         0.59  0.0355\n",
            "Sin muestra 2\n",
            "      fold_change  pvalue\n",
            "1314         0.53  0.0215\n",
            "\n",
            "\n",
            "Locus tag: Rv3089\n",
            "Todas las muestras\n",
            "      fold_change  pvalue\n",
            "1741         0.78  0.0054\n",
            "Sin muestra 2\n",
            "      fold_change  pvalue\n",
            "1728         0.82  0.0037\n",
            "\n",
            "\n",
            "Locus tag: Rv0166\n",
            "Todas las muestras\n",
            "    fold_change  pvalue\n",
            "99         0.51  0.0053\n",
            "Sin muestra 2\n",
            "    fold_change  pvalue\n",
            "96         0.51  0.0165\n",
            "\n",
            "\n",
            "Locus tag: Rv2524c\n",
            "Todas las muestras\n",
            "      fold_change  pvalue\n",
            "1431         0.37  0.0254\n",
            "Sin muestra 2\n",
            "      fold_change  pvalue\n",
            "1419         0.49  0.0515\n",
            "\n",
            "\n",
            "Locus tag: Rv0823c\n",
            "Todas las muestras\n",
            "     fold_change  pvalue\n",
            "500         0.65  0.0073\n",
            "Sin muestra 2\n",
            "     fold_change  pvalue\n",
            "497         0.69   0.019\n",
            "\n",
            "\n",
            "Locus tag: Rv2187\n",
            "Todas las muestras\n",
            "      fold_change  pvalue\n",
            "1239          0.7    0.01\n",
            "Sin muestra 2\n",
            "      fold_change  pvalue\n",
            "1230         0.74  0.0226\n",
            "\n",
            "\n",
            "Locus tag: Rv0971c\n",
            "Todas las muestras\n",
            "     fold_change  pvalue\n",
            "578         1.95  0.0206\n",
            "Sin muestra 2\n",
            "     fold_change  pvalue\n",
            "574         1.69  0.0173\n",
            "\n",
            "\n",
            "Locus tag: Rv0001\n",
            "Todas las muestras\n",
            "   fold_change  pvalue\n",
            "0         0.74  0.0061\n",
            "Sin muestra 2\n",
            "   fold_change  pvalue\n",
            "0         0.78   0.006\n",
            "\n",
            "\n",
            "Locus tag: Rv2931\n",
            "Todas las muestras\n",
            "      fold_change  pvalue\n",
            "1642          2.0  0.0101\n",
            "Sin muestra 2\n",
            "      fold_change  pvalue\n",
            "1629         2.26  0.0066\n",
            "\n",
            "\n",
            "Locus tag: Rv2932\n",
            "Todas las muestras\n",
            "      fold_change  pvalue\n",
            "1643         1.88   0.009\n",
            "Sin muestra 2\n",
            "      fold_change  pvalue\n",
            "1630         2.13  0.0041\n",
            "\n",
            "\n",
            "Locus tag: Rv2933\n",
            "Todas las muestras\n",
            "      fold_change  pvalue\n",
            "1644         1.47  0.0475\n",
            "Sin muestra 2\n",
            "      fold_change  pvalue\n",
            "1631         1.62  0.0283\n",
            "\n",
            "\n",
            "Locus tag: Rv2231c\n",
            "Todas las muestras\n",
            "      fold_change  pvalue\n",
            "1274         0.63  0.0056\n",
            "Sin muestra 2\n",
            "      fold_change  pvalue\n",
            "1265         0.59  0.0029\n",
            "\n",
            "\n",
            "Locus tag: Rv3208\n",
            "Todas las muestras\n",
            "      fold_change  pvalue\n",
            "1795         0.82  0.2139\n",
            "Sin muestra 2\n",
            "      fold_change  pvalue\n",
            "1782         0.75  0.0229\n",
            "\n",
            "\n",
            "Locus tag: Rv1493\n",
            "Todas las muestras\n",
            "     fold_change  pvalue\n",
            "883         0.72  0.0359\n",
            "Sin muestra 2\n",
            "     fold_change  pvalue\n",
            "877         0.81  0.0166\n",
            "\n",
            "\n",
            "Locus tag: Rv0914c\n",
            "Todas las muestras\n",
            "     fold_change  pvalue\n",
            "548         0.66  0.0103\n",
            "Sin muestra 2\n",
            "     fold_change  pvalue\n",
            "544         0.66  0.0283\n",
            "\n",
            "\n",
            "Locus tag: Rv0974c\n",
            "Todas las muestras\n",
            "     fold_change  pvalue\n",
            "581         1.51  0.0127\n",
            "Sin muestra 2\n",
            "     fold_change  pvalue\n",
            "577         1.54   0.025\n",
            "\n",
            "\n",
            "Locus tag: RV3736\n",
            "Todas las muestras\n",
            "Empty DataFrame\n",
            "Columns: [fold_change, pvalue]\n",
            "Index: []\n",
            "Sin muestra 2\n",
            "Empty DataFrame\n",
            "Columns: [fold_change, pvalue]\n",
            "Index: []\n",
            "\n",
            "\n",
            "Locus tag: Rv1267c\n",
            "Todas las muestras\n",
            "     fold_change  pvalue\n",
            "738         0.72  0.0028\n",
            "Sin muestra 2\n",
            "     fold_change  pvalue\n",
            "732         0.71  0.0074\n",
            "\n",
            "\n"
          ]
        }
      ]
    }
  ],
  "metadata": {
    "colab": {
      "collapsed_sections": [],
      "provenance": [],
      "authorship_tag": "ABX9TyOTT/TTOOfUIheMOcbL4jrf",
      "include_colab_link": true
    },
    "kernelspec": {
      "display_name": "Python 3",
      "name": "python3"
    },
    "language_info": {
      "name": "python"
    }
  },
  "nbformat": 4,
  "nbformat_minor": 0
}